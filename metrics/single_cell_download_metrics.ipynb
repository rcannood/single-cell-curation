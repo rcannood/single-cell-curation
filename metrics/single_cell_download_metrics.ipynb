{
 "cells": [
  {
   "cell_type": "code",
   "execution_count": 146,
   "id": "505cf811",
   "metadata": {
    "extensions": {
     "jupyter_dashboards": {
      "version": 1,
      "views": {
       "grid_default": {},
       "report_default": {
        "hidden": true
       }
      }
     }
    }
   },
   "outputs": [],
   "source": [
    "import pandas as pd\n",
    "import requests\n",
    "import plotly.graph_objects as go\n",
    "import plotly.express as px\n",
    "import datetime\n",
    "import numpy as np"
   ]
  },
  {
   "cell_type": "code",
   "execution_count": 2,
   "id": "8b9e95e0",
   "metadata": {
    "extensions": {
     "jupyter_dashboards": {
      "version": 1,
      "views": {
       "grid_default": {},
       "report_default": {
        "hidden": true
       }
      }
     }
    }
   },
   "outputs": [],
   "source": [
    "def get_collection_info(collection_id):\n",
    "    collection_info_response = requests.get(f\"https://api.cellxgene.cziscience.com/dp/v1/collections/{collection_id}\")\n",
    "    collection_info = collection_info_response.json()\n",
    "    return collection_info"
   ]
  },
  {
   "cell_type": "code",
   "execution_count": 3,
   "id": "85ec2cc2",
   "metadata": {
    "extensions": {
     "jupyter_dashboards": {
      "version": 1,
      "views": {
       "grid_default": {},
       "report_default": {
        "hidden": true
       }
      }
     }
    }
   },
   "outputs": [],
   "source": [
    "# get data \n",
    "response = requests.get(\"https://api.cellxgene.cziscience.com/dp/v1/collections\")\n",
    "collections = response.json()[\"collections\"]\n",
    "\n",
    "data = [get_collection_info(c[\"id\"]) for c in collections]"
   ]
  },
  {
   "cell_type": "code",
   "execution_count": 4,
   "id": "83237772",
   "metadata": {
    "extensions": {
     "jupyter_dashboards": {
      "version": 1,
      "views": {
       "grid_default": {},
       "report_default": {
        "hidden": true
       }
      }
     }
    }
   },
   "outputs": [],
   "source": [
    "# create collection table \n",
    "collection_id = []\n",
    "collection_dt = []\n",
    "collection_name = []\n",
    "\n",
    "for collection in data:\n",
    "    collection_id.append(collection['id'])\n",
    "    collection_dt.append(collection['created_at'])\n",
    "    collection_name.append(collection['name'])\n",
    "\n",
    "collections_df = pd.DataFrame({'collection_id': collection_id, 'collection_dt': collection_dt, 'collection_name': collection_name})\n",
    "collections_df['collection_dt'] = pd.to_datetime(collections_df['collection_dt'] , unit='s')"
   ]
  },
  {
   "cell_type": "code",
   "execution_count": 5,
   "id": "8dbc73fa",
   "metadata": {
    "extensions": {
     "jupyter_dashboards": {
      "version": 1,
      "views": {
       "grid_default": {},
       "report_default": {
        "hidden": true
       }
      }
     }
    }
   },
   "outputs": [],
   "source": [
    "# create dataset table \n",
    "keys_w_label = ['assay', 'development_stage', 'disease', 'ethnicity', 'tissue']\n",
    "keys_wo_label = ['collection_id', 'id', 'name', 'sex', 'cell_count', 'created_at']\n",
    "dataset_data = []\n",
    "\n",
    "for c in data:\n",
    "    for d in c['datasets']:\n",
    "        keys = d.keys()\n",
    "        keys_wo_labels_new = list(set(keys) & set(keys_wo_label))\n",
    "        dict_updated = {key: d[key] for key in keys_wo_labels_new}\n",
    "        keys_w_labels_new = list(set(keys) & set(keys_w_label))\n",
    "        for key in keys_w_labels_new:\n",
    "            dict_temp = {key: [i['label'] for i in d[key]]}\n",
    "            dict_updated.update(dict_temp)\n",
    "        dict_updated.update({'organism': d['organism']['label']})\n",
    "        dataset_data.append(dict_updated)\n",
    "\n",
    "datasets_df = pd.DataFrame(dataset_data)\n",
    "datasets_df = datasets_df.rename(columns = {'id': 'dataset_id', 'name': 'dataset_name', 'created_at': 'dataset_dt'})\n",
    "datasets_df['dataset_dt'] = pd.to_datetime(datasets_df['dataset_dt'], unit='s')"
   ]
  },
  {
   "cell_type": "code",
   "execution_count": 6,
   "id": "51ab18be",
   "metadata": {
    "extensions": {
     "jupyter_dashboards": {
      "version": 1,
      "views": {
       "grid_default": {},
       "report_default": {
        "hidden": true
       }
      }
     }
    }
   },
   "outputs": [],
   "source": [
    "dataset_id_to_name = datasets_df[['dataset_name', 'dataset_id', 'dataset_dt']]"
   ]
  },
  {
   "cell_type": "code",
   "execution_count": 7,
   "id": "642d9c27",
   "metadata": {
    "extensions": {
     "jupyter_dashboards": {
      "version": 1,
      "views": {
       "grid_default": {},
       "report_default": {
        "hidden": true
       }
      }
     }
    }
   },
   "outputs": [],
   "source": [
    "# downloads data\n",
    "downloads_df = pd.read_csv('download_data.csv')\n",
    "\n",
    "# remove downloads from datasets no longer on the platform\n",
    "downloads_df = downloads_df[downloads_df['filetype'].notnull()].reset_index()\n",
    "\n",
    "# remove downloads with bytessent == 1 \n",
    "downloads_df = downloads_df[downloads_df['bytessent'] > 1].reset_index()\n",
    "\n",
    "# remove downloads from myself(ip address = 71.200.124.31)\n",
    "downloads_df = downloads_df[downloads_df['remoteip'] != '71.200.124.31']\n",
    "\n",
    "# process datetime \n",
    "downloads_df['download_datetime'] = pd.to_datetime(downloads_df['download_datetime'], format='%d/%b/%Y:%H:%M:%S %z')\n",
    "downloads_df['download_dt'] = downloads_df['download_datetime'].dt.date\n",
    "\n",
    "downloads_df = downloads_df[['dataset_id', 'download_datetime', 'download_dt', 'filetype', 'remoteip', 'download_agent']].reset_index(drop = True)\n",
    "\n",
    "downloads_df['total_downloads'] = 1\n",
    "\n",
    "downloads_df = downloads_df.groupby(['dataset_id', 'download_dt', 'filetype', 'remoteip', 'download_agent']).sum().reset_index()\n"
   ]
  },
  {
   "cell_type": "code",
   "execution_count": 8,
   "id": "158fc390",
   "metadata": {
    "extensions": {
     "jupyter_dashboards": {
      "version": 1,
      "views": {
       "grid_default": {},
       "report_default": {
        "hidden": true
       }
      }
     }
    }
   },
   "outputs": [],
   "source": [
    "# limit to downloads of datasets on the platform \n",
    "combined = dataset_id_to_name.merge(downloads_df, how = 'inner', on = 'dataset_id')\n",
    "combined['count'] = 1"
   ]
  },
  {
   "cell_type": "markdown",
   "id": "6fc87a59",
   "metadata": {
    "extensions": {
     "jupyter_dashboards": {
      "version": 1,
      "views": {
       "grid_default": {},
       "report_default": {
        "hidden": false
       }
      }
     }
    }
   },
   "source": [
    "# Single cell download metrics"
   ]
  },
  {
   "cell_type": "markdown",
   "id": "9cef52b5",
   "metadata": {
    "extensions": {
     "jupyter_dashboards": {
      "version": 1,
      "views": {
       "grid_default": {},
       "report_default": {
        "hidden": false
       }
      }
     }
    }
   },
   "source": [
    "## Downloads over time\n"
   ]
  },
  {
   "cell_type": "code",
   "execution_count": 84,
   "id": "4993ce41",
   "metadata": {
    "extensions": {
     "jupyter_dashboards": {
      "version": 1,
      "views": {
       "grid_default": {},
       "report_default": {
        "hidden": true
       }
      }
     }
    }
   },
   "outputs": [],
   "source": [
    "downloads = combined[['download_dt', 'remoteip', 'dataset_id']].drop_duplicates()\n",
    "downloads['count'] = 1\n",
    "downloads['download_dt'] = pd.to_datetime(downloads['download_dt'])"
   ]
  },
  {
   "cell_type": "markdown",
   "id": "ebf4f0fc",
   "metadata": {
    "extensions": {
     "jupyter_dashboards": {
      "version": 1,
      "views": {
       "grid_default": {},
       "report_default": {
        "hidden": false
       }
      }
     }
    }
   },
   "source": [
    "##### Total number of downloads"
   ]
  },
  {
   "cell_type": "code",
   "execution_count": 85,
   "id": "2984f527",
   "metadata": {
    "extensions": {
     "jupyter_dashboards": {
      "version": 1,
      "views": {
       "grid_default": {},
       "report_default": {
        "hidden": false
       }
      }
     }
    }
   },
   "outputs": [
    {
     "name": "stdout",
     "output_type": "stream",
     "text": [
      "1,753\n"
     ]
    }
   ],
   "source": [
    "total_downloads = downloads['count'].sum()\n",
    "print(\"{:,}\".format(total_downloads))"
   ]
  },
  {
   "cell_type": "markdown",
   "id": "3fe4a421",
   "metadata": {
    "extensions": {
     "jupyter_dashboards": {
      "version": 1,
      "views": {
       "grid_default": {},
       "report_default": {
        "hidden": false
       }
      }
     }
    }
   },
   "source": [
    "#####  Downloads by month"
   ]
  },
  {
   "cell_type": "code",
   "execution_count": 86,
   "id": "72459f65",
   "metadata": {
    "extensions": {
     "jupyter_dashboards": {
      "version": 1,
      "views": {
       "grid_default": {},
       "report_default": {
        "hidden": false
       }
      }
     }
    }
   },
   "outputs": [
    {
     "data": {
      "text/html": [
       "<div>\n",
       "<style scoped>\n",
       "    .dataframe tbody tr th:only-of-type {\n",
       "        vertical-align: middle;\n",
       "    }\n",
       "\n",
       "    .dataframe tbody tr th {\n",
       "        vertical-align: top;\n",
       "    }\n",
       "\n",
       "    .dataframe thead th {\n",
       "        text-align: right;\n",
       "    }\n",
       "</style>\n",
       "<table border=\"1\" class=\"dataframe\">\n",
       "  <thead>\n",
       "    <tr style=\"text-align: right;\">\n",
       "      <th></th>\n",
       "      <th>month</th>\n",
       "      <th>year</th>\n",
       "      <th>count</th>\n",
       "    </tr>\n",
       "  </thead>\n",
       "  <tbody>\n",
       "    <tr>\n",
       "      <th>0</th>\n",
       "      <td>4</td>\n",
       "      <td>2021</td>\n",
       "      <td>51</td>\n",
       "    </tr>\n",
       "    <tr>\n",
       "      <th>1</th>\n",
       "      <td>5</td>\n",
       "      <td>2021</td>\n",
       "      <td>378</td>\n",
       "    </tr>\n",
       "    <tr>\n",
       "      <th>2</th>\n",
       "      <td>6</td>\n",
       "      <td>2021</td>\n",
       "      <td>560</td>\n",
       "    </tr>\n",
       "    <tr>\n",
       "      <th>3</th>\n",
       "      <td>7</td>\n",
       "      <td>2021</td>\n",
       "      <td>636</td>\n",
       "    </tr>\n",
       "    <tr>\n",
       "      <th>4</th>\n",
       "      <td>8</td>\n",
       "      <td>2021</td>\n",
       "      <td>128</td>\n",
       "    </tr>\n",
       "  </tbody>\n",
       "</table>\n",
       "</div>"
      ],
      "text/plain": [
       "   month  year  count\n",
       "0      4  2021     51\n",
       "1      5  2021    378\n",
       "2      6  2021    560\n",
       "3      7  2021    636\n",
       "4      8  2021    128"
      ]
     },
     "execution_count": 86,
     "metadata": {},
     "output_type": "execute_result"
    }
   ],
   "source": [
    "downloads_by_month['month'] = downloads_by_month['download_dt'].dt.month\n",
    "downloads_by_month['year'] = downloads_by_month['download_dt'].dt.year\n",
    "downloads_by_month.groupby(['month', 'year']).sum().reset_index()"
   ]
  },
  {
   "cell_type": "code",
   "execution_count": 87,
   "id": "fa423a21",
   "metadata": {
    "extensions": {
     "jupyter_dashboards": {
      "version": 1,
      "views": {
       "grid_default": {},
       "report_default": {
        "hidden": false
       }
      }
     }
    }
   },
   "outputs": [
    {
     "data": {
      "application/vnd.plotly.v1+json": {
       "config": {
        "plotlyServerURL": "https://plot.ly"
       },
       "data": [
        {
         "mode": "lines+markers",
         "type": "scatter",
         "x": [
          "2021-04-23T00:00:00",
          "2021-04-24T00:00:00",
          "2021-04-26T00:00:00",
          "2021-04-27T00:00:00",
          "2021-04-28T00:00:00",
          "2021-04-29T00:00:00",
          "2021-04-30T00:00:00",
          "2021-05-01T00:00:00",
          "2021-05-02T00:00:00",
          "2021-05-03T00:00:00",
          "2021-05-04T00:00:00",
          "2021-05-05T00:00:00",
          "2021-05-06T00:00:00",
          "2021-05-10T00:00:00",
          "2021-05-11T00:00:00",
          "2021-05-12T00:00:00",
          "2021-05-13T00:00:00",
          "2021-05-14T00:00:00",
          "2021-05-15T00:00:00",
          "2021-05-18T00:00:00",
          "2021-05-19T00:00:00",
          "2021-05-20T00:00:00",
          "2021-05-21T00:00:00",
          "2021-05-22T00:00:00",
          "2021-05-23T00:00:00",
          "2021-05-24T00:00:00",
          "2021-05-25T00:00:00",
          "2021-05-26T00:00:00",
          "2021-05-27T00:00:00",
          "2021-05-28T00:00:00",
          "2021-05-29T00:00:00",
          "2021-05-30T00:00:00",
          "2021-05-31T00:00:00",
          "2021-06-01T00:00:00",
          "2021-06-02T00:00:00",
          "2021-06-03T00:00:00",
          "2021-06-04T00:00:00",
          "2021-06-05T00:00:00",
          "2021-06-06T00:00:00",
          "2021-06-07T00:00:00",
          "2021-06-08T00:00:00",
          "2021-06-09T00:00:00",
          "2021-06-10T00:00:00",
          "2021-06-11T00:00:00",
          "2021-06-12T00:00:00",
          "2021-06-14T00:00:00",
          "2021-06-15T00:00:00",
          "2021-06-16T00:00:00",
          "2021-06-17T00:00:00",
          "2021-06-18T00:00:00",
          "2021-06-19T00:00:00",
          "2021-06-20T00:00:00",
          "2021-06-21T00:00:00",
          "2021-06-22T00:00:00",
          "2021-06-23T00:00:00",
          "2021-06-24T00:00:00",
          "2021-06-25T00:00:00",
          "2021-06-26T00:00:00",
          "2021-06-28T00:00:00",
          "2021-06-29T00:00:00",
          "2021-06-30T00:00:00",
          "2021-07-01T00:00:00",
          "2021-07-02T00:00:00",
          "2021-07-03T00:00:00",
          "2021-07-05T00:00:00",
          "2021-07-06T00:00:00",
          "2021-07-07T00:00:00",
          "2021-07-08T00:00:00",
          "2021-07-09T00:00:00",
          "2021-07-11T00:00:00",
          "2021-07-12T00:00:00",
          "2021-07-13T00:00:00",
          "2021-07-14T00:00:00",
          "2021-07-15T00:00:00",
          "2021-07-16T00:00:00",
          "2021-07-17T00:00:00",
          "2021-07-18T00:00:00",
          "2021-07-19T00:00:00",
          "2021-07-20T00:00:00",
          "2021-07-21T00:00:00",
          "2021-07-22T00:00:00",
          "2021-07-23T00:00:00",
          "2021-07-24T00:00:00",
          "2021-07-26T00:00:00",
          "2021-07-27T00:00:00",
          "2021-07-28T00:00:00",
          "2021-07-29T00:00:00",
          "2021-07-30T00:00:00",
          "2021-07-31T00:00:00",
          "2021-08-01T00:00:00",
          "2021-08-02T00:00:00",
          "2021-08-03T00:00:00",
          "2021-08-04T00:00:00",
          "2021-08-05T00:00:00",
          "2021-08-06T00:00:00",
          "2021-08-07T00:00:00",
          "2021-08-08T00:00:00",
          "2021-08-09T00:00:00",
          "2021-08-10T00:00:00",
          "2021-08-11T00:00:00",
          "2021-08-12T00:00:00",
          "2021-08-13T00:00:00",
          "2021-08-15T00:00:00",
          "2021-08-16T00:00:00",
          "2021-08-17T00:00:00",
          "2021-08-18T00:00:00"
         ],
         "y": [
          3,
          13,
          16,
          26,
          40,
          47,
          51,
          52,
          55,
          58,
          63,
          78,
          79,
          88,
          91,
          94,
          103,
          112,
          113,
          119,
          169,
          179,
          245,
          247,
          251,
          263,
          268,
          285,
          293,
          415,
          422,
          426,
          429,
          438,
          439,
          450,
          477,
          572,
          602,
          604,
          609,
          640,
          721,
          722,
          724,
          734,
          857,
          861,
          884,
          913,
          919,
          924,
          945,
          948,
          950,
          958,
          964,
          965,
          981,
          988,
          989,
          995,
          1012,
          1013,
          1018,
          1024,
          1043,
          1046,
          1160,
          1161,
          1169,
          1173,
          1244,
          1253,
          1258,
          1336,
          1377,
          1394,
          1412,
          1417,
          1426,
          1501,
          1502,
          1507,
          1514,
          1527,
          1540,
          1620,
          1625,
          1629,
          1638,
          1677,
          1694,
          1703,
          1707,
          1711,
          1712,
          1715,
          1720,
          1727,
          1731,
          1742,
          1744,
          1748,
          1751,
          1753
         ]
        }
       ],
       "layout": {
        "template": {
         "data": {
          "bar": [
           {
            "error_x": {
             "color": "#2a3f5f"
            },
            "error_y": {
             "color": "#2a3f5f"
            },
            "marker": {
             "line": {
              "color": "#E5ECF6",
              "width": 0.5
             },
             "pattern": {
              "fillmode": "overlay",
              "size": 10,
              "solidity": 0.2
             }
            },
            "type": "bar"
           }
          ],
          "barpolar": [
           {
            "marker": {
             "line": {
              "color": "#E5ECF6",
              "width": 0.5
             },
             "pattern": {
              "fillmode": "overlay",
              "size": 10,
              "solidity": 0.2
             }
            },
            "type": "barpolar"
           }
          ],
          "carpet": [
           {
            "aaxis": {
             "endlinecolor": "#2a3f5f",
             "gridcolor": "white",
             "linecolor": "white",
             "minorgridcolor": "white",
             "startlinecolor": "#2a3f5f"
            },
            "baxis": {
             "endlinecolor": "#2a3f5f",
             "gridcolor": "white",
             "linecolor": "white",
             "minorgridcolor": "white",
             "startlinecolor": "#2a3f5f"
            },
            "type": "carpet"
           }
          ],
          "choropleth": [
           {
            "colorbar": {
             "outlinewidth": 0,
             "ticks": ""
            },
            "type": "choropleth"
           }
          ],
          "contour": [
           {
            "colorbar": {
             "outlinewidth": 0,
             "ticks": ""
            },
            "colorscale": [
             [
              0,
              "#0d0887"
             ],
             [
              0.1111111111111111,
              "#46039f"
             ],
             [
              0.2222222222222222,
              "#7201a8"
             ],
             [
              0.3333333333333333,
              "#9c179e"
             ],
             [
              0.4444444444444444,
              "#bd3786"
             ],
             [
              0.5555555555555556,
              "#d8576b"
             ],
             [
              0.6666666666666666,
              "#ed7953"
             ],
             [
              0.7777777777777778,
              "#fb9f3a"
             ],
             [
              0.8888888888888888,
              "#fdca26"
             ],
             [
              1,
              "#f0f921"
             ]
            ],
            "type": "contour"
           }
          ],
          "contourcarpet": [
           {
            "colorbar": {
             "outlinewidth": 0,
             "ticks": ""
            },
            "type": "contourcarpet"
           }
          ],
          "heatmap": [
           {
            "colorbar": {
             "outlinewidth": 0,
             "ticks": ""
            },
            "colorscale": [
             [
              0,
              "#0d0887"
             ],
             [
              0.1111111111111111,
              "#46039f"
             ],
             [
              0.2222222222222222,
              "#7201a8"
             ],
             [
              0.3333333333333333,
              "#9c179e"
             ],
             [
              0.4444444444444444,
              "#bd3786"
             ],
             [
              0.5555555555555556,
              "#d8576b"
             ],
             [
              0.6666666666666666,
              "#ed7953"
             ],
             [
              0.7777777777777778,
              "#fb9f3a"
             ],
             [
              0.8888888888888888,
              "#fdca26"
             ],
             [
              1,
              "#f0f921"
             ]
            ],
            "type": "heatmap"
           }
          ],
          "heatmapgl": [
           {
            "colorbar": {
             "outlinewidth": 0,
             "ticks": ""
            },
            "colorscale": [
             [
              0,
              "#0d0887"
             ],
             [
              0.1111111111111111,
              "#46039f"
             ],
             [
              0.2222222222222222,
              "#7201a8"
             ],
             [
              0.3333333333333333,
              "#9c179e"
             ],
             [
              0.4444444444444444,
              "#bd3786"
             ],
             [
              0.5555555555555556,
              "#d8576b"
             ],
             [
              0.6666666666666666,
              "#ed7953"
             ],
             [
              0.7777777777777778,
              "#fb9f3a"
             ],
             [
              0.8888888888888888,
              "#fdca26"
             ],
             [
              1,
              "#f0f921"
             ]
            ],
            "type": "heatmapgl"
           }
          ],
          "histogram": [
           {
            "marker": {
             "pattern": {
              "fillmode": "overlay",
              "size": 10,
              "solidity": 0.2
             }
            },
            "type": "histogram"
           }
          ],
          "histogram2d": [
           {
            "colorbar": {
             "outlinewidth": 0,
             "ticks": ""
            },
            "colorscale": [
             [
              0,
              "#0d0887"
             ],
             [
              0.1111111111111111,
              "#46039f"
             ],
             [
              0.2222222222222222,
              "#7201a8"
             ],
             [
              0.3333333333333333,
              "#9c179e"
             ],
             [
              0.4444444444444444,
              "#bd3786"
             ],
             [
              0.5555555555555556,
              "#d8576b"
             ],
             [
              0.6666666666666666,
              "#ed7953"
             ],
             [
              0.7777777777777778,
              "#fb9f3a"
             ],
             [
              0.8888888888888888,
              "#fdca26"
             ],
             [
              1,
              "#f0f921"
             ]
            ],
            "type": "histogram2d"
           }
          ],
          "histogram2dcontour": [
           {
            "colorbar": {
             "outlinewidth": 0,
             "ticks": ""
            },
            "colorscale": [
             [
              0,
              "#0d0887"
             ],
             [
              0.1111111111111111,
              "#46039f"
             ],
             [
              0.2222222222222222,
              "#7201a8"
             ],
             [
              0.3333333333333333,
              "#9c179e"
             ],
             [
              0.4444444444444444,
              "#bd3786"
             ],
             [
              0.5555555555555556,
              "#d8576b"
             ],
             [
              0.6666666666666666,
              "#ed7953"
             ],
             [
              0.7777777777777778,
              "#fb9f3a"
             ],
             [
              0.8888888888888888,
              "#fdca26"
             ],
             [
              1,
              "#f0f921"
             ]
            ],
            "type": "histogram2dcontour"
           }
          ],
          "mesh3d": [
           {
            "colorbar": {
             "outlinewidth": 0,
             "ticks": ""
            },
            "type": "mesh3d"
           }
          ],
          "parcoords": [
           {
            "line": {
             "colorbar": {
              "outlinewidth": 0,
              "ticks": ""
             }
            },
            "type": "parcoords"
           }
          ],
          "pie": [
           {
            "automargin": true,
            "type": "pie"
           }
          ],
          "scatter": [
           {
            "marker": {
             "colorbar": {
              "outlinewidth": 0,
              "ticks": ""
             }
            },
            "type": "scatter"
           }
          ],
          "scatter3d": [
           {
            "line": {
             "colorbar": {
              "outlinewidth": 0,
              "ticks": ""
             }
            },
            "marker": {
             "colorbar": {
              "outlinewidth": 0,
              "ticks": ""
             }
            },
            "type": "scatter3d"
           }
          ],
          "scattercarpet": [
           {
            "marker": {
             "colorbar": {
              "outlinewidth": 0,
              "ticks": ""
             }
            },
            "type": "scattercarpet"
           }
          ],
          "scattergeo": [
           {
            "marker": {
             "colorbar": {
              "outlinewidth": 0,
              "ticks": ""
             }
            },
            "type": "scattergeo"
           }
          ],
          "scattergl": [
           {
            "marker": {
             "colorbar": {
              "outlinewidth": 0,
              "ticks": ""
             }
            },
            "type": "scattergl"
           }
          ],
          "scattermapbox": [
           {
            "marker": {
             "colorbar": {
              "outlinewidth": 0,
              "ticks": ""
             }
            },
            "type": "scattermapbox"
           }
          ],
          "scatterpolar": [
           {
            "marker": {
             "colorbar": {
              "outlinewidth": 0,
              "ticks": ""
             }
            },
            "type": "scatterpolar"
           }
          ],
          "scatterpolargl": [
           {
            "marker": {
             "colorbar": {
              "outlinewidth": 0,
              "ticks": ""
             }
            },
            "type": "scatterpolargl"
           }
          ],
          "scatterternary": [
           {
            "marker": {
             "colorbar": {
              "outlinewidth": 0,
              "ticks": ""
             }
            },
            "type": "scatterternary"
           }
          ],
          "surface": [
           {
            "colorbar": {
             "outlinewidth": 0,
             "ticks": ""
            },
            "colorscale": [
             [
              0,
              "#0d0887"
             ],
             [
              0.1111111111111111,
              "#46039f"
             ],
             [
              0.2222222222222222,
              "#7201a8"
             ],
             [
              0.3333333333333333,
              "#9c179e"
             ],
             [
              0.4444444444444444,
              "#bd3786"
             ],
             [
              0.5555555555555556,
              "#d8576b"
             ],
             [
              0.6666666666666666,
              "#ed7953"
             ],
             [
              0.7777777777777778,
              "#fb9f3a"
             ],
             [
              0.8888888888888888,
              "#fdca26"
             ],
             [
              1,
              "#f0f921"
             ]
            ],
            "type": "surface"
           }
          ],
          "table": [
           {
            "cells": {
             "fill": {
              "color": "#EBF0F8"
             },
             "line": {
              "color": "white"
             }
            },
            "header": {
             "fill": {
              "color": "#C8D4E3"
             },
             "line": {
              "color": "white"
             }
            },
            "type": "table"
           }
          ]
         },
         "layout": {
          "annotationdefaults": {
           "arrowcolor": "#2a3f5f",
           "arrowhead": 0,
           "arrowwidth": 1
          },
          "autotypenumbers": "strict",
          "coloraxis": {
           "colorbar": {
            "outlinewidth": 0,
            "ticks": ""
           }
          },
          "colorscale": {
           "diverging": [
            [
             0,
             "#8e0152"
            ],
            [
             0.1,
             "#c51b7d"
            ],
            [
             0.2,
             "#de77ae"
            ],
            [
             0.3,
             "#f1b6da"
            ],
            [
             0.4,
             "#fde0ef"
            ],
            [
             0.5,
             "#f7f7f7"
            ],
            [
             0.6,
             "#e6f5d0"
            ],
            [
             0.7,
             "#b8e186"
            ],
            [
             0.8,
             "#7fbc41"
            ],
            [
             0.9,
             "#4d9221"
            ],
            [
             1,
             "#276419"
            ]
           ],
           "sequential": [
            [
             0,
             "#0d0887"
            ],
            [
             0.1111111111111111,
             "#46039f"
            ],
            [
             0.2222222222222222,
             "#7201a8"
            ],
            [
             0.3333333333333333,
             "#9c179e"
            ],
            [
             0.4444444444444444,
             "#bd3786"
            ],
            [
             0.5555555555555556,
             "#d8576b"
            ],
            [
             0.6666666666666666,
             "#ed7953"
            ],
            [
             0.7777777777777778,
             "#fb9f3a"
            ],
            [
             0.8888888888888888,
             "#fdca26"
            ],
            [
             1,
             "#f0f921"
            ]
           ],
           "sequentialminus": [
            [
             0,
             "#0d0887"
            ],
            [
             0.1111111111111111,
             "#46039f"
            ],
            [
             0.2222222222222222,
             "#7201a8"
            ],
            [
             0.3333333333333333,
             "#9c179e"
            ],
            [
             0.4444444444444444,
             "#bd3786"
            ],
            [
             0.5555555555555556,
             "#d8576b"
            ],
            [
             0.6666666666666666,
             "#ed7953"
            ],
            [
             0.7777777777777778,
             "#fb9f3a"
            ],
            [
             0.8888888888888888,
             "#fdca26"
            ],
            [
             1,
             "#f0f921"
            ]
           ]
          },
          "colorway": [
           "#636efa",
           "#EF553B",
           "#00cc96",
           "#ab63fa",
           "#FFA15A",
           "#19d3f3",
           "#FF6692",
           "#B6E880",
           "#FF97FF",
           "#FECB52"
          ],
          "font": {
           "color": "#2a3f5f"
          },
          "geo": {
           "bgcolor": "white",
           "lakecolor": "white",
           "landcolor": "#E5ECF6",
           "showlakes": true,
           "showland": true,
           "subunitcolor": "white"
          },
          "hoverlabel": {
           "align": "left"
          },
          "hovermode": "closest",
          "mapbox": {
           "style": "light"
          },
          "paper_bgcolor": "white",
          "plot_bgcolor": "#E5ECF6",
          "polar": {
           "angularaxis": {
            "gridcolor": "white",
            "linecolor": "white",
            "ticks": ""
           },
           "bgcolor": "#E5ECF6",
           "radialaxis": {
            "gridcolor": "white",
            "linecolor": "white",
            "ticks": ""
           }
          },
          "scene": {
           "xaxis": {
            "backgroundcolor": "#E5ECF6",
            "gridcolor": "white",
            "gridwidth": 2,
            "linecolor": "white",
            "showbackground": true,
            "ticks": "",
            "zerolinecolor": "white"
           },
           "yaxis": {
            "backgroundcolor": "#E5ECF6",
            "gridcolor": "white",
            "gridwidth": 2,
            "linecolor": "white",
            "showbackground": true,
            "ticks": "",
            "zerolinecolor": "white"
           },
           "zaxis": {
            "backgroundcolor": "#E5ECF6",
            "gridcolor": "white",
            "gridwidth": 2,
            "linecolor": "white",
            "showbackground": true,
            "ticks": "",
            "zerolinecolor": "white"
           }
          },
          "shapedefaults": {
           "line": {
            "color": "#2a3f5f"
           }
          },
          "ternary": {
           "aaxis": {
            "gridcolor": "white",
            "linecolor": "white",
            "ticks": ""
           },
           "baxis": {
            "gridcolor": "white",
            "linecolor": "white",
            "ticks": ""
           },
           "bgcolor": "#E5ECF6",
           "caxis": {
            "gridcolor": "white",
            "linecolor": "white",
            "ticks": ""
           }
          },
          "title": {
           "x": 0.05
          },
          "xaxis": {
           "automargin": true,
           "gridcolor": "white",
           "linecolor": "white",
           "ticks": "",
           "title": {
            "standoff": 15
           },
           "zerolinecolor": "white",
           "zerolinewidth": 2
          },
          "yaxis": {
           "automargin": true,
           "gridcolor": "white",
           "linecolor": "white",
           "ticks": "",
           "title": {
            "standoff": 15
           },
           "zerolinecolor": "white",
           "zerolinewidth": 2
          }
         }
        },
        "title": {
         "text": "Number of dataset downloads over time"
        },
        "xaxis": {
         "title": {
          "text": "date"
         }
        },
        "yaxis": {
         "title": {
          "text": "number of downloads"
         }
        }
       }
      },
      "text/html": [
       "<div>                            <div id=\"352386a5-7a2f-42af-bc52-307cdb7fec61\" class=\"plotly-graph-div\" style=\"height:525px; width:100%;\"></div>            <script type=\"text/javascript\">                require([\"plotly\"], function(Plotly) {                    window.PLOTLYENV=window.PLOTLYENV || {};                                    if (document.getElementById(\"352386a5-7a2f-42af-bc52-307cdb7fec61\")) {                    Plotly.newPlot(                        \"352386a5-7a2f-42af-bc52-307cdb7fec61\",                        [{\"mode\":\"lines+markers\",\"type\":\"scatter\",\"x\":[\"2021-04-23T00:00:00\",\"2021-04-24T00:00:00\",\"2021-04-26T00:00:00\",\"2021-04-27T00:00:00\",\"2021-04-28T00:00:00\",\"2021-04-29T00:00:00\",\"2021-04-30T00:00:00\",\"2021-05-01T00:00:00\",\"2021-05-02T00:00:00\",\"2021-05-03T00:00:00\",\"2021-05-04T00:00:00\",\"2021-05-05T00:00:00\",\"2021-05-06T00:00:00\",\"2021-05-10T00:00:00\",\"2021-05-11T00:00:00\",\"2021-05-12T00:00:00\",\"2021-05-13T00:00:00\",\"2021-05-14T00:00:00\",\"2021-05-15T00:00:00\",\"2021-05-18T00:00:00\",\"2021-05-19T00:00:00\",\"2021-05-20T00:00:00\",\"2021-05-21T00:00:00\",\"2021-05-22T00:00:00\",\"2021-05-23T00:00:00\",\"2021-05-24T00:00:00\",\"2021-05-25T00:00:00\",\"2021-05-26T00:00:00\",\"2021-05-27T00:00:00\",\"2021-05-28T00:00:00\",\"2021-05-29T00:00:00\",\"2021-05-30T00:00:00\",\"2021-05-31T00:00:00\",\"2021-06-01T00:00:00\",\"2021-06-02T00:00:00\",\"2021-06-03T00:00:00\",\"2021-06-04T00:00:00\",\"2021-06-05T00:00:00\",\"2021-06-06T00:00:00\",\"2021-06-07T00:00:00\",\"2021-06-08T00:00:00\",\"2021-06-09T00:00:00\",\"2021-06-10T00:00:00\",\"2021-06-11T00:00:00\",\"2021-06-12T00:00:00\",\"2021-06-14T00:00:00\",\"2021-06-15T00:00:00\",\"2021-06-16T00:00:00\",\"2021-06-17T00:00:00\",\"2021-06-18T00:00:00\",\"2021-06-19T00:00:00\",\"2021-06-20T00:00:00\",\"2021-06-21T00:00:00\",\"2021-06-22T00:00:00\",\"2021-06-23T00:00:00\",\"2021-06-24T00:00:00\",\"2021-06-25T00:00:00\",\"2021-06-26T00:00:00\",\"2021-06-28T00:00:00\",\"2021-06-29T00:00:00\",\"2021-06-30T00:00:00\",\"2021-07-01T00:00:00\",\"2021-07-02T00:00:00\",\"2021-07-03T00:00:00\",\"2021-07-05T00:00:00\",\"2021-07-06T00:00:00\",\"2021-07-07T00:00:00\",\"2021-07-08T00:00:00\",\"2021-07-09T00:00:00\",\"2021-07-11T00:00:00\",\"2021-07-12T00:00:00\",\"2021-07-13T00:00:00\",\"2021-07-14T00:00:00\",\"2021-07-15T00:00:00\",\"2021-07-16T00:00:00\",\"2021-07-17T00:00:00\",\"2021-07-18T00:00:00\",\"2021-07-19T00:00:00\",\"2021-07-20T00:00:00\",\"2021-07-21T00:00:00\",\"2021-07-22T00:00:00\",\"2021-07-23T00:00:00\",\"2021-07-24T00:00:00\",\"2021-07-26T00:00:00\",\"2021-07-27T00:00:00\",\"2021-07-28T00:00:00\",\"2021-07-29T00:00:00\",\"2021-07-30T00:00:00\",\"2021-07-31T00:00:00\",\"2021-08-01T00:00:00\",\"2021-08-02T00:00:00\",\"2021-08-03T00:00:00\",\"2021-08-04T00:00:00\",\"2021-08-05T00:00:00\",\"2021-08-06T00:00:00\",\"2021-08-07T00:00:00\",\"2021-08-08T00:00:00\",\"2021-08-09T00:00:00\",\"2021-08-10T00:00:00\",\"2021-08-11T00:00:00\",\"2021-08-12T00:00:00\",\"2021-08-13T00:00:00\",\"2021-08-15T00:00:00\",\"2021-08-16T00:00:00\",\"2021-08-17T00:00:00\",\"2021-08-18T00:00:00\"],\"y\":[3,13,16,26,40,47,51,52,55,58,63,78,79,88,91,94,103,112,113,119,169,179,245,247,251,263,268,285,293,415,422,426,429,438,439,450,477,572,602,604,609,640,721,722,724,734,857,861,884,913,919,924,945,948,950,958,964,965,981,988,989,995,1012,1013,1018,1024,1043,1046,1160,1161,1169,1173,1244,1253,1258,1336,1377,1394,1412,1417,1426,1501,1502,1507,1514,1527,1540,1620,1625,1629,1638,1677,1694,1703,1707,1711,1712,1715,1720,1727,1731,1742,1744,1748,1751,1753]}],                        {\"template\":{\"data\":{\"bar\":[{\"error_x\":{\"color\":\"#2a3f5f\"},\"error_y\":{\"color\":\"#2a3f5f\"},\"marker\":{\"line\":{\"color\":\"#E5ECF6\",\"width\":0.5},\"pattern\":{\"fillmode\":\"overlay\",\"size\":10,\"solidity\":0.2}},\"type\":\"bar\"}],\"barpolar\":[{\"marker\":{\"line\":{\"color\":\"#E5ECF6\",\"width\":0.5},\"pattern\":{\"fillmode\":\"overlay\",\"size\":10,\"solidity\":0.2}},\"type\":\"barpolar\"}],\"carpet\":[{\"aaxis\":{\"endlinecolor\":\"#2a3f5f\",\"gridcolor\":\"white\",\"linecolor\":\"white\",\"minorgridcolor\":\"white\",\"startlinecolor\":\"#2a3f5f\"},\"baxis\":{\"endlinecolor\":\"#2a3f5f\",\"gridcolor\":\"white\",\"linecolor\":\"white\",\"minorgridcolor\":\"white\",\"startlinecolor\":\"#2a3f5f\"},\"type\":\"carpet\"}],\"choropleth\":[{\"colorbar\":{\"outlinewidth\":0,\"ticks\":\"\"},\"type\":\"choropleth\"}],\"contour\":[{\"colorbar\":{\"outlinewidth\":0,\"ticks\":\"\"},\"colorscale\":[[0.0,\"#0d0887\"],[0.1111111111111111,\"#46039f\"],[0.2222222222222222,\"#7201a8\"],[0.3333333333333333,\"#9c179e\"],[0.4444444444444444,\"#bd3786\"],[0.5555555555555556,\"#d8576b\"],[0.6666666666666666,\"#ed7953\"],[0.7777777777777778,\"#fb9f3a\"],[0.8888888888888888,\"#fdca26\"],[1.0,\"#f0f921\"]],\"type\":\"contour\"}],\"contourcarpet\":[{\"colorbar\":{\"outlinewidth\":0,\"ticks\":\"\"},\"type\":\"contourcarpet\"}],\"heatmap\":[{\"colorbar\":{\"outlinewidth\":0,\"ticks\":\"\"},\"colorscale\":[[0.0,\"#0d0887\"],[0.1111111111111111,\"#46039f\"],[0.2222222222222222,\"#7201a8\"],[0.3333333333333333,\"#9c179e\"],[0.4444444444444444,\"#bd3786\"],[0.5555555555555556,\"#d8576b\"],[0.6666666666666666,\"#ed7953\"],[0.7777777777777778,\"#fb9f3a\"],[0.8888888888888888,\"#fdca26\"],[1.0,\"#f0f921\"]],\"type\":\"heatmap\"}],\"heatmapgl\":[{\"colorbar\":{\"outlinewidth\":0,\"ticks\":\"\"},\"colorscale\":[[0.0,\"#0d0887\"],[0.1111111111111111,\"#46039f\"],[0.2222222222222222,\"#7201a8\"],[0.3333333333333333,\"#9c179e\"],[0.4444444444444444,\"#bd3786\"],[0.5555555555555556,\"#d8576b\"],[0.6666666666666666,\"#ed7953\"],[0.7777777777777778,\"#fb9f3a\"],[0.8888888888888888,\"#fdca26\"],[1.0,\"#f0f921\"]],\"type\":\"heatmapgl\"}],\"histogram\":[{\"marker\":{\"pattern\":{\"fillmode\":\"overlay\",\"size\":10,\"solidity\":0.2}},\"type\":\"histogram\"}],\"histogram2d\":[{\"colorbar\":{\"outlinewidth\":0,\"ticks\":\"\"},\"colorscale\":[[0.0,\"#0d0887\"],[0.1111111111111111,\"#46039f\"],[0.2222222222222222,\"#7201a8\"],[0.3333333333333333,\"#9c179e\"],[0.4444444444444444,\"#bd3786\"],[0.5555555555555556,\"#d8576b\"],[0.6666666666666666,\"#ed7953\"],[0.7777777777777778,\"#fb9f3a\"],[0.8888888888888888,\"#fdca26\"],[1.0,\"#f0f921\"]],\"type\":\"histogram2d\"}],\"histogram2dcontour\":[{\"colorbar\":{\"outlinewidth\":0,\"ticks\":\"\"},\"colorscale\":[[0.0,\"#0d0887\"],[0.1111111111111111,\"#46039f\"],[0.2222222222222222,\"#7201a8\"],[0.3333333333333333,\"#9c179e\"],[0.4444444444444444,\"#bd3786\"],[0.5555555555555556,\"#d8576b\"],[0.6666666666666666,\"#ed7953\"],[0.7777777777777778,\"#fb9f3a\"],[0.8888888888888888,\"#fdca26\"],[1.0,\"#f0f921\"]],\"type\":\"histogram2dcontour\"}],\"mesh3d\":[{\"colorbar\":{\"outlinewidth\":0,\"ticks\":\"\"},\"type\":\"mesh3d\"}],\"parcoords\":[{\"line\":{\"colorbar\":{\"outlinewidth\":0,\"ticks\":\"\"}},\"type\":\"parcoords\"}],\"pie\":[{\"automargin\":true,\"type\":\"pie\"}],\"scatter\":[{\"marker\":{\"colorbar\":{\"outlinewidth\":0,\"ticks\":\"\"}},\"type\":\"scatter\"}],\"scatter3d\":[{\"line\":{\"colorbar\":{\"outlinewidth\":0,\"ticks\":\"\"}},\"marker\":{\"colorbar\":{\"outlinewidth\":0,\"ticks\":\"\"}},\"type\":\"scatter3d\"}],\"scattercarpet\":[{\"marker\":{\"colorbar\":{\"outlinewidth\":0,\"ticks\":\"\"}},\"type\":\"scattercarpet\"}],\"scattergeo\":[{\"marker\":{\"colorbar\":{\"outlinewidth\":0,\"ticks\":\"\"}},\"type\":\"scattergeo\"}],\"scattergl\":[{\"marker\":{\"colorbar\":{\"outlinewidth\":0,\"ticks\":\"\"}},\"type\":\"scattergl\"}],\"scattermapbox\":[{\"marker\":{\"colorbar\":{\"outlinewidth\":0,\"ticks\":\"\"}},\"type\":\"scattermapbox\"}],\"scatterpolar\":[{\"marker\":{\"colorbar\":{\"outlinewidth\":0,\"ticks\":\"\"}},\"type\":\"scatterpolar\"}],\"scatterpolargl\":[{\"marker\":{\"colorbar\":{\"outlinewidth\":0,\"ticks\":\"\"}},\"type\":\"scatterpolargl\"}],\"scatterternary\":[{\"marker\":{\"colorbar\":{\"outlinewidth\":0,\"ticks\":\"\"}},\"type\":\"scatterternary\"}],\"surface\":[{\"colorbar\":{\"outlinewidth\":0,\"ticks\":\"\"},\"colorscale\":[[0.0,\"#0d0887\"],[0.1111111111111111,\"#46039f\"],[0.2222222222222222,\"#7201a8\"],[0.3333333333333333,\"#9c179e\"],[0.4444444444444444,\"#bd3786\"],[0.5555555555555556,\"#d8576b\"],[0.6666666666666666,\"#ed7953\"],[0.7777777777777778,\"#fb9f3a\"],[0.8888888888888888,\"#fdca26\"],[1.0,\"#f0f921\"]],\"type\":\"surface\"}],\"table\":[{\"cells\":{\"fill\":{\"color\":\"#EBF0F8\"},\"line\":{\"color\":\"white\"}},\"header\":{\"fill\":{\"color\":\"#C8D4E3\"},\"line\":{\"color\":\"white\"}},\"type\":\"table\"}]},\"layout\":{\"annotationdefaults\":{\"arrowcolor\":\"#2a3f5f\",\"arrowhead\":0,\"arrowwidth\":1},\"autotypenumbers\":\"strict\",\"coloraxis\":{\"colorbar\":{\"outlinewidth\":0,\"ticks\":\"\"}},\"colorscale\":{\"diverging\":[[0,\"#8e0152\"],[0.1,\"#c51b7d\"],[0.2,\"#de77ae\"],[0.3,\"#f1b6da\"],[0.4,\"#fde0ef\"],[0.5,\"#f7f7f7\"],[0.6,\"#e6f5d0\"],[0.7,\"#b8e186\"],[0.8,\"#7fbc41\"],[0.9,\"#4d9221\"],[1,\"#276419\"]],\"sequential\":[[0.0,\"#0d0887\"],[0.1111111111111111,\"#46039f\"],[0.2222222222222222,\"#7201a8\"],[0.3333333333333333,\"#9c179e\"],[0.4444444444444444,\"#bd3786\"],[0.5555555555555556,\"#d8576b\"],[0.6666666666666666,\"#ed7953\"],[0.7777777777777778,\"#fb9f3a\"],[0.8888888888888888,\"#fdca26\"],[1.0,\"#f0f921\"]],\"sequentialminus\":[[0.0,\"#0d0887\"],[0.1111111111111111,\"#46039f\"],[0.2222222222222222,\"#7201a8\"],[0.3333333333333333,\"#9c179e\"],[0.4444444444444444,\"#bd3786\"],[0.5555555555555556,\"#d8576b\"],[0.6666666666666666,\"#ed7953\"],[0.7777777777777778,\"#fb9f3a\"],[0.8888888888888888,\"#fdca26\"],[1.0,\"#f0f921\"]]},\"colorway\":[\"#636efa\",\"#EF553B\",\"#00cc96\",\"#ab63fa\",\"#FFA15A\",\"#19d3f3\",\"#FF6692\",\"#B6E880\",\"#FF97FF\",\"#FECB52\"],\"font\":{\"color\":\"#2a3f5f\"},\"geo\":{\"bgcolor\":\"white\",\"lakecolor\":\"white\",\"landcolor\":\"#E5ECF6\",\"showlakes\":true,\"showland\":true,\"subunitcolor\":\"white\"},\"hoverlabel\":{\"align\":\"left\"},\"hovermode\":\"closest\",\"mapbox\":{\"style\":\"light\"},\"paper_bgcolor\":\"white\",\"plot_bgcolor\":\"#E5ECF6\",\"polar\":{\"angularaxis\":{\"gridcolor\":\"white\",\"linecolor\":\"white\",\"ticks\":\"\"},\"bgcolor\":\"#E5ECF6\",\"radialaxis\":{\"gridcolor\":\"white\",\"linecolor\":\"white\",\"ticks\":\"\"}},\"scene\":{\"xaxis\":{\"backgroundcolor\":\"#E5ECF6\",\"gridcolor\":\"white\",\"gridwidth\":2,\"linecolor\":\"white\",\"showbackground\":true,\"ticks\":\"\",\"zerolinecolor\":\"white\"},\"yaxis\":{\"backgroundcolor\":\"#E5ECF6\",\"gridcolor\":\"white\",\"gridwidth\":2,\"linecolor\":\"white\",\"showbackground\":true,\"ticks\":\"\",\"zerolinecolor\":\"white\"},\"zaxis\":{\"backgroundcolor\":\"#E5ECF6\",\"gridcolor\":\"white\",\"gridwidth\":2,\"linecolor\":\"white\",\"showbackground\":true,\"ticks\":\"\",\"zerolinecolor\":\"white\"}},\"shapedefaults\":{\"line\":{\"color\":\"#2a3f5f\"}},\"ternary\":{\"aaxis\":{\"gridcolor\":\"white\",\"linecolor\":\"white\",\"ticks\":\"\"},\"baxis\":{\"gridcolor\":\"white\",\"linecolor\":\"white\",\"ticks\":\"\"},\"bgcolor\":\"#E5ECF6\",\"caxis\":{\"gridcolor\":\"white\",\"linecolor\":\"white\",\"ticks\":\"\"}},\"title\":{\"x\":0.05},\"xaxis\":{\"automargin\":true,\"gridcolor\":\"white\",\"linecolor\":\"white\",\"ticks\":\"\",\"title\":{\"standoff\":15},\"zerolinecolor\":\"white\",\"zerolinewidth\":2},\"yaxis\":{\"automargin\":true,\"gridcolor\":\"white\",\"linecolor\":\"white\",\"ticks\":\"\",\"title\":{\"standoff\":15},\"zerolinecolor\":\"white\",\"zerolinewidth\":2}}},\"title\":{\"text\":\"Number of dataset downloads over time\"},\"xaxis\":{\"title\":{\"text\":\"date\"}},\"yaxis\":{\"title\":{\"text\":\"number of downloads\"}}},                        {\"responsive\": true}                    ).then(function(){\n",
       "                            \n",
       "var gd = document.getElementById('352386a5-7a2f-42af-bc52-307cdb7fec61');\n",
       "var x = new MutationObserver(function (mutations, observer) {{\n",
       "        var display = window.getComputedStyle(gd).display;\n",
       "        if (!display || display === 'none') {{\n",
       "            console.log([gd, 'removed!']);\n",
       "            Plotly.purge(gd);\n",
       "            observer.disconnect();\n",
       "        }}\n",
       "}});\n",
       "\n",
       "// Listen for the removal of the full notebook cells\n",
       "var notebookContainer = gd.closest('#notebook-container');\n",
       "if (notebookContainer) {{\n",
       "    x.observe(notebookContainer, {childList: true});\n",
       "}}\n",
       "\n",
       "// Listen for the clearing of the current output cell\n",
       "var outputEl = gd.closest('.output');\n",
       "if (outputEl) {{\n",
       "    x.observe(outputEl, {childList: true});\n",
       "}}\n",
       "\n",
       "                        })                };                });            </script>        </div>"
      ]
     },
     "metadata": {},
     "output_type": "display_data"
    }
   ],
   "source": [
    "downloads_over_time = downloads[['download_dt', 'count']].groupby(['download_dt']).sum().reset_index()\n",
    "downloads_over_time['cum_downloads'] = downloads_over_time['count'].cumsum()\n",
    "\n",
    "fig = go.Figure(go.Scatter(\n",
    "    mode = \"lines+markers\",\n",
    "    x = downloads_over_time['download_dt'].tolist(),\n",
    "    y = downloads_over_time['cum_downloads'].tolist()\n",
    "    ))\n",
    "\n",
    "fig.update_layout(\n",
    "    title=\"Number of dataset downloads over time\",\n",
    "    xaxis_title=\"date\",\n",
    "    yaxis_title=\"number of downloads\"\n",
    ")\n",
    "             \n",
    "fig.show()"
   ]
  },
  {
   "cell_type": "markdown",
   "id": "41134a9d",
   "metadata": {
    "extensions": {
     "jupyter_dashboards": {
      "version": 1,
      "views": {
       "grid_default": {},
       "report_default": {
        "hidden": false
       }
      }
     }
    }
   },
   "source": [
    "## Most downloaded datasets"
   ]
  },
  {
   "cell_type": "markdown",
   "id": "8534d94b",
   "metadata": {
    "extensions": {
     "jupyter_dashboards": {
      "version": 1,
      "views": {
       "grid_default": {},
       "report_default": {
        "hidden": false
       }
      }
     }
    }
   },
   "source": [
    "### Raw downloads"
   ]
  },
  {
   "cell_type": "code",
   "execution_count": 76,
   "id": "ed0bf2b2",
   "metadata": {
    "extensions": {
     "jupyter_dashboards": {
      "version": 1,
      "views": {
       "grid_default": {},
       "report_default": {
        "hidden": false
       }
      }
     }
    }
   },
   "outputs": [
    {
     "data": {
      "text/html": [
       "<div>\n",
       "<style scoped>\n",
       "    .dataframe tbody tr th:only-of-type {\n",
       "        vertical-align: middle;\n",
       "    }\n",
       "\n",
       "    .dataframe tbody tr th {\n",
       "        vertical-align: top;\n",
       "    }\n",
       "\n",
       "    .dataframe thead th {\n",
       "        text-align: right;\n",
       "    }\n",
       "</style>\n",
       "<table border=\"1\" class=\"dataframe\">\n",
       "  <thead>\n",
       "    <tr style=\"text-align: right;\">\n",
       "      <th></th>\n",
       "      <th>dataset_id</th>\n",
       "      <th>dataset_name</th>\n",
       "      <th>raw downloads</th>\n",
       "    </tr>\n",
       "  </thead>\n",
       "  <tbody>\n",
       "    <tr>\n",
       "      <th>0</th>\n",
       "      <td>f72958f5-7f42-4ebb-98da-445b0c6de516</td>\n",
       "      <td>Azimuth meta-analysis of 10 datasets of health...</td>\n",
       "      <td>66</td>\n",
       "    </tr>\n",
       "    <tr>\n",
       "      <th>1</th>\n",
       "      <td>66d15835-5dc8-4e96-b0eb-f48971cb65e8</td>\n",
       "      <td>Single cell transcriptome analysis of human pa...</td>\n",
       "      <td>65</td>\n",
       "    </tr>\n",
       "    <tr>\n",
       "      <th>2</th>\n",
       "      <td>9df60c57-fdf3-4e93-828e-fe9303f20438</td>\n",
       "      <td>Single cell transcriptional and chromatin acce...</td>\n",
       "      <td>60</td>\n",
       "    </tr>\n",
       "    <tr>\n",
       "      <th>3</th>\n",
       "      <td>21d3e683-80a4-4d9b-bc89-ebb2df513dde</td>\n",
       "      <td>Time-resolved Systems Immunology Reveals a Lat...</td>\n",
       "      <td>53</td>\n",
       "    </tr>\n",
       "    <tr>\n",
       "      <th>4</th>\n",
       "      <td>13a027de-ea3e-432b-9a5e-6bc7048498fc</td>\n",
       "      <td>Single cell transcriptional and chromatin acce...</td>\n",
       "      <td>47</td>\n",
       "    </tr>\n",
       "    <tr>\n",
       "      <th>5</th>\n",
       "      <td>b83559d1-156f-4ba9-9f6a-b165f83ef43f</td>\n",
       "      <td>Single-cell RNA-Seq Investigation of Foveal an...</td>\n",
       "      <td>36</td>\n",
       "    </tr>\n",
       "    <tr>\n",
       "      <th>6</th>\n",
       "      <td>b07e5164-baf6-43d2-bdba-5a249d0da879</td>\n",
       "      <td>A Single-Cell Transcriptome Atlas of the Human...</td>\n",
       "      <td>35</td>\n",
       "    </tr>\n",
       "    <tr>\n",
       "      <th>7</th>\n",
       "      <td>53d208b0-2cfd-4366-9866-c3c6114081bc</td>\n",
       "      <td>Tabula Sapiens - All Cells</td>\n",
       "      <td>34</td>\n",
       "    </tr>\n",
       "    <tr>\n",
       "      <th>8</th>\n",
       "      <td>6cda3b13-7257-45b9-ac20-0a7e6697e4f2</td>\n",
       "      <td>scRNA-seq data analysis of HUVECs treated with...</td>\n",
       "      <td>29</td>\n",
       "    </tr>\n",
       "    <tr>\n",
       "      <th>9</th>\n",
       "      <td>30cd5311-6c09-46c9-94f1-71fe4b91813c</td>\n",
       "      <td>Time-resolved Systems Immunology Reveals a Lat...</td>\n",
       "      <td>29</td>\n",
       "    </tr>\n",
       "  </tbody>\n",
       "</table>\n",
       "</div>"
      ],
      "text/plain": [
       "                             dataset_id  \\\n",
       "0  f72958f5-7f42-4ebb-98da-445b0c6de516   \n",
       "1  66d15835-5dc8-4e96-b0eb-f48971cb65e8   \n",
       "2  9df60c57-fdf3-4e93-828e-fe9303f20438   \n",
       "3  21d3e683-80a4-4d9b-bc89-ebb2df513dde   \n",
       "4  13a027de-ea3e-432b-9a5e-6bc7048498fc   \n",
       "5  b83559d1-156f-4ba9-9f6a-b165f83ef43f   \n",
       "6  b07e5164-baf6-43d2-bdba-5a249d0da879   \n",
       "7  53d208b0-2cfd-4366-9866-c3c6114081bc   \n",
       "8  6cda3b13-7257-45b9-ac20-0a7e6697e4f2   \n",
       "9  30cd5311-6c09-46c9-94f1-71fe4b91813c   \n",
       "\n",
       "                                        dataset_name  raw downloads  \n",
       "0  Azimuth meta-analysis of 10 datasets of health...             66  \n",
       "1  Single cell transcriptome analysis of human pa...             65  \n",
       "2  Single cell transcriptional and chromatin acce...             60  \n",
       "3  Time-resolved Systems Immunology Reveals a Lat...             53  \n",
       "4  Single cell transcriptional and chromatin acce...             47  \n",
       "5  Single-cell RNA-Seq Investigation of Foveal an...             36  \n",
       "6  A Single-Cell Transcriptome Atlas of the Human...             35  \n",
       "7                         Tabula Sapiens - All Cells             34  \n",
       "8  scRNA-seq data analysis of HUVECs treated with...             29  \n",
       "9  Time-resolved Systems Immunology Reveals a Lat...             29  "
      ]
     },
     "execution_count": 76,
     "metadata": {},
     "output_type": "execute_result"
    }
   ],
   "source": [
    "top_ds_raw = combined[['dataset_id', 'dataset_name','download_dt','remoteip']].drop_duplicates()\n",
    "top_ds_raw['raw downloads'] = 1\n",
    "top_ds_raw = top_ds_raw[['dataset_id', 'dataset_name', 'raw downloads']].groupby(['dataset_id', 'dataset_name']).sum().reset_index()\n",
    "top_ds_raw = top_ds_raw.sort_values(by=['raw downloads'], ascending = False).reset_index(drop = True)\n",
    "top_ds_raw[0:10]\n"
   ]
  },
  {
   "cell_type": "markdown",
   "id": "186af46c",
   "metadata": {
    "extensions": {
     "jupyter_dashboards": {
      "version": 1,
      "views": {
       "grid_default": {},
       "report_default": {
        "hidden": false
       }
      }
     }
    }
   },
   "source": [
    "### Normalized"
   ]
  },
  {
   "cell_type": "code",
   "execution_count": 143,
   "id": "a2ccbd53",
   "metadata": {
    "extensions": {
     "jupyter_dashboards": {
      "version": 1,
      "views": {
       "grid_default": {},
       "report_default": {
        "hidden": false
       }
      }
     }
    }
   },
   "outputs": [
    {
     "data": {
      "text/html": [
       "<div>\n",
       "<style scoped>\n",
       "    .dataframe tbody tr th:only-of-type {\n",
       "        vertical-align: middle;\n",
       "    }\n",
       "\n",
       "    .dataframe tbody tr th {\n",
       "        vertical-align: top;\n",
       "    }\n",
       "\n",
       "    .dataframe thead th {\n",
       "        text-align: right;\n",
       "    }\n",
       "</style>\n",
       "<table border=\"1\" class=\"dataframe\">\n",
       "  <thead>\n",
       "    <tr style=\"text-align: right;\">\n",
       "      <th></th>\n",
       "      <th>dataset_id</th>\n",
       "      <th>dataset_name</th>\n",
       "      <th>raw downloads</th>\n",
       "      <th>value</th>\n",
       "    </tr>\n",
       "  </thead>\n",
       "  <tbody>\n",
       "    <tr>\n",
       "      <th>0</th>\n",
       "      <td>53d208b0-2cfd-4366-9866-c3c6114081bc</td>\n",
       "      <td>Tabula Sapiens - All Cells</td>\n",
       "      <td>34</td>\n",
       "      <td>94</td>\n",
       "    </tr>\n",
       "    <tr>\n",
       "      <th>1</th>\n",
       "      <td>f72958f5-7f42-4ebb-98da-445b0c6de516</td>\n",
       "      <td>Azimuth meta-analysis of 10 datasets of health...</td>\n",
       "      <td>66</td>\n",
       "      <td>86</td>\n",
       "    </tr>\n",
       "    <tr>\n",
       "      <th>2</th>\n",
       "      <td>66d15835-5dc8-4e96-b0eb-f48971cb65e8</td>\n",
       "      <td>Single cell transcriptome analysis of human pa...</td>\n",
       "      <td>65</td>\n",
       "      <td>67</td>\n",
       "    </tr>\n",
       "    <tr>\n",
       "      <th>3</th>\n",
       "      <td>9df60c57-fdf3-4e93-828e-fe9303f20438</td>\n",
       "      <td>Single cell transcriptional and chromatin acce...</td>\n",
       "      <td>60</td>\n",
       "      <td>50</td>\n",
       "    </tr>\n",
       "    <tr>\n",
       "      <th>4</th>\n",
       "      <td>21d3e683-80a4-4d9b-bc89-ebb2df513dde</td>\n",
       "      <td>Time-resolved Systems Immunology Reveals a Lat...</td>\n",
       "      <td>53</td>\n",
       "      <td>44</td>\n",
       "    </tr>\n",
       "    <tr>\n",
       "      <th>5</th>\n",
       "      <td>13a027de-ea3e-432b-9a5e-6bc7048498fc</td>\n",
       "      <td>Single cell transcriptional and chromatin acce...</td>\n",
       "      <td>47</td>\n",
       "      <td>39</td>\n",
       "    </tr>\n",
       "    <tr>\n",
       "      <th>6</th>\n",
       "      <td>5a11f879-d1ef-458a-910c-9b0bdfca5ebf</td>\n",
       "      <td>Tabula Sapiens - Endothelial</td>\n",
       "      <td>13</td>\n",
       "      <td>35</td>\n",
       "    </tr>\n",
       "    <tr>\n",
       "      <th>7</th>\n",
       "      <td>9dbab10c-118d-496b-966a-67f1763a6b7d</td>\n",
       "      <td>Large-scale single-cell analysis reveals criti...</td>\n",
       "      <td>27</td>\n",
       "      <td>33</td>\n",
       "    </tr>\n",
       "    <tr>\n",
       "      <th>8</th>\n",
       "      <td>c5d88abe-f23a-45fa-a534-788985e93dad</td>\n",
       "      <td>Tabula Sapiens - Immune</td>\n",
       "      <td>12</td>\n",
       "      <td>32</td>\n",
       "    </tr>\n",
       "    <tr>\n",
       "      <th>9</th>\n",
       "      <td>a68b64d8-aee3-4947-81b7-36b8fe5a44d2</td>\n",
       "      <td>Tabula Sapiens - Stromal</td>\n",
       "      <td>12</td>\n",
       "      <td>32</td>\n",
       "    </tr>\n",
       "  </tbody>\n",
       "</table>\n",
       "</div>"
      ],
      "text/plain": [
       "                             dataset_id  \\\n",
       "0  53d208b0-2cfd-4366-9866-c3c6114081bc   \n",
       "1  f72958f5-7f42-4ebb-98da-445b0c6de516   \n",
       "2  66d15835-5dc8-4e96-b0eb-f48971cb65e8   \n",
       "3  9df60c57-fdf3-4e93-828e-fe9303f20438   \n",
       "4  21d3e683-80a4-4d9b-bc89-ebb2df513dde   \n",
       "5  13a027de-ea3e-432b-9a5e-6bc7048498fc   \n",
       "6  5a11f879-d1ef-458a-910c-9b0bdfca5ebf   \n",
       "7  9dbab10c-118d-496b-966a-67f1763a6b7d   \n",
       "8  c5d88abe-f23a-45fa-a534-788985e93dad   \n",
       "9  a68b64d8-aee3-4947-81b7-36b8fe5a44d2   \n",
       "\n",
       "                                        dataset_name  raw downloads  value  \n",
       "0                         Tabula Sapiens - All Cells             34     94  \n",
       "1  Azimuth meta-analysis of 10 datasets of health...             66     86  \n",
       "2  Single cell transcriptome analysis of human pa...             65     67  \n",
       "3  Single cell transcriptional and chromatin acce...             60     50  \n",
       "4  Time-resolved Systems Immunology Reveals a Lat...             53     44  \n",
       "5  Single cell transcriptional and chromatin acce...             47     39  \n",
       "6                       Tabula Sapiens - Endothelial             13     35  \n",
       "7  Large-scale single-cell analysis reveals criti...             27     33  \n",
       "8                            Tabula Sapiens - Immune             12     32  \n",
       "9                           Tabula Sapiens - Stromal             12     32  "
      ]
     },
     "execution_count": 143,
     "metadata": {},
     "output_type": "execute_result"
    }
   ],
   "source": [
    "top_ds_norm = combined[['dataset_id', 'dataset_name','download_dt','remoteip']].drop_duplicates()\n",
    "top_ds_norm['raw downloads'] = 1\n",
    "top_ds_norm = top_ds_norm.groupby(['dataset_id', 'dataset_name']).sum().reset_index()\n",
    "top_ds_norm = top_ds_norm.merge(datasets_df[['dataset_id', 'dataset_dt']], how = 'inner', on = 'dataset_id')\n",
    "\n",
    "top_ds_norm['date_since'] = top_ds_norm['dataset_dt']\n",
    "top_ds_norm.loc[top_ds_norm['dataset_dt'] < '2021-04-27', 'date_since'] = datetime.datetime(2021, 4, 27)\n",
    "top_ds_norm['date_since'] = top_ds_norm['date_since'].dt.date\n",
    "\n",
    "top_ds_norm['days_on_platform'] = datetime.date.today() - top_ds_norm['date_since']\n",
    "top_ds_norm['days_on_platform'] = top_ds_norm['days_on_platform'].dt.days\n",
    "top_ds_norm['value'] = ((top_ds_norm['raw downloads']/top_ds_norm['days_on_platform'])*100).astype(int)\n",
    "\n",
    "top_ds_norm = top_ds_norm[['dataset_id', 'dataset_name', 'raw downloads', 'value']].sort_values(by=['value'], ascending = False).reset_index(drop = True)\n",
    "top_ds_norm[0:10]"
   ]
  },
  {
   "cell_type": "markdown",
   "id": "29a09e24",
   "metadata": {
    "extensions": {
     "jupyter_dashboards": {
      "version": 1,
      "views": {
       "grid_default": {},
       "report_default": {
        "hidden": false
       }
      }
     }
    }
   },
   "source": [
    "## Download pattern of datasets"
   ]
  },
  {
   "cell_type": "code",
   "execution_count": 199,
   "id": "1024dc80",
   "metadata": {
    "extensions": {
     "jupyter_dashboards": {
      "version": 1,
      "views": {
       "grid_default": {},
       "report_default": {
        "hidden": true
       }
      }
     }
    }
   },
   "outputs": [],
   "source": [
    "def create_trace_cum_daily(dataset_id):\n",
    "    output = downloads_df[downloads_df['dataset_id'] == dataset_id]\n",
    "    output = output[['download_dt', 'remoteip']].drop_duplicates()\n",
    "    output['count'] = 1\n",
    "    output = output[['download_dt', 'count']].groupby(['download_dt']).sum().reset_index()\n",
    "    output['cum_downloads'] = output['count'].cumsum()\n",
    "    return (output['download_dt'].tolist(), output['cum_downloads'].tolist())\n",
    "\n",
    "def add_trace(fig, x_list, y_list, label):\n",
    "    fig.add_trace(go.Scatter(x=x_list, y=y_list,\n",
    "                    mode='lines+markers', \n",
    "                    hovertemplate = \n",
    "                            '<i>Date</i>: %{x}'+\n",
    "                            '<br>Downloads</i>: %{y}<br>'+\n",
    "                            '<br>%{text}</i>', text = [label for i in range(len(x_list))]))\n",
    "\n",
    "    \n",
    "def dataset_download_trends(d_ids, d_names, title):\n",
    "    x_lists = []\n",
    "    y_lists = []\n",
    "    for id in d_ids:\n",
    "        x, y = create_trace_cum_daily(id)\n",
    "\n",
    "        x_lists.append(x)\n",
    "        y_lists.append(y)\n",
    "    \n",
    "    fig = go.Figure()\n",
    "\n",
    "    for i in range(len(d_ids)):\n",
    "        add_trace(fig, x_lists[i], y_lists[i], d_names[i])\n",
    "\n",
    "    fig.update_layout(\n",
    "        title=title,\n",
    "        xaxis_title=\"date\",\n",
    "        yaxis_title=\"number of downloads\",\n",
    "        showlegend = False\n",
    "    )\n",
    "    \n",
    "    fig.show()"
   ]
  },
  {
   "cell_type": "markdown",
   "id": "a737ea58",
   "metadata": {
    "extensions": {
     "jupyter_dashboards": {
      "version": 1,
      "views": {
       "grid_default": {},
       "report_default": {
        "hidden": false
       }
      }
     }
    }
   },
   "source": [
    "### Raw downloads\n",
    "* Actively downloaded: downloaded 25 times or more\n",
    "* Moderately downloaded: downloaded 10 to 25 times\n",
    "* Lightly downloaded: downloaded less than 10 times"
   ]
  },
  {
   "cell_type": "markdown",
   "id": "fb821d07",
   "metadata": {
    "extensions": {
     "jupyter_dashboards": {
      "version": 1,
      "views": {
       "grid_default": {},
       "report_default": {
        "hidden": false
       }
      }
     }
    }
   },
   "source": [
    "#### Evaluate download groups"
   ]
  },
  {
   "cell_type": "code",
   "execution_count": 144,
   "id": "aeb7e541",
   "metadata": {
    "extensions": {
     "jupyter_dashboards": {
      "version": 1,
      "views": {
       "grid_default": {},
       "report_default": {
        "hidden": false
       }
      }
     }
    }
   },
   "outputs": [
    {
     "data": {
      "application/vnd.plotly.v1+json": {
       "config": {
        "plotlyServerURL": "https://plot.ly"
       },
       "data": [
        {
         "type": "histogram",
         "x": [
          66,
          65,
          60,
          53,
          47,
          36,
          35,
          34,
          29,
          29,
          28,
          28,
          27,
          26,
          26,
          24,
          24,
          22,
          21,
          21,
          21,
          20,
          19,
          17,
          17,
          16,
          16,
          16,
          16,
          15,
          15,
          14,
          14,
          14,
          14,
          13,
          13,
          13,
          13,
          13,
          13,
          13,
          13,
          13,
          13,
          13,
          13,
          13,
          13,
          12,
          12,
          12,
          12,
          12,
          12,
          12,
          12,
          12,
          12,
          12,
          11,
          11,
          10,
          10,
          10,
          10,
          9,
          9,
          9,
          9,
          9,
          9,
          9,
          9,
          8,
          8,
          8,
          8,
          8,
          8,
          8,
          7,
          7,
          7,
          7,
          7,
          7,
          7,
          7,
          7,
          7,
          7,
          7,
          7,
          7,
          7,
          7,
          7,
          7,
          7,
          7,
          7,
          7,
          7,
          7,
          7,
          6,
          6,
          6,
          6,
          6,
          6,
          6,
          6,
          6,
          6,
          6,
          6,
          6,
          6,
          6,
          5,
          4,
          3,
          3,
          2,
          2,
          2,
          2,
          2,
          2,
          2,
          2,
          2,
          2,
          1,
          1,
          1,
          1
         ]
        }
       ],
       "layout": {
        "showlegend": false,
        "template": {
         "data": {
          "bar": [
           {
            "error_x": {
             "color": "#2a3f5f"
            },
            "error_y": {
             "color": "#2a3f5f"
            },
            "marker": {
             "line": {
              "color": "#E5ECF6",
              "width": 0.5
             },
             "pattern": {
              "fillmode": "overlay",
              "size": 10,
              "solidity": 0.2
             }
            },
            "type": "bar"
           }
          ],
          "barpolar": [
           {
            "marker": {
             "line": {
              "color": "#E5ECF6",
              "width": 0.5
             },
             "pattern": {
              "fillmode": "overlay",
              "size": 10,
              "solidity": 0.2
             }
            },
            "type": "barpolar"
           }
          ],
          "carpet": [
           {
            "aaxis": {
             "endlinecolor": "#2a3f5f",
             "gridcolor": "white",
             "linecolor": "white",
             "minorgridcolor": "white",
             "startlinecolor": "#2a3f5f"
            },
            "baxis": {
             "endlinecolor": "#2a3f5f",
             "gridcolor": "white",
             "linecolor": "white",
             "minorgridcolor": "white",
             "startlinecolor": "#2a3f5f"
            },
            "type": "carpet"
           }
          ],
          "choropleth": [
           {
            "colorbar": {
             "outlinewidth": 0,
             "ticks": ""
            },
            "type": "choropleth"
           }
          ],
          "contour": [
           {
            "colorbar": {
             "outlinewidth": 0,
             "ticks": ""
            },
            "colorscale": [
             [
              0,
              "#0d0887"
             ],
             [
              0.1111111111111111,
              "#46039f"
             ],
             [
              0.2222222222222222,
              "#7201a8"
             ],
             [
              0.3333333333333333,
              "#9c179e"
             ],
             [
              0.4444444444444444,
              "#bd3786"
             ],
             [
              0.5555555555555556,
              "#d8576b"
             ],
             [
              0.6666666666666666,
              "#ed7953"
             ],
             [
              0.7777777777777778,
              "#fb9f3a"
             ],
             [
              0.8888888888888888,
              "#fdca26"
             ],
             [
              1,
              "#f0f921"
             ]
            ],
            "type": "contour"
           }
          ],
          "contourcarpet": [
           {
            "colorbar": {
             "outlinewidth": 0,
             "ticks": ""
            },
            "type": "contourcarpet"
           }
          ],
          "heatmap": [
           {
            "colorbar": {
             "outlinewidth": 0,
             "ticks": ""
            },
            "colorscale": [
             [
              0,
              "#0d0887"
             ],
             [
              0.1111111111111111,
              "#46039f"
             ],
             [
              0.2222222222222222,
              "#7201a8"
             ],
             [
              0.3333333333333333,
              "#9c179e"
             ],
             [
              0.4444444444444444,
              "#bd3786"
             ],
             [
              0.5555555555555556,
              "#d8576b"
             ],
             [
              0.6666666666666666,
              "#ed7953"
             ],
             [
              0.7777777777777778,
              "#fb9f3a"
             ],
             [
              0.8888888888888888,
              "#fdca26"
             ],
             [
              1,
              "#f0f921"
             ]
            ],
            "type": "heatmap"
           }
          ],
          "heatmapgl": [
           {
            "colorbar": {
             "outlinewidth": 0,
             "ticks": ""
            },
            "colorscale": [
             [
              0,
              "#0d0887"
             ],
             [
              0.1111111111111111,
              "#46039f"
             ],
             [
              0.2222222222222222,
              "#7201a8"
             ],
             [
              0.3333333333333333,
              "#9c179e"
             ],
             [
              0.4444444444444444,
              "#bd3786"
             ],
             [
              0.5555555555555556,
              "#d8576b"
             ],
             [
              0.6666666666666666,
              "#ed7953"
             ],
             [
              0.7777777777777778,
              "#fb9f3a"
             ],
             [
              0.8888888888888888,
              "#fdca26"
             ],
             [
              1,
              "#f0f921"
             ]
            ],
            "type": "heatmapgl"
           }
          ],
          "histogram": [
           {
            "marker": {
             "pattern": {
              "fillmode": "overlay",
              "size": 10,
              "solidity": 0.2
             }
            },
            "type": "histogram"
           }
          ],
          "histogram2d": [
           {
            "colorbar": {
             "outlinewidth": 0,
             "ticks": ""
            },
            "colorscale": [
             [
              0,
              "#0d0887"
             ],
             [
              0.1111111111111111,
              "#46039f"
             ],
             [
              0.2222222222222222,
              "#7201a8"
             ],
             [
              0.3333333333333333,
              "#9c179e"
             ],
             [
              0.4444444444444444,
              "#bd3786"
             ],
             [
              0.5555555555555556,
              "#d8576b"
             ],
             [
              0.6666666666666666,
              "#ed7953"
             ],
             [
              0.7777777777777778,
              "#fb9f3a"
             ],
             [
              0.8888888888888888,
              "#fdca26"
             ],
             [
              1,
              "#f0f921"
             ]
            ],
            "type": "histogram2d"
           }
          ],
          "histogram2dcontour": [
           {
            "colorbar": {
             "outlinewidth": 0,
             "ticks": ""
            },
            "colorscale": [
             [
              0,
              "#0d0887"
             ],
             [
              0.1111111111111111,
              "#46039f"
             ],
             [
              0.2222222222222222,
              "#7201a8"
             ],
             [
              0.3333333333333333,
              "#9c179e"
             ],
             [
              0.4444444444444444,
              "#bd3786"
             ],
             [
              0.5555555555555556,
              "#d8576b"
             ],
             [
              0.6666666666666666,
              "#ed7953"
             ],
             [
              0.7777777777777778,
              "#fb9f3a"
             ],
             [
              0.8888888888888888,
              "#fdca26"
             ],
             [
              1,
              "#f0f921"
             ]
            ],
            "type": "histogram2dcontour"
           }
          ],
          "mesh3d": [
           {
            "colorbar": {
             "outlinewidth": 0,
             "ticks": ""
            },
            "type": "mesh3d"
           }
          ],
          "parcoords": [
           {
            "line": {
             "colorbar": {
              "outlinewidth": 0,
              "ticks": ""
             }
            },
            "type": "parcoords"
           }
          ],
          "pie": [
           {
            "automargin": true,
            "type": "pie"
           }
          ],
          "scatter": [
           {
            "marker": {
             "colorbar": {
              "outlinewidth": 0,
              "ticks": ""
             }
            },
            "type": "scatter"
           }
          ],
          "scatter3d": [
           {
            "line": {
             "colorbar": {
              "outlinewidth": 0,
              "ticks": ""
             }
            },
            "marker": {
             "colorbar": {
              "outlinewidth": 0,
              "ticks": ""
             }
            },
            "type": "scatter3d"
           }
          ],
          "scattercarpet": [
           {
            "marker": {
             "colorbar": {
              "outlinewidth": 0,
              "ticks": ""
             }
            },
            "type": "scattercarpet"
           }
          ],
          "scattergeo": [
           {
            "marker": {
             "colorbar": {
              "outlinewidth": 0,
              "ticks": ""
             }
            },
            "type": "scattergeo"
           }
          ],
          "scattergl": [
           {
            "marker": {
             "colorbar": {
              "outlinewidth": 0,
              "ticks": ""
             }
            },
            "type": "scattergl"
           }
          ],
          "scattermapbox": [
           {
            "marker": {
             "colorbar": {
              "outlinewidth": 0,
              "ticks": ""
             }
            },
            "type": "scattermapbox"
           }
          ],
          "scatterpolar": [
           {
            "marker": {
             "colorbar": {
              "outlinewidth": 0,
              "ticks": ""
             }
            },
            "type": "scatterpolar"
           }
          ],
          "scatterpolargl": [
           {
            "marker": {
             "colorbar": {
              "outlinewidth": 0,
              "ticks": ""
             }
            },
            "type": "scatterpolargl"
           }
          ],
          "scatterternary": [
           {
            "marker": {
             "colorbar": {
              "outlinewidth": 0,
              "ticks": ""
             }
            },
            "type": "scatterternary"
           }
          ],
          "surface": [
           {
            "colorbar": {
             "outlinewidth": 0,
             "ticks": ""
            },
            "colorscale": [
             [
              0,
              "#0d0887"
             ],
             [
              0.1111111111111111,
              "#46039f"
             ],
             [
              0.2222222222222222,
              "#7201a8"
             ],
             [
              0.3333333333333333,
              "#9c179e"
             ],
             [
              0.4444444444444444,
              "#bd3786"
             ],
             [
              0.5555555555555556,
              "#d8576b"
             ],
             [
              0.6666666666666666,
              "#ed7953"
             ],
             [
              0.7777777777777778,
              "#fb9f3a"
             ],
             [
              0.8888888888888888,
              "#fdca26"
             ],
             [
              1,
              "#f0f921"
             ]
            ],
            "type": "surface"
           }
          ],
          "table": [
           {
            "cells": {
             "fill": {
              "color": "#EBF0F8"
             },
             "line": {
              "color": "white"
             }
            },
            "header": {
             "fill": {
              "color": "#C8D4E3"
             },
             "line": {
              "color": "white"
             }
            },
            "type": "table"
           }
          ]
         },
         "layout": {
          "annotationdefaults": {
           "arrowcolor": "#2a3f5f",
           "arrowhead": 0,
           "arrowwidth": 1
          },
          "autotypenumbers": "strict",
          "coloraxis": {
           "colorbar": {
            "outlinewidth": 0,
            "ticks": ""
           }
          },
          "colorscale": {
           "diverging": [
            [
             0,
             "#8e0152"
            ],
            [
             0.1,
             "#c51b7d"
            ],
            [
             0.2,
             "#de77ae"
            ],
            [
             0.3,
             "#f1b6da"
            ],
            [
             0.4,
             "#fde0ef"
            ],
            [
             0.5,
             "#f7f7f7"
            ],
            [
             0.6,
             "#e6f5d0"
            ],
            [
             0.7,
             "#b8e186"
            ],
            [
             0.8,
             "#7fbc41"
            ],
            [
             0.9,
             "#4d9221"
            ],
            [
             1,
             "#276419"
            ]
           ],
           "sequential": [
            [
             0,
             "#0d0887"
            ],
            [
             0.1111111111111111,
             "#46039f"
            ],
            [
             0.2222222222222222,
             "#7201a8"
            ],
            [
             0.3333333333333333,
             "#9c179e"
            ],
            [
             0.4444444444444444,
             "#bd3786"
            ],
            [
             0.5555555555555556,
             "#d8576b"
            ],
            [
             0.6666666666666666,
             "#ed7953"
            ],
            [
             0.7777777777777778,
             "#fb9f3a"
            ],
            [
             0.8888888888888888,
             "#fdca26"
            ],
            [
             1,
             "#f0f921"
            ]
           ],
           "sequentialminus": [
            [
             0,
             "#0d0887"
            ],
            [
             0.1111111111111111,
             "#46039f"
            ],
            [
             0.2222222222222222,
             "#7201a8"
            ],
            [
             0.3333333333333333,
             "#9c179e"
            ],
            [
             0.4444444444444444,
             "#bd3786"
            ],
            [
             0.5555555555555556,
             "#d8576b"
            ],
            [
             0.6666666666666666,
             "#ed7953"
            ],
            [
             0.7777777777777778,
             "#fb9f3a"
            ],
            [
             0.8888888888888888,
             "#fdca26"
            ],
            [
             1,
             "#f0f921"
            ]
           ]
          },
          "colorway": [
           "#636efa",
           "#EF553B",
           "#00cc96",
           "#ab63fa",
           "#FFA15A",
           "#19d3f3",
           "#FF6692",
           "#B6E880",
           "#FF97FF",
           "#FECB52"
          ],
          "font": {
           "color": "#2a3f5f"
          },
          "geo": {
           "bgcolor": "white",
           "lakecolor": "white",
           "landcolor": "#E5ECF6",
           "showlakes": true,
           "showland": true,
           "subunitcolor": "white"
          },
          "hoverlabel": {
           "align": "left"
          },
          "hovermode": "closest",
          "mapbox": {
           "style": "light"
          },
          "paper_bgcolor": "white",
          "plot_bgcolor": "#E5ECF6",
          "polar": {
           "angularaxis": {
            "gridcolor": "white",
            "linecolor": "white",
            "ticks": ""
           },
           "bgcolor": "#E5ECF6",
           "radialaxis": {
            "gridcolor": "white",
            "linecolor": "white",
            "ticks": ""
           }
          },
          "scene": {
           "xaxis": {
            "backgroundcolor": "#E5ECF6",
            "gridcolor": "white",
            "gridwidth": 2,
            "linecolor": "white",
            "showbackground": true,
            "ticks": "",
            "zerolinecolor": "white"
           },
           "yaxis": {
            "backgroundcolor": "#E5ECF6",
            "gridcolor": "white",
            "gridwidth": 2,
            "linecolor": "white",
            "showbackground": true,
            "ticks": "",
            "zerolinecolor": "white"
           },
           "zaxis": {
            "backgroundcolor": "#E5ECF6",
            "gridcolor": "white",
            "gridwidth": 2,
            "linecolor": "white",
            "showbackground": true,
            "ticks": "",
            "zerolinecolor": "white"
           }
          },
          "shapedefaults": {
           "line": {
            "color": "#2a3f5f"
           }
          },
          "ternary": {
           "aaxis": {
            "gridcolor": "white",
            "linecolor": "white",
            "ticks": ""
           },
           "baxis": {
            "gridcolor": "white",
            "linecolor": "white",
            "ticks": ""
           },
           "bgcolor": "#E5ECF6",
           "caxis": {
            "gridcolor": "white",
            "linecolor": "white",
            "ticks": ""
           }
          },
          "title": {
           "x": 0.05
          },
          "xaxis": {
           "automargin": true,
           "gridcolor": "white",
           "linecolor": "white",
           "ticks": "",
           "title": {
            "standoff": 15
           },
           "zerolinecolor": "white",
           "zerolinewidth": 2
          },
          "yaxis": {
           "automargin": true,
           "gridcolor": "white",
           "linecolor": "white",
           "ticks": "",
           "title": {
            "standoff": 15
           },
           "zerolinecolor": "white",
           "zerolinewidth": 2
          }
         }
        },
        "xaxis": {
         "title": {
          "text": "number of downloads"
         }
        },
        "yaxis": {
         "title": {
          "text": "count"
         }
        }
       }
      },
      "text/html": [
       "<div>                            <div id=\"ac76a660-8d44-4e35-8894-505af50bcbb1\" class=\"plotly-graph-div\" style=\"height:525px; width:100%;\"></div>            <script type=\"text/javascript\">                require([\"plotly\"], function(Plotly) {                    window.PLOTLYENV=window.PLOTLYENV || {};                                    if (document.getElementById(\"ac76a660-8d44-4e35-8894-505af50bcbb1\")) {                    Plotly.newPlot(                        \"ac76a660-8d44-4e35-8894-505af50bcbb1\",                        [{\"type\":\"histogram\",\"x\":[66,65,60,53,47,36,35,34,29,29,28,28,27,26,26,24,24,22,21,21,21,20,19,17,17,16,16,16,16,15,15,14,14,14,14,13,13,13,13,13,13,13,13,13,13,13,13,13,13,12,12,12,12,12,12,12,12,12,12,12,11,11,10,10,10,10,9,9,9,9,9,9,9,9,8,8,8,8,8,8,8,7,7,7,7,7,7,7,7,7,7,7,7,7,7,7,7,7,7,7,7,7,7,7,7,7,6,6,6,6,6,6,6,6,6,6,6,6,6,6,6,5,4,3,3,2,2,2,2,2,2,2,2,2,2,1,1,1,1]}],                        {\"showlegend\":false,\"template\":{\"data\":{\"bar\":[{\"error_x\":{\"color\":\"#2a3f5f\"},\"error_y\":{\"color\":\"#2a3f5f\"},\"marker\":{\"line\":{\"color\":\"#E5ECF6\",\"width\":0.5},\"pattern\":{\"fillmode\":\"overlay\",\"size\":10,\"solidity\":0.2}},\"type\":\"bar\"}],\"barpolar\":[{\"marker\":{\"line\":{\"color\":\"#E5ECF6\",\"width\":0.5},\"pattern\":{\"fillmode\":\"overlay\",\"size\":10,\"solidity\":0.2}},\"type\":\"barpolar\"}],\"carpet\":[{\"aaxis\":{\"endlinecolor\":\"#2a3f5f\",\"gridcolor\":\"white\",\"linecolor\":\"white\",\"minorgridcolor\":\"white\",\"startlinecolor\":\"#2a3f5f\"},\"baxis\":{\"endlinecolor\":\"#2a3f5f\",\"gridcolor\":\"white\",\"linecolor\":\"white\",\"minorgridcolor\":\"white\",\"startlinecolor\":\"#2a3f5f\"},\"type\":\"carpet\"}],\"choropleth\":[{\"colorbar\":{\"outlinewidth\":0,\"ticks\":\"\"},\"type\":\"choropleth\"}],\"contour\":[{\"colorbar\":{\"outlinewidth\":0,\"ticks\":\"\"},\"colorscale\":[[0.0,\"#0d0887\"],[0.1111111111111111,\"#46039f\"],[0.2222222222222222,\"#7201a8\"],[0.3333333333333333,\"#9c179e\"],[0.4444444444444444,\"#bd3786\"],[0.5555555555555556,\"#d8576b\"],[0.6666666666666666,\"#ed7953\"],[0.7777777777777778,\"#fb9f3a\"],[0.8888888888888888,\"#fdca26\"],[1.0,\"#f0f921\"]],\"type\":\"contour\"}],\"contourcarpet\":[{\"colorbar\":{\"outlinewidth\":0,\"ticks\":\"\"},\"type\":\"contourcarpet\"}],\"heatmap\":[{\"colorbar\":{\"outlinewidth\":0,\"ticks\":\"\"},\"colorscale\":[[0.0,\"#0d0887\"],[0.1111111111111111,\"#46039f\"],[0.2222222222222222,\"#7201a8\"],[0.3333333333333333,\"#9c179e\"],[0.4444444444444444,\"#bd3786\"],[0.5555555555555556,\"#d8576b\"],[0.6666666666666666,\"#ed7953\"],[0.7777777777777778,\"#fb9f3a\"],[0.8888888888888888,\"#fdca26\"],[1.0,\"#f0f921\"]],\"type\":\"heatmap\"}],\"heatmapgl\":[{\"colorbar\":{\"outlinewidth\":0,\"ticks\":\"\"},\"colorscale\":[[0.0,\"#0d0887\"],[0.1111111111111111,\"#46039f\"],[0.2222222222222222,\"#7201a8\"],[0.3333333333333333,\"#9c179e\"],[0.4444444444444444,\"#bd3786\"],[0.5555555555555556,\"#d8576b\"],[0.6666666666666666,\"#ed7953\"],[0.7777777777777778,\"#fb9f3a\"],[0.8888888888888888,\"#fdca26\"],[1.0,\"#f0f921\"]],\"type\":\"heatmapgl\"}],\"histogram\":[{\"marker\":{\"pattern\":{\"fillmode\":\"overlay\",\"size\":10,\"solidity\":0.2}},\"type\":\"histogram\"}],\"histogram2d\":[{\"colorbar\":{\"outlinewidth\":0,\"ticks\":\"\"},\"colorscale\":[[0.0,\"#0d0887\"],[0.1111111111111111,\"#46039f\"],[0.2222222222222222,\"#7201a8\"],[0.3333333333333333,\"#9c179e\"],[0.4444444444444444,\"#bd3786\"],[0.5555555555555556,\"#d8576b\"],[0.6666666666666666,\"#ed7953\"],[0.7777777777777778,\"#fb9f3a\"],[0.8888888888888888,\"#fdca26\"],[1.0,\"#f0f921\"]],\"type\":\"histogram2d\"}],\"histogram2dcontour\":[{\"colorbar\":{\"outlinewidth\":0,\"ticks\":\"\"},\"colorscale\":[[0.0,\"#0d0887\"],[0.1111111111111111,\"#46039f\"],[0.2222222222222222,\"#7201a8\"],[0.3333333333333333,\"#9c179e\"],[0.4444444444444444,\"#bd3786\"],[0.5555555555555556,\"#d8576b\"],[0.6666666666666666,\"#ed7953\"],[0.7777777777777778,\"#fb9f3a\"],[0.8888888888888888,\"#fdca26\"],[1.0,\"#f0f921\"]],\"type\":\"histogram2dcontour\"}],\"mesh3d\":[{\"colorbar\":{\"outlinewidth\":0,\"ticks\":\"\"},\"type\":\"mesh3d\"}],\"parcoords\":[{\"line\":{\"colorbar\":{\"outlinewidth\":0,\"ticks\":\"\"}},\"type\":\"parcoords\"}],\"pie\":[{\"automargin\":true,\"type\":\"pie\"}],\"scatter\":[{\"marker\":{\"colorbar\":{\"outlinewidth\":0,\"ticks\":\"\"}},\"type\":\"scatter\"}],\"scatter3d\":[{\"line\":{\"colorbar\":{\"outlinewidth\":0,\"ticks\":\"\"}},\"marker\":{\"colorbar\":{\"outlinewidth\":0,\"ticks\":\"\"}},\"type\":\"scatter3d\"}],\"scattercarpet\":[{\"marker\":{\"colorbar\":{\"outlinewidth\":0,\"ticks\":\"\"}},\"type\":\"scattercarpet\"}],\"scattergeo\":[{\"marker\":{\"colorbar\":{\"outlinewidth\":0,\"ticks\":\"\"}},\"type\":\"scattergeo\"}],\"scattergl\":[{\"marker\":{\"colorbar\":{\"outlinewidth\":0,\"ticks\":\"\"}},\"type\":\"scattergl\"}],\"scattermapbox\":[{\"marker\":{\"colorbar\":{\"outlinewidth\":0,\"ticks\":\"\"}},\"type\":\"scattermapbox\"}],\"scatterpolar\":[{\"marker\":{\"colorbar\":{\"outlinewidth\":0,\"ticks\":\"\"}},\"type\":\"scatterpolar\"}],\"scatterpolargl\":[{\"marker\":{\"colorbar\":{\"outlinewidth\":0,\"ticks\":\"\"}},\"type\":\"scatterpolargl\"}],\"scatterternary\":[{\"marker\":{\"colorbar\":{\"outlinewidth\":0,\"ticks\":\"\"}},\"type\":\"scatterternary\"}],\"surface\":[{\"colorbar\":{\"outlinewidth\":0,\"ticks\":\"\"},\"colorscale\":[[0.0,\"#0d0887\"],[0.1111111111111111,\"#46039f\"],[0.2222222222222222,\"#7201a8\"],[0.3333333333333333,\"#9c179e\"],[0.4444444444444444,\"#bd3786\"],[0.5555555555555556,\"#d8576b\"],[0.6666666666666666,\"#ed7953\"],[0.7777777777777778,\"#fb9f3a\"],[0.8888888888888888,\"#fdca26\"],[1.0,\"#f0f921\"]],\"type\":\"surface\"}],\"table\":[{\"cells\":{\"fill\":{\"color\":\"#EBF0F8\"},\"line\":{\"color\":\"white\"}},\"header\":{\"fill\":{\"color\":\"#C8D4E3\"},\"line\":{\"color\":\"white\"}},\"type\":\"table\"}]},\"layout\":{\"annotationdefaults\":{\"arrowcolor\":\"#2a3f5f\",\"arrowhead\":0,\"arrowwidth\":1},\"autotypenumbers\":\"strict\",\"coloraxis\":{\"colorbar\":{\"outlinewidth\":0,\"ticks\":\"\"}},\"colorscale\":{\"diverging\":[[0,\"#8e0152\"],[0.1,\"#c51b7d\"],[0.2,\"#de77ae\"],[0.3,\"#f1b6da\"],[0.4,\"#fde0ef\"],[0.5,\"#f7f7f7\"],[0.6,\"#e6f5d0\"],[0.7,\"#b8e186\"],[0.8,\"#7fbc41\"],[0.9,\"#4d9221\"],[1,\"#276419\"]],\"sequential\":[[0.0,\"#0d0887\"],[0.1111111111111111,\"#46039f\"],[0.2222222222222222,\"#7201a8\"],[0.3333333333333333,\"#9c179e\"],[0.4444444444444444,\"#bd3786\"],[0.5555555555555556,\"#d8576b\"],[0.6666666666666666,\"#ed7953\"],[0.7777777777777778,\"#fb9f3a\"],[0.8888888888888888,\"#fdca26\"],[1.0,\"#f0f921\"]],\"sequentialminus\":[[0.0,\"#0d0887\"],[0.1111111111111111,\"#46039f\"],[0.2222222222222222,\"#7201a8\"],[0.3333333333333333,\"#9c179e\"],[0.4444444444444444,\"#bd3786\"],[0.5555555555555556,\"#d8576b\"],[0.6666666666666666,\"#ed7953\"],[0.7777777777777778,\"#fb9f3a\"],[0.8888888888888888,\"#fdca26\"],[1.0,\"#f0f921\"]]},\"colorway\":[\"#636efa\",\"#EF553B\",\"#00cc96\",\"#ab63fa\",\"#FFA15A\",\"#19d3f3\",\"#FF6692\",\"#B6E880\",\"#FF97FF\",\"#FECB52\"],\"font\":{\"color\":\"#2a3f5f\"},\"geo\":{\"bgcolor\":\"white\",\"lakecolor\":\"white\",\"landcolor\":\"#E5ECF6\",\"showlakes\":true,\"showland\":true,\"subunitcolor\":\"white\"},\"hoverlabel\":{\"align\":\"left\"},\"hovermode\":\"closest\",\"mapbox\":{\"style\":\"light\"},\"paper_bgcolor\":\"white\",\"plot_bgcolor\":\"#E5ECF6\",\"polar\":{\"angularaxis\":{\"gridcolor\":\"white\",\"linecolor\":\"white\",\"ticks\":\"\"},\"bgcolor\":\"#E5ECF6\",\"radialaxis\":{\"gridcolor\":\"white\",\"linecolor\":\"white\",\"ticks\":\"\"}},\"scene\":{\"xaxis\":{\"backgroundcolor\":\"#E5ECF6\",\"gridcolor\":\"white\",\"gridwidth\":2,\"linecolor\":\"white\",\"showbackground\":true,\"ticks\":\"\",\"zerolinecolor\":\"white\"},\"yaxis\":{\"backgroundcolor\":\"#E5ECF6\",\"gridcolor\":\"white\",\"gridwidth\":2,\"linecolor\":\"white\",\"showbackground\":true,\"ticks\":\"\",\"zerolinecolor\":\"white\"},\"zaxis\":{\"backgroundcolor\":\"#E5ECF6\",\"gridcolor\":\"white\",\"gridwidth\":2,\"linecolor\":\"white\",\"showbackground\":true,\"ticks\":\"\",\"zerolinecolor\":\"white\"}},\"shapedefaults\":{\"line\":{\"color\":\"#2a3f5f\"}},\"ternary\":{\"aaxis\":{\"gridcolor\":\"white\",\"linecolor\":\"white\",\"ticks\":\"\"},\"baxis\":{\"gridcolor\":\"white\",\"linecolor\":\"white\",\"ticks\":\"\"},\"bgcolor\":\"#E5ECF6\",\"caxis\":{\"gridcolor\":\"white\",\"linecolor\":\"white\",\"ticks\":\"\"}},\"title\":{\"x\":0.05},\"xaxis\":{\"automargin\":true,\"gridcolor\":\"white\",\"linecolor\":\"white\",\"ticks\":\"\",\"title\":{\"standoff\":15},\"zerolinecolor\":\"white\",\"zerolinewidth\":2},\"yaxis\":{\"automargin\":true,\"gridcolor\":\"white\",\"linecolor\":\"white\",\"ticks\":\"\",\"title\":{\"standoff\":15},\"zerolinecolor\":\"white\",\"zerolinewidth\":2}}},\"xaxis\":{\"title\":{\"text\":\"number of downloads\"}},\"yaxis\":{\"title\":{\"text\":\"count\"}}},                        {\"responsive\": true}                    ).then(function(){\n",
       "                            \n",
       "var gd = document.getElementById('ac76a660-8d44-4e35-8894-505af50bcbb1');\n",
       "var x = new MutationObserver(function (mutations, observer) {{\n",
       "        var display = window.getComputedStyle(gd).display;\n",
       "        if (!display || display === 'none') {{\n",
       "            console.log([gd, 'removed!']);\n",
       "            Plotly.purge(gd);\n",
       "            observer.disconnect();\n",
       "        }}\n",
       "}});\n",
       "\n",
       "// Listen for the removal of the full notebook cells\n",
       "var notebookContainer = gd.closest('#notebook-container');\n",
       "if (notebookContainer) {{\n",
       "    x.observe(notebookContainer, {childList: true});\n",
       "}}\n",
       "\n",
       "// Listen for the clearing of the current output cell\n",
       "var outputEl = gd.closest('.output');\n",
       "if (outputEl) {{\n",
       "    x.observe(outputEl, {childList: true});\n",
       "}}\n",
       "\n",
       "                        })                };                });            </script>        </div>"
      ]
     },
     "metadata": {},
     "output_type": "display_data"
    }
   ],
   "source": [
    "# evaluate how to define download groups \n",
    "x = top_ds_raw['raw downloads'].tolist()\n",
    "fig = go.Figure(data=[go.Histogram(x=x)])\n",
    "fig.update_layout(\n",
    "        xaxis_title=\"number of downloads\",\n",
    "        yaxis_title=\"count\",\n",
    "        showlegend = False\n",
    "    )\n",
    "fig.show()"
   ]
  },
  {
   "cell_type": "markdown",
   "id": "6db38799",
   "metadata": {
    "extensions": {
     "jupyter_dashboards": {
      "version": 1,
      "views": {
       "grid_default": {},
       "report_default": {
        "hidden": false
       }
      }
     }
    }
   },
   "source": [
    "##### Actively downloaded"
   ]
  },
  {
   "cell_type": "code",
   "execution_count": 200,
   "id": "26a1fe26",
   "metadata": {
    "extensions": {
     "jupyter_dashboards": {
      "version": 1,
      "views": {
       "grid_default": {},
       "report_default": {
        "hidden": false
       }
      }
     }
    }
   },
   "outputs": [
    {
     "data": {
      "application/vnd.plotly.v1+json": {
       "config": {
        "plotlyServerURL": "https://plot.ly"
       },
       "data": [
        {
         "hovertemplate": "<i>Date</i>: %{x}<br>Downloads</i>: %{y}<br><br>%{text}</i>",
         "mode": "lines+markers",
         "text": [
          "Azimuth meta-analysis of 10 datasets of healthy and diseased human lung",
          "Azimuth meta-analysis of 10 datasets of healthy and diseased human lung",
          "Azimuth meta-analysis of 10 datasets of healthy and diseased human lung",
          "Azimuth meta-analysis of 10 datasets of healthy and diseased human lung",
          "Azimuth meta-analysis of 10 datasets of healthy and diseased human lung",
          "Azimuth meta-analysis of 10 datasets of healthy and diseased human lung",
          "Azimuth meta-analysis of 10 datasets of healthy and diseased human lung",
          "Azimuth meta-analysis of 10 datasets of healthy and diseased human lung",
          "Azimuth meta-analysis of 10 datasets of healthy and diseased human lung",
          "Azimuth meta-analysis of 10 datasets of healthy and diseased human lung",
          "Azimuth meta-analysis of 10 datasets of healthy and diseased human lung",
          "Azimuth meta-analysis of 10 datasets of healthy and diseased human lung",
          "Azimuth meta-analysis of 10 datasets of healthy and diseased human lung",
          "Azimuth meta-analysis of 10 datasets of healthy and diseased human lung",
          "Azimuth meta-analysis of 10 datasets of healthy and diseased human lung",
          "Azimuth meta-analysis of 10 datasets of healthy and diseased human lung",
          "Azimuth meta-analysis of 10 datasets of healthy and diseased human lung",
          "Azimuth meta-analysis of 10 datasets of healthy and diseased human lung",
          "Azimuth meta-analysis of 10 datasets of healthy and diseased human lung",
          "Azimuth meta-analysis of 10 datasets of healthy and diseased human lung",
          "Azimuth meta-analysis of 10 datasets of healthy and diseased human lung",
          "Azimuth meta-analysis of 10 datasets of healthy and diseased human lung",
          "Azimuth meta-analysis of 10 datasets of healthy and diseased human lung",
          "Azimuth meta-analysis of 10 datasets of healthy and diseased human lung",
          "Azimuth meta-analysis of 10 datasets of healthy and diseased human lung",
          "Azimuth meta-analysis of 10 datasets of healthy and diseased human lung",
          "Azimuth meta-analysis of 10 datasets of healthy and diseased human lung",
          "Azimuth meta-analysis of 10 datasets of healthy and diseased human lung",
          "Azimuth meta-analysis of 10 datasets of healthy and diseased human lung",
          "Azimuth meta-analysis of 10 datasets of healthy and diseased human lung",
          "Azimuth meta-analysis of 10 datasets of healthy and diseased human lung",
          "Azimuth meta-analysis of 10 datasets of healthy and diseased human lung",
          "Azimuth meta-analysis of 10 datasets of healthy and diseased human lung",
          "Azimuth meta-analysis of 10 datasets of healthy and diseased human lung"
         ],
         "type": "scatter",
         "x": [
          "2021-06-14",
          "2021-06-15",
          "2021-06-16",
          "2021-06-17",
          "2021-06-18",
          "2021-06-19",
          "2021-06-21",
          "2021-06-22",
          "2021-06-24",
          "2021-06-26",
          "2021-06-28",
          "2021-06-29",
          "2021-07-01",
          "2021-07-02",
          "2021-07-07",
          "2021-07-08",
          "2021-07-09",
          "2021-07-11",
          "2021-07-14",
          "2021-07-15",
          "2021-07-17",
          "2021-07-19",
          "2021-07-20",
          "2021-07-23",
          "2021-07-30",
          "2021-07-31",
          "2021-08-01",
          "2021-08-02",
          "2021-08-03",
          "2021-08-04",
          "2021-08-10",
          "2021-08-11",
          "2021-08-12",
          "2021-08-18"
         ],
         "y": [
          3,
          6,
          10,
          12,
          14,
          15,
          17,
          18,
          20,
          21,
          23,
          27,
          28,
          30,
          32,
          34,
          37,
          38,
          41,
          43,
          44,
          47,
          51,
          52,
          55,
          56,
          57,
          58,
          61,
          62,
          63,
          64,
          65,
          66
         ]
        },
        {
         "hovertemplate": "<i>Date</i>: %{x}<br>Downloads</i>: %{y}<br><br>%{text}</i>",
         "mode": "lines+markers",
         "text": [
          "Single cell transcriptome analysis of human pancreas reveals transcriptional signatures of aging and somatic mutation patterns",
          "Single cell transcriptome analysis of human pancreas reveals transcriptional signatures of aging and somatic mutation patterns",
          "Single cell transcriptome analysis of human pancreas reveals transcriptional signatures of aging and somatic mutation patterns",
          "Single cell transcriptome analysis of human pancreas reveals transcriptional signatures of aging and somatic mutation patterns",
          "Single cell transcriptome analysis of human pancreas reveals transcriptional signatures of aging and somatic mutation patterns",
          "Single cell transcriptome analysis of human pancreas reveals transcriptional signatures of aging and somatic mutation patterns",
          "Single cell transcriptome analysis of human pancreas reveals transcriptional signatures of aging and somatic mutation patterns",
          "Single cell transcriptome analysis of human pancreas reveals transcriptional signatures of aging and somatic mutation patterns",
          "Single cell transcriptome analysis of human pancreas reveals transcriptional signatures of aging and somatic mutation patterns",
          "Single cell transcriptome analysis of human pancreas reveals transcriptional signatures of aging and somatic mutation patterns",
          "Single cell transcriptome analysis of human pancreas reveals transcriptional signatures of aging and somatic mutation patterns",
          "Single cell transcriptome analysis of human pancreas reveals transcriptional signatures of aging and somatic mutation patterns",
          "Single cell transcriptome analysis of human pancreas reveals transcriptional signatures of aging and somatic mutation patterns",
          "Single cell transcriptome analysis of human pancreas reveals transcriptional signatures of aging and somatic mutation patterns",
          "Single cell transcriptome analysis of human pancreas reveals transcriptional signatures of aging and somatic mutation patterns",
          "Single cell transcriptome analysis of human pancreas reveals transcriptional signatures of aging and somatic mutation patterns",
          "Single cell transcriptome analysis of human pancreas reveals transcriptional signatures of aging and somatic mutation patterns",
          "Single cell transcriptome analysis of human pancreas reveals transcriptional signatures of aging and somatic mutation patterns",
          "Single cell transcriptome analysis of human pancreas reveals transcriptional signatures of aging and somatic mutation patterns",
          "Single cell transcriptome analysis of human pancreas reveals transcriptional signatures of aging and somatic mutation patterns",
          "Single cell transcriptome analysis of human pancreas reveals transcriptional signatures of aging and somatic mutation patterns",
          "Single cell transcriptome analysis of human pancreas reveals transcriptional signatures of aging and somatic mutation patterns",
          "Single cell transcriptome analysis of human pancreas reveals transcriptional signatures of aging and somatic mutation patterns",
          "Single cell transcriptome analysis of human pancreas reveals transcriptional signatures of aging and somatic mutation patterns",
          "Single cell transcriptome analysis of human pancreas reveals transcriptional signatures of aging and somatic mutation patterns",
          "Single cell transcriptome analysis of human pancreas reveals transcriptional signatures of aging and somatic mutation patterns",
          "Single cell transcriptome analysis of human pancreas reveals transcriptional signatures of aging and somatic mutation patterns",
          "Single cell transcriptome analysis of human pancreas reveals transcriptional signatures of aging and somatic mutation patterns",
          "Single cell transcriptome analysis of human pancreas reveals transcriptional signatures of aging and somatic mutation patterns",
          "Single cell transcriptome analysis of human pancreas reveals transcriptional signatures of aging and somatic mutation patterns",
          "Single cell transcriptome analysis of human pancreas reveals transcriptional signatures of aging and somatic mutation patterns",
          "Single cell transcriptome analysis of human pancreas reveals transcriptional signatures of aging and somatic mutation patterns",
          "Single cell transcriptome analysis of human pancreas reveals transcriptional signatures of aging and somatic mutation patterns",
          "Single cell transcriptome analysis of human pancreas reveals transcriptional signatures of aging and somatic mutation patterns",
          "Single cell transcriptome analysis of human pancreas reveals transcriptional signatures of aging and somatic mutation patterns",
          "Single cell transcriptome analysis of human pancreas reveals transcriptional signatures of aging and somatic mutation patterns",
          "Single cell transcriptome analysis of human pancreas reveals transcriptional signatures of aging and somatic mutation patterns",
          "Single cell transcriptome analysis of human pancreas reveals transcriptional signatures of aging and somatic mutation patterns",
          "Single cell transcriptome analysis of human pancreas reveals transcriptional signatures of aging and somatic mutation patterns"
         ],
         "type": "scatter",
         "x": [
          "2021-05-20",
          "2021-05-23",
          "2021-05-24",
          "2021-05-25",
          "2021-05-26",
          "2021-05-27",
          "2021-05-28",
          "2021-05-29",
          "2021-05-30",
          "2021-05-31",
          "2021-06-04",
          "2021-06-05",
          "2021-06-06",
          "2021-06-08",
          "2021-06-09",
          "2021-06-10",
          "2021-06-15",
          "2021-06-17",
          "2021-06-19",
          "2021-06-20",
          "2021-06-21",
          "2021-06-28",
          "2021-07-07",
          "2021-07-08",
          "2021-07-09",
          "2021-07-12",
          "2021-07-13",
          "2021-07-14",
          "2021-07-16",
          "2021-07-17",
          "2021-07-19",
          "2021-07-20",
          "2021-07-21",
          "2021-07-23",
          "2021-07-28",
          "2021-07-30",
          "2021-07-31",
          "2021-08-03",
          "2021-08-05"
         ],
         "y": [
          2,
          3,
          4,
          5,
          12,
          17,
          22,
          23,
          24,
          25,
          27,
          29,
          30,
          31,
          32,
          33,
          34,
          35,
          37,
          38,
          40,
          41,
          44,
          45,
          48,
          49,
          50,
          52,
          53,
          54,
          55,
          56,
          57,
          58,
          60,
          61,
          63,
          64,
          65
         ]
        },
        {
         "hovertemplate": "<i>Date</i>: %{x}<br>Downloads</i>: %{y}<br><br>%{text}</i>",
         "mode": "lines+markers",
         "text": [
          "Single cell transcriptional and chromatin accessibility profiling redefine cellular heterogeneity in the adult human kidney - RNAseq",
          "Single cell transcriptional and chromatin accessibility profiling redefine cellular heterogeneity in the adult human kidney - RNAseq",
          "Single cell transcriptional and chromatin accessibility profiling redefine cellular heterogeneity in the adult human kidney - RNAseq",
          "Single cell transcriptional and chromatin accessibility profiling redefine cellular heterogeneity in the adult human kidney - RNAseq",
          "Single cell transcriptional and chromatin accessibility profiling redefine cellular heterogeneity in the adult human kidney - RNAseq",
          "Single cell transcriptional and chromatin accessibility profiling redefine cellular heterogeneity in the adult human kidney - RNAseq",
          "Single cell transcriptional and chromatin accessibility profiling redefine cellular heterogeneity in the adult human kidney - RNAseq",
          "Single cell transcriptional and chromatin accessibility profiling redefine cellular heterogeneity in the adult human kidney - RNAseq",
          "Single cell transcriptional and chromatin accessibility profiling redefine cellular heterogeneity in the adult human kidney - RNAseq",
          "Single cell transcriptional and chromatin accessibility profiling redefine cellular heterogeneity in the adult human kidney - RNAseq",
          "Single cell transcriptional and chromatin accessibility profiling redefine cellular heterogeneity in the adult human kidney - RNAseq",
          "Single cell transcriptional and chromatin accessibility profiling redefine cellular heterogeneity in the adult human kidney - RNAseq",
          "Single cell transcriptional and chromatin accessibility profiling redefine cellular heterogeneity in the adult human kidney - RNAseq",
          "Single cell transcriptional and chromatin accessibility profiling redefine cellular heterogeneity in the adult human kidney - RNAseq",
          "Single cell transcriptional and chromatin accessibility profiling redefine cellular heterogeneity in the adult human kidney - RNAseq",
          "Single cell transcriptional and chromatin accessibility profiling redefine cellular heterogeneity in the adult human kidney - RNAseq",
          "Single cell transcriptional and chromatin accessibility profiling redefine cellular heterogeneity in the adult human kidney - RNAseq",
          "Single cell transcriptional and chromatin accessibility profiling redefine cellular heterogeneity in the adult human kidney - RNAseq",
          "Single cell transcriptional and chromatin accessibility profiling redefine cellular heterogeneity in the adult human kidney - RNAseq",
          "Single cell transcriptional and chromatin accessibility profiling redefine cellular heterogeneity in the adult human kidney - RNAseq",
          "Single cell transcriptional and chromatin accessibility profiling redefine cellular heterogeneity in the adult human kidney - RNAseq",
          "Single cell transcriptional and chromatin accessibility profiling redefine cellular heterogeneity in the adult human kidney - RNAseq",
          "Single cell transcriptional and chromatin accessibility profiling redefine cellular heterogeneity in the adult human kidney - RNAseq",
          "Single cell transcriptional and chromatin accessibility profiling redefine cellular heterogeneity in the adult human kidney - RNAseq",
          "Single cell transcriptional and chromatin accessibility profiling redefine cellular heterogeneity in the adult human kidney - RNAseq",
          "Single cell transcriptional and chromatin accessibility profiling redefine cellular heterogeneity in the adult human kidney - RNAseq",
          "Single cell transcriptional and chromatin accessibility profiling redefine cellular heterogeneity in the adult human kidney - RNAseq",
          "Single cell transcriptional and chromatin accessibility profiling redefine cellular heterogeneity in the adult human kidney - RNAseq",
          "Single cell transcriptional and chromatin accessibility profiling redefine cellular heterogeneity in the adult human kidney - RNAseq",
          "Single cell transcriptional and chromatin accessibility profiling redefine cellular heterogeneity in the adult human kidney - RNAseq",
          "Single cell transcriptional and chromatin accessibility profiling redefine cellular heterogeneity in the adult human kidney - RNAseq",
          "Single cell transcriptional and chromatin accessibility profiling redefine cellular heterogeneity in the adult human kidney - RNAseq",
          "Single cell transcriptional and chromatin accessibility profiling redefine cellular heterogeneity in the adult human kidney - RNAseq",
          "Single cell transcriptional and chromatin accessibility profiling redefine cellular heterogeneity in the adult human kidney - RNAseq",
          "Single cell transcriptional and chromatin accessibility profiling redefine cellular heterogeneity in the adult human kidney - RNAseq",
          "Single cell transcriptional and chromatin accessibility profiling redefine cellular heterogeneity in the adult human kidney - RNAseq",
          "Single cell transcriptional and chromatin accessibility profiling redefine cellular heterogeneity in the adult human kidney - RNAseq",
          "Single cell transcriptional and chromatin accessibility profiling redefine cellular heterogeneity in the adult human kidney - RNAseq",
          "Single cell transcriptional and chromatin accessibility profiling redefine cellular heterogeneity in the adult human kidney - RNAseq",
          "Single cell transcriptional and chromatin accessibility profiling redefine cellular heterogeneity in the adult human kidney - RNAseq",
          "Single cell transcriptional and chromatin accessibility profiling redefine cellular heterogeneity in the adult human kidney - RNAseq",
          "Single cell transcriptional and chromatin accessibility profiling redefine cellular heterogeneity in the adult human kidney - RNAseq"
         ],
         "type": "scatter",
         "x": [
          "2021-04-26",
          "2021-04-28",
          "2021-04-29",
          "2021-05-03",
          "2021-05-04",
          "2021-05-05",
          "2021-05-10",
          "2021-05-11",
          "2021-05-14",
          "2021-05-18",
          "2021-05-19",
          "2021-05-21",
          "2021-05-26",
          "2021-05-27",
          "2021-05-28",
          "2021-06-04",
          "2021-06-05",
          "2021-06-09",
          "2021-06-15",
          "2021-06-18",
          "2021-06-21",
          "2021-06-25",
          "2021-06-29",
          "2021-07-05",
          "2021-07-06",
          "2021-07-07",
          "2021-07-09",
          "2021-07-14",
          "2021-07-15",
          "2021-07-17",
          "2021-07-19",
          "2021-07-23",
          "2021-07-24",
          "2021-07-28",
          "2021-07-29",
          "2021-07-30",
          "2021-07-31",
          "2021-08-11",
          "2021-08-12",
          "2021-08-13",
          "2021-08-16",
          "2021-08-17"
         ],
         "y": [
          1,
          3,
          4,
          5,
          6,
          7,
          8,
          9,
          10,
          11,
          12,
          13,
          15,
          16,
          20,
          21,
          23,
          24,
          25,
          26,
          28,
          29,
          31,
          32,
          34,
          35,
          37,
          38,
          40,
          42,
          44,
          45,
          46,
          49,
          52,
          53,
          54,
          56,
          57,
          58,
          59,
          60
         ]
        },
        {
         "hovertemplate": "<i>Date</i>: %{x}<br>Downloads</i>: %{y}<br><br>%{text}</i>",
         "mode": "lines+markers",
         "text": [
          "Time-resolved Systems Immunology Reveals a Late Juncture Linked to Fatal COVID-19: Adaptive Cells",
          "Time-resolved Systems Immunology Reveals a Late Juncture Linked to Fatal COVID-19: Adaptive Cells",
          "Time-resolved Systems Immunology Reveals a Late Juncture Linked to Fatal COVID-19: Adaptive Cells",
          "Time-resolved Systems Immunology Reveals a Late Juncture Linked to Fatal COVID-19: Adaptive Cells",
          "Time-resolved Systems Immunology Reveals a Late Juncture Linked to Fatal COVID-19: Adaptive Cells",
          "Time-resolved Systems Immunology Reveals a Late Juncture Linked to Fatal COVID-19: Adaptive Cells",
          "Time-resolved Systems Immunology Reveals a Late Juncture Linked to Fatal COVID-19: Adaptive Cells",
          "Time-resolved Systems Immunology Reveals a Late Juncture Linked to Fatal COVID-19: Adaptive Cells",
          "Time-resolved Systems Immunology Reveals a Late Juncture Linked to Fatal COVID-19: Adaptive Cells",
          "Time-resolved Systems Immunology Reveals a Late Juncture Linked to Fatal COVID-19: Adaptive Cells",
          "Time-resolved Systems Immunology Reveals a Late Juncture Linked to Fatal COVID-19: Adaptive Cells",
          "Time-resolved Systems Immunology Reveals a Late Juncture Linked to Fatal COVID-19: Adaptive Cells",
          "Time-resolved Systems Immunology Reveals a Late Juncture Linked to Fatal COVID-19: Adaptive Cells",
          "Time-resolved Systems Immunology Reveals a Late Juncture Linked to Fatal COVID-19: Adaptive Cells",
          "Time-resolved Systems Immunology Reveals a Late Juncture Linked to Fatal COVID-19: Adaptive Cells",
          "Time-resolved Systems Immunology Reveals a Late Juncture Linked to Fatal COVID-19: Adaptive Cells",
          "Time-resolved Systems Immunology Reveals a Late Juncture Linked to Fatal COVID-19: Adaptive Cells",
          "Time-resolved Systems Immunology Reveals a Late Juncture Linked to Fatal COVID-19: Adaptive Cells",
          "Time-resolved Systems Immunology Reveals a Late Juncture Linked to Fatal COVID-19: Adaptive Cells",
          "Time-resolved Systems Immunology Reveals a Late Juncture Linked to Fatal COVID-19: Adaptive Cells",
          "Time-resolved Systems Immunology Reveals a Late Juncture Linked to Fatal COVID-19: Adaptive Cells",
          "Time-resolved Systems Immunology Reveals a Late Juncture Linked to Fatal COVID-19: Adaptive Cells",
          "Time-resolved Systems Immunology Reveals a Late Juncture Linked to Fatal COVID-19: Adaptive Cells",
          "Time-resolved Systems Immunology Reveals a Late Juncture Linked to Fatal COVID-19: Adaptive Cells",
          "Time-resolved Systems Immunology Reveals a Late Juncture Linked to Fatal COVID-19: Adaptive Cells",
          "Time-resolved Systems Immunology Reveals a Late Juncture Linked to Fatal COVID-19: Adaptive Cells",
          "Time-resolved Systems Immunology Reveals a Late Juncture Linked to Fatal COVID-19: Adaptive Cells",
          "Time-resolved Systems Immunology Reveals a Late Juncture Linked to Fatal COVID-19: Adaptive Cells",
          "Time-resolved Systems Immunology Reveals a Late Juncture Linked to Fatal COVID-19: Adaptive Cells",
          "Time-resolved Systems Immunology Reveals a Late Juncture Linked to Fatal COVID-19: Adaptive Cells",
          "Time-resolved Systems Immunology Reveals a Late Juncture Linked to Fatal COVID-19: Adaptive Cells",
          "Time-resolved Systems Immunology Reveals a Late Juncture Linked to Fatal COVID-19: Adaptive Cells",
          "Time-resolved Systems Immunology Reveals a Late Juncture Linked to Fatal COVID-19: Adaptive Cells",
          "Time-resolved Systems Immunology Reveals a Late Juncture Linked to Fatal COVID-19: Adaptive Cells"
         ],
         "type": "scatter",
         "x": [
          "2021-04-23",
          "2021-04-24",
          "2021-04-27",
          "2021-04-28",
          "2021-05-05",
          "2021-05-13",
          "2021-05-19",
          "2021-05-22",
          "2021-05-23",
          "2021-05-28",
          "2021-06-01",
          "2021-06-04",
          "2021-06-05",
          "2021-06-08",
          "2021-06-10",
          "2021-06-11",
          "2021-06-15",
          "2021-06-18",
          "2021-06-21",
          "2021-06-23",
          "2021-06-24",
          "2021-06-30",
          "2021-07-01",
          "2021-07-07",
          "2021-07-09",
          "2021-07-12",
          "2021-07-13",
          "2021-07-14",
          "2021-07-18",
          "2021-07-23",
          "2021-07-29",
          "2021-07-30",
          "2021-08-07",
          "2021-08-13"
         ],
         "y": [
          1,
          2,
          4,
          6,
          7,
          8,
          9,
          10,
          11,
          12,
          15,
          16,
          17,
          18,
          23,
          24,
          26,
          27,
          32,
          33,
          34,
          35,
          38,
          40,
          42,
          43,
          45,
          47,
          48,
          49,
          50,
          51,
          52,
          53
         ]
        },
        {
         "hovertemplate": "<i>Date</i>: %{x}<br>Downloads</i>: %{y}<br><br>%{text}</i>",
         "mode": "lines+markers",
         "text": [
          "Single cell transcriptional and chromatin accessibility profiling redefine cellular heterogeneity in the adult human kidney - ATACseq",
          "Single cell transcriptional and chromatin accessibility profiling redefine cellular heterogeneity in the adult human kidney - ATACseq",
          "Single cell transcriptional and chromatin accessibility profiling redefine cellular heterogeneity in the adult human kidney - ATACseq",
          "Single cell transcriptional and chromatin accessibility profiling redefine cellular heterogeneity in the adult human kidney - ATACseq",
          "Single cell transcriptional and chromatin accessibility profiling redefine cellular heterogeneity in the adult human kidney - ATACseq",
          "Single cell transcriptional and chromatin accessibility profiling redefine cellular heterogeneity in the adult human kidney - ATACseq",
          "Single cell transcriptional and chromatin accessibility profiling redefine cellular heterogeneity in the adult human kidney - ATACseq",
          "Single cell transcriptional and chromatin accessibility profiling redefine cellular heterogeneity in the adult human kidney - ATACseq",
          "Single cell transcriptional and chromatin accessibility profiling redefine cellular heterogeneity in the adult human kidney - ATACseq",
          "Single cell transcriptional and chromatin accessibility profiling redefine cellular heterogeneity in the adult human kidney - ATACseq",
          "Single cell transcriptional and chromatin accessibility profiling redefine cellular heterogeneity in the adult human kidney - ATACseq",
          "Single cell transcriptional and chromatin accessibility profiling redefine cellular heterogeneity in the adult human kidney - ATACseq",
          "Single cell transcriptional and chromatin accessibility profiling redefine cellular heterogeneity in the adult human kidney - ATACseq",
          "Single cell transcriptional and chromatin accessibility profiling redefine cellular heterogeneity in the adult human kidney - ATACseq",
          "Single cell transcriptional and chromatin accessibility profiling redefine cellular heterogeneity in the adult human kidney - ATACseq",
          "Single cell transcriptional and chromatin accessibility profiling redefine cellular heterogeneity in the adult human kidney - ATACseq",
          "Single cell transcriptional and chromatin accessibility profiling redefine cellular heterogeneity in the adult human kidney - ATACseq",
          "Single cell transcriptional and chromatin accessibility profiling redefine cellular heterogeneity in the adult human kidney - ATACseq",
          "Single cell transcriptional and chromatin accessibility profiling redefine cellular heterogeneity in the adult human kidney - ATACseq",
          "Single cell transcriptional and chromatin accessibility profiling redefine cellular heterogeneity in the adult human kidney - ATACseq",
          "Single cell transcriptional and chromatin accessibility profiling redefine cellular heterogeneity in the adult human kidney - ATACseq",
          "Single cell transcriptional and chromatin accessibility profiling redefine cellular heterogeneity in the adult human kidney - ATACseq",
          "Single cell transcriptional and chromatin accessibility profiling redefine cellular heterogeneity in the adult human kidney - ATACseq",
          "Single cell transcriptional and chromatin accessibility profiling redefine cellular heterogeneity in the adult human kidney - ATACseq",
          "Single cell transcriptional and chromatin accessibility profiling redefine cellular heterogeneity in the adult human kidney - ATACseq",
          "Single cell transcriptional and chromatin accessibility profiling redefine cellular heterogeneity in the adult human kidney - ATACseq",
          "Single cell transcriptional and chromatin accessibility profiling redefine cellular heterogeneity in the adult human kidney - ATACseq",
          "Single cell transcriptional and chromatin accessibility profiling redefine cellular heterogeneity in the adult human kidney - ATACseq",
          "Single cell transcriptional and chromatin accessibility profiling redefine cellular heterogeneity in the adult human kidney - ATACseq",
          "Single cell transcriptional and chromatin accessibility profiling redefine cellular heterogeneity in the adult human kidney - ATACseq",
          "Single cell transcriptional and chromatin accessibility profiling redefine cellular heterogeneity in the adult human kidney - ATACseq",
          "Single cell transcriptional and chromatin accessibility profiling redefine cellular heterogeneity in the adult human kidney - ATACseq",
          "Single cell transcriptional and chromatin accessibility profiling redefine cellular heterogeneity in the adult human kidney - ATACseq",
          "Single cell transcriptional and chromatin accessibility profiling redefine cellular heterogeneity in the adult human kidney - ATACseq",
          "Single cell transcriptional and chromatin accessibility profiling redefine cellular heterogeneity in the adult human kidney - ATACseq"
         ],
         "type": "scatter",
         "x": [
          "2021-04-29",
          "2021-05-03",
          "2021-05-04",
          "2021-05-06",
          "2021-05-14",
          "2021-05-18",
          "2021-05-19",
          "2021-05-24",
          "2021-05-26",
          "2021-05-27",
          "2021-05-28",
          "2021-06-04",
          "2021-06-05",
          "2021-06-07",
          "2021-06-09",
          "2021-06-12",
          "2021-06-15",
          "2021-06-18",
          "2021-06-25",
          "2021-07-05",
          "2021-07-06",
          "2021-07-09",
          "2021-07-14",
          "2021-07-15",
          "2021-07-16",
          "2021-07-17",
          "2021-07-19",
          "2021-07-23",
          "2021-07-26",
          "2021-07-28",
          "2021-07-30",
          "2021-08-09",
          "2021-08-11",
          "2021-08-12",
          "2021-08-13"
         ],
         "y": [
          1,
          2,
          4,
          5,
          6,
          7,
          8,
          10,
          11,
          12,
          15,
          16,
          18,
          19,
          20,
          22,
          23,
          24,
          25,
          26,
          28,
          30,
          31,
          33,
          34,
          36,
          38,
          39,
          40,
          41,
          42,
          43,
          44,
          46,
          47
         ]
        },
        {
         "hovertemplate": "<i>Date</i>: %{x}<br>Downloads</i>: %{y}<br><br>%{text}</i>",
         "mode": "lines+markers",
         "text": [
          "Single-cell RNA-Seq Investigation of Foveal and Peripheral Expression in the Human Retina",
          "Single-cell RNA-Seq Investigation of Foveal and Peripheral Expression in the Human Retina",
          "Single-cell RNA-Seq Investigation of Foveal and Peripheral Expression in the Human Retina",
          "Single-cell RNA-Seq Investigation of Foveal and Peripheral Expression in the Human Retina",
          "Single-cell RNA-Seq Investigation of Foveal and Peripheral Expression in the Human Retina",
          "Single-cell RNA-Seq Investigation of Foveal and Peripheral Expression in the Human Retina",
          "Single-cell RNA-Seq Investigation of Foveal and Peripheral Expression in the Human Retina",
          "Single-cell RNA-Seq Investigation of Foveal and Peripheral Expression in the Human Retina",
          "Single-cell RNA-Seq Investigation of Foveal and Peripheral Expression in the Human Retina",
          "Single-cell RNA-Seq Investigation of Foveal and Peripheral Expression in the Human Retina",
          "Single-cell RNA-Seq Investigation of Foveal and Peripheral Expression in the Human Retina",
          "Single-cell RNA-Seq Investigation of Foveal and Peripheral Expression in the Human Retina",
          "Single-cell RNA-Seq Investigation of Foveal and Peripheral Expression in the Human Retina",
          "Single-cell RNA-Seq Investigation of Foveal and Peripheral Expression in the Human Retina",
          "Single-cell RNA-Seq Investigation of Foveal and Peripheral Expression in the Human Retina",
          "Single-cell RNA-Seq Investigation of Foveal and Peripheral Expression in the Human Retina",
          "Single-cell RNA-Seq Investigation of Foveal and Peripheral Expression in the Human Retina",
          "Single-cell RNA-Seq Investigation of Foveal and Peripheral Expression in the Human Retina",
          "Single-cell RNA-Seq Investigation of Foveal and Peripheral Expression in the Human Retina",
          "Single-cell RNA-Seq Investigation of Foveal and Peripheral Expression in the Human Retina",
          "Single-cell RNA-Seq Investigation of Foveal and Peripheral Expression in the Human Retina",
          "Single-cell RNA-Seq Investigation of Foveal and Peripheral Expression in the Human Retina",
          "Single-cell RNA-Seq Investigation of Foveal and Peripheral Expression in the Human Retina",
          "Single-cell RNA-Seq Investigation of Foveal and Peripheral Expression in the Human Retina",
          "Single-cell RNA-Seq Investigation of Foveal and Peripheral Expression in the Human Retina",
          "Single-cell RNA-Seq Investigation of Foveal and Peripheral Expression in the Human Retina",
          "Single-cell RNA-Seq Investigation of Foveal and Peripheral Expression in the Human Retina"
         ],
         "type": "scatter",
         "x": [
          "2021-04-24",
          "2021-04-28",
          "2021-04-29",
          "2021-05-02",
          "2021-05-03",
          "2021-05-05",
          "2021-05-19",
          "2021-05-20",
          "2021-05-26",
          "2021-05-28",
          "2021-06-06",
          "2021-06-10",
          "2021-06-15",
          "2021-06-17",
          "2021-06-25",
          "2021-06-28",
          "2021-07-05",
          "2021-07-07",
          "2021-07-09",
          "2021-07-12",
          "2021-07-14",
          "2021-07-18",
          "2021-07-20",
          "2021-07-21",
          "2021-07-22",
          "2021-07-23",
          "2021-07-30"
         ],
         "y": [
          3,
          4,
          5,
          7,
          8,
          9,
          10,
          11,
          12,
          15,
          16,
          17,
          18,
          19,
          20,
          22,
          23,
          24,
          27,
          28,
          30,
          31,
          32,
          33,
          34,
          35,
          36
         ]
        },
        {
         "hovertemplate": "<i>Date</i>: %{x}<br>Downloads</i>: %{y}<br><br>%{text}</i>",
         "mode": "lines+markers",
         "text": [
          "A Single-Cell Transcriptome Atlas of the Human Pancreas",
          "A Single-Cell Transcriptome Atlas of the Human Pancreas",
          "A Single-Cell Transcriptome Atlas of the Human Pancreas",
          "A Single-Cell Transcriptome Atlas of the Human Pancreas",
          "A Single-Cell Transcriptome Atlas of the Human Pancreas",
          "A Single-Cell Transcriptome Atlas of the Human Pancreas",
          "A Single-Cell Transcriptome Atlas of the Human Pancreas",
          "A Single-Cell Transcriptome Atlas of the Human Pancreas",
          "A Single-Cell Transcriptome Atlas of the Human Pancreas",
          "A Single-Cell Transcriptome Atlas of the Human Pancreas",
          "A Single-Cell Transcriptome Atlas of the Human Pancreas",
          "A Single-Cell Transcriptome Atlas of the Human Pancreas",
          "A Single-Cell Transcriptome Atlas of the Human Pancreas",
          "A Single-Cell Transcriptome Atlas of the Human Pancreas",
          "A Single-Cell Transcriptome Atlas of the Human Pancreas",
          "A Single-Cell Transcriptome Atlas of the Human Pancreas",
          "A Single-Cell Transcriptome Atlas of the Human Pancreas",
          "A Single-Cell Transcriptome Atlas of the Human Pancreas",
          "A Single-Cell Transcriptome Atlas of the Human Pancreas",
          "A Single-Cell Transcriptome Atlas of the Human Pancreas",
          "A Single-Cell Transcriptome Atlas of the Human Pancreas",
          "A Single-Cell Transcriptome Atlas of the Human Pancreas",
          "A Single-Cell Transcriptome Atlas of the Human Pancreas",
          "A Single-Cell Transcriptome Atlas of the Human Pancreas"
         ],
         "type": "scatter",
         "x": [
          "2021-05-05",
          "2021-05-13",
          "2021-05-20",
          "2021-05-24",
          "2021-05-25",
          "2021-05-26",
          "2021-05-28",
          "2021-06-03",
          "2021-06-04",
          "2021-06-05",
          "2021-06-09",
          "2021-06-14",
          "2021-06-15",
          "2021-06-17",
          "2021-07-07",
          "2021-07-09",
          "2021-07-12",
          "2021-07-14",
          "2021-07-16",
          "2021-07-17",
          "2021-07-23",
          "2021-07-29",
          "2021-07-30",
          "2021-08-06"
         ],
         "y": [
          1,
          2,
          3,
          4,
          7,
          8,
          12,
          13,
          14,
          18,
          19,
          20,
          21,
          22,
          23,
          25,
          26,
          29,
          30,
          31,
          32,
          33,
          34,
          35
         ]
        },
        {
         "hovertemplate": "<i>Date</i>: %{x}<br>Downloads</i>: %{y}<br><br>%{text}</i>",
         "mode": "lines+markers",
         "text": [
          "Tabula Sapiens - All Cells",
          "Tabula Sapiens - All Cells",
          "Tabula Sapiens - All Cells",
          "Tabula Sapiens - All Cells",
          "Tabula Sapiens - All Cells",
          "Tabula Sapiens - All Cells",
          "Tabula Sapiens - All Cells",
          "Tabula Sapiens - All Cells",
          "Tabula Sapiens - All Cells",
          "Tabula Sapiens - All Cells",
          "Tabula Sapiens - All Cells",
          "Tabula Sapiens - All Cells",
          "Tabula Sapiens - All Cells",
          "Tabula Sapiens - All Cells",
          "Tabula Sapiens - All Cells"
         ],
         "type": "scatter",
         "x": [
          "2021-07-19",
          "2021-07-20",
          "2021-07-21",
          "2021-07-22",
          "2021-07-23",
          "2021-07-26",
          "2021-07-27",
          "2021-07-28",
          "2021-07-30",
          "2021-08-02",
          "2021-08-03",
          "2021-08-04",
          "2021-08-10",
          "2021-08-11",
          "2021-08-13"
         ],
         "y": [
          1,
          2,
          3,
          6,
          10,
          12,
          13,
          16,
          19,
          21,
          24,
          28,
          29,
          30,
          34
         ]
        },
        {
         "hovertemplate": "<i>Date</i>: %{x}<br>Downloads</i>: %{y}<br><br>%{text}</i>",
         "mode": "lines+markers",
         "text": [
          "scRNA-seq data analysis of HUVECs treated with high glucose and TNFα",
          "scRNA-seq data analysis of HUVECs treated with high glucose and TNFα",
          "scRNA-seq data analysis of HUVECs treated with high glucose and TNFα",
          "scRNA-seq data analysis of HUVECs treated with high glucose and TNFα",
          "scRNA-seq data analysis of HUVECs treated with high glucose and TNFα",
          "scRNA-seq data analysis of HUVECs treated with high glucose and TNFα",
          "scRNA-seq data analysis of HUVECs treated with high glucose and TNFα",
          "scRNA-seq data analysis of HUVECs treated with high glucose and TNFα",
          "scRNA-seq data analysis of HUVECs treated with high glucose and TNFα",
          "scRNA-seq data analysis of HUVECs treated with high glucose and TNFα",
          "scRNA-seq data analysis of HUVECs treated with high glucose and TNFα",
          "scRNA-seq data analysis of HUVECs treated with high glucose and TNFα",
          "scRNA-seq data analysis of HUVECs treated with high glucose and TNFα",
          "scRNA-seq data analysis of HUVECs treated with high glucose and TNFα",
          "scRNA-seq data analysis of HUVECs treated with high glucose and TNFα",
          "scRNA-seq data analysis of HUVECs treated with high glucose and TNFα",
          "scRNA-seq data analysis of HUVECs treated with high glucose and TNFα",
          "scRNA-seq data analysis of HUVECs treated with high glucose and TNFα",
          "scRNA-seq data analysis of HUVECs treated with high glucose and TNFα",
          "scRNA-seq data analysis of HUVECs treated with high glucose and TNFα"
         ],
         "type": "scatter",
         "x": [
          "2021-05-12",
          "2021-05-14",
          "2021-05-19",
          "2021-05-25",
          "2021-05-28",
          "2021-05-29",
          "2021-05-30",
          "2021-06-01",
          "2021-06-04",
          "2021-06-05",
          "2021-06-09",
          "2021-06-15",
          "2021-06-18",
          "2021-06-28",
          "2021-07-07",
          "2021-07-09",
          "2021-07-14",
          "2021-07-17",
          "2021-07-23",
          "2021-07-30"
         ],
         "y": [
          1,
          3,
          5,
          6,
          10,
          11,
          12,
          13,
          14,
          16,
          17,
          18,
          19,
          20,
          21,
          23,
          25,
          26,
          28,
          29
         ]
        },
        {
         "hovertemplate": "<i>Date</i>: %{x}<br>Downloads</i>: %{y}<br><br>%{text}</i>",
         "mode": "lines+markers",
         "text": [
          "Time-resolved Systems Immunology Reveals a Late Juncture Linked to Fatal COVID-19: Innate Cells",
          "Time-resolved Systems Immunology Reveals a Late Juncture Linked to Fatal COVID-19: Innate Cells",
          "Time-resolved Systems Immunology Reveals a Late Juncture Linked to Fatal COVID-19: Innate Cells",
          "Time-resolved Systems Immunology Reveals a Late Juncture Linked to Fatal COVID-19: Innate Cells",
          "Time-resolved Systems Immunology Reveals a Late Juncture Linked to Fatal COVID-19: Innate Cells",
          "Time-resolved Systems Immunology Reveals a Late Juncture Linked to Fatal COVID-19: Innate Cells",
          "Time-resolved Systems Immunology Reveals a Late Juncture Linked to Fatal COVID-19: Innate Cells",
          "Time-resolved Systems Immunology Reveals a Late Juncture Linked to Fatal COVID-19: Innate Cells",
          "Time-resolved Systems Immunology Reveals a Late Juncture Linked to Fatal COVID-19: Innate Cells",
          "Time-resolved Systems Immunology Reveals a Late Juncture Linked to Fatal COVID-19: Innate Cells",
          "Time-resolved Systems Immunology Reveals a Late Juncture Linked to Fatal COVID-19: Innate Cells",
          "Time-resolved Systems Immunology Reveals a Late Juncture Linked to Fatal COVID-19: Innate Cells",
          "Time-resolved Systems Immunology Reveals a Late Juncture Linked to Fatal COVID-19: Innate Cells",
          "Time-resolved Systems Immunology Reveals a Late Juncture Linked to Fatal COVID-19: Innate Cells",
          "Time-resolved Systems Immunology Reveals a Late Juncture Linked to Fatal COVID-19: Innate Cells",
          "Time-resolved Systems Immunology Reveals a Late Juncture Linked to Fatal COVID-19: Innate Cells",
          "Time-resolved Systems Immunology Reveals a Late Juncture Linked to Fatal COVID-19: Innate Cells",
          "Time-resolved Systems Immunology Reveals a Late Juncture Linked to Fatal COVID-19: Innate Cells",
          "Time-resolved Systems Immunology Reveals a Late Juncture Linked to Fatal COVID-19: Innate Cells",
          "Time-resolved Systems Immunology Reveals a Late Juncture Linked to Fatal COVID-19: Innate Cells",
          "Time-resolved Systems Immunology Reveals a Late Juncture Linked to Fatal COVID-19: Innate Cells",
          "Time-resolved Systems Immunology Reveals a Late Juncture Linked to Fatal COVID-19: Innate Cells",
          "Time-resolved Systems Immunology Reveals a Late Juncture Linked to Fatal COVID-19: Innate Cells",
          "Time-resolved Systems Immunology Reveals a Late Juncture Linked to Fatal COVID-19: Innate Cells"
         ],
         "type": "scatter",
         "x": [
          "2021-04-23",
          "2021-04-27",
          "2021-04-28",
          "2021-04-30",
          "2021-05-22",
          "2021-05-23",
          "2021-06-01",
          "2021-06-05",
          "2021-06-10",
          "2021-06-15",
          "2021-06-18",
          "2021-06-22",
          "2021-06-24",
          "2021-07-01",
          "2021-07-07",
          "2021-07-12",
          "2021-07-14",
          "2021-07-18",
          "2021-07-23",
          "2021-07-29",
          "2021-07-30",
          "2021-08-03",
          "2021-08-05",
          "2021-08-07"
         ],
         "y": [
          1,
          3,
          6,
          7,
          8,
          9,
          10,
          11,
          12,
          13,
          15,
          16,
          17,
          18,
          19,
          20,
          22,
          23,
          24,
          25,
          26,
          27,
          28,
          29
         ]
        }
       ],
       "layout": {
        "showlegend": false,
        "template": {
         "data": {
          "bar": [
           {
            "error_x": {
             "color": "#2a3f5f"
            },
            "error_y": {
             "color": "#2a3f5f"
            },
            "marker": {
             "line": {
              "color": "#E5ECF6",
              "width": 0.5
             },
             "pattern": {
              "fillmode": "overlay",
              "size": 10,
              "solidity": 0.2
             }
            },
            "type": "bar"
           }
          ],
          "barpolar": [
           {
            "marker": {
             "line": {
              "color": "#E5ECF6",
              "width": 0.5
             },
             "pattern": {
              "fillmode": "overlay",
              "size": 10,
              "solidity": 0.2
             }
            },
            "type": "barpolar"
           }
          ],
          "carpet": [
           {
            "aaxis": {
             "endlinecolor": "#2a3f5f",
             "gridcolor": "white",
             "linecolor": "white",
             "minorgridcolor": "white",
             "startlinecolor": "#2a3f5f"
            },
            "baxis": {
             "endlinecolor": "#2a3f5f",
             "gridcolor": "white",
             "linecolor": "white",
             "minorgridcolor": "white",
             "startlinecolor": "#2a3f5f"
            },
            "type": "carpet"
           }
          ],
          "choropleth": [
           {
            "colorbar": {
             "outlinewidth": 0,
             "ticks": ""
            },
            "type": "choropleth"
           }
          ],
          "contour": [
           {
            "colorbar": {
             "outlinewidth": 0,
             "ticks": ""
            },
            "colorscale": [
             [
              0,
              "#0d0887"
             ],
             [
              0.1111111111111111,
              "#46039f"
             ],
             [
              0.2222222222222222,
              "#7201a8"
             ],
             [
              0.3333333333333333,
              "#9c179e"
             ],
             [
              0.4444444444444444,
              "#bd3786"
             ],
             [
              0.5555555555555556,
              "#d8576b"
             ],
             [
              0.6666666666666666,
              "#ed7953"
             ],
             [
              0.7777777777777778,
              "#fb9f3a"
             ],
             [
              0.8888888888888888,
              "#fdca26"
             ],
             [
              1,
              "#f0f921"
             ]
            ],
            "type": "contour"
           }
          ],
          "contourcarpet": [
           {
            "colorbar": {
             "outlinewidth": 0,
             "ticks": ""
            },
            "type": "contourcarpet"
           }
          ],
          "heatmap": [
           {
            "colorbar": {
             "outlinewidth": 0,
             "ticks": ""
            },
            "colorscale": [
             [
              0,
              "#0d0887"
             ],
             [
              0.1111111111111111,
              "#46039f"
             ],
             [
              0.2222222222222222,
              "#7201a8"
             ],
             [
              0.3333333333333333,
              "#9c179e"
             ],
             [
              0.4444444444444444,
              "#bd3786"
             ],
             [
              0.5555555555555556,
              "#d8576b"
             ],
             [
              0.6666666666666666,
              "#ed7953"
             ],
             [
              0.7777777777777778,
              "#fb9f3a"
             ],
             [
              0.8888888888888888,
              "#fdca26"
             ],
             [
              1,
              "#f0f921"
             ]
            ],
            "type": "heatmap"
           }
          ],
          "heatmapgl": [
           {
            "colorbar": {
             "outlinewidth": 0,
             "ticks": ""
            },
            "colorscale": [
             [
              0,
              "#0d0887"
             ],
             [
              0.1111111111111111,
              "#46039f"
             ],
             [
              0.2222222222222222,
              "#7201a8"
             ],
             [
              0.3333333333333333,
              "#9c179e"
             ],
             [
              0.4444444444444444,
              "#bd3786"
             ],
             [
              0.5555555555555556,
              "#d8576b"
             ],
             [
              0.6666666666666666,
              "#ed7953"
             ],
             [
              0.7777777777777778,
              "#fb9f3a"
             ],
             [
              0.8888888888888888,
              "#fdca26"
             ],
             [
              1,
              "#f0f921"
             ]
            ],
            "type": "heatmapgl"
           }
          ],
          "histogram": [
           {
            "marker": {
             "pattern": {
              "fillmode": "overlay",
              "size": 10,
              "solidity": 0.2
             }
            },
            "type": "histogram"
           }
          ],
          "histogram2d": [
           {
            "colorbar": {
             "outlinewidth": 0,
             "ticks": ""
            },
            "colorscale": [
             [
              0,
              "#0d0887"
             ],
             [
              0.1111111111111111,
              "#46039f"
             ],
             [
              0.2222222222222222,
              "#7201a8"
             ],
             [
              0.3333333333333333,
              "#9c179e"
             ],
             [
              0.4444444444444444,
              "#bd3786"
             ],
             [
              0.5555555555555556,
              "#d8576b"
             ],
             [
              0.6666666666666666,
              "#ed7953"
             ],
             [
              0.7777777777777778,
              "#fb9f3a"
             ],
             [
              0.8888888888888888,
              "#fdca26"
             ],
             [
              1,
              "#f0f921"
             ]
            ],
            "type": "histogram2d"
           }
          ],
          "histogram2dcontour": [
           {
            "colorbar": {
             "outlinewidth": 0,
             "ticks": ""
            },
            "colorscale": [
             [
              0,
              "#0d0887"
             ],
             [
              0.1111111111111111,
              "#46039f"
             ],
             [
              0.2222222222222222,
              "#7201a8"
             ],
             [
              0.3333333333333333,
              "#9c179e"
             ],
             [
              0.4444444444444444,
              "#bd3786"
             ],
             [
              0.5555555555555556,
              "#d8576b"
             ],
             [
              0.6666666666666666,
              "#ed7953"
             ],
             [
              0.7777777777777778,
              "#fb9f3a"
             ],
             [
              0.8888888888888888,
              "#fdca26"
             ],
             [
              1,
              "#f0f921"
             ]
            ],
            "type": "histogram2dcontour"
           }
          ],
          "mesh3d": [
           {
            "colorbar": {
             "outlinewidth": 0,
             "ticks": ""
            },
            "type": "mesh3d"
           }
          ],
          "parcoords": [
           {
            "line": {
             "colorbar": {
              "outlinewidth": 0,
              "ticks": ""
             }
            },
            "type": "parcoords"
           }
          ],
          "pie": [
           {
            "automargin": true,
            "type": "pie"
           }
          ],
          "scatter": [
           {
            "marker": {
             "colorbar": {
              "outlinewidth": 0,
              "ticks": ""
             }
            },
            "type": "scatter"
           }
          ],
          "scatter3d": [
           {
            "line": {
             "colorbar": {
              "outlinewidth": 0,
              "ticks": ""
             }
            },
            "marker": {
             "colorbar": {
              "outlinewidth": 0,
              "ticks": ""
             }
            },
            "type": "scatter3d"
           }
          ],
          "scattercarpet": [
           {
            "marker": {
             "colorbar": {
              "outlinewidth": 0,
              "ticks": ""
             }
            },
            "type": "scattercarpet"
           }
          ],
          "scattergeo": [
           {
            "marker": {
             "colorbar": {
              "outlinewidth": 0,
              "ticks": ""
             }
            },
            "type": "scattergeo"
           }
          ],
          "scattergl": [
           {
            "marker": {
             "colorbar": {
              "outlinewidth": 0,
              "ticks": ""
             }
            },
            "type": "scattergl"
           }
          ],
          "scattermapbox": [
           {
            "marker": {
             "colorbar": {
              "outlinewidth": 0,
              "ticks": ""
             }
            },
            "type": "scattermapbox"
           }
          ],
          "scatterpolar": [
           {
            "marker": {
             "colorbar": {
              "outlinewidth": 0,
              "ticks": ""
             }
            },
            "type": "scatterpolar"
           }
          ],
          "scatterpolargl": [
           {
            "marker": {
             "colorbar": {
              "outlinewidth": 0,
              "ticks": ""
             }
            },
            "type": "scatterpolargl"
           }
          ],
          "scatterternary": [
           {
            "marker": {
             "colorbar": {
              "outlinewidth": 0,
              "ticks": ""
             }
            },
            "type": "scatterternary"
           }
          ],
          "surface": [
           {
            "colorbar": {
             "outlinewidth": 0,
             "ticks": ""
            },
            "colorscale": [
             [
              0,
              "#0d0887"
             ],
             [
              0.1111111111111111,
              "#46039f"
             ],
             [
              0.2222222222222222,
              "#7201a8"
             ],
             [
              0.3333333333333333,
              "#9c179e"
             ],
             [
              0.4444444444444444,
              "#bd3786"
             ],
             [
              0.5555555555555556,
              "#d8576b"
             ],
             [
              0.6666666666666666,
              "#ed7953"
             ],
             [
              0.7777777777777778,
              "#fb9f3a"
             ],
             [
              0.8888888888888888,
              "#fdca26"
             ],
             [
              1,
              "#f0f921"
             ]
            ],
            "type": "surface"
           }
          ],
          "table": [
           {
            "cells": {
             "fill": {
              "color": "#EBF0F8"
             },
             "line": {
              "color": "white"
             }
            },
            "header": {
             "fill": {
              "color": "#C8D4E3"
             },
             "line": {
              "color": "white"
             }
            },
            "type": "table"
           }
          ]
         },
         "layout": {
          "annotationdefaults": {
           "arrowcolor": "#2a3f5f",
           "arrowhead": 0,
           "arrowwidth": 1
          },
          "autotypenumbers": "strict",
          "coloraxis": {
           "colorbar": {
            "outlinewidth": 0,
            "ticks": ""
           }
          },
          "colorscale": {
           "diverging": [
            [
             0,
             "#8e0152"
            ],
            [
             0.1,
             "#c51b7d"
            ],
            [
             0.2,
             "#de77ae"
            ],
            [
             0.3,
             "#f1b6da"
            ],
            [
             0.4,
             "#fde0ef"
            ],
            [
             0.5,
             "#f7f7f7"
            ],
            [
             0.6,
             "#e6f5d0"
            ],
            [
             0.7,
             "#b8e186"
            ],
            [
             0.8,
             "#7fbc41"
            ],
            [
             0.9,
             "#4d9221"
            ],
            [
             1,
             "#276419"
            ]
           ],
           "sequential": [
            [
             0,
             "#0d0887"
            ],
            [
             0.1111111111111111,
             "#46039f"
            ],
            [
             0.2222222222222222,
             "#7201a8"
            ],
            [
             0.3333333333333333,
             "#9c179e"
            ],
            [
             0.4444444444444444,
             "#bd3786"
            ],
            [
             0.5555555555555556,
             "#d8576b"
            ],
            [
             0.6666666666666666,
             "#ed7953"
            ],
            [
             0.7777777777777778,
             "#fb9f3a"
            ],
            [
             0.8888888888888888,
             "#fdca26"
            ],
            [
             1,
             "#f0f921"
            ]
           ],
           "sequentialminus": [
            [
             0,
             "#0d0887"
            ],
            [
             0.1111111111111111,
             "#46039f"
            ],
            [
             0.2222222222222222,
             "#7201a8"
            ],
            [
             0.3333333333333333,
             "#9c179e"
            ],
            [
             0.4444444444444444,
             "#bd3786"
            ],
            [
             0.5555555555555556,
             "#d8576b"
            ],
            [
             0.6666666666666666,
             "#ed7953"
            ],
            [
             0.7777777777777778,
             "#fb9f3a"
            ],
            [
             0.8888888888888888,
             "#fdca26"
            ],
            [
             1,
             "#f0f921"
            ]
           ]
          },
          "colorway": [
           "#636efa",
           "#EF553B",
           "#00cc96",
           "#ab63fa",
           "#FFA15A",
           "#19d3f3",
           "#FF6692",
           "#B6E880",
           "#FF97FF",
           "#FECB52"
          ],
          "font": {
           "color": "#2a3f5f"
          },
          "geo": {
           "bgcolor": "white",
           "lakecolor": "white",
           "landcolor": "#E5ECF6",
           "showlakes": true,
           "showland": true,
           "subunitcolor": "white"
          },
          "hoverlabel": {
           "align": "left"
          },
          "hovermode": "closest",
          "mapbox": {
           "style": "light"
          },
          "paper_bgcolor": "white",
          "plot_bgcolor": "#E5ECF6",
          "polar": {
           "angularaxis": {
            "gridcolor": "white",
            "linecolor": "white",
            "ticks": ""
           },
           "bgcolor": "#E5ECF6",
           "radialaxis": {
            "gridcolor": "white",
            "linecolor": "white",
            "ticks": ""
           }
          },
          "scene": {
           "xaxis": {
            "backgroundcolor": "#E5ECF6",
            "gridcolor": "white",
            "gridwidth": 2,
            "linecolor": "white",
            "showbackground": true,
            "ticks": "",
            "zerolinecolor": "white"
           },
           "yaxis": {
            "backgroundcolor": "#E5ECF6",
            "gridcolor": "white",
            "gridwidth": 2,
            "linecolor": "white",
            "showbackground": true,
            "ticks": "",
            "zerolinecolor": "white"
           },
           "zaxis": {
            "backgroundcolor": "#E5ECF6",
            "gridcolor": "white",
            "gridwidth": 2,
            "linecolor": "white",
            "showbackground": true,
            "ticks": "",
            "zerolinecolor": "white"
           }
          },
          "shapedefaults": {
           "line": {
            "color": "#2a3f5f"
           }
          },
          "ternary": {
           "aaxis": {
            "gridcolor": "white",
            "linecolor": "white",
            "ticks": ""
           },
           "baxis": {
            "gridcolor": "white",
            "linecolor": "white",
            "ticks": ""
           },
           "bgcolor": "#E5ECF6",
           "caxis": {
            "gridcolor": "white",
            "linecolor": "white",
            "ticks": ""
           }
          },
          "title": {
           "x": 0.05
          },
          "xaxis": {
           "automargin": true,
           "gridcolor": "white",
           "linecolor": "white",
           "ticks": "",
           "title": {
            "standoff": 15
           },
           "zerolinecolor": "white",
           "zerolinewidth": 2
          },
          "yaxis": {
           "automargin": true,
           "gridcolor": "white",
           "linecolor": "white",
           "ticks": "",
           "title": {
            "standoff": 15
           },
           "zerolinecolor": "white",
           "zerolinewidth": 2
          }
         }
        },
        "title": {
         "text": "Trends of top 10 actively downloaded datasets (cumulative) - raw downloads"
        },
        "xaxis": {
         "title": {
          "text": "date"
         }
        },
        "yaxis": {
         "title": {
          "text": "number of downloads"
         }
        }
       }
      },
      "text/html": [
       "<div>                            <div id=\"3b8577cc-4a2a-440c-9b39-4f19fad03f5e\" class=\"plotly-graph-div\" style=\"height:525px; width:100%;\"></div>            <script type=\"text/javascript\">                require([\"plotly\"], function(Plotly) {                    window.PLOTLYENV=window.PLOTLYENV || {};                                    if (document.getElementById(\"3b8577cc-4a2a-440c-9b39-4f19fad03f5e\")) {                    Plotly.newPlot(                        \"3b8577cc-4a2a-440c-9b39-4f19fad03f5e\",                        [{\"hovertemplate\":\"<i>Date</i>: %{x}<br>Downloads</i>: %{y}<br><br>%{text}</i>\",\"mode\":\"lines+markers\",\"text\":[\"Azimuth meta-analysis of 10 datasets of healthy and diseased human lung\",\"Azimuth meta-analysis of 10 datasets of healthy and diseased human lung\",\"Azimuth meta-analysis of 10 datasets of healthy and diseased human lung\",\"Azimuth meta-analysis of 10 datasets of healthy and diseased human lung\",\"Azimuth meta-analysis of 10 datasets of healthy and diseased human lung\",\"Azimuth meta-analysis of 10 datasets of healthy and diseased human lung\",\"Azimuth meta-analysis of 10 datasets of healthy and diseased human lung\",\"Azimuth meta-analysis of 10 datasets of healthy and diseased human lung\",\"Azimuth meta-analysis of 10 datasets of healthy and diseased human lung\",\"Azimuth meta-analysis of 10 datasets of healthy and diseased human lung\",\"Azimuth meta-analysis of 10 datasets of healthy and diseased human lung\",\"Azimuth meta-analysis of 10 datasets of healthy and diseased human lung\",\"Azimuth meta-analysis of 10 datasets of healthy and diseased human lung\",\"Azimuth meta-analysis of 10 datasets of healthy and diseased human lung\",\"Azimuth meta-analysis of 10 datasets of healthy and diseased human lung\",\"Azimuth meta-analysis of 10 datasets of healthy and diseased human lung\",\"Azimuth meta-analysis of 10 datasets of healthy and diseased human lung\",\"Azimuth meta-analysis of 10 datasets of healthy and diseased human lung\",\"Azimuth meta-analysis of 10 datasets of healthy and diseased human lung\",\"Azimuth meta-analysis of 10 datasets of healthy and diseased human lung\",\"Azimuth meta-analysis of 10 datasets of healthy and diseased human lung\",\"Azimuth meta-analysis of 10 datasets of healthy and diseased human lung\",\"Azimuth meta-analysis of 10 datasets of healthy and diseased human lung\",\"Azimuth meta-analysis of 10 datasets of healthy and diseased human lung\",\"Azimuth meta-analysis of 10 datasets of healthy and diseased human lung\",\"Azimuth meta-analysis of 10 datasets of healthy and diseased human lung\",\"Azimuth meta-analysis of 10 datasets of healthy and diseased human lung\",\"Azimuth meta-analysis of 10 datasets of healthy and diseased human lung\",\"Azimuth meta-analysis of 10 datasets of healthy and diseased human lung\",\"Azimuth meta-analysis of 10 datasets of healthy and diseased human lung\",\"Azimuth meta-analysis of 10 datasets of healthy and diseased human lung\",\"Azimuth meta-analysis of 10 datasets of healthy and diseased human lung\",\"Azimuth meta-analysis of 10 datasets of healthy and diseased human lung\",\"Azimuth meta-analysis of 10 datasets of healthy and diseased human lung\"],\"type\":\"scatter\",\"x\":[\"2021-06-14\",\"2021-06-15\",\"2021-06-16\",\"2021-06-17\",\"2021-06-18\",\"2021-06-19\",\"2021-06-21\",\"2021-06-22\",\"2021-06-24\",\"2021-06-26\",\"2021-06-28\",\"2021-06-29\",\"2021-07-01\",\"2021-07-02\",\"2021-07-07\",\"2021-07-08\",\"2021-07-09\",\"2021-07-11\",\"2021-07-14\",\"2021-07-15\",\"2021-07-17\",\"2021-07-19\",\"2021-07-20\",\"2021-07-23\",\"2021-07-30\",\"2021-07-31\",\"2021-08-01\",\"2021-08-02\",\"2021-08-03\",\"2021-08-04\",\"2021-08-10\",\"2021-08-11\",\"2021-08-12\",\"2021-08-18\"],\"y\":[3,6,10,12,14,15,17,18,20,21,23,27,28,30,32,34,37,38,41,43,44,47,51,52,55,56,57,58,61,62,63,64,65,66]},{\"hovertemplate\":\"<i>Date</i>: %{x}<br>Downloads</i>: %{y}<br><br>%{text}</i>\",\"mode\":\"lines+markers\",\"text\":[\"Single cell transcriptome analysis of human pancreas reveals transcriptional signatures of aging and somatic mutation patterns\",\"Single cell transcriptome analysis of human pancreas reveals transcriptional signatures of aging and somatic mutation patterns\",\"Single cell transcriptome analysis of human pancreas reveals transcriptional signatures of aging and somatic mutation patterns\",\"Single cell transcriptome analysis of human pancreas reveals transcriptional signatures of aging and somatic mutation patterns\",\"Single cell transcriptome analysis of human pancreas reveals transcriptional signatures of aging and somatic mutation patterns\",\"Single cell transcriptome analysis of human pancreas reveals transcriptional signatures of aging and somatic mutation patterns\",\"Single cell transcriptome analysis of human pancreas reveals transcriptional signatures of aging and somatic mutation patterns\",\"Single cell transcriptome analysis of human pancreas reveals transcriptional signatures of aging and somatic mutation patterns\",\"Single cell transcriptome analysis of human pancreas reveals transcriptional signatures of aging and somatic mutation patterns\",\"Single cell transcriptome analysis of human pancreas reveals transcriptional signatures of aging and somatic mutation patterns\",\"Single cell transcriptome analysis of human pancreas reveals transcriptional signatures of aging and somatic mutation patterns\",\"Single cell transcriptome analysis of human pancreas reveals transcriptional signatures of aging and somatic mutation patterns\",\"Single cell transcriptome analysis of human pancreas reveals transcriptional signatures of aging and somatic mutation patterns\",\"Single cell transcriptome analysis of human pancreas reveals transcriptional signatures of aging and somatic mutation patterns\",\"Single cell transcriptome analysis of human pancreas reveals transcriptional signatures of aging and somatic mutation patterns\",\"Single cell transcriptome analysis of human pancreas reveals transcriptional signatures of aging and somatic mutation patterns\",\"Single cell transcriptome analysis of human pancreas reveals transcriptional signatures of aging and somatic mutation patterns\",\"Single cell transcriptome analysis of human pancreas reveals transcriptional signatures of aging and somatic mutation patterns\",\"Single cell transcriptome analysis of human pancreas reveals transcriptional signatures of aging and somatic mutation patterns\",\"Single cell transcriptome analysis of human pancreas reveals transcriptional signatures of aging and somatic mutation patterns\",\"Single cell transcriptome analysis of human pancreas reveals transcriptional signatures of aging and somatic mutation patterns\",\"Single cell transcriptome analysis of human pancreas reveals transcriptional signatures of aging and somatic mutation patterns\",\"Single cell transcriptome analysis of human pancreas reveals transcriptional signatures of aging and somatic mutation patterns\",\"Single cell transcriptome analysis of human pancreas reveals transcriptional signatures of aging and somatic mutation patterns\",\"Single cell transcriptome analysis of human pancreas reveals transcriptional signatures of aging and somatic mutation patterns\",\"Single cell transcriptome analysis of human pancreas reveals transcriptional signatures of aging and somatic mutation patterns\",\"Single cell transcriptome analysis of human pancreas reveals transcriptional signatures of aging and somatic mutation patterns\",\"Single cell transcriptome analysis of human pancreas reveals transcriptional signatures of aging and somatic mutation patterns\",\"Single cell transcriptome analysis of human pancreas reveals transcriptional signatures of aging and somatic mutation patterns\",\"Single cell transcriptome analysis of human pancreas reveals transcriptional signatures of aging and somatic mutation patterns\",\"Single cell transcriptome analysis of human pancreas reveals transcriptional signatures of aging and somatic mutation patterns\",\"Single cell transcriptome analysis of human pancreas reveals transcriptional signatures of aging and somatic mutation patterns\",\"Single cell transcriptome analysis of human pancreas reveals transcriptional signatures of aging and somatic mutation patterns\",\"Single cell transcriptome analysis of human pancreas reveals transcriptional signatures of aging and somatic mutation patterns\",\"Single cell transcriptome analysis of human pancreas reveals transcriptional signatures of aging and somatic mutation patterns\",\"Single cell transcriptome analysis of human pancreas reveals transcriptional signatures of aging and somatic mutation patterns\",\"Single cell transcriptome analysis of human pancreas reveals transcriptional signatures of aging and somatic mutation patterns\",\"Single cell transcriptome analysis of human pancreas reveals transcriptional signatures of aging and somatic mutation patterns\",\"Single cell transcriptome analysis of human pancreas reveals transcriptional signatures of aging and somatic mutation patterns\"],\"type\":\"scatter\",\"x\":[\"2021-05-20\",\"2021-05-23\",\"2021-05-24\",\"2021-05-25\",\"2021-05-26\",\"2021-05-27\",\"2021-05-28\",\"2021-05-29\",\"2021-05-30\",\"2021-05-31\",\"2021-06-04\",\"2021-06-05\",\"2021-06-06\",\"2021-06-08\",\"2021-06-09\",\"2021-06-10\",\"2021-06-15\",\"2021-06-17\",\"2021-06-19\",\"2021-06-20\",\"2021-06-21\",\"2021-06-28\",\"2021-07-07\",\"2021-07-08\",\"2021-07-09\",\"2021-07-12\",\"2021-07-13\",\"2021-07-14\",\"2021-07-16\",\"2021-07-17\",\"2021-07-19\",\"2021-07-20\",\"2021-07-21\",\"2021-07-23\",\"2021-07-28\",\"2021-07-30\",\"2021-07-31\",\"2021-08-03\",\"2021-08-05\"],\"y\":[2,3,4,5,12,17,22,23,24,25,27,29,30,31,32,33,34,35,37,38,40,41,44,45,48,49,50,52,53,54,55,56,57,58,60,61,63,64,65]},{\"hovertemplate\":\"<i>Date</i>: %{x}<br>Downloads</i>: %{y}<br><br>%{text}</i>\",\"mode\":\"lines+markers\",\"text\":[\"Single cell transcriptional and chromatin accessibility profiling redefine cellular heterogeneity in the adult human kidney - RNAseq\",\"Single cell transcriptional and chromatin accessibility profiling redefine cellular heterogeneity in the adult human kidney - RNAseq\",\"Single cell transcriptional and chromatin accessibility profiling redefine cellular heterogeneity in the adult human kidney - RNAseq\",\"Single cell transcriptional and chromatin accessibility profiling redefine cellular heterogeneity in the adult human kidney - RNAseq\",\"Single cell transcriptional and chromatin accessibility profiling redefine cellular heterogeneity in the adult human kidney - RNAseq\",\"Single cell transcriptional and chromatin accessibility profiling redefine cellular heterogeneity in the adult human kidney - RNAseq\",\"Single cell transcriptional and chromatin accessibility profiling redefine cellular heterogeneity in the adult human kidney - RNAseq\",\"Single cell transcriptional and chromatin accessibility profiling redefine cellular heterogeneity in the adult human kidney - RNAseq\",\"Single cell transcriptional and chromatin accessibility profiling redefine cellular heterogeneity in the adult human kidney - RNAseq\",\"Single cell transcriptional and chromatin accessibility profiling redefine cellular heterogeneity in the adult human kidney - RNAseq\",\"Single cell transcriptional and chromatin accessibility profiling redefine cellular heterogeneity in the adult human kidney - RNAseq\",\"Single cell transcriptional and chromatin accessibility profiling redefine cellular heterogeneity in the adult human kidney - RNAseq\",\"Single cell transcriptional and chromatin accessibility profiling redefine cellular heterogeneity in the adult human kidney - RNAseq\",\"Single cell transcriptional and chromatin accessibility profiling redefine cellular heterogeneity in the adult human kidney - RNAseq\",\"Single cell transcriptional and chromatin accessibility profiling redefine cellular heterogeneity in the adult human kidney - RNAseq\",\"Single cell transcriptional and chromatin accessibility profiling redefine cellular heterogeneity in the adult human kidney - RNAseq\",\"Single cell transcriptional and chromatin accessibility profiling redefine cellular heterogeneity in the adult human kidney - RNAseq\",\"Single cell transcriptional and chromatin accessibility profiling redefine cellular heterogeneity in the adult human kidney - RNAseq\",\"Single cell transcriptional and chromatin accessibility profiling redefine cellular heterogeneity in the adult human kidney - RNAseq\",\"Single cell transcriptional and chromatin accessibility profiling redefine cellular heterogeneity in the adult human kidney - RNAseq\",\"Single cell transcriptional and chromatin accessibility profiling redefine cellular heterogeneity in the adult human kidney - RNAseq\",\"Single cell transcriptional and chromatin accessibility profiling redefine cellular heterogeneity in the adult human kidney - RNAseq\",\"Single cell transcriptional and chromatin accessibility profiling redefine cellular heterogeneity in the adult human kidney - RNAseq\",\"Single cell transcriptional and chromatin accessibility profiling redefine cellular heterogeneity in the adult human kidney - RNAseq\",\"Single cell transcriptional and chromatin accessibility profiling redefine cellular heterogeneity in the adult human kidney - RNAseq\",\"Single cell transcriptional and chromatin accessibility profiling redefine cellular heterogeneity in the adult human kidney - RNAseq\",\"Single cell transcriptional and chromatin accessibility profiling redefine cellular heterogeneity in the adult human kidney - RNAseq\",\"Single cell transcriptional and chromatin accessibility profiling redefine cellular heterogeneity in the adult human kidney - RNAseq\",\"Single cell transcriptional and chromatin accessibility profiling redefine cellular heterogeneity in the adult human kidney - RNAseq\",\"Single cell transcriptional and chromatin accessibility profiling redefine cellular heterogeneity in the adult human kidney - RNAseq\",\"Single cell transcriptional and chromatin accessibility profiling redefine cellular heterogeneity in the adult human kidney - RNAseq\",\"Single cell transcriptional and chromatin accessibility profiling redefine cellular heterogeneity in the adult human kidney - RNAseq\",\"Single cell transcriptional and chromatin accessibility profiling redefine cellular heterogeneity in the adult human kidney - RNAseq\",\"Single cell transcriptional and chromatin accessibility profiling redefine cellular heterogeneity in the adult human kidney - RNAseq\",\"Single cell transcriptional and chromatin accessibility profiling redefine cellular heterogeneity in the adult human kidney - RNAseq\",\"Single cell transcriptional and chromatin accessibility profiling redefine cellular heterogeneity in the adult human kidney - RNAseq\",\"Single cell transcriptional and chromatin accessibility profiling redefine cellular heterogeneity in the adult human kidney - RNAseq\",\"Single cell transcriptional and chromatin accessibility profiling redefine cellular heterogeneity in the adult human kidney - RNAseq\",\"Single cell transcriptional and chromatin accessibility profiling redefine cellular heterogeneity in the adult human kidney - RNAseq\",\"Single cell transcriptional and chromatin accessibility profiling redefine cellular heterogeneity in the adult human kidney - RNAseq\",\"Single cell transcriptional and chromatin accessibility profiling redefine cellular heterogeneity in the adult human kidney - RNAseq\",\"Single cell transcriptional and chromatin accessibility profiling redefine cellular heterogeneity in the adult human kidney - RNAseq\"],\"type\":\"scatter\",\"x\":[\"2021-04-26\",\"2021-04-28\",\"2021-04-29\",\"2021-05-03\",\"2021-05-04\",\"2021-05-05\",\"2021-05-10\",\"2021-05-11\",\"2021-05-14\",\"2021-05-18\",\"2021-05-19\",\"2021-05-21\",\"2021-05-26\",\"2021-05-27\",\"2021-05-28\",\"2021-06-04\",\"2021-06-05\",\"2021-06-09\",\"2021-06-15\",\"2021-06-18\",\"2021-06-21\",\"2021-06-25\",\"2021-06-29\",\"2021-07-05\",\"2021-07-06\",\"2021-07-07\",\"2021-07-09\",\"2021-07-14\",\"2021-07-15\",\"2021-07-17\",\"2021-07-19\",\"2021-07-23\",\"2021-07-24\",\"2021-07-28\",\"2021-07-29\",\"2021-07-30\",\"2021-07-31\",\"2021-08-11\",\"2021-08-12\",\"2021-08-13\",\"2021-08-16\",\"2021-08-17\"],\"y\":[1,3,4,5,6,7,8,9,10,11,12,13,15,16,20,21,23,24,25,26,28,29,31,32,34,35,37,38,40,42,44,45,46,49,52,53,54,56,57,58,59,60]},{\"hovertemplate\":\"<i>Date</i>: %{x}<br>Downloads</i>: %{y}<br><br>%{text}</i>\",\"mode\":\"lines+markers\",\"text\":[\"Time-resolved Systems Immunology Reveals a Late Juncture Linked to Fatal COVID-19: Adaptive Cells\",\"Time-resolved Systems Immunology Reveals a Late Juncture Linked to Fatal COVID-19: Adaptive Cells\",\"Time-resolved Systems Immunology Reveals a Late Juncture Linked to Fatal COVID-19: Adaptive Cells\",\"Time-resolved Systems Immunology Reveals a Late Juncture Linked to Fatal COVID-19: Adaptive Cells\",\"Time-resolved Systems Immunology Reveals a Late Juncture Linked to Fatal COVID-19: Adaptive Cells\",\"Time-resolved Systems Immunology Reveals a Late Juncture Linked to Fatal COVID-19: Adaptive Cells\",\"Time-resolved Systems Immunology Reveals a Late Juncture Linked to Fatal COVID-19: Adaptive Cells\",\"Time-resolved Systems Immunology Reveals a Late Juncture Linked to Fatal COVID-19: Adaptive Cells\",\"Time-resolved Systems Immunology Reveals a Late Juncture Linked to Fatal COVID-19: Adaptive Cells\",\"Time-resolved Systems Immunology Reveals a Late Juncture Linked to Fatal COVID-19: Adaptive Cells\",\"Time-resolved Systems Immunology Reveals a Late Juncture Linked to Fatal COVID-19: Adaptive Cells\",\"Time-resolved Systems Immunology Reveals a Late Juncture Linked to Fatal COVID-19: Adaptive Cells\",\"Time-resolved Systems Immunology Reveals a Late Juncture Linked to Fatal COVID-19: Adaptive Cells\",\"Time-resolved Systems Immunology Reveals a Late Juncture Linked to Fatal COVID-19: Adaptive Cells\",\"Time-resolved Systems Immunology Reveals a Late Juncture Linked to Fatal COVID-19: Adaptive Cells\",\"Time-resolved Systems Immunology Reveals a Late Juncture Linked to Fatal COVID-19: Adaptive Cells\",\"Time-resolved Systems Immunology Reveals a Late Juncture Linked to Fatal COVID-19: Adaptive Cells\",\"Time-resolved Systems Immunology Reveals a Late Juncture Linked to Fatal COVID-19: Adaptive Cells\",\"Time-resolved Systems Immunology Reveals a Late Juncture Linked to Fatal COVID-19: Adaptive Cells\",\"Time-resolved Systems Immunology Reveals a Late Juncture Linked to Fatal COVID-19: Adaptive Cells\",\"Time-resolved Systems Immunology Reveals a Late Juncture Linked to Fatal COVID-19: Adaptive Cells\",\"Time-resolved Systems Immunology Reveals a Late Juncture Linked to Fatal COVID-19: Adaptive Cells\",\"Time-resolved Systems Immunology Reveals a Late Juncture Linked to Fatal COVID-19: Adaptive Cells\",\"Time-resolved Systems Immunology Reveals a Late Juncture Linked to Fatal COVID-19: Adaptive Cells\",\"Time-resolved Systems Immunology Reveals a Late Juncture Linked to Fatal COVID-19: Adaptive Cells\",\"Time-resolved Systems Immunology Reveals a Late Juncture Linked to Fatal COVID-19: Adaptive Cells\",\"Time-resolved Systems Immunology Reveals a Late Juncture Linked to Fatal COVID-19: Adaptive Cells\",\"Time-resolved Systems Immunology Reveals a Late Juncture Linked to Fatal COVID-19: Adaptive Cells\",\"Time-resolved Systems Immunology Reveals a Late Juncture Linked to Fatal COVID-19: Adaptive Cells\",\"Time-resolved Systems Immunology Reveals a Late Juncture Linked to Fatal COVID-19: Adaptive Cells\",\"Time-resolved Systems Immunology Reveals a Late Juncture Linked to Fatal COVID-19: Adaptive Cells\",\"Time-resolved Systems Immunology Reveals a Late Juncture Linked to Fatal COVID-19: Adaptive Cells\",\"Time-resolved Systems Immunology Reveals a Late Juncture Linked to Fatal COVID-19: Adaptive Cells\",\"Time-resolved Systems Immunology Reveals a Late Juncture Linked to Fatal COVID-19: Adaptive Cells\"],\"type\":\"scatter\",\"x\":[\"2021-04-23\",\"2021-04-24\",\"2021-04-27\",\"2021-04-28\",\"2021-05-05\",\"2021-05-13\",\"2021-05-19\",\"2021-05-22\",\"2021-05-23\",\"2021-05-28\",\"2021-06-01\",\"2021-06-04\",\"2021-06-05\",\"2021-06-08\",\"2021-06-10\",\"2021-06-11\",\"2021-06-15\",\"2021-06-18\",\"2021-06-21\",\"2021-06-23\",\"2021-06-24\",\"2021-06-30\",\"2021-07-01\",\"2021-07-07\",\"2021-07-09\",\"2021-07-12\",\"2021-07-13\",\"2021-07-14\",\"2021-07-18\",\"2021-07-23\",\"2021-07-29\",\"2021-07-30\",\"2021-08-07\",\"2021-08-13\"],\"y\":[1,2,4,6,7,8,9,10,11,12,15,16,17,18,23,24,26,27,32,33,34,35,38,40,42,43,45,47,48,49,50,51,52,53]},{\"hovertemplate\":\"<i>Date</i>: %{x}<br>Downloads</i>: %{y}<br><br>%{text}</i>\",\"mode\":\"lines+markers\",\"text\":[\"Single cell transcriptional and chromatin accessibility profiling redefine cellular heterogeneity in the adult human kidney - ATACseq\",\"Single cell transcriptional and chromatin accessibility profiling redefine cellular heterogeneity in the adult human kidney - ATACseq\",\"Single cell transcriptional and chromatin accessibility profiling redefine cellular heterogeneity in the adult human kidney - ATACseq\",\"Single cell transcriptional and chromatin accessibility profiling redefine cellular heterogeneity in the adult human kidney - ATACseq\",\"Single cell transcriptional and chromatin accessibility profiling redefine cellular heterogeneity in the adult human kidney - ATACseq\",\"Single cell transcriptional and chromatin accessibility profiling redefine cellular heterogeneity in the adult human kidney - ATACseq\",\"Single cell transcriptional and chromatin accessibility profiling redefine cellular heterogeneity in the adult human kidney - ATACseq\",\"Single cell transcriptional and chromatin accessibility profiling redefine cellular heterogeneity in the adult human kidney - ATACseq\",\"Single cell transcriptional and chromatin accessibility profiling redefine cellular heterogeneity in the adult human kidney - ATACseq\",\"Single cell transcriptional and chromatin accessibility profiling redefine cellular heterogeneity in the adult human kidney - ATACseq\",\"Single cell transcriptional and chromatin accessibility profiling redefine cellular heterogeneity in the adult human kidney - ATACseq\",\"Single cell transcriptional and chromatin accessibility profiling redefine cellular heterogeneity in the adult human kidney - ATACseq\",\"Single cell transcriptional and chromatin accessibility profiling redefine cellular heterogeneity in the adult human kidney - ATACseq\",\"Single cell transcriptional and chromatin accessibility profiling redefine cellular heterogeneity in the adult human kidney - ATACseq\",\"Single cell transcriptional and chromatin accessibility profiling redefine cellular heterogeneity in the adult human kidney - ATACseq\",\"Single cell transcriptional and chromatin accessibility profiling redefine cellular heterogeneity in the adult human kidney - ATACseq\",\"Single cell transcriptional and chromatin accessibility profiling redefine cellular heterogeneity in the adult human kidney - ATACseq\",\"Single cell transcriptional and chromatin accessibility profiling redefine cellular heterogeneity in the adult human kidney - ATACseq\",\"Single cell transcriptional and chromatin accessibility profiling redefine cellular heterogeneity in the adult human kidney - ATACseq\",\"Single cell transcriptional and chromatin accessibility profiling redefine cellular heterogeneity in the adult human kidney - ATACseq\",\"Single cell transcriptional and chromatin accessibility profiling redefine cellular heterogeneity in the adult human kidney - ATACseq\",\"Single cell transcriptional and chromatin accessibility profiling redefine cellular heterogeneity in the adult human kidney - ATACseq\",\"Single cell transcriptional and chromatin accessibility profiling redefine cellular heterogeneity in the adult human kidney - ATACseq\",\"Single cell transcriptional and chromatin accessibility profiling redefine cellular heterogeneity in the adult human kidney - ATACseq\",\"Single cell transcriptional and chromatin accessibility profiling redefine cellular heterogeneity in the adult human kidney - ATACseq\",\"Single cell transcriptional and chromatin accessibility profiling redefine cellular heterogeneity in the adult human kidney - ATACseq\",\"Single cell transcriptional and chromatin accessibility profiling redefine cellular heterogeneity in the adult human kidney - ATACseq\",\"Single cell transcriptional and chromatin accessibility profiling redefine cellular heterogeneity in the adult human kidney - ATACseq\",\"Single cell transcriptional and chromatin accessibility profiling redefine cellular heterogeneity in the adult human kidney - ATACseq\",\"Single cell transcriptional and chromatin accessibility profiling redefine cellular heterogeneity in the adult human kidney - ATACseq\",\"Single cell transcriptional and chromatin accessibility profiling redefine cellular heterogeneity in the adult human kidney - ATACseq\",\"Single cell transcriptional and chromatin accessibility profiling redefine cellular heterogeneity in the adult human kidney - ATACseq\",\"Single cell transcriptional and chromatin accessibility profiling redefine cellular heterogeneity in the adult human kidney - ATACseq\",\"Single cell transcriptional and chromatin accessibility profiling redefine cellular heterogeneity in the adult human kidney - ATACseq\",\"Single cell transcriptional and chromatin accessibility profiling redefine cellular heterogeneity in the adult human kidney - ATACseq\"],\"type\":\"scatter\",\"x\":[\"2021-04-29\",\"2021-05-03\",\"2021-05-04\",\"2021-05-06\",\"2021-05-14\",\"2021-05-18\",\"2021-05-19\",\"2021-05-24\",\"2021-05-26\",\"2021-05-27\",\"2021-05-28\",\"2021-06-04\",\"2021-06-05\",\"2021-06-07\",\"2021-06-09\",\"2021-06-12\",\"2021-06-15\",\"2021-06-18\",\"2021-06-25\",\"2021-07-05\",\"2021-07-06\",\"2021-07-09\",\"2021-07-14\",\"2021-07-15\",\"2021-07-16\",\"2021-07-17\",\"2021-07-19\",\"2021-07-23\",\"2021-07-26\",\"2021-07-28\",\"2021-07-30\",\"2021-08-09\",\"2021-08-11\",\"2021-08-12\",\"2021-08-13\"],\"y\":[1,2,4,5,6,7,8,10,11,12,15,16,18,19,20,22,23,24,25,26,28,30,31,33,34,36,38,39,40,41,42,43,44,46,47]},{\"hovertemplate\":\"<i>Date</i>: %{x}<br>Downloads</i>: %{y}<br><br>%{text}</i>\",\"mode\":\"lines+markers\",\"text\":[\"Single-cell RNA-Seq Investigation of Foveal and Peripheral Expression in the Human Retina\",\"Single-cell RNA-Seq Investigation of Foveal and Peripheral Expression in the Human Retina\",\"Single-cell RNA-Seq Investigation of Foveal and Peripheral Expression in the Human Retina\",\"Single-cell RNA-Seq Investigation of Foveal and Peripheral Expression in the Human Retina\",\"Single-cell RNA-Seq Investigation of Foveal and Peripheral Expression in the Human Retina\",\"Single-cell RNA-Seq Investigation of Foveal and Peripheral Expression in the Human Retina\",\"Single-cell RNA-Seq Investigation of Foveal and Peripheral Expression in the Human Retina\",\"Single-cell RNA-Seq Investigation of Foveal and Peripheral Expression in the Human Retina\",\"Single-cell RNA-Seq Investigation of Foveal and Peripheral Expression in the Human Retina\",\"Single-cell RNA-Seq Investigation of Foveal and Peripheral Expression in the Human Retina\",\"Single-cell RNA-Seq Investigation of Foveal and Peripheral Expression in the Human Retina\",\"Single-cell RNA-Seq Investigation of Foveal and Peripheral Expression in the Human Retina\",\"Single-cell RNA-Seq Investigation of Foveal and Peripheral Expression in the Human Retina\",\"Single-cell RNA-Seq Investigation of Foveal and Peripheral Expression in the Human Retina\",\"Single-cell RNA-Seq Investigation of Foveal and Peripheral Expression in the Human Retina\",\"Single-cell RNA-Seq Investigation of Foveal and Peripheral Expression in the Human Retina\",\"Single-cell RNA-Seq Investigation of Foveal and Peripheral Expression in the Human Retina\",\"Single-cell RNA-Seq Investigation of Foveal and Peripheral Expression in the Human Retina\",\"Single-cell RNA-Seq Investigation of Foveal and Peripheral Expression in the Human Retina\",\"Single-cell RNA-Seq Investigation of Foveal and Peripheral Expression in the Human Retina\",\"Single-cell RNA-Seq Investigation of Foveal and Peripheral Expression in the Human Retina\",\"Single-cell RNA-Seq Investigation of Foveal and Peripheral Expression in the Human Retina\",\"Single-cell RNA-Seq Investigation of Foveal and Peripheral Expression in the Human Retina\",\"Single-cell RNA-Seq Investigation of Foveal and Peripheral Expression in the Human Retina\",\"Single-cell RNA-Seq Investigation of Foveal and Peripheral Expression in the Human Retina\",\"Single-cell RNA-Seq Investigation of Foveal and Peripheral Expression in the Human Retina\",\"Single-cell RNA-Seq Investigation of Foveal and Peripheral Expression in the Human Retina\"],\"type\":\"scatter\",\"x\":[\"2021-04-24\",\"2021-04-28\",\"2021-04-29\",\"2021-05-02\",\"2021-05-03\",\"2021-05-05\",\"2021-05-19\",\"2021-05-20\",\"2021-05-26\",\"2021-05-28\",\"2021-06-06\",\"2021-06-10\",\"2021-06-15\",\"2021-06-17\",\"2021-06-25\",\"2021-06-28\",\"2021-07-05\",\"2021-07-07\",\"2021-07-09\",\"2021-07-12\",\"2021-07-14\",\"2021-07-18\",\"2021-07-20\",\"2021-07-21\",\"2021-07-22\",\"2021-07-23\",\"2021-07-30\"],\"y\":[3,4,5,7,8,9,10,11,12,15,16,17,18,19,20,22,23,24,27,28,30,31,32,33,34,35,36]},{\"hovertemplate\":\"<i>Date</i>: %{x}<br>Downloads</i>: %{y}<br><br>%{text}</i>\",\"mode\":\"lines+markers\",\"text\":[\"A Single-Cell Transcriptome Atlas of the Human Pancreas\",\"A Single-Cell Transcriptome Atlas of the Human Pancreas\",\"A Single-Cell Transcriptome Atlas of the Human Pancreas\",\"A Single-Cell Transcriptome Atlas of the Human Pancreas\",\"A Single-Cell Transcriptome Atlas of the Human Pancreas\",\"A Single-Cell Transcriptome Atlas of the Human Pancreas\",\"A Single-Cell Transcriptome Atlas of the Human Pancreas\",\"A Single-Cell Transcriptome Atlas of the Human Pancreas\",\"A Single-Cell Transcriptome Atlas of the Human Pancreas\",\"A Single-Cell Transcriptome Atlas of the Human Pancreas\",\"A Single-Cell Transcriptome Atlas of the Human Pancreas\",\"A Single-Cell Transcriptome Atlas of the Human Pancreas\",\"A Single-Cell Transcriptome Atlas of the Human Pancreas\",\"A Single-Cell Transcriptome Atlas of the Human Pancreas\",\"A Single-Cell Transcriptome Atlas of the Human Pancreas\",\"A Single-Cell Transcriptome Atlas of the Human Pancreas\",\"A Single-Cell Transcriptome Atlas of the Human Pancreas\",\"A Single-Cell Transcriptome Atlas of the Human Pancreas\",\"A Single-Cell Transcriptome Atlas of the Human Pancreas\",\"A Single-Cell Transcriptome Atlas of the Human Pancreas\",\"A Single-Cell Transcriptome Atlas of the Human Pancreas\",\"A Single-Cell Transcriptome Atlas of the Human Pancreas\",\"A Single-Cell Transcriptome Atlas of the Human Pancreas\",\"A Single-Cell Transcriptome Atlas of the Human Pancreas\"],\"type\":\"scatter\",\"x\":[\"2021-05-05\",\"2021-05-13\",\"2021-05-20\",\"2021-05-24\",\"2021-05-25\",\"2021-05-26\",\"2021-05-28\",\"2021-06-03\",\"2021-06-04\",\"2021-06-05\",\"2021-06-09\",\"2021-06-14\",\"2021-06-15\",\"2021-06-17\",\"2021-07-07\",\"2021-07-09\",\"2021-07-12\",\"2021-07-14\",\"2021-07-16\",\"2021-07-17\",\"2021-07-23\",\"2021-07-29\",\"2021-07-30\",\"2021-08-06\"],\"y\":[1,2,3,4,7,8,12,13,14,18,19,20,21,22,23,25,26,29,30,31,32,33,34,35]},{\"hovertemplate\":\"<i>Date</i>: %{x}<br>Downloads</i>: %{y}<br><br>%{text}</i>\",\"mode\":\"lines+markers\",\"text\":[\"Tabula Sapiens - All Cells\",\"Tabula Sapiens - All Cells\",\"Tabula Sapiens - All Cells\",\"Tabula Sapiens - All Cells\",\"Tabula Sapiens - All Cells\",\"Tabula Sapiens - All Cells\",\"Tabula Sapiens - All Cells\",\"Tabula Sapiens - All Cells\",\"Tabula Sapiens - All Cells\",\"Tabula Sapiens - All Cells\",\"Tabula Sapiens - All Cells\",\"Tabula Sapiens - All Cells\",\"Tabula Sapiens - All Cells\",\"Tabula Sapiens - All Cells\",\"Tabula Sapiens - All Cells\"],\"type\":\"scatter\",\"x\":[\"2021-07-19\",\"2021-07-20\",\"2021-07-21\",\"2021-07-22\",\"2021-07-23\",\"2021-07-26\",\"2021-07-27\",\"2021-07-28\",\"2021-07-30\",\"2021-08-02\",\"2021-08-03\",\"2021-08-04\",\"2021-08-10\",\"2021-08-11\",\"2021-08-13\"],\"y\":[1,2,3,6,10,12,13,16,19,21,24,28,29,30,34]},{\"hovertemplate\":\"<i>Date</i>: %{x}<br>Downloads</i>: %{y}<br><br>%{text}</i>\",\"mode\":\"lines+markers\",\"text\":[\"scRNA-seq data analysis of HUVECs treated with high glucose and TNF\\u03b1\",\"scRNA-seq data analysis of HUVECs treated with high glucose and TNF\\u03b1\",\"scRNA-seq data analysis of HUVECs treated with high glucose and TNF\\u03b1\",\"scRNA-seq data analysis of HUVECs treated with high glucose and TNF\\u03b1\",\"scRNA-seq data analysis of HUVECs treated with high glucose and TNF\\u03b1\",\"scRNA-seq data analysis of HUVECs treated with high glucose and TNF\\u03b1\",\"scRNA-seq data analysis of HUVECs treated with high glucose and TNF\\u03b1\",\"scRNA-seq data analysis of HUVECs treated with high glucose and TNF\\u03b1\",\"scRNA-seq data analysis of HUVECs treated with high glucose and TNF\\u03b1\",\"scRNA-seq data analysis of HUVECs treated with high glucose and TNF\\u03b1\",\"scRNA-seq data analysis of HUVECs treated with high glucose and TNF\\u03b1\",\"scRNA-seq data analysis of HUVECs treated with high glucose and TNF\\u03b1\",\"scRNA-seq data analysis of HUVECs treated with high glucose and TNF\\u03b1\",\"scRNA-seq data analysis of HUVECs treated with high glucose and TNF\\u03b1\",\"scRNA-seq data analysis of HUVECs treated with high glucose and TNF\\u03b1\",\"scRNA-seq data analysis of HUVECs treated with high glucose and TNF\\u03b1\",\"scRNA-seq data analysis of HUVECs treated with high glucose and TNF\\u03b1\",\"scRNA-seq data analysis of HUVECs treated with high glucose and TNF\\u03b1\",\"scRNA-seq data analysis of HUVECs treated with high glucose and TNF\\u03b1\",\"scRNA-seq data analysis of HUVECs treated with high glucose and TNF\\u03b1\"],\"type\":\"scatter\",\"x\":[\"2021-05-12\",\"2021-05-14\",\"2021-05-19\",\"2021-05-25\",\"2021-05-28\",\"2021-05-29\",\"2021-05-30\",\"2021-06-01\",\"2021-06-04\",\"2021-06-05\",\"2021-06-09\",\"2021-06-15\",\"2021-06-18\",\"2021-06-28\",\"2021-07-07\",\"2021-07-09\",\"2021-07-14\",\"2021-07-17\",\"2021-07-23\",\"2021-07-30\"],\"y\":[1,3,5,6,10,11,12,13,14,16,17,18,19,20,21,23,25,26,28,29]},{\"hovertemplate\":\"<i>Date</i>: %{x}<br>Downloads</i>: %{y}<br><br>%{text}</i>\",\"mode\":\"lines+markers\",\"text\":[\"Time-resolved Systems Immunology Reveals a Late Juncture Linked to Fatal COVID-19: Innate Cells\",\"Time-resolved Systems Immunology Reveals a Late Juncture Linked to Fatal COVID-19: Innate Cells\",\"Time-resolved Systems Immunology Reveals a Late Juncture Linked to Fatal COVID-19: Innate Cells\",\"Time-resolved Systems Immunology Reveals a Late Juncture Linked to Fatal COVID-19: Innate Cells\",\"Time-resolved Systems Immunology Reveals a Late Juncture Linked to Fatal COVID-19: Innate Cells\",\"Time-resolved Systems Immunology Reveals a Late Juncture Linked to Fatal COVID-19: Innate Cells\",\"Time-resolved Systems Immunology Reveals a Late Juncture Linked to Fatal COVID-19: Innate Cells\",\"Time-resolved Systems Immunology Reveals a Late Juncture Linked to Fatal COVID-19: Innate Cells\",\"Time-resolved Systems Immunology Reveals a Late Juncture Linked to Fatal COVID-19: Innate Cells\",\"Time-resolved Systems Immunology Reveals a Late Juncture Linked to Fatal COVID-19: Innate Cells\",\"Time-resolved Systems Immunology Reveals a Late Juncture Linked to Fatal COVID-19: Innate Cells\",\"Time-resolved Systems Immunology Reveals a Late Juncture Linked to Fatal COVID-19: Innate Cells\",\"Time-resolved Systems Immunology Reveals a Late Juncture Linked to Fatal COVID-19: Innate Cells\",\"Time-resolved Systems Immunology Reveals a Late Juncture Linked to Fatal COVID-19: Innate Cells\",\"Time-resolved Systems Immunology Reveals a Late Juncture Linked to Fatal COVID-19: Innate Cells\",\"Time-resolved Systems Immunology Reveals a Late Juncture Linked to Fatal COVID-19: Innate Cells\",\"Time-resolved Systems Immunology Reveals a Late Juncture Linked to Fatal COVID-19: Innate Cells\",\"Time-resolved Systems Immunology Reveals a Late Juncture Linked to Fatal COVID-19: Innate Cells\",\"Time-resolved Systems Immunology Reveals a Late Juncture Linked to Fatal COVID-19: Innate Cells\",\"Time-resolved Systems Immunology Reveals a Late Juncture Linked to Fatal COVID-19: Innate Cells\",\"Time-resolved Systems Immunology Reveals a Late Juncture Linked to Fatal COVID-19: Innate Cells\",\"Time-resolved Systems Immunology Reveals a Late Juncture Linked to Fatal COVID-19: Innate Cells\",\"Time-resolved Systems Immunology Reveals a Late Juncture Linked to Fatal COVID-19: Innate Cells\",\"Time-resolved Systems Immunology Reveals a Late Juncture Linked to Fatal COVID-19: Innate Cells\"],\"type\":\"scatter\",\"x\":[\"2021-04-23\",\"2021-04-27\",\"2021-04-28\",\"2021-04-30\",\"2021-05-22\",\"2021-05-23\",\"2021-06-01\",\"2021-06-05\",\"2021-06-10\",\"2021-06-15\",\"2021-06-18\",\"2021-06-22\",\"2021-06-24\",\"2021-07-01\",\"2021-07-07\",\"2021-07-12\",\"2021-07-14\",\"2021-07-18\",\"2021-07-23\",\"2021-07-29\",\"2021-07-30\",\"2021-08-03\",\"2021-08-05\",\"2021-08-07\"],\"y\":[1,3,6,7,8,9,10,11,12,13,15,16,17,18,19,20,22,23,24,25,26,27,28,29]}],                        {\"showlegend\":false,\"template\":{\"data\":{\"bar\":[{\"error_x\":{\"color\":\"#2a3f5f\"},\"error_y\":{\"color\":\"#2a3f5f\"},\"marker\":{\"line\":{\"color\":\"#E5ECF6\",\"width\":0.5},\"pattern\":{\"fillmode\":\"overlay\",\"size\":10,\"solidity\":0.2}},\"type\":\"bar\"}],\"barpolar\":[{\"marker\":{\"line\":{\"color\":\"#E5ECF6\",\"width\":0.5},\"pattern\":{\"fillmode\":\"overlay\",\"size\":10,\"solidity\":0.2}},\"type\":\"barpolar\"}],\"carpet\":[{\"aaxis\":{\"endlinecolor\":\"#2a3f5f\",\"gridcolor\":\"white\",\"linecolor\":\"white\",\"minorgridcolor\":\"white\",\"startlinecolor\":\"#2a3f5f\"},\"baxis\":{\"endlinecolor\":\"#2a3f5f\",\"gridcolor\":\"white\",\"linecolor\":\"white\",\"minorgridcolor\":\"white\",\"startlinecolor\":\"#2a3f5f\"},\"type\":\"carpet\"}],\"choropleth\":[{\"colorbar\":{\"outlinewidth\":0,\"ticks\":\"\"},\"type\":\"choropleth\"}],\"contour\":[{\"colorbar\":{\"outlinewidth\":0,\"ticks\":\"\"},\"colorscale\":[[0.0,\"#0d0887\"],[0.1111111111111111,\"#46039f\"],[0.2222222222222222,\"#7201a8\"],[0.3333333333333333,\"#9c179e\"],[0.4444444444444444,\"#bd3786\"],[0.5555555555555556,\"#d8576b\"],[0.6666666666666666,\"#ed7953\"],[0.7777777777777778,\"#fb9f3a\"],[0.8888888888888888,\"#fdca26\"],[1.0,\"#f0f921\"]],\"type\":\"contour\"}],\"contourcarpet\":[{\"colorbar\":{\"outlinewidth\":0,\"ticks\":\"\"},\"type\":\"contourcarpet\"}],\"heatmap\":[{\"colorbar\":{\"outlinewidth\":0,\"ticks\":\"\"},\"colorscale\":[[0.0,\"#0d0887\"],[0.1111111111111111,\"#46039f\"],[0.2222222222222222,\"#7201a8\"],[0.3333333333333333,\"#9c179e\"],[0.4444444444444444,\"#bd3786\"],[0.5555555555555556,\"#d8576b\"],[0.6666666666666666,\"#ed7953\"],[0.7777777777777778,\"#fb9f3a\"],[0.8888888888888888,\"#fdca26\"],[1.0,\"#f0f921\"]],\"type\":\"heatmap\"}],\"heatmapgl\":[{\"colorbar\":{\"outlinewidth\":0,\"ticks\":\"\"},\"colorscale\":[[0.0,\"#0d0887\"],[0.1111111111111111,\"#46039f\"],[0.2222222222222222,\"#7201a8\"],[0.3333333333333333,\"#9c179e\"],[0.4444444444444444,\"#bd3786\"],[0.5555555555555556,\"#d8576b\"],[0.6666666666666666,\"#ed7953\"],[0.7777777777777778,\"#fb9f3a\"],[0.8888888888888888,\"#fdca26\"],[1.0,\"#f0f921\"]],\"type\":\"heatmapgl\"}],\"histogram\":[{\"marker\":{\"pattern\":{\"fillmode\":\"overlay\",\"size\":10,\"solidity\":0.2}},\"type\":\"histogram\"}],\"histogram2d\":[{\"colorbar\":{\"outlinewidth\":0,\"ticks\":\"\"},\"colorscale\":[[0.0,\"#0d0887\"],[0.1111111111111111,\"#46039f\"],[0.2222222222222222,\"#7201a8\"],[0.3333333333333333,\"#9c179e\"],[0.4444444444444444,\"#bd3786\"],[0.5555555555555556,\"#d8576b\"],[0.6666666666666666,\"#ed7953\"],[0.7777777777777778,\"#fb9f3a\"],[0.8888888888888888,\"#fdca26\"],[1.0,\"#f0f921\"]],\"type\":\"histogram2d\"}],\"histogram2dcontour\":[{\"colorbar\":{\"outlinewidth\":0,\"ticks\":\"\"},\"colorscale\":[[0.0,\"#0d0887\"],[0.1111111111111111,\"#46039f\"],[0.2222222222222222,\"#7201a8\"],[0.3333333333333333,\"#9c179e\"],[0.4444444444444444,\"#bd3786\"],[0.5555555555555556,\"#d8576b\"],[0.6666666666666666,\"#ed7953\"],[0.7777777777777778,\"#fb9f3a\"],[0.8888888888888888,\"#fdca26\"],[1.0,\"#f0f921\"]],\"type\":\"histogram2dcontour\"}],\"mesh3d\":[{\"colorbar\":{\"outlinewidth\":0,\"ticks\":\"\"},\"type\":\"mesh3d\"}],\"parcoords\":[{\"line\":{\"colorbar\":{\"outlinewidth\":0,\"ticks\":\"\"}},\"type\":\"parcoords\"}],\"pie\":[{\"automargin\":true,\"type\":\"pie\"}],\"scatter\":[{\"marker\":{\"colorbar\":{\"outlinewidth\":0,\"ticks\":\"\"}},\"type\":\"scatter\"}],\"scatter3d\":[{\"line\":{\"colorbar\":{\"outlinewidth\":0,\"ticks\":\"\"}},\"marker\":{\"colorbar\":{\"outlinewidth\":0,\"ticks\":\"\"}},\"type\":\"scatter3d\"}],\"scattercarpet\":[{\"marker\":{\"colorbar\":{\"outlinewidth\":0,\"ticks\":\"\"}},\"type\":\"scattercarpet\"}],\"scattergeo\":[{\"marker\":{\"colorbar\":{\"outlinewidth\":0,\"ticks\":\"\"}},\"type\":\"scattergeo\"}],\"scattergl\":[{\"marker\":{\"colorbar\":{\"outlinewidth\":0,\"ticks\":\"\"}},\"type\":\"scattergl\"}],\"scattermapbox\":[{\"marker\":{\"colorbar\":{\"outlinewidth\":0,\"ticks\":\"\"}},\"type\":\"scattermapbox\"}],\"scatterpolar\":[{\"marker\":{\"colorbar\":{\"outlinewidth\":0,\"ticks\":\"\"}},\"type\":\"scatterpolar\"}],\"scatterpolargl\":[{\"marker\":{\"colorbar\":{\"outlinewidth\":0,\"ticks\":\"\"}},\"type\":\"scatterpolargl\"}],\"scatterternary\":[{\"marker\":{\"colorbar\":{\"outlinewidth\":0,\"ticks\":\"\"}},\"type\":\"scatterternary\"}],\"surface\":[{\"colorbar\":{\"outlinewidth\":0,\"ticks\":\"\"},\"colorscale\":[[0.0,\"#0d0887\"],[0.1111111111111111,\"#46039f\"],[0.2222222222222222,\"#7201a8\"],[0.3333333333333333,\"#9c179e\"],[0.4444444444444444,\"#bd3786\"],[0.5555555555555556,\"#d8576b\"],[0.6666666666666666,\"#ed7953\"],[0.7777777777777778,\"#fb9f3a\"],[0.8888888888888888,\"#fdca26\"],[1.0,\"#f0f921\"]],\"type\":\"surface\"}],\"table\":[{\"cells\":{\"fill\":{\"color\":\"#EBF0F8\"},\"line\":{\"color\":\"white\"}},\"header\":{\"fill\":{\"color\":\"#C8D4E3\"},\"line\":{\"color\":\"white\"}},\"type\":\"table\"}]},\"layout\":{\"annotationdefaults\":{\"arrowcolor\":\"#2a3f5f\",\"arrowhead\":0,\"arrowwidth\":1},\"autotypenumbers\":\"strict\",\"coloraxis\":{\"colorbar\":{\"outlinewidth\":0,\"ticks\":\"\"}},\"colorscale\":{\"diverging\":[[0,\"#8e0152\"],[0.1,\"#c51b7d\"],[0.2,\"#de77ae\"],[0.3,\"#f1b6da\"],[0.4,\"#fde0ef\"],[0.5,\"#f7f7f7\"],[0.6,\"#e6f5d0\"],[0.7,\"#b8e186\"],[0.8,\"#7fbc41\"],[0.9,\"#4d9221\"],[1,\"#276419\"]],\"sequential\":[[0.0,\"#0d0887\"],[0.1111111111111111,\"#46039f\"],[0.2222222222222222,\"#7201a8\"],[0.3333333333333333,\"#9c179e\"],[0.4444444444444444,\"#bd3786\"],[0.5555555555555556,\"#d8576b\"],[0.6666666666666666,\"#ed7953\"],[0.7777777777777778,\"#fb9f3a\"],[0.8888888888888888,\"#fdca26\"],[1.0,\"#f0f921\"]],\"sequentialminus\":[[0.0,\"#0d0887\"],[0.1111111111111111,\"#46039f\"],[0.2222222222222222,\"#7201a8\"],[0.3333333333333333,\"#9c179e\"],[0.4444444444444444,\"#bd3786\"],[0.5555555555555556,\"#d8576b\"],[0.6666666666666666,\"#ed7953\"],[0.7777777777777778,\"#fb9f3a\"],[0.8888888888888888,\"#fdca26\"],[1.0,\"#f0f921\"]]},\"colorway\":[\"#636efa\",\"#EF553B\",\"#00cc96\",\"#ab63fa\",\"#FFA15A\",\"#19d3f3\",\"#FF6692\",\"#B6E880\",\"#FF97FF\",\"#FECB52\"],\"font\":{\"color\":\"#2a3f5f\"},\"geo\":{\"bgcolor\":\"white\",\"lakecolor\":\"white\",\"landcolor\":\"#E5ECF6\",\"showlakes\":true,\"showland\":true,\"subunitcolor\":\"white\"},\"hoverlabel\":{\"align\":\"left\"},\"hovermode\":\"closest\",\"mapbox\":{\"style\":\"light\"},\"paper_bgcolor\":\"white\",\"plot_bgcolor\":\"#E5ECF6\",\"polar\":{\"angularaxis\":{\"gridcolor\":\"white\",\"linecolor\":\"white\",\"ticks\":\"\"},\"bgcolor\":\"#E5ECF6\",\"radialaxis\":{\"gridcolor\":\"white\",\"linecolor\":\"white\",\"ticks\":\"\"}},\"scene\":{\"xaxis\":{\"backgroundcolor\":\"#E5ECF6\",\"gridcolor\":\"white\",\"gridwidth\":2,\"linecolor\":\"white\",\"showbackground\":true,\"ticks\":\"\",\"zerolinecolor\":\"white\"},\"yaxis\":{\"backgroundcolor\":\"#E5ECF6\",\"gridcolor\":\"white\",\"gridwidth\":2,\"linecolor\":\"white\",\"showbackground\":true,\"ticks\":\"\",\"zerolinecolor\":\"white\"},\"zaxis\":{\"backgroundcolor\":\"#E5ECF6\",\"gridcolor\":\"white\",\"gridwidth\":2,\"linecolor\":\"white\",\"showbackground\":true,\"ticks\":\"\",\"zerolinecolor\":\"white\"}},\"shapedefaults\":{\"line\":{\"color\":\"#2a3f5f\"}},\"ternary\":{\"aaxis\":{\"gridcolor\":\"white\",\"linecolor\":\"white\",\"ticks\":\"\"},\"baxis\":{\"gridcolor\":\"white\",\"linecolor\":\"white\",\"ticks\":\"\"},\"bgcolor\":\"#E5ECF6\",\"caxis\":{\"gridcolor\":\"white\",\"linecolor\":\"white\",\"ticks\":\"\"}},\"title\":{\"x\":0.05},\"xaxis\":{\"automargin\":true,\"gridcolor\":\"white\",\"linecolor\":\"white\",\"ticks\":\"\",\"title\":{\"standoff\":15},\"zerolinecolor\":\"white\",\"zerolinewidth\":2},\"yaxis\":{\"automargin\":true,\"gridcolor\":\"white\",\"linecolor\":\"white\",\"ticks\":\"\",\"title\":{\"standoff\":15},\"zerolinecolor\":\"white\",\"zerolinewidth\":2}}},\"title\":{\"text\":\"Trends of top 10 actively downloaded datasets (cumulative) - raw downloads\"},\"xaxis\":{\"title\":{\"text\":\"date\"}},\"yaxis\":{\"title\":{\"text\":\"number of downloads\"}}},                        {\"responsive\": true}                    ).then(function(){\n",
       "                            \n",
       "var gd = document.getElementById('3b8577cc-4a2a-440c-9b39-4f19fad03f5e');\n",
       "var x = new MutationObserver(function (mutations, observer) {{\n",
       "        var display = window.getComputedStyle(gd).display;\n",
       "        if (!display || display === 'none') {{\n",
       "            console.log([gd, 'removed!']);\n",
       "            Plotly.purge(gd);\n",
       "            observer.disconnect();\n",
       "        }}\n",
       "}});\n",
       "\n",
       "// Listen for the removal of the full notebook cells\n",
       "var notebookContainer = gd.closest('#notebook-container');\n",
       "if (notebookContainer) {{\n",
       "    x.observe(notebookContainer, {childList: true});\n",
       "}}\n",
       "\n",
       "// Listen for the clearing of the current output cell\n",
       "var outputEl = gd.closest('.output');\n",
       "if (outputEl) {{\n",
       "    x.observe(outputEl, {childList: true});\n",
       "}}\n",
       "\n",
       "                        })                };                });            </script>        </div>"
      ]
     },
     "metadata": {},
     "output_type": "display_data"
    }
   ],
   "source": [
    "top10_raw = top_ds_raw[0:10]\n",
    "active_raw_ids = top10_raw['dataset_id'].tolist()\n",
    "active_raw_names = top10_raw['dataset_name'].tolist()\n",
    "\n",
    "dataset_download_trends(active_raw_ids, active_raw_names, 'Trends of top 10 actively downloaded datasets (cumulative) - raw downloads')\n"
   ]
  },
  {
   "cell_type": "markdown",
   "id": "b42ba38d",
   "metadata": {
    "extensions": {
     "jupyter_dashboards": {
      "version": 1,
      "views": {
       "grid_default": {},
       "report_default": {
        "hidden": false
       }
      }
     }
    }
   },
   "source": [
    "##### Moderately downloaded"
   ]
  },
  {
   "cell_type": "code",
   "execution_count": 201,
   "id": "6f5d2762",
   "metadata": {
    "extensions": {
     "jupyter_dashboards": {
      "version": 1,
      "views": {
       "grid_default": {},
       "report_default": {
        "hidden": false
       }
      }
     }
    }
   },
   "outputs": [
    {
     "data": {
      "application/vnd.plotly.v1+json": {
       "config": {
        "plotlyServerURL": "https://plot.ly"
       },
       "data": [
        {
         "hovertemplate": "<i>Date</i>: %{x}<br>Downloads</i>: %{y}<br><br>%{text}</i>",
         "mode": "lines+markers",
         "text": [
          "Single-cell transcriptomics of human T cells reveals tissue and activation signatures in health and disease",
          "Single-cell transcriptomics of human T cells reveals tissue and activation signatures in health and disease",
          "Single-cell transcriptomics of human T cells reveals tissue and activation signatures in health and disease",
          "Single-cell transcriptomics of human T cells reveals tissue and activation signatures in health and disease",
          "Single-cell transcriptomics of human T cells reveals tissue and activation signatures in health and disease",
          "Single-cell transcriptomics of human T cells reveals tissue and activation signatures in health and disease",
          "Single-cell transcriptomics of human T cells reveals tissue and activation signatures in health and disease",
          "Single-cell transcriptomics of human T cells reveals tissue and activation signatures in health and disease",
          "Single-cell transcriptomics of human T cells reveals tissue and activation signatures in health and disease",
          "Single-cell transcriptomics of human T cells reveals tissue and activation signatures in health and disease",
          "Single-cell transcriptomics of human T cells reveals tissue and activation signatures in health and disease",
          "Single-cell transcriptomics of human T cells reveals tissue and activation signatures in health and disease",
          "Single-cell transcriptomics of human T cells reveals tissue and activation signatures in health and disease",
          "Single-cell transcriptomics of human T cells reveals tissue and activation signatures in health and disease",
          "Single-cell transcriptomics of human T cells reveals tissue and activation signatures in health and disease",
          "Single-cell transcriptomics of human T cells reveals tissue and activation signatures in health and disease",
          "Single-cell transcriptomics of human T cells reveals tissue and activation signatures in health and disease",
          "Single-cell transcriptomics of human T cells reveals tissue and activation signatures in health and disease"
         ],
         "type": "scatter",
         "x": [
          "2021-05-01",
          "2021-05-05",
          "2021-05-13",
          "2021-05-18",
          "2021-05-28",
          "2021-06-04",
          "2021-06-05",
          "2021-06-09",
          "2021-06-15",
          "2021-06-17",
          "2021-06-25",
          "2021-06-28",
          "2021-06-29",
          "2021-07-09",
          "2021-07-14",
          "2021-07-17",
          "2021-07-23",
          "2021-07-30"
         ],
         "y": [
          1,
          2,
          3,
          4,
          7,
          8,
          10,
          11,
          13,
          14,
          16,
          17,
          18,
          20,
          21,
          22,
          23,
          24
         ]
        },
        {
         "hovertemplate": "<i>Date</i>: %{x}<br>Downloads</i>: %{y}<br><br>%{text}</i>",
         "mode": "lines+markers",
         "text": [
          "Direct Exposure to SARS-CoV-2 and Cigarette Smoke Increases Infection Severity and Alters the Stem Cell-Derived Airway Repair Response",
          "Direct Exposure to SARS-CoV-2 and Cigarette Smoke Increases Infection Severity and Alters the Stem Cell-Derived Airway Repair Response",
          "Direct Exposure to SARS-CoV-2 and Cigarette Smoke Increases Infection Severity and Alters the Stem Cell-Derived Airway Repair Response",
          "Direct Exposure to SARS-CoV-2 and Cigarette Smoke Increases Infection Severity and Alters the Stem Cell-Derived Airway Repair Response",
          "Direct Exposure to SARS-CoV-2 and Cigarette Smoke Increases Infection Severity and Alters the Stem Cell-Derived Airway Repair Response",
          "Direct Exposure to SARS-CoV-2 and Cigarette Smoke Increases Infection Severity and Alters the Stem Cell-Derived Airway Repair Response",
          "Direct Exposure to SARS-CoV-2 and Cigarette Smoke Increases Infection Severity and Alters the Stem Cell-Derived Airway Repair Response",
          "Direct Exposure to SARS-CoV-2 and Cigarette Smoke Increases Infection Severity and Alters the Stem Cell-Derived Airway Repair Response",
          "Direct Exposure to SARS-CoV-2 and Cigarette Smoke Increases Infection Severity and Alters the Stem Cell-Derived Airway Repair Response",
          "Direct Exposure to SARS-CoV-2 and Cigarette Smoke Increases Infection Severity and Alters the Stem Cell-Derived Airway Repair Response",
          "Direct Exposure to SARS-CoV-2 and Cigarette Smoke Increases Infection Severity and Alters the Stem Cell-Derived Airway Repair Response",
          "Direct Exposure to SARS-CoV-2 and Cigarette Smoke Increases Infection Severity and Alters the Stem Cell-Derived Airway Repair Response",
          "Direct Exposure to SARS-CoV-2 and Cigarette Smoke Increases Infection Severity and Alters the Stem Cell-Derived Airway Repair Response",
          "Direct Exposure to SARS-CoV-2 and Cigarette Smoke Increases Infection Severity and Alters the Stem Cell-Derived Airway Repair Response",
          "Direct Exposure to SARS-CoV-2 and Cigarette Smoke Increases Infection Severity and Alters the Stem Cell-Derived Airway Repair Response",
          "Direct Exposure to SARS-CoV-2 and Cigarette Smoke Increases Infection Severity and Alters the Stem Cell-Derived Airway Repair Response",
          "Direct Exposure to SARS-CoV-2 and Cigarette Smoke Increases Infection Severity and Alters the Stem Cell-Derived Airway Repair Response"
         ],
         "type": "scatter",
         "x": [
          "2021-04-28",
          "2021-05-05",
          "2021-05-20",
          "2021-05-26",
          "2021-05-28",
          "2021-05-29",
          "2021-06-04",
          "2021-06-05",
          "2021-06-09",
          "2021-06-15",
          "2021-06-17",
          "2021-06-21",
          "2021-07-09",
          "2021-07-14",
          "2021-07-17",
          "2021-07-23",
          "2021-07-30"
         ],
         "y": [
          1,
          2,
          4,
          6,
          9,
          10,
          11,
          13,
          14,
          15,
          16,
          18,
          20,
          21,
          22,
          23,
          24
         ]
        },
        {
         "hovertemplate": "<i>Date</i>: %{x}<br>Downloads</i>: %{y}<br><br>%{text}</i>",
         "mode": "lines+markers",
         "text": [
          "A Single-Cell Transcriptional Roadmap of the Mouse and Human Lymph Node Lymphatic Vasculature",
          "A Single-Cell Transcriptional Roadmap of the Mouse and Human Lymph Node Lymphatic Vasculature",
          "A Single-Cell Transcriptional Roadmap of the Mouse and Human Lymph Node Lymphatic Vasculature",
          "A Single-Cell Transcriptional Roadmap of the Mouse and Human Lymph Node Lymphatic Vasculature",
          "A Single-Cell Transcriptional Roadmap of the Mouse and Human Lymph Node Lymphatic Vasculature",
          "A Single-Cell Transcriptional Roadmap of the Mouse and Human Lymph Node Lymphatic Vasculature",
          "A Single-Cell Transcriptional Roadmap of the Mouse and Human Lymph Node Lymphatic Vasculature",
          "A Single-Cell Transcriptional Roadmap of the Mouse and Human Lymph Node Lymphatic Vasculature",
          "A Single-Cell Transcriptional Roadmap of the Mouse and Human Lymph Node Lymphatic Vasculature",
          "A Single-Cell Transcriptional Roadmap of the Mouse and Human Lymph Node Lymphatic Vasculature",
          "A Single-Cell Transcriptional Roadmap of the Mouse and Human Lymph Node Lymphatic Vasculature",
          "A Single-Cell Transcriptional Roadmap of the Mouse and Human Lymph Node Lymphatic Vasculature",
          "A Single-Cell Transcriptional Roadmap of the Mouse and Human Lymph Node Lymphatic Vasculature",
          "A Single-Cell Transcriptional Roadmap of the Mouse and Human Lymph Node Lymphatic Vasculature",
          "A Single-Cell Transcriptional Roadmap of the Mouse and Human Lymph Node Lymphatic Vasculature",
          "A Single-Cell Transcriptional Roadmap of the Mouse and Human Lymph Node Lymphatic Vasculature",
          "A Single-Cell Transcriptional Roadmap of the Mouse and Human Lymph Node Lymphatic Vasculature",
          "A Single-Cell Transcriptional Roadmap of the Mouse and Human Lymph Node Lymphatic Vasculature",
          "A Single-Cell Transcriptional Roadmap of the Mouse and Human Lymph Node Lymphatic Vasculature"
         ],
         "type": "scatter",
         "x": [
          "2021-04-28",
          "2021-05-05",
          "2021-05-10",
          "2021-05-28",
          "2021-06-03",
          "2021-06-05",
          "2021-06-10",
          "2021-06-15",
          "2021-06-17",
          "2021-06-28",
          "2021-07-01",
          "2021-07-07",
          "2021-07-09",
          "2021-07-14",
          "2021-07-18",
          "2021-07-19",
          "2021-07-23",
          "2021-07-30",
          "2021-08-09"
         ],
         "y": [
          1,
          2,
          3,
          6,
          7,
          8,
          9,
          10,
          11,
          12,
          13,
          14,
          16,
          17,
          18,
          19,
          20,
          21,
          22
         ]
        },
        {
         "hovertemplate": "<i>Date</i>: %{x}<br>Downloads</i>: %{y}<br><br>%{text}</i>",
         "mode": "lines+markers",
         "text": [
          "Multiomics single-cell analysis of human pancreatic islets reveals novel cellular states in health and type 1 diabetes",
          "Multiomics single-cell analysis of human pancreatic islets reveals novel cellular states in health and type 1 diabetes",
          "Multiomics single-cell analysis of human pancreatic islets reveals novel cellular states in health and type 1 diabetes",
          "Multiomics single-cell analysis of human pancreatic islets reveals novel cellular states in health and type 1 diabetes",
          "Multiomics single-cell analysis of human pancreatic islets reveals novel cellular states in health and type 1 diabetes",
          "Multiomics single-cell analysis of human pancreatic islets reveals novel cellular states in health and type 1 diabetes",
          "Multiomics single-cell analysis of human pancreatic islets reveals novel cellular states in health and type 1 diabetes",
          "Multiomics single-cell analysis of human pancreatic islets reveals novel cellular states in health and type 1 diabetes",
          "Multiomics single-cell analysis of human pancreatic islets reveals novel cellular states in health and type 1 diabetes",
          "Multiomics single-cell analysis of human pancreatic islets reveals novel cellular states in health and type 1 diabetes",
          "Multiomics single-cell analysis of human pancreatic islets reveals novel cellular states in health and type 1 diabetes",
          "Multiomics single-cell analysis of human pancreatic islets reveals novel cellular states in health and type 1 diabetes",
          "Multiomics single-cell analysis of human pancreatic islets reveals novel cellular states in health and type 1 diabetes",
          "Multiomics single-cell analysis of human pancreatic islets reveals novel cellular states in health and type 1 diabetes",
          "Multiomics single-cell analysis of human pancreatic islets reveals novel cellular states in health and type 1 diabetes"
         ],
         "type": "scatter",
         "x": [
          "2021-05-05",
          "2021-05-26",
          "2021-05-28",
          "2021-06-05",
          "2021-06-08",
          "2021-06-10",
          "2021-06-15",
          "2021-06-17",
          "2021-07-09",
          "2021-07-14",
          "2021-07-16",
          "2021-07-18",
          "2021-07-23",
          "2021-07-26",
          "2021-07-30"
         ],
         "y": [
          2,
          3,
          7,
          8,
          10,
          11,
          12,
          13,
          15,
          16,
          17,
          18,
          19,
          20,
          21
         ]
        },
        {
         "hovertemplate": "<i>Date</i>: %{x}<br>Downloads</i>: %{y}<br><br>%{text}</i>",
         "mode": "lines+markers",
         "text": [
          "Infiltrating Neoplastic Cells Human Glioblastoma",
          "Infiltrating Neoplastic Cells Human Glioblastoma",
          "Infiltrating Neoplastic Cells Human Glioblastoma",
          "Infiltrating Neoplastic Cells Human Glioblastoma",
          "Infiltrating Neoplastic Cells Human Glioblastoma",
          "Infiltrating Neoplastic Cells Human Glioblastoma",
          "Infiltrating Neoplastic Cells Human Glioblastoma",
          "Infiltrating Neoplastic Cells Human Glioblastoma",
          "Infiltrating Neoplastic Cells Human Glioblastoma",
          "Infiltrating Neoplastic Cells Human Glioblastoma",
          "Infiltrating Neoplastic Cells Human Glioblastoma",
          "Infiltrating Neoplastic Cells Human Glioblastoma",
          "Infiltrating Neoplastic Cells Human Glioblastoma",
          "Infiltrating Neoplastic Cells Human Glioblastoma",
          "Infiltrating Neoplastic Cells Human Glioblastoma",
          "Infiltrating Neoplastic Cells Human Glioblastoma",
          "Infiltrating Neoplastic Cells Human Glioblastoma",
          "Infiltrating Neoplastic Cells Human Glioblastoma",
          "Infiltrating Neoplastic Cells Human Glioblastoma",
          "Infiltrating Neoplastic Cells Human Glioblastoma"
         ],
         "type": "scatter",
         "x": [
          "2021-04-28",
          "2021-04-30",
          "2021-05-05",
          "2021-05-28",
          "2021-06-03",
          "2021-06-05",
          "2021-06-10",
          "2021-06-15",
          "2021-06-18",
          "2021-06-21",
          "2021-06-25",
          "2021-06-28",
          "2021-07-18",
          "2021-08-02",
          "2021-08-03",
          "2021-08-05",
          "2021-08-07",
          "2021-08-16",
          "2021-08-17",
          "2021-08-18"
         ],
         "y": [
          1,
          2,
          3,
          4,
          5,
          6,
          7,
          8,
          9,
          10,
          11,
          12,
          13,
          15,
          16,
          17,
          18,
          19,
          20,
          21
         ]
        },
        {
         "hovertemplate": "<i>Date</i>: %{x}<br>Downloads</i>: %{y}<br><br>%{text}</i>",
         "mode": "lines+markers",
         "text": [
          "scRNA-seq data analysis of endothelium-enriched mesenteric arterial tissues from human donors",
          "scRNA-seq data analysis of endothelium-enriched mesenteric arterial tissues from human donors",
          "scRNA-seq data analysis of endothelium-enriched mesenteric arterial tissues from human donors",
          "scRNA-seq data analysis of endothelium-enriched mesenteric arterial tissues from human donors",
          "scRNA-seq data analysis of endothelium-enriched mesenteric arterial tissues from human donors",
          "scRNA-seq data analysis of endothelium-enriched mesenteric arterial tissues from human donors",
          "scRNA-seq data analysis of endothelium-enriched mesenteric arterial tissues from human donors",
          "scRNA-seq data analysis of endothelium-enriched mesenteric arterial tissues from human donors",
          "scRNA-seq data analysis of endothelium-enriched mesenteric arterial tissues from human donors",
          "scRNA-seq data analysis of endothelium-enriched mesenteric arterial tissues from human donors",
          "scRNA-seq data analysis of endothelium-enriched mesenteric arterial tissues from human donors",
          "scRNA-seq data analysis of endothelium-enriched mesenteric arterial tissues from human donors",
          "scRNA-seq data analysis of endothelium-enriched mesenteric arterial tissues from human donors",
          "scRNA-seq data analysis of endothelium-enriched mesenteric arterial tissues from human donors",
          "scRNA-seq data analysis of endothelium-enriched mesenteric arterial tissues from human donors",
          "scRNA-seq data analysis of endothelium-enriched mesenteric arterial tissues from human donors"
         ],
         "type": "scatter",
         "x": [
          "2021-05-28",
          "2021-05-29",
          "2021-06-04",
          "2021-06-05",
          "2021-06-09",
          "2021-06-15",
          "2021-06-18",
          "2021-06-28",
          "2021-07-07",
          "2021-07-09",
          "2021-07-14",
          "2021-07-15",
          "2021-07-17",
          "2021-07-23",
          "2021-07-30",
          "2021-08-16"
         ],
         "y": [
          2,
          3,
          4,
          6,
          8,
          9,
          10,
          11,
          12,
          14,
          16,
          17,
          18,
          19,
          20,
          21
         ]
        },
        {
         "hovertemplate": "<i>Date</i>: %{x}<br>Downloads</i>: %{y}<br><br>%{text}</i>",
         "mode": "lines+markers",
         "text": [
          "Spatiotemporal analysis of human intestinal development at single-cell resolution: Adult A1",
          "Spatiotemporal analysis of human intestinal development at single-cell resolution: Adult A1",
          "Spatiotemporal analysis of human intestinal development at single-cell resolution: Adult A1",
          "Spatiotemporal analysis of human intestinal development at single-cell resolution: Adult A1",
          "Spatiotemporal analysis of human intestinal development at single-cell resolution: Adult A1",
          "Spatiotemporal analysis of human intestinal development at single-cell resolution: Adult A1",
          "Spatiotemporal analysis of human intestinal development at single-cell resolution: Adult A1",
          "Spatiotemporal analysis of human intestinal development at single-cell resolution: Adult A1",
          "Spatiotemporal analysis of human intestinal development at single-cell resolution: Adult A1",
          "Spatiotemporal analysis of human intestinal development at single-cell resolution: Adult A1",
          "Spatiotemporal analysis of human intestinal development at single-cell resolution: Adult A1",
          "Spatiotemporal analysis of human intestinal development at single-cell resolution: Adult A1",
          "Spatiotemporal analysis of human intestinal development at single-cell resolution: Adult A1",
          "Spatiotemporal analysis of human intestinal development at single-cell resolution: Adult A1",
          "Spatiotemporal analysis of human intestinal development at single-cell resolution: Adult A1",
          "Spatiotemporal analysis of human intestinal development at single-cell resolution: Adult A1",
          "Spatiotemporal analysis of human intestinal development at single-cell resolution: Adult A1"
         ],
         "type": "scatter",
         "x": [
          "2021-04-24",
          "2021-05-12",
          "2021-05-13",
          "2021-05-19",
          "2021-05-26",
          "2021-05-28",
          "2021-06-04",
          "2021-06-06",
          "2021-06-10",
          "2021-06-15",
          "2021-06-18",
          "2021-07-09",
          "2021-07-14",
          "2021-07-18",
          "2021-07-23",
          "2021-07-29",
          "2021-07-30"
         ],
         "y": [
          1,
          2,
          3,
          4,
          5,
          8,
          9,
          10,
          11,
          12,
          13,
          15,
          16,
          17,
          18,
          19,
          20
         ]
        },
        {
         "hovertemplate": "<i>Date</i>: %{x}<br>Downloads</i>: %{y}<br><br>%{text}</i>",
         "mode": "lines+markers",
         "text": [
          "Survey of human embryonic development",
          "Survey of human embryonic development",
          "Survey of human embryonic development",
          "Survey of human embryonic development",
          "Survey of human embryonic development",
          "Survey of human embryonic development",
          "Survey of human embryonic development",
          "Survey of human embryonic development",
          "Survey of human embryonic development",
          "Survey of human embryonic development",
          "Survey of human embryonic development",
          "Survey of human embryonic development",
          "Survey of human embryonic development",
          "Survey of human embryonic development",
          "Survey of human embryonic development"
         ],
         "type": "scatter",
         "x": [
          "2021-06-14",
          "2021-06-15",
          "2021-06-20",
          "2021-06-21",
          "2021-06-23",
          "2021-07-02",
          "2021-07-09",
          "2021-07-14",
          "2021-07-18",
          "2021-07-19",
          "2021-07-23",
          "2021-07-30",
          "2021-08-03",
          "2021-08-04",
          "2021-08-13"
         ],
         "y": [
          1,
          2,
          3,
          4,
          5,
          6,
          8,
          9,
          10,
          11,
          12,
          13,
          16,
          18,
          19
         ]
        },
        {
         "hovertemplate": "<i>Date</i>: %{x}<br>Downloads</i>: %{y}<br><br>%{text}</i>",
         "mode": "lines+markers",
         "text": [
          "Evolution of cellular diversity in primary motor cortex of human, marmoset monkey, and mouse 3-species integration inhibitory neurons",
          "Evolution of cellular diversity in primary motor cortex of human, marmoset monkey, and mouse 3-species integration inhibitory neurons",
          "Evolution of cellular diversity in primary motor cortex of human, marmoset monkey, and mouse 3-species integration inhibitory neurons",
          "Evolution of cellular diversity in primary motor cortex of human, marmoset monkey, and mouse 3-species integration inhibitory neurons",
          "Evolution of cellular diversity in primary motor cortex of human, marmoset monkey, and mouse 3-species integration inhibitory neurons",
          "Evolution of cellular diversity in primary motor cortex of human, marmoset monkey, and mouse 3-species integration inhibitory neurons",
          "Evolution of cellular diversity in primary motor cortex of human, marmoset monkey, and mouse 3-species integration inhibitory neurons",
          "Evolution of cellular diversity in primary motor cortex of human, marmoset monkey, and mouse 3-species integration inhibitory neurons",
          "Evolution of cellular diversity in primary motor cortex of human, marmoset monkey, and mouse 3-species integration inhibitory neurons",
          "Evolution of cellular diversity in primary motor cortex of human, marmoset monkey, and mouse 3-species integration inhibitory neurons",
          "Evolution of cellular diversity in primary motor cortex of human, marmoset monkey, and mouse 3-species integration inhibitory neurons",
          "Evolution of cellular diversity in primary motor cortex of human, marmoset monkey, and mouse 3-species integration inhibitory neurons",
          "Evolution of cellular diversity in primary motor cortex of human, marmoset monkey, and mouse 3-species integration inhibitory neurons",
          "Evolution of cellular diversity in primary motor cortex of human, marmoset monkey, and mouse 3-species integration inhibitory neurons"
         ],
         "type": "scatter",
         "x": [
          "2021-05-21",
          "2021-05-28",
          "2021-06-01",
          "2021-06-04",
          "2021-06-05",
          "2021-06-09",
          "2021-06-15",
          "2021-06-17",
          "2021-07-09",
          "2021-07-14",
          "2021-07-17",
          "2021-07-22",
          "2021-07-23",
          "2021-07-30"
         ],
         "y": [
          1,
          3,
          4,
          5,
          7,
          8,
          9,
          10,
          11,
          12,
          13,
          15,
          16,
          17
         ]
        },
        {
         "hovertemplate": "<i>Date</i>: %{x}<br>Downloads</i>: %{y}<br><br>%{text}</i>",
         "mode": "lines+markers",
         "text": [
          "Neuronal — Cells of the adult human heart",
          "Neuronal — Cells of the adult human heart",
          "Neuronal — Cells of the adult human heart",
          "Neuronal — Cells of the adult human heart",
          "Neuronal — Cells of the adult human heart",
          "Neuronal — Cells of the adult human heart",
          "Neuronal — Cells of the adult human heart",
          "Neuronal — Cells of the adult human heart",
          "Neuronal — Cells of the adult human heart",
          "Neuronal — Cells of the adult human heart",
          "Neuronal — Cells of the adult human heart",
          "Neuronal — Cells of the adult human heart",
          "Neuronal — Cells of the adult human heart"
         ],
         "type": "scatter",
         "x": [
          "2021-04-26",
          "2021-05-14",
          "2021-05-28",
          "2021-05-29",
          "2021-06-06",
          "2021-06-10",
          "2021-06-15",
          "2021-06-17",
          "2021-07-09",
          "2021-07-14",
          "2021-07-18",
          "2021-07-23",
          "2021-07-30"
         ],
         "y": [
          1,
          2,
          5,
          6,
          7,
          8,
          9,
          10,
          13,
          14,
          15,
          16,
          17
         ]
        }
       ],
       "layout": {
        "showlegend": false,
        "template": {
         "data": {
          "bar": [
           {
            "error_x": {
             "color": "#2a3f5f"
            },
            "error_y": {
             "color": "#2a3f5f"
            },
            "marker": {
             "line": {
              "color": "#E5ECF6",
              "width": 0.5
             },
             "pattern": {
              "fillmode": "overlay",
              "size": 10,
              "solidity": 0.2
             }
            },
            "type": "bar"
           }
          ],
          "barpolar": [
           {
            "marker": {
             "line": {
              "color": "#E5ECF6",
              "width": 0.5
             },
             "pattern": {
              "fillmode": "overlay",
              "size": 10,
              "solidity": 0.2
             }
            },
            "type": "barpolar"
           }
          ],
          "carpet": [
           {
            "aaxis": {
             "endlinecolor": "#2a3f5f",
             "gridcolor": "white",
             "linecolor": "white",
             "minorgridcolor": "white",
             "startlinecolor": "#2a3f5f"
            },
            "baxis": {
             "endlinecolor": "#2a3f5f",
             "gridcolor": "white",
             "linecolor": "white",
             "minorgridcolor": "white",
             "startlinecolor": "#2a3f5f"
            },
            "type": "carpet"
           }
          ],
          "choropleth": [
           {
            "colorbar": {
             "outlinewidth": 0,
             "ticks": ""
            },
            "type": "choropleth"
           }
          ],
          "contour": [
           {
            "colorbar": {
             "outlinewidth": 0,
             "ticks": ""
            },
            "colorscale": [
             [
              0,
              "#0d0887"
             ],
             [
              0.1111111111111111,
              "#46039f"
             ],
             [
              0.2222222222222222,
              "#7201a8"
             ],
             [
              0.3333333333333333,
              "#9c179e"
             ],
             [
              0.4444444444444444,
              "#bd3786"
             ],
             [
              0.5555555555555556,
              "#d8576b"
             ],
             [
              0.6666666666666666,
              "#ed7953"
             ],
             [
              0.7777777777777778,
              "#fb9f3a"
             ],
             [
              0.8888888888888888,
              "#fdca26"
             ],
             [
              1,
              "#f0f921"
             ]
            ],
            "type": "contour"
           }
          ],
          "contourcarpet": [
           {
            "colorbar": {
             "outlinewidth": 0,
             "ticks": ""
            },
            "type": "contourcarpet"
           }
          ],
          "heatmap": [
           {
            "colorbar": {
             "outlinewidth": 0,
             "ticks": ""
            },
            "colorscale": [
             [
              0,
              "#0d0887"
             ],
             [
              0.1111111111111111,
              "#46039f"
             ],
             [
              0.2222222222222222,
              "#7201a8"
             ],
             [
              0.3333333333333333,
              "#9c179e"
             ],
             [
              0.4444444444444444,
              "#bd3786"
             ],
             [
              0.5555555555555556,
              "#d8576b"
             ],
             [
              0.6666666666666666,
              "#ed7953"
             ],
             [
              0.7777777777777778,
              "#fb9f3a"
             ],
             [
              0.8888888888888888,
              "#fdca26"
             ],
             [
              1,
              "#f0f921"
             ]
            ],
            "type": "heatmap"
           }
          ],
          "heatmapgl": [
           {
            "colorbar": {
             "outlinewidth": 0,
             "ticks": ""
            },
            "colorscale": [
             [
              0,
              "#0d0887"
             ],
             [
              0.1111111111111111,
              "#46039f"
             ],
             [
              0.2222222222222222,
              "#7201a8"
             ],
             [
              0.3333333333333333,
              "#9c179e"
             ],
             [
              0.4444444444444444,
              "#bd3786"
             ],
             [
              0.5555555555555556,
              "#d8576b"
             ],
             [
              0.6666666666666666,
              "#ed7953"
             ],
             [
              0.7777777777777778,
              "#fb9f3a"
             ],
             [
              0.8888888888888888,
              "#fdca26"
             ],
             [
              1,
              "#f0f921"
             ]
            ],
            "type": "heatmapgl"
           }
          ],
          "histogram": [
           {
            "marker": {
             "pattern": {
              "fillmode": "overlay",
              "size": 10,
              "solidity": 0.2
             }
            },
            "type": "histogram"
           }
          ],
          "histogram2d": [
           {
            "colorbar": {
             "outlinewidth": 0,
             "ticks": ""
            },
            "colorscale": [
             [
              0,
              "#0d0887"
             ],
             [
              0.1111111111111111,
              "#46039f"
             ],
             [
              0.2222222222222222,
              "#7201a8"
             ],
             [
              0.3333333333333333,
              "#9c179e"
             ],
             [
              0.4444444444444444,
              "#bd3786"
             ],
             [
              0.5555555555555556,
              "#d8576b"
             ],
             [
              0.6666666666666666,
              "#ed7953"
             ],
             [
              0.7777777777777778,
              "#fb9f3a"
             ],
             [
              0.8888888888888888,
              "#fdca26"
             ],
             [
              1,
              "#f0f921"
             ]
            ],
            "type": "histogram2d"
           }
          ],
          "histogram2dcontour": [
           {
            "colorbar": {
             "outlinewidth": 0,
             "ticks": ""
            },
            "colorscale": [
             [
              0,
              "#0d0887"
             ],
             [
              0.1111111111111111,
              "#46039f"
             ],
             [
              0.2222222222222222,
              "#7201a8"
             ],
             [
              0.3333333333333333,
              "#9c179e"
             ],
             [
              0.4444444444444444,
              "#bd3786"
             ],
             [
              0.5555555555555556,
              "#d8576b"
             ],
             [
              0.6666666666666666,
              "#ed7953"
             ],
             [
              0.7777777777777778,
              "#fb9f3a"
             ],
             [
              0.8888888888888888,
              "#fdca26"
             ],
             [
              1,
              "#f0f921"
             ]
            ],
            "type": "histogram2dcontour"
           }
          ],
          "mesh3d": [
           {
            "colorbar": {
             "outlinewidth": 0,
             "ticks": ""
            },
            "type": "mesh3d"
           }
          ],
          "parcoords": [
           {
            "line": {
             "colorbar": {
              "outlinewidth": 0,
              "ticks": ""
             }
            },
            "type": "parcoords"
           }
          ],
          "pie": [
           {
            "automargin": true,
            "type": "pie"
           }
          ],
          "scatter": [
           {
            "marker": {
             "colorbar": {
              "outlinewidth": 0,
              "ticks": ""
             }
            },
            "type": "scatter"
           }
          ],
          "scatter3d": [
           {
            "line": {
             "colorbar": {
              "outlinewidth": 0,
              "ticks": ""
             }
            },
            "marker": {
             "colorbar": {
              "outlinewidth": 0,
              "ticks": ""
             }
            },
            "type": "scatter3d"
           }
          ],
          "scattercarpet": [
           {
            "marker": {
             "colorbar": {
              "outlinewidth": 0,
              "ticks": ""
             }
            },
            "type": "scattercarpet"
           }
          ],
          "scattergeo": [
           {
            "marker": {
             "colorbar": {
              "outlinewidth": 0,
              "ticks": ""
             }
            },
            "type": "scattergeo"
           }
          ],
          "scattergl": [
           {
            "marker": {
             "colorbar": {
              "outlinewidth": 0,
              "ticks": ""
             }
            },
            "type": "scattergl"
           }
          ],
          "scattermapbox": [
           {
            "marker": {
             "colorbar": {
              "outlinewidth": 0,
              "ticks": ""
             }
            },
            "type": "scattermapbox"
           }
          ],
          "scatterpolar": [
           {
            "marker": {
             "colorbar": {
              "outlinewidth": 0,
              "ticks": ""
             }
            },
            "type": "scatterpolar"
           }
          ],
          "scatterpolargl": [
           {
            "marker": {
             "colorbar": {
              "outlinewidth": 0,
              "ticks": ""
             }
            },
            "type": "scatterpolargl"
           }
          ],
          "scatterternary": [
           {
            "marker": {
             "colorbar": {
              "outlinewidth": 0,
              "ticks": ""
             }
            },
            "type": "scatterternary"
           }
          ],
          "surface": [
           {
            "colorbar": {
             "outlinewidth": 0,
             "ticks": ""
            },
            "colorscale": [
             [
              0,
              "#0d0887"
             ],
             [
              0.1111111111111111,
              "#46039f"
             ],
             [
              0.2222222222222222,
              "#7201a8"
             ],
             [
              0.3333333333333333,
              "#9c179e"
             ],
             [
              0.4444444444444444,
              "#bd3786"
             ],
             [
              0.5555555555555556,
              "#d8576b"
             ],
             [
              0.6666666666666666,
              "#ed7953"
             ],
             [
              0.7777777777777778,
              "#fb9f3a"
             ],
             [
              0.8888888888888888,
              "#fdca26"
             ],
             [
              1,
              "#f0f921"
             ]
            ],
            "type": "surface"
           }
          ],
          "table": [
           {
            "cells": {
             "fill": {
              "color": "#EBF0F8"
             },
             "line": {
              "color": "white"
             }
            },
            "header": {
             "fill": {
              "color": "#C8D4E3"
             },
             "line": {
              "color": "white"
             }
            },
            "type": "table"
           }
          ]
         },
         "layout": {
          "annotationdefaults": {
           "arrowcolor": "#2a3f5f",
           "arrowhead": 0,
           "arrowwidth": 1
          },
          "autotypenumbers": "strict",
          "coloraxis": {
           "colorbar": {
            "outlinewidth": 0,
            "ticks": ""
           }
          },
          "colorscale": {
           "diverging": [
            [
             0,
             "#8e0152"
            ],
            [
             0.1,
             "#c51b7d"
            ],
            [
             0.2,
             "#de77ae"
            ],
            [
             0.3,
             "#f1b6da"
            ],
            [
             0.4,
             "#fde0ef"
            ],
            [
             0.5,
             "#f7f7f7"
            ],
            [
             0.6,
             "#e6f5d0"
            ],
            [
             0.7,
             "#b8e186"
            ],
            [
             0.8,
             "#7fbc41"
            ],
            [
             0.9,
             "#4d9221"
            ],
            [
             1,
             "#276419"
            ]
           ],
           "sequential": [
            [
             0,
             "#0d0887"
            ],
            [
             0.1111111111111111,
             "#46039f"
            ],
            [
             0.2222222222222222,
             "#7201a8"
            ],
            [
             0.3333333333333333,
             "#9c179e"
            ],
            [
             0.4444444444444444,
             "#bd3786"
            ],
            [
             0.5555555555555556,
             "#d8576b"
            ],
            [
             0.6666666666666666,
             "#ed7953"
            ],
            [
             0.7777777777777778,
             "#fb9f3a"
            ],
            [
             0.8888888888888888,
             "#fdca26"
            ],
            [
             1,
             "#f0f921"
            ]
           ],
           "sequentialminus": [
            [
             0,
             "#0d0887"
            ],
            [
             0.1111111111111111,
             "#46039f"
            ],
            [
             0.2222222222222222,
             "#7201a8"
            ],
            [
             0.3333333333333333,
             "#9c179e"
            ],
            [
             0.4444444444444444,
             "#bd3786"
            ],
            [
             0.5555555555555556,
             "#d8576b"
            ],
            [
             0.6666666666666666,
             "#ed7953"
            ],
            [
             0.7777777777777778,
             "#fb9f3a"
            ],
            [
             0.8888888888888888,
             "#fdca26"
            ],
            [
             1,
             "#f0f921"
            ]
           ]
          },
          "colorway": [
           "#636efa",
           "#EF553B",
           "#00cc96",
           "#ab63fa",
           "#FFA15A",
           "#19d3f3",
           "#FF6692",
           "#B6E880",
           "#FF97FF",
           "#FECB52"
          ],
          "font": {
           "color": "#2a3f5f"
          },
          "geo": {
           "bgcolor": "white",
           "lakecolor": "white",
           "landcolor": "#E5ECF6",
           "showlakes": true,
           "showland": true,
           "subunitcolor": "white"
          },
          "hoverlabel": {
           "align": "left"
          },
          "hovermode": "closest",
          "mapbox": {
           "style": "light"
          },
          "paper_bgcolor": "white",
          "plot_bgcolor": "#E5ECF6",
          "polar": {
           "angularaxis": {
            "gridcolor": "white",
            "linecolor": "white",
            "ticks": ""
           },
           "bgcolor": "#E5ECF6",
           "radialaxis": {
            "gridcolor": "white",
            "linecolor": "white",
            "ticks": ""
           }
          },
          "scene": {
           "xaxis": {
            "backgroundcolor": "#E5ECF6",
            "gridcolor": "white",
            "gridwidth": 2,
            "linecolor": "white",
            "showbackground": true,
            "ticks": "",
            "zerolinecolor": "white"
           },
           "yaxis": {
            "backgroundcolor": "#E5ECF6",
            "gridcolor": "white",
            "gridwidth": 2,
            "linecolor": "white",
            "showbackground": true,
            "ticks": "",
            "zerolinecolor": "white"
           },
           "zaxis": {
            "backgroundcolor": "#E5ECF6",
            "gridcolor": "white",
            "gridwidth": 2,
            "linecolor": "white",
            "showbackground": true,
            "ticks": "",
            "zerolinecolor": "white"
           }
          },
          "shapedefaults": {
           "line": {
            "color": "#2a3f5f"
           }
          },
          "ternary": {
           "aaxis": {
            "gridcolor": "white",
            "linecolor": "white",
            "ticks": ""
           },
           "baxis": {
            "gridcolor": "white",
            "linecolor": "white",
            "ticks": ""
           },
           "bgcolor": "#E5ECF6",
           "caxis": {
            "gridcolor": "white",
            "linecolor": "white",
            "ticks": ""
           }
          },
          "title": {
           "x": 0.05
          },
          "xaxis": {
           "automargin": true,
           "gridcolor": "white",
           "linecolor": "white",
           "ticks": "",
           "title": {
            "standoff": 15
           },
           "zerolinecolor": "white",
           "zerolinewidth": 2
          },
          "yaxis": {
           "automargin": true,
           "gridcolor": "white",
           "linecolor": "white",
           "ticks": "",
           "title": {
            "standoff": 15
           },
           "zerolinecolor": "white",
           "zerolinewidth": 2
          }
         }
        },
        "title": {
         "text": "Trends of top 10 moderately downloaded datasets (cumulative) - raw downloads"
        },
        "xaxis": {
         "title": {
          "text": "date"
         }
        },
        "yaxis": {
         "title": {
          "text": "number of downloads"
         }
        }
       }
      },
      "text/html": [
       "<div>                            <div id=\"31b21451-5c42-4a03-b7cf-eaa9dde6c599\" class=\"plotly-graph-div\" style=\"height:525px; width:100%;\"></div>            <script type=\"text/javascript\">                require([\"plotly\"], function(Plotly) {                    window.PLOTLYENV=window.PLOTLYENV || {};                                    if (document.getElementById(\"31b21451-5c42-4a03-b7cf-eaa9dde6c599\")) {                    Plotly.newPlot(                        \"31b21451-5c42-4a03-b7cf-eaa9dde6c599\",                        [{\"hovertemplate\":\"<i>Date</i>: %{x}<br>Downloads</i>: %{y}<br><br>%{text}</i>\",\"mode\":\"lines+markers\",\"text\":[\"Single-cell transcriptomics of human T cells reveals tissue and activation signatures in health and disease\",\"Single-cell transcriptomics of human T cells reveals tissue and activation signatures in health and disease\",\"Single-cell transcriptomics of human T cells reveals tissue and activation signatures in health and disease\",\"Single-cell transcriptomics of human T cells reveals tissue and activation signatures in health and disease\",\"Single-cell transcriptomics of human T cells reveals tissue and activation signatures in health and disease\",\"Single-cell transcriptomics of human T cells reveals tissue and activation signatures in health and disease\",\"Single-cell transcriptomics of human T cells reveals tissue and activation signatures in health and disease\",\"Single-cell transcriptomics of human T cells reveals tissue and activation signatures in health and disease\",\"Single-cell transcriptomics of human T cells reveals tissue and activation signatures in health and disease\",\"Single-cell transcriptomics of human T cells reveals tissue and activation signatures in health and disease\",\"Single-cell transcriptomics of human T cells reveals tissue and activation signatures in health and disease\",\"Single-cell transcriptomics of human T cells reveals tissue and activation signatures in health and disease\",\"Single-cell transcriptomics of human T cells reveals tissue and activation signatures in health and disease\",\"Single-cell transcriptomics of human T cells reveals tissue and activation signatures in health and disease\",\"Single-cell transcriptomics of human T cells reveals tissue and activation signatures in health and disease\",\"Single-cell transcriptomics of human T cells reveals tissue and activation signatures in health and disease\",\"Single-cell transcriptomics of human T cells reveals tissue and activation signatures in health and disease\",\"Single-cell transcriptomics of human T cells reveals tissue and activation signatures in health and disease\"],\"type\":\"scatter\",\"x\":[\"2021-05-01\",\"2021-05-05\",\"2021-05-13\",\"2021-05-18\",\"2021-05-28\",\"2021-06-04\",\"2021-06-05\",\"2021-06-09\",\"2021-06-15\",\"2021-06-17\",\"2021-06-25\",\"2021-06-28\",\"2021-06-29\",\"2021-07-09\",\"2021-07-14\",\"2021-07-17\",\"2021-07-23\",\"2021-07-30\"],\"y\":[1,2,3,4,7,8,10,11,13,14,16,17,18,20,21,22,23,24]},{\"hovertemplate\":\"<i>Date</i>: %{x}<br>Downloads</i>: %{y}<br><br>%{text}</i>\",\"mode\":\"lines+markers\",\"text\":[\"Direct Exposure to SARS-CoV-2 and Cigarette Smoke Increases Infection Severity and Alters the Stem Cell-Derived Airway Repair Response\",\"Direct Exposure to SARS-CoV-2 and Cigarette Smoke Increases Infection Severity and Alters the Stem Cell-Derived Airway Repair Response\",\"Direct Exposure to SARS-CoV-2 and Cigarette Smoke Increases Infection Severity and Alters the Stem Cell-Derived Airway Repair Response\",\"Direct Exposure to SARS-CoV-2 and Cigarette Smoke Increases Infection Severity and Alters the Stem Cell-Derived Airway Repair Response\",\"Direct Exposure to SARS-CoV-2 and Cigarette Smoke Increases Infection Severity and Alters the Stem Cell-Derived Airway Repair Response\",\"Direct Exposure to SARS-CoV-2 and Cigarette Smoke Increases Infection Severity and Alters the Stem Cell-Derived Airway Repair Response\",\"Direct Exposure to SARS-CoV-2 and Cigarette Smoke Increases Infection Severity and Alters the Stem Cell-Derived Airway Repair Response\",\"Direct Exposure to SARS-CoV-2 and Cigarette Smoke Increases Infection Severity and Alters the Stem Cell-Derived Airway Repair Response\",\"Direct Exposure to SARS-CoV-2 and Cigarette Smoke Increases Infection Severity and Alters the Stem Cell-Derived Airway Repair Response\",\"Direct Exposure to SARS-CoV-2 and Cigarette Smoke Increases Infection Severity and Alters the Stem Cell-Derived Airway Repair Response\",\"Direct Exposure to SARS-CoV-2 and Cigarette Smoke Increases Infection Severity and Alters the Stem Cell-Derived Airway Repair Response\",\"Direct Exposure to SARS-CoV-2 and Cigarette Smoke Increases Infection Severity and Alters the Stem Cell-Derived Airway Repair Response\",\"Direct Exposure to SARS-CoV-2 and Cigarette Smoke Increases Infection Severity and Alters the Stem Cell-Derived Airway Repair Response\",\"Direct Exposure to SARS-CoV-2 and Cigarette Smoke Increases Infection Severity and Alters the Stem Cell-Derived Airway Repair Response\",\"Direct Exposure to SARS-CoV-2 and Cigarette Smoke Increases Infection Severity and Alters the Stem Cell-Derived Airway Repair Response\",\"Direct Exposure to SARS-CoV-2 and Cigarette Smoke Increases Infection Severity and Alters the Stem Cell-Derived Airway Repair Response\",\"Direct Exposure to SARS-CoV-2 and Cigarette Smoke Increases Infection Severity and Alters the Stem Cell-Derived Airway Repair Response\"],\"type\":\"scatter\",\"x\":[\"2021-04-28\",\"2021-05-05\",\"2021-05-20\",\"2021-05-26\",\"2021-05-28\",\"2021-05-29\",\"2021-06-04\",\"2021-06-05\",\"2021-06-09\",\"2021-06-15\",\"2021-06-17\",\"2021-06-21\",\"2021-07-09\",\"2021-07-14\",\"2021-07-17\",\"2021-07-23\",\"2021-07-30\"],\"y\":[1,2,4,6,9,10,11,13,14,15,16,18,20,21,22,23,24]},{\"hovertemplate\":\"<i>Date</i>: %{x}<br>Downloads</i>: %{y}<br><br>%{text}</i>\",\"mode\":\"lines+markers\",\"text\":[\"A Single-Cell Transcriptional Roadmap of the Mouse and Human Lymph Node Lymphatic Vasculature\",\"A Single-Cell Transcriptional Roadmap of the Mouse and Human Lymph Node Lymphatic Vasculature\",\"A Single-Cell Transcriptional Roadmap of the Mouse and Human Lymph Node Lymphatic Vasculature\",\"A Single-Cell Transcriptional Roadmap of the Mouse and Human Lymph Node Lymphatic Vasculature\",\"A Single-Cell Transcriptional Roadmap of the Mouse and Human Lymph Node Lymphatic Vasculature\",\"A Single-Cell Transcriptional Roadmap of the Mouse and Human Lymph Node Lymphatic Vasculature\",\"A Single-Cell Transcriptional Roadmap of the Mouse and Human Lymph Node Lymphatic Vasculature\",\"A Single-Cell Transcriptional Roadmap of the Mouse and Human Lymph Node Lymphatic Vasculature\",\"A Single-Cell Transcriptional Roadmap of the Mouse and Human Lymph Node Lymphatic Vasculature\",\"A Single-Cell Transcriptional Roadmap of the Mouse and Human Lymph Node Lymphatic Vasculature\",\"A Single-Cell Transcriptional Roadmap of the Mouse and Human Lymph Node Lymphatic Vasculature\",\"A Single-Cell Transcriptional Roadmap of the Mouse and Human Lymph Node Lymphatic Vasculature\",\"A Single-Cell Transcriptional Roadmap of the Mouse and Human Lymph Node Lymphatic Vasculature\",\"A Single-Cell Transcriptional Roadmap of the Mouse and Human Lymph Node Lymphatic Vasculature\",\"A Single-Cell Transcriptional Roadmap of the Mouse and Human Lymph Node Lymphatic Vasculature\",\"A Single-Cell Transcriptional Roadmap of the Mouse and Human Lymph Node Lymphatic Vasculature\",\"A Single-Cell Transcriptional Roadmap of the Mouse and Human Lymph Node Lymphatic Vasculature\",\"A Single-Cell Transcriptional Roadmap of the Mouse and Human Lymph Node Lymphatic Vasculature\",\"A Single-Cell Transcriptional Roadmap of the Mouse and Human Lymph Node Lymphatic Vasculature\"],\"type\":\"scatter\",\"x\":[\"2021-04-28\",\"2021-05-05\",\"2021-05-10\",\"2021-05-28\",\"2021-06-03\",\"2021-06-05\",\"2021-06-10\",\"2021-06-15\",\"2021-06-17\",\"2021-06-28\",\"2021-07-01\",\"2021-07-07\",\"2021-07-09\",\"2021-07-14\",\"2021-07-18\",\"2021-07-19\",\"2021-07-23\",\"2021-07-30\",\"2021-08-09\"],\"y\":[1,2,3,6,7,8,9,10,11,12,13,14,16,17,18,19,20,21,22]},{\"hovertemplate\":\"<i>Date</i>: %{x}<br>Downloads</i>: %{y}<br><br>%{text}</i>\",\"mode\":\"lines+markers\",\"text\":[\"Multiomics single-cell analysis of human pancreatic islets reveals novel cellular states in health and type 1 diabetes\",\"Multiomics single-cell analysis of human pancreatic islets reveals novel cellular states in health and type 1 diabetes\",\"Multiomics single-cell analysis of human pancreatic islets reveals novel cellular states in health and type 1 diabetes\",\"Multiomics single-cell analysis of human pancreatic islets reveals novel cellular states in health and type 1 diabetes\",\"Multiomics single-cell analysis of human pancreatic islets reveals novel cellular states in health and type 1 diabetes\",\"Multiomics single-cell analysis of human pancreatic islets reveals novel cellular states in health and type 1 diabetes\",\"Multiomics single-cell analysis of human pancreatic islets reveals novel cellular states in health and type 1 diabetes\",\"Multiomics single-cell analysis of human pancreatic islets reveals novel cellular states in health and type 1 diabetes\",\"Multiomics single-cell analysis of human pancreatic islets reveals novel cellular states in health and type 1 diabetes\",\"Multiomics single-cell analysis of human pancreatic islets reveals novel cellular states in health and type 1 diabetes\",\"Multiomics single-cell analysis of human pancreatic islets reveals novel cellular states in health and type 1 diabetes\",\"Multiomics single-cell analysis of human pancreatic islets reveals novel cellular states in health and type 1 diabetes\",\"Multiomics single-cell analysis of human pancreatic islets reveals novel cellular states in health and type 1 diabetes\",\"Multiomics single-cell analysis of human pancreatic islets reveals novel cellular states in health and type 1 diabetes\",\"Multiomics single-cell analysis of human pancreatic islets reveals novel cellular states in health and type 1 diabetes\"],\"type\":\"scatter\",\"x\":[\"2021-05-05\",\"2021-05-26\",\"2021-05-28\",\"2021-06-05\",\"2021-06-08\",\"2021-06-10\",\"2021-06-15\",\"2021-06-17\",\"2021-07-09\",\"2021-07-14\",\"2021-07-16\",\"2021-07-18\",\"2021-07-23\",\"2021-07-26\",\"2021-07-30\"],\"y\":[2,3,7,8,10,11,12,13,15,16,17,18,19,20,21]},{\"hovertemplate\":\"<i>Date</i>: %{x}<br>Downloads</i>: %{y}<br><br>%{text}</i>\",\"mode\":\"lines+markers\",\"text\":[\"Infiltrating Neoplastic Cells Human Glioblastoma\",\"Infiltrating Neoplastic Cells Human Glioblastoma\",\"Infiltrating Neoplastic Cells Human Glioblastoma\",\"Infiltrating Neoplastic Cells Human Glioblastoma\",\"Infiltrating Neoplastic Cells Human Glioblastoma\",\"Infiltrating Neoplastic Cells Human Glioblastoma\",\"Infiltrating Neoplastic Cells Human Glioblastoma\",\"Infiltrating Neoplastic Cells Human Glioblastoma\",\"Infiltrating Neoplastic Cells Human Glioblastoma\",\"Infiltrating Neoplastic Cells Human Glioblastoma\",\"Infiltrating Neoplastic Cells Human Glioblastoma\",\"Infiltrating Neoplastic Cells Human Glioblastoma\",\"Infiltrating Neoplastic Cells Human Glioblastoma\",\"Infiltrating Neoplastic Cells Human Glioblastoma\",\"Infiltrating Neoplastic Cells Human Glioblastoma\",\"Infiltrating Neoplastic Cells Human Glioblastoma\",\"Infiltrating Neoplastic Cells Human Glioblastoma\",\"Infiltrating Neoplastic Cells Human Glioblastoma\",\"Infiltrating Neoplastic Cells Human Glioblastoma\",\"Infiltrating Neoplastic Cells Human Glioblastoma\"],\"type\":\"scatter\",\"x\":[\"2021-04-28\",\"2021-04-30\",\"2021-05-05\",\"2021-05-28\",\"2021-06-03\",\"2021-06-05\",\"2021-06-10\",\"2021-06-15\",\"2021-06-18\",\"2021-06-21\",\"2021-06-25\",\"2021-06-28\",\"2021-07-18\",\"2021-08-02\",\"2021-08-03\",\"2021-08-05\",\"2021-08-07\",\"2021-08-16\",\"2021-08-17\",\"2021-08-18\"],\"y\":[1,2,3,4,5,6,7,8,9,10,11,12,13,15,16,17,18,19,20,21]},{\"hovertemplate\":\"<i>Date</i>: %{x}<br>Downloads</i>: %{y}<br><br>%{text}</i>\",\"mode\":\"lines+markers\",\"text\":[\"scRNA-seq data analysis of endothelium-enriched mesenteric arterial tissues from human donors\",\"scRNA-seq data analysis of endothelium-enriched mesenteric arterial tissues from human donors\",\"scRNA-seq data analysis of endothelium-enriched mesenteric arterial tissues from human donors\",\"scRNA-seq data analysis of endothelium-enriched mesenteric arterial tissues from human donors\",\"scRNA-seq data analysis of endothelium-enriched mesenteric arterial tissues from human donors\",\"scRNA-seq data analysis of endothelium-enriched mesenteric arterial tissues from human donors\",\"scRNA-seq data analysis of endothelium-enriched mesenteric arterial tissues from human donors\",\"scRNA-seq data analysis of endothelium-enriched mesenteric arterial tissues from human donors\",\"scRNA-seq data analysis of endothelium-enriched mesenteric arterial tissues from human donors\",\"scRNA-seq data analysis of endothelium-enriched mesenteric arterial tissues from human donors\",\"scRNA-seq data analysis of endothelium-enriched mesenteric arterial tissues from human donors\",\"scRNA-seq data analysis of endothelium-enriched mesenteric arterial tissues from human donors\",\"scRNA-seq data analysis of endothelium-enriched mesenteric arterial tissues from human donors\",\"scRNA-seq data analysis of endothelium-enriched mesenteric arterial tissues from human donors\",\"scRNA-seq data analysis of endothelium-enriched mesenteric arterial tissues from human donors\",\"scRNA-seq data analysis of endothelium-enriched mesenteric arterial tissues from human donors\"],\"type\":\"scatter\",\"x\":[\"2021-05-28\",\"2021-05-29\",\"2021-06-04\",\"2021-06-05\",\"2021-06-09\",\"2021-06-15\",\"2021-06-18\",\"2021-06-28\",\"2021-07-07\",\"2021-07-09\",\"2021-07-14\",\"2021-07-15\",\"2021-07-17\",\"2021-07-23\",\"2021-07-30\",\"2021-08-16\"],\"y\":[2,3,4,6,8,9,10,11,12,14,16,17,18,19,20,21]},{\"hovertemplate\":\"<i>Date</i>: %{x}<br>Downloads</i>: %{y}<br><br>%{text}</i>\",\"mode\":\"lines+markers\",\"text\":[\"Spatiotemporal analysis of human intestinal development at single-cell resolution: Adult A1\",\"Spatiotemporal analysis of human intestinal development at single-cell resolution: Adult A1\",\"Spatiotemporal analysis of human intestinal development at single-cell resolution: Adult A1\",\"Spatiotemporal analysis of human intestinal development at single-cell resolution: Adult A1\",\"Spatiotemporal analysis of human intestinal development at single-cell resolution: Adult A1\",\"Spatiotemporal analysis of human intestinal development at single-cell resolution: Adult A1\",\"Spatiotemporal analysis of human intestinal development at single-cell resolution: Adult A1\",\"Spatiotemporal analysis of human intestinal development at single-cell resolution: Adult A1\",\"Spatiotemporal analysis of human intestinal development at single-cell resolution: Adult A1\",\"Spatiotemporal analysis of human intestinal development at single-cell resolution: Adult A1\",\"Spatiotemporal analysis of human intestinal development at single-cell resolution: Adult A1\",\"Spatiotemporal analysis of human intestinal development at single-cell resolution: Adult A1\",\"Spatiotemporal analysis of human intestinal development at single-cell resolution: Adult A1\",\"Spatiotemporal analysis of human intestinal development at single-cell resolution: Adult A1\",\"Spatiotemporal analysis of human intestinal development at single-cell resolution: Adult A1\",\"Spatiotemporal analysis of human intestinal development at single-cell resolution: Adult A1\",\"Spatiotemporal analysis of human intestinal development at single-cell resolution: Adult A1\"],\"type\":\"scatter\",\"x\":[\"2021-04-24\",\"2021-05-12\",\"2021-05-13\",\"2021-05-19\",\"2021-05-26\",\"2021-05-28\",\"2021-06-04\",\"2021-06-06\",\"2021-06-10\",\"2021-06-15\",\"2021-06-18\",\"2021-07-09\",\"2021-07-14\",\"2021-07-18\",\"2021-07-23\",\"2021-07-29\",\"2021-07-30\"],\"y\":[1,2,3,4,5,8,9,10,11,12,13,15,16,17,18,19,20]},{\"hovertemplate\":\"<i>Date</i>: %{x}<br>Downloads</i>: %{y}<br><br>%{text}</i>\",\"mode\":\"lines+markers\",\"text\":[\"Survey of human embryonic development\",\"Survey of human embryonic development\",\"Survey of human embryonic development\",\"Survey of human embryonic development\",\"Survey of human embryonic development\",\"Survey of human embryonic development\",\"Survey of human embryonic development\",\"Survey of human embryonic development\",\"Survey of human embryonic development\",\"Survey of human embryonic development\",\"Survey of human embryonic development\",\"Survey of human embryonic development\",\"Survey of human embryonic development\",\"Survey of human embryonic development\",\"Survey of human embryonic development\"],\"type\":\"scatter\",\"x\":[\"2021-06-14\",\"2021-06-15\",\"2021-06-20\",\"2021-06-21\",\"2021-06-23\",\"2021-07-02\",\"2021-07-09\",\"2021-07-14\",\"2021-07-18\",\"2021-07-19\",\"2021-07-23\",\"2021-07-30\",\"2021-08-03\",\"2021-08-04\",\"2021-08-13\"],\"y\":[1,2,3,4,5,6,8,9,10,11,12,13,16,18,19]},{\"hovertemplate\":\"<i>Date</i>: %{x}<br>Downloads</i>: %{y}<br><br>%{text}</i>\",\"mode\":\"lines+markers\",\"text\":[\"Evolution of cellular diversity in primary motor cortex of human, marmoset monkey, and mouse 3-species integration inhibitory neurons\",\"Evolution of cellular diversity in primary motor cortex of human, marmoset monkey, and mouse 3-species integration inhibitory neurons\",\"Evolution of cellular diversity in primary motor cortex of human, marmoset monkey, and mouse 3-species integration inhibitory neurons\",\"Evolution of cellular diversity in primary motor cortex of human, marmoset monkey, and mouse 3-species integration inhibitory neurons\",\"Evolution of cellular diversity in primary motor cortex of human, marmoset monkey, and mouse 3-species integration inhibitory neurons\",\"Evolution of cellular diversity in primary motor cortex of human, marmoset monkey, and mouse 3-species integration inhibitory neurons\",\"Evolution of cellular diversity in primary motor cortex of human, marmoset monkey, and mouse 3-species integration inhibitory neurons\",\"Evolution of cellular diversity in primary motor cortex of human, marmoset monkey, and mouse 3-species integration inhibitory neurons\",\"Evolution of cellular diversity in primary motor cortex of human, marmoset monkey, and mouse 3-species integration inhibitory neurons\",\"Evolution of cellular diversity in primary motor cortex of human, marmoset monkey, and mouse 3-species integration inhibitory neurons\",\"Evolution of cellular diversity in primary motor cortex of human, marmoset monkey, and mouse 3-species integration inhibitory neurons\",\"Evolution of cellular diversity in primary motor cortex of human, marmoset monkey, and mouse 3-species integration inhibitory neurons\",\"Evolution of cellular diversity in primary motor cortex of human, marmoset monkey, and mouse 3-species integration inhibitory neurons\",\"Evolution of cellular diversity in primary motor cortex of human, marmoset monkey, and mouse 3-species integration inhibitory neurons\"],\"type\":\"scatter\",\"x\":[\"2021-05-21\",\"2021-05-28\",\"2021-06-01\",\"2021-06-04\",\"2021-06-05\",\"2021-06-09\",\"2021-06-15\",\"2021-06-17\",\"2021-07-09\",\"2021-07-14\",\"2021-07-17\",\"2021-07-22\",\"2021-07-23\",\"2021-07-30\"],\"y\":[1,3,4,5,7,8,9,10,11,12,13,15,16,17]},{\"hovertemplate\":\"<i>Date</i>: %{x}<br>Downloads</i>: %{y}<br><br>%{text}</i>\",\"mode\":\"lines+markers\",\"text\":[\"Neuronal \\u2014 Cells of the adult human heart\",\"Neuronal \\u2014 Cells of the adult human heart\",\"Neuronal \\u2014 Cells of the adult human heart\",\"Neuronal \\u2014 Cells of the adult human heart\",\"Neuronal \\u2014 Cells of the adult human heart\",\"Neuronal \\u2014 Cells of the adult human heart\",\"Neuronal \\u2014 Cells of the adult human heart\",\"Neuronal \\u2014 Cells of the adult human heart\",\"Neuronal \\u2014 Cells of the adult human heart\",\"Neuronal \\u2014 Cells of the adult human heart\",\"Neuronal \\u2014 Cells of the adult human heart\",\"Neuronal \\u2014 Cells of the adult human heart\",\"Neuronal \\u2014 Cells of the adult human heart\"],\"type\":\"scatter\",\"x\":[\"2021-04-26\",\"2021-05-14\",\"2021-05-28\",\"2021-05-29\",\"2021-06-06\",\"2021-06-10\",\"2021-06-15\",\"2021-06-17\",\"2021-07-09\",\"2021-07-14\",\"2021-07-18\",\"2021-07-23\",\"2021-07-30\"],\"y\":[1,2,5,6,7,8,9,10,13,14,15,16,17]}],                        {\"showlegend\":false,\"template\":{\"data\":{\"bar\":[{\"error_x\":{\"color\":\"#2a3f5f\"},\"error_y\":{\"color\":\"#2a3f5f\"},\"marker\":{\"line\":{\"color\":\"#E5ECF6\",\"width\":0.5},\"pattern\":{\"fillmode\":\"overlay\",\"size\":10,\"solidity\":0.2}},\"type\":\"bar\"}],\"barpolar\":[{\"marker\":{\"line\":{\"color\":\"#E5ECF6\",\"width\":0.5},\"pattern\":{\"fillmode\":\"overlay\",\"size\":10,\"solidity\":0.2}},\"type\":\"barpolar\"}],\"carpet\":[{\"aaxis\":{\"endlinecolor\":\"#2a3f5f\",\"gridcolor\":\"white\",\"linecolor\":\"white\",\"minorgridcolor\":\"white\",\"startlinecolor\":\"#2a3f5f\"},\"baxis\":{\"endlinecolor\":\"#2a3f5f\",\"gridcolor\":\"white\",\"linecolor\":\"white\",\"minorgridcolor\":\"white\",\"startlinecolor\":\"#2a3f5f\"},\"type\":\"carpet\"}],\"choropleth\":[{\"colorbar\":{\"outlinewidth\":0,\"ticks\":\"\"},\"type\":\"choropleth\"}],\"contour\":[{\"colorbar\":{\"outlinewidth\":0,\"ticks\":\"\"},\"colorscale\":[[0.0,\"#0d0887\"],[0.1111111111111111,\"#46039f\"],[0.2222222222222222,\"#7201a8\"],[0.3333333333333333,\"#9c179e\"],[0.4444444444444444,\"#bd3786\"],[0.5555555555555556,\"#d8576b\"],[0.6666666666666666,\"#ed7953\"],[0.7777777777777778,\"#fb9f3a\"],[0.8888888888888888,\"#fdca26\"],[1.0,\"#f0f921\"]],\"type\":\"contour\"}],\"contourcarpet\":[{\"colorbar\":{\"outlinewidth\":0,\"ticks\":\"\"},\"type\":\"contourcarpet\"}],\"heatmap\":[{\"colorbar\":{\"outlinewidth\":0,\"ticks\":\"\"},\"colorscale\":[[0.0,\"#0d0887\"],[0.1111111111111111,\"#46039f\"],[0.2222222222222222,\"#7201a8\"],[0.3333333333333333,\"#9c179e\"],[0.4444444444444444,\"#bd3786\"],[0.5555555555555556,\"#d8576b\"],[0.6666666666666666,\"#ed7953\"],[0.7777777777777778,\"#fb9f3a\"],[0.8888888888888888,\"#fdca26\"],[1.0,\"#f0f921\"]],\"type\":\"heatmap\"}],\"heatmapgl\":[{\"colorbar\":{\"outlinewidth\":0,\"ticks\":\"\"},\"colorscale\":[[0.0,\"#0d0887\"],[0.1111111111111111,\"#46039f\"],[0.2222222222222222,\"#7201a8\"],[0.3333333333333333,\"#9c179e\"],[0.4444444444444444,\"#bd3786\"],[0.5555555555555556,\"#d8576b\"],[0.6666666666666666,\"#ed7953\"],[0.7777777777777778,\"#fb9f3a\"],[0.8888888888888888,\"#fdca26\"],[1.0,\"#f0f921\"]],\"type\":\"heatmapgl\"}],\"histogram\":[{\"marker\":{\"pattern\":{\"fillmode\":\"overlay\",\"size\":10,\"solidity\":0.2}},\"type\":\"histogram\"}],\"histogram2d\":[{\"colorbar\":{\"outlinewidth\":0,\"ticks\":\"\"},\"colorscale\":[[0.0,\"#0d0887\"],[0.1111111111111111,\"#46039f\"],[0.2222222222222222,\"#7201a8\"],[0.3333333333333333,\"#9c179e\"],[0.4444444444444444,\"#bd3786\"],[0.5555555555555556,\"#d8576b\"],[0.6666666666666666,\"#ed7953\"],[0.7777777777777778,\"#fb9f3a\"],[0.8888888888888888,\"#fdca26\"],[1.0,\"#f0f921\"]],\"type\":\"histogram2d\"}],\"histogram2dcontour\":[{\"colorbar\":{\"outlinewidth\":0,\"ticks\":\"\"},\"colorscale\":[[0.0,\"#0d0887\"],[0.1111111111111111,\"#46039f\"],[0.2222222222222222,\"#7201a8\"],[0.3333333333333333,\"#9c179e\"],[0.4444444444444444,\"#bd3786\"],[0.5555555555555556,\"#d8576b\"],[0.6666666666666666,\"#ed7953\"],[0.7777777777777778,\"#fb9f3a\"],[0.8888888888888888,\"#fdca26\"],[1.0,\"#f0f921\"]],\"type\":\"histogram2dcontour\"}],\"mesh3d\":[{\"colorbar\":{\"outlinewidth\":0,\"ticks\":\"\"},\"type\":\"mesh3d\"}],\"parcoords\":[{\"line\":{\"colorbar\":{\"outlinewidth\":0,\"ticks\":\"\"}},\"type\":\"parcoords\"}],\"pie\":[{\"automargin\":true,\"type\":\"pie\"}],\"scatter\":[{\"marker\":{\"colorbar\":{\"outlinewidth\":0,\"ticks\":\"\"}},\"type\":\"scatter\"}],\"scatter3d\":[{\"line\":{\"colorbar\":{\"outlinewidth\":0,\"ticks\":\"\"}},\"marker\":{\"colorbar\":{\"outlinewidth\":0,\"ticks\":\"\"}},\"type\":\"scatter3d\"}],\"scattercarpet\":[{\"marker\":{\"colorbar\":{\"outlinewidth\":0,\"ticks\":\"\"}},\"type\":\"scattercarpet\"}],\"scattergeo\":[{\"marker\":{\"colorbar\":{\"outlinewidth\":0,\"ticks\":\"\"}},\"type\":\"scattergeo\"}],\"scattergl\":[{\"marker\":{\"colorbar\":{\"outlinewidth\":0,\"ticks\":\"\"}},\"type\":\"scattergl\"}],\"scattermapbox\":[{\"marker\":{\"colorbar\":{\"outlinewidth\":0,\"ticks\":\"\"}},\"type\":\"scattermapbox\"}],\"scatterpolar\":[{\"marker\":{\"colorbar\":{\"outlinewidth\":0,\"ticks\":\"\"}},\"type\":\"scatterpolar\"}],\"scatterpolargl\":[{\"marker\":{\"colorbar\":{\"outlinewidth\":0,\"ticks\":\"\"}},\"type\":\"scatterpolargl\"}],\"scatterternary\":[{\"marker\":{\"colorbar\":{\"outlinewidth\":0,\"ticks\":\"\"}},\"type\":\"scatterternary\"}],\"surface\":[{\"colorbar\":{\"outlinewidth\":0,\"ticks\":\"\"},\"colorscale\":[[0.0,\"#0d0887\"],[0.1111111111111111,\"#46039f\"],[0.2222222222222222,\"#7201a8\"],[0.3333333333333333,\"#9c179e\"],[0.4444444444444444,\"#bd3786\"],[0.5555555555555556,\"#d8576b\"],[0.6666666666666666,\"#ed7953\"],[0.7777777777777778,\"#fb9f3a\"],[0.8888888888888888,\"#fdca26\"],[1.0,\"#f0f921\"]],\"type\":\"surface\"}],\"table\":[{\"cells\":{\"fill\":{\"color\":\"#EBF0F8\"},\"line\":{\"color\":\"white\"}},\"header\":{\"fill\":{\"color\":\"#C8D4E3\"},\"line\":{\"color\":\"white\"}},\"type\":\"table\"}]},\"layout\":{\"annotationdefaults\":{\"arrowcolor\":\"#2a3f5f\",\"arrowhead\":0,\"arrowwidth\":1},\"autotypenumbers\":\"strict\",\"coloraxis\":{\"colorbar\":{\"outlinewidth\":0,\"ticks\":\"\"}},\"colorscale\":{\"diverging\":[[0,\"#8e0152\"],[0.1,\"#c51b7d\"],[0.2,\"#de77ae\"],[0.3,\"#f1b6da\"],[0.4,\"#fde0ef\"],[0.5,\"#f7f7f7\"],[0.6,\"#e6f5d0\"],[0.7,\"#b8e186\"],[0.8,\"#7fbc41\"],[0.9,\"#4d9221\"],[1,\"#276419\"]],\"sequential\":[[0.0,\"#0d0887\"],[0.1111111111111111,\"#46039f\"],[0.2222222222222222,\"#7201a8\"],[0.3333333333333333,\"#9c179e\"],[0.4444444444444444,\"#bd3786\"],[0.5555555555555556,\"#d8576b\"],[0.6666666666666666,\"#ed7953\"],[0.7777777777777778,\"#fb9f3a\"],[0.8888888888888888,\"#fdca26\"],[1.0,\"#f0f921\"]],\"sequentialminus\":[[0.0,\"#0d0887\"],[0.1111111111111111,\"#46039f\"],[0.2222222222222222,\"#7201a8\"],[0.3333333333333333,\"#9c179e\"],[0.4444444444444444,\"#bd3786\"],[0.5555555555555556,\"#d8576b\"],[0.6666666666666666,\"#ed7953\"],[0.7777777777777778,\"#fb9f3a\"],[0.8888888888888888,\"#fdca26\"],[1.0,\"#f0f921\"]]},\"colorway\":[\"#636efa\",\"#EF553B\",\"#00cc96\",\"#ab63fa\",\"#FFA15A\",\"#19d3f3\",\"#FF6692\",\"#B6E880\",\"#FF97FF\",\"#FECB52\"],\"font\":{\"color\":\"#2a3f5f\"},\"geo\":{\"bgcolor\":\"white\",\"lakecolor\":\"white\",\"landcolor\":\"#E5ECF6\",\"showlakes\":true,\"showland\":true,\"subunitcolor\":\"white\"},\"hoverlabel\":{\"align\":\"left\"},\"hovermode\":\"closest\",\"mapbox\":{\"style\":\"light\"},\"paper_bgcolor\":\"white\",\"plot_bgcolor\":\"#E5ECF6\",\"polar\":{\"angularaxis\":{\"gridcolor\":\"white\",\"linecolor\":\"white\",\"ticks\":\"\"},\"bgcolor\":\"#E5ECF6\",\"radialaxis\":{\"gridcolor\":\"white\",\"linecolor\":\"white\",\"ticks\":\"\"}},\"scene\":{\"xaxis\":{\"backgroundcolor\":\"#E5ECF6\",\"gridcolor\":\"white\",\"gridwidth\":2,\"linecolor\":\"white\",\"showbackground\":true,\"ticks\":\"\",\"zerolinecolor\":\"white\"},\"yaxis\":{\"backgroundcolor\":\"#E5ECF6\",\"gridcolor\":\"white\",\"gridwidth\":2,\"linecolor\":\"white\",\"showbackground\":true,\"ticks\":\"\",\"zerolinecolor\":\"white\"},\"zaxis\":{\"backgroundcolor\":\"#E5ECF6\",\"gridcolor\":\"white\",\"gridwidth\":2,\"linecolor\":\"white\",\"showbackground\":true,\"ticks\":\"\",\"zerolinecolor\":\"white\"}},\"shapedefaults\":{\"line\":{\"color\":\"#2a3f5f\"}},\"ternary\":{\"aaxis\":{\"gridcolor\":\"white\",\"linecolor\":\"white\",\"ticks\":\"\"},\"baxis\":{\"gridcolor\":\"white\",\"linecolor\":\"white\",\"ticks\":\"\"},\"bgcolor\":\"#E5ECF6\",\"caxis\":{\"gridcolor\":\"white\",\"linecolor\":\"white\",\"ticks\":\"\"}},\"title\":{\"x\":0.05},\"xaxis\":{\"automargin\":true,\"gridcolor\":\"white\",\"linecolor\":\"white\",\"ticks\":\"\",\"title\":{\"standoff\":15},\"zerolinecolor\":\"white\",\"zerolinewidth\":2},\"yaxis\":{\"automargin\":true,\"gridcolor\":\"white\",\"linecolor\":\"white\",\"ticks\":\"\",\"title\":{\"standoff\":15},\"zerolinecolor\":\"white\",\"zerolinewidth\":2}}},\"title\":{\"text\":\"Trends of top 10 moderately downloaded datasets (cumulative) - raw downloads\"},\"xaxis\":{\"title\":{\"text\":\"date\"}},\"yaxis\":{\"title\":{\"text\":\"number of downloads\"}}},                        {\"responsive\": true}                    ).then(function(){\n",
       "                            \n",
       "var gd = document.getElementById('31b21451-5c42-4a03-b7cf-eaa9dde6c599');\n",
       "var x = new MutationObserver(function (mutations, observer) {{\n",
       "        var display = window.getComputedStyle(gd).display;\n",
       "        if (!display || display === 'none') {{\n",
       "            console.log([gd, 'removed!']);\n",
       "            Plotly.purge(gd);\n",
       "            observer.disconnect();\n",
       "        }}\n",
       "}});\n",
       "\n",
       "// Listen for the removal of the full notebook cells\n",
       "var notebookContainer = gd.closest('#notebook-container');\n",
       "if (notebookContainer) {{\n",
       "    x.observe(notebookContainer, {childList: true});\n",
       "}}\n",
       "\n",
       "// Listen for the clearing of the current output cell\n",
       "var outputEl = gd.closest('.output');\n",
       "if (outputEl) {{\n",
       "    x.observe(outputEl, {childList: true});\n",
       "}}\n",
       "\n",
       "                        })                };                });            </script>        </div>"
      ]
     },
     "metadata": {},
     "output_type": "display_data"
    }
   ],
   "source": [
    "top10_raw = top_ds_raw[top_ds_raw['raw downloads'] <25][0:10]\n",
    "active_raw_ids = top10_raw['dataset_id'].tolist()\n",
    "active_raw_names = top10_raw['dataset_name'].tolist()\n",
    "\n",
    "dataset_download_trends(active_raw_ids, active_raw_names, 'Trends of top 10 moderately downloaded datasets (cumulative) - raw downloads')\n"
   ]
  },
  {
   "cell_type": "markdown",
   "id": "89a45767",
   "metadata": {
    "extensions": {
     "jupyter_dashboards": {
      "version": 1,
      "views": {
       "grid_default": {},
       "report_default": {
        "hidden": false
       }
      }
     }
    }
   },
   "source": [
    "##### Lightly downloaded"
   ]
  },
  {
   "cell_type": "code",
   "execution_count": 202,
   "id": "e7d73ed8",
   "metadata": {
    "extensions": {
     "jupyter_dashboards": {
      "version": 1,
      "views": {
       "grid_default": {},
       "report_default": {
        "hidden": false
       }
      }
     }
    }
   },
   "outputs": [
    {
     "data": {
      "application/vnd.plotly.v1+json": {
       "config": {
        "plotlyServerURL": "https://plot.ly"
       },
       "data": [
        {
         "hovertemplate": "<i>Date</i>: %{x}<br>Downloads</i>: %{y}<br><br>%{text}</i>",
         "mode": "lines+markers",
         "text": [
          "COVID-19 Immune Altas: Integration of 5 public COVID-19 PBMC single-cell datasets",
          "COVID-19 Immune Altas: Integration of 5 public COVID-19 PBMC single-cell datasets",
          "COVID-19 Immune Altas: Integration of 5 public COVID-19 PBMC single-cell datasets",
          "COVID-19 Immune Altas: Integration of 5 public COVID-19 PBMC single-cell datasets",
          "COVID-19 Immune Altas: Integration of 5 public COVID-19 PBMC single-cell datasets",
          "COVID-19 Immune Altas: Integration of 5 public COVID-19 PBMC single-cell datasets",
          "COVID-19 Immune Altas: Integration of 5 public COVID-19 PBMC single-cell datasets",
          "COVID-19 Immune Altas: Integration of 5 public COVID-19 PBMC single-cell datasets"
         ],
         "type": "scatter",
         "x": [
          "2021-06-15",
          "2021-07-02",
          "2021-07-09",
          "2021-07-14",
          "2021-07-17",
          "2021-07-23",
          "2021-07-30",
          "2021-08-04"
         ],
         "y": [
          1,
          2,
          4,
          5,
          6,
          7,
          8,
          9
         ]
        },
        {
         "hovertemplate": "<i>Date</i>: %{x}<br>Downloads</i>: %{y}<br><br>%{text}</i>",
         "mode": "lines+markers",
         "text": [
          "An integrated transcriptomic and epigenomic atlas of mouse primary motor cortex cell types",
          "An integrated transcriptomic and epigenomic atlas of mouse primary motor cortex cell types",
          "An integrated transcriptomic and epigenomic atlas of mouse primary motor cortex cell types",
          "An integrated transcriptomic and epigenomic atlas of mouse primary motor cortex cell types",
          "An integrated transcriptomic and epigenomic atlas of mouse primary motor cortex cell types",
          "An integrated transcriptomic and epigenomic atlas of mouse primary motor cortex cell types"
         ],
         "type": "scatter",
         "x": [
          "2021-05-21",
          "2021-05-24",
          "2021-06-05",
          "2021-06-09",
          "2021-06-15",
          "2021-07-17"
         ],
         "y": [
          2,
          3,
          5,
          7,
          8,
          9
         ]
        },
        {
         "hovertemplate": "<i>Date</i>: %{x}<br>Downloads</i>: %{y}<br><br>%{text}</i>",
         "mode": "lines+markers",
         "text": [
          "Limb muscle — A single-cell transcriptomic atlas characterizes ageing tissues in the mouse",
          "Limb muscle — A single-cell transcriptomic atlas characterizes ageing tissues in the mouse",
          "Limb muscle — A single-cell transcriptomic atlas characterizes ageing tissues in the mouse",
          "Limb muscle — A single-cell transcriptomic atlas characterizes ageing tissues in the mouse",
          "Limb muscle — A single-cell transcriptomic atlas characterizes ageing tissues in the mouse",
          "Limb muscle — A single-cell transcriptomic atlas characterizes ageing tissues in the mouse",
          "Limb muscle — A single-cell transcriptomic atlas characterizes ageing tissues in the mouse",
          "Limb muscle — A single-cell transcriptomic atlas characterizes ageing tissues in the mouse"
         ],
         "type": "scatter",
         "x": [
          "2021-05-10",
          "2021-05-19",
          "2021-05-21",
          "2021-05-23",
          "2021-06-05",
          "2021-06-10",
          "2021-06-15",
          "2021-07-17"
         ],
         "y": [
          1,
          3,
          4,
          5,
          6,
          7,
          8,
          9
         ]
        },
        {
         "hovertemplate": "<i>Date</i>: %{x}<br>Downloads</i>: %{y}<br><br>%{text}</i>",
         "mode": "lines+markers",
         "text": [
          "Adult mouse cortical cell taxonomy revealed by single cell transcriptomics",
          "Adult mouse cortical cell taxonomy revealed by single cell transcriptomics",
          "Adult mouse cortical cell taxonomy revealed by single cell transcriptomics",
          "Adult mouse cortical cell taxonomy revealed by single cell transcriptomics",
          "Adult mouse cortical cell taxonomy revealed by single cell transcriptomics",
          "Adult mouse cortical cell taxonomy revealed by single cell transcriptomics",
          "Adult mouse cortical cell taxonomy revealed by single cell transcriptomics",
          "Adult mouse cortical cell taxonomy revealed by single cell transcriptomics",
          "Adult mouse cortical cell taxonomy revealed by single cell transcriptomics"
         ],
         "type": "scatter",
         "x": [
          "2021-04-27",
          "2021-05-24",
          "2021-05-28",
          "2021-06-03",
          "2021-06-05",
          "2021-06-09",
          "2021-06-15",
          "2021-07-06",
          "2021-07-17"
         ],
         "y": [
          1,
          2,
          3,
          4,
          5,
          6,
          7,
          8,
          9
         ]
        },
        {
         "hovertemplate": "<i>Date</i>: %{x}<br>Downloads</i>: %{y}<br><br>%{text}</i>",
         "mode": "lines+markers",
         "text": [
          "Olah et al (2020) Single-cell Human Microglia",
          "Olah et al (2020) Single-cell Human Microglia",
          "Olah et al (2020) Single-cell Human Microglia",
          "Olah et al (2020) Single-cell Human Microglia",
          "Olah et al (2020) Single-cell Human Microglia",
          "Olah et al (2020) Single-cell Human Microglia",
          "Olah et al (2020) Single-cell Human Microglia",
          "Olah et al (2020) Single-cell Human Microglia",
          "Olah et al (2020) Single-cell Human Microglia"
         ],
         "type": "scatter",
         "x": [
          "2021-07-22",
          "2021-07-23",
          "2021-07-29",
          "2021-07-31",
          "2021-08-03",
          "2021-08-05",
          "2021-08-10",
          "2021-08-11",
          "2021-08-13"
         ],
         "y": [
          1,
          2,
          3,
          4,
          5,
          6,
          7,
          8,
          9
         ]
        },
        {
         "hovertemplate": "<i>Date</i>: %{x}<br>Downloads</i>: %{y}<br><br>%{text}</i>",
         "mode": "lines+markers",
         "text": [
          "Heart — A single-cell transcriptomic atlas characterizes ageing tissues in the mouse",
          "Heart — A single-cell transcriptomic atlas characterizes ageing tissues in the mouse",
          "Heart — A single-cell transcriptomic atlas characterizes ageing tissues in the mouse",
          "Heart — A single-cell transcriptomic atlas characterizes ageing tissues in the mouse",
          "Heart — A single-cell transcriptomic atlas characterizes ageing tissues in the mouse",
          "Heart — A single-cell transcriptomic atlas characterizes ageing tissues in the mouse",
          "Heart — A single-cell transcriptomic atlas characterizes ageing tissues in the mouse",
          "Heart — A single-cell transcriptomic atlas characterizes ageing tissues in the mouse",
          "Heart — A single-cell transcriptomic atlas characterizes ageing tissues in the mouse"
         ],
         "type": "scatter",
         "x": [
          "2021-05-10",
          "2021-05-19",
          "2021-05-21",
          "2021-06-05",
          "2021-06-10",
          "2021-06-15",
          "2021-06-28",
          "2021-07-17",
          "2021-08-06"
         ],
         "y": [
          1,
          2,
          3,
          4,
          5,
          6,
          7,
          8,
          9
         ]
        },
        {
         "hovertemplate": "<i>Date</i>: %{x}<br>Downloads</i>: %{y}<br><br>%{text}</i>",
         "mode": "lines+markers",
         "text": [
          "Platelet sub_clusters of COVID-19 Immune Altas: Integration of 5 public COVID-19 PBMC single-cell datasets",
          "Platelet sub_clusters of COVID-19 Immune Altas: Integration of 5 public COVID-19 PBMC single-cell datasets",
          "Platelet sub_clusters of COVID-19 Immune Altas: Integration of 5 public COVID-19 PBMC single-cell datasets",
          "Platelet sub_clusters of COVID-19 Immune Altas: Integration of 5 public COVID-19 PBMC single-cell datasets",
          "Platelet sub_clusters of COVID-19 Immune Altas: Integration of 5 public COVID-19 PBMC single-cell datasets",
          "Platelet sub_clusters of COVID-19 Immune Altas: Integration of 5 public COVID-19 PBMC single-cell datasets",
          "Platelet sub_clusters of COVID-19 Immune Altas: Integration of 5 public COVID-19 PBMC single-cell datasets",
          "Platelet sub_clusters of COVID-19 Immune Altas: Integration of 5 public COVID-19 PBMC single-cell datasets"
         ],
         "type": "scatter",
         "x": [
          "2021-06-15",
          "2021-07-02",
          "2021-07-03",
          "2021-07-09",
          "2021-07-14",
          "2021-07-17",
          "2021-07-23",
          "2021-07-30"
         ],
         "y": [
          1,
          2,
          3,
          5,
          6,
          7,
          8,
          9
         ]
        },
        {
         "hovertemplate": "<i>Date</i>: %{x}<br>Downloads</i>: %{y}<br><br>%{text}</i>",
         "mode": "lines+markers",
         "text": [
          "An integrated transcriptomic and epigenomic atlas of mouse primary motor cortex cell types: SMARTer_nuclei_MOp",
          "An integrated transcriptomic and epigenomic atlas of mouse primary motor cortex cell types: SMARTer_nuclei_MOp",
          "An integrated transcriptomic and epigenomic atlas of mouse primary motor cortex cell types: SMARTer_nuclei_MOp",
          "An integrated transcriptomic and epigenomic atlas of mouse primary motor cortex cell types: SMARTer_nuclei_MOp",
          "An integrated transcriptomic and epigenomic atlas of mouse primary motor cortex cell types: SMARTer_nuclei_MOp",
          "An integrated transcriptomic and epigenomic atlas of mouse primary motor cortex cell types: SMARTer_nuclei_MOp",
          "An integrated transcriptomic and epigenomic atlas of mouse primary motor cortex cell types: SMARTer_nuclei_MOp"
         ],
         "type": "scatter",
         "x": [
          "2021-05-21",
          "2021-06-03",
          "2021-06-05",
          "2021-06-09",
          "2021-06-15",
          "2021-07-17",
          "2021-07-27"
         ],
         "y": [
          2,
          3,
          5,
          6,
          7,
          8,
          9
         ]
        },
        {
         "hovertemplate": "<i>Date</i>: %{x}<br>Downloads</i>: %{y}<br><br>%{text}</i>",
         "mode": "lines+markers",
         "text": [
          "Heart — A single-cell transcriptomic atlas characterizes ageing tissues in the mouse",
          "Heart — A single-cell transcriptomic atlas characterizes ageing tissues in the mouse",
          "Heart — A single-cell transcriptomic atlas characterizes ageing tissues in the mouse",
          "Heart — A single-cell transcriptomic atlas characterizes ageing tissues in the mouse",
          "Heart — A single-cell transcriptomic atlas characterizes ageing tissues in the mouse",
          "Heart — A single-cell transcriptomic atlas characterizes ageing tissues in the mouse",
          "Heart — A single-cell transcriptomic atlas characterizes ageing tissues in the mouse",
          "Heart — A single-cell transcriptomic atlas characterizes ageing tissues in the mouse"
         ],
         "type": "scatter",
         "x": [
          "2021-05-10",
          "2021-05-19",
          "2021-05-21",
          "2021-06-05",
          "2021-06-10",
          "2021-06-15",
          "2021-07-17",
          "2021-08-03"
         ],
         "y": [
          1,
          2,
          3,
          4,
          5,
          6,
          7,
          8
         ]
        },
        {
         "hovertemplate": "<i>Date</i>: %{x}<br>Downloads</i>: %{y}<br><br>%{text}</i>",
         "mode": "lines+markers",
         "text": [
          "B Cell/Plasmablast Sub_clusters of COVID-19 Immune Altas: Integration of 5 public COVID-19 PBMC single-cell datasets",
          "B Cell/Plasmablast Sub_clusters of COVID-19 Immune Altas: Integration of 5 public COVID-19 PBMC single-cell datasets",
          "B Cell/Plasmablast Sub_clusters of COVID-19 Immune Altas: Integration of 5 public COVID-19 PBMC single-cell datasets",
          "B Cell/Plasmablast Sub_clusters of COVID-19 Immune Altas: Integration of 5 public COVID-19 PBMC single-cell datasets",
          "B Cell/Plasmablast Sub_clusters of COVID-19 Immune Altas: Integration of 5 public COVID-19 PBMC single-cell datasets",
          "B Cell/Plasmablast Sub_clusters of COVID-19 Immune Altas: Integration of 5 public COVID-19 PBMC single-cell datasets",
          "B Cell/Plasmablast Sub_clusters of COVID-19 Immune Altas: Integration of 5 public COVID-19 PBMC single-cell datasets"
         ],
         "type": "scatter",
         "x": [
          "2021-06-15",
          "2021-07-02",
          "2021-07-09",
          "2021-07-14",
          "2021-07-17",
          "2021-07-23",
          "2021-07-30"
         ],
         "y": [
          1,
          2,
          4,
          5,
          6,
          7,
          8
         ]
        }
       ],
       "layout": {
        "showlegend": false,
        "template": {
         "data": {
          "bar": [
           {
            "error_x": {
             "color": "#2a3f5f"
            },
            "error_y": {
             "color": "#2a3f5f"
            },
            "marker": {
             "line": {
              "color": "#E5ECF6",
              "width": 0.5
             },
             "pattern": {
              "fillmode": "overlay",
              "size": 10,
              "solidity": 0.2
             }
            },
            "type": "bar"
           }
          ],
          "barpolar": [
           {
            "marker": {
             "line": {
              "color": "#E5ECF6",
              "width": 0.5
             },
             "pattern": {
              "fillmode": "overlay",
              "size": 10,
              "solidity": 0.2
             }
            },
            "type": "barpolar"
           }
          ],
          "carpet": [
           {
            "aaxis": {
             "endlinecolor": "#2a3f5f",
             "gridcolor": "white",
             "linecolor": "white",
             "minorgridcolor": "white",
             "startlinecolor": "#2a3f5f"
            },
            "baxis": {
             "endlinecolor": "#2a3f5f",
             "gridcolor": "white",
             "linecolor": "white",
             "minorgridcolor": "white",
             "startlinecolor": "#2a3f5f"
            },
            "type": "carpet"
           }
          ],
          "choropleth": [
           {
            "colorbar": {
             "outlinewidth": 0,
             "ticks": ""
            },
            "type": "choropleth"
           }
          ],
          "contour": [
           {
            "colorbar": {
             "outlinewidth": 0,
             "ticks": ""
            },
            "colorscale": [
             [
              0,
              "#0d0887"
             ],
             [
              0.1111111111111111,
              "#46039f"
             ],
             [
              0.2222222222222222,
              "#7201a8"
             ],
             [
              0.3333333333333333,
              "#9c179e"
             ],
             [
              0.4444444444444444,
              "#bd3786"
             ],
             [
              0.5555555555555556,
              "#d8576b"
             ],
             [
              0.6666666666666666,
              "#ed7953"
             ],
             [
              0.7777777777777778,
              "#fb9f3a"
             ],
             [
              0.8888888888888888,
              "#fdca26"
             ],
             [
              1,
              "#f0f921"
             ]
            ],
            "type": "contour"
           }
          ],
          "contourcarpet": [
           {
            "colorbar": {
             "outlinewidth": 0,
             "ticks": ""
            },
            "type": "contourcarpet"
           }
          ],
          "heatmap": [
           {
            "colorbar": {
             "outlinewidth": 0,
             "ticks": ""
            },
            "colorscale": [
             [
              0,
              "#0d0887"
             ],
             [
              0.1111111111111111,
              "#46039f"
             ],
             [
              0.2222222222222222,
              "#7201a8"
             ],
             [
              0.3333333333333333,
              "#9c179e"
             ],
             [
              0.4444444444444444,
              "#bd3786"
             ],
             [
              0.5555555555555556,
              "#d8576b"
             ],
             [
              0.6666666666666666,
              "#ed7953"
             ],
             [
              0.7777777777777778,
              "#fb9f3a"
             ],
             [
              0.8888888888888888,
              "#fdca26"
             ],
             [
              1,
              "#f0f921"
             ]
            ],
            "type": "heatmap"
           }
          ],
          "heatmapgl": [
           {
            "colorbar": {
             "outlinewidth": 0,
             "ticks": ""
            },
            "colorscale": [
             [
              0,
              "#0d0887"
             ],
             [
              0.1111111111111111,
              "#46039f"
             ],
             [
              0.2222222222222222,
              "#7201a8"
             ],
             [
              0.3333333333333333,
              "#9c179e"
             ],
             [
              0.4444444444444444,
              "#bd3786"
             ],
             [
              0.5555555555555556,
              "#d8576b"
             ],
             [
              0.6666666666666666,
              "#ed7953"
             ],
             [
              0.7777777777777778,
              "#fb9f3a"
             ],
             [
              0.8888888888888888,
              "#fdca26"
             ],
             [
              1,
              "#f0f921"
             ]
            ],
            "type": "heatmapgl"
           }
          ],
          "histogram": [
           {
            "marker": {
             "pattern": {
              "fillmode": "overlay",
              "size": 10,
              "solidity": 0.2
             }
            },
            "type": "histogram"
           }
          ],
          "histogram2d": [
           {
            "colorbar": {
             "outlinewidth": 0,
             "ticks": ""
            },
            "colorscale": [
             [
              0,
              "#0d0887"
             ],
             [
              0.1111111111111111,
              "#46039f"
             ],
             [
              0.2222222222222222,
              "#7201a8"
             ],
             [
              0.3333333333333333,
              "#9c179e"
             ],
             [
              0.4444444444444444,
              "#bd3786"
             ],
             [
              0.5555555555555556,
              "#d8576b"
             ],
             [
              0.6666666666666666,
              "#ed7953"
             ],
             [
              0.7777777777777778,
              "#fb9f3a"
             ],
             [
              0.8888888888888888,
              "#fdca26"
             ],
             [
              1,
              "#f0f921"
             ]
            ],
            "type": "histogram2d"
           }
          ],
          "histogram2dcontour": [
           {
            "colorbar": {
             "outlinewidth": 0,
             "ticks": ""
            },
            "colorscale": [
             [
              0,
              "#0d0887"
             ],
             [
              0.1111111111111111,
              "#46039f"
             ],
             [
              0.2222222222222222,
              "#7201a8"
             ],
             [
              0.3333333333333333,
              "#9c179e"
             ],
             [
              0.4444444444444444,
              "#bd3786"
             ],
             [
              0.5555555555555556,
              "#d8576b"
             ],
             [
              0.6666666666666666,
              "#ed7953"
             ],
             [
              0.7777777777777778,
              "#fb9f3a"
             ],
             [
              0.8888888888888888,
              "#fdca26"
             ],
             [
              1,
              "#f0f921"
             ]
            ],
            "type": "histogram2dcontour"
           }
          ],
          "mesh3d": [
           {
            "colorbar": {
             "outlinewidth": 0,
             "ticks": ""
            },
            "type": "mesh3d"
           }
          ],
          "parcoords": [
           {
            "line": {
             "colorbar": {
              "outlinewidth": 0,
              "ticks": ""
             }
            },
            "type": "parcoords"
           }
          ],
          "pie": [
           {
            "automargin": true,
            "type": "pie"
           }
          ],
          "scatter": [
           {
            "marker": {
             "colorbar": {
              "outlinewidth": 0,
              "ticks": ""
             }
            },
            "type": "scatter"
           }
          ],
          "scatter3d": [
           {
            "line": {
             "colorbar": {
              "outlinewidth": 0,
              "ticks": ""
             }
            },
            "marker": {
             "colorbar": {
              "outlinewidth": 0,
              "ticks": ""
             }
            },
            "type": "scatter3d"
           }
          ],
          "scattercarpet": [
           {
            "marker": {
             "colorbar": {
              "outlinewidth": 0,
              "ticks": ""
             }
            },
            "type": "scattercarpet"
           }
          ],
          "scattergeo": [
           {
            "marker": {
             "colorbar": {
              "outlinewidth": 0,
              "ticks": ""
             }
            },
            "type": "scattergeo"
           }
          ],
          "scattergl": [
           {
            "marker": {
             "colorbar": {
              "outlinewidth": 0,
              "ticks": ""
             }
            },
            "type": "scattergl"
           }
          ],
          "scattermapbox": [
           {
            "marker": {
             "colorbar": {
              "outlinewidth": 0,
              "ticks": ""
             }
            },
            "type": "scattermapbox"
           }
          ],
          "scatterpolar": [
           {
            "marker": {
             "colorbar": {
              "outlinewidth": 0,
              "ticks": ""
             }
            },
            "type": "scatterpolar"
           }
          ],
          "scatterpolargl": [
           {
            "marker": {
             "colorbar": {
              "outlinewidth": 0,
              "ticks": ""
             }
            },
            "type": "scatterpolargl"
           }
          ],
          "scatterternary": [
           {
            "marker": {
             "colorbar": {
              "outlinewidth": 0,
              "ticks": ""
             }
            },
            "type": "scatterternary"
           }
          ],
          "surface": [
           {
            "colorbar": {
             "outlinewidth": 0,
             "ticks": ""
            },
            "colorscale": [
             [
              0,
              "#0d0887"
             ],
             [
              0.1111111111111111,
              "#46039f"
             ],
             [
              0.2222222222222222,
              "#7201a8"
             ],
             [
              0.3333333333333333,
              "#9c179e"
             ],
             [
              0.4444444444444444,
              "#bd3786"
             ],
             [
              0.5555555555555556,
              "#d8576b"
             ],
             [
              0.6666666666666666,
              "#ed7953"
             ],
             [
              0.7777777777777778,
              "#fb9f3a"
             ],
             [
              0.8888888888888888,
              "#fdca26"
             ],
             [
              1,
              "#f0f921"
             ]
            ],
            "type": "surface"
           }
          ],
          "table": [
           {
            "cells": {
             "fill": {
              "color": "#EBF0F8"
             },
             "line": {
              "color": "white"
             }
            },
            "header": {
             "fill": {
              "color": "#C8D4E3"
             },
             "line": {
              "color": "white"
             }
            },
            "type": "table"
           }
          ]
         },
         "layout": {
          "annotationdefaults": {
           "arrowcolor": "#2a3f5f",
           "arrowhead": 0,
           "arrowwidth": 1
          },
          "autotypenumbers": "strict",
          "coloraxis": {
           "colorbar": {
            "outlinewidth": 0,
            "ticks": ""
           }
          },
          "colorscale": {
           "diverging": [
            [
             0,
             "#8e0152"
            ],
            [
             0.1,
             "#c51b7d"
            ],
            [
             0.2,
             "#de77ae"
            ],
            [
             0.3,
             "#f1b6da"
            ],
            [
             0.4,
             "#fde0ef"
            ],
            [
             0.5,
             "#f7f7f7"
            ],
            [
             0.6,
             "#e6f5d0"
            ],
            [
             0.7,
             "#b8e186"
            ],
            [
             0.8,
             "#7fbc41"
            ],
            [
             0.9,
             "#4d9221"
            ],
            [
             1,
             "#276419"
            ]
           ],
           "sequential": [
            [
             0,
             "#0d0887"
            ],
            [
             0.1111111111111111,
             "#46039f"
            ],
            [
             0.2222222222222222,
             "#7201a8"
            ],
            [
             0.3333333333333333,
             "#9c179e"
            ],
            [
             0.4444444444444444,
             "#bd3786"
            ],
            [
             0.5555555555555556,
             "#d8576b"
            ],
            [
             0.6666666666666666,
             "#ed7953"
            ],
            [
             0.7777777777777778,
             "#fb9f3a"
            ],
            [
             0.8888888888888888,
             "#fdca26"
            ],
            [
             1,
             "#f0f921"
            ]
           ],
           "sequentialminus": [
            [
             0,
             "#0d0887"
            ],
            [
             0.1111111111111111,
             "#46039f"
            ],
            [
             0.2222222222222222,
             "#7201a8"
            ],
            [
             0.3333333333333333,
             "#9c179e"
            ],
            [
             0.4444444444444444,
             "#bd3786"
            ],
            [
             0.5555555555555556,
             "#d8576b"
            ],
            [
             0.6666666666666666,
             "#ed7953"
            ],
            [
             0.7777777777777778,
             "#fb9f3a"
            ],
            [
             0.8888888888888888,
             "#fdca26"
            ],
            [
             1,
             "#f0f921"
            ]
           ]
          },
          "colorway": [
           "#636efa",
           "#EF553B",
           "#00cc96",
           "#ab63fa",
           "#FFA15A",
           "#19d3f3",
           "#FF6692",
           "#B6E880",
           "#FF97FF",
           "#FECB52"
          ],
          "font": {
           "color": "#2a3f5f"
          },
          "geo": {
           "bgcolor": "white",
           "lakecolor": "white",
           "landcolor": "#E5ECF6",
           "showlakes": true,
           "showland": true,
           "subunitcolor": "white"
          },
          "hoverlabel": {
           "align": "left"
          },
          "hovermode": "closest",
          "mapbox": {
           "style": "light"
          },
          "paper_bgcolor": "white",
          "plot_bgcolor": "#E5ECF6",
          "polar": {
           "angularaxis": {
            "gridcolor": "white",
            "linecolor": "white",
            "ticks": ""
           },
           "bgcolor": "#E5ECF6",
           "radialaxis": {
            "gridcolor": "white",
            "linecolor": "white",
            "ticks": ""
           }
          },
          "scene": {
           "xaxis": {
            "backgroundcolor": "#E5ECF6",
            "gridcolor": "white",
            "gridwidth": 2,
            "linecolor": "white",
            "showbackground": true,
            "ticks": "",
            "zerolinecolor": "white"
           },
           "yaxis": {
            "backgroundcolor": "#E5ECF6",
            "gridcolor": "white",
            "gridwidth": 2,
            "linecolor": "white",
            "showbackground": true,
            "ticks": "",
            "zerolinecolor": "white"
           },
           "zaxis": {
            "backgroundcolor": "#E5ECF6",
            "gridcolor": "white",
            "gridwidth": 2,
            "linecolor": "white",
            "showbackground": true,
            "ticks": "",
            "zerolinecolor": "white"
           }
          },
          "shapedefaults": {
           "line": {
            "color": "#2a3f5f"
           }
          },
          "ternary": {
           "aaxis": {
            "gridcolor": "white",
            "linecolor": "white",
            "ticks": ""
           },
           "baxis": {
            "gridcolor": "white",
            "linecolor": "white",
            "ticks": ""
           },
           "bgcolor": "#E5ECF6",
           "caxis": {
            "gridcolor": "white",
            "linecolor": "white",
            "ticks": ""
           }
          },
          "title": {
           "x": 0.05
          },
          "xaxis": {
           "automargin": true,
           "gridcolor": "white",
           "linecolor": "white",
           "ticks": "",
           "title": {
            "standoff": 15
           },
           "zerolinecolor": "white",
           "zerolinewidth": 2
          },
          "yaxis": {
           "automargin": true,
           "gridcolor": "white",
           "linecolor": "white",
           "ticks": "",
           "title": {
            "standoff": 15
           },
           "zerolinecolor": "white",
           "zerolinewidth": 2
          }
         }
        },
        "title": {
         "text": "Trends of top 10 lightly downloaded datasets (cumulative) - raw downloads"
        },
        "xaxis": {
         "title": {
          "text": "date"
         }
        },
        "yaxis": {
         "title": {
          "text": "number of downloads"
         }
        }
       }
      },
      "text/html": [
       "<div>                            <div id=\"d7024e60-8961-4f37-ab0e-4abdacf12b8d\" class=\"plotly-graph-div\" style=\"height:525px; width:100%;\"></div>            <script type=\"text/javascript\">                require([\"plotly\"], function(Plotly) {                    window.PLOTLYENV=window.PLOTLYENV || {};                                    if (document.getElementById(\"d7024e60-8961-4f37-ab0e-4abdacf12b8d\")) {                    Plotly.newPlot(                        \"d7024e60-8961-4f37-ab0e-4abdacf12b8d\",                        [{\"hovertemplate\":\"<i>Date</i>: %{x}<br>Downloads</i>: %{y}<br><br>%{text}</i>\",\"mode\":\"lines+markers\",\"text\":[\"COVID-19 Immune Altas: Integration of 5 public COVID-19 PBMC single-cell datasets\",\"COVID-19 Immune Altas: Integration of 5 public COVID-19 PBMC single-cell datasets\",\"COVID-19 Immune Altas: Integration of 5 public COVID-19 PBMC single-cell datasets\",\"COVID-19 Immune Altas: Integration of 5 public COVID-19 PBMC single-cell datasets\",\"COVID-19 Immune Altas: Integration of 5 public COVID-19 PBMC single-cell datasets\",\"COVID-19 Immune Altas: Integration of 5 public COVID-19 PBMC single-cell datasets\",\"COVID-19 Immune Altas: Integration of 5 public COVID-19 PBMC single-cell datasets\",\"COVID-19 Immune Altas: Integration of 5 public COVID-19 PBMC single-cell datasets\"],\"type\":\"scatter\",\"x\":[\"2021-06-15\",\"2021-07-02\",\"2021-07-09\",\"2021-07-14\",\"2021-07-17\",\"2021-07-23\",\"2021-07-30\",\"2021-08-04\"],\"y\":[1,2,4,5,6,7,8,9]},{\"hovertemplate\":\"<i>Date</i>: %{x}<br>Downloads</i>: %{y}<br><br>%{text}</i>\",\"mode\":\"lines+markers\",\"text\":[\"An integrated transcriptomic and epigenomic atlas of mouse primary motor cortex cell types\",\"An integrated transcriptomic and epigenomic atlas of mouse primary motor cortex cell types\",\"An integrated transcriptomic and epigenomic atlas of mouse primary motor cortex cell types\",\"An integrated transcriptomic and epigenomic atlas of mouse primary motor cortex cell types\",\"An integrated transcriptomic and epigenomic atlas of mouse primary motor cortex cell types\",\"An integrated transcriptomic and epigenomic atlas of mouse primary motor cortex cell types\"],\"type\":\"scatter\",\"x\":[\"2021-05-21\",\"2021-05-24\",\"2021-06-05\",\"2021-06-09\",\"2021-06-15\",\"2021-07-17\"],\"y\":[2,3,5,7,8,9]},{\"hovertemplate\":\"<i>Date</i>: %{x}<br>Downloads</i>: %{y}<br><br>%{text}</i>\",\"mode\":\"lines+markers\",\"text\":[\"Limb muscle \\u2014 A single-cell transcriptomic atlas characterizes ageing tissues in the mouse\",\"Limb muscle \\u2014 A single-cell transcriptomic atlas characterizes ageing tissues in the mouse\",\"Limb muscle \\u2014 A single-cell transcriptomic atlas characterizes ageing tissues in the mouse\",\"Limb muscle \\u2014 A single-cell transcriptomic atlas characterizes ageing tissues in the mouse\",\"Limb muscle \\u2014 A single-cell transcriptomic atlas characterizes ageing tissues in the mouse\",\"Limb muscle \\u2014 A single-cell transcriptomic atlas characterizes ageing tissues in the mouse\",\"Limb muscle \\u2014 A single-cell transcriptomic atlas characterizes ageing tissues in the mouse\",\"Limb muscle \\u2014 A single-cell transcriptomic atlas characterizes ageing tissues in the mouse\"],\"type\":\"scatter\",\"x\":[\"2021-05-10\",\"2021-05-19\",\"2021-05-21\",\"2021-05-23\",\"2021-06-05\",\"2021-06-10\",\"2021-06-15\",\"2021-07-17\"],\"y\":[1,3,4,5,6,7,8,9]},{\"hovertemplate\":\"<i>Date</i>: %{x}<br>Downloads</i>: %{y}<br><br>%{text}</i>\",\"mode\":\"lines+markers\",\"text\":[\"Adult mouse cortical cell taxonomy revealed by single cell transcriptomics\",\"Adult mouse cortical cell taxonomy revealed by single cell transcriptomics\",\"Adult mouse cortical cell taxonomy revealed by single cell transcriptomics\",\"Adult mouse cortical cell taxonomy revealed by single cell transcriptomics\",\"Adult mouse cortical cell taxonomy revealed by single cell transcriptomics\",\"Adult mouse cortical cell taxonomy revealed by single cell transcriptomics\",\"Adult mouse cortical cell taxonomy revealed by single cell transcriptomics\",\"Adult mouse cortical cell taxonomy revealed by single cell transcriptomics\",\"Adult mouse cortical cell taxonomy revealed by single cell transcriptomics\"],\"type\":\"scatter\",\"x\":[\"2021-04-27\",\"2021-05-24\",\"2021-05-28\",\"2021-06-03\",\"2021-06-05\",\"2021-06-09\",\"2021-06-15\",\"2021-07-06\",\"2021-07-17\"],\"y\":[1,2,3,4,5,6,7,8,9]},{\"hovertemplate\":\"<i>Date</i>: %{x}<br>Downloads</i>: %{y}<br><br>%{text}</i>\",\"mode\":\"lines+markers\",\"text\":[\"Olah et al (2020) Single-cell Human Microglia\",\"Olah et al (2020) Single-cell Human Microglia\",\"Olah et al (2020) Single-cell Human Microglia\",\"Olah et al (2020) Single-cell Human Microglia\",\"Olah et al (2020) Single-cell Human Microglia\",\"Olah et al (2020) Single-cell Human Microglia\",\"Olah et al (2020) Single-cell Human Microglia\",\"Olah et al (2020) Single-cell Human Microglia\",\"Olah et al (2020) Single-cell Human Microglia\"],\"type\":\"scatter\",\"x\":[\"2021-07-22\",\"2021-07-23\",\"2021-07-29\",\"2021-07-31\",\"2021-08-03\",\"2021-08-05\",\"2021-08-10\",\"2021-08-11\",\"2021-08-13\"],\"y\":[1,2,3,4,5,6,7,8,9]},{\"hovertemplate\":\"<i>Date</i>: %{x}<br>Downloads</i>: %{y}<br><br>%{text}</i>\",\"mode\":\"lines+markers\",\"text\":[\"Heart \\u2014 A single-cell transcriptomic atlas characterizes ageing tissues in the mouse\",\"Heart \\u2014 A single-cell transcriptomic atlas characterizes ageing tissues in the mouse\",\"Heart \\u2014 A single-cell transcriptomic atlas characterizes ageing tissues in the mouse\",\"Heart \\u2014 A single-cell transcriptomic atlas characterizes ageing tissues in the mouse\",\"Heart \\u2014 A single-cell transcriptomic atlas characterizes ageing tissues in the mouse\",\"Heart \\u2014 A single-cell transcriptomic atlas characterizes ageing tissues in the mouse\",\"Heart \\u2014 A single-cell transcriptomic atlas characterizes ageing tissues in the mouse\",\"Heart \\u2014 A single-cell transcriptomic atlas characterizes ageing tissues in the mouse\",\"Heart \\u2014 A single-cell transcriptomic atlas characterizes ageing tissues in the mouse\"],\"type\":\"scatter\",\"x\":[\"2021-05-10\",\"2021-05-19\",\"2021-05-21\",\"2021-06-05\",\"2021-06-10\",\"2021-06-15\",\"2021-06-28\",\"2021-07-17\",\"2021-08-06\"],\"y\":[1,2,3,4,5,6,7,8,9]},{\"hovertemplate\":\"<i>Date</i>: %{x}<br>Downloads</i>: %{y}<br><br>%{text}</i>\",\"mode\":\"lines+markers\",\"text\":[\"Platelet sub_clusters of COVID-19 Immune Altas: Integration of 5 public COVID-19 PBMC single-cell datasets\",\"Platelet sub_clusters of COVID-19 Immune Altas: Integration of 5 public COVID-19 PBMC single-cell datasets\",\"Platelet sub_clusters of COVID-19 Immune Altas: Integration of 5 public COVID-19 PBMC single-cell datasets\",\"Platelet sub_clusters of COVID-19 Immune Altas: Integration of 5 public COVID-19 PBMC single-cell datasets\",\"Platelet sub_clusters of COVID-19 Immune Altas: Integration of 5 public COVID-19 PBMC single-cell datasets\",\"Platelet sub_clusters of COVID-19 Immune Altas: Integration of 5 public COVID-19 PBMC single-cell datasets\",\"Platelet sub_clusters of COVID-19 Immune Altas: Integration of 5 public COVID-19 PBMC single-cell datasets\",\"Platelet sub_clusters of COVID-19 Immune Altas: Integration of 5 public COVID-19 PBMC single-cell datasets\"],\"type\":\"scatter\",\"x\":[\"2021-06-15\",\"2021-07-02\",\"2021-07-03\",\"2021-07-09\",\"2021-07-14\",\"2021-07-17\",\"2021-07-23\",\"2021-07-30\"],\"y\":[1,2,3,5,6,7,8,9]},{\"hovertemplate\":\"<i>Date</i>: %{x}<br>Downloads</i>: %{y}<br><br>%{text}</i>\",\"mode\":\"lines+markers\",\"text\":[\"An integrated transcriptomic and epigenomic atlas of mouse primary motor cortex cell types: SMARTer_nuclei_MOp\",\"An integrated transcriptomic and epigenomic atlas of mouse primary motor cortex cell types: SMARTer_nuclei_MOp\",\"An integrated transcriptomic and epigenomic atlas of mouse primary motor cortex cell types: SMARTer_nuclei_MOp\",\"An integrated transcriptomic and epigenomic atlas of mouse primary motor cortex cell types: SMARTer_nuclei_MOp\",\"An integrated transcriptomic and epigenomic atlas of mouse primary motor cortex cell types: SMARTer_nuclei_MOp\",\"An integrated transcriptomic and epigenomic atlas of mouse primary motor cortex cell types: SMARTer_nuclei_MOp\",\"An integrated transcriptomic and epigenomic atlas of mouse primary motor cortex cell types: SMARTer_nuclei_MOp\"],\"type\":\"scatter\",\"x\":[\"2021-05-21\",\"2021-06-03\",\"2021-06-05\",\"2021-06-09\",\"2021-06-15\",\"2021-07-17\",\"2021-07-27\"],\"y\":[2,3,5,6,7,8,9]},{\"hovertemplate\":\"<i>Date</i>: %{x}<br>Downloads</i>: %{y}<br><br>%{text}</i>\",\"mode\":\"lines+markers\",\"text\":[\"Heart \\u2014 A single-cell transcriptomic atlas characterizes ageing tissues in the mouse\",\"Heart \\u2014 A single-cell transcriptomic atlas characterizes ageing tissues in the mouse\",\"Heart \\u2014 A single-cell transcriptomic atlas characterizes ageing tissues in the mouse\",\"Heart \\u2014 A single-cell transcriptomic atlas characterizes ageing tissues in the mouse\",\"Heart \\u2014 A single-cell transcriptomic atlas characterizes ageing tissues in the mouse\",\"Heart \\u2014 A single-cell transcriptomic atlas characterizes ageing tissues in the mouse\",\"Heart \\u2014 A single-cell transcriptomic atlas characterizes ageing tissues in the mouse\",\"Heart \\u2014 A single-cell transcriptomic atlas characterizes ageing tissues in the mouse\"],\"type\":\"scatter\",\"x\":[\"2021-05-10\",\"2021-05-19\",\"2021-05-21\",\"2021-06-05\",\"2021-06-10\",\"2021-06-15\",\"2021-07-17\",\"2021-08-03\"],\"y\":[1,2,3,4,5,6,7,8]},{\"hovertemplate\":\"<i>Date</i>: %{x}<br>Downloads</i>: %{y}<br><br>%{text}</i>\",\"mode\":\"lines+markers\",\"text\":[\"B Cell/Plasmablast Sub_clusters of COVID-19 Immune Altas: Integration of 5 public COVID-19 PBMC single-cell datasets\",\"B Cell/Plasmablast Sub_clusters of COVID-19 Immune Altas: Integration of 5 public COVID-19 PBMC single-cell datasets\",\"B Cell/Plasmablast Sub_clusters of COVID-19 Immune Altas: Integration of 5 public COVID-19 PBMC single-cell datasets\",\"B Cell/Plasmablast Sub_clusters of COVID-19 Immune Altas: Integration of 5 public COVID-19 PBMC single-cell datasets\",\"B Cell/Plasmablast Sub_clusters of COVID-19 Immune Altas: Integration of 5 public COVID-19 PBMC single-cell datasets\",\"B Cell/Plasmablast Sub_clusters of COVID-19 Immune Altas: Integration of 5 public COVID-19 PBMC single-cell datasets\",\"B Cell/Plasmablast Sub_clusters of COVID-19 Immune Altas: Integration of 5 public COVID-19 PBMC single-cell datasets\"],\"type\":\"scatter\",\"x\":[\"2021-06-15\",\"2021-07-02\",\"2021-07-09\",\"2021-07-14\",\"2021-07-17\",\"2021-07-23\",\"2021-07-30\"],\"y\":[1,2,4,5,6,7,8]}],                        {\"showlegend\":false,\"template\":{\"data\":{\"bar\":[{\"error_x\":{\"color\":\"#2a3f5f\"},\"error_y\":{\"color\":\"#2a3f5f\"},\"marker\":{\"line\":{\"color\":\"#E5ECF6\",\"width\":0.5},\"pattern\":{\"fillmode\":\"overlay\",\"size\":10,\"solidity\":0.2}},\"type\":\"bar\"}],\"barpolar\":[{\"marker\":{\"line\":{\"color\":\"#E5ECF6\",\"width\":0.5},\"pattern\":{\"fillmode\":\"overlay\",\"size\":10,\"solidity\":0.2}},\"type\":\"barpolar\"}],\"carpet\":[{\"aaxis\":{\"endlinecolor\":\"#2a3f5f\",\"gridcolor\":\"white\",\"linecolor\":\"white\",\"minorgridcolor\":\"white\",\"startlinecolor\":\"#2a3f5f\"},\"baxis\":{\"endlinecolor\":\"#2a3f5f\",\"gridcolor\":\"white\",\"linecolor\":\"white\",\"minorgridcolor\":\"white\",\"startlinecolor\":\"#2a3f5f\"},\"type\":\"carpet\"}],\"choropleth\":[{\"colorbar\":{\"outlinewidth\":0,\"ticks\":\"\"},\"type\":\"choropleth\"}],\"contour\":[{\"colorbar\":{\"outlinewidth\":0,\"ticks\":\"\"},\"colorscale\":[[0.0,\"#0d0887\"],[0.1111111111111111,\"#46039f\"],[0.2222222222222222,\"#7201a8\"],[0.3333333333333333,\"#9c179e\"],[0.4444444444444444,\"#bd3786\"],[0.5555555555555556,\"#d8576b\"],[0.6666666666666666,\"#ed7953\"],[0.7777777777777778,\"#fb9f3a\"],[0.8888888888888888,\"#fdca26\"],[1.0,\"#f0f921\"]],\"type\":\"contour\"}],\"contourcarpet\":[{\"colorbar\":{\"outlinewidth\":0,\"ticks\":\"\"},\"type\":\"contourcarpet\"}],\"heatmap\":[{\"colorbar\":{\"outlinewidth\":0,\"ticks\":\"\"},\"colorscale\":[[0.0,\"#0d0887\"],[0.1111111111111111,\"#46039f\"],[0.2222222222222222,\"#7201a8\"],[0.3333333333333333,\"#9c179e\"],[0.4444444444444444,\"#bd3786\"],[0.5555555555555556,\"#d8576b\"],[0.6666666666666666,\"#ed7953\"],[0.7777777777777778,\"#fb9f3a\"],[0.8888888888888888,\"#fdca26\"],[1.0,\"#f0f921\"]],\"type\":\"heatmap\"}],\"heatmapgl\":[{\"colorbar\":{\"outlinewidth\":0,\"ticks\":\"\"},\"colorscale\":[[0.0,\"#0d0887\"],[0.1111111111111111,\"#46039f\"],[0.2222222222222222,\"#7201a8\"],[0.3333333333333333,\"#9c179e\"],[0.4444444444444444,\"#bd3786\"],[0.5555555555555556,\"#d8576b\"],[0.6666666666666666,\"#ed7953\"],[0.7777777777777778,\"#fb9f3a\"],[0.8888888888888888,\"#fdca26\"],[1.0,\"#f0f921\"]],\"type\":\"heatmapgl\"}],\"histogram\":[{\"marker\":{\"pattern\":{\"fillmode\":\"overlay\",\"size\":10,\"solidity\":0.2}},\"type\":\"histogram\"}],\"histogram2d\":[{\"colorbar\":{\"outlinewidth\":0,\"ticks\":\"\"},\"colorscale\":[[0.0,\"#0d0887\"],[0.1111111111111111,\"#46039f\"],[0.2222222222222222,\"#7201a8\"],[0.3333333333333333,\"#9c179e\"],[0.4444444444444444,\"#bd3786\"],[0.5555555555555556,\"#d8576b\"],[0.6666666666666666,\"#ed7953\"],[0.7777777777777778,\"#fb9f3a\"],[0.8888888888888888,\"#fdca26\"],[1.0,\"#f0f921\"]],\"type\":\"histogram2d\"}],\"histogram2dcontour\":[{\"colorbar\":{\"outlinewidth\":0,\"ticks\":\"\"},\"colorscale\":[[0.0,\"#0d0887\"],[0.1111111111111111,\"#46039f\"],[0.2222222222222222,\"#7201a8\"],[0.3333333333333333,\"#9c179e\"],[0.4444444444444444,\"#bd3786\"],[0.5555555555555556,\"#d8576b\"],[0.6666666666666666,\"#ed7953\"],[0.7777777777777778,\"#fb9f3a\"],[0.8888888888888888,\"#fdca26\"],[1.0,\"#f0f921\"]],\"type\":\"histogram2dcontour\"}],\"mesh3d\":[{\"colorbar\":{\"outlinewidth\":0,\"ticks\":\"\"},\"type\":\"mesh3d\"}],\"parcoords\":[{\"line\":{\"colorbar\":{\"outlinewidth\":0,\"ticks\":\"\"}},\"type\":\"parcoords\"}],\"pie\":[{\"automargin\":true,\"type\":\"pie\"}],\"scatter\":[{\"marker\":{\"colorbar\":{\"outlinewidth\":0,\"ticks\":\"\"}},\"type\":\"scatter\"}],\"scatter3d\":[{\"line\":{\"colorbar\":{\"outlinewidth\":0,\"ticks\":\"\"}},\"marker\":{\"colorbar\":{\"outlinewidth\":0,\"ticks\":\"\"}},\"type\":\"scatter3d\"}],\"scattercarpet\":[{\"marker\":{\"colorbar\":{\"outlinewidth\":0,\"ticks\":\"\"}},\"type\":\"scattercarpet\"}],\"scattergeo\":[{\"marker\":{\"colorbar\":{\"outlinewidth\":0,\"ticks\":\"\"}},\"type\":\"scattergeo\"}],\"scattergl\":[{\"marker\":{\"colorbar\":{\"outlinewidth\":0,\"ticks\":\"\"}},\"type\":\"scattergl\"}],\"scattermapbox\":[{\"marker\":{\"colorbar\":{\"outlinewidth\":0,\"ticks\":\"\"}},\"type\":\"scattermapbox\"}],\"scatterpolar\":[{\"marker\":{\"colorbar\":{\"outlinewidth\":0,\"ticks\":\"\"}},\"type\":\"scatterpolar\"}],\"scatterpolargl\":[{\"marker\":{\"colorbar\":{\"outlinewidth\":0,\"ticks\":\"\"}},\"type\":\"scatterpolargl\"}],\"scatterternary\":[{\"marker\":{\"colorbar\":{\"outlinewidth\":0,\"ticks\":\"\"}},\"type\":\"scatterternary\"}],\"surface\":[{\"colorbar\":{\"outlinewidth\":0,\"ticks\":\"\"},\"colorscale\":[[0.0,\"#0d0887\"],[0.1111111111111111,\"#46039f\"],[0.2222222222222222,\"#7201a8\"],[0.3333333333333333,\"#9c179e\"],[0.4444444444444444,\"#bd3786\"],[0.5555555555555556,\"#d8576b\"],[0.6666666666666666,\"#ed7953\"],[0.7777777777777778,\"#fb9f3a\"],[0.8888888888888888,\"#fdca26\"],[1.0,\"#f0f921\"]],\"type\":\"surface\"}],\"table\":[{\"cells\":{\"fill\":{\"color\":\"#EBF0F8\"},\"line\":{\"color\":\"white\"}},\"header\":{\"fill\":{\"color\":\"#C8D4E3\"},\"line\":{\"color\":\"white\"}},\"type\":\"table\"}]},\"layout\":{\"annotationdefaults\":{\"arrowcolor\":\"#2a3f5f\",\"arrowhead\":0,\"arrowwidth\":1},\"autotypenumbers\":\"strict\",\"coloraxis\":{\"colorbar\":{\"outlinewidth\":0,\"ticks\":\"\"}},\"colorscale\":{\"diverging\":[[0,\"#8e0152\"],[0.1,\"#c51b7d\"],[0.2,\"#de77ae\"],[0.3,\"#f1b6da\"],[0.4,\"#fde0ef\"],[0.5,\"#f7f7f7\"],[0.6,\"#e6f5d0\"],[0.7,\"#b8e186\"],[0.8,\"#7fbc41\"],[0.9,\"#4d9221\"],[1,\"#276419\"]],\"sequential\":[[0.0,\"#0d0887\"],[0.1111111111111111,\"#46039f\"],[0.2222222222222222,\"#7201a8\"],[0.3333333333333333,\"#9c179e\"],[0.4444444444444444,\"#bd3786\"],[0.5555555555555556,\"#d8576b\"],[0.6666666666666666,\"#ed7953\"],[0.7777777777777778,\"#fb9f3a\"],[0.8888888888888888,\"#fdca26\"],[1.0,\"#f0f921\"]],\"sequentialminus\":[[0.0,\"#0d0887\"],[0.1111111111111111,\"#46039f\"],[0.2222222222222222,\"#7201a8\"],[0.3333333333333333,\"#9c179e\"],[0.4444444444444444,\"#bd3786\"],[0.5555555555555556,\"#d8576b\"],[0.6666666666666666,\"#ed7953\"],[0.7777777777777778,\"#fb9f3a\"],[0.8888888888888888,\"#fdca26\"],[1.0,\"#f0f921\"]]},\"colorway\":[\"#636efa\",\"#EF553B\",\"#00cc96\",\"#ab63fa\",\"#FFA15A\",\"#19d3f3\",\"#FF6692\",\"#B6E880\",\"#FF97FF\",\"#FECB52\"],\"font\":{\"color\":\"#2a3f5f\"},\"geo\":{\"bgcolor\":\"white\",\"lakecolor\":\"white\",\"landcolor\":\"#E5ECF6\",\"showlakes\":true,\"showland\":true,\"subunitcolor\":\"white\"},\"hoverlabel\":{\"align\":\"left\"},\"hovermode\":\"closest\",\"mapbox\":{\"style\":\"light\"},\"paper_bgcolor\":\"white\",\"plot_bgcolor\":\"#E5ECF6\",\"polar\":{\"angularaxis\":{\"gridcolor\":\"white\",\"linecolor\":\"white\",\"ticks\":\"\"},\"bgcolor\":\"#E5ECF6\",\"radialaxis\":{\"gridcolor\":\"white\",\"linecolor\":\"white\",\"ticks\":\"\"}},\"scene\":{\"xaxis\":{\"backgroundcolor\":\"#E5ECF6\",\"gridcolor\":\"white\",\"gridwidth\":2,\"linecolor\":\"white\",\"showbackground\":true,\"ticks\":\"\",\"zerolinecolor\":\"white\"},\"yaxis\":{\"backgroundcolor\":\"#E5ECF6\",\"gridcolor\":\"white\",\"gridwidth\":2,\"linecolor\":\"white\",\"showbackground\":true,\"ticks\":\"\",\"zerolinecolor\":\"white\"},\"zaxis\":{\"backgroundcolor\":\"#E5ECF6\",\"gridcolor\":\"white\",\"gridwidth\":2,\"linecolor\":\"white\",\"showbackground\":true,\"ticks\":\"\",\"zerolinecolor\":\"white\"}},\"shapedefaults\":{\"line\":{\"color\":\"#2a3f5f\"}},\"ternary\":{\"aaxis\":{\"gridcolor\":\"white\",\"linecolor\":\"white\",\"ticks\":\"\"},\"baxis\":{\"gridcolor\":\"white\",\"linecolor\":\"white\",\"ticks\":\"\"},\"bgcolor\":\"#E5ECF6\",\"caxis\":{\"gridcolor\":\"white\",\"linecolor\":\"white\",\"ticks\":\"\"}},\"title\":{\"x\":0.05},\"xaxis\":{\"automargin\":true,\"gridcolor\":\"white\",\"linecolor\":\"white\",\"ticks\":\"\",\"title\":{\"standoff\":15},\"zerolinecolor\":\"white\",\"zerolinewidth\":2},\"yaxis\":{\"automargin\":true,\"gridcolor\":\"white\",\"linecolor\":\"white\",\"ticks\":\"\",\"title\":{\"standoff\":15},\"zerolinecolor\":\"white\",\"zerolinewidth\":2}}},\"title\":{\"text\":\"Trends of top 10 lightly downloaded datasets (cumulative) - raw downloads\"},\"xaxis\":{\"title\":{\"text\":\"date\"}},\"yaxis\":{\"title\":{\"text\":\"number of downloads\"}}},                        {\"responsive\": true}                    ).then(function(){\n",
       "                            \n",
       "var gd = document.getElementById('d7024e60-8961-4f37-ab0e-4abdacf12b8d');\n",
       "var x = new MutationObserver(function (mutations, observer) {{\n",
       "        var display = window.getComputedStyle(gd).display;\n",
       "        if (!display || display === 'none') {{\n",
       "            console.log([gd, 'removed!']);\n",
       "            Plotly.purge(gd);\n",
       "            observer.disconnect();\n",
       "        }}\n",
       "}});\n",
       "\n",
       "// Listen for the removal of the full notebook cells\n",
       "var notebookContainer = gd.closest('#notebook-container');\n",
       "if (notebookContainer) {{\n",
       "    x.observe(notebookContainer, {childList: true});\n",
       "}}\n",
       "\n",
       "// Listen for the clearing of the current output cell\n",
       "var outputEl = gd.closest('.output');\n",
       "if (outputEl) {{\n",
       "    x.observe(outputEl, {childList: true});\n",
       "}}\n",
       "\n",
       "                        })                };                });            </script>        </div>"
      ]
     },
     "metadata": {},
     "output_type": "display_data"
    }
   ],
   "source": [
    "top10_raw = top_ds_raw[top_ds_raw['raw downloads'] <10][0:10]\n",
    "active_raw_ids = top10_raw['dataset_id'].tolist()\n",
    "active_raw_names = top10_raw['dataset_name'].tolist()\n",
    "\n",
    "dataset_download_trends(active_raw_ids, active_raw_names, 'Trends of top 10 lightly downloaded datasets (cumulative) - raw downloads')\n"
   ]
  },
  {
   "cell_type": "markdown",
   "id": "b44b8de8",
   "metadata": {
    "extensions": {
     "jupyter_dashboards": {
      "version": 1,
      "views": {
       "grid_default": {},
       "report_default": {
        "hidden": false
       }
      }
     }
    }
   },
   "source": [
    "### Normalized downloads\n",
    "* Actively downloaded: downloaded more than 10 times\n",
    "* Moderately downloaded: downloaded 6 to 10 times\n",
    "* Lightly downloaded: downloaded 5 or less than times"
   ]
  },
  {
   "cell_type": "code",
   "execution_count": 192,
   "id": "b965a7fe",
   "metadata": {
    "extensions": {
     "jupyter_dashboards": {
      "version": 1,
      "views": {
       "grid_default": {},
       "report_default": {
        "hidden": true
       }
      }
     }
    }
   },
   "outputs": [],
   "source": [
    "#len(top_ds_norm[(top_ds_norm['value'] > 7) & (top_ds_norm['value'] < 12)]['dataset_id'])\n",
    "#len(top_ds_norm[(top_ds_norm['value'] < 5)]['dataset_id'])"
   ]
  },
  {
   "cell_type": "markdown",
   "id": "50d8cb61",
   "metadata": {
    "extensions": {
     "jupyter_dashboards": {
      "version": 1,
      "views": {
       "grid_default": {},
       "report_default": {
        "hidden": false
       }
      }
     }
    }
   },
   "source": [
    "#### Evaluate download groups"
   ]
  },
  {
   "cell_type": "code",
   "execution_count": 182,
   "id": "1faf63d9",
   "metadata": {
    "extensions": {
     "jupyter_dashboards": {
      "version": 1,
      "views": {
       "grid_default": {},
       "report_default": {
        "hidden": false
       }
      }
     }
    }
   },
   "outputs": [
    {
     "data": {
      "application/vnd.plotly.v1+json": {
       "config": {
        "plotlyServerURL": "https://plot.ly"
       },
       "data": [
        {
         "type": "histogram",
         "x": [
          94,
          86,
          67,
          50,
          44,
          39,
          35,
          33,
          32,
          32,
          31,
          30,
          30,
          29,
          28,
          26,
          26,
          24,
          23,
          23,
          21,
          20,
          20,
          19,
          18,
          17,
          17,
          16,
          14,
          14,
          14,
          13,
          13,
          13,
          13,
          12,
          12,
          12,
          11,
          11,
          11,
          11,
          10,
          10,
          10,
          10,
          10,
          10,
          10,
          10,
          10,
          10,
          10,
          10,
          10,
          10,
          10,
          10,
          10,
          10,
          10,
          10,
          10,
          10,
          10,
          9,
          8,
          8,
          8,
          8,
          7,
          7,
          7,
          7,
          7,
          7,
          7,
          7,
          7,
          7,
          7,
          7,
          7,
          7,
          7,
          7,
          6,
          6,
          6,
          6,
          6,
          6,
          6,
          5,
          5,
          5,
          5,
          5,
          5,
          5,
          5,
          5,
          5,
          5,
          5,
          5,
          5,
          5,
          5,
          5,
          5,
          5,
          5,
          5,
          5,
          5,
          5,
          5,
          5,
          5,
          5,
          5,
          5,
          5,
          5,
          5,
          5,
          5,
          5,
          5,
          5,
          5,
          5,
          4,
          3,
          3,
          3,
          3,
          3
         ]
        }
       ],
       "layout": {
        "showlegend": false,
        "template": {
         "data": {
          "bar": [
           {
            "error_x": {
             "color": "#2a3f5f"
            },
            "error_y": {
             "color": "#2a3f5f"
            },
            "marker": {
             "line": {
              "color": "#E5ECF6",
              "width": 0.5
             },
             "pattern": {
              "fillmode": "overlay",
              "size": 10,
              "solidity": 0.2
             }
            },
            "type": "bar"
           }
          ],
          "barpolar": [
           {
            "marker": {
             "line": {
              "color": "#E5ECF6",
              "width": 0.5
             },
             "pattern": {
              "fillmode": "overlay",
              "size": 10,
              "solidity": 0.2
             }
            },
            "type": "barpolar"
           }
          ],
          "carpet": [
           {
            "aaxis": {
             "endlinecolor": "#2a3f5f",
             "gridcolor": "white",
             "linecolor": "white",
             "minorgridcolor": "white",
             "startlinecolor": "#2a3f5f"
            },
            "baxis": {
             "endlinecolor": "#2a3f5f",
             "gridcolor": "white",
             "linecolor": "white",
             "minorgridcolor": "white",
             "startlinecolor": "#2a3f5f"
            },
            "type": "carpet"
           }
          ],
          "choropleth": [
           {
            "colorbar": {
             "outlinewidth": 0,
             "ticks": ""
            },
            "type": "choropleth"
           }
          ],
          "contour": [
           {
            "colorbar": {
             "outlinewidth": 0,
             "ticks": ""
            },
            "colorscale": [
             [
              0,
              "#0d0887"
             ],
             [
              0.1111111111111111,
              "#46039f"
             ],
             [
              0.2222222222222222,
              "#7201a8"
             ],
             [
              0.3333333333333333,
              "#9c179e"
             ],
             [
              0.4444444444444444,
              "#bd3786"
             ],
             [
              0.5555555555555556,
              "#d8576b"
             ],
             [
              0.6666666666666666,
              "#ed7953"
             ],
             [
              0.7777777777777778,
              "#fb9f3a"
             ],
             [
              0.8888888888888888,
              "#fdca26"
             ],
             [
              1,
              "#f0f921"
             ]
            ],
            "type": "contour"
           }
          ],
          "contourcarpet": [
           {
            "colorbar": {
             "outlinewidth": 0,
             "ticks": ""
            },
            "type": "contourcarpet"
           }
          ],
          "heatmap": [
           {
            "colorbar": {
             "outlinewidth": 0,
             "ticks": ""
            },
            "colorscale": [
             [
              0,
              "#0d0887"
             ],
             [
              0.1111111111111111,
              "#46039f"
             ],
             [
              0.2222222222222222,
              "#7201a8"
             ],
             [
              0.3333333333333333,
              "#9c179e"
             ],
             [
              0.4444444444444444,
              "#bd3786"
             ],
             [
              0.5555555555555556,
              "#d8576b"
             ],
             [
              0.6666666666666666,
              "#ed7953"
             ],
             [
              0.7777777777777778,
              "#fb9f3a"
             ],
             [
              0.8888888888888888,
              "#fdca26"
             ],
             [
              1,
              "#f0f921"
             ]
            ],
            "type": "heatmap"
           }
          ],
          "heatmapgl": [
           {
            "colorbar": {
             "outlinewidth": 0,
             "ticks": ""
            },
            "colorscale": [
             [
              0,
              "#0d0887"
             ],
             [
              0.1111111111111111,
              "#46039f"
             ],
             [
              0.2222222222222222,
              "#7201a8"
             ],
             [
              0.3333333333333333,
              "#9c179e"
             ],
             [
              0.4444444444444444,
              "#bd3786"
             ],
             [
              0.5555555555555556,
              "#d8576b"
             ],
             [
              0.6666666666666666,
              "#ed7953"
             ],
             [
              0.7777777777777778,
              "#fb9f3a"
             ],
             [
              0.8888888888888888,
              "#fdca26"
             ],
             [
              1,
              "#f0f921"
             ]
            ],
            "type": "heatmapgl"
           }
          ],
          "histogram": [
           {
            "marker": {
             "pattern": {
              "fillmode": "overlay",
              "size": 10,
              "solidity": 0.2
             }
            },
            "type": "histogram"
           }
          ],
          "histogram2d": [
           {
            "colorbar": {
             "outlinewidth": 0,
             "ticks": ""
            },
            "colorscale": [
             [
              0,
              "#0d0887"
             ],
             [
              0.1111111111111111,
              "#46039f"
             ],
             [
              0.2222222222222222,
              "#7201a8"
             ],
             [
              0.3333333333333333,
              "#9c179e"
             ],
             [
              0.4444444444444444,
              "#bd3786"
             ],
             [
              0.5555555555555556,
              "#d8576b"
             ],
             [
              0.6666666666666666,
              "#ed7953"
             ],
             [
              0.7777777777777778,
              "#fb9f3a"
             ],
             [
              0.8888888888888888,
              "#fdca26"
             ],
             [
              1,
              "#f0f921"
             ]
            ],
            "type": "histogram2d"
           }
          ],
          "histogram2dcontour": [
           {
            "colorbar": {
             "outlinewidth": 0,
             "ticks": ""
            },
            "colorscale": [
             [
              0,
              "#0d0887"
             ],
             [
              0.1111111111111111,
              "#46039f"
             ],
             [
              0.2222222222222222,
              "#7201a8"
             ],
             [
              0.3333333333333333,
              "#9c179e"
             ],
             [
              0.4444444444444444,
              "#bd3786"
             ],
             [
              0.5555555555555556,
              "#d8576b"
             ],
             [
              0.6666666666666666,
              "#ed7953"
             ],
             [
              0.7777777777777778,
              "#fb9f3a"
             ],
             [
              0.8888888888888888,
              "#fdca26"
             ],
             [
              1,
              "#f0f921"
             ]
            ],
            "type": "histogram2dcontour"
           }
          ],
          "mesh3d": [
           {
            "colorbar": {
             "outlinewidth": 0,
             "ticks": ""
            },
            "type": "mesh3d"
           }
          ],
          "parcoords": [
           {
            "line": {
             "colorbar": {
              "outlinewidth": 0,
              "ticks": ""
             }
            },
            "type": "parcoords"
           }
          ],
          "pie": [
           {
            "automargin": true,
            "type": "pie"
           }
          ],
          "scatter": [
           {
            "marker": {
             "colorbar": {
              "outlinewidth": 0,
              "ticks": ""
             }
            },
            "type": "scatter"
           }
          ],
          "scatter3d": [
           {
            "line": {
             "colorbar": {
              "outlinewidth": 0,
              "ticks": ""
             }
            },
            "marker": {
             "colorbar": {
              "outlinewidth": 0,
              "ticks": ""
             }
            },
            "type": "scatter3d"
           }
          ],
          "scattercarpet": [
           {
            "marker": {
             "colorbar": {
              "outlinewidth": 0,
              "ticks": ""
             }
            },
            "type": "scattercarpet"
           }
          ],
          "scattergeo": [
           {
            "marker": {
             "colorbar": {
              "outlinewidth": 0,
              "ticks": ""
             }
            },
            "type": "scattergeo"
           }
          ],
          "scattergl": [
           {
            "marker": {
             "colorbar": {
              "outlinewidth": 0,
              "ticks": ""
             }
            },
            "type": "scattergl"
           }
          ],
          "scattermapbox": [
           {
            "marker": {
             "colorbar": {
              "outlinewidth": 0,
              "ticks": ""
             }
            },
            "type": "scattermapbox"
           }
          ],
          "scatterpolar": [
           {
            "marker": {
             "colorbar": {
              "outlinewidth": 0,
              "ticks": ""
             }
            },
            "type": "scatterpolar"
           }
          ],
          "scatterpolargl": [
           {
            "marker": {
             "colorbar": {
              "outlinewidth": 0,
              "ticks": ""
             }
            },
            "type": "scatterpolargl"
           }
          ],
          "scatterternary": [
           {
            "marker": {
             "colorbar": {
              "outlinewidth": 0,
              "ticks": ""
             }
            },
            "type": "scatterternary"
           }
          ],
          "surface": [
           {
            "colorbar": {
             "outlinewidth": 0,
             "ticks": ""
            },
            "colorscale": [
             [
              0,
              "#0d0887"
             ],
             [
              0.1111111111111111,
              "#46039f"
             ],
             [
              0.2222222222222222,
              "#7201a8"
             ],
             [
              0.3333333333333333,
              "#9c179e"
             ],
             [
              0.4444444444444444,
              "#bd3786"
             ],
             [
              0.5555555555555556,
              "#d8576b"
             ],
             [
              0.6666666666666666,
              "#ed7953"
             ],
             [
              0.7777777777777778,
              "#fb9f3a"
             ],
             [
              0.8888888888888888,
              "#fdca26"
             ],
             [
              1,
              "#f0f921"
             ]
            ],
            "type": "surface"
           }
          ],
          "table": [
           {
            "cells": {
             "fill": {
              "color": "#EBF0F8"
             },
             "line": {
              "color": "white"
             }
            },
            "header": {
             "fill": {
              "color": "#C8D4E3"
             },
             "line": {
              "color": "white"
             }
            },
            "type": "table"
           }
          ]
         },
         "layout": {
          "annotationdefaults": {
           "arrowcolor": "#2a3f5f",
           "arrowhead": 0,
           "arrowwidth": 1
          },
          "autotypenumbers": "strict",
          "coloraxis": {
           "colorbar": {
            "outlinewidth": 0,
            "ticks": ""
           }
          },
          "colorscale": {
           "diverging": [
            [
             0,
             "#8e0152"
            ],
            [
             0.1,
             "#c51b7d"
            ],
            [
             0.2,
             "#de77ae"
            ],
            [
             0.3,
             "#f1b6da"
            ],
            [
             0.4,
             "#fde0ef"
            ],
            [
             0.5,
             "#f7f7f7"
            ],
            [
             0.6,
             "#e6f5d0"
            ],
            [
             0.7,
             "#b8e186"
            ],
            [
             0.8,
             "#7fbc41"
            ],
            [
             0.9,
             "#4d9221"
            ],
            [
             1,
             "#276419"
            ]
           ],
           "sequential": [
            [
             0,
             "#0d0887"
            ],
            [
             0.1111111111111111,
             "#46039f"
            ],
            [
             0.2222222222222222,
             "#7201a8"
            ],
            [
             0.3333333333333333,
             "#9c179e"
            ],
            [
             0.4444444444444444,
             "#bd3786"
            ],
            [
             0.5555555555555556,
             "#d8576b"
            ],
            [
             0.6666666666666666,
             "#ed7953"
            ],
            [
             0.7777777777777778,
             "#fb9f3a"
            ],
            [
             0.8888888888888888,
             "#fdca26"
            ],
            [
             1,
             "#f0f921"
            ]
           ],
           "sequentialminus": [
            [
             0,
             "#0d0887"
            ],
            [
             0.1111111111111111,
             "#46039f"
            ],
            [
             0.2222222222222222,
             "#7201a8"
            ],
            [
             0.3333333333333333,
             "#9c179e"
            ],
            [
             0.4444444444444444,
             "#bd3786"
            ],
            [
             0.5555555555555556,
             "#d8576b"
            ],
            [
             0.6666666666666666,
             "#ed7953"
            ],
            [
             0.7777777777777778,
             "#fb9f3a"
            ],
            [
             0.8888888888888888,
             "#fdca26"
            ],
            [
             1,
             "#f0f921"
            ]
           ]
          },
          "colorway": [
           "#636efa",
           "#EF553B",
           "#00cc96",
           "#ab63fa",
           "#FFA15A",
           "#19d3f3",
           "#FF6692",
           "#B6E880",
           "#FF97FF",
           "#FECB52"
          ],
          "font": {
           "color": "#2a3f5f"
          },
          "geo": {
           "bgcolor": "white",
           "lakecolor": "white",
           "landcolor": "#E5ECF6",
           "showlakes": true,
           "showland": true,
           "subunitcolor": "white"
          },
          "hoverlabel": {
           "align": "left"
          },
          "hovermode": "closest",
          "mapbox": {
           "style": "light"
          },
          "paper_bgcolor": "white",
          "plot_bgcolor": "#E5ECF6",
          "polar": {
           "angularaxis": {
            "gridcolor": "white",
            "linecolor": "white",
            "ticks": ""
           },
           "bgcolor": "#E5ECF6",
           "radialaxis": {
            "gridcolor": "white",
            "linecolor": "white",
            "ticks": ""
           }
          },
          "scene": {
           "xaxis": {
            "backgroundcolor": "#E5ECF6",
            "gridcolor": "white",
            "gridwidth": 2,
            "linecolor": "white",
            "showbackground": true,
            "ticks": "",
            "zerolinecolor": "white"
           },
           "yaxis": {
            "backgroundcolor": "#E5ECF6",
            "gridcolor": "white",
            "gridwidth": 2,
            "linecolor": "white",
            "showbackground": true,
            "ticks": "",
            "zerolinecolor": "white"
           },
           "zaxis": {
            "backgroundcolor": "#E5ECF6",
            "gridcolor": "white",
            "gridwidth": 2,
            "linecolor": "white",
            "showbackground": true,
            "ticks": "",
            "zerolinecolor": "white"
           }
          },
          "shapedefaults": {
           "line": {
            "color": "#2a3f5f"
           }
          },
          "ternary": {
           "aaxis": {
            "gridcolor": "white",
            "linecolor": "white",
            "ticks": ""
           },
           "baxis": {
            "gridcolor": "white",
            "linecolor": "white",
            "ticks": ""
           },
           "bgcolor": "#E5ECF6",
           "caxis": {
            "gridcolor": "white",
            "linecolor": "white",
            "ticks": ""
           }
          },
          "title": {
           "x": 0.05
          },
          "xaxis": {
           "automargin": true,
           "gridcolor": "white",
           "linecolor": "white",
           "ticks": "",
           "title": {
            "standoff": 15
           },
           "zerolinecolor": "white",
           "zerolinewidth": 2
          },
          "yaxis": {
           "automargin": true,
           "gridcolor": "white",
           "linecolor": "white",
           "ticks": "",
           "title": {
            "standoff": 15
           },
           "zerolinecolor": "white",
           "zerolinewidth": 2
          }
         }
        },
        "xaxis": {
         "title": {
          "text": "normalized value"
         }
        },
        "yaxis": {
         "title": {
          "text": "count"
         }
        }
       }
      },
      "text/html": [
       "<div>                            <div id=\"d9f38794-87bd-4e8d-b9ac-7e074ca44072\" class=\"plotly-graph-div\" style=\"height:525px; width:100%;\"></div>            <script type=\"text/javascript\">                require([\"plotly\"], function(Plotly) {                    window.PLOTLYENV=window.PLOTLYENV || {};                                    if (document.getElementById(\"d9f38794-87bd-4e8d-b9ac-7e074ca44072\")) {                    Plotly.newPlot(                        \"d9f38794-87bd-4e8d-b9ac-7e074ca44072\",                        [{\"type\":\"histogram\",\"x\":[94,86,67,50,44,39,35,33,32,32,31,30,30,29,28,26,26,24,23,23,21,20,20,19,18,17,17,16,14,14,14,13,13,13,13,12,12,12,11,11,11,11,10,10,10,10,10,10,10,10,10,10,10,10,10,10,10,10,10,10,10,10,10,10,10,9,8,8,8,8,7,7,7,7,7,7,7,7,7,7,7,7,7,7,7,7,6,6,6,6,6,6,6,5,5,5,5,5,5,5,5,5,5,5,5,5,5,5,5,5,5,5,5,5,5,5,5,5,5,5,5,5,5,5,5,5,5,5,5,5,5,5,5,4,3,3,3,3,3]}],                        {\"showlegend\":false,\"template\":{\"data\":{\"bar\":[{\"error_x\":{\"color\":\"#2a3f5f\"},\"error_y\":{\"color\":\"#2a3f5f\"},\"marker\":{\"line\":{\"color\":\"#E5ECF6\",\"width\":0.5},\"pattern\":{\"fillmode\":\"overlay\",\"size\":10,\"solidity\":0.2}},\"type\":\"bar\"}],\"barpolar\":[{\"marker\":{\"line\":{\"color\":\"#E5ECF6\",\"width\":0.5},\"pattern\":{\"fillmode\":\"overlay\",\"size\":10,\"solidity\":0.2}},\"type\":\"barpolar\"}],\"carpet\":[{\"aaxis\":{\"endlinecolor\":\"#2a3f5f\",\"gridcolor\":\"white\",\"linecolor\":\"white\",\"minorgridcolor\":\"white\",\"startlinecolor\":\"#2a3f5f\"},\"baxis\":{\"endlinecolor\":\"#2a3f5f\",\"gridcolor\":\"white\",\"linecolor\":\"white\",\"minorgridcolor\":\"white\",\"startlinecolor\":\"#2a3f5f\"},\"type\":\"carpet\"}],\"choropleth\":[{\"colorbar\":{\"outlinewidth\":0,\"ticks\":\"\"},\"type\":\"choropleth\"}],\"contour\":[{\"colorbar\":{\"outlinewidth\":0,\"ticks\":\"\"},\"colorscale\":[[0.0,\"#0d0887\"],[0.1111111111111111,\"#46039f\"],[0.2222222222222222,\"#7201a8\"],[0.3333333333333333,\"#9c179e\"],[0.4444444444444444,\"#bd3786\"],[0.5555555555555556,\"#d8576b\"],[0.6666666666666666,\"#ed7953\"],[0.7777777777777778,\"#fb9f3a\"],[0.8888888888888888,\"#fdca26\"],[1.0,\"#f0f921\"]],\"type\":\"contour\"}],\"contourcarpet\":[{\"colorbar\":{\"outlinewidth\":0,\"ticks\":\"\"},\"type\":\"contourcarpet\"}],\"heatmap\":[{\"colorbar\":{\"outlinewidth\":0,\"ticks\":\"\"},\"colorscale\":[[0.0,\"#0d0887\"],[0.1111111111111111,\"#46039f\"],[0.2222222222222222,\"#7201a8\"],[0.3333333333333333,\"#9c179e\"],[0.4444444444444444,\"#bd3786\"],[0.5555555555555556,\"#d8576b\"],[0.6666666666666666,\"#ed7953\"],[0.7777777777777778,\"#fb9f3a\"],[0.8888888888888888,\"#fdca26\"],[1.0,\"#f0f921\"]],\"type\":\"heatmap\"}],\"heatmapgl\":[{\"colorbar\":{\"outlinewidth\":0,\"ticks\":\"\"},\"colorscale\":[[0.0,\"#0d0887\"],[0.1111111111111111,\"#46039f\"],[0.2222222222222222,\"#7201a8\"],[0.3333333333333333,\"#9c179e\"],[0.4444444444444444,\"#bd3786\"],[0.5555555555555556,\"#d8576b\"],[0.6666666666666666,\"#ed7953\"],[0.7777777777777778,\"#fb9f3a\"],[0.8888888888888888,\"#fdca26\"],[1.0,\"#f0f921\"]],\"type\":\"heatmapgl\"}],\"histogram\":[{\"marker\":{\"pattern\":{\"fillmode\":\"overlay\",\"size\":10,\"solidity\":0.2}},\"type\":\"histogram\"}],\"histogram2d\":[{\"colorbar\":{\"outlinewidth\":0,\"ticks\":\"\"},\"colorscale\":[[0.0,\"#0d0887\"],[0.1111111111111111,\"#46039f\"],[0.2222222222222222,\"#7201a8\"],[0.3333333333333333,\"#9c179e\"],[0.4444444444444444,\"#bd3786\"],[0.5555555555555556,\"#d8576b\"],[0.6666666666666666,\"#ed7953\"],[0.7777777777777778,\"#fb9f3a\"],[0.8888888888888888,\"#fdca26\"],[1.0,\"#f0f921\"]],\"type\":\"histogram2d\"}],\"histogram2dcontour\":[{\"colorbar\":{\"outlinewidth\":0,\"ticks\":\"\"},\"colorscale\":[[0.0,\"#0d0887\"],[0.1111111111111111,\"#46039f\"],[0.2222222222222222,\"#7201a8\"],[0.3333333333333333,\"#9c179e\"],[0.4444444444444444,\"#bd3786\"],[0.5555555555555556,\"#d8576b\"],[0.6666666666666666,\"#ed7953\"],[0.7777777777777778,\"#fb9f3a\"],[0.8888888888888888,\"#fdca26\"],[1.0,\"#f0f921\"]],\"type\":\"histogram2dcontour\"}],\"mesh3d\":[{\"colorbar\":{\"outlinewidth\":0,\"ticks\":\"\"},\"type\":\"mesh3d\"}],\"parcoords\":[{\"line\":{\"colorbar\":{\"outlinewidth\":0,\"ticks\":\"\"}},\"type\":\"parcoords\"}],\"pie\":[{\"automargin\":true,\"type\":\"pie\"}],\"scatter\":[{\"marker\":{\"colorbar\":{\"outlinewidth\":0,\"ticks\":\"\"}},\"type\":\"scatter\"}],\"scatter3d\":[{\"line\":{\"colorbar\":{\"outlinewidth\":0,\"ticks\":\"\"}},\"marker\":{\"colorbar\":{\"outlinewidth\":0,\"ticks\":\"\"}},\"type\":\"scatter3d\"}],\"scattercarpet\":[{\"marker\":{\"colorbar\":{\"outlinewidth\":0,\"ticks\":\"\"}},\"type\":\"scattercarpet\"}],\"scattergeo\":[{\"marker\":{\"colorbar\":{\"outlinewidth\":0,\"ticks\":\"\"}},\"type\":\"scattergeo\"}],\"scattergl\":[{\"marker\":{\"colorbar\":{\"outlinewidth\":0,\"ticks\":\"\"}},\"type\":\"scattergl\"}],\"scattermapbox\":[{\"marker\":{\"colorbar\":{\"outlinewidth\":0,\"ticks\":\"\"}},\"type\":\"scattermapbox\"}],\"scatterpolar\":[{\"marker\":{\"colorbar\":{\"outlinewidth\":0,\"ticks\":\"\"}},\"type\":\"scatterpolar\"}],\"scatterpolargl\":[{\"marker\":{\"colorbar\":{\"outlinewidth\":0,\"ticks\":\"\"}},\"type\":\"scatterpolargl\"}],\"scatterternary\":[{\"marker\":{\"colorbar\":{\"outlinewidth\":0,\"ticks\":\"\"}},\"type\":\"scatterternary\"}],\"surface\":[{\"colorbar\":{\"outlinewidth\":0,\"ticks\":\"\"},\"colorscale\":[[0.0,\"#0d0887\"],[0.1111111111111111,\"#46039f\"],[0.2222222222222222,\"#7201a8\"],[0.3333333333333333,\"#9c179e\"],[0.4444444444444444,\"#bd3786\"],[0.5555555555555556,\"#d8576b\"],[0.6666666666666666,\"#ed7953\"],[0.7777777777777778,\"#fb9f3a\"],[0.8888888888888888,\"#fdca26\"],[1.0,\"#f0f921\"]],\"type\":\"surface\"}],\"table\":[{\"cells\":{\"fill\":{\"color\":\"#EBF0F8\"},\"line\":{\"color\":\"white\"}},\"header\":{\"fill\":{\"color\":\"#C8D4E3\"},\"line\":{\"color\":\"white\"}},\"type\":\"table\"}]},\"layout\":{\"annotationdefaults\":{\"arrowcolor\":\"#2a3f5f\",\"arrowhead\":0,\"arrowwidth\":1},\"autotypenumbers\":\"strict\",\"coloraxis\":{\"colorbar\":{\"outlinewidth\":0,\"ticks\":\"\"}},\"colorscale\":{\"diverging\":[[0,\"#8e0152\"],[0.1,\"#c51b7d\"],[0.2,\"#de77ae\"],[0.3,\"#f1b6da\"],[0.4,\"#fde0ef\"],[0.5,\"#f7f7f7\"],[0.6,\"#e6f5d0\"],[0.7,\"#b8e186\"],[0.8,\"#7fbc41\"],[0.9,\"#4d9221\"],[1,\"#276419\"]],\"sequential\":[[0.0,\"#0d0887\"],[0.1111111111111111,\"#46039f\"],[0.2222222222222222,\"#7201a8\"],[0.3333333333333333,\"#9c179e\"],[0.4444444444444444,\"#bd3786\"],[0.5555555555555556,\"#d8576b\"],[0.6666666666666666,\"#ed7953\"],[0.7777777777777778,\"#fb9f3a\"],[0.8888888888888888,\"#fdca26\"],[1.0,\"#f0f921\"]],\"sequentialminus\":[[0.0,\"#0d0887\"],[0.1111111111111111,\"#46039f\"],[0.2222222222222222,\"#7201a8\"],[0.3333333333333333,\"#9c179e\"],[0.4444444444444444,\"#bd3786\"],[0.5555555555555556,\"#d8576b\"],[0.6666666666666666,\"#ed7953\"],[0.7777777777777778,\"#fb9f3a\"],[0.8888888888888888,\"#fdca26\"],[1.0,\"#f0f921\"]]},\"colorway\":[\"#636efa\",\"#EF553B\",\"#00cc96\",\"#ab63fa\",\"#FFA15A\",\"#19d3f3\",\"#FF6692\",\"#B6E880\",\"#FF97FF\",\"#FECB52\"],\"font\":{\"color\":\"#2a3f5f\"},\"geo\":{\"bgcolor\":\"white\",\"lakecolor\":\"white\",\"landcolor\":\"#E5ECF6\",\"showlakes\":true,\"showland\":true,\"subunitcolor\":\"white\"},\"hoverlabel\":{\"align\":\"left\"},\"hovermode\":\"closest\",\"mapbox\":{\"style\":\"light\"},\"paper_bgcolor\":\"white\",\"plot_bgcolor\":\"#E5ECF6\",\"polar\":{\"angularaxis\":{\"gridcolor\":\"white\",\"linecolor\":\"white\",\"ticks\":\"\"},\"bgcolor\":\"#E5ECF6\",\"radialaxis\":{\"gridcolor\":\"white\",\"linecolor\":\"white\",\"ticks\":\"\"}},\"scene\":{\"xaxis\":{\"backgroundcolor\":\"#E5ECF6\",\"gridcolor\":\"white\",\"gridwidth\":2,\"linecolor\":\"white\",\"showbackground\":true,\"ticks\":\"\",\"zerolinecolor\":\"white\"},\"yaxis\":{\"backgroundcolor\":\"#E5ECF6\",\"gridcolor\":\"white\",\"gridwidth\":2,\"linecolor\":\"white\",\"showbackground\":true,\"ticks\":\"\",\"zerolinecolor\":\"white\"},\"zaxis\":{\"backgroundcolor\":\"#E5ECF6\",\"gridcolor\":\"white\",\"gridwidth\":2,\"linecolor\":\"white\",\"showbackground\":true,\"ticks\":\"\",\"zerolinecolor\":\"white\"}},\"shapedefaults\":{\"line\":{\"color\":\"#2a3f5f\"}},\"ternary\":{\"aaxis\":{\"gridcolor\":\"white\",\"linecolor\":\"white\",\"ticks\":\"\"},\"baxis\":{\"gridcolor\":\"white\",\"linecolor\":\"white\",\"ticks\":\"\"},\"bgcolor\":\"#E5ECF6\",\"caxis\":{\"gridcolor\":\"white\",\"linecolor\":\"white\",\"ticks\":\"\"}},\"title\":{\"x\":0.05},\"xaxis\":{\"automargin\":true,\"gridcolor\":\"white\",\"linecolor\":\"white\",\"ticks\":\"\",\"title\":{\"standoff\":15},\"zerolinecolor\":\"white\",\"zerolinewidth\":2},\"yaxis\":{\"automargin\":true,\"gridcolor\":\"white\",\"linecolor\":\"white\",\"ticks\":\"\",\"title\":{\"standoff\":15},\"zerolinecolor\":\"white\",\"zerolinewidth\":2}}},\"xaxis\":{\"title\":{\"text\":\"normalized value\"}},\"yaxis\":{\"title\":{\"text\":\"count\"}}},                        {\"responsive\": true}                    ).then(function(){\n",
       "                            \n",
       "var gd = document.getElementById('d9f38794-87bd-4e8d-b9ac-7e074ca44072');\n",
       "var x = new MutationObserver(function (mutations, observer) {{\n",
       "        var display = window.getComputedStyle(gd).display;\n",
       "        if (!display || display === 'none') {{\n",
       "            console.log([gd, 'removed!']);\n",
       "            Plotly.purge(gd);\n",
       "            observer.disconnect();\n",
       "        }}\n",
       "}});\n",
       "\n",
       "// Listen for the removal of the full notebook cells\n",
       "var notebookContainer = gd.closest('#notebook-container');\n",
       "if (notebookContainer) {{\n",
       "    x.observe(notebookContainer, {childList: true});\n",
       "}}\n",
       "\n",
       "// Listen for the clearing of the current output cell\n",
       "var outputEl = gd.closest('.output');\n",
       "if (outputEl) {{\n",
       "    x.observe(outputEl, {childList: true});\n",
       "}}\n",
       "\n",
       "                        })                };                });            </script>        </div>"
      ]
     },
     "metadata": {},
     "output_type": "display_data"
    }
   ],
   "source": [
    "# evaluate how to define download groups \n",
    "x = top_ds_norm['value'].tolist()\n",
    "fig = go.Figure(data=[go.Histogram(x=x)])\n",
    "fig.update_layout(\n",
    "        xaxis_title=\"normalized value\",\n",
    "        yaxis_title=\"count\",\n",
    "        showlegend = False\n",
    "    )\n",
    "fig.show()"
   ]
  },
  {
   "cell_type": "markdown",
   "id": "3361cde8",
   "metadata": {
    "extensions": {
     "jupyter_dashboards": {
      "version": 1,
      "views": {
       "grid_default": {},
       "report_default": {
        "hidden": false
       }
      }
     }
    }
   },
   "source": [
    "##### Actively downloaded"
   ]
  },
  {
   "cell_type": "code",
   "execution_count": 203,
   "id": "8c6c987d",
   "metadata": {
    "extensions": {
     "jupyter_dashboards": {
      "version": 1,
      "views": {
       "grid_default": {},
       "report_default": {
        "hidden": false
       }
      }
     }
    }
   },
   "outputs": [
    {
     "data": {
      "application/vnd.plotly.v1+json": {
       "config": {
        "plotlyServerURL": "https://plot.ly"
       },
       "data": [
        {
         "hovertemplate": "<i>Date</i>: %{x}<br>Downloads</i>: %{y}<br><br>%{text}</i>",
         "mode": "lines+markers",
         "text": [
          "Tabula Sapiens - All Cells",
          "Tabula Sapiens - All Cells",
          "Tabula Sapiens - All Cells",
          "Tabula Sapiens - All Cells",
          "Tabula Sapiens - All Cells",
          "Tabula Sapiens - All Cells",
          "Tabula Sapiens - All Cells",
          "Tabula Sapiens - All Cells",
          "Tabula Sapiens - All Cells",
          "Tabula Sapiens - All Cells",
          "Tabula Sapiens - All Cells",
          "Tabula Sapiens - All Cells",
          "Tabula Sapiens - All Cells",
          "Tabula Sapiens - All Cells",
          "Tabula Sapiens - All Cells"
         ],
         "type": "scatter",
         "x": [
          "2021-07-19",
          "2021-07-20",
          "2021-07-21",
          "2021-07-22",
          "2021-07-23",
          "2021-07-26",
          "2021-07-27",
          "2021-07-28",
          "2021-07-30",
          "2021-08-02",
          "2021-08-03",
          "2021-08-04",
          "2021-08-10",
          "2021-08-11",
          "2021-08-13"
         ],
         "y": [
          1,
          2,
          3,
          6,
          10,
          12,
          13,
          16,
          19,
          21,
          24,
          28,
          29,
          30,
          34
         ]
        },
        {
         "hovertemplate": "<i>Date</i>: %{x}<br>Downloads</i>: %{y}<br><br>%{text}</i>",
         "mode": "lines+markers",
         "text": [
          "Azimuth meta-analysis of 10 datasets of healthy and diseased human lung",
          "Azimuth meta-analysis of 10 datasets of healthy and diseased human lung",
          "Azimuth meta-analysis of 10 datasets of healthy and diseased human lung",
          "Azimuth meta-analysis of 10 datasets of healthy and diseased human lung",
          "Azimuth meta-analysis of 10 datasets of healthy and diseased human lung",
          "Azimuth meta-analysis of 10 datasets of healthy and diseased human lung",
          "Azimuth meta-analysis of 10 datasets of healthy and diseased human lung",
          "Azimuth meta-analysis of 10 datasets of healthy and diseased human lung",
          "Azimuth meta-analysis of 10 datasets of healthy and diseased human lung",
          "Azimuth meta-analysis of 10 datasets of healthy and diseased human lung",
          "Azimuth meta-analysis of 10 datasets of healthy and diseased human lung",
          "Azimuth meta-analysis of 10 datasets of healthy and diseased human lung",
          "Azimuth meta-analysis of 10 datasets of healthy and diseased human lung",
          "Azimuth meta-analysis of 10 datasets of healthy and diseased human lung",
          "Azimuth meta-analysis of 10 datasets of healthy and diseased human lung",
          "Azimuth meta-analysis of 10 datasets of healthy and diseased human lung",
          "Azimuth meta-analysis of 10 datasets of healthy and diseased human lung",
          "Azimuth meta-analysis of 10 datasets of healthy and diseased human lung",
          "Azimuth meta-analysis of 10 datasets of healthy and diseased human lung",
          "Azimuth meta-analysis of 10 datasets of healthy and diseased human lung",
          "Azimuth meta-analysis of 10 datasets of healthy and diseased human lung",
          "Azimuth meta-analysis of 10 datasets of healthy and diseased human lung",
          "Azimuth meta-analysis of 10 datasets of healthy and diseased human lung",
          "Azimuth meta-analysis of 10 datasets of healthy and diseased human lung",
          "Azimuth meta-analysis of 10 datasets of healthy and diseased human lung",
          "Azimuth meta-analysis of 10 datasets of healthy and diseased human lung",
          "Azimuth meta-analysis of 10 datasets of healthy and diseased human lung",
          "Azimuth meta-analysis of 10 datasets of healthy and diseased human lung",
          "Azimuth meta-analysis of 10 datasets of healthy and diseased human lung",
          "Azimuth meta-analysis of 10 datasets of healthy and diseased human lung",
          "Azimuth meta-analysis of 10 datasets of healthy and diseased human lung",
          "Azimuth meta-analysis of 10 datasets of healthy and diseased human lung",
          "Azimuth meta-analysis of 10 datasets of healthy and diseased human lung",
          "Azimuth meta-analysis of 10 datasets of healthy and diseased human lung"
         ],
         "type": "scatter",
         "x": [
          "2021-06-14",
          "2021-06-15",
          "2021-06-16",
          "2021-06-17",
          "2021-06-18",
          "2021-06-19",
          "2021-06-21",
          "2021-06-22",
          "2021-06-24",
          "2021-06-26",
          "2021-06-28",
          "2021-06-29",
          "2021-07-01",
          "2021-07-02",
          "2021-07-07",
          "2021-07-08",
          "2021-07-09",
          "2021-07-11",
          "2021-07-14",
          "2021-07-15",
          "2021-07-17",
          "2021-07-19",
          "2021-07-20",
          "2021-07-23",
          "2021-07-30",
          "2021-07-31",
          "2021-08-01",
          "2021-08-02",
          "2021-08-03",
          "2021-08-04",
          "2021-08-10",
          "2021-08-11",
          "2021-08-12",
          "2021-08-18"
         ],
         "y": [
          3,
          6,
          10,
          12,
          14,
          15,
          17,
          18,
          20,
          21,
          23,
          27,
          28,
          30,
          32,
          34,
          37,
          38,
          41,
          43,
          44,
          47,
          51,
          52,
          55,
          56,
          57,
          58,
          61,
          62,
          63,
          64,
          65,
          66
         ]
        },
        {
         "hovertemplate": "<i>Date</i>: %{x}<br>Downloads</i>: %{y}<br><br>%{text}</i>",
         "mode": "lines+markers",
         "text": [
          "Single cell transcriptome analysis of human pancreas reveals transcriptional signatures of aging and somatic mutation patterns",
          "Single cell transcriptome analysis of human pancreas reveals transcriptional signatures of aging and somatic mutation patterns",
          "Single cell transcriptome analysis of human pancreas reveals transcriptional signatures of aging and somatic mutation patterns",
          "Single cell transcriptome analysis of human pancreas reveals transcriptional signatures of aging and somatic mutation patterns",
          "Single cell transcriptome analysis of human pancreas reveals transcriptional signatures of aging and somatic mutation patterns",
          "Single cell transcriptome analysis of human pancreas reveals transcriptional signatures of aging and somatic mutation patterns",
          "Single cell transcriptome analysis of human pancreas reveals transcriptional signatures of aging and somatic mutation patterns",
          "Single cell transcriptome analysis of human pancreas reveals transcriptional signatures of aging and somatic mutation patterns",
          "Single cell transcriptome analysis of human pancreas reveals transcriptional signatures of aging and somatic mutation patterns",
          "Single cell transcriptome analysis of human pancreas reveals transcriptional signatures of aging and somatic mutation patterns",
          "Single cell transcriptome analysis of human pancreas reveals transcriptional signatures of aging and somatic mutation patterns",
          "Single cell transcriptome analysis of human pancreas reveals transcriptional signatures of aging and somatic mutation patterns",
          "Single cell transcriptome analysis of human pancreas reveals transcriptional signatures of aging and somatic mutation patterns",
          "Single cell transcriptome analysis of human pancreas reveals transcriptional signatures of aging and somatic mutation patterns",
          "Single cell transcriptome analysis of human pancreas reveals transcriptional signatures of aging and somatic mutation patterns",
          "Single cell transcriptome analysis of human pancreas reveals transcriptional signatures of aging and somatic mutation patterns",
          "Single cell transcriptome analysis of human pancreas reveals transcriptional signatures of aging and somatic mutation patterns",
          "Single cell transcriptome analysis of human pancreas reveals transcriptional signatures of aging and somatic mutation patterns",
          "Single cell transcriptome analysis of human pancreas reveals transcriptional signatures of aging and somatic mutation patterns",
          "Single cell transcriptome analysis of human pancreas reveals transcriptional signatures of aging and somatic mutation patterns",
          "Single cell transcriptome analysis of human pancreas reveals transcriptional signatures of aging and somatic mutation patterns",
          "Single cell transcriptome analysis of human pancreas reveals transcriptional signatures of aging and somatic mutation patterns",
          "Single cell transcriptome analysis of human pancreas reveals transcriptional signatures of aging and somatic mutation patterns",
          "Single cell transcriptome analysis of human pancreas reveals transcriptional signatures of aging and somatic mutation patterns",
          "Single cell transcriptome analysis of human pancreas reveals transcriptional signatures of aging and somatic mutation patterns",
          "Single cell transcriptome analysis of human pancreas reveals transcriptional signatures of aging and somatic mutation patterns",
          "Single cell transcriptome analysis of human pancreas reveals transcriptional signatures of aging and somatic mutation patterns",
          "Single cell transcriptome analysis of human pancreas reveals transcriptional signatures of aging and somatic mutation patterns",
          "Single cell transcriptome analysis of human pancreas reveals transcriptional signatures of aging and somatic mutation patterns",
          "Single cell transcriptome analysis of human pancreas reveals transcriptional signatures of aging and somatic mutation patterns",
          "Single cell transcriptome analysis of human pancreas reveals transcriptional signatures of aging and somatic mutation patterns",
          "Single cell transcriptome analysis of human pancreas reveals transcriptional signatures of aging and somatic mutation patterns",
          "Single cell transcriptome analysis of human pancreas reveals transcriptional signatures of aging and somatic mutation patterns",
          "Single cell transcriptome analysis of human pancreas reveals transcriptional signatures of aging and somatic mutation patterns",
          "Single cell transcriptome analysis of human pancreas reveals transcriptional signatures of aging and somatic mutation patterns",
          "Single cell transcriptome analysis of human pancreas reveals transcriptional signatures of aging and somatic mutation patterns",
          "Single cell transcriptome analysis of human pancreas reveals transcriptional signatures of aging and somatic mutation patterns",
          "Single cell transcriptome analysis of human pancreas reveals transcriptional signatures of aging and somatic mutation patterns",
          "Single cell transcriptome analysis of human pancreas reveals transcriptional signatures of aging and somatic mutation patterns"
         ],
         "type": "scatter",
         "x": [
          "2021-05-20",
          "2021-05-23",
          "2021-05-24",
          "2021-05-25",
          "2021-05-26",
          "2021-05-27",
          "2021-05-28",
          "2021-05-29",
          "2021-05-30",
          "2021-05-31",
          "2021-06-04",
          "2021-06-05",
          "2021-06-06",
          "2021-06-08",
          "2021-06-09",
          "2021-06-10",
          "2021-06-15",
          "2021-06-17",
          "2021-06-19",
          "2021-06-20",
          "2021-06-21",
          "2021-06-28",
          "2021-07-07",
          "2021-07-08",
          "2021-07-09",
          "2021-07-12",
          "2021-07-13",
          "2021-07-14",
          "2021-07-16",
          "2021-07-17",
          "2021-07-19",
          "2021-07-20",
          "2021-07-21",
          "2021-07-23",
          "2021-07-28",
          "2021-07-30",
          "2021-07-31",
          "2021-08-03",
          "2021-08-05"
         ],
         "y": [
          2,
          3,
          4,
          5,
          12,
          17,
          22,
          23,
          24,
          25,
          27,
          29,
          30,
          31,
          32,
          33,
          34,
          35,
          37,
          38,
          40,
          41,
          44,
          45,
          48,
          49,
          50,
          52,
          53,
          54,
          55,
          56,
          57,
          58,
          60,
          61,
          63,
          64,
          65
         ]
        },
        {
         "hovertemplate": "<i>Date</i>: %{x}<br>Downloads</i>: %{y}<br><br>%{text}</i>",
         "mode": "lines+markers",
         "text": [
          "Single cell transcriptional and chromatin accessibility profiling redefine cellular heterogeneity in the adult human kidney - RNAseq",
          "Single cell transcriptional and chromatin accessibility profiling redefine cellular heterogeneity in the adult human kidney - RNAseq",
          "Single cell transcriptional and chromatin accessibility profiling redefine cellular heterogeneity in the adult human kidney - RNAseq",
          "Single cell transcriptional and chromatin accessibility profiling redefine cellular heterogeneity in the adult human kidney - RNAseq",
          "Single cell transcriptional and chromatin accessibility profiling redefine cellular heterogeneity in the adult human kidney - RNAseq",
          "Single cell transcriptional and chromatin accessibility profiling redefine cellular heterogeneity in the adult human kidney - RNAseq",
          "Single cell transcriptional and chromatin accessibility profiling redefine cellular heterogeneity in the adult human kidney - RNAseq",
          "Single cell transcriptional and chromatin accessibility profiling redefine cellular heterogeneity in the adult human kidney - RNAseq",
          "Single cell transcriptional and chromatin accessibility profiling redefine cellular heterogeneity in the adult human kidney - RNAseq",
          "Single cell transcriptional and chromatin accessibility profiling redefine cellular heterogeneity in the adult human kidney - RNAseq",
          "Single cell transcriptional and chromatin accessibility profiling redefine cellular heterogeneity in the adult human kidney - RNAseq",
          "Single cell transcriptional and chromatin accessibility profiling redefine cellular heterogeneity in the adult human kidney - RNAseq",
          "Single cell transcriptional and chromatin accessibility profiling redefine cellular heterogeneity in the adult human kidney - RNAseq",
          "Single cell transcriptional and chromatin accessibility profiling redefine cellular heterogeneity in the adult human kidney - RNAseq",
          "Single cell transcriptional and chromatin accessibility profiling redefine cellular heterogeneity in the adult human kidney - RNAseq",
          "Single cell transcriptional and chromatin accessibility profiling redefine cellular heterogeneity in the adult human kidney - RNAseq",
          "Single cell transcriptional and chromatin accessibility profiling redefine cellular heterogeneity in the adult human kidney - RNAseq",
          "Single cell transcriptional and chromatin accessibility profiling redefine cellular heterogeneity in the adult human kidney - RNAseq",
          "Single cell transcriptional and chromatin accessibility profiling redefine cellular heterogeneity in the adult human kidney - RNAseq",
          "Single cell transcriptional and chromatin accessibility profiling redefine cellular heterogeneity in the adult human kidney - RNAseq",
          "Single cell transcriptional and chromatin accessibility profiling redefine cellular heterogeneity in the adult human kidney - RNAseq",
          "Single cell transcriptional and chromatin accessibility profiling redefine cellular heterogeneity in the adult human kidney - RNAseq",
          "Single cell transcriptional and chromatin accessibility profiling redefine cellular heterogeneity in the adult human kidney - RNAseq",
          "Single cell transcriptional and chromatin accessibility profiling redefine cellular heterogeneity in the adult human kidney - RNAseq",
          "Single cell transcriptional and chromatin accessibility profiling redefine cellular heterogeneity in the adult human kidney - RNAseq",
          "Single cell transcriptional and chromatin accessibility profiling redefine cellular heterogeneity in the adult human kidney - RNAseq",
          "Single cell transcriptional and chromatin accessibility profiling redefine cellular heterogeneity in the adult human kidney - RNAseq",
          "Single cell transcriptional and chromatin accessibility profiling redefine cellular heterogeneity in the adult human kidney - RNAseq",
          "Single cell transcriptional and chromatin accessibility profiling redefine cellular heterogeneity in the adult human kidney - RNAseq",
          "Single cell transcriptional and chromatin accessibility profiling redefine cellular heterogeneity in the adult human kidney - RNAseq",
          "Single cell transcriptional and chromatin accessibility profiling redefine cellular heterogeneity in the adult human kidney - RNAseq",
          "Single cell transcriptional and chromatin accessibility profiling redefine cellular heterogeneity in the adult human kidney - RNAseq",
          "Single cell transcriptional and chromatin accessibility profiling redefine cellular heterogeneity in the adult human kidney - RNAseq",
          "Single cell transcriptional and chromatin accessibility profiling redefine cellular heterogeneity in the adult human kidney - RNAseq",
          "Single cell transcriptional and chromatin accessibility profiling redefine cellular heterogeneity in the adult human kidney - RNAseq",
          "Single cell transcriptional and chromatin accessibility profiling redefine cellular heterogeneity in the adult human kidney - RNAseq",
          "Single cell transcriptional and chromatin accessibility profiling redefine cellular heterogeneity in the adult human kidney - RNAseq",
          "Single cell transcriptional and chromatin accessibility profiling redefine cellular heterogeneity in the adult human kidney - RNAseq",
          "Single cell transcriptional and chromatin accessibility profiling redefine cellular heterogeneity in the adult human kidney - RNAseq",
          "Single cell transcriptional and chromatin accessibility profiling redefine cellular heterogeneity in the adult human kidney - RNAseq",
          "Single cell transcriptional and chromatin accessibility profiling redefine cellular heterogeneity in the adult human kidney - RNAseq",
          "Single cell transcriptional and chromatin accessibility profiling redefine cellular heterogeneity in the adult human kidney - RNAseq"
         ],
         "type": "scatter",
         "x": [
          "2021-04-26",
          "2021-04-28",
          "2021-04-29",
          "2021-05-03",
          "2021-05-04",
          "2021-05-05",
          "2021-05-10",
          "2021-05-11",
          "2021-05-14",
          "2021-05-18",
          "2021-05-19",
          "2021-05-21",
          "2021-05-26",
          "2021-05-27",
          "2021-05-28",
          "2021-06-04",
          "2021-06-05",
          "2021-06-09",
          "2021-06-15",
          "2021-06-18",
          "2021-06-21",
          "2021-06-25",
          "2021-06-29",
          "2021-07-05",
          "2021-07-06",
          "2021-07-07",
          "2021-07-09",
          "2021-07-14",
          "2021-07-15",
          "2021-07-17",
          "2021-07-19",
          "2021-07-23",
          "2021-07-24",
          "2021-07-28",
          "2021-07-29",
          "2021-07-30",
          "2021-07-31",
          "2021-08-11",
          "2021-08-12",
          "2021-08-13",
          "2021-08-16",
          "2021-08-17"
         ],
         "y": [
          1,
          3,
          4,
          5,
          6,
          7,
          8,
          9,
          10,
          11,
          12,
          13,
          15,
          16,
          20,
          21,
          23,
          24,
          25,
          26,
          28,
          29,
          31,
          32,
          34,
          35,
          37,
          38,
          40,
          42,
          44,
          45,
          46,
          49,
          52,
          53,
          54,
          56,
          57,
          58,
          59,
          60
         ]
        },
        {
         "hovertemplate": "<i>Date</i>: %{x}<br>Downloads</i>: %{y}<br><br>%{text}</i>",
         "mode": "lines+markers",
         "text": [
          "Time-resolved Systems Immunology Reveals a Late Juncture Linked to Fatal COVID-19: Adaptive Cells",
          "Time-resolved Systems Immunology Reveals a Late Juncture Linked to Fatal COVID-19: Adaptive Cells",
          "Time-resolved Systems Immunology Reveals a Late Juncture Linked to Fatal COVID-19: Adaptive Cells",
          "Time-resolved Systems Immunology Reveals a Late Juncture Linked to Fatal COVID-19: Adaptive Cells",
          "Time-resolved Systems Immunology Reveals a Late Juncture Linked to Fatal COVID-19: Adaptive Cells",
          "Time-resolved Systems Immunology Reveals a Late Juncture Linked to Fatal COVID-19: Adaptive Cells",
          "Time-resolved Systems Immunology Reveals a Late Juncture Linked to Fatal COVID-19: Adaptive Cells",
          "Time-resolved Systems Immunology Reveals a Late Juncture Linked to Fatal COVID-19: Adaptive Cells",
          "Time-resolved Systems Immunology Reveals a Late Juncture Linked to Fatal COVID-19: Adaptive Cells",
          "Time-resolved Systems Immunology Reveals a Late Juncture Linked to Fatal COVID-19: Adaptive Cells",
          "Time-resolved Systems Immunology Reveals a Late Juncture Linked to Fatal COVID-19: Adaptive Cells",
          "Time-resolved Systems Immunology Reveals a Late Juncture Linked to Fatal COVID-19: Adaptive Cells",
          "Time-resolved Systems Immunology Reveals a Late Juncture Linked to Fatal COVID-19: Adaptive Cells",
          "Time-resolved Systems Immunology Reveals a Late Juncture Linked to Fatal COVID-19: Adaptive Cells",
          "Time-resolved Systems Immunology Reveals a Late Juncture Linked to Fatal COVID-19: Adaptive Cells",
          "Time-resolved Systems Immunology Reveals a Late Juncture Linked to Fatal COVID-19: Adaptive Cells",
          "Time-resolved Systems Immunology Reveals a Late Juncture Linked to Fatal COVID-19: Adaptive Cells",
          "Time-resolved Systems Immunology Reveals a Late Juncture Linked to Fatal COVID-19: Adaptive Cells",
          "Time-resolved Systems Immunology Reveals a Late Juncture Linked to Fatal COVID-19: Adaptive Cells",
          "Time-resolved Systems Immunology Reveals a Late Juncture Linked to Fatal COVID-19: Adaptive Cells",
          "Time-resolved Systems Immunology Reveals a Late Juncture Linked to Fatal COVID-19: Adaptive Cells",
          "Time-resolved Systems Immunology Reveals a Late Juncture Linked to Fatal COVID-19: Adaptive Cells",
          "Time-resolved Systems Immunology Reveals a Late Juncture Linked to Fatal COVID-19: Adaptive Cells",
          "Time-resolved Systems Immunology Reveals a Late Juncture Linked to Fatal COVID-19: Adaptive Cells",
          "Time-resolved Systems Immunology Reveals a Late Juncture Linked to Fatal COVID-19: Adaptive Cells",
          "Time-resolved Systems Immunology Reveals a Late Juncture Linked to Fatal COVID-19: Adaptive Cells",
          "Time-resolved Systems Immunology Reveals a Late Juncture Linked to Fatal COVID-19: Adaptive Cells",
          "Time-resolved Systems Immunology Reveals a Late Juncture Linked to Fatal COVID-19: Adaptive Cells",
          "Time-resolved Systems Immunology Reveals a Late Juncture Linked to Fatal COVID-19: Adaptive Cells",
          "Time-resolved Systems Immunology Reveals a Late Juncture Linked to Fatal COVID-19: Adaptive Cells",
          "Time-resolved Systems Immunology Reveals a Late Juncture Linked to Fatal COVID-19: Adaptive Cells",
          "Time-resolved Systems Immunology Reveals a Late Juncture Linked to Fatal COVID-19: Adaptive Cells",
          "Time-resolved Systems Immunology Reveals a Late Juncture Linked to Fatal COVID-19: Adaptive Cells",
          "Time-resolved Systems Immunology Reveals a Late Juncture Linked to Fatal COVID-19: Adaptive Cells"
         ],
         "type": "scatter",
         "x": [
          "2021-04-23",
          "2021-04-24",
          "2021-04-27",
          "2021-04-28",
          "2021-05-05",
          "2021-05-13",
          "2021-05-19",
          "2021-05-22",
          "2021-05-23",
          "2021-05-28",
          "2021-06-01",
          "2021-06-04",
          "2021-06-05",
          "2021-06-08",
          "2021-06-10",
          "2021-06-11",
          "2021-06-15",
          "2021-06-18",
          "2021-06-21",
          "2021-06-23",
          "2021-06-24",
          "2021-06-30",
          "2021-07-01",
          "2021-07-07",
          "2021-07-09",
          "2021-07-12",
          "2021-07-13",
          "2021-07-14",
          "2021-07-18",
          "2021-07-23",
          "2021-07-29",
          "2021-07-30",
          "2021-08-07",
          "2021-08-13"
         ],
         "y": [
          1,
          2,
          4,
          6,
          7,
          8,
          9,
          10,
          11,
          12,
          15,
          16,
          17,
          18,
          23,
          24,
          26,
          27,
          32,
          33,
          34,
          35,
          38,
          40,
          42,
          43,
          45,
          47,
          48,
          49,
          50,
          51,
          52,
          53
         ]
        },
        {
         "hovertemplate": "<i>Date</i>: %{x}<br>Downloads</i>: %{y}<br><br>%{text}</i>",
         "mode": "lines+markers",
         "text": [
          "Single cell transcriptional and chromatin accessibility profiling redefine cellular heterogeneity in the adult human kidney - ATACseq",
          "Single cell transcriptional and chromatin accessibility profiling redefine cellular heterogeneity in the adult human kidney - ATACseq",
          "Single cell transcriptional and chromatin accessibility profiling redefine cellular heterogeneity in the adult human kidney - ATACseq",
          "Single cell transcriptional and chromatin accessibility profiling redefine cellular heterogeneity in the adult human kidney - ATACseq",
          "Single cell transcriptional and chromatin accessibility profiling redefine cellular heterogeneity in the adult human kidney - ATACseq",
          "Single cell transcriptional and chromatin accessibility profiling redefine cellular heterogeneity in the adult human kidney - ATACseq",
          "Single cell transcriptional and chromatin accessibility profiling redefine cellular heterogeneity in the adult human kidney - ATACseq",
          "Single cell transcriptional and chromatin accessibility profiling redefine cellular heterogeneity in the adult human kidney - ATACseq",
          "Single cell transcriptional and chromatin accessibility profiling redefine cellular heterogeneity in the adult human kidney - ATACseq",
          "Single cell transcriptional and chromatin accessibility profiling redefine cellular heterogeneity in the adult human kidney - ATACseq",
          "Single cell transcriptional and chromatin accessibility profiling redefine cellular heterogeneity in the adult human kidney - ATACseq",
          "Single cell transcriptional and chromatin accessibility profiling redefine cellular heterogeneity in the adult human kidney - ATACseq",
          "Single cell transcriptional and chromatin accessibility profiling redefine cellular heterogeneity in the adult human kidney - ATACseq",
          "Single cell transcriptional and chromatin accessibility profiling redefine cellular heterogeneity in the adult human kidney - ATACseq",
          "Single cell transcriptional and chromatin accessibility profiling redefine cellular heterogeneity in the adult human kidney - ATACseq",
          "Single cell transcriptional and chromatin accessibility profiling redefine cellular heterogeneity in the adult human kidney - ATACseq",
          "Single cell transcriptional and chromatin accessibility profiling redefine cellular heterogeneity in the adult human kidney - ATACseq",
          "Single cell transcriptional and chromatin accessibility profiling redefine cellular heterogeneity in the adult human kidney - ATACseq",
          "Single cell transcriptional and chromatin accessibility profiling redefine cellular heterogeneity in the adult human kidney - ATACseq",
          "Single cell transcriptional and chromatin accessibility profiling redefine cellular heterogeneity in the adult human kidney - ATACseq",
          "Single cell transcriptional and chromatin accessibility profiling redefine cellular heterogeneity in the adult human kidney - ATACseq",
          "Single cell transcriptional and chromatin accessibility profiling redefine cellular heterogeneity in the adult human kidney - ATACseq",
          "Single cell transcriptional and chromatin accessibility profiling redefine cellular heterogeneity in the adult human kidney - ATACseq",
          "Single cell transcriptional and chromatin accessibility profiling redefine cellular heterogeneity in the adult human kidney - ATACseq",
          "Single cell transcriptional and chromatin accessibility profiling redefine cellular heterogeneity in the adult human kidney - ATACseq",
          "Single cell transcriptional and chromatin accessibility profiling redefine cellular heterogeneity in the adult human kidney - ATACseq",
          "Single cell transcriptional and chromatin accessibility profiling redefine cellular heterogeneity in the adult human kidney - ATACseq",
          "Single cell transcriptional and chromatin accessibility profiling redefine cellular heterogeneity in the adult human kidney - ATACseq",
          "Single cell transcriptional and chromatin accessibility profiling redefine cellular heterogeneity in the adult human kidney - ATACseq",
          "Single cell transcriptional and chromatin accessibility profiling redefine cellular heterogeneity in the adult human kidney - ATACseq",
          "Single cell transcriptional and chromatin accessibility profiling redefine cellular heterogeneity in the adult human kidney - ATACseq",
          "Single cell transcriptional and chromatin accessibility profiling redefine cellular heterogeneity in the adult human kidney - ATACseq",
          "Single cell transcriptional and chromatin accessibility profiling redefine cellular heterogeneity in the adult human kidney - ATACseq",
          "Single cell transcriptional and chromatin accessibility profiling redefine cellular heterogeneity in the adult human kidney - ATACseq",
          "Single cell transcriptional and chromatin accessibility profiling redefine cellular heterogeneity in the adult human kidney - ATACseq"
         ],
         "type": "scatter",
         "x": [
          "2021-04-29",
          "2021-05-03",
          "2021-05-04",
          "2021-05-06",
          "2021-05-14",
          "2021-05-18",
          "2021-05-19",
          "2021-05-24",
          "2021-05-26",
          "2021-05-27",
          "2021-05-28",
          "2021-06-04",
          "2021-06-05",
          "2021-06-07",
          "2021-06-09",
          "2021-06-12",
          "2021-06-15",
          "2021-06-18",
          "2021-06-25",
          "2021-07-05",
          "2021-07-06",
          "2021-07-09",
          "2021-07-14",
          "2021-07-15",
          "2021-07-16",
          "2021-07-17",
          "2021-07-19",
          "2021-07-23",
          "2021-07-26",
          "2021-07-28",
          "2021-07-30",
          "2021-08-09",
          "2021-08-11",
          "2021-08-12",
          "2021-08-13"
         ],
         "y": [
          1,
          2,
          4,
          5,
          6,
          7,
          8,
          10,
          11,
          12,
          15,
          16,
          18,
          19,
          20,
          22,
          23,
          24,
          25,
          26,
          28,
          30,
          31,
          33,
          34,
          36,
          38,
          39,
          40,
          41,
          42,
          43,
          44,
          46,
          47
         ]
        },
        {
         "hovertemplate": "<i>Date</i>: %{x}<br>Downloads</i>: %{y}<br><br>%{text}</i>",
         "mode": "lines+markers",
         "text": [
          "Tabula Sapiens - Endothelial",
          "Tabula Sapiens - Endothelial",
          "Tabula Sapiens - Endothelial",
          "Tabula Sapiens - Endothelial",
          "Tabula Sapiens - Endothelial",
          "Tabula Sapiens - Endothelial",
          "Tabula Sapiens - Endothelial",
          "Tabula Sapiens - Endothelial",
          "Tabula Sapiens - Endothelial",
          "Tabula Sapiens - Endothelial",
          "Tabula Sapiens - Endothelial"
         ],
         "type": "scatter",
         "x": [
          "2021-07-20",
          "2021-07-22",
          "2021-07-23",
          "2021-07-26",
          "2021-07-28",
          "2021-07-30",
          "2021-08-02",
          "2021-08-04",
          "2021-08-05",
          "2021-08-11",
          "2021-08-15"
         ],
         "y": [
          1,
          2,
          4,
          5,
          6,
          8,
          9,
          10,
          11,
          12,
          13
         ]
        },
        {
         "hovertemplate": "<i>Date</i>: %{x}<br>Downloads</i>: %{y}<br><br>%{text}</i>",
         "mode": "lines+markers",
         "text": [
          "Large-scale single-cell analysis reveals critical immune characteristics of COVID-19 patients",
          "Large-scale single-cell analysis reveals critical immune characteristics of COVID-19 patients",
          "Large-scale single-cell analysis reveals critical immune characteristics of COVID-19 patients",
          "Large-scale single-cell analysis reveals critical immune characteristics of COVID-19 patients",
          "Large-scale single-cell analysis reveals critical immune characteristics of COVID-19 patients",
          "Large-scale single-cell analysis reveals critical immune characteristics of COVID-19 patients",
          "Large-scale single-cell analysis reveals critical immune characteristics of COVID-19 patients",
          "Large-scale single-cell analysis reveals critical immune characteristics of COVID-19 patients",
          "Large-scale single-cell analysis reveals critical immune characteristics of COVID-19 patients",
          "Large-scale single-cell analysis reveals critical immune characteristics of COVID-19 patients",
          "Large-scale single-cell analysis reveals critical immune characteristics of COVID-19 patients",
          "Large-scale single-cell analysis reveals critical immune characteristics of COVID-19 patients",
          "Large-scale single-cell analysis reveals critical immune characteristics of COVID-19 patients",
          "Large-scale single-cell analysis reveals critical immune characteristics of COVID-19 patients",
          "Large-scale single-cell analysis reveals critical immune characteristics of COVID-19 patients",
          "Large-scale single-cell analysis reveals critical immune characteristics of COVID-19 patients"
         ],
         "type": "scatter",
         "x": [
          "2021-06-08",
          "2021-06-14",
          "2021-06-15",
          "2021-06-20",
          "2021-06-21",
          "2021-07-02",
          "2021-07-07",
          "2021-07-09",
          "2021-07-14",
          "2021-07-18",
          "2021-07-20",
          "2021-07-23",
          "2021-07-30",
          "2021-08-03",
          "2021-08-04",
          "2021-08-09"
         ],
         "y": [
          1,
          4,
          5,
          6,
          11,
          12,
          13,
          16,
          18,
          19,
          20,
          21,
          22,
          24,
          26,
          27
         ]
        },
        {
         "hovertemplate": "<i>Date</i>: %{x}<br>Downloads</i>: %{y}<br><br>%{text}</i>",
         "mode": "lines+markers",
         "text": [
          "Tabula Sapiens - Immune",
          "Tabula Sapiens - Immune",
          "Tabula Sapiens - Immune",
          "Tabula Sapiens - Immune",
          "Tabula Sapiens - Immune",
          "Tabula Sapiens - Immune",
          "Tabula Sapiens - Immune",
          "Tabula Sapiens - Immune"
         ],
         "type": "scatter",
         "x": [
          "2021-07-19",
          "2021-07-20",
          "2021-07-23",
          "2021-07-28",
          "2021-07-30",
          "2021-08-02",
          "2021-08-04",
          "2021-08-05"
         ],
         "y": [
          2,
          3,
          6,
          7,
          9,
          10,
          11,
          12
         ]
        },
        {
         "hovertemplate": "<i>Date</i>: %{x}<br>Downloads</i>: %{y}<br><br>%{text}</i>",
         "mode": "lines+markers",
         "text": [
          "Tabula Sapiens - Stromal",
          "Tabula Sapiens - Stromal",
          "Tabula Sapiens - Stromal",
          "Tabula Sapiens - Stromal",
          "Tabula Sapiens - Stromal",
          "Tabula Sapiens - Stromal",
          "Tabula Sapiens - Stromal",
          "Tabula Sapiens - Stromal",
          "Tabula Sapiens - Stromal"
         ],
         "type": "scatter",
         "x": [
          "2021-07-19",
          "2021-07-20",
          "2021-07-23",
          "2021-07-27",
          "2021-07-28",
          "2021-07-30",
          "2021-08-02",
          "2021-08-04",
          "2021-08-05"
         ],
         "y": [
          1,
          2,
          5,
          6,
          7,
          8,
          9,
          11,
          12
         ]
        }
       ],
       "layout": {
        "showlegend": false,
        "template": {
         "data": {
          "bar": [
           {
            "error_x": {
             "color": "#2a3f5f"
            },
            "error_y": {
             "color": "#2a3f5f"
            },
            "marker": {
             "line": {
              "color": "#E5ECF6",
              "width": 0.5
             },
             "pattern": {
              "fillmode": "overlay",
              "size": 10,
              "solidity": 0.2
             }
            },
            "type": "bar"
           }
          ],
          "barpolar": [
           {
            "marker": {
             "line": {
              "color": "#E5ECF6",
              "width": 0.5
             },
             "pattern": {
              "fillmode": "overlay",
              "size": 10,
              "solidity": 0.2
             }
            },
            "type": "barpolar"
           }
          ],
          "carpet": [
           {
            "aaxis": {
             "endlinecolor": "#2a3f5f",
             "gridcolor": "white",
             "linecolor": "white",
             "minorgridcolor": "white",
             "startlinecolor": "#2a3f5f"
            },
            "baxis": {
             "endlinecolor": "#2a3f5f",
             "gridcolor": "white",
             "linecolor": "white",
             "minorgridcolor": "white",
             "startlinecolor": "#2a3f5f"
            },
            "type": "carpet"
           }
          ],
          "choropleth": [
           {
            "colorbar": {
             "outlinewidth": 0,
             "ticks": ""
            },
            "type": "choropleth"
           }
          ],
          "contour": [
           {
            "colorbar": {
             "outlinewidth": 0,
             "ticks": ""
            },
            "colorscale": [
             [
              0,
              "#0d0887"
             ],
             [
              0.1111111111111111,
              "#46039f"
             ],
             [
              0.2222222222222222,
              "#7201a8"
             ],
             [
              0.3333333333333333,
              "#9c179e"
             ],
             [
              0.4444444444444444,
              "#bd3786"
             ],
             [
              0.5555555555555556,
              "#d8576b"
             ],
             [
              0.6666666666666666,
              "#ed7953"
             ],
             [
              0.7777777777777778,
              "#fb9f3a"
             ],
             [
              0.8888888888888888,
              "#fdca26"
             ],
             [
              1,
              "#f0f921"
             ]
            ],
            "type": "contour"
           }
          ],
          "contourcarpet": [
           {
            "colorbar": {
             "outlinewidth": 0,
             "ticks": ""
            },
            "type": "contourcarpet"
           }
          ],
          "heatmap": [
           {
            "colorbar": {
             "outlinewidth": 0,
             "ticks": ""
            },
            "colorscale": [
             [
              0,
              "#0d0887"
             ],
             [
              0.1111111111111111,
              "#46039f"
             ],
             [
              0.2222222222222222,
              "#7201a8"
             ],
             [
              0.3333333333333333,
              "#9c179e"
             ],
             [
              0.4444444444444444,
              "#bd3786"
             ],
             [
              0.5555555555555556,
              "#d8576b"
             ],
             [
              0.6666666666666666,
              "#ed7953"
             ],
             [
              0.7777777777777778,
              "#fb9f3a"
             ],
             [
              0.8888888888888888,
              "#fdca26"
             ],
             [
              1,
              "#f0f921"
             ]
            ],
            "type": "heatmap"
           }
          ],
          "heatmapgl": [
           {
            "colorbar": {
             "outlinewidth": 0,
             "ticks": ""
            },
            "colorscale": [
             [
              0,
              "#0d0887"
             ],
             [
              0.1111111111111111,
              "#46039f"
             ],
             [
              0.2222222222222222,
              "#7201a8"
             ],
             [
              0.3333333333333333,
              "#9c179e"
             ],
             [
              0.4444444444444444,
              "#bd3786"
             ],
             [
              0.5555555555555556,
              "#d8576b"
             ],
             [
              0.6666666666666666,
              "#ed7953"
             ],
             [
              0.7777777777777778,
              "#fb9f3a"
             ],
             [
              0.8888888888888888,
              "#fdca26"
             ],
             [
              1,
              "#f0f921"
             ]
            ],
            "type": "heatmapgl"
           }
          ],
          "histogram": [
           {
            "marker": {
             "pattern": {
              "fillmode": "overlay",
              "size": 10,
              "solidity": 0.2
             }
            },
            "type": "histogram"
           }
          ],
          "histogram2d": [
           {
            "colorbar": {
             "outlinewidth": 0,
             "ticks": ""
            },
            "colorscale": [
             [
              0,
              "#0d0887"
             ],
             [
              0.1111111111111111,
              "#46039f"
             ],
             [
              0.2222222222222222,
              "#7201a8"
             ],
             [
              0.3333333333333333,
              "#9c179e"
             ],
             [
              0.4444444444444444,
              "#bd3786"
             ],
             [
              0.5555555555555556,
              "#d8576b"
             ],
             [
              0.6666666666666666,
              "#ed7953"
             ],
             [
              0.7777777777777778,
              "#fb9f3a"
             ],
             [
              0.8888888888888888,
              "#fdca26"
             ],
             [
              1,
              "#f0f921"
             ]
            ],
            "type": "histogram2d"
           }
          ],
          "histogram2dcontour": [
           {
            "colorbar": {
             "outlinewidth": 0,
             "ticks": ""
            },
            "colorscale": [
             [
              0,
              "#0d0887"
             ],
             [
              0.1111111111111111,
              "#46039f"
             ],
             [
              0.2222222222222222,
              "#7201a8"
             ],
             [
              0.3333333333333333,
              "#9c179e"
             ],
             [
              0.4444444444444444,
              "#bd3786"
             ],
             [
              0.5555555555555556,
              "#d8576b"
             ],
             [
              0.6666666666666666,
              "#ed7953"
             ],
             [
              0.7777777777777778,
              "#fb9f3a"
             ],
             [
              0.8888888888888888,
              "#fdca26"
             ],
             [
              1,
              "#f0f921"
             ]
            ],
            "type": "histogram2dcontour"
           }
          ],
          "mesh3d": [
           {
            "colorbar": {
             "outlinewidth": 0,
             "ticks": ""
            },
            "type": "mesh3d"
           }
          ],
          "parcoords": [
           {
            "line": {
             "colorbar": {
              "outlinewidth": 0,
              "ticks": ""
             }
            },
            "type": "parcoords"
           }
          ],
          "pie": [
           {
            "automargin": true,
            "type": "pie"
           }
          ],
          "scatter": [
           {
            "marker": {
             "colorbar": {
              "outlinewidth": 0,
              "ticks": ""
             }
            },
            "type": "scatter"
           }
          ],
          "scatter3d": [
           {
            "line": {
             "colorbar": {
              "outlinewidth": 0,
              "ticks": ""
             }
            },
            "marker": {
             "colorbar": {
              "outlinewidth": 0,
              "ticks": ""
             }
            },
            "type": "scatter3d"
           }
          ],
          "scattercarpet": [
           {
            "marker": {
             "colorbar": {
              "outlinewidth": 0,
              "ticks": ""
             }
            },
            "type": "scattercarpet"
           }
          ],
          "scattergeo": [
           {
            "marker": {
             "colorbar": {
              "outlinewidth": 0,
              "ticks": ""
             }
            },
            "type": "scattergeo"
           }
          ],
          "scattergl": [
           {
            "marker": {
             "colorbar": {
              "outlinewidth": 0,
              "ticks": ""
             }
            },
            "type": "scattergl"
           }
          ],
          "scattermapbox": [
           {
            "marker": {
             "colorbar": {
              "outlinewidth": 0,
              "ticks": ""
             }
            },
            "type": "scattermapbox"
           }
          ],
          "scatterpolar": [
           {
            "marker": {
             "colorbar": {
              "outlinewidth": 0,
              "ticks": ""
             }
            },
            "type": "scatterpolar"
           }
          ],
          "scatterpolargl": [
           {
            "marker": {
             "colorbar": {
              "outlinewidth": 0,
              "ticks": ""
             }
            },
            "type": "scatterpolargl"
           }
          ],
          "scatterternary": [
           {
            "marker": {
             "colorbar": {
              "outlinewidth": 0,
              "ticks": ""
             }
            },
            "type": "scatterternary"
           }
          ],
          "surface": [
           {
            "colorbar": {
             "outlinewidth": 0,
             "ticks": ""
            },
            "colorscale": [
             [
              0,
              "#0d0887"
             ],
             [
              0.1111111111111111,
              "#46039f"
             ],
             [
              0.2222222222222222,
              "#7201a8"
             ],
             [
              0.3333333333333333,
              "#9c179e"
             ],
             [
              0.4444444444444444,
              "#bd3786"
             ],
             [
              0.5555555555555556,
              "#d8576b"
             ],
             [
              0.6666666666666666,
              "#ed7953"
             ],
             [
              0.7777777777777778,
              "#fb9f3a"
             ],
             [
              0.8888888888888888,
              "#fdca26"
             ],
             [
              1,
              "#f0f921"
             ]
            ],
            "type": "surface"
           }
          ],
          "table": [
           {
            "cells": {
             "fill": {
              "color": "#EBF0F8"
             },
             "line": {
              "color": "white"
             }
            },
            "header": {
             "fill": {
              "color": "#C8D4E3"
             },
             "line": {
              "color": "white"
             }
            },
            "type": "table"
           }
          ]
         },
         "layout": {
          "annotationdefaults": {
           "arrowcolor": "#2a3f5f",
           "arrowhead": 0,
           "arrowwidth": 1
          },
          "autotypenumbers": "strict",
          "coloraxis": {
           "colorbar": {
            "outlinewidth": 0,
            "ticks": ""
           }
          },
          "colorscale": {
           "diverging": [
            [
             0,
             "#8e0152"
            ],
            [
             0.1,
             "#c51b7d"
            ],
            [
             0.2,
             "#de77ae"
            ],
            [
             0.3,
             "#f1b6da"
            ],
            [
             0.4,
             "#fde0ef"
            ],
            [
             0.5,
             "#f7f7f7"
            ],
            [
             0.6,
             "#e6f5d0"
            ],
            [
             0.7,
             "#b8e186"
            ],
            [
             0.8,
             "#7fbc41"
            ],
            [
             0.9,
             "#4d9221"
            ],
            [
             1,
             "#276419"
            ]
           ],
           "sequential": [
            [
             0,
             "#0d0887"
            ],
            [
             0.1111111111111111,
             "#46039f"
            ],
            [
             0.2222222222222222,
             "#7201a8"
            ],
            [
             0.3333333333333333,
             "#9c179e"
            ],
            [
             0.4444444444444444,
             "#bd3786"
            ],
            [
             0.5555555555555556,
             "#d8576b"
            ],
            [
             0.6666666666666666,
             "#ed7953"
            ],
            [
             0.7777777777777778,
             "#fb9f3a"
            ],
            [
             0.8888888888888888,
             "#fdca26"
            ],
            [
             1,
             "#f0f921"
            ]
           ],
           "sequentialminus": [
            [
             0,
             "#0d0887"
            ],
            [
             0.1111111111111111,
             "#46039f"
            ],
            [
             0.2222222222222222,
             "#7201a8"
            ],
            [
             0.3333333333333333,
             "#9c179e"
            ],
            [
             0.4444444444444444,
             "#bd3786"
            ],
            [
             0.5555555555555556,
             "#d8576b"
            ],
            [
             0.6666666666666666,
             "#ed7953"
            ],
            [
             0.7777777777777778,
             "#fb9f3a"
            ],
            [
             0.8888888888888888,
             "#fdca26"
            ],
            [
             1,
             "#f0f921"
            ]
           ]
          },
          "colorway": [
           "#636efa",
           "#EF553B",
           "#00cc96",
           "#ab63fa",
           "#FFA15A",
           "#19d3f3",
           "#FF6692",
           "#B6E880",
           "#FF97FF",
           "#FECB52"
          ],
          "font": {
           "color": "#2a3f5f"
          },
          "geo": {
           "bgcolor": "white",
           "lakecolor": "white",
           "landcolor": "#E5ECF6",
           "showlakes": true,
           "showland": true,
           "subunitcolor": "white"
          },
          "hoverlabel": {
           "align": "left"
          },
          "hovermode": "closest",
          "mapbox": {
           "style": "light"
          },
          "paper_bgcolor": "white",
          "plot_bgcolor": "#E5ECF6",
          "polar": {
           "angularaxis": {
            "gridcolor": "white",
            "linecolor": "white",
            "ticks": ""
           },
           "bgcolor": "#E5ECF6",
           "radialaxis": {
            "gridcolor": "white",
            "linecolor": "white",
            "ticks": ""
           }
          },
          "scene": {
           "xaxis": {
            "backgroundcolor": "#E5ECF6",
            "gridcolor": "white",
            "gridwidth": 2,
            "linecolor": "white",
            "showbackground": true,
            "ticks": "",
            "zerolinecolor": "white"
           },
           "yaxis": {
            "backgroundcolor": "#E5ECF6",
            "gridcolor": "white",
            "gridwidth": 2,
            "linecolor": "white",
            "showbackground": true,
            "ticks": "",
            "zerolinecolor": "white"
           },
           "zaxis": {
            "backgroundcolor": "#E5ECF6",
            "gridcolor": "white",
            "gridwidth": 2,
            "linecolor": "white",
            "showbackground": true,
            "ticks": "",
            "zerolinecolor": "white"
           }
          },
          "shapedefaults": {
           "line": {
            "color": "#2a3f5f"
           }
          },
          "ternary": {
           "aaxis": {
            "gridcolor": "white",
            "linecolor": "white",
            "ticks": ""
           },
           "baxis": {
            "gridcolor": "white",
            "linecolor": "white",
            "ticks": ""
           },
           "bgcolor": "#E5ECF6",
           "caxis": {
            "gridcolor": "white",
            "linecolor": "white",
            "ticks": ""
           }
          },
          "title": {
           "x": 0.05
          },
          "xaxis": {
           "automargin": true,
           "gridcolor": "white",
           "linecolor": "white",
           "ticks": "",
           "title": {
            "standoff": 15
           },
           "zerolinecolor": "white",
           "zerolinewidth": 2
          },
          "yaxis": {
           "automargin": true,
           "gridcolor": "white",
           "linecolor": "white",
           "ticks": "",
           "title": {
            "standoff": 15
           },
           "zerolinecolor": "white",
           "zerolinewidth": 2
          }
         }
        },
        "title": {
         "text": "Trends of top 10 actively downloaded datasets (cumulative) - normalized"
        },
        "xaxis": {
         "title": {
          "text": "date"
         }
        },
        "yaxis": {
         "title": {
          "text": "number of downloads"
         }
        }
       }
      },
      "text/html": [
       "<div>                            <div id=\"a621ea32-52fa-419e-ad7c-1fad1ddb6f08\" class=\"plotly-graph-div\" style=\"height:525px; width:100%;\"></div>            <script type=\"text/javascript\">                require([\"plotly\"], function(Plotly) {                    window.PLOTLYENV=window.PLOTLYENV || {};                                    if (document.getElementById(\"a621ea32-52fa-419e-ad7c-1fad1ddb6f08\")) {                    Plotly.newPlot(                        \"a621ea32-52fa-419e-ad7c-1fad1ddb6f08\",                        [{\"hovertemplate\":\"<i>Date</i>: %{x}<br>Downloads</i>: %{y}<br><br>%{text}</i>\",\"mode\":\"lines+markers\",\"text\":[\"Tabula Sapiens - All Cells\",\"Tabula Sapiens - All Cells\",\"Tabula Sapiens - All Cells\",\"Tabula Sapiens - All Cells\",\"Tabula Sapiens - All Cells\",\"Tabula Sapiens - All Cells\",\"Tabula Sapiens - All Cells\",\"Tabula Sapiens - All Cells\",\"Tabula Sapiens - All Cells\",\"Tabula Sapiens - All Cells\",\"Tabula Sapiens - All Cells\",\"Tabula Sapiens - All Cells\",\"Tabula Sapiens - All Cells\",\"Tabula Sapiens - All Cells\",\"Tabula Sapiens - All Cells\"],\"type\":\"scatter\",\"x\":[\"2021-07-19\",\"2021-07-20\",\"2021-07-21\",\"2021-07-22\",\"2021-07-23\",\"2021-07-26\",\"2021-07-27\",\"2021-07-28\",\"2021-07-30\",\"2021-08-02\",\"2021-08-03\",\"2021-08-04\",\"2021-08-10\",\"2021-08-11\",\"2021-08-13\"],\"y\":[1,2,3,6,10,12,13,16,19,21,24,28,29,30,34]},{\"hovertemplate\":\"<i>Date</i>: %{x}<br>Downloads</i>: %{y}<br><br>%{text}</i>\",\"mode\":\"lines+markers\",\"text\":[\"Azimuth meta-analysis of 10 datasets of healthy and diseased human lung\",\"Azimuth meta-analysis of 10 datasets of healthy and diseased human lung\",\"Azimuth meta-analysis of 10 datasets of healthy and diseased human lung\",\"Azimuth meta-analysis of 10 datasets of healthy and diseased human lung\",\"Azimuth meta-analysis of 10 datasets of healthy and diseased human lung\",\"Azimuth meta-analysis of 10 datasets of healthy and diseased human lung\",\"Azimuth meta-analysis of 10 datasets of healthy and diseased human lung\",\"Azimuth meta-analysis of 10 datasets of healthy and diseased human lung\",\"Azimuth meta-analysis of 10 datasets of healthy and diseased human lung\",\"Azimuth meta-analysis of 10 datasets of healthy and diseased human lung\",\"Azimuth meta-analysis of 10 datasets of healthy and diseased human lung\",\"Azimuth meta-analysis of 10 datasets of healthy and diseased human lung\",\"Azimuth meta-analysis of 10 datasets of healthy and diseased human lung\",\"Azimuth meta-analysis of 10 datasets of healthy and diseased human lung\",\"Azimuth meta-analysis of 10 datasets of healthy and diseased human lung\",\"Azimuth meta-analysis of 10 datasets of healthy and diseased human lung\",\"Azimuth meta-analysis of 10 datasets of healthy and diseased human lung\",\"Azimuth meta-analysis of 10 datasets of healthy and diseased human lung\",\"Azimuth meta-analysis of 10 datasets of healthy and diseased human lung\",\"Azimuth meta-analysis of 10 datasets of healthy and diseased human lung\",\"Azimuth meta-analysis of 10 datasets of healthy and diseased human lung\",\"Azimuth meta-analysis of 10 datasets of healthy and diseased human lung\",\"Azimuth meta-analysis of 10 datasets of healthy and diseased human lung\",\"Azimuth meta-analysis of 10 datasets of healthy and diseased human lung\",\"Azimuth meta-analysis of 10 datasets of healthy and diseased human lung\",\"Azimuth meta-analysis of 10 datasets of healthy and diseased human lung\",\"Azimuth meta-analysis of 10 datasets of healthy and diseased human lung\",\"Azimuth meta-analysis of 10 datasets of healthy and diseased human lung\",\"Azimuth meta-analysis of 10 datasets of healthy and diseased human lung\",\"Azimuth meta-analysis of 10 datasets of healthy and diseased human lung\",\"Azimuth meta-analysis of 10 datasets of healthy and diseased human lung\",\"Azimuth meta-analysis of 10 datasets of healthy and diseased human lung\",\"Azimuth meta-analysis of 10 datasets of healthy and diseased human lung\",\"Azimuth meta-analysis of 10 datasets of healthy and diseased human lung\"],\"type\":\"scatter\",\"x\":[\"2021-06-14\",\"2021-06-15\",\"2021-06-16\",\"2021-06-17\",\"2021-06-18\",\"2021-06-19\",\"2021-06-21\",\"2021-06-22\",\"2021-06-24\",\"2021-06-26\",\"2021-06-28\",\"2021-06-29\",\"2021-07-01\",\"2021-07-02\",\"2021-07-07\",\"2021-07-08\",\"2021-07-09\",\"2021-07-11\",\"2021-07-14\",\"2021-07-15\",\"2021-07-17\",\"2021-07-19\",\"2021-07-20\",\"2021-07-23\",\"2021-07-30\",\"2021-07-31\",\"2021-08-01\",\"2021-08-02\",\"2021-08-03\",\"2021-08-04\",\"2021-08-10\",\"2021-08-11\",\"2021-08-12\",\"2021-08-18\"],\"y\":[3,6,10,12,14,15,17,18,20,21,23,27,28,30,32,34,37,38,41,43,44,47,51,52,55,56,57,58,61,62,63,64,65,66]},{\"hovertemplate\":\"<i>Date</i>: %{x}<br>Downloads</i>: %{y}<br><br>%{text}</i>\",\"mode\":\"lines+markers\",\"text\":[\"Single cell transcriptome analysis of human pancreas reveals transcriptional signatures of aging and somatic mutation patterns\",\"Single cell transcriptome analysis of human pancreas reveals transcriptional signatures of aging and somatic mutation patterns\",\"Single cell transcriptome analysis of human pancreas reveals transcriptional signatures of aging and somatic mutation patterns\",\"Single cell transcriptome analysis of human pancreas reveals transcriptional signatures of aging and somatic mutation patterns\",\"Single cell transcriptome analysis of human pancreas reveals transcriptional signatures of aging and somatic mutation patterns\",\"Single cell transcriptome analysis of human pancreas reveals transcriptional signatures of aging and somatic mutation patterns\",\"Single cell transcriptome analysis of human pancreas reveals transcriptional signatures of aging and somatic mutation patterns\",\"Single cell transcriptome analysis of human pancreas reveals transcriptional signatures of aging and somatic mutation patterns\",\"Single cell transcriptome analysis of human pancreas reveals transcriptional signatures of aging and somatic mutation patterns\",\"Single cell transcriptome analysis of human pancreas reveals transcriptional signatures of aging and somatic mutation patterns\",\"Single cell transcriptome analysis of human pancreas reveals transcriptional signatures of aging and somatic mutation patterns\",\"Single cell transcriptome analysis of human pancreas reveals transcriptional signatures of aging and somatic mutation patterns\",\"Single cell transcriptome analysis of human pancreas reveals transcriptional signatures of aging and somatic mutation patterns\",\"Single cell transcriptome analysis of human pancreas reveals transcriptional signatures of aging and somatic mutation patterns\",\"Single cell transcriptome analysis of human pancreas reveals transcriptional signatures of aging and somatic mutation patterns\",\"Single cell transcriptome analysis of human pancreas reveals transcriptional signatures of aging and somatic mutation patterns\",\"Single cell transcriptome analysis of human pancreas reveals transcriptional signatures of aging and somatic mutation patterns\",\"Single cell transcriptome analysis of human pancreas reveals transcriptional signatures of aging and somatic mutation patterns\",\"Single cell transcriptome analysis of human pancreas reveals transcriptional signatures of aging and somatic mutation patterns\",\"Single cell transcriptome analysis of human pancreas reveals transcriptional signatures of aging and somatic mutation patterns\",\"Single cell transcriptome analysis of human pancreas reveals transcriptional signatures of aging and somatic mutation patterns\",\"Single cell transcriptome analysis of human pancreas reveals transcriptional signatures of aging and somatic mutation patterns\",\"Single cell transcriptome analysis of human pancreas reveals transcriptional signatures of aging and somatic mutation patterns\",\"Single cell transcriptome analysis of human pancreas reveals transcriptional signatures of aging and somatic mutation patterns\",\"Single cell transcriptome analysis of human pancreas reveals transcriptional signatures of aging and somatic mutation patterns\",\"Single cell transcriptome analysis of human pancreas reveals transcriptional signatures of aging and somatic mutation patterns\",\"Single cell transcriptome analysis of human pancreas reveals transcriptional signatures of aging and somatic mutation patterns\",\"Single cell transcriptome analysis of human pancreas reveals transcriptional signatures of aging and somatic mutation patterns\",\"Single cell transcriptome analysis of human pancreas reveals transcriptional signatures of aging and somatic mutation patterns\",\"Single cell transcriptome analysis of human pancreas reveals transcriptional signatures of aging and somatic mutation patterns\",\"Single cell transcriptome analysis of human pancreas reveals transcriptional signatures of aging and somatic mutation patterns\",\"Single cell transcriptome analysis of human pancreas reveals transcriptional signatures of aging and somatic mutation patterns\",\"Single cell transcriptome analysis of human pancreas reveals transcriptional signatures of aging and somatic mutation patterns\",\"Single cell transcriptome analysis of human pancreas reveals transcriptional signatures of aging and somatic mutation patterns\",\"Single cell transcriptome analysis of human pancreas reveals transcriptional signatures of aging and somatic mutation patterns\",\"Single cell transcriptome analysis of human pancreas reveals transcriptional signatures of aging and somatic mutation patterns\",\"Single cell transcriptome analysis of human pancreas reveals transcriptional signatures of aging and somatic mutation patterns\",\"Single cell transcriptome analysis of human pancreas reveals transcriptional signatures of aging and somatic mutation patterns\",\"Single cell transcriptome analysis of human pancreas reveals transcriptional signatures of aging and somatic mutation patterns\"],\"type\":\"scatter\",\"x\":[\"2021-05-20\",\"2021-05-23\",\"2021-05-24\",\"2021-05-25\",\"2021-05-26\",\"2021-05-27\",\"2021-05-28\",\"2021-05-29\",\"2021-05-30\",\"2021-05-31\",\"2021-06-04\",\"2021-06-05\",\"2021-06-06\",\"2021-06-08\",\"2021-06-09\",\"2021-06-10\",\"2021-06-15\",\"2021-06-17\",\"2021-06-19\",\"2021-06-20\",\"2021-06-21\",\"2021-06-28\",\"2021-07-07\",\"2021-07-08\",\"2021-07-09\",\"2021-07-12\",\"2021-07-13\",\"2021-07-14\",\"2021-07-16\",\"2021-07-17\",\"2021-07-19\",\"2021-07-20\",\"2021-07-21\",\"2021-07-23\",\"2021-07-28\",\"2021-07-30\",\"2021-07-31\",\"2021-08-03\",\"2021-08-05\"],\"y\":[2,3,4,5,12,17,22,23,24,25,27,29,30,31,32,33,34,35,37,38,40,41,44,45,48,49,50,52,53,54,55,56,57,58,60,61,63,64,65]},{\"hovertemplate\":\"<i>Date</i>: %{x}<br>Downloads</i>: %{y}<br><br>%{text}</i>\",\"mode\":\"lines+markers\",\"text\":[\"Single cell transcriptional and chromatin accessibility profiling redefine cellular heterogeneity in the adult human kidney - RNAseq\",\"Single cell transcriptional and chromatin accessibility profiling redefine cellular heterogeneity in the adult human kidney - RNAseq\",\"Single cell transcriptional and chromatin accessibility profiling redefine cellular heterogeneity in the adult human kidney - RNAseq\",\"Single cell transcriptional and chromatin accessibility profiling redefine cellular heterogeneity in the adult human kidney - RNAseq\",\"Single cell transcriptional and chromatin accessibility profiling redefine cellular heterogeneity in the adult human kidney - RNAseq\",\"Single cell transcriptional and chromatin accessibility profiling redefine cellular heterogeneity in the adult human kidney - RNAseq\",\"Single cell transcriptional and chromatin accessibility profiling redefine cellular heterogeneity in the adult human kidney - RNAseq\",\"Single cell transcriptional and chromatin accessibility profiling redefine cellular heterogeneity in the adult human kidney - RNAseq\",\"Single cell transcriptional and chromatin accessibility profiling redefine cellular heterogeneity in the adult human kidney - RNAseq\",\"Single cell transcriptional and chromatin accessibility profiling redefine cellular heterogeneity in the adult human kidney - RNAseq\",\"Single cell transcriptional and chromatin accessibility profiling redefine cellular heterogeneity in the adult human kidney - RNAseq\",\"Single cell transcriptional and chromatin accessibility profiling redefine cellular heterogeneity in the adult human kidney - RNAseq\",\"Single cell transcriptional and chromatin accessibility profiling redefine cellular heterogeneity in the adult human kidney - RNAseq\",\"Single cell transcriptional and chromatin accessibility profiling redefine cellular heterogeneity in the adult human kidney - RNAseq\",\"Single cell transcriptional and chromatin accessibility profiling redefine cellular heterogeneity in the adult human kidney - RNAseq\",\"Single cell transcriptional and chromatin accessibility profiling redefine cellular heterogeneity in the adult human kidney - RNAseq\",\"Single cell transcriptional and chromatin accessibility profiling redefine cellular heterogeneity in the adult human kidney - RNAseq\",\"Single cell transcriptional and chromatin accessibility profiling redefine cellular heterogeneity in the adult human kidney - RNAseq\",\"Single cell transcriptional and chromatin accessibility profiling redefine cellular heterogeneity in the adult human kidney - RNAseq\",\"Single cell transcriptional and chromatin accessibility profiling redefine cellular heterogeneity in the adult human kidney - RNAseq\",\"Single cell transcriptional and chromatin accessibility profiling redefine cellular heterogeneity in the adult human kidney - RNAseq\",\"Single cell transcriptional and chromatin accessibility profiling redefine cellular heterogeneity in the adult human kidney - RNAseq\",\"Single cell transcriptional and chromatin accessibility profiling redefine cellular heterogeneity in the adult human kidney - RNAseq\",\"Single cell transcriptional and chromatin accessibility profiling redefine cellular heterogeneity in the adult human kidney - RNAseq\",\"Single cell transcriptional and chromatin accessibility profiling redefine cellular heterogeneity in the adult human kidney - RNAseq\",\"Single cell transcriptional and chromatin accessibility profiling redefine cellular heterogeneity in the adult human kidney - RNAseq\",\"Single cell transcriptional and chromatin accessibility profiling redefine cellular heterogeneity in the adult human kidney - RNAseq\",\"Single cell transcriptional and chromatin accessibility profiling redefine cellular heterogeneity in the adult human kidney - RNAseq\",\"Single cell transcriptional and chromatin accessibility profiling redefine cellular heterogeneity in the adult human kidney - RNAseq\",\"Single cell transcriptional and chromatin accessibility profiling redefine cellular heterogeneity in the adult human kidney - RNAseq\",\"Single cell transcriptional and chromatin accessibility profiling redefine cellular heterogeneity in the adult human kidney - RNAseq\",\"Single cell transcriptional and chromatin accessibility profiling redefine cellular heterogeneity in the adult human kidney - RNAseq\",\"Single cell transcriptional and chromatin accessibility profiling redefine cellular heterogeneity in the adult human kidney - RNAseq\",\"Single cell transcriptional and chromatin accessibility profiling redefine cellular heterogeneity in the adult human kidney - RNAseq\",\"Single cell transcriptional and chromatin accessibility profiling redefine cellular heterogeneity in the adult human kidney - RNAseq\",\"Single cell transcriptional and chromatin accessibility profiling redefine cellular heterogeneity in the adult human kidney - RNAseq\",\"Single cell transcriptional and chromatin accessibility profiling redefine cellular heterogeneity in the adult human kidney - RNAseq\",\"Single cell transcriptional and chromatin accessibility profiling redefine cellular heterogeneity in the adult human kidney - RNAseq\",\"Single cell transcriptional and chromatin accessibility profiling redefine cellular heterogeneity in the adult human kidney - RNAseq\",\"Single cell transcriptional and chromatin accessibility profiling redefine cellular heterogeneity in the adult human kidney - RNAseq\",\"Single cell transcriptional and chromatin accessibility profiling redefine cellular heterogeneity in the adult human kidney - RNAseq\",\"Single cell transcriptional and chromatin accessibility profiling redefine cellular heterogeneity in the adult human kidney - RNAseq\"],\"type\":\"scatter\",\"x\":[\"2021-04-26\",\"2021-04-28\",\"2021-04-29\",\"2021-05-03\",\"2021-05-04\",\"2021-05-05\",\"2021-05-10\",\"2021-05-11\",\"2021-05-14\",\"2021-05-18\",\"2021-05-19\",\"2021-05-21\",\"2021-05-26\",\"2021-05-27\",\"2021-05-28\",\"2021-06-04\",\"2021-06-05\",\"2021-06-09\",\"2021-06-15\",\"2021-06-18\",\"2021-06-21\",\"2021-06-25\",\"2021-06-29\",\"2021-07-05\",\"2021-07-06\",\"2021-07-07\",\"2021-07-09\",\"2021-07-14\",\"2021-07-15\",\"2021-07-17\",\"2021-07-19\",\"2021-07-23\",\"2021-07-24\",\"2021-07-28\",\"2021-07-29\",\"2021-07-30\",\"2021-07-31\",\"2021-08-11\",\"2021-08-12\",\"2021-08-13\",\"2021-08-16\",\"2021-08-17\"],\"y\":[1,3,4,5,6,7,8,9,10,11,12,13,15,16,20,21,23,24,25,26,28,29,31,32,34,35,37,38,40,42,44,45,46,49,52,53,54,56,57,58,59,60]},{\"hovertemplate\":\"<i>Date</i>: %{x}<br>Downloads</i>: %{y}<br><br>%{text}</i>\",\"mode\":\"lines+markers\",\"text\":[\"Time-resolved Systems Immunology Reveals a Late Juncture Linked to Fatal COVID-19: Adaptive Cells\",\"Time-resolved Systems Immunology Reveals a Late Juncture Linked to Fatal COVID-19: Adaptive Cells\",\"Time-resolved Systems Immunology Reveals a Late Juncture Linked to Fatal COVID-19: Adaptive Cells\",\"Time-resolved Systems Immunology Reveals a Late Juncture Linked to Fatal COVID-19: Adaptive Cells\",\"Time-resolved Systems Immunology Reveals a Late Juncture Linked to Fatal COVID-19: Adaptive Cells\",\"Time-resolved Systems Immunology Reveals a Late Juncture Linked to Fatal COVID-19: Adaptive Cells\",\"Time-resolved Systems Immunology Reveals a Late Juncture Linked to Fatal COVID-19: Adaptive Cells\",\"Time-resolved Systems Immunology Reveals a Late Juncture Linked to Fatal COVID-19: Adaptive Cells\",\"Time-resolved Systems Immunology Reveals a Late Juncture Linked to Fatal COVID-19: Adaptive Cells\",\"Time-resolved Systems Immunology Reveals a Late Juncture Linked to Fatal COVID-19: Adaptive Cells\",\"Time-resolved Systems Immunology Reveals a Late Juncture Linked to Fatal COVID-19: Adaptive Cells\",\"Time-resolved Systems Immunology Reveals a Late Juncture Linked to Fatal COVID-19: Adaptive Cells\",\"Time-resolved Systems Immunology Reveals a Late Juncture Linked to Fatal COVID-19: Adaptive Cells\",\"Time-resolved Systems Immunology Reveals a Late Juncture Linked to Fatal COVID-19: Adaptive Cells\",\"Time-resolved Systems Immunology Reveals a Late Juncture Linked to Fatal COVID-19: Adaptive Cells\",\"Time-resolved Systems Immunology Reveals a Late Juncture Linked to Fatal COVID-19: Adaptive Cells\",\"Time-resolved Systems Immunology Reveals a Late Juncture Linked to Fatal COVID-19: Adaptive Cells\",\"Time-resolved Systems Immunology Reveals a Late Juncture Linked to Fatal COVID-19: Adaptive Cells\",\"Time-resolved Systems Immunology Reveals a Late Juncture Linked to Fatal COVID-19: Adaptive Cells\",\"Time-resolved Systems Immunology Reveals a Late Juncture Linked to Fatal COVID-19: Adaptive Cells\",\"Time-resolved Systems Immunology Reveals a Late Juncture Linked to Fatal COVID-19: Adaptive Cells\",\"Time-resolved Systems Immunology Reveals a Late Juncture Linked to Fatal COVID-19: Adaptive Cells\",\"Time-resolved Systems Immunology Reveals a Late Juncture Linked to Fatal COVID-19: Adaptive Cells\",\"Time-resolved Systems Immunology Reveals a Late Juncture Linked to Fatal COVID-19: Adaptive Cells\",\"Time-resolved Systems Immunology Reveals a Late Juncture Linked to Fatal COVID-19: Adaptive Cells\",\"Time-resolved Systems Immunology Reveals a Late Juncture Linked to Fatal COVID-19: Adaptive Cells\",\"Time-resolved Systems Immunology Reveals a Late Juncture Linked to Fatal COVID-19: Adaptive Cells\",\"Time-resolved Systems Immunology Reveals a Late Juncture Linked to Fatal COVID-19: Adaptive Cells\",\"Time-resolved Systems Immunology Reveals a Late Juncture Linked to Fatal COVID-19: Adaptive Cells\",\"Time-resolved Systems Immunology Reveals a Late Juncture Linked to Fatal COVID-19: Adaptive Cells\",\"Time-resolved Systems Immunology Reveals a Late Juncture Linked to Fatal COVID-19: Adaptive Cells\",\"Time-resolved Systems Immunology Reveals a Late Juncture Linked to Fatal COVID-19: Adaptive Cells\",\"Time-resolved Systems Immunology Reveals a Late Juncture Linked to Fatal COVID-19: Adaptive Cells\",\"Time-resolved Systems Immunology Reveals a Late Juncture Linked to Fatal COVID-19: Adaptive Cells\"],\"type\":\"scatter\",\"x\":[\"2021-04-23\",\"2021-04-24\",\"2021-04-27\",\"2021-04-28\",\"2021-05-05\",\"2021-05-13\",\"2021-05-19\",\"2021-05-22\",\"2021-05-23\",\"2021-05-28\",\"2021-06-01\",\"2021-06-04\",\"2021-06-05\",\"2021-06-08\",\"2021-06-10\",\"2021-06-11\",\"2021-06-15\",\"2021-06-18\",\"2021-06-21\",\"2021-06-23\",\"2021-06-24\",\"2021-06-30\",\"2021-07-01\",\"2021-07-07\",\"2021-07-09\",\"2021-07-12\",\"2021-07-13\",\"2021-07-14\",\"2021-07-18\",\"2021-07-23\",\"2021-07-29\",\"2021-07-30\",\"2021-08-07\",\"2021-08-13\"],\"y\":[1,2,4,6,7,8,9,10,11,12,15,16,17,18,23,24,26,27,32,33,34,35,38,40,42,43,45,47,48,49,50,51,52,53]},{\"hovertemplate\":\"<i>Date</i>: %{x}<br>Downloads</i>: %{y}<br><br>%{text}</i>\",\"mode\":\"lines+markers\",\"text\":[\"Single cell transcriptional and chromatin accessibility profiling redefine cellular heterogeneity in the adult human kidney - ATACseq\",\"Single cell transcriptional and chromatin accessibility profiling redefine cellular heterogeneity in the adult human kidney - ATACseq\",\"Single cell transcriptional and chromatin accessibility profiling redefine cellular heterogeneity in the adult human kidney - ATACseq\",\"Single cell transcriptional and chromatin accessibility profiling redefine cellular heterogeneity in the adult human kidney - ATACseq\",\"Single cell transcriptional and chromatin accessibility profiling redefine cellular heterogeneity in the adult human kidney - ATACseq\",\"Single cell transcriptional and chromatin accessibility profiling redefine cellular heterogeneity in the adult human kidney - ATACseq\",\"Single cell transcriptional and chromatin accessibility profiling redefine cellular heterogeneity in the adult human kidney - ATACseq\",\"Single cell transcriptional and chromatin accessibility profiling redefine cellular heterogeneity in the adult human kidney - ATACseq\",\"Single cell transcriptional and chromatin accessibility profiling redefine cellular heterogeneity in the adult human kidney - ATACseq\",\"Single cell transcriptional and chromatin accessibility profiling redefine cellular heterogeneity in the adult human kidney - ATACseq\",\"Single cell transcriptional and chromatin accessibility profiling redefine cellular heterogeneity in the adult human kidney - ATACseq\",\"Single cell transcriptional and chromatin accessibility profiling redefine cellular heterogeneity in the adult human kidney - ATACseq\",\"Single cell transcriptional and chromatin accessibility profiling redefine cellular heterogeneity in the adult human kidney - ATACseq\",\"Single cell transcriptional and chromatin accessibility profiling redefine cellular heterogeneity in the adult human kidney - ATACseq\",\"Single cell transcriptional and chromatin accessibility profiling redefine cellular heterogeneity in the adult human kidney - ATACseq\",\"Single cell transcriptional and chromatin accessibility profiling redefine cellular heterogeneity in the adult human kidney - ATACseq\",\"Single cell transcriptional and chromatin accessibility profiling redefine cellular heterogeneity in the adult human kidney - ATACseq\",\"Single cell transcriptional and chromatin accessibility profiling redefine cellular heterogeneity in the adult human kidney - ATACseq\",\"Single cell transcriptional and chromatin accessibility profiling redefine cellular heterogeneity in the adult human kidney - ATACseq\",\"Single cell transcriptional and chromatin accessibility profiling redefine cellular heterogeneity in the adult human kidney - ATACseq\",\"Single cell transcriptional and chromatin accessibility profiling redefine cellular heterogeneity in the adult human kidney - ATACseq\",\"Single cell transcriptional and chromatin accessibility profiling redefine cellular heterogeneity in the adult human kidney - ATACseq\",\"Single cell transcriptional and chromatin accessibility profiling redefine cellular heterogeneity in the adult human kidney - ATACseq\",\"Single cell transcriptional and chromatin accessibility profiling redefine cellular heterogeneity in the adult human kidney - ATACseq\",\"Single cell transcriptional and chromatin accessibility profiling redefine cellular heterogeneity in the adult human kidney - ATACseq\",\"Single cell transcriptional and chromatin accessibility profiling redefine cellular heterogeneity in the adult human kidney - ATACseq\",\"Single cell transcriptional and chromatin accessibility profiling redefine cellular heterogeneity in the adult human kidney - ATACseq\",\"Single cell transcriptional and chromatin accessibility profiling redefine cellular heterogeneity in the adult human kidney - ATACseq\",\"Single cell transcriptional and chromatin accessibility profiling redefine cellular heterogeneity in the adult human kidney - ATACseq\",\"Single cell transcriptional and chromatin accessibility profiling redefine cellular heterogeneity in the adult human kidney - ATACseq\",\"Single cell transcriptional and chromatin accessibility profiling redefine cellular heterogeneity in the adult human kidney - ATACseq\",\"Single cell transcriptional and chromatin accessibility profiling redefine cellular heterogeneity in the adult human kidney - ATACseq\",\"Single cell transcriptional and chromatin accessibility profiling redefine cellular heterogeneity in the adult human kidney - ATACseq\",\"Single cell transcriptional and chromatin accessibility profiling redefine cellular heterogeneity in the adult human kidney - ATACseq\",\"Single cell transcriptional and chromatin accessibility profiling redefine cellular heterogeneity in the adult human kidney - ATACseq\"],\"type\":\"scatter\",\"x\":[\"2021-04-29\",\"2021-05-03\",\"2021-05-04\",\"2021-05-06\",\"2021-05-14\",\"2021-05-18\",\"2021-05-19\",\"2021-05-24\",\"2021-05-26\",\"2021-05-27\",\"2021-05-28\",\"2021-06-04\",\"2021-06-05\",\"2021-06-07\",\"2021-06-09\",\"2021-06-12\",\"2021-06-15\",\"2021-06-18\",\"2021-06-25\",\"2021-07-05\",\"2021-07-06\",\"2021-07-09\",\"2021-07-14\",\"2021-07-15\",\"2021-07-16\",\"2021-07-17\",\"2021-07-19\",\"2021-07-23\",\"2021-07-26\",\"2021-07-28\",\"2021-07-30\",\"2021-08-09\",\"2021-08-11\",\"2021-08-12\",\"2021-08-13\"],\"y\":[1,2,4,5,6,7,8,10,11,12,15,16,18,19,20,22,23,24,25,26,28,30,31,33,34,36,38,39,40,41,42,43,44,46,47]},{\"hovertemplate\":\"<i>Date</i>: %{x}<br>Downloads</i>: %{y}<br><br>%{text}</i>\",\"mode\":\"lines+markers\",\"text\":[\"Tabula Sapiens - Endothelial\",\"Tabula Sapiens - Endothelial\",\"Tabula Sapiens - Endothelial\",\"Tabula Sapiens - Endothelial\",\"Tabula Sapiens - Endothelial\",\"Tabula Sapiens - Endothelial\",\"Tabula Sapiens - Endothelial\",\"Tabula Sapiens - Endothelial\",\"Tabula Sapiens - Endothelial\",\"Tabula Sapiens - Endothelial\",\"Tabula Sapiens - Endothelial\"],\"type\":\"scatter\",\"x\":[\"2021-07-20\",\"2021-07-22\",\"2021-07-23\",\"2021-07-26\",\"2021-07-28\",\"2021-07-30\",\"2021-08-02\",\"2021-08-04\",\"2021-08-05\",\"2021-08-11\",\"2021-08-15\"],\"y\":[1,2,4,5,6,8,9,10,11,12,13]},{\"hovertemplate\":\"<i>Date</i>: %{x}<br>Downloads</i>: %{y}<br><br>%{text}</i>\",\"mode\":\"lines+markers\",\"text\":[\"Large-scale single-cell analysis reveals critical immune characteristics of COVID-19 patients\",\"Large-scale single-cell analysis reveals critical immune characteristics of COVID-19 patients\",\"Large-scale single-cell analysis reveals critical immune characteristics of COVID-19 patients\",\"Large-scale single-cell analysis reveals critical immune characteristics of COVID-19 patients\",\"Large-scale single-cell analysis reveals critical immune characteristics of COVID-19 patients\",\"Large-scale single-cell analysis reveals critical immune characteristics of COVID-19 patients\",\"Large-scale single-cell analysis reveals critical immune characteristics of COVID-19 patients\",\"Large-scale single-cell analysis reveals critical immune characteristics of COVID-19 patients\",\"Large-scale single-cell analysis reveals critical immune characteristics of COVID-19 patients\",\"Large-scale single-cell analysis reveals critical immune characteristics of COVID-19 patients\",\"Large-scale single-cell analysis reveals critical immune characteristics of COVID-19 patients\",\"Large-scale single-cell analysis reveals critical immune characteristics of COVID-19 patients\",\"Large-scale single-cell analysis reveals critical immune characteristics of COVID-19 patients\",\"Large-scale single-cell analysis reveals critical immune characteristics of COVID-19 patients\",\"Large-scale single-cell analysis reveals critical immune characteristics of COVID-19 patients\",\"Large-scale single-cell analysis reveals critical immune characteristics of COVID-19 patients\"],\"type\":\"scatter\",\"x\":[\"2021-06-08\",\"2021-06-14\",\"2021-06-15\",\"2021-06-20\",\"2021-06-21\",\"2021-07-02\",\"2021-07-07\",\"2021-07-09\",\"2021-07-14\",\"2021-07-18\",\"2021-07-20\",\"2021-07-23\",\"2021-07-30\",\"2021-08-03\",\"2021-08-04\",\"2021-08-09\"],\"y\":[1,4,5,6,11,12,13,16,18,19,20,21,22,24,26,27]},{\"hovertemplate\":\"<i>Date</i>: %{x}<br>Downloads</i>: %{y}<br><br>%{text}</i>\",\"mode\":\"lines+markers\",\"text\":[\"Tabula Sapiens - Immune\",\"Tabula Sapiens - Immune\",\"Tabula Sapiens - Immune\",\"Tabula Sapiens - Immune\",\"Tabula Sapiens - Immune\",\"Tabula Sapiens - Immune\",\"Tabula Sapiens - Immune\",\"Tabula Sapiens - Immune\"],\"type\":\"scatter\",\"x\":[\"2021-07-19\",\"2021-07-20\",\"2021-07-23\",\"2021-07-28\",\"2021-07-30\",\"2021-08-02\",\"2021-08-04\",\"2021-08-05\"],\"y\":[2,3,6,7,9,10,11,12]},{\"hovertemplate\":\"<i>Date</i>: %{x}<br>Downloads</i>: %{y}<br><br>%{text}</i>\",\"mode\":\"lines+markers\",\"text\":[\"Tabula Sapiens - Stromal\",\"Tabula Sapiens - Stromal\",\"Tabula Sapiens - Stromal\",\"Tabula Sapiens - Stromal\",\"Tabula Sapiens - Stromal\",\"Tabula Sapiens - Stromal\",\"Tabula Sapiens - Stromal\",\"Tabula Sapiens - Stromal\",\"Tabula Sapiens - Stromal\"],\"type\":\"scatter\",\"x\":[\"2021-07-19\",\"2021-07-20\",\"2021-07-23\",\"2021-07-27\",\"2021-07-28\",\"2021-07-30\",\"2021-08-02\",\"2021-08-04\",\"2021-08-05\"],\"y\":[1,2,5,6,7,8,9,11,12]}],                        {\"showlegend\":false,\"template\":{\"data\":{\"bar\":[{\"error_x\":{\"color\":\"#2a3f5f\"},\"error_y\":{\"color\":\"#2a3f5f\"},\"marker\":{\"line\":{\"color\":\"#E5ECF6\",\"width\":0.5},\"pattern\":{\"fillmode\":\"overlay\",\"size\":10,\"solidity\":0.2}},\"type\":\"bar\"}],\"barpolar\":[{\"marker\":{\"line\":{\"color\":\"#E5ECF6\",\"width\":0.5},\"pattern\":{\"fillmode\":\"overlay\",\"size\":10,\"solidity\":0.2}},\"type\":\"barpolar\"}],\"carpet\":[{\"aaxis\":{\"endlinecolor\":\"#2a3f5f\",\"gridcolor\":\"white\",\"linecolor\":\"white\",\"minorgridcolor\":\"white\",\"startlinecolor\":\"#2a3f5f\"},\"baxis\":{\"endlinecolor\":\"#2a3f5f\",\"gridcolor\":\"white\",\"linecolor\":\"white\",\"minorgridcolor\":\"white\",\"startlinecolor\":\"#2a3f5f\"},\"type\":\"carpet\"}],\"choropleth\":[{\"colorbar\":{\"outlinewidth\":0,\"ticks\":\"\"},\"type\":\"choropleth\"}],\"contour\":[{\"colorbar\":{\"outlinewidth\":0,\"ticks\":\"\"},\"colorscale\":[[0.0,\"#0d0887\"],[0.1111111111111111,\"#46039f\"],[0.2222222222222222,\"#7201a8\"],[0.3333333333333333,\"#9c179e\"],[0.4444444444444444,\"#bd3786\"],[0.5555555555555556,\"#d8576b\"],[0.6666666666666666,\"#ed7953\"],[0.7777777777777778,\"#fb9f3a\"],[0.8888888888888888,\"#fdca26\"],[1.0,\"#f0f921\"]],\"type\":\"contour\"}],\"contourcarpet\":[{\"colorbar\":{\"outlinewidth\":0,\"ticks\":\"\"},\"type\":\"contourcarpet\"}],\"heatmap\":[{\"colorbar\":{\"outlinewidth\":0,\"ticks\":\"\"},\"colorscale\":[[0.0,\"#0d0887\"],[0.1111111111111111,\"#46039f\"],[0.2222222222222222,\"#7201a8\"],[0.3333333333333333,\"#9c179e\"],[0.4444444444444444,\"#bd3786\"],[0.5555555555555556,\"#d8576b\"],[0.6666666666666666,\"#ed7953\"],[0.7777777777777778,\"#fb9f3a\"],[0.8888888888888888,\"#fdca26\"],[1.0,\"#f0f921\"]],\"type\":\"heatmap\"}],\"heatmapgl\":[{\"colorbar\":{\"outlinewidth\":0,\"ticks\":\"\"},\"colorscale\":[[0.0,\"#0d0887\"],[0.1111111111111111,\"#46039f\"],[0.2222222222222222,\"#7201a8\"],[0.3333333333333333,\"#9c179e\"],[0.4444444444444444,\"#bd3786\"],[0.5555555555555556,\"#d8576b\"],[0.6666666666666666,\"#ed7953\"],[0.7777777777777778,\"#fb9f3a\"],[0.8888888888888888,\"#fdca26\"],[1.0,\"#f0f921\"]],\"type\":\"heatmapgl\"}],\"histogram\":[{\"marker\":{\"pattern\":{\"fillmode\":\"overlay\",\"size\":10,\"solidity\":0.2}},\"type\":\"histogram\"}],\"histogram2d\":[{\"colorbar\":{\"outlinewidth\":0,\"ticks\":\"\"},\"colorscale\":[[0.0,\"#0d0887\"],[0.1111111111111111,\"#46039f\"],[0.2222222222222222,\"#7201a8\"],[0.3333333333333333,\"#9c179e\"],[0.4444444444444444,\"#bd3786\"],[0.5555555555555556,\"#d8576b\"],[0.6666666666666666,\"#ed7953\"],[0.7777777777777778,\"#fb9f3a\"],[0.8888888888888888,\"#fdca26\"],[1.0,\"#f0f921\"]],\"type\":\"histogram2d\"}],\"histogram2dcontour\":[{\"colorbar\":{\"outlinewidth\":0,\"ticks\":\"\"},\"colorscale\":[[0.0,\"#0d0887\"],[0.1111111111111111,\"#46039f\"],[0.2222222222222222,\"#7201a8\"],[0.3333333333333333,\"#9c179e\"],[0.4444444444444444,\"#bd3786\"],[0.5555555555555556,\"#d8576b\"],[0.6666666666666666,\"#ed7953\"],[0.7777777777777778,\"#fb9f3a\"],[0.8888888888888888,\"#fdca26\"],[1.0,\"#f0f921\"]],\"type\":\"histogram2dcontour\"}],\"mesh3d\":[{\"colorbar\":{\"outlinewidth\":0,\"ticks\":\"\"},\"type\":\"mesh3d\"}],\"parcoords\":[{\"line\":{\"colorbar\":{\"outlinewidth\":0,\"ticks\":\"\"}},\"type\":\"parcoords\"}],\"pie\":[{\"automargin\":true,\"type\":\"pie\"}],\"scatter\":[{\"marker\":{\"colorbar\":{\"outlinewidth\":0,\"ticks\":\"\"}},\"type\":\"scatter\"}],\"scatter3d\":[{\"line\":{\"colorbar\":{\"outlinewidth\":0,\"ticks\":\"\"}},\"marker\":{\"colorbar\":{\"outlinewidth\":0,\"ticks\":\"\"}},\"type\":\"scatter3d\"}],\"scattercarpet\":[{\"marker\":{\"colorbar\":{\"outlinewidth\":0,\"ticks\":\"\"}},\"type\":\"scattercarpet\"}],\"scattergeo\":[{\"marker\":{\"colorbar\":{\"outlinewidth\":0,\"ticks\":\"\"}},\"type\":\"scattergeo\"}],\"scattergl\":[{\"marker\":{\"colorbar\":{\"outlinewidth\":0,\"ticks\":\"\"}},\"type\":\"scattergl\"}],\"scattermapbox\":[{\"marker\":{\"colorbar\":{\"outlinewidth\":0,\"ticks\":\"\"}},\"type\":\"scattermapbox\"}],\"scatterpolar\":[{\"marker\":{\"colorbar\":{\"outlinewidth\":0,\"ticks\":\"\"}},\"type\":\"scatterpolar\"}],\"scatterpolargl\":[{\"marker\":{\"colorbar\":{\"outlinewidth\":0,\"ticks\":\"\"}},\"type\":\"scatterpolargl\"}],\"scatterternary\":[{\"marker\":{\"colorbar\":{\"outlinewidth\":0,\"ticks\":\"\"}},\"type\":\"scatterternary\"}],\"surface\":[{\"colorbar\":{\"outlinewidth\":0,\"ticks\":\"\"},\"colorscale\":[[0.0,\"#0d0887\"],[0.1111111111111111,\"#46039f\"],[0.2222222222222222,\"#7201a8\"],[0.3333333333333333,\"#9c179e\"],[0.4444444444444444,\"#bd3786\"],[0.5555555555555556,\"#d8576b\"],[0.6666666666666666,\"#ed7953\"],[0.7777777777777778,\"#fb9f3a\"],[0.8888888888888888,\"#fdca26\"],[1.0,\"#f0f921\"]],\"type\":\"surface\"}],\"table\":[{\"cells\":{\"fill\":{\"color\":\"#EBF0F8\"},\"line\":{\"color\":\"white\"}},\"header\":{\"fill\":{\"color\":\"#C8D4E3\"},\"line\":{\"color\":\"white\"}},\"type\":\"table\"}]},\"layout\":{\"annotationdefaults\":{\"arrowcolor\":\"#2a3f5f\",\"arrowhead\":0,\"arrowwidth\":1},\"autotypenumbers\":\"strict\",\"coloraxis\":{\"colorbar\":{\"outlinewidth\":0,\"ticks\":\"\"}},\"colorscale\":{\"diverging\":[[0,\"#8e0152\"],[0.1,\"#c51b7d\"],[0.2,\"#de77ae\"],[0.3,\"#f1b6da\"],[0.4,\"#fde0ef\"],[0.5,\"#f7f7f7\"],[0.6,\"#e6f5d0\"],[0.7,\"#b8e186\"],[0.8,\"#7fbc41\"],[0.9,\"#4d9221\"],[1,\"#276419\"]],\"sequential\":[[0.0,\"#0d0887\"],[0.1111111111111111,\"#46039f\"],[0.2222222222222222,\"#7201a8\"],[0.3333333333333333,\"#9c179e\"],[0.4444444444444444,\"#bd3786\"],[0.5555555555555556,\"#d8576b\"],[0.6666666666666666,\"#ed7953\"],[0.7777777777777778,\"#fb9f3a\"],[0.8888888888888888,\"#fdca26\"],[1.0,\"#f0f921\"]],\"sequentialminus\":[[0.0,\"#0d0887\"],[0.1111111111111111,\"#46039f\"],[0.2222222222222222,\"#7201a8\"],[0.3333333333333333,\"#9c179e\"],[0.4444444444444444,\"#bd3786\"],[0.5555555555555556,\"#d8576b\"],[0.6666666666666666,\"#ed7953\"],[0.7777777777777778,\"#fb9f3a\"],[0.8888888888888888,\"#fdca26\"],[1.0,\"#f0f921\"]]},\"colorway\":[\"#636efa\",\"#EF553B\",\"#00cc96\",\"#ab63fa\",\"#FFA15A\",\"#19d3f3\",\"#FF6692\",\"#B6E880\",\"#FF97FF\",\"#FECB52\"],\"font\":{\"color\":\"#2a3f5f\"},\"geo\":{\"bgcolor\":\"white\",\"lakecolor\":\"white\",\"landcolor\":\"#E5ECF6\",\"showlakes\":true,\"showland\":true,\"subunitcolor\":\"white\"},\"hoverlabel\":{\"align\":\"left\"},\"hovermode\":\"closest\",\"mapbox\":{\"style\":\"light\"},\"paper_bgcolor\":\"white\",\"plot_bgcolor\":\"#E5ECF6\",\"polar\":{\"angularaxis\":{\"gridcolor\":\"white\",\"linecolor\":\"white\",\"ticks\":\"\"},\"bgcolor\":\"#E5ECF6\",\"radialaxis\":{\"gridcolor\":\"white\",\"linecolor\":\"white\",\"ticks\":\"\"}},\"scene\":{\"xaxis\":{\"backgroundcolor\":\"#E5ECF6\",\"gridcolor\":\"white\",\"gridwidth\":2,\"linecolor\":\"white\",\"showbackground\":true,\"ticks\":\"\",\"zerolinecolor\":\"white\"},\"yaxis\":{\"backgroundcolor\":\"#E5ECF6\",\"gridcolor\":\"white\",\"gridwidth\":2,\"linecolor\":\"white\",\"showbackground\":true,\"ticks\":\"\",\"zerolinecolor\":\"white\"},\"zaxis\":{\"backgroundcolor\":\"#E5ECF6\",\"gridcolor\":\"white\",\"gridwidth\":2,\"linecolor\":\"white\",\"showbackground\":true,\"ticks\":\"\",\"zerolinecolor\":\"white\"}},\"shapedefaults\":{\"line\":{\"color\":\"#2a3f5f\"}},\"ternary\":{\"aaxis\":{\"gridcolor\":\"white\",\"linecolor\":\"white\",\"ticks\":\"\"},\"baxis\":{\"gridcolor\":\"white\",\"linecolor\":\"white\",\"ticks\":\"\"},\"bgcolor\":\"#E5ECF6\",\"caxis\":{\"gridcolor\":\"white\",\"linecolor\":\"white\",\"ticks\":\"\"}},\"title\":{\"x\":0.05},\"xaxis\":{\"automargin\":true,\"gridcolor\":\"white\",\"linecolor\":\"white\",\"ticks\":\"\",\"title\":{\"standoff\":15},\"zerolinecolor\":\"white\",\"zerolinewidth\":2},\"yaxis\":{\"automargin\":true,\"gridcolor\":\"white\",\"linecolor\":\"white\",\"ticks\":\"\",\"title\":{\"standoff\":15},\"zerolinecolor\":\"white\",\"zerolinewidth\":2}}},\"title\":{\"text\":\"Trends of top 10 actively downloaded datasets (cumulative) - normalized\"},\"xaxis\":{\"title\":{\"text\":\"date\"}},\"yaxis\":{\"title\":{\"text\":\"number of downloads\"}}},                        {\"responsive\": true}                    ).then(function(){\n",
       "                            \n",
       "var gd = document.getElementById('a621ea32-52fa-419e-ad7c-1fad1ddb6f08');\n",
       "var x = new MutationObserver(function (mutations, observer) {{\n",
       "        var display = window.getComputedStyle(gd).display;\n",
       "        if (!display || display === 'none') {{\n",
       "            console.log([gd, 'removed!']);\n",
       "            Plotly.purge(gd);\n",
       "            observer.disconnect();\n",
       "        }}\n",
       "}});\n",
       "\n",
       "// Listen for the removal of the full notebook cells\n",
       "var notebookContainer = gd.closest('#notebook-container');\n",
       "if (notebookContainer) {{\n",
       "    x.observe(notebookContainer, {childList: true});\n",
       "}}\n",
       "\n",
       "// Listen for the clearing of the current output cell\n",
       "var outputEl = gd.closest('.output');\n",
       "if (outputEl) {{\n",
       "    x.observe(outputEl, {childList: true});\n",
       "}}\n",
       "\n",
       "                        })                };                });            </script>        </div>"
      ]
     },
     "metadata": {},
     "output_type": "display_data"
    }
   ],
   "source": [
    "top10_norm = top_ds_norm[0:10]\n",
    "active_norm_ids = top10_norm['dataset_id'].tolist()\n",
    "active_norm_names = top10_norm['dataset_name'].tolist()\n",
    "\n",
    "dataset_download_trends(active_norm_ids, active_norm_names, 'Trends of top 10 actively downloaded datasets (cumulative) - normalized')\n"
   ]
  },
  {
   "cell_type": "markdown",
   "id": "eb5c384a",
   "metadata": {
    "extensions": {
     "jupyter_dashboards": {
      "version": 1,
      "views": {
       "grid_default": {},
       "report_default": {
        "hidden": false
       }
      }
     }
    }
   },
   "source": [
    "##### Moderately downloaded"
   ]
  },
  {
   "cell_type": "code",
   "execution_count": 211,
   "id": "746748f5",
   "metadata": {
    "extensions": {
     "jupyter_dashboards": {
      "version": 1,
      "views": {
       "grid_default": {},
       "report_default": {
        "hidden": false
       }
      }
     }
    }
   },
   "outputs": [
    {
     "data": {
      "application/vnd.plotly.v1+json": {
       "config": {
        "plotlyServerURL": "https://plot.ly"
       },
       "data": [
        {
         "hovertemplate": "<i>Date</i>: %{x}<br>Downloads</i>: %{y}<br><br>%{text}</i>",
         "mode": "lines+markers",
         "text": [
          "Ventricular cardiomyocytes — Cells of the adult human heart",
          "Ventricular cardiomyocytes — Cells of the adult human heart",
          "Ventricular cardiomyocytes — Cells of the adult human heart",
          "Ventricular cardiomyocytes — Cells of the adult human heart",
          "Ventricular cardiomyocytes — Cells of the adult human heart",
          "Ventricular cardiomyocytes — Cells of the adult human heart",
          "Ventricular cardiomyocytes — Cells of the adult human heart",
          "Ventricular cardiomyocytes — Cells of the adult human heart",
          "Ventricular cardiomyocytes — Cells of the adult human heart",
          "Ventricular cardiomyocytes — Cells of the adult human heart",
          "Ventricular cardiomyocytes — Cells of the adult human heart"
         ],
         "type": "scatter",
         "x": [
          "2021-04-26",
          "2021-05-28",
          "2021-06-06",
          "2021-06-10",
          "2021-06-15",
          "2021-06-17",
          "2021-07-09",
          "2021-07-14",
          "2021-07-18",
          "2021-07-23",
          "2021-07-30"
         ],
         "y": [
          1,
          3,
          4,
          5,
          6,
          7,
          9,
          10,
          11,
          12,
          13
         ]
        },
        {
         "hovertemplate": "<i>Date</i>: %{x}<br>Downloads</i>: %{y}<br><br>%{text}</i>",
         "mode": "lines+markers",
         "text": [
          "Spatiotemporal analysis of human intestinal development at single-cell resolution: Endothelium",
          "Spatiotemporal analysis of human intestinal development at single-cell resolution: Endothelium",
          "Spatiotemporal analysis of human intestinal development at single-cell resolution: Endothelium",
          "Spatiotemporal analysis of human intestinal development at single-cell resolution: Endothelium",
          "Spatiotemporal analysis of human intestinal development at single-cell resolution: Endothelium",
          "Spatiotemporal analysis of human intestinal development at single-cell resolution: Endothelium",
          "Spatiotemporal analysis of human intestinal development at single-cell resolution: Endothelium",
          "Spatiotemporal analysis of human intestinal development at single-cell resolution: Endothelium",
          "Spatiotemporal analysis of human intestinal development at single-cell resolution: Endothelium",
          "Spatiotemporal analysis of human intestinal development at single-cell resolution: Endothelium",
          "Spatiotemporal analysis of human intestinal development at single-cell resolution: Endothelium"
         ],
         "type": "scatter",
         "x": [
          "2021-05-28",
          "2021-06-04",
          "2021-06-06",
          "2021-06-10",
          "2021-06-15",
          "2021-06-18",
          "2021-07-09",
          "2021-07-14",
          "2021-07-18",
          "2021-07-23",
          "2021-07-30"
         ],
         "y": [
          2,
          3,
          4,
          5,
          6,
          7,
          9,
          10,
          11,
          12,
          13
         ]
        },
        {
         "hovertemplate": "<i>Date</i>: %{x}<br>Downloads</i>: %{y}<br><br>%{text}</i>",
         "mode": "lines+markers",
         "text": [
          "Spatiotemporal analysis of human intestinal development at single-cell resolution: Fetal A3",
          "Spatiotemporal analysis of human intestinal development at single-cell resolution: Fetal A3",
          "Spatiotemporal analysis of human intestinal development at single-cell resolution: Fetal A3",
          "Spatiotemporal analysis of human intestinal development at single-cell resolution: Fetal A3",
          "Spatiotemporal analysis of human intestinal development at single-cell resolution: Fetal A3",
          "Spatiotemporal analysis of human intestinal development at single-cell resolution: Fetal A3",
          "Spatiotemporal analysis of human intestinal development at single-cell resolution: Fetal A3",
          "Spatiotemporal analysis of human intestinal development at single-cell resolution: Fetal A3",
          "Spatiotemporal analysis of human intestinal development at single-cell resolution: Fetal A3",
          "Spatiotemporal analysis of human intestinal development at single-cell resolution: Fetal A3"
         ],
         "type": "scatter",
         "x": [
          "2021-05-28",
          "2021-06-06",
          "2021-06-10",
          "2021-06-15",
          "2021-06-18",
          "2021-07-09",
          "2021-07-14",
          "2021-07-18",
          "2021-07-23",
          "2021-07-30"
         ],
         "y": [
          2,
          3,
          4,
          5,
          6,
          8,
          9,
          10,
          11,
          12
         ]
        },
        {
         "hovertemplate": "<i>Date</i>: %{x}<br>Downloads</i>: %{y}<br><br>%{text}</i>",
         "mode": "lines+markers",
         "text": [
          "Spatiotemporal analysis of human intestinal development at single-cell resolution: Fetal A9",
          "Spatiotemporal analysis of human intestinal development at single-cell resolution: Fetal A9",
          "Spatiotemporal analysis of human intestinal development at single-cell resolution: Fetal A9",
          "Spatiotemporal analysis of human intestinal development at single-cell resolution: Fetal A9",
          "Spatiotemporal analysis of human intestinal development at single-cell resolution: Fetal A9",
          "Spatiotemporal analysis of human intestinal development at single-cell resolution: Fetal A9",
          "Spatiotemporal analysis of human intestinal development at single-cell resolution: Fetal A9",
          "Spatiotemporal analysis of human intestinal development at single-cell resolution: Fetal A9",
          "Spatiotemporal analysis of human intestinal development at single-cell resolution: Fetal A9",
          "Spatiotemporal analysis of human intestinal development at single-cell resolution: Fetal A9"
         ],
         "type": "scatter",
         "x": [
          "2021-05-28",
          "2021-06-06",
          "2021-06-10",
          "2021-06-15",
          "2021-06-18",
          "2021-07-09",
          "2021-07-14",
          "2021-07-18",
          "2021-07-23",
          "2021-07-30"
         ],
         "y": [
          2,
          3,
          4,
          5,
          6,
          8,
          9,
          10,
          11,
          12
         ]
        },
        {
         "hovertemplate": "<i>Date</i>: %{x}<br>Downloads</i>: %{y}<br><br>%{text}</i>",
         "mode": "lines+markers",
         "text": [
          "Atrial cardiomyocytes — Cells of the adult human heart",
          "Atrial cardiomyocytes — Cells of the adult human heart",
          "Atrial cardiomyocytes — Cells of the adult human heart",
          "Atrial cardiomyocytes — Cells of the adult human heart",
          "Atrial cardiomyocytes — Cells of the adult human heart",
          "Atrial cardiomyocytes — Cells of the adult human heart",
          "Atrial cardiomyocytes — Cells of the adult human heart",
          "Atrial cardiomyocytes — Cells of the adult human heart",
          "Atrial cardiomyocytes — Cells of the adult human heart",
          "Atrial cardiomyocytes — Cells of the adult human heart",
          "Atrial cardiomyocytes — Cells of the adult human heart"
         ],
         "type": "scatter",
         "x": [
          "2021-05-14",
          "2021-05-28",
          "2021-06-06",
          "2021-06-10",
          "2021-06-15",
          "2021-06-17",
          "2021-07-09",
          "2021-07-14",
          "2021-07-18",
          "2021-07-23",
          "2021-07-30"
         ],
         "y": [
          1,
          3,
          4,
          5,
          6,
          7,
          9,
          10,
          11,
          12,
          13
         ]
        },
        {
         "hovertemplate": "<i>Date</i>: %{x}<br>Downloads</i>: %{y}<br><br>%{text}</i>",
         "mode": "lines+markers",
         "text": [
          "Immune — Cells of the adult human heart",
          "Immune — Cells of the adult human heart",
          "Immune — Cells of the adult human heart",
          "Immune — Cells of the adult human heart",
          "Immune — Cells of the adult human heart",
          "Immune — Cells of the adult human heart",
          "Immune — Cells of the adult human heart",
          "Immune — Cells of the adult human heart",
          "Immune — Cells of the adult human heart",
          "Immune — Cells of the adult human heart",
          "Immune — Cells of the adult human heart"
         ],
         "type": "scatter",
         "x": [
          "2021-05-28",
          "2021-06-06",
          "2021-06-10",
          "2021-06-15",
          "2021-06-17",
          "2021-07-09",
          "2021-07-14",
          "2021-07-15",
          "2021-07-18",
          "2021-07-23",
          "2021-07-30"
         ],
         "y": [
          2,
          3,
          4,
          5,
          6,
          8,
          9,
          10,
          11,
          12,
          13
         ]
        },
        {
         "hovertemplate": "<i>Date</i>: %{x}<br>Downloads</i>: %{y}<br><br>%{text}</i>",
         "mode": "lines+markers",
         "text": [
          "Bladder lumen — A single-cell transcriptomic atlas characterizes ageing tissues in the mouse",
          "Bladder lumen — A single-cell transcriptomic atlas characterizes ageing tissues in the mouse",
          "Bladder lumen — A single-cell transcriptomic atlas characterizes ageing tissues in the mouse",
          "Bladder lumen — A single-cell transcriptomic atlas characterizes ageing tissues in the mouse",
          "Bladder lumen — A single-cell transcriptomic atlas characterizes ageing tissues in the mouse",
          "Bladder lumen — A single-cell transcriptomic atlas characterizes ageing tissues in the mouse",
          "Bladder lumen — A single-cell transcriptomic atlas characterizes ageing tissues in the mouse",
          "Bladder lumen — A single-cell transcriptomic atlas characterizes ageing tissues in the mouse",
          "Bladder lumen — A single-cell transcriptomic atlas characterizes ageing tissues in the mouse",
          "Bladder lumen — A single-cell transcriptomic atlas characterizes ageing tissues in the mouse",
          "Bladder lumen — A single-cell transcriptomic atlas characterizes ageing tissues in the mouse",
          "Bladder lumen — A single-cell transcriptomic atlas characterizes ageing tissues in the mouse",
          "Bladder lumen — A single-cell transcriptomic atlas characterizes ageing tissues in the mouse"
         ],
         "type": "scatter",
         "x": [
          "2021-04-29",
          "2021-05-02",
          "2021-05-10",
          "2021-05-11",
          "2021-05-19",
          "2021-05-21",
          "2021-06-04",
          "2021-06-05",
          "2021-06-10",
          "2021-06-15",
          "2021-07-17",
          "2021-07-20",
          "2021-07-29"
         ],
         "y": [
          1,
          2,
          3,
          4,
          5,
          6,
          7,
          8,
          9,
          10,
          11,
          12,
          13
         ]
        },
        {
         "hovertemplate": "<i>Date</i>: %{x}<br>Downloads</i>: %{y}<br><br>%{text}</i>",
         "mode": "lines+markers",
         "text": [
          "All — A single-cell transcriptomic atlas characterizes ageing tissues in the mouse",
          "All — A single-cell transcriptomic atlas characterizes ageing tissues in the mouse",
          "All — A single-cell transcriptomic atlas characterizes ageing tissues in the mouse",
          "All — A single-cell transcriptomic atlas characterizes ageing tissues in the mouse",
          "All — A single-cell transcriptomic atlas characterizes ageing tissues in the mouse",
          "All — A single-cell transcriptomic atlas characterizes ageing tissues in the mouse",
          "All — A single-cell transcriptomic atlas characterizes ageing tissues in the mouse",
          "All — A single-cell transcriptomic atlas characterizes ageing tissues in the mouse",
          "All — A single-cell transcriptomic atlas characterizes ageing tissues in the mouse",
          "All — A single-cell transcriptomic atlas characterizes ageing tissues in the mouse",
          "All — A single-cell transcriptomic atlas characterizes ageing tissues in the mouse",
          "All — A single-cell transcriptomic atlas characterizes ageing tissues in the mouse",
          "All — A single-cell transcriptomic atlas characterizes ageing tissues in the mouse"
         ],
         "type": "scatter",
         "x": [
          "2021-05-13",
          "2021-05-19",
          "2021-05-21",
          "2021-06-05",
          "2021-06-10",
          "2021-06-15",
          "2021-06-24",
          "2021-06-28",
          "2021-07-05",
          "2021-07-17",
          "2021-07-20",
          "2021-07-29",
          "2021-08-13"
         ],
         "y": [
          1,
          2,
          3,
          4,
          5,
          6,
          7,
          8,
          9,
          10,
          11,
          12,
          13
         ]
        },
        {
         "hovertemplate": "<i>Date</i>: %{x}<br>Downloads</i>: %{y}<br><br>%{text}</i>",
         "mode": "lines+markers",
         "text": [
          "A Cellular Anatomy of the Normal Adult Human Prostate and Prostatic Urethra - All Human Cells",
          "A Cellular Anatomy of the Normal Adult Human Prostate and Prostatic Urethra - All Human Cells",
          "A Cellular Anatomy of the Normal Adult Human Prostate and Prostatic Urethra - All Human Cells"
         ],
         "type": "scatter",
         "x": [
          "2021-07-27",
          "2021-07-30",
          "2021-08-03"
         ],
         "y": [
          1,
          2,
          3
         ]
        },
        {
         "hovertemplate": "<i>Date</i>: %{x}<br>Downloads</i>: %{y}<br><br>%{text}</i>",
         "mode": "lines+markers",
         "text": [
          "Spatiotemporal analysis of human intestinal development at single-cell resolution: Fetal A4",
          "Spatiotemporal analysis of human intestinal development at single-cell resolution: Fetal A4",
          "Spatiotemporal analysis of human intestinal development at single-cell resolution: Fetal A4",
          "Spatiotemporal analysis of human intestinal development at single-cell resolution: Fetal A4",
          "Spatiotemporal analysis of human intestinal development at single-cell resolution: Fetal A4",
          "Spatiotemporal analysis of human intestinal development at single-cell resolution: Fetal A4",
          "Spatiotemporal analysis of human intestinal development at single-cell resolution: Fetal A4",
          "Spatiotemporal analysis of human intestinal development at single-cell resolution: Fetal A4",
          "Spatiotemporal analysis of human intestinal development at single-cell resolution: Fetal A4",
          "Spatiotemporal analysis of human intestinal development at single-cell resolution: Fetal A4"
         ],
         "type": "scatter",
         "x": [
          "2021-05-28",
          "2021-06-06",
          "2021-06-10",
          "2021-06-15",
          "2021-06-18",
          "2021-07-09",
          "2021-07-14",
          "2021-07-18",
          "2021-07-23",
          "2021-07-30"
         ],
         "y": [
          3,
          4,
          5,
          6,
          7,
          9,
          10,
          11,
          12,
          13
         ]
        }
       ],
       "layout": {
        "showlegend": false,
        "template": {
         "data": {
          "bar": [
           {
            "error_x": {
             "color": "#2a3f5f"
            },
            "error_y": {
             "color": "#2a3f5f"
            },
            "marker": {
             "line": {
              "color": "#E5ECF6",
              "width": 0.5
             },
             "pattern": {
              "fillmode": "overlay",
              "size": 10,
              "solidity": 0.2
             }
            },
            "type": "bar"
           }
          ],
          "barpolar": [
           {
            "marker": {
             "line": {
              "color": "#E5ECF6",
              "width": 0.5
             },
             "pattern": {
              "fillmode": "overlay",
              "size": 10,
              "solidity": 0.2
             }
            },
            "type": "barpolar"
           }
          ],
          "carpet": [
           {
            "aaxis": {
             "endlinecolor": "#2a3f5f",
             "gridcolor": "white",
             "linecolor": "white",
             "minorgridcolor": "white",
             "startlinecolor": "#2a3f5f"
            },
            "baxis": {
             "endlinecolor": "#2a3f5f",
             "gridcolor": "white",
             "linecolor": "white",
             "minorgridcolor": "white",
             "startlinecolor": "#2a3f5f"
            },
            "type": "carpet"
           }
          ],
          "choropleth": [
           {
            "colorbar": {
             "outlinewidth": 0,
             "ticks": ""
            },
            "type": "choropleth"
           }
          ],
          "contour": [
           {
            "colorbar": {
             "outlinewidth": 0,
             "ticks": ""
            },
            "colorscale": [
             [
              0,
              "#0d0887"
             ],
             [
              0.1111111111111111,
              "#46039f"
             ],
             [
              0.2222222222222222,
              "#7201a8"
             ],
             [
              0.3333333333333333,
              "#9c179e"
             ],
             [
              0.4444444444444444,
              "#bd3786"
             ],
             [
              0.5555555555555556,
              "#d8576b"
             ],
             [
              0.6666666666666666,
              "#ed7953"
             ],
             [
              0.7777777777777778,
              "#fb9f3a"
             ],
             [
              0.8888888888888888,
              "#fdca26"
             ],
             [
              1,
              "#f0f921"
             ]
            ],
            "type": "contour"
           }
          ],
          "contourcarpet": [
           {
            "colorbar": {
             "outlinewidth": 0,
             "ticks": ""
            },
            "type": "contourcarpet"
           }
          ],
          "heatmap": [
           {
            "colorbar": {
             "outlinewidth": 0,
             "ticks": ""
            },
            "colorscale": [
             [
              0,
              "#0d0887"
             ],
             [
              0.1111111111111111,
              "#46039f"
             ],
             [
              0.2222222222222222,
              "#7201a8"
             ],
             [
              0.3333333333333333,
              "#9c179e"
             ],
             [
              0.4444444444444444,
              "#bd3786"
             ],
             [
              0.5555555555555556,
              "#d8576b"
             ],
             [
              0.6666666666666666,
              "#ed7953"
             ],
             [
              0.7777777777777778,
              "#fb9f3a"
             ],
             [
              0.8888888888888888,
              "#fdca26"
             ],
             [
              1,
              "#f0f921"
             ]
            ],
            "type": "heatmap"
           }
          ],
          "heatmapgl": [
           {
            "colorbar": {
             "outlinewidth": 0,
             "ticks": ""
            },
            "colorscale": [
             [
              0,
              "#0d0887"
             ],
             [
              0.1111111111111111,
              "#46039f"
             ],
             [
              0.2222222222222222,
              "#7201a8"
             ],
             [
              0.3333333333333333,
              "#9c179e"
             ],
             [
              0.4444444444444444,
              "#bd3786"
             ],
             [
              0.5555555555555556,
              "#d8576b"
             ],
             [
              0.6666666666666666,
              "#ed7953"
             ],
             [
              0.7777777777777778,
              "#fb9f3a"
             ],
             [
              0.8888888888888888,
              "#fdca26"
             ],
             [
              1,
              "#f0f921"
             ]
            ],
            "type": "heatmapgl"
           }
          ],
          "histogram": [
           {
            "marker": {
             "pattern": {
              "fillmode": "overlay",
              "size": 10,
              "solidity": 0.2
             }
            },
            "type": "histogram"
           }
          ],
          "histogram2d": [
           {
            "colorbar": {
             "outlinewidth": 0,
             "ticks": ""
            },
            "colorscale": [
             [
              0,
              "#0d0887"
             ],
             [
              0.1111111111111111,
              "#46039f"
             ],
             [
              0.2222222222222222,
              "#7201a8"
             ],
             [
              0.3333333333333333,
              "#9c179e"
             ],
             [
              0.4444444444444444,
              "#bd3786"
             ],
             [
              0.5555555555555556,
              "#d8576b"
             ],
             [
              0.6666666666666666,
              "#ed7953"
             ],
             [
              0.7777777777777778,
              "#fb9f3a"
             ],
             [
              0.8888888888888888,
              "#fdca26"
             ],
             [
              1,
              "#f0f921"
             ]
            ],
            "type": "histogram2d"
           }
          ],
          "histogram2dcontour": [
           {
            "colorbar": {
             "outlinewidth": 0,
             "ticks": ""
            },
            "colorscale": [
             [
              0,
              "#0d0887"
             ],
             [
              0.1111111111111111,
              "#46039f"
             ],
             [
              0.2222222222222222,
              "#7201a8"
             ],
             [
              0.3333333333333333,
              "#9c179e"
             ],
             [
              0.4444444444444444,
              "#bd3786"
             ],
             [
              0.5555555555555556,
              "#d8576b"
             ],
             [
              0.6666666666666666,
              "#ed7953"
             ],
             [
              0.7777777777777778,
              "#fb9f3a"
             ],
             [
              0.8888888888888888,
              "#fdca26"
             ],
             [
              1,
              "#f0f921"
             ]
            ],
            "type": "histogram2dcontour"
           }
          ],
          "mesh3d": [
           {
            "colorbar": {
             "outlinewidth": 0,
             "ticks": ""
            },
            "type": "mesh3d"
           }
          ],
          "parcoords": [
           {
            "line": {
             "colorbar": {
              "outlinewidth": 0,
              "ticks": ""
             }
            },
            "type": "parcoords"
           }
          ],
          "pie": [
           {
            "automargin": true,
            "type": "pie"
           }
          ],
          "scatter": [
           {
            "marker": {
             "colorbar": {
              "outlinewidth": 0,
              "ticks": ""
             }
            },
            "type": "scatter"
           }
          ],
          "scatter3d": [
           {
            "line": {
             "colorbar": {
              "outlinewidth": 0,
              "ticks": ""
             }
            },
            "marker": {
             "colorbar": {
              "outlinewidth": 0,
              "ticks": ""
             }
            },
            "type": "scatter3d"
           }
          ],
          "scattercarpet": [
           {
            "marker": {
             "colorbar": {
              "outlinewidth": 0,
              "ticks": ""
             }
            },
            "type": "scattercarpet"
           }
          ],
          "scattergeo": [
           {
            "marker": {
             "colorbar": {
              "outlinewidth": 0,
              "ticks": ""
             }
            },
            "type": "scattergeo"
           }
          ],
          "scattergl": [
           {
            "marker": {
             "colorbar": {
              "outlinewidth": 0,
              "ticks": ""
             }
            },
            "type": "scattergl"
           }
          ],
          "scattermapbox": [
           {
            "marker": {
             "colorbar": {
              "outlinewidth": 0,
              "ticks": ""
             }
            },
            "type": "scattermapbox"
           }
          ],
          "scatterpolar": [
           {
            "marker": {
             "colorbar": {
              "outlinewidth": 0,
              "ticks": ""
             }
            },
            "type": "scatterpolar"
           }
          ],
          "scatterpolargl": [
           {
            "marker": {
             "colorbar": {
              "outlinewidth": 0,
              "ticks": ""
             }
            },
            "type": "scatterpolargl"
           }
          ],
          "scatterternary": [
           {
            "marker": {
             "colorbar": {
              "outlinewidth": 0,
              "ticks": ""
             }
            },
            "type": "scatterternary"
           }
          ],
          "surface": [
           {
            "colorbar": {
             "outlinewidth": 0,
             "ticks": ""
            },
            "colorscale": [
             [
              0,
              "#0d0887"
             ],
             [
              0.1111111111111111,
              "#46039f"
             ],
             [
              0.2222222222222222,
              "#7201a8"
             ],
             [
              0.3333333333333333,
              "#9c179e"
             ],
             [
              0.4444444444444444,
              "#bd3786"
             ],
             [
              0.5555555555555556,
              "#d8576b"
             ],
             [
              0.6666666666666666,
              "#ed7953"
             ],
             [
              0.7777777777777778,
              "#fb9f3a"
             ],
             [
              0.8888888888888888,
              "#fdca26"
             ],
             [
              1,
              "#f0f921"
             ]
            ],
            "type": "surface"
           }
          ],
          "table": [
           {
            "cells": {
             "fill": {
              "color": "#EBF0F8"
             },
             "line": {
              "color": "white"
             }
            },
            "header": {
             "fill": {
              "color": "#C8D4E3"
             },
             "line": {
              "color": "white"
             }
            },
            "type": "table"
           }
          ]
         },
         "layout": {
          "annotationdefaults": {
           "arrowcolor": "#2a3f5f",
           "arrowhead": 0,
           "arrowwidth": 1
          },
          "autotypenumbers": "strict",
          "coloraxis": {
           "colorbar": {
            "outlinewidth": 0,
            "ticks": ""
           }
          },
          "colorscale": {
           "diverging": [
            [
             0,
             "#8e0152"
            ],
            [
             0.1,
             "#c51b7d"
            ],
            [
             0.2,
             "#de77ae"
            ],
            [
             0.3,
             "#f1b6da"
            ],
            [
             0.4,
             "#fde0ef"
            ],
            [
             0.5,
             "#f7f7f7"
            ],
            [
             0.6,
             "#e6f5d0"
            ],
            [
             0.7,
             "#b8e186"
            ],
            [
             0.8,
             "#7fbc41"
            ],
            [
             0.9,
             "#4d9221"
            ],
            [
             1,
             "#276419"
            ]
           ],
           "sequential": [
            [
             0,
             "#0d0887"
            ],
            [
             0.1111111111111111,
             "#46039f"
            ],
            [
             0.2222222222222222,
             "#7201a8"
            ],
            [
             0.3333333333333333,
             "#9c179e"
            ],
            [
             0.4444444444444444,
             "#bd3786"
            ],
            [
             0.5555555555555556,
             "#d8576b"
            ],
            [
             0.6666666666666666,
             "#ed7953"
            ],
            [
             0.7777777777777778,
             "#fb9f3a"
            ],
            [
             0.8888888888888888,
             "#fdca26"
            ],
            [
             1,
             "#f0f921"
            ]
           ],
           "sequentialminus": [
            [
             0,
             "#0d0887"
            ],
            [
             0.1111111111111111,
             "#46039f"
            ],
            [
             0.2222222222222222,
             "#7201a8"
            ],
            [
             0.3333333333333333,
             "#9c179e"
            ],
            [
             0.4444444444444444,
             "#bd3786"
            ],
            [
             0.5555555555555556,
             "#d8576b"
            ],
            [
             0.6666666666666666,
             "#ed7953"
            ],
            [
             0.7777777777777778,
             "#fb9f3a"
            ],
            [
             0.8888888888888888,
             "#fdca26"
            ],
            [
             1,
             "#f0f921"
            ]
           ]
          },
          "colorway": [
           "#636efa",
           "#EF553B",
           "#00cc96",
           "#ab63fa",
           "#FFA15A",
           "#19d3f3",
           "#FF6692",
           "#B6E880",
           "#FF97FF",
           "#FECB52"
          ],
          "font": {
           "color": "#2a3f5f"
          },
          "geo": {
           "bgcolor": "white",
           "lakecolor": "white",
           "landcolor": "#E5ECF6",
           "showlakes": true,
           "showland": true,
           "subunitcolor": "white"
          },
          "hoverlabel": {
           "align": "left"
          },
          "hovermode": "closest",
          "mapbox": {
           "style": "light"
          },
          "paper_bgcolor": "white",
          "plot_bgcolor": "#E5ECF6",
          "polar": {
           "angularaxis": {
            "gridcolor": "white",
            "linecolor": "white",
            "ticks": ""
           },
           "bgcolor": "#E5ECF6",
           "radialaxis": {
            "gridcolor": "white",
            "linecolor": "white",
            "ticks": ""
           }
          },
          "scene": {
           "xaxis": {
            "backgroundcolor": "#E5ECF6",
            "gridcolor": "white",
            "gridwidth": 2,
            "linecolor": "white",
            "showbackground": true,
            "ticks": "",
            "zerolinecolor": "white"
           },
           "yaxis": {
            "backgroundcolor": "#E5ECF6",
            "gridcolor": "white",
            "gridwidth": 2,
            "linecolor": "white",
            "showbackground": true,
            "ticks": "",
            "zerolinecolor": "white"
           },
           "zaxis": {
            "backgroundcolor": "#E5ECF6",
            "gridcolor": "white",
            "gridwidth": 2,
            "linecolor": "white",
            "showbackground": true,
            "ticks": "",
            "zerolinecolor": "white"
           }
          },
          "shapedefaults": {
           "line": {
            "color": "#2a3f5f"
           }
          },
          "ternary": {
           "aaxis": {
            "gridcolor": "white",
            "linecolor": "white",
            "ticks": ""
           },
           "baxis": {
            "gridcolor": "white",
            "linecolor": "white",
            "ticks": ""
           },
           "bgcolor": "#E5ECF6",
           "caxis": {
            "gridcolor": "white",
            "linecolor": "white",
            "ticks": ""
           }
          },
          "title": {
           "x": 0.05
          },
          "xaxis": {
           "automargin": true,
           "gridcolor": "white",
           "linecolor": "white",
           "ticks": "",
           "title": {
            "standoff": 15
           },
           "zerolinecolor": "white",
           "zerolinewidth": 2
          },
          "yaxis": {
           "automargin": true,
           "gridcolor": "white",
           "linecolor": "white",
           "ticks": "",
           "title": {
            "standoff": 15
           },
           "zerolinecolor": "white",
           "zerolinewidth": 2
          }
         }
        },
        "title": {
         "text": "Trends of top 10 moderately downloaded datasets (cumulative) - normalized"
        },
        "xaxis": {
         "title": {
          "text": "date"
         }
        },
        "yaxis": {
         "title": {
          "text": "number of downloads"
         }
        }
       }
      },
      "text/html": [
       "<div>                            <div id=\"16affeea-9a3d-4263-b81d-ee5e9dad459e\" class=\"plotly-graph-div\" style=\"height:525px; width:100%;\"></div>            <script type=\"text/javascript\">                require([\"plotly\"], function(Plotly) {                    window.PLOTLYENV=window.PLOTLYENV || {};                                    if (document.getElementById(\"16affeea-9a3d-4263-b81d-ee5e9dad459e\")) {                    Plotly.newPlot(                        \"16affeea-9a3d-4263-b81d-ee5e9dad459e\",                        [{\"hovertemplate\":\"<i>Date</i>: %{x}<br>Downloads</i>: %{y}<br><br>%{text}</i>\",\"mode\":\"lines+markers\",\"text\":[\"Ventricular cardiomyocytes \\u2014 Cells of the adult human heart\",\"Ventricular cardiomyocytes \\u2014 Cells of the adult human heart\",\"Ventricular cardiomyocytes \\u2014 Cells of the adult human heart\",\"Ventricular cardiomyocytes \\u2014 Cells of the adult human heart\",\"Ventricular cardiomyocytes \\u2014 Cells of the adult human heart\",\"Ventricular cardiomyocytes \\u2014 Cells of the adult human heart\",\"Ventricular cardiomyocytes \\u2014 Cells of the adult human heart\",\"Ventricular cardiomyocytes \\u2014 Cells of the adult human heart\",\"Ventricular cardiomyocytes \\u2014 Cells of the adult human heart\",\"Ventricular cardiomyocytes \\u2014 Cells of the adult human heart\",\"Ventricular cardiomyocytes \\u2014 Cells of the adult human heart\"],\"type\":\"scatter\",\"x\":[\"2021-04-26\",\"2021-05-28\",\"2021-06-06\",\"2021-06-10\",\"2021-06-15\",\"2021-06-17\",\"2021-07-09\",\"2021-07-14\",\"2021-07-18\",\"2021-07-23\",\"2021-07-30\"],\"y\":[1,3,4,5,6,7,9,10,11,12,13]},{\"hovertemplate\":\"<i>Date</i>: %{x}<br>Downloads</i>: %{y}<br><br>%{text}</i>\",\"mode\":\"lines+markers\",\"text\":[\"Spatiotemporal analysis of human intestinal development at single-cell resolution: Endothelium\",\"Spatiotemporal analysis of human intestinal development at single-cell resolution: Endothelium\",\"Spatiotemporal analysis of human intestinal development at single-cell resolution: Endothelium\",\"Spatiotemporal analysis of human intestinal development at single-cell resolution: Endothelium\",\"Spatiotemporal analysis of human intestinal development at single-cell resolution: Endothelium\",\"Spatiotemporal analysis of human intestinal development at single-cell resolution: Endothelium\",\"Spatiotemporal analysis of human intestinal development at single-cell resolution: Endothelium\",\"Spatiotemporal analysis of human intestinal development at single-cell resolution: Endothelium\",\"Spatiotemporal analysis of human intestinal development at single-cell resolution: Endothelium\",\"Spatiotemporal analysis of human intestinal development at single-cell resolution: Endothelium\",\"Spatiotemporal analysis of human intestinal development at single-cell resolution: Endothelium\"],\"type\":\"scatter\",\"x\":[\"2021-05-28\",\"2021-06-04\",\"2021-06-06\",\"2021-06-10\",\"2021-06-15\",\"2021-06-18\",\"2021-07-09\",\"2021-07-14\",\"2021-07-18\",\"2021-07-23\",\"2021-07-30\"],\"y\":[2,3,4,5,6,7,9,10,11,12,13]},{\"hovertemplate\":\"<i>Date</i>: %{x}<br>Downloads</i>: %{y}<br><br>%{text}</i>\",\"mode\":\"lines+markers\",\"text\":[\"Spatiotemporal analysis of human intestinal development at single-cell resolution: Fetal A3\",\"Spatiotemporal analysis of human intestinal development at single-cell resolution: Fetal A3\",\"Spatiotemporal analysis of human intestinal development at single-cell resolution: Fetal A3\",\"Spatiotemporal analysis of human intestinal development at single-cell resolution: Fetal A3\",\"Spatiotemporal analysis of human intestinal development at single-cell resolution: Fetal A3\",\"Spatiotemporal analysis of human intestinal development at single-cell resolution: Fetal A3\",\"Spatiotemporal analysis of human intestinal development at single-cell resolution: Fetal A3\",\"Spatiotemporal analysis of human intestinal development at single-cell resolution: Fetal A3\",\"Spatiotemporal analysis of human intestinal development at single-cell resolution: Fetal A3\",\"Spatiotemporal analysis of human intestinal development at single-cell resolution: Fetal A3\"],\"type\":\"scatter\",\"x\":[\"2021-05-28\",\"2021-06-06\",\"2021-06-10\",\"2021-06-15\",\"2021-06-18\",\"2021-07-09\",\"2021-07-14\",\"2021-07-18\",\"2021-07-23\",\"2021-07-30\"],\"y\":[2,3,4,5,6,8,9,10,11,12]},{\"hovertemplate\":\"<i>Date</i>: %{x}<br>Downloads</i>: %{y}<br><br>%{text}</i>\",\"mode\":\"lines+markers\",\"text\":[\"Spatiotemporal analysis of human intestinal development at single-cell resolution: Fetal A9\",\"Spatiotemporal analysis of human intestinal development at single-cell resolution: Fetal A9\",\"Spatiotemporal analysis of human intestinal development at single-cell resolution: Fetal A9\",\"Spatiotemporal analysis of human intestinal development at single-cell resolution: Fetal A9\",\"Spatiotemporal analysis of human intestinal development at single-cell resolution: Fetal A9\",\"Spatiotemporal analysis of human intestinal development at single-cell resolution: Fetal A9\",\"Spatiotemporal analysis of human intestinal development at single-cell resolution: Fetal A9\",\"Spatiotemporal analysis of human intestinal development at single-cell resolution: Fetal A9\",\"Spatiotemporal analysis of human intestinal development at single-cell resolution: Fetal A9\",\"Spatiotemporal analysis of human intestinal development at single-cell resolution: Fetal A9\"],\"type\":\"scatter\",\"x\":[\"2021-05-28\",\"2021-06-06\",\"2021-06-10\",\"2021-06-15\",\"2021-06-18\",\"2021-07-09\",\"2021-07-14\",\"2021-07-18\",\"2021-07-23\",\"2021-07-30\"],\"y\":[2,3,4,5,6,8,9,10,11,12]},{\"hovertemplate\":\"<i>Date</i>: %{x}<br>Downloads</i>: %{y}<br><br>%{text}</i>\",\"mode\":\"lines+markers\",\"text\":[\"Atrial cardiomyocytes \\u2014 Cells of the adult human heart\",\"Atrial cardiomyocytes \\u2014 Cells of the adult human heart\",\"Atrial cardiomyocytes \\u2014 Cells of the adult human heart\",\"Atrial cardiomyocytes \\u2014 Cells of the adult human heart\",\"Atrial cardiomyocytes \\u2014 Cells of the adult human heart\",\"Atrial cardiomyocytes \\u2014 Cells of the adult human heart\",\"Atrial cardiomyocytes \\u2014 Cells of the adult human heart\",\"Atrial cardiomyocytes \\u2014 Cells of the adult human heart\",\"Atrial cardiomyocytes \\u2014 Cells of the adult human heart\",\"Atrial cardiomyocytes \\u2014 Cells of the adult human heart\",\"Atrial cardiomyocytes \\u2014 Cells of the adult human heart\"],\"type\":\"scatter\",\"x\":[\"2021-05-14\",\"2021-05-28\",\"2021-06-06\",\"2021-06-10\",\"2021-06-15\",\"2021-06-17\",\"2021-07-09\",\"2021-07-14\",\"2021-07-18\",\"2021-07-23\",\"2021-07-30\"],\"y\":[1,3,4,5,6,7,9,10,11,12,13]},{\"hovertemplate\":\"<i>Date</i>: %{x}<br>Downloads</i>: %{y}<br><br>%{text}</i>\",\"mode\":\"lines+markers\",\"text\":[\"Immune \\u2014 Cells of the adult human heart\",\"Immune \\u2014 Cells of the adult human heart\",\"Immune \\u2014 Cells of the adult human heart\",\"Immune \\u2014 Cells of the adult human heart\",\"Immune \\u2014 Cells of the adult human heart\",\"Immune \\u2014 Cells of the adult human heart\",\"Immune \\u2014 Cells of the adult human heart\",\"Immune \\u2014 Cells of the adult human heart\",\"Immune \\u2014 Cells of the adult human heart\",\"Immune \\u2014 Cells of the adult human heart\",\"Immune \\u2014 Cells of the adult human heart\"],\"type\":\"scatter\",\"x\":[\"2021-05-28\",\"2021-06-06\",\"2021-06-10\",\"2021-06-15\",\"2021-06-17\",\"2021-07-09\",\"2021-07-14\",\"2021-07-15\",\"2021-07-18\",\"2021-07-23\",\"2021-07-30\"],\"y\":[2,3,4,5,6,8,9,10,11,12,13]},{\"hovertemplate\":\"<i>Date</i>: %{x}<br>Downloads</i>: %{y}<br><br>%{text}</i>\",\"mode\":\"lines+markers\",\"text\":[\"Bladder lumen \\u2014 A single-cell transcriptomic atlas characterizes ageing tissues in the mouse\",\"Bladder lumen \\u2014 A single-cell transcriptomic atlas characterizes ageing tissues in the mouse\",\"Bladder lumen \\u2014 A single-cell transcriptomic atlas characterizes ageing tissues in the mouse\",\"Bladder lumen \\u2014 A single-cell transcriptomic atlas characterizes ageing tissues in the mouse\",\"Bladder lumen \\u2014 A single-cell transcriptomic atlas characterizes ageing tissues in the mouse\",\"Bladder lumen \\u2014 A single-cell transcriptomic atlas characterizes ageing tissues in the mouse\",\"Bladder lumen \\u2014 A single-cell transcriptomic atlas characterizes ageing tissues in the mouse\",\"Bladder lumen \\u2014 A single-cell transcriptomic atlas characterizes ageing tissues in the mouse\",\"Bladder lumen \\u2014 A single-cell transcriptomic atlas characterizes ageing tissues in the mouse\",\"Bladder lumen \\u2014 A single-cell transcriptomic atlas characterizes ageing tissues in the mouse\",\"Bladder lumen \\u2014 A single-cell transcriptomic atlas characterizes ageing tissues in the mouse\",\"Bladder lumen \\u2014 A single-cell transcriptomic atlas characterizes ageing tissues in the mouse\",\"Bladder lumen \\u2014 A single-cell transcriptomic atlas characterizes ageing tissues in the mouse\"],\"type\":\"scatter\",\"x\":[\"2021-04-29\",\"2021-05-02\",\"2021-05-10\",\"2021-05-11\",\"2021-05-19\",\"2021-05-21\",\"2021-06-04\",\"2021-06-05\",\"2021-06-10\",\"2021-06-15\",\"2021-07-17\",\"2021-07-20\",\"2021-07-29\"],\"y\":[1,2,3,4,5,6,7,8,9,10,11,12,13]},{\"hovertemplate\":\"<i>Date</i>: %{x}<br>Downloads</i>: %{y}<br><br>%{text}</i>\",\"mode\":\"lines+markers\",\"text\":[\"All \\u2014 A single-cell transcriptomic atlas characterizes ageing tissues in the mouse\",\"All \\u2014 A single-cell transcriptomic atlas characterizes ageing tissues in the mouse\",\"All \\u2014 A single-cell transcriptomic atlas characterizes ageing tissues in the mouse\",\"All \\u2014 A single-cell transcriptomic atlas characterizes ageing tissues in the mouse\",\"All \\u2014 A single-cell transcriptomic atlas characterizes ageing tissues in the mouse\",\"All \\u2014 A single-cell transcriptomic atlas characterizes ageing tissues in the mouse\",\"All \\u2014 A single-cell transcriptomic atlas characterizes ageing tissues in the mouse\",\"All \\u2014 A single-cell transcriptomic atlas characterizes ageing tissues in the mouse\",\"All \\u2014 A single-cell transcriptomic atlas characterizes ageing tissues in the mouse\",\"All \\u2014 A single-cell transcriptomic atlas characterizes ageing tissues in the mouse\",\"All \\u2014 A single-cell transcriptomic atlas characterizes ageing tissues in the mouse\",\"All \\u2014 A single-cell transcriptomic atlas characterizes ageing tissues in the mouse\",\"All \\u2014 A single-cell transcriptomic atlas characterizes ageing tissues in the mouse\"],\"type\":\"scatter\",\"x\":[\"2021-05-13\",\"2021-05-19\",\"2021-05-21\",\"2021-06-05\",\"2021-06-10\",\"2021-06-15\",\"2021-06-24\",\"2021-06-28\",\"2021-07-05\",\"2021-07-17\",\"2021-07-20\",\"2021-07-29\",\"2021-08-13\"],\"y\":[1,2,3,4,5,6,7,8,9,10,11,12,13]},{\"hovertemplate\":\"<i>Date</i>: %{x}<br>Downloads</i>: %{y}<br><br>%{text}</i>\",\"mode\":\"lines+markers\",\"text\":[\"A Cellular Anatomy of the Normal Adult Human Prostate and Prostatic Urethra - All Human Cells\",\"A Cellular Anatomy of the Normal Adult Human Prostate and Prostatic Urethra - All Human Cells\",\"A Cellular Anatomy of the Normal Adult Human Prostate and Prostatic Urethra - All Human Cells\"],\"type\":\"scatter\",\"x\":[\"2021-07-27\",\"2021-07-30\",\"2021-08-03\"],\"y\":[1,2,3]},{\"hovertemplate\":\"<i>Date</i>: %{x}<br>Downloads</i>: %{y}<br><br>%{text}</i>\",\"mode\":\"lines+markers\",\"text\":[\"Spatiotemporal analysis of human intestinal development at single-cell resolution: Fetal A4\",\"Spatiotemporal analysis of human intestinal development at single-cell resolution: Fetal A4\",\"Spatiotemporal analysis of human intestinal development at single-cell resolution: Fetal A4\",\"Spatiotemporal analysis of human intestinal development at single-cell resolution: Fetal A4\",\"Spatiotemporal analysis of human intestinal development at single-cell resolution: Fetal A4\",\"Spatiotemporal analysis of human intestinal development at single-cell resolution: Fetal A4\",\"Spatiotemporal analysis of human intestinal development at single-cell resolution: Fetal A4\",\"Spatiotemporal analysis of human intestinal development at single-cell resolution: Fetal A4\",\"Spatiotemporal analysis of human intestinal development at single-cell resolution: Fetal A4\",\"Spatiotemporal analysis of human intestinal development at single-cell resolution: Fetal A4\"],\"type\":\"scatter\",\"x\":[\"2021-05-28\",\"2021-06-06\",\"2021-06-10\",\"2021-06-15\",\"2021-06-18\",\"2021-07-09\",\"2021-07-14\",\"2021-07-18\",\"2021-07-23\",\"2021-07-30\"],\"y\":[3,4,5,6,7,9,10,11,12,13]}],                        {\"showlegend\":false,\"template\":{\"data\":{\"bar\":[{\"error_x\":{\"color\":\"#2a3f5f\"},\"error_y\":{\"color\":\"#2a3f5f\"},\"marker\":{\"line\":{\"color\":\"#E5ECF6\",\"width\":0.5},\"pattern\":{\"fillmode\":\"overlay\",\"size\":10,\"solidity\":0.2}},\"type\":\"bar\"}],\"barpolar\":[{\"marker\":{\"line\":{\"color\":\"#E5ECF6\",\"width\":0.5},\"pattern\":{\"fillmode\":\"overlay\",\"size\":10,\"solidity\":0.2}},\"type\":\"barpolar\"}],\"carpet\":[{\"aaxis\":{\"endlinecolor\":\"#2a3f5f\",\"gridcolor\":\"white\",\"linecolor\":\"white\",\"minorgridcolor\":\"white\",\"startlinecolor\":\"#2a3f5f\"},\"baxis\":{\"endlinecolor\":\"#2a3f5f\",\"gridcolor\":\"white\",\"linecolor\":\"white\",\"minorgridcolor\":\"white\",\"startlinecolor\":\"#2a3f5f\"},\"type\":\"carpet\"}],\"choropleth\":[{\"colorbar\":{\"outlinewidth\":0,\"ticks\":\"\"},\"type\":\"choropleth\"}],\"contour\":[{\"colorbar\":{\"outlinewidth\":0,\"ticks\":\"\"},\"colorscale\":[[0.0,\"#0d0887\"],[0.1111111111111111,\"#46039f\"],[0.2222222222222222,\"#7201a8\"],[0.3333333333333333,\"#9c179e\"],[0.4444444444444444,\"#bd3786\"],[0.5555555555555556,\"#d8576b\"],[0.6666666666666666,\"#ed7953\"],[0.7777777777777778,\"#fb9f3a\"],[0.8888888888888888,\"#fdca26\"],[1.0,\"#f0f921\"]],\"type\":\"contour\"}],\"contourcarpet\":[{\"colorbar\":{\"outlinewidth\":0,\"ticks\":\"\"},\"type\":\"contourcarpet\"}],\"heatmap\":[{\"colorbar\":{\"outlinewidth\":0,\"ticks\":\"\"},\"colorscale\":[[0.0,\"#0d0887\"],[0.1111111111111111,\"#46039f\"],[0.2222222222222222,\"#7201a8\"],[0.3333333333333333,\"#9c179e\"],[0.4444444444444444,\"#bd3786\"],[0.5555555555555556,\"#d8576b\"],[0.6666666666666666,\"#ed7953\"],[0.7777777777777778,\"#fb9f3a\"],[0.8888888888888888,\"#fdca26\"],[1.0,\"#f0f921\"]],\"type\":\"heatmap\"}],\"heatmapgl\":[{\"colorbar\":{\"outlinewidth\":0,\"ticks\":\"\"},\"colorscale\":[[0.0,\"#0d0887\"],[0.1111111111111111,\"#46039f\"],[0.2222222222222222,\"#7201a8\"],[0.3333333333333333,\"#9c179e\"],[0.4444444444444444,\"#bd3786\"],[0.5555555555555556,\"#d8576b\"],[0.6666666666666666,\"#ed7953\"],[0.7777777777777778,\"#fb9f3a\"],[0.8888888888888888,\"#fdca26\"],[1.0,\"#f0f921\"]],\"type\":\"heatmapgl\"}],\"histogram\":[{\"marker\":{\"pattern\":{\"fillmode\":\"overlay\",\"size\":10,\"solidity\":0.2}},\"type\":\"histogram\"}],\"histogram2d\":[{\"colorbar\":{\"outlinewidth\":0,\"ticks\":\"\"},\"colorscale\":[[0.0,\"#0d0887\"],[0.1111111111111111,\"#46039f\"],[0.2222222222222222,\"#7201a8\"],[0.3333333333333333,\"#9c179e\"],[0.4444444444444444,\"#bd3786\"],[0.5555555555555556,\"#d8576b\"],[0.6666666666666666,\"#ed7953\"],[0.7777777777777778,\"#fb9f3a\"],[0.8888888888888888,\"#fdca26\"],[1.0,\"#f0f921\"]],\"type\":\"histogram2d\"}],\"histogram2dcontour\":[{\"colorbar\":{\"outlinewidth\":0,\"ticks\":\"\"},\"colorscale\":[[0.0,\"#0d0887\"],[0.1111111111111111,\"#46039f\"],[0.2222222222222222,\"#7201a8\"],[0.3333333333333333,\"#9c179e\"],[0.4444444444444444,\"#bd3786\"],[0.5555555555555556,\"#d8576b\"],[0.6666666666666666,\"#ed7953\"],[0.7777777777777778,\"#fb9f3a\"],[0.8888888888888888,\"#fdca26\"],[1.0,\"#f0f921\"]],\"type\":\"histogram2dcontour\"}],\"mesh3d\":[{\"colorbar\":{\"outlinewidth\":0,\"ticks\":\"\"},\"type\":\"mesh3d\"}],\"parcoords\":[{\"line\":{\"colorbar\":{\"outlinewidth\":0,\"ticks\":\"\"}},\"type\":\"parcoords\"}],\"pie\":[{\"automargin\":true,\"type\":\"pie\"}],\"scatter\":[{\"marker\":{\"colorbar\":{\"outlinewidth\":0,\"ticks\":\"\"}},\"type\":\"scatter\"}],\"scatter3d\":[{\"line\":{\"colorbar\":{\"outlinewidth\":0,\"ticks\":\"\"}},\"marker\":{\"colorbar\":{\"outlinewidth\":0,\"ticks\":\"\"}},\"type\":\"scatter3d\"}],\"scattercarpet\":[{\"marker\":{\"colorbar\":{\"outlinewidth\":0,\"ticks\":\"\"}},\"type\":\"scattercarpet\"}],\"scattergeo\":[{\"marker\":{\"colorbar\":{\"outlinewidth\":0,\"ticks\":\"\"}},\"type\":\"scattergeo\"}],\"scattergl\":[{\"marker\":{\"colorbar\":{\"outlinewidth\":0,\"ticks\":\"\"}},\"type\":\"scattergl\"}],\"scattermapbox\":[{\"marker\":{\"colorbar\":{\"outlinewidth\":0,\"ticks\":\"\"}},\"type\":\"scattermapbox\"}],\"scatterpolar\":[{\"marker\":{\"colorbar\":{\"outlinewidth\":0,\"ticks\":\"\"}},\"type\":\"scatterpolar\"}],\"scatterpolargl\":[{\"marker\":{\"colorbar\":{\"outlinewidth\":0,\"ticks\":\"\"}},\"type\":\"scatterpolargl\"}],\"scatterternary\":[{\"marker\":{\"colorbar\":{\"outlinewidth\":0,\"ticks\":\"\"}},\"type\":\"scatterternary\"}],\"surface\":[{\"colorbar\":{\"outlinewidth\":0,\"ticks\":\"\"},\"colorscale\":[[0.0,\"#0d0887\"],[0.1111111111111111,\"#46039f\"],[0.2222222222222222,\"#7201a8\"],[0.3333333333333333,\"#9c179e\"],[0.4444444444444444,\"#bd3786\"],[0.5555555555555556,\"#d8576b\"],[0.6666666666666666,\"#ed7953\"],[0.7777777777777778,\"#fb9f3a\"],[0.8888888888888888,\"#fdca26\"],[1.0,\"#f0f921\"]],\"type\":\"surface\"}],\"table\":[{\"cells\":{\"fill\":{\"color\":\"#EBF0F8\"},\"line\":{\"color\":\"white\"}},\"header\":{\"fill\":{\"color\":\"#C8D4E3\"},\"line\":{\"color\":\"white\"}},\"type\":\"table\"}]},\"layout\":{\"annotationdefaults\":{\"arrowcolor\":\"#2a3f5f\",\"arrowhead\":0,\"arrowwidth\":1},\"autotypenumbers\":\"strict\",\"coloraxis\":{\"colorbar\":{\"outlinewidth\":0,\"ticks\":\"\"}},\"colorscale\":{\"diverging\":[[0,\"#8e0152\"],[0.1,\"#c51b7d\"],[0.2,\"#de77ae\"],[0.3,\"#f1b6da\"],[0.4,\"#fde0ef\"],[0.5,\"#f7f7f7\"],[0.6,\"#e6f5d0\"],[0.7,\"#b8e186\"],[0.8,\"#7fbc41\"],[0.9,\"#4d9221\"],[1,\"#276419\"]],\"sequential\":[[0.0,\"#0d0887\"],[0.1111111111111111,\"#46039f\"],[0.2222222222222222,\"#7201a8\"],[0.3333333333333333,\"#9c179e\"],[0.4444444444444444,\"#bd3786\"],[0.5555555555555556,\"#d8576b\"],[0.6666666666666666,\"#ed7953\"],[0.7777777777777778,\"#fb9f3a\"],[0.8888888888888888,\"#fdca26\"],[1.0,\"#f0f921\"]],\"sequentialminus\":[[0.0,\"#0d0887\"],[0.1111111111111111,\"#46039f\"],[0.2222222222222222,\"#7201a8\"],[0.3333333333333333,\"#9c179e\"],[0.4444444444444444,\"#bd3786\"],[0.5555555555555556,\"#d8576b\"],[0.6666666666666666,\"#ed7953\"],[0.7777777777777778,\"#fb9f3a\"],[0.8888888888888888,\"#fdca26\"],[1.0,\"#f0f921\"]]},\"colorway\":[\"#636efa\",\"#EF553B\",\"#00cc96\",\"#ab63fa\",\"#FFA15A\",\"#19d3f3\",\"#FF6692\",\"#B6E880\",\"#FF97FF\",\"#FECB52\"],\"font\":{\"color\":\"#2a3f5f\"},\"geo\":{\"bgcolor\":\"white\",\"lakecolor\":\"white\",\"landcolor\":\"#E5ECF6\",\"showlakes\":true,\"showland\":true,\"subunitcolor\":\"white\"},\"hoverlabel\":{\"align\":\"left\"},\"hovermode\":\"closest\",\"mapbox\":{\"style\":\"light\"},\"paper_bgcolor\":\"white\",\"plot_bgcolor\":\"#E5ECF6\",\"polar\":{\"angularaxis\":{\"gridcolor\":\"white\",\"linecolor\":\"white\",\"ticks\":\"\"},\"bgcolor\":\"#E5ECF6\",\"radialaxis\":{\"gridcolor\":\"white\",\"linecolor\":\"white\",\"ticks\":\"\"}},\"scene\":{\"xaxis\":{\"backgroundcolor\":\"#E5ECF6\",\"gridcolor\":\"white\",\"gridwidth\":2,\"linecolor\":\"white\",\"showbackground\":true,\"ticks\":\"\",\"zerolinecolor\":\"white\"},\"yaxis\":{\"backgroundcolor\":\"#E5ECF6\",\"gridcolor\":\"white\",\"gridwidth\":2,\"linecolor\":\"white\",\"showbackground\":true,\"ticks\":\"\",\"zerolinecolor\":\"white\"},\"zaxis\":{\"backgroundcolor\":\"#E5ECF6\",\"gridcolor\":\"white\",\"gridwidth\":2,\"linecolor\":\"white\",\"showbackground\":true,\"ticks\":\"\",\"zerolinecolor\":\"white\"}},\"shapedefaults\":{\"line\":{\"color\":\"#2a3f5f\"}},\"ternary\":{\"aaxis\":{\"gridcolor\":\"white\",\"linecolor\":\"white\",\"ticks\":\"\"},\"baxis\":{\"gridcolor\":\"white\",\"linecolor\":\"white\",\"ticks\":\"\"},\"bgcolor\":\"#E5ECF6\",\"caxis\":{\"gridcolor\":\"white\",\"linecolor\":\"white\",\"ticks\":\"\"}},\"title\":{\"x\":0.05},\"xaxis\":{\"automargin\":true,\"gridcolor\":\"white\",\"linecolor\":\"white\",\"ticks\":\"\",\"title\":{\"standoff\":15},\"zerolinecolor\":\"white\",\"zerolinewidth\":2},\"yaxis\":{\"automargin\":true,\"gridcolor\":\"white\",\"linecolor\":\"white\",\"ticks\":\"\",\"title\":{\"standoff\":15},\"zerolinecolor\":\"white\",\"zerolinewidth\":2}}},\"title\":{\"text\":\"Trends of top 10 moderately downloaded datasets (cumulative) - normalized\"},\"xaxis\":{\"title\":{\"text\":\"date\"}},\"yaxis\":{\"title\":{\"text\":\"number of downloads\"}}},                        {\"responsive\": true}                    ).then(function(){\n",
       "                            \n",
       "var gd = document.getElementById('16affeea-9a3d-4263-b81d-ee5e9dad459e');\n",
       "var x = new MutationObserver(function (mutations, observer) {{\n",
       "        var display = window.getComputedStyle(gd).display;\n",
       "        if (!display || display === 'none') {{\n",
       "            console.log([gd, 'removed!']);\n",
       "            Plotly.purge(gd);\n",
       "            observer.disconnect();\n",
       "        }}\n",
       "}});\n",
       "\n",
       "// Listen for the removal of the full notebook cells\n",
       "var notebookContainer = gd.closest('#notebook-container');\n",
       "if (notebookContainer) {{\n",
       "    x.observe(notebookContainer, {childList: true});\n",
       "}}\n",
       "\n",
       "// Listen for the clearing of the current output cell\n",
       "var outputEl = gd.closest('.output');\n",
       "if (outputEl) {{\n",
       "    x.observe(outputEl, {childList: true});\n",
       "}}\n",
       "\n",
       "                        })                };                });            </script>        </div>"
      ]
     },
     "metadata": {},
     "output_type": "display_data"
    }
   ],
   "source": [
    "top10_norm = top_ds_norm[top_ds_norm['value'] < 11][0:10]\n",
    "active_norm_ids = top10_norm['dataset_id'].tolist()\n",
    "active_norm_names = top10_norm['dataset_name'].tolist()\n",
    "\n",
    "dataset_download_trends(active_norm_ids, active_norm_names, 'Trends of top 10 moderately downloaded datasets (cumulative) - normalized')\n"
   ]
  },
  {
   "cell_type": "markdown",
   "id": "19208037",
   "metadata": {
    "extensions": {
     "jupyter_dashboards": {
      "version": 1,
      "views": {
       "grid_default": {},
       "report_default": {
        "hidden": false
       }
      }
     }
    }
   },
   "source": [
    "##### Lightly downloaded"
   ]
  },
  {
   "cell_type": "code",
   "execution_count": 213,
   "id": "f869f34c",
   "metadata": {
    "extensions": {
     "jupyter_dashboards": {
      "version": 1,
      "views": {
       "grid_default": {},
       "report_default": {
        "hidden": false
       }
      }
     }
    }
   },
   "outputs": [
    {
     "data": {
      "application/vnd.plotly.v1+json": {
       "config": {
        "plotlyServerURL": "https://plot.ly"
       },
       "data": [
        {
         "hovertemplate": "<i>Date</i>: %{x}<br>Downloads</i>: %{y}<br><br>%{text}</i>",
         "mode": "lines+markers",
         "text": [
          "Spleen — A single-cell transcriptomic atlas characterizes ageing tissues in the mouse",
          "Spleen — A single-cell transcriptomic atlas characterizes ageing tissues in the mouse",
          "Spleen — A single-cell transcriptomic atlas characterizes ageing tissues in the mouse",
          "Spleen — A single-cell transcriptomic atlas characterizes ageing tissues in the mouse",
          "Spleen — A single-cell transcriptomic atlas characterizes ageing tissues in the mouse",
          "Spleen — A single-cell transcriptomic atlas characterizes ageing tissues in the mouse"
         ],
         "type": "scatter",
         "x": [
          "2021-05-19",
          "2021-05-21",
          "2021-06-05",
          "2021-06-10",
          "2021-06-15",
          "2021-07-17"
         ],
         "y": [
          1,
          2,
          3,
          4,
          5,
          6
         ]
        },
        {
         "hovertemplate": "<i>Date</i>: %{x}<br>Downloads</i>: %{y}<br><br>%{text}</i>",
         "mode": "lines+markers",
         "text": [
          "Tongue — A single-cell transcriptomic atlas characterizes ageing tissues in the mouse",
          "Tongue — A single-cell transcriptomic atlas characterizes ageing tissues in the mouse",
          "Tongue — A single-cell transcriptomic atlas characterizes ageing tissues in the mouse",
          "Tongue — A single-cell transcriptomic atlas characterizes ageing tissues in the mouse",
          "Tongue — A single-cell transcriptomic atlas characterizes ageing tissues in the mouse",
          "Tongue — A single-cell transcriptomic atlas characterizes ageing tissues in the mouse"
         ],
         "type": "scatter",
         "x": [
          "2021-05-19",
          "2021-05-21",
          "2021-06-05",
          "2021-06-10",
          "2021-06-15",
          "2021-07-17"
         ],
         "y": [
          1,
          2,
          3,
          4,
          5,
          6
         ]
        },
        {
         "hovertemplate": "<i>Date</i>: %{x}<br>Downloads</i>: %{y}<br><br>%{text}</i>",
         "mode": "lines+markers",
         "text": [
          "Limb muscle — A single-cell transcriptomic atlas characterizes ageing tissues in the mouse",
          "Limb muscle — A single-cell transcriptomic atlas characterizes ageing tissues in the mouse",
          "Limb muscle — A single-cell transcriptomic atlas characterizes ageing tissues in the mouse",
          "Limb muscle — A single-cell transcriptomic atlas characterizes ageing tissues in the mouse",
          "Limb muscle — A single-cell transcriptomic atlas characterizes ageing tissues in the mouse",
          "Limb muscle — A single-cell transcriptomic atlas characterizes ageing tissues in the mouse",
          "Limb muscle — A single-cell transcriptomic atlas characterizes ageing tissues in the mouse"
         ],
         "type": "scatter",
         "x": [
          "2021-05-19",
          "2021-05-21",
          "2021-05-28",
          "2021-06-05",
          "2021-06-09",
          "2021-06-15",
          "2021-07-17"
         ],
         "y": [
          1,
          2,
          3,
          4,
          5,
          6,
          7
         ]
        },
        {
         "hovertemplate": "<i>Date</i>: %{x}<br>Downloads</i>: %{y}<br><br>%{text}</i>",
         "mode": "lines+markers",
         "text": [
          "Bone marrow — A single-cell transcriptomic atlas characterizes ageing tissues in the mouse",
          "Bone marrow — A single-cell transcriptomic atlas characterizes ageing tissues in the mouse",
          "Bone marrow — A single-cell transcriptomic atlas characterizes ageing tissues in the mouse",
          "Bone marrow — A single-cell transcriptomic atlas characterizes ageing tissues in the mouse",
          "Bone marrow — A single-cell transcriptomic atlas characterizes ageing tissues in the mouse",
          "Bone marrow — A single-cell transcriptomic atlas characterizes ageing tissues in the mouse",
          "Bone marrow — A single-cell transcriptomic atlas characterizes ageing tissues in the mouse"
         ],
         "type": "scatter",
         "x": [
          "2021-05-19",
          "2021-05-21",
          "2021-06-05",
          "2021-06-10",
          "2021-06-15",
          "2021-07-12",
          "2021-07-17"
         ],
         "y": [
          1,
          2,
          3,
          4,
          5,
          6,
          7
         ]
        },
        {
         "hovertemplate": "<i>Date</i>: %{x}<br>Downloads</i>: %{y}<br><br>%{text}</i>",
         "mode": "lines+markers",
         "text": [
          "Pancreas — A single-cell transcriptomic atlas characterizes ageing tissues in the mouse",
          "Pancreas — A single-cell transcriptomic atlas characterizes ageing tissues in the mouse",
          "Pancreas — A single-cell transcriptomic atlas characterizes ageing tissues in the mouse",
          "Pancreas — A single-cell transcriptomic atlas characterizes ageing tissues in the mouse",
          "Pancreas — A single-cell transcriptomic atlas characterizes ageing tissues in the mouse",
          "Pancreas — A single-cell transcriptomic atlas characterizes ageing tissues in the mouse",
          "Pancreas — A single-cell transcriptomic atlas characterizes ageing tissues in the mouse"
         ],
         "type": "scatter",
         "x": [
          "2021-04-24",
          "2021-05-19",
          "2021-05-21",
          "2021-06-05",
          "2021-06-10",
          "2021-06-15",
          "2021-07-17"
         ],
         "y": [
          1,
          2,
          3,
          4,
          5,
          6,
          7
         ]
        },
        {
         "hovertemplate": "<i>Date</i>: %{x}<br>Downloads</i>: %{y}<br><br>%{text}</i>",
         "mode": "lines+markers",
         "text": [
          "An integrated transcriptomic and epigenomic atlas of mouse primary motor cortex cell types: SMARTer_cells_MOp",
          "An integrated transcriptomic and epigenomic atlas of mouse primary motor cortex cell types: SMARTer_cells_MOp",
          "An integrated transcriptomic and epigenomic atlas of mouse primary motor cortex cell types: SMARTer_cells_MOp",
          "An integrated transcriptomic and epigenomic atlas of mouse primary motor cortex cell types: SMARTer_cells_MOp",
          "An integrated transcriptomic and epigenomic atlas of mouse primary motor cortex cell types: SMARTer_cells_MOp",
          "An integrated transcriptomic and epigenomic atlas of mouse primary motor cortex cell types: SMARTer_cells_MOp"
         ],
         "type": "scatter",
         "x": [
          "2021-05-21",
          "2021-06-03",
          "2021-06-05",
          "2021-06-09",
          "2021-06-15",
          "2021-07-17"
         ],
         "y": [
          2,
          3,
          4,
          5,
          6,
          7
         ]
        },
        {
         "hovertemplate": "<i>Date</i>: %{x}<br>Downloads</i>: %{y}<br><br>%{text}</i>",
         "mode": "lines+markers",
         "text": [
          "Thymus — A single-cell transcriptomic atlas characterizes ageing tissues in the mouse",
          "Thymus — A single-cell transcriptomic atlas characterizes ageing tissues in the mouse",
          "Thymus — A single-cell transcriptomic atlas characterizes ageing tissues in the mouse",
          "Thymus — A single-cell transcriptomic atlas characterizes ageing tissues in the mouse",
          "Thymus — A single-cell transcriptomic atlas characterizes ageing tissues in the mouse",
          "Thymus — A single-cell transcriptomic atlas characterizes ageing tissues in the mouse"
         ],
         "type": "scatter",
         "x": [
          "2021-05-19",
          "2021-05-21",
          "2021-06-05",
          "2021-06-10",
          "2021-06-15",
          "2021-07-17"
         ],
         "y": [
          1,
          2,
          3,
          4,
          5,
          6
         ]
        },
        {
         "hovertemplate": "<i>Date</i>: %{x}<br>Downloads</i>: %{y}<br><br>%{text}</i>",
         "mode": "lines+markers",
         "text": [
          "Bone marrow — A single-cell transcriptomic atlas characterizes ageing tissues in the mouse",
          "Bone marrow — A single-cell transcriptomic atlas characterizes ageing tissues in the mouse",
          "Bone marrow — A single-cell transcriptomic atlas characterizes ageing tissues in the mouse",
          "Bone marrow — A single-cell transcriptomic atlas characterizes ageing tissues in the mouse",
          "Bone marrow — A single-cell transcriptomic atlas characterizes ageing tissues in the mouse",
          "Bone marrow — A single-cell transcriptomic atlas characterizes ageing tissues in the mouse"
         ],
         "type": "scatter",
         "x": [
          "2021-05-19",
          "2021-05-21",
          "2021-06-05",
          "2021-06-10",
          "2021-06-15",
          "2021-07-17"
         ],
         "y": [
          1,
          2,
          3,
          4,
          5,
          6
         ]
        },
        {
         "hovertemplate": "<i>Date</i>: %{x}<br>Downloads</i>: %{y}<br><br>%{text}</i>",
         "mode": "lines+markers",
         "text": [
          "Pancreas — A single-cell transcriptomic atlas characterizes ageing tissues in the mouse",
          "Pancreas — A single-cell transcriptomic atlas characterizes ageing tissues in the mouse",
          "Pancreas — A single-cell transcriptomic atlas characterizes ageing tissues in the mouse",
          "Pancreas — A single-cell transcriptomic atlas characterizes ageing tissues in the mouse",
          "Pancreas — A single-cell transcriptomic atlas characterizes ageing tissues in the mouse",
          "Pancreas — A single-cell transcriptomic atlas characterizes ageing tissues in the mouse",
          "Pancreas — A single-cell transcriptomic atlas characterizes ageing tissues in the mouse"
         ],
         "type": "scatter",
         "x": [
          "2021-04-24",
          "2021-05-19",
          "2021-05-21",
          "2021-06-05",
          "2021-06-10",
          "2021-06-15",
          "2021-07-17"
         ],
         "y": [
          1,
          2,
          3,
          4,
          5,
          6,
          7
         ]
        },
        {
         "hovertemplate": "<i>Date</i>: %{x}<br>Downloads</i>: %{y}<br><br>%{text}</i>",
         "mode": "lines+markers",
         "text": [
          "Trachea — A single-cell transcriptomic atlas characterizes ageing tissues in the mouse",
          "Trachea — A single-cell transcriptomic atlas characterizes ageing tissues in the mouse",
          "Trachea — A single-cell transcriptomic atlas characterizes ageing tissues in the mouse",
          "Trachea — A single-cell transcriptomic atlas characterizes ageing tissues in the mouse",
          "Trachea — A single-cell transcriptomic atlas characterizes ageing tissues in the mouse",
          "Trachea — A single-cell transcriptomic atlas characterizes ageing tissues in the mouse"
         ],
         "type": "scatter",
         "x": [
          "2021-05-19",
          "2021-05-21",
          "2021-06-05",
          "2021-06-09",
          "2021-06-15",
          "2021-07-17"
         ],
         "y": [
          1,
          2,
          3,
          4,
          5,
          6
         ]
        }
       ],
       "layout": {
        "showlegend": false,
        "template": {
         "data": {
          "bar": [
           {
            "error_x": {
             "color": "#2a3f5f"
            },
            "error_y": {
             "color": "#2a3f5f"
            },
            "marker": {
             "line": {
              "color": "#E5ECF6",
              "width": 0.5
             },
             "pattern": {
              "fillmode": "overlay",
              "size": 10,
              "solidity": 0.2
             }
            },
            "type": "bar"
           }
          ],
          "barpolar": [
           {
            "marker": {
             "line": {
              "color": "#E5ECF6",
              "width": 0.5
             },
             "pattern": {
              "fillmode": "overlay",
              "size": 10,
              "solidity": 0.2
             }
            },
            "type": "barpolar"
           }
          ],
          "carpet": [
           {
            "aaxis": {
             "endlinecolor": "#2a3f5f",
             "gridcolor": "white",
             "linecolor": "white",
             "minorgridcolor": "white",
             "startlinecolor": "#2a3f5f"
            },
            "baxis": {
             "endlinecolor": "#2a3f5f",
             "gridcolor": "white",
             "linecolor": "white",
             "minorgridcolor": "white",
             "startlinecolor": "#2a3f5f"
            },
            "type": "carpet"
           }
          ],
          "choropleth": [
           {
            "colorbar": {
             "outlinewidth": 0,
             "ticks": ""
            },
            "type": "choropleth"
           }
          ],
          "contour": [
           {
            "colorbar": {
             "outlinewidth": 0,
             "ticks": ""
            },
            "colorscale": [
             [
              0,
              "#0d0887"
             ],
             [
              0.1111111111111111,
              "#46039f"
             ],
             [
              0.2222222222222222,
              "#7201a8"
             ],
             [
              0.3333333333333333,
              "#9c179e"
             ],
             [
              0.4444444444444444,
              "#bd3786"
             ],
             [
              0.5555555555555556,
              "#d8576b"
             ],
             [
              0.6666666666666666,
              "#ed7953"
             ],
             [
              0.7777777777777778,
              "#fb9f3a"
             ],
             [
              0.8888888888888888,
              "#fdca26"
             ],
             [
              1,
              "#f0f921"
             ]
            ],
            "type": "contour"
           }
          ],
          "contourcarpet": [
           {
            "colorbar": {
             "outlinewidth": 0,
             "ticks": ""
            },
            "type": "contourcarpet"
           }
          ],
          "heatmap": [
           {
            "colorbar": {
             "outlinewidth": 0,
             "ticks": ""
            },
            "colorscale": [
             [
              0,
              "#0d0887"
             ],
             [
              0.1111111111111111,
              "#46039f"
             ],
             [
              0.2222222222222222,
              "#7201a8"
             ],
             [
              0.3333333333333333,
              "#9c179e"
             ],
             [
              0.4444444444444444,
              "#bd3786"
             ],
             [
              0.5555555555555556,
              "#d8576b"
             ],
             [
              0.6666666666666666,
              "#ed7953"
             ],
             [
              0.7777777777777778,
              "#fb9f3a"
             ],
             [
              0.8888888888888888,
              "#fdca26"
             ],
             [
              1,
              "#f0f921"
             ]
            ],
            "type": "heatmap"
           }
          ],
          "heatmapgl": [
           {
            "colorbar": {
             "outlinewidth": 0,
             "ticks": ""
            },
            "colorscale": [
             [
              0,
              "#0d0887"
             ],
             [
              0.1111111111111111,
              "#46039f"
             ],
             [
              0.2222222222222222,
              "#7201a8"
             ],
             [
              0.3333333333333333,
              "#9c179e"
             ],
             [
              0.4444444444444444,
              "#bd3786"
             ],
             [
              0.5555555555555556,
              "#d8576b"
             ],
             [
              0.6666666666666666,
              "#ed7953"
             ],
             [
              0.7777777777777778,
              "#fb9f3a"
             ],
             [
              0.8888888888888888,
              "#fdca26"
             ],
             [
              1,
              "#f0f921"
             ]
            ],
            "type": "heatmapgl"
           }
          ],
          "histogram": [
           {
            "marker": {
             "pattern": {
              "fillmode": "overlay",
              "size": 10,
              "solidity": 0.2
             }
            },
            "type": "histogram"
           }
          ],
          "histogram2d": [
           {
            "colorbar": {
             "outlinewidth": 0,
             "ticks": ""
            },
            "colorscale": [
             [
              0,
              "#0d0887"
             ],
             [
              0.1111111111111111,
              "#46039f"
             ],
             [
              0.2222222222222222,
              "#7201a8"
             ],
             [
              0.3333333333333333,
              "#9c179e"
             ],
             [
              0.4444444444444444,
              "#bd3786"
             ],
             [
              0.5555555555555556,
              "#d8576b"
             ],
             [
              0.6666666666666666,
              "#ed7953"
             ],
             [
              0.7777777777777778,
              "#fb9f3a"
             ],
             [
              0.8888888888888888,
              "#fdca26"
             ],
             [
              1,
              "#f0f921"
             ]
            ],
            "type": "histogram2d"
           }
          ],
          "histogram2dcontour": [
           {
            "colorbar": {
             "outlinewidth": 0,
             "ticks": ""
            },
            "colorscale": [
             [
              0,
              "#0d0887"
             ],
             [
              0.1111111111111111,
              "#46039f"
             ],
             [
              0.2222222222222222,
              "#7201a8"
             ],
             [
              0.3333333333333333,
              "#9c179e"
             ],
             [
              0.4444444444444444,
              "#bd3786"
             ],
             [
              0.5555555555555556,
              "#d8576b"
             ],
             [
              0.6666666666666666,
              "#ed7953"
             ],
             [
              0.7777777777777778,
              "#fb9f3a"
             ],
             [
              0.8888888888888888,
              "#fdca26"
             ],
             [
              1,
              "#f0f921"
             ]
            ],
            "type": "histogram2dcontour"
           }
          ],
          "mesh3d": [
           {
            "colorbar": {
             "outlinewidth": 0,
             "ticks": ""
            },
            "type": "mesh3d"
           }
          ],
          "parcoords": [
           {
            "line": {
             "colorbar": {
              "outlinewidth": 0,
              "ticks": ""
             }
            },
            "type": "parcoords"
           }
          ],
          "pie": [
           {
            "automargin": true,
            "type": "pie"
           }
          ],
          "scatter": [
           {
            "marker": {
             "colorbar": {
              "outlinewidth": 0,
              "ticks": ""
             }
            },
            "type": "scatter"
           }
          ],
          "scatter3d": [
           {
            "line": {
             "colorbar": {
              "outlinewidth": 0,
              "ticks": ""
             }
            },
            "marker": {
             "colorbar": {
              "outlinewidth": 0,
              "ticks": ""
             }
            },
            "type": "scatter3d"
           }
          ],
          "scattercarpet": [
           {
            "marker": {
             "colorbar": {
              "outlinewidth": 0,
              "ticks": ""
             }
            },
            "type": "scattercarpet"
           }
          ],
          "scattergeo": [
           {
            "marker": {
             "colorbar": {
              "outlinewidth": 0,
              "ticks": ""
             }
            },
            "type": "scattergeo"
           }
          ],
          "scattergl": [
           {
            "marker": {
             "colorbar": {
              "outlinewidth": 0,
              "ticks": ""
             }
            },
            "type": "scattergl"
           }
          ],
          "scattermapbox": [
           {
            "marker": {
             "colorbar": {
              "outlinewidth": 0,
              "ticks": ""
             }
            },
            "type": "scattermapbox"
           }
          ],
          "scatterpolar": [
           {
            "marker": {
             "colorbar": {
              "outlinewidth": 0,
              "ticks": ""
             }
            },
            "type": "scatterpolar"
           }
          ],
          "scatterpolargl": [
           {
            "marker": {
             "colorbar": {
              "outlinewidth": 0,
              "ticks": ""
             }
            },
            "type": "scatterpolargl"
           }
          ],
          "scatterternary": [
           {
            "marker": {
             "colorbar": {
              "outlinewidth": 0,
              "ticks": ""
             }
            },
            "type": "scatterternary"
           }
          ],
          "surface": [
           {
            "colorbar": {
             "outlinewidth": 0,
             "ticks": ""
            },
            "colorscale": [
             [
              0,
              "#0d0887"
             ],
             [
              0.1111111111111111,
              "#46039f"
             ],
             [
              0.2222222222222222,
              "#7201a8"
             ],
             [
              0.3333333333333333,
              "#9c179e"
             ],
             [
              0.4444444444444444,
              "#bd3786"
             ],
             [
              0.5555555555555556,
              "#d8576b"
             ],
             [
              0.6666666666666666,
              "#ed7953"
             ],
             [
              0.7777777777777778,
              "#fb9f3a"
             ],
             [
              0.8888888888888888,
              "#fdca26"
             ],
             [
              1,
              "#f0f921"
             ]
            ],
            "type": "surface"
           }
          ],
          "table": [
           {
            "cells": {
             "fill": {
              "color": "#EBF0F8"
             },
             "line": {
              "color": "white"
             }
            },
            "header": {
             "fill": {
              "color": "#C8D4E3"
             },
             "line": {
              "color": "white"
             }
            },
            "type": "table"
           }
          ]
         },
         "layout": {
          "annotationdefaults": {
           "arrowcolor": "#2a3f5f",
           "arrowhead": 0,
           "arrowwidth": 1
          },
          "autotypenumbers": "strict",
          "coloraxis": {
           "colorbar": {
            "outlinewidth": 0,
            "ticks": ""
           }
          },
          "colorscale": {
           "diverging": [
            [
             0,
             "#8e0152"
            ],
            [
             0.1,
             "#c51b7d"
            ],
            [
             0.2,
             "#de77ae"
            ],
            [
             0.3,
             "#f1b6da"
            ],
            [
             0.4,
             "#fde0ef"
            ],
            [
             0.5,
             "#f7f7f7"
            ],
            [
             0.6,
             "#e6f5d0"
            ],
            [
             0.7,
             "#b8e186"
            ],
            [
             0.8,
             "#7fbc41"
            ],
            [
             0.9,
             "#4d9221"
            ],
            [
             1,
             "#276419"
            ]
           ],
           "sequential": [
            [
             0,
             "#0d0887"
            ],
            [
             0.1111111111111111,
             "#46039f"
            ],
            [
             0.2222222222222222,
             "#7201a8"
            ],
            [
             0.3333333333333333,
             "#9c179e"
            ],
            [
             0.4444444444444444,
             "#bd3786"
            ],
            [
             0.5555555555555556,
             "#d8576b"
            ],
            [
             0.6666666666666666,
             "#ed7953"
            ],
            [
             0.7777777777777778,
             "#fb9f3a"
            ],
            [
             0.8888888888888888,
             "#fdca26"
            ],
            [
             1,
             "#f0f921"
            ]
           ],
           "sequentialminus": [
            [
             0,
             "#0d0887"
            ],
            [
             0.1111111111111111,
             "#46039f"
            ],
            [
             0.2222222222222222,
             "#7201a8"
            ],
            [
             0.3333333333333333,
             "#9c179e"
            ],
            [
             0.4444444444444444,
             "#bd3786"
            ],
            [
             0.5555555555555556,
             "#d8576b"
            ],
            [
             0.6666666666666666,
             "#ed7953"
            ],
            [
             0.7777777777777778,
             "#fb9f3a"
            ],
            [
             0.8888888888888888,
             "#fdca26"
            ],
            [
             1,
             "#f0f921"
            ]
           ]
          },
          "colorway": [
           "#636efa",
           "#EF553B",
           "#00cc96",
           "#ab63fa",
           "#FFA15A",
           "#19d3f3",
           "#FF6692",
           "#B6E880",
           "#FF97FF",
           "#FECB52"
          ],
          "font": {
           "color": "#2a3f5f"
          },
          "geo": {
           "bgcolor": "white",
           "lakecolor": "white",
           "landcolor": "#E5ECF6",
           "showlakes": true,
           "showland": true,
           "subunitcolor": "white"
          },
          "hoverlabel": {
           "align": "left"
          },
          "hovermode": "closest",
          "mapbox": {
           "style": "light"
          },
          "paper_bgcolor": "white",
          "plot_bgcolor": "#E5ECF6",
          "polar": {
           "angularaxis": {
            "gridcolor": "white",
            "linecolor": "white",
            "ticks": ""
           },
           "bgcolor": "#E5ECF6",
           "radialaxis": {
            "gridcolor": "white",
            "linecolor": "white",
            "ticks": ""
           }
          },
          "scene": {
           "xaxis": {
            "backgroundcolor": "#E5ECF6",
            "gridcolor": "white",
            "gridwidth": 2,
            "linecolor": "white",
            "showbackground": true,
            "ticks": "",
            "zerolinecolor": "white"
           },
           "yaxis": {
            "backgroundcolor": "#E5ECF6",
            "gridcolor": "white",
            "gridwidth": 2,
            "linecolor": "white",
            "showbackground": true,
            "ticks": "",
            "zerolinecolor": "white"
           },
           "zaxis": {
            "backgroundcolor": "#E5ECF6",
            "gridcolor": "white",
            "gridwidth": 2,
            "linecolor": "white",
            "showbackground": true,
            "ticks": "",
            "zerolinecolor": "white"
           }
          },
          "shapedefaults": {
           "line": {
            "color": "#2a3f5f"
           }
          },
          "ternary": {
           "aaxis": {
            "gridcolor": "white",
            "linecolor": "white",
            "ticks": ""
           },
           "baxis": {
            "gridcolor": "white",
            "linecolor": "white",
            "ticks": ""
           },
           "bgcolor": "#E5ECF6",
           "caxis": {
            "gridcolor": "white",
            "linecolor": "white",
            "ticks": ""
           }
          },
          "title": {
           "x": 0.05
          },
          "xaxis": {
           "automargin": true,
           "gridcolor": "white",
           "linecolor": "white",
           "ticks": "",
           "title": {
            "standoff": 15
           },
           "zerolinecolor": "white",
           "zerolinewidth": 2
          },
          "yaxis": {
           "automargin": true,
           "gridcolor": "white",
           "linecolor": "white",
           "ticks": "",
           "title": {
            "standoff": 15
           },
           "zerolinecolor": "white",
           "zerolinewidth": 2
          }
         }
        },
        "title": {
         "text": "Trends of top 10 moderately downloaded datasets (cumulative) - normalized"
        },
        "xaxis": {
         "title": {
          "text": "date"
         }
        },
        "yaxis": {
         "title": {
          "text": "number of downloads"
         }
        }
       }
      },
      "text/html": [
       "<div>                            <div id=\"5d22fbb0-ec8c-4ece-824d-79a02d66dd92\" class=\"plotly-graph-div\" style=\"height:525px; width:100%;\"></div>            <script type=\"text/javascript\">                require([\"plotly\"], function(Plotly) {                    window.PLOTLYENV=window.PLOTLYENV || {};                                    if (document.getElementById(\"5d22fbb0-ec8c-4ece-824d-79a02d66dd92\")) {                    Plotly.newPlot(                        \"5d22fbb0-ec8c-4ece-824d-79a02d66dd92\",                        [{\"hovertemplate\":\"<i>Date</i>: %{x}<br>Downloads</i>: %{y}<br><br>%{text}</i>\",\"mode\":\"lines+markers\",\"text\":[\"Spleen \\u2014 A single-cell transcriptomic atlas characterizes ageing tissues in the mouse\",\"Spleen \\u2014 A single-cell transcriptomic atlas characterizes ageing tissues in the mouse\",\"Spleen \\u2014 A single-cell transcriptomic atlas characterizes ageing tissues in the mouse\",\"Spleen \\u2014 A single-cell transcriptomic atlas characterizes ageing tissues in the mouse\",\"Spleen \\u2014 A single-cell transcriptomic atlas characterizes ageing tissues in the mouse\",\"Spleen \\u2014 A single-cell transcriptomic atlas characterizes ageing tissues in the mouse\"],\"type\":\"scatter\",\"x\":[\"2021-05-19\",\"2021-05-21\",\"2021-06-05\",\"2021-06-10\",\"2021-06-15\",\"2021-07-17\"],\"y\":[1,2,3,4,5,6]},{\"hovertemplate\":\"<i>Date</i>: %{x}<br>Downloads</i>: %{y}<br><br>%{text}</i>\",\"mode\":\"lines+markers\",\"text\":[\"Tongue \\u2014 A single-cell transcriptomic atlas characterizes ageing tissues in the mouse\",\"Tongue \\u2014 A single-cell transcriptomic atlas characterizes ageing tissues in the mouse\",\"Tongue \\u2014 A single-cell transcriptomic atlas characterizes ageing tissues in the mouse\",\"Tongue \\u2014 A single-cell transcriptomic atlas characterizes ageing tissues in the mouse\",\"Tongue \\u2014 A single-cell transcriptomic atlas characterizes ageing tissues in the mouse\",\"Tongue \\u2014 A single-cell transcriptomic atlas characterizes ageing tissues in the mouse\"],\"type\":\"scatter\",\"x\":[\"2021-05-19\",\"2021-05-21\",\"2021-06-05\",\"2021-06-10\",\"2021-06-15\",\"2021-07-17\"],\"y\":[1,2,3,4,5,6]},{\"hovertemplate\":\"<i>Date</i>: %{x}<br>Downloads</i>: %{y}<br><br>%{text}</i>\",\"mode\":\"lines+markers\",\"text\":[\"Limb muscle \\u2014 A single-cell transcriptomic atlas characterizes ageing tissues in the mouse\",\"Limb muscle \\u2014 A single-cell transcriptomic atlas characterizes ageing tissues in the mouse\",\"Limb muscle \\u2014 A single-cell transcriptomic atlas characterizes ageing tissues in the mouse\",\"Limb muscle \\u2014 A single-cell transcriptomic atlas characterizes ageing tissues in the mouse\",\"Limb muscle \\u2014 A single-cell transcriptomic atlas characterizes ageing tissues in the mouse\",\"Limb muscle \\u2014 A single-cell transcriptomic atlas characterizes ageing tissues in the mouse\",\"Limb muscle \\u2014 A single-cell transcriptomic atlas characterizes ageing tissues in the mouse\"],\"type\":\"scatter\",\"x\":[\"2021-05-19\",\"2021-05-21\",\"2021-05-28\",\"2021-06-05\",\"2021-06-09\",\"2021-06-15\",\"2021-07-17\"],\"y\":[1,2,3,4,5,6,7]},{\"hovertemplate\":\"<i>Date</i>: %{x}<br>Downloads</i>: %{y}<br><br>%{text}</i>\",\"mode\":\"lines+markers\",\"text\":[\"Bone marrow \\u2014 A single-cell transcriptomic atlas characterizes ageing tissues in the mouse\",\"Bone marrow \\u2014 A single-cell transcriptomic atlas characterizes ageing tissues in the mouse\",\"Bone marrow \\u2014 A single-cell transcriptomic atlas characterizes ageing tissues in the mouse\",\"Bone marrow \\u2014 A single-cell transcriptomic atlas characterizes ageing tissues in the mouse\",\"Bone marrow \\u2014 A single-cell transcriptomic atlas characterizes ageing tissues in the mouse\",\"Bone marrow \\u2014 A single-cell transcriptomic atlas characterizes ageing tissues in the mouse\",\"Bone marrow \\u2014 A single-cell transcriptomic atlas characterizes ageing tissues in the mouse\"],\"type\":\"scatter\",\"x\":[\"2021-05-19\",\"2021-05-21\",\"2021-06-05\",\"2021-06-10\",\"2021-06-15\",\"2021-07-12\",\"2021-07-17\"],\"y\":[1,2,3,4,5,6,7]},{\"hovertemplate\":\"<i>Date</i>: %{x}<br>Downloads</i>: %{y}<br><br>%{text}</i>\",\"mode\":\"lines+markers\",\"text\":[\"Pancreas \\u2014 A single-cell transcriptomic atlas characterizes ageing tissues in the mouse\",\"Pancreas \\u2014 A single-cell transcriptomic atlas characterizes ageing tissues in the mouse\",\"Pancreas \\u2014 A single-cell transcriptomic atlas characterizes ageing tissues in the mouse\",\"Pancreas \\u2014 A single-cell transcriptomic atlas characterizes ageing tissues in the mouse\",\"Pancreas \\u2014 A single-cell transcriptomic atlas characterizes ageing tissues in the mouse\",\"Pancreas \\u2014 A single-cell transcriptomic atlas characterizes ageing tissues in the mouse\",\"Pancreas \\u2014 A single-cell transcriptomic atlas characterizes ageing tissues in the mouse\"],\"type\":\"scatter\",\"x\":[\"2021-04-24\",\"2021-05-19\",\"2021-05-21\",\"2021-06-05\",\"2021-06-10\",\"2021-06-15\",\"2021-07-17\"],\"y\":[1,2,3,4,5,6,7]},{\"hovertemplate\":\"<i>Date</i>: %{x}<br>Downloads</i>: %{y}<br><br>%{text}</i>\",\"mode\":\"lines+markers\",\"text\":[\"An integrated transcriptomic and epigenomic atlas of mouse primary motor cortex cell types: SMARTer_cells_MOp\",\"An integrated transcriptomic and epigenomic atlas of mouse primary motor cortex cell types: SMARTer_cells_MOp\",\"An integrated transcriptomic and epigenomic atlas of mouse primary motor cortex cell types: SMARTer_cells_MOp\",\"An integrated transcriptomic and epigenomic atlas of mouse primary motor cortex cell types: SMARTer_cells_MOp\",\"An integrated transcriptomic and epigenomic atlas of mouse primary motor cortex cell types: SMARTer_cells_MOp\",\"An integrated transcriptomic and epigenomic atlas of mouse primary motor cortex cell types: SMARTer_cells_MOp\"],\"type\":\"scatter\",\"x\":[\"2021-05-21\",\"2021-06-03\",\"2021-06-05\",\"2021-06-09\",\"2021-06-15\",\"2021-07-17\"],\"y\":[2,3,4,5,6,7]},{\"hovertemplate\":\"<i>Date</i>: %{x}<br>Downloads</i>: %{y}<br><br>%{text}</i>\",\"mode\":\"lines+markers\",\"text\":[\"Thymus \\u2014 A single-cell transcriptomic atlas characterizes ageing tissues in the mouse\",\"Thymus \\u2014 A single-cell transcriptomic atlas characterizes ageing tissues in the mouse\",\"Thymus \\u2014 A single-cell transcriptomic atlas characterizes ageing tissues in the mouse\",\"Thymus \\u2014 A single-cell transcriptomic atlas characterizes ageing tissues in the mouse\",\"Thymus \\u2014 A single-cell transcriptomic atlas characterizes ageing tissues in the mouse\",\"Thymus \\u2014 A single-cell transcriptomic atlas characterizes ageing tissues in the mouse\"],\"type\":\"scatter\",\"x\":[\"2021-05-19\",\"2021-05-21\",\"2021-06-05\",\"2021-06-10\",\"2021-06-15\",\"2021-07-17\"],\"y\":[1,2,3,4,5,6]},{\"hovertemplate\":\"<i>Date</i>: %{x}<br>Downloads</i>: %{y}<br><br>%{text}</i>\",\"mode\":\"lines+markers\",\"text\":[\"Bone marrow \\u2014 A single-cell transcriptomic atlas characterizes ageing tissues in the mouse\",\"Bone marrow \\u2014 A single-cell transcriptomic atlas characterizes ageing tissues in the mouse\",\"Bone marrow \\u2014 A single-cell transcriptomic atlas characterizes ageing tissues in the mouse\",\"Bone marrow \\u2014 A single-cell transcriptomic atlas characterizes ageing tissues in the mouse\",\"Bone marrow \\u2014 A single-cell transcriptomic atlas characterizes ageing tissues in the mouse\",\"Bone marrow \\u2014 A single-cell transcriptomic atlas characterizes ageing tissues in the mouse\"],\"type\":\"scatter\",\"x\":[\"2021-05-19\",\"2021-05-21\",\"2021-06-05\",\"2021-06-10\",\"2021-06-15\",\"2021-07-17\"],\"y\":[1,2,3,4,5,6]},{\"hovertemplate\":\"<i>Date</i>: %{x}<br>Downloads</i>: %{y}<br><br>%{text}</i>\",\"mode\":\"lines+markers\",\"text\":[\"Pancreas \\u2014 A single-cell transcriptomic atlas characterizes ageing tissues in the mouse\",\"Pancreas \\u2014 A single-cell transcriptomic atlas characterizes ageing tissues in the mouse\",\"Pancreas \\u2014 A single-cell transcriptomic atlas characterizes ageing tissues in the mouse\",\"Pancreas \\u2014 A single-cell transcriptomic atlas characterizes ageing tissues in the mouse\",\"Pancreas \\u2014 A single-cell transcriptomic atlas characterizes ageing tissues in the mouse\",\"Pancreas \\u2014 A single-cell transcriptomic atlas characterizes ageing tissues in the mouse\",\"Pancreas \\u2014 A single-cell transcriptomic atlas characterizes ageing tissues in the mouse\"],\"type\":\"scatter\",\"x\":[\"2021-04-24\",\"2021-05-19\",\"2021-05-21\",\"2021-06-05\",\"2021-06-10\",\"2021-06-15\",\"2021-07-17\"],\"y\":[1,2,3,4,5,6,7]},{\"hovertemplate\":\"<i>Date</i>: %{x}<br>Downloads</i>: %{y}<br><br>%{text}</i>\",\"mode\":\"lines+markers\",\"text\":[\"Trachea \\u2014 A single-cell transcriptomic atlas characterizes ageing tissues in the mouse\",\"Trachea \\u2014 A single-cell transcriptomic atlas characterizes ageing tissues in the mouse\",\"Trachea \\u2014 A single-cell transcriptomic atlas characterizes ageing tissues in the mouse\",\"Trachea \\u2014 A single-cell transcriptomic atlas characterizes ageing tissues in the mouse\",\"Trachea \\u2014 A single-cell transcriptomic atlas characterizes ageing tissues in the mouse\",\"Trachea \\u2014 A single-cell transcriptomic atlas characterizes ageing tissues in the mouse\"],\"type\":\"scatter\",\"x\":[\"2021-05-19\",\"2021-05-21\",\"2021-06-05\",\"2021-06-09\",\"2021-06-15\",\"2021-07-17\"],\"y\":[1,2,3,4,5,6]}],                        {\"showlegend\":false,\"template\":{\"data\":{\"bar\":[{\"error_x\":{\"color\":\"#2a3f5f\"},\"error_y\":{\"color\":\"#2a3f5f\"},\"marker\":{\"line\":{\"color\":\"#E5ECF6\",\"width\":0.5},\"pattern\":{\"fillmode\":\"overlay\",\"size\":10,\"solidity\":0.2}},\"type\":\"bar\"}],\"barpolar\":[{\"marker\":{\"line\":{\"color\":\"#E5ECF6\",\"width\":0.5},\"pattern\":{\"fillmode\":\"overlay\",\"size\":10,\"solidity\":0.2}},\"type\":\"barpolar\"}],\"carpet\":[{\"aaxis\":{\"endlinecolor\":\"#2a3f5f\",\"gridcolor\":\"white\",\"linecolor\":\"white\",\"minorgridcolor\":\"white\",\"startlinecolor\":\"#2a3f5f\"},\"baxis\":{\"endlinecolor\":\"#2a3f5f\",\"gridcolor\":\"white\",\"linecolor\":\"white\",\"minorgridcolor\":\"white\",\"startlinecolor\":\"#2a3f5f\"},\"type\":\"carpet\"}],\"choropleth\":[{\"colorbar\":{\"outlinewidth\":0,\"ticks\":\"\"},\"type\":\"choropleth\"}],\"contour\":[{\"colorbar\":{\"outlinewidth\":0,\"ticks\":\"\"},\"colorscale\":[[0.0,\"#0d0887\"],[0.1111111111111111,\"#46039f\"],[0.2222222222222222,\"#7201a8\"],[0.3333333333333333,\"#9c179e\"],[0.4444444444444444,\"#bd3786\"],[0.5555555555555556,\"#d8576b\"],[0.6666666666666666,\"#ed7953\"],[0.7777777777777778,\"#fb9f3a\"],[0.8888888888888888,\"#fdca26\"],[1.0,\"#f0f921\"]],\"type\":\"contour\"}],\"contourcarpet\":[{\"colorbar\":{\"outlinewidth\":0,\"ticks\":\"\"},\"type\":\"contourcarpet\"}],\"heatmap\":[{\"colorbar\":{\"outlinewidth\":0,\"ticks\":\"\"},\"colorscale\":[[0.0,\"#0d0887\"],[0.1111111111111111,\"#46039f\"],[0.2222222222222222,\"#7201a8\"],[0.3333333333333333,\"#9c179e\"],[0.4444444444444444,\"#bd3786\"],[0.5555555555555556,\"#d8576b\"],[0.6666666666666666,\"#ed7953\"],[0.7777777777777778,\"#fb9f3a\"],[0.8888888888888888,\"#fdca26\"],[1.0,\"#f0f921\"]],\"type\":\"heatmap\"}],\"heatmapgl\":[{\"colorbar\":{\"outlinewidth\":0,\"ticks\":\"\"},\"colorscale\":[[0.0,\"#0d0887\"],[0.1111111111111111,\"#46039f\"],[0.2222222222222222,\"#7201a8\"],[0.3333333333333333,\"#9c179e\"],[0.4444444444444444,\"#bd3786\"],[0.5555555555555556,\"#d8576b\"],[0.6666666666666666,\"#ed7953\"],[0.7777777777777778,\"#fb9f3a\"],[0.8888888888888888,\"#fdca26\"],[1.0,\"#f0f921\"]],\"type\":\"heatmapgl\"}],\"histogram\":[{\"marker\":{\"pattern\":{\"fillmode\":\"overlay\",\"size\":10,\"solidity\":0.2}},\"type\":\"histogram\"}],\"histogram2d\":[{\"colorbar\":{\"outlinewidth\":0,\"ticks\":\"\"},\"colorscale\":[[0.0,\"#0d0887\"],[0.1111111111111111,\"#46039f\"],[0.2222222222222222,\"#7201a8\"],[0.3333333333333333,\"#9c179e\"],[0.4444444444444444,\"#bd3786\"],[0.5555555555555556,\"#d8576b\"],[0.6666666666666666,\"#ed7953\"],[0.7777777777777778,\"#fb9f3a\"],[0.8888888888888888,\"#fdca26\"],[1.0,\"#f0f921\"]],\"type\":\"histogram2d\"}],\"histogram2dcontour\":[{\"colorbar\":{\"outlinewidth\":0,\"ticks\":\"\"},\"colorscale\":[[0.0,\"#0d0887\"],[0.1111111111111111,\"#46039f\"],[0.2222222222222222,\"#7201a8\"],[0.3333333333333333,\"#9c179e\"],[0.4444444444444444,\"#bd3786\"],[0.5555555555555556,\"#d8576b\"],[0.6666666666666666,\"#ed7953\"],[0.7777777777777778,\"#fb9f3a\"],[0.8888888888888888,\"#fdca26\"],[1.0,\"#f0f921\"]],\"type\":\"histogram2dcontour\"}],\"mesh3d\":[{\"colorbar\":{\"outlinewidth\":0,\"ticks\":\"\"},\"type\":\"mesh3d\"}],\"parcoords\":[{\"line\":{\"colorbar\":{\"outlinewidth\":0,\"ticks\":\"\"}},\"type\":\"parcoords\"}],\"pie\":[{\"automargin\":true,\"type\":\"pie\"}],\"scatter\":[{\"marker\":{\"colorbar\":{\"outlinewidth\":0,\"ticks\":\"\"}},\"type\":\"scatter\"}],\"scatter3d\":[{\"line\":{\"colorbar\":{\"outlinewidth\":0,\"ticks\":\"\"}},\"marker\":{\"colorbar\":{\"outlinewidth\":0,\"ticks\":\"\"}},\"type\":\"scatter3d\"}],\"scattercarpet\":[{\"marker\":{\"colorbar\":{\"outlinewidth\":0,\"ticks\":\"\"}},\"type\":\"scattercarpet\"}],\"scattergeo\":[{\"marker\":{\"colorbar\":{\"outlinewidth\":0,\"ticks\":\"\"}},\"type\":\"scattergeo\"}],\"scattergl\":[{\"marker\":{\"colorbar\":{\"outlinewidth\":0,\"ticks\":\"\"}},\"type\":\"scattergl\"}],\"scattermapbox\":[{\"marker\":{\"colorbar\":{\"outlinewidth\":0,\"ticks\":\"\"}},\"type\":\"scattermapbox\"}],\"scatterpolar\":[{\"marker\":{\"colorbar\":{\"outlinewidth\":0,\"ticks\":\"\"}},\"type\":\"scatterpolar\"}],\"scatterpolargl\":[{\"marker\":{\"colorbar\":{\"outlinewidth\":0,\"ticks\":\"\"}},\"type\":\"scatterpolargl\"}],\"scatterternary\":[{\"marker\":{\"colorbar\":{\"outlinewidth\":0,\"ticks\":\"\"}},\"type\":\"scatterternary\"}],\"surface\":[{\"colorbar\":{\"outlinewidth\":0,\"ticks\":\"\"},\"colorscale\":[[0.0,\"#0d0887\"],[0.1111111111111111,\"#46039f\"],[0.2222222222222222,\"#7201a8\"],[0.3333333333333333,\"#9c179e\"],[0.4444444444444444,\"#bd3786\"],[0.5555555555555556,\"#d8576b\"],[0.6666666666666666,\"#ed7953\"],[0.7777777777777778,\"#fb9f3a\"],[0.8888888888888888,\"#fdca26\"],[1.0,\"#f0f921\"]],\"type\":\"surface\"}],\"table\":[{\"cells\":{\"fill\":{\"color\":\"#EBF0F8\"},\"line\":{\"color\":\"white\"}},\"header\":{\"fill\":{\"color\":\"#C8D4E3\"},\"line\":{\"color\":\"white\"}},\"type\":\"table\"}]},\"layout\":{\"annotationdefaults\":{\"arrowcolor\":\"#2a3f5f\",\"arrowhead\":0,\"arrowwidth\":1},\"autotypenumbers\":\"strict\",\"coloraxis\":{\"colorbar\":{\"outlinewidth\":0,\"ticks\":\"\"}},\"colorscale\":{\"diverging\":[[0,\"#8e0152\"],[0.1,\"#c51b7d\"],[0.2,\"#de77ae\"],[0.3,\"#f1b6da\"],[0.4,\"#fde0ef\"],[0.5,\"#f7f7f7\"],[0.6,\"#e6f5d0\"],[0.7,\"#b8e186\"],[0.8,\"#7fbc41\"],[0.9,\"#4d9221\"],[1,\"#276419\"]],\"sequential\":[[0.0,\"#0d0887\"],[0.1111111111111111,\"#46039f\"],[0.2222222222222222,\"#7201a8\"],[0.3333333333333333,\"#9c179e\"],[0.4444444444444444,\"#bd3786\"],[0.5555555555555556,\"#d8576b\"],[0.6666666666666666,\"#ed7953\"],[0.7777777777777778,\"#fb9f3a\"],[0.8888888888888888,\"#fdca26\"],[1.0,\"#f0f921\"]],\"sequentialminus\":[[0.0,\"#0d0887\"],[0.1111111111111111,\"#46039f\"],[0.2222222222222222,\"#7201a8\"],[0.3333333333333333,\"#9c179e\"],[0.4444444444444444,\"#bd3786\"],[0.5555555555555556,\"#d8576b\"],[0.6666666666666666,\"#ed7953\"],[0.7777777777777778,\"#fb9f3a\"],[0.8888888888888888,\"#fdca26\"],[1.0,\"#f0f921\"]]},\"colorway\":[\"#636efa\",\"#EF553B\",\"#00cc96\",\"#ab63fa\",\"#FFA15A\",\"#19d3f3\",\"#FF6692\",\"#B6E880\",\"#FF97FF\",\"#FECB52\"],\"font\":{\"color\":\"#2a3f5f\"},\"geo\":{\"bgcolor\":\"white\",\"lakecolor\":\"white\",\"landcolor\":\"#E5ECF6\",\"showlakes\":true,\"showland\":true,\"subunitcolor\":\"white\"},\"hoverlabel\":{\"align\":\"left\"},\"hovermode\":\"closest\",\"mapbox\":{\"style\":\"light\"},\"paper_bgcolor\":\"white\",\"plot_bgcolor\":\"#E5ECF6\",\"polar\":{\"angularaxis\":{\"gridcolor\":\"white\",\"linecolor\":\"white\",\"ticks\":\"\"},\"bgcolor\":\"#E5ECF6\",\"radialaxis\":{\"gridcolor\":\"white\",\"linecolor\":\"white\",\"ticks\":\"\"}},\"scene\":{\"xaxis\":{\"backgroundcolor\":\"#E5ECF6\",\"gridcolor\":\"white\",\"gridwidth\":2,\"linecolor\":\"white\",\"showbackground\":true,\"ticks\":\"\",\"zerolinecolor\":\"white\"},\"yaxis\":{\"backgroundcolor\":\"#E5ECF6\",\"gridcolor\":\"white\",\"gridwidth\":2,\"linecolor\":\"white\",\"showbackground\":true,\"ticks\":\"\",\"zerolinecolor\":\"white\"},\"zaxis\":{\"backgroundcolor\":\"#E5ECF6\",\"gridcolor\":\"white\",\"gridwidth\":2,\"linecolor\":\"white\",\"showbackground\":true,\"ticks\":\"\",\"zerolinecolor\":\"white\"}},\"shapedefaults\":{\"line\":{\"color\":\"#2a3f5f\"}},\"ternary\":{\"aaxis\":{\"gridcolor\":\"white\",\"linecolor\":\"white\",\"ticks\":\"\"},\"baxis\":{\"gridcolor\":\"white\",\"linecolor\":\"white\",\"ticks\":\"\"},\"bgcolor\":\"#E5ECF6\",\"caxis\":{\"gridcolor\":\"white\",\"linecolor\":\"white\",\"ticks\":\"\"}},\"title\":{\"x\":0.05},\"xaxis\":{\"automargin\":true,\"gridcolor\":\"white\",\"linecolor\":\"white\",\"ticks\":\"\",\"title\":{\"standoff\":15},\"zerolinecolor\":\"white\",\"zerolinewidth\":2},\"yaxis\":{\"automargin\":true,\"gridcolor\":\"white\",\"linecolor\":\"white\",\"ticks\":\"\",\"title\":{\"standoff\":15},\"zerolinecolor\":\"white\",\"zerolinewidth\":2}}},\"title\":{\"text\":\"Trends of top 10 moderately downloaded datasets (cumulative) - normalized\"},\"xaxis\":{\"title\":{\"text\":\"date\"}},\"yaxis\":{\"title\":{\"text\":\"number of downloads\"}}},                        {\"responsive\": true}                    ).then(function(){\n",
       "                            \n",
       "var gd = document.getElementById('5d22fbb0-ec8c-4ece-824d-79a02d66dd92');\n",
       "var x = new MutationObserver(function (mutations, observer) {{\n",
       "        var display = window.getComputedStyle(gd).display;\n",
       "        if (!display || display === 'none') {{\n",
       "            console.log([gd, 'removed!']);\n",
       "            Plotly.purge(gd);\n",
       "            observer.disconnect();\n",
       "        }}\n",
       "}});\n",
       "\n",
       "// Listen for the removal of the full notebook cells\n",
       "var notebookContainer = gd.closest('#notebook-container');\n",
       "if (notebookContainer) {{\n",
       "    x.observe(notebookContainer, {childList: true});\n",
       "}}\n",
       "\n",
       "// Listen for the clearing of the current output cell\n",
       "var outputEl = gd.closest('.output');\n",
       "if (outputEl) {{\n",
       "    x.observe(outputEl, {childList: true});\n",
       "}}\n",
       "\n",
       "                        })                };                });            </script>        </div>"
      ]
     },
     "metadata": {},
     "output_type": "display_data"
    }
   ],
   "source": [
    "top10_norm = top_ds_norm[top_ds_norm['value'] < 6][0:10]\n",
    "active_norm_ids = top10_norm['dataset_id'].tolist()\n",
    "active_norm_names = top10_norm['dataset_name'].tolist()\n",
    "\n",
    "dataset_download_trends(active_norm_ids, active_norm_names, 'Trends of top 10 moderately downloaded datasets (cumulative) - normalized')\n"
   ]
  },
  {
   "cell_type": "markdown",
   "id": "0d47e489",
   "metadata": {
    "extensions": {
     "jupyter_dashboards": {
      "version": 1,
      "views": {
       "grid_default": {},
       "report_default": {
        "hidden": false
       }
      }
     }
    }
   },
   "source": [
    "## Most active users"
   ]
  },
  {
   "cell_type": "markdown",
   "id": "14c2a798",
   "metadata": {
    "extensions": {
     "jupyter_dashboards": {
      "version": 1,
      "views": {
       "grid_default": {},
       "report_default": {
        "hidden": false
       }
      }
     }
    }
   },
   "source": [
    "#### Number of unique users"
   ]
  },
  {
   "cell_type": "code",
   "execution_count": 60,
   "id": "3f5c35e0",
   "metadata": {
    "extensions": {
     "jupyter_dashboards": {
      "version": 1,
      "views": {
       "grid_default": {},
       "report_default": {
        "hidden": false
       }
      }
     }
    }
   },
   "outputs": [
    {
     "data": {
      "text/plain": [
       "332"
      ]
     },
     "execution_count": 60,
     "metadata": {},
     "output_type": "execute_result"
    }
   ],
   "source": [
    "len(combined['remoteip'].drop_duplicates().tolist())"
   ]
  },
  {
   "cell_type": "code",
   "execution_count": 169,
   "id": "b2cd7502",
   "metadata": {
    "extensions": {
     "jupyter_dashboards": {
      "version": 1,
      "views": {
       "grid_default": {},
       "report_default": {
        "hidden": false
       }
      }
     }
    }
   },
   "outputs": [
    {
     "data": {
      "text/html": [
       "<div>\n",
       "<style scoped>\n",
       "    .dataframe tbody tr th:only-of-type {\n",
       "        vertical-align: middle;\n",
       "    }\n",
       "\n",
       "    .dataframe tbody tr th {\n",
       "        vertical-align: top;\n",
       "    }\n",
       "\n",
       "    .dataframe thead th {\n",
       "        text-align: right;\n",
       "    }\n",
       "</style>\n",
       "<table border=\"1\" class=\"dataframe\">\n",
       "  <thead>\n",
       "    <tr style=\"text-align: right;\">\n",
       "      <th></th>\n",
       "      <th>remoteip</th>\n",
       "      <th>count</th>\n",
       "      <th>perc</th>\n",
       "    </tr>\n",
       "  </thead>\n",
       "  <tbody>\n",
       "    <tr>\n",
       "      <th>0</th>\n",
       "      <td>23.119.165.103</td>\n",
       "      <td>516</td>\n",
       "      <td>0.29</td>\n",
       "    </tr>\n",
       "    <tr>\n",
       "      <th>1</th>\n",
       "      <td>129.79.37.84</td>\n",
       "      <td>114</td>\n",
       "      <td>0.07</td>\n",
       "    </tr>\n",
       "    <tr>\n",
       "      <th>2</th>\n",
       "      <td>149.165.234.129</td>\n",
       "      <td>73</td>\n",
       "      <td>0.04</td>\n",
       "    </tr>\n",
       "    <tr>\n",
       "      <th>3</th>\n",
       "      <td>98.210.3.15</td>\n",
       "      <td>65</td>\n",
       "      <td>0.04</td>\n",
       "    </tr>\n",
       "    <tr>\n",
       "      <th>4</th>\n",
       "      <td>149.165.234.130</td>\n",
       "      <td>63</td>\n",
       "      <td>0.04</td>\n",
       "    </tr>\n",
       "    <tr>\n",
       "      <th>5</th>\n",
       "      <td>149.159.219.125</td>\n",
       "      <td>52</td>\n",
       "      <td>0.03</td>\n",
       "    </tr>\n",
       "    <tr>\n",
       "      <th>6</th>\n",
       "      <td>149.165.234.206</td>\n",
       "      <td>43</td>\n",
       "      <td>0.02</td>\n",
       "    </tr>\n",
       "    <tr>\n",
       "      <th>7</th>\n",
       "      <td>129.79.247.78</td>\n",
       "      <td>43</td>\n",
       "      <td>0.02</td>\n",
       "    </tr>\n",
       "    <tr>\n",
       "      <th>8</th>\n",
       "      <td>50.18.239.242</td>\n",
       "      <td>27</td>\n",
       "      <td>0.02</td>\n",
       "    </tr>\n",
       "    <tr>\n",
       "      <th>9</th>\n",
       "      <td>47.189.207.57</td>\n",
       "      <td>24</td>\n",
       "      <td>0.01</td>\n",
       "    </tr>\n",
       "  </tbody>\n",
       "</table>\n",
       "</div>"
      ],
      "text/plain": [
       "          remoteip  count  perc\n",
       "0   23.119.165.103    516  0.29\n",
       "1     129.79.37.84    114  0.07\n",
       "2  149.165.234.129     73  0.04\n",
       "3      98.210.3.15     65  0.04\n",
       "4  149.165.234.130     63  0.04\n",
       "5  149.159.219.125     52  0.03\n",
       "6  149.165.234.206     43  0.02\n",
       "7    129.79.247.78     43  0.02\n",
       "8    50.18.239.242     27  0.02\n",
       "9    47.189.207.57     24  0.01"
      ]
     },
     "execution_count": 169,
     "metadata": {},
     "output_type": "execute_result"
    }
   ],
   "source": [
    "users = combined[['dataset_id', 'dataset_name','download_dt','remoteip']].drop_duplicates()\n",
    "users['count'] = 1\n",
    "users = users[['remoteip', 'count']].groupby(['remoteip']).sum().reset_index()\n",
    "users= users.sort_values(by=['count'], ascending = False).reset_index(drop = True)\n",
    "users['total'] = users['count'].sum()\n",
    "users['perc'] = round(users['count']/users['total'], 2)\n",
    "users[['remoteip', 'count', 'perc']][:10]"
   ]
  },
  {
   "cell_type": "markdown",
   "id": "ac1b5306",
   "metadata": {
    "extensions": {
     "jupyter_dashboards": {
      "version": 1,
      "views": {
       "grid_default": {},
       "report_default": {
        "hidden": false
       }
      }
     }
    }
   },
   "source": [
    "## Downloads by dataset characteristic (WIP)"
   ]
  },
  {
   "cell_type": "code",
   "execution_count": 34,
   "id": "9078719e",
   "metadata": {
    "extensions": {
     "jupyter_dashboards": {
      "version": 1,
      "views": {
       "grid_default": {},
       "report_default": {
        "hidden": true
       }
      }
     }
    }
   },
   "outputs": [],
   "source": [
    "df_char = downloads_df[['dataset_id', 'download_dt', 'filetype', 'remoteip', 'download_agent']]\n",
    "df_char['count'] = 1\n",
    "df_char = df_char.merge(datasets_df, how = 'inner', on = 'dataset_id')"
   ]
  },
  {
   "cell_type": "code",
   "execution_count": 35,
   "id": "05c5fd85",
   "metadata": {
    "extensions": {
     "jupyter_dashboards": {
      "version": 1,
      "views": {
       "grid_default": {},
       "report_default": {
        "hidden": true
       }
      }
     }
    }
   },
   "outputs": [],
   "source": [
    "ds_ethnicity = datasets_df[['ethnicity']].explode('ethnicity').reset_index(drop = True) \n",
    "ds_ethnicity['total'] = 1\n",
    "ds_ethnicity = ds_ethnicity.groupby(['ethnicity']).sum().reset_index()"
   ]
  },
  {
   "cell_type": "code",
   "execution_count": 36,
   "id": "3daaa43b",
   "metadata": {
    "extensions": {
     "jupyter_dashboards": {
      "version": 1,
      "views": {
       "grid_default": {},
       "report_default": {
        "hidden": false
       }
      }
     }
    }
   },
   "outputs": [
    {
     "data": {
      "text/html": [
       "<div>\n",
       "<style scoped>\n",
       "    .dataframe tbody tr th:only-of-type {\n",
       "        vertical-align: middle;\n",
       "    }\n",
       "\n",
       "    .dataframe tbody tr th {\n",
       "        vertical-align: top;\n",
       "    }\n",
       "\n",
       "    .dataframe thead th {\n",
       "        text-align: right;\n",
       "    }\n",
       "</style>\n",
       "<table border=\"1\" class=\"dataframe\">\n",
       "  <thead>\n",
       "    <tr style=\"text-align: right;\">\n",
       "      <th></th>\n",
       "      <th>ethnicity</th>\n",
       "      <th>count</th>\n",
       "      <th>total</th>\n",
       "      <th>normalized</th>\n",
       "    </tr>\n",
       "  </thead>\n",
       "  <tbody>\n",
       "    <tr>\n",
       "      <th>0</th>\n",
       "      <td>African American</td>\n",
       "      <td>178</td>\n",
       "      <td>8</td>\n",
       "      <td>22.0</td>\n",
       "    </tr>\n",
       "    <tr>\n",
       "      <th>1</th>\n",
       "      <td>Asian</td>\n",
       "      <td>98</td>\n",
       "      <td>8</td>\n",
       "      <td>12.0</td>\n",
       "    </tr>\n",
       "    <tr>\n",
       "      <th>2</th>\n",
       "      <td>Chinese</td>\n",
       "      <td>29</td>\n",
       "      <td>1</td>\n",
       "      <td>29.0</td>\n",
       "    </tr>\n",
       "    <tr>\n",
       "      <th>3</th>\n",
       "      <td>East Asian</td>\n",
       "      <td>93</td>\n",
       "      <td>2</td>\n",
       "      <td>46.0</td>\n",
       "    </tr>\n",
       "    <tr>\n",
       "      <th>4</th>\n",
       "      <td>European</td>\n",
       "      <td>452</td>\n",
       "      <td>20</td>\n",
       "      <td>23.0</td>\n",
       "    </tr>\n",
       "    <tr>\n",
       "      <th>5</th>\n",
       "      <td>Finnish</td>\n",
       "      <td>23</td>\n",
       "      <td>1</td>\n",
       "      <td>23.0</td>\n",
       "    </tr>\n",
       "    <tr>\n",
       "      <th>6</th>\n",
       "      <td>Hispanic or Latin American</td>\n",
       "      <td>225</td>\n",
       "      <td>6</td>\n",
       "      <td>38.0</td>\n",
       "    </tr>\n",
       "    <tr>\n",
       "      <th>7</th>\n",
       "      <td>male</td>\n",
       "      <td>83</td>\n",
       "      <td>1</td>\n",
       "      <td>83.0</td>\n",
       "    </tr>\n",
       "    <tr>\n",
       "      <th>8</th>\n",
       "      <td>na</td>\n",
       "      <td>457</td>\n",
       "      <td>68</td>\n",
       "      <td>7.0</td>\n",
       "    </tr>\n",
       "    <tr>\n",
       "      <th>9</th>\n",
       "      <td>unknown</td>\n",
       "      <td>1191</td>\n",
       "      <td>77</td>\n",
       "      <td>15.0</td>\n",
       "    </tr>\n",
       "  </tbody>\n",
       "</table>\n",
       "</div>"
      ],
      "text/plain": [
       "                    ethnicity  count  total  normalized\n",
       "0            African American    178      8        22.0\n",
       "1                       Asian     98      8        12.0\n",
       "2                     Chinese     29      1        29.0\n",
       "3                  East Asian     93      2        46.0\n",
       "4                    European    452     20        23.0\n",
       "5                     Finnish     23      1        23.0\n",
       "6  Hispanic or Latin American    225      6        38.0\n",
       "7                        male     83      1        83.0\n",
       "8                          na    457     68         7.0\n",
       "9                     unknown   1191     77        15.0"
      ]
     },
     "execution_count": 36,
     "metadata": {},
     "output_type": "execute_result"
    }
   ],
   "source": [
    "df_ethnicity = df_char[['ethnicity', 'count']].explode('ethnicity').reset_index(drop = True)\n",
    "df_ethnicity = df_ethnicity.groupby(['ethnicity']).sum().reset_index()\n",
    "\n",
    "df_ethnicity = df_ethnicity.merge(ds_ethnicity, how = 'inner', on = 'ethnicity')\n",
    "df_ethnicity['normalized'] = round(df_ethnicity['count']/df_ethnicity['total'])\n",
    "df_ethnicity"
   ]
  },
  {
   "cell_type": "code",
   "execution_count": 37,
   "id": "a76c78c9",
   "metadata": {
    "extensions": {
     "jupyter_dashboards": {
      "version": 1,
      "views": {
       "grid_default": {},
       "report_default": {
        "hidden": false
       }
      }
     }
    }
   },
   "outputs": [
    {
     "data": {
      "application/vnd.plotly.v1+json": {
       "config": {
        "plotlyServerURL": "https://plot.ly"
       },
       "data": [
        {
         "text": [
          "22.0",
          "12.0",
          "29.0",
          "46.0",
          "23.0",
          "23.0",
          "38.0",
          "83.0",
          "7.0",
          "15.0"
         ],
         "textposition": "outside",
         "type": "bar",
         "x": [
          "African American",
          "Asian",
          "Chinese",
          "East Asian",
          "European",
          "Finnish",
          "Hispanic or Latin American",
          "male",
          "na",
          "unknown"
         ],
         "y": [
          22,
          12,
          29,
          46,
          23,
          23,
          38,
          83,
          7,
          15
         ]
        }
       ],
       "layout": {
        "template": {
         "data": {
          "bar": [
           {
            "error_x": {
             "color": "#2a3f5f"
            },
            "error_y": {
             "color": "#2a3f5f"
            },
            "marker": {
             "line": {
              "color": "#E5ECF6",
              "width": 0.5
             },
             "pattern": {
              "fillmode": "overlay",
              "size": 10,
              "solidity": 0.2
             }
            },
            "type": "bar"
           }
          ],
          "barpolar": [
           {
            "marker": {
             "line": {
              "color": "#E5ECF6",
              "width": 0.5
             },
             "pattern": {
              "fillmode": "overlay",
              "size": 10,
              "solidity": 0.2
             }
            },
            "type": "barpolar"
           }
          ],
          "carpet": [
           {
            "aaxis": {
             "endlinecolor": "#2a3f5f",
             "gridcolor": "white",
             "linecolor": "white",
             "minorgridcolor": "white",
             "startlinecolor": "#2a3f5f"
            },
            "baxis": {
             "endlinecolor": "#2a3f5f",
             "gridcolor": "white",
             "linecolor": "white",
             "minorgridcolor": "white",
             "startlinecolor": "#2a3f5f"
            },
            "type": "carpet"
           }
          ],
          "choropleth": [
           {
            "colorbar": {
             "outlinewidth": 0,
             "ticks": ""
            },
            "type": "choropleth"
           }
          ],
          "contour": [
           {
            "colorbar": {
             "outlinewidth": 0,
             "ticks": ""
            },
            "colorscale": [
             [
              0,
              "#0d0887"
             ],
             [
              0.1111111111111111,
              "#46039f"
             ],
             [
              0.2222222222222222,
              "#7201a8"
             ],
             [
              0.3333333333333333,
              "#9c179e"
             ],
             [
              0.4444444444444444,
              "#bd3786"
             ],
             [
              0.5555555555555556,
              "#d8576b"
             ],
             [
              0.6666666666666666,
              "#ed7953"
             ],
             [
              0.7777777777777778,
              "#fb9f3a"
             ],
             [
              0.8888888888888888,
              "#fdca26"
             ],
             [
              1,
              "#f0f921"
             ]
            ],
            "type": "contour"
           }
          ],
          "contourcarpet": [
           {
            "colorbar": {
             "outlinewidth": 0,
             "ticks": ""
            },
            "type": "contourcarpet"
           }
          ],
          "heatmap": [
           {
            "colorbar": {
             "outlinewidth": 0,
             "ticks": ""
            },
            "colorscale": [
             [
              0,
              "#0d0887"
             ],
             [
              0.1111111111111111,
              "#46039f"
             ],
             [
              0.2222222222222222,
              "#7201a8"
             ],
             [
              0.3333333333333333,
              "#9c179e"
             ],
             [
              0.4444444444444444,
              "#bd3786"
             ],
             [
              0.5555555555555556,
              "#d8576b"
             ],
             [
              0.6666666666666666,
              "#ed7953"
             ],
             [
              0.7777777777777778,
              "#fb9f3a"
             ],
             [
              0.8888888888888888,
              "#fdca26"
             ],
             [
              1,
              "#f0f921"
             ]
            ],
            "type": "heatmap"
           }
          ],
          "heatmapgl": [
           {
            "colorbar": {
             "outlinewidth": 0,
             "ticks": ""
            },
            "colorscale": [
             [
              0,
              "#0d0887"
             ],
             [
              0.1111111111111111,
              "#46039f"
             ],
             [
              0.2222222222222222,
              "#7201a8"
             ],
             [
              0.3333333333333333,
              "#9c179e"
             ],
             [
              0.4444444444444444,
              "#bd3786"
             ],
             [
              0.5555555555555556,
              "#d8576b"
             ],
             [
              0.6666666666666666,
              "#ed7953"
             ],
             [
              0.7777777777777778,
              "#fb9f3a"
             ],
             [
              0.8888888888888888,
              "#fdca26"
             ],
             [
              1,
              "#f0f921"
             ]
            ],
            "type": "heatmapgl"
           }
          ],
          "histogram": [
           {
            "marker": {
             "pattern": {
              "fillmode": "overlay",
              "size": 10,
              "solidity": 0.2
             }
            },
            "type": "histogram"
           }
          ],
          "histogram2d": [
           {
            "colorbar": {
             "outlinewidth": 0,
             "ticks": ""
            },
            "colorscale": [
             [
              0,
              "#0d0887"
             ],
             [
              0.1111111111111111,
              "#46039f"
             ],
             [
              0.2222222222222222,
              "#7201a8"
             ],
             [
              0.3333333333333333,
              "#9c179e"
             ],
             [
              0.4444444444444444,
              "#bd3786"
             ],
             [
              0.5555555555555556,
              "#d8576b"
             ],
             [
              0.6666666666666666,
              "#ed7953"
             ],
             [
              0.7777777777777778,
              "#fb9f3a"
             ],
             [
              0.8888888888888888,
              "#fdca26"
             ],
             [
              1,
              "#f0f921"
             ]
            ],
            "type": "histogram2d"
           }
          ],
          "histogram2dcontour": [
           {
            "colorbar": {
             "outlinewidth": 0,
             "ticks": ""
            },
            "colorscale": [
             [
              0,
              "#0d0887"
             ],
             [
              0.1111111111111111,
              "#46039f"
             ],
             [
              0.2222222222222222,
              "#7201a8"
             ],
             [
              0.3333333333333333,
              "#9c179e"
             ],
             [
              0.4444444444444444,
              "#bd3786"
             ],
             [
              0.5555555555555556,
              "#d8576b"
             ],
             [
              0.6666666666666666,
              "#ed7953"
             ],
             [
              0.7777777777777778,
              "#fb9f3a"
             ],
             [
              0.8888888888888888,
              "#fdca26"
             ],
             [
              1,
              "#f0f921"
             ]
            ],
            "type": "histogram2dcontour"
           }
          ],
          "mesh3d": [
           {
            "colorbar": {
             "outlinewidth": 0,
             "ticks": ""
            },
            "type": "mesh3d"
           }
          ],
          "parcoords": [
           {
            "line": {
             "colorbar": {
              "outlinewidth": 0,
              "ticks": ""
             }
            },
            "type": "parcoords"
           }
          ],
          "pie": [
           {
            "automargin": true,
            "type": "pie"
           }
          ],
          "scatter": [
           {
            "marker": {
             "colorbar": {
              "outlinewidth": 0,
              "ticks": ""
             }
            },
            "type": "scatter"
           }
          ],
          "scatter3d": [
           {
            "line": {
             "colorbar": {
              "outlinewidth": 0,
              "ticks": ""
             }
            },
            "marker": {
             "colorbar": {
              "outlinewidth": 0,
              "ticks": ""
             }
            },
            "type": "scatter3d"
           }
          ],
          "scattercarpet": [
           {
            "marker": {
             "colorbar": {
              "outlinewidth": 0,
              "ticks": ""
             }
            },
            "type": "scattercarpet"
           }
          ],
          "scattergeo": [
           {
            "marker": {
             "colorbar": {
              "outlinewidth": 0,
              "ticks": ""
             }
            },
            "type": "scattergeo"
           }
          ],
          "scattergl": [
           {
            "marker": {
             "colorbar": {
              "outlinewidth": 0,
              "ticks": ""
             }
            },
            "type": "scattergl"
           }
          ],
          "scattermapbox": [
           {
            "marker": {
             "colorbar": {
              "outlinewidth": 0,
              "ticks": ""
             }
            },
            "type": "scattermapbox"
           }
          ],
          "scatterpolar": [
           {
            "marker": {
             "colorbar": {
              "outlinewidth": 0,
              "ticks": ""
             }
            },
            "type": "scatterpolar"
           }
          ],
          "scatterpolargl": [
           {
            "marker": {
             "colorbar": {
              "outlinewidth": 0,
              "ticks": ""
             }
            },
            "type": "scatterpolargl"
           }
          ],
          "scatterternary": [
           {
            "marker": {
             "colorbar": {
              "outlinewidth": 0,
              "ticks": ""
             }
            },
            "type": "scatterternary"
           }
          ],
          "surface": [
           {
            "colorbar": {
             "outlinewidth": 0,
             "ticks": ""
            },
            "colorscale": [
             [
              0,
              "#0d0887"
             ],
             [
              0.1111111111111111,
              "#46039f"
             ],
             [
              0.2222222222222222,
              "#7201a8"
             ],
             [
              0.3333333333333333,
              "#9c179e"
             ],
             [
              0.4444444444444444,
              "#bd3786"
             ],
             [
              0.5555555555555556,
              "#d8576b"
             ],
             [
              0.6666666666666666,
              "#ed7953"
             ],
             [
              0.7777777777777778,
              "#fb9f3a"
             ],
             [
              0.8888888888888888,
              "#fdca26"
             ],
             [
              1,
              "#f0f921"
             ]
            ],
            "type": "surface"
           }
          ],
          "table": [
           {
            "cells": {
             "fill": {
              "color": "#EBF0F8"
             },
             "line": {
              "color": "white"
             }
            },
            "header": {
             "fill": {
              "color": "#C8D4E3"
             },
             "line": {
              "color": "white"
             }
            },
            "type": "table"
           }
          ]
         },
         "layout": {
          "annotationdefaults": {
           "arrowcolor": "#2a3f5f",
           "arrowhead": 0,
           "arrowwidth": 1
          },
          "autotypenumbers": "strict",
          "coloraxis": {
           "colorbar": {
            "outlinewidth": 0,
            "ticks": ""
           }
          },
          "colorscale": {
           "diverging": [
            [
             0,
             "#8e0152"
            ],
            [
             0.1,
             "#c51b7d"
            ],
            [
             0.2,
             "#de77ae"
            ],
            [
             0.3,
             "#f1b6da"
            ],
            [
             0.4,
             "#fde0ef"
            ],
            [
             0.5,
             "#f7f7f7"
            ],
            [
             0.6,
             "#e6f5d0"
            ],
            [
             0.7,
             "#b8e186"
            ],
            [
             0.8,
             "#7fbc41"
            ],
            [
             0.9,
             "#4d9221"
            ],
            [
             1,
             "#276419"
            ]
           ],
           "sequential": [
            [
             0,
             "#0d0887"
            ],
            [
             0.1111111111111111,
             "#46039f"
            ],
            [
             0.2222222222222222,
             "#7201a8"
            ],
            [
             0.3333333333333333,
             "#9c179e"
            ],
            [
             0.4444444444444444,
             "#bd3786"
            ],
            [
             0.5555555555555556,
             "#d8576b"
            ],
            [
             0.6666666666666666,
             "#ed7953"
            ],
            [
             0.7777777777777778,
             "#fb9f3a"
            ],
            [
             0.8888888888888888,
             "#fdca26"
            ],
            [
             1,
             "#f0f921"
            ]
           ],
           "sequentialminus": [
            [
             0,
             "#0d0887"
            ],
            [
             0.1111111111111111,
             "#46039f"
            ],
            [
             0.2222222222222222,
             "#7201a8"
            ],
            [
             0.3333333333333333,
             "#9c179e"
            ],
            [
             0.4444444444444444,
             "#bd3786"
            ],
            [
             0.5555555555555556,
             "#d8576b"
            ],
            [
             0.6666666666666666,
             "#ed7953"
            ],
            [
             0.7777777777777778,
             "#fb9f3a"
            ],
            [
             0.8888888888888888,
             "#fdca26"
            ],
            [
             1,
             "#f0f921"
            ]
           ]
          },
          "colorway": [
           "#636efa",
           "#EF553B",
           "#00cc96",
           "#ab63fa",
           "#FFA15A",
           "#19d3f3",
           "#FF6692",
           "#B6E880",
           "#FF97FF",
           "#FECB52"
          ],
          "font": {
           "color": "#2a3f5f"
          },
          "geo": {
           "bgcolor": "white",
           "lakecolor": "white",
           "landcolor": "#E5ECF6",
           "showlakes": true,
           "showland": true,
           "subunitcolor": "white"
          },
          "hoverlabel": {
           "align": "left"
          },
          "hovermode": "closest",
          "mapbox": {
           "style": "light"
          },
          "paper_bgcolor": "white",
          "plot_bgcolor": "#E5ECF6",
          "polar": {
           "angularaxis": {
            "gridcolor": "white",
            "linecolor": "white",
            "ticks": ""
           },
           "bgcolor": "#E5ECF6",
           "radialaxis": {
            "gridcolor": "white",
            "linecolor": "white",
            "ticks": ""
           }
          },
          "scene": {
           "xaxis": {
            "backgroundcolor": "#E5ECF6",
            "gridcolor": "white",
            "gridwidth": 2,
            "linecolor": "white",
            "showbackground": true,
            "ticks": "",
            "zerolinecolor": "white"
           },
           "yaxis": {
            "backgroundcolor": "#E5ECF6",
            "gridcolor": "white",
            "gridwidth": 2,
            "linecolor": "white",
            "showbackground": true,
            "ticks": "",
            "zerolinecolor": "white"
           },
           "zaxis": {
            "backgroundcolor": "#E5ECF6",
            "gridcolor": "white",
            "gridwidth": 2,
            "linecolor": "white",
            "showbackground": true,
            "ticks": "",
            "zerolinecolor": "white"
           }
          },
          "shapedefaults": {
           "line": {
            "color": "#2a3f5f"
           }
          },
          "ternary": {
           "aaxis": {
            "gridcolor": "white",
            "linecolor": "white",
            "ticks": ""
           },
           "baxis": {
            "gridcolor": "white",
            "linecolor": "white",
            "ticks": ""
           },
           "bgcolor": "#E5ECF6",
           "caxis": {
            "gridcolor": "white",
            "linecolor": "white",
            "ticks": ""
           }
          },
          "title": {
           "x": 0.05
          },
          "xaxis": {
           "automargin": true,
           "gridcolor": "white",
           "linecolor": "white",
           "ticks": "",
           "title": {
            "standoff": 15
           },
           "zerolinecolor": "white",
           "zerolinewidth": 2
          },
          "yaxis": {
           "automargin": true,
           "gridcolor": "white",
           "linecolor": "white",
           "ticks": "",
           "title": {
            "standoff": 15
           },
           "zerolinecolor": "white",
           "zerolinewidth": 2
          }
         }
        }
       }
      },
      "text/html": [
       "<div>                            <div id=\"7d76e7a0-8942-4633-a169-b01ce5060078\" class=\"plotly-graph-div\" style=\"height:525px; width:100%;\"></div>            <script type=\"text/javascript\">                require([\"plotly\"], function(Plotly) {                    window.PLOTLYENV=window.PLOTLYENV || {};                                    if (document.getElementById(\"7d76e7a0-8942-4633-a169-b01ce5060078\")) {                    Plotly.newPlot(                        \"7d76e7a0-8942-4633-a169-b01ce5060078\",                        [{\"text\":[\"22.0\",\"12.0\",\"29.0\",\"46.0\",\"23.0\",\"23.0\",\"38.0\",\"83.0\",\"7.0\",\"15.0\"],\"textposition\":\"outside\",\"type\":\"bar\",\"x\":[\"African American\",\"Asian\",\"Chinese\",\"East Asian\",\"European\",\"Finnish\",\"Hispanic or Latin American\",\"male\",\"na\",\"unknown\"],\"y\":[22.0,12.0,29.0,46.0,23.0,23.0,38.0,83.0,7.0,15.0]}],                        {\"template\":{\"data\":{\"bar\":[{\"error_x\":{\"color\":\"#2a3f5f\"},\"error_y\":{\"color\":\"#2a3f5f\"},\"marker\":{\"line\":{\"color\":\"#E5ECF6\",\"width\":0.5},\"pattern\":{\"fillmode\":\"overlay\",\"size\":10,\"solidity\":0.2}},\"type\":\"bar\"}],\"barpolar\":[{\"marker\":{\"line\":{\"color\":\"#E5ECF6\",\"width\":0.5},\"pattern\":{\"fillmode\":\"overlay\",\"size\":10,\"solidity\":0.2}},\"type\":\"barpolar\"}],\"carpet\":[{\"aaxis\":{\"endlinecolor\":\"#2a3f5f\",\"gridcolor\":\"white\",\"linecolor\":\"white\",\"minorgridcolor\":\"white\",\"startlinecolor\":\"#2a3f5f\"},\"baxis\":{\"endlinecolor\":\"#2a3f5f\",\"gridcolor\":\"white\",\"linecolor\":\"white\",\"minorgridcolor\":\"white\",\"startlinecolor\":\"#2a3f5f\"},\"type\":\"carpet\"}],\"choropleth\":[{\"colorbar\":{\"outlinewidth\":0,\"ticks\":\"\"},\"type\":\"choropleth\"}],\"contour\":[{\"colorbar\":{\"outlinewidth\":0,\"ticks\":\"\"},\"colorscale\":[[0.0,\"#0d0887\"],[0.1111111111111111,\"#46039f\"],[0.2222222222222222,\"#7201a8\"],[0.3333333333333333,\"#9c179e\"],[0.4444444444444444,\"#bd3786\"],[0.5555555555555556,\"#d8576b\"],[0.6666666666666666,\"#ed7953\"],[0.7777777777777778,\"#fb9f3a\"],[0.8888888888888888,\"#fdca26\"],[1.0,\"#f0f921\"]],\"type\":\"contour\"}],\"contourcarpet\":[{\"colorbar\":{\"outlinewidth\":0,\"ticks\":\"\"},\"type\":\"contourcarpet\"}],\"heatmap\":[{\"colorbar\":{\"outlinewidth\":0,\"ticks\":\"\"},\"colorscale\":[[0.0,\"#0d0887\"],[0.1111111111111111,\"#46039f\"],[0.2222222222222222,\"#7201a8\"],[0.3333333333333333,\"#9c179e\"],[0.4444444444444444,\"#bd3786\"],[0.5555555555555556,\"#d8576b\"],[0.6666666666666666,\"#ed7953\"],[0.7777777777777778,\"#fb9f3a\"],[0.8888888888888888,\"#fdca26\"],[1.0,\"#f0f921\"]],\"type\":\"heatmap\"}],\"heatmapgl\":[{\"colorbar\":{\"outlinewidth\":0,\"ticks\":\"\"},\"colorscale\":[[0.0,\"#0d0887\"],[0.1111111111111111,\"#46039f\"],[0.2222222222222222,\"#7201a8\"],[0.3333333333333333,\"#9c179e\"],[0.4444444444444444,\"#bd3786\"],[0.5555555555555556,\"#d8576b\"],[0.6666666666666666,\"#ed7953\"],[0.7777777777777778,\"#fb9f3a\"],[0.8888888888888888,\"#fdca26\"],[1.0,\"#f0f921\"]],\"type\":\"heatmapgl\"}],\"histogram\":[{\"marker\":{\"pattern\":{\"fillmode\":\"overlay\",\"size\":10,\"solidity\":0.2}},\"type\":\"histogram\"}],\"histogram2d\":[{\"colorbar\":{\"outlinewidth\":0,\"ticks\":\"\"},\"colorscale\":[[0.0,\"#0d0887\"],[0.1111111111111111,\"#46039f\"],[0.2222222222222222,\"#7201a8\"],[0.3333333333333333,\"#9c179e\"],[0.4444444444444444,\"#bd3786\"],[0.5555555555555556,\"#d8576b\"],[0.6666666666666666,\"#ed7953\"],[0.7777777777777778,\"#fb9f3a\"],[0.8888888888888888,\"#fdca26\"],[1.0,\"#f0f921\"]],\"type\":\"histogram2d\"}],\"histogram2dcontour\":[{\"colorbar\":{\"outlinewidth\":0,\"ticks\":\"\"},\"colorscale\":[[0.0,\"#0d0887\"],[0.1111111111111111,\"#46039f\"],[0.2222222222222222,\"#7201a8\"],[0.3333333333333333,\"#9c179e\"],[0.4444444444444444,\"#bd3786\"],[0.5555555555555556,\"#d8576b\"],[0.6666666666666666,\"#ed7953\"],[0.7777777777777778,\"#fb9f3a\"],[0.8888888888888888,\"#fdca26\"],[1.0,\"#f0f921\"]],\"type\":\"histogram2dcontour\"}],\"mesh3d\":[{\"colorbar\":{\"outlinewidth\":0,\"ticks\":\"\"},\"type\":\"mesh3d\"}],\"parcoords\":[{\"line\":{\"colorbar\":{\"outlinewidth\":0,\"ticks\":\"\"}},\"type\":\"parcoords\"}],\"pie\":[{\"automargin\":true,\"type\":\"pie\"}],\"scatter\":[{\"marker\":{\"colorbar\":{\"outlinewidth\":0,\"ticks\":\"\"}},\"type\":\"scatter\"}],\"scatter3d\":[{\"line\":{\"colorbar\":{\"outlinewidth\":0,\"ticks\":\"\"}},\"marker\":{\"colorbar\":{\"outlinewidth\":0,\"ticks\":\"\"}},\"type\":\"scatter3d\"}],\"scattercarpet\":[{\"marker\":{\"colorbar\":{\"outlinewidth\":0,\"ticks\":\"\"}},\"type\":\"scattercarpet\"}],\"scattergeo\":[{\"marker\":{\"colorbar\":{\"outlinewidth\":0,\"ticks\":\"\"}},\"type\":\"scattergeo\"}],\"scattergl\":[{\"marker\":{\"colorbar\":{\"outlinewidth\":0,\"ticks\":\"\"}},\"type\":\"scattergl\"}],\"scattermapbox\":[{\"marker\":{\"colorbar\":{\"outlinewidth\":0,\"ticks\":\"\"}},\"type\":\"scattermapbox\"}],\"scatterpolar\":[{\"marker\":{\"colorbar\":{\"outlinewidth\":0,\"ticks\":\"\"}},\"type\":\"scatterpolar\"}],\"scatterpolargl\":[{\"marker\":{\"colorbar\":{\"outlinewidth\":0,\"ticks\":\"\"}},\"type\":\"scatterpolargl\"}],\"scatterternary\":[{\"marker\":{\"colorbar\":{\"outlinewidth\":0,\"ticks\":\"\"}},\"type\":\"scatterternary\"}],\"surface\":[{\"colorbar\":{\"outlinewidth\":0,\"ticks\":\"\"},\"colorscale\":[[0.0,\"#0d0887\"],[0.1111111111111111,\"#46039f\"],[0.2222222222222222,\"#7201a8\"],[0.3333333333333333,\"#9c179e\"],[0.4444444444444444,\"#bd3786\"],[0.5555555555555556,\"#d8576b\"],[0.6666666666666666,\"#ed7953\"],[0.7777777777777778,\"#fb9f3a\"],[0.8888888888888888,\"#fdca26\"],[1.0,\"#f0f921\"]],\"type\":\"surface\"}],\"table\":[{\"cells\":{\"fill\":{\"color\":\"#EBF0F8\"},\"line\":{\"color\":\"white\"}},\"header\":{\"fill\":{\"color\":\"#C8D4E3\"},\"line\":{\"color\":\"white\"}},\"type\":\"table\"}]},\"layout\":{\"annotationdefaults\":{\"arrowcolor\":\"#2a3f5f\",\"arrowhead\":0,\"arrowwidth\":1},\"autotypenumbers\":\"strict\",\"coloraxis\":{\"colorbar\":{\"outlinewidth\":0,\"ticks\":\"\"}},\"colorscale\":{\"diverging\":[[0,\"#8e0152\"],[0.1,\"#c51b7d\"],[0.2,\"#de77ae\"],[0.3,\"#f1b6da\"],[0.4,\"#fde0ef\"],[0.5,\"#f7f7f7\"],[0.6,\"#e6f5d0\"],[0.7,\"#b8e186\"],[0.8,\"#7fbc41\"],[0.9,\"#4d9221\"],[1,\"#276419\"]],\"sequential\":[[0.0,\"#0d0887\"],[0.1111111111111111,\"#46039f\"],[0.2222222222222222,\"#7201a8\"],[0.3333333333333333,\"#9c179e\"],[0.4444444444444444,\"#bd3786\"],[0.5555555555555556,\"#d8576b\"],[0.6666666666666666,\"#ed7953\"],[0.7777777777777778,\"#fb9f3a\"],[0.8888888888888888,\"#fdca26\"],[1.0,\"#f0f921\"]],\"sequentialminus\":[[0.0,\"#0d0887\"],[0.1111111111111111,\"#46039f\"],[0.2222222222222222,\"#7201a8\"],[0.3333333333333333,\"#9c179e\"],[0.4444444444444444,\"#bd3786\"],[0.5555555555555556,\"#d8576b\"],[0.6666666666666666,\"#ed7953\"],[0.7777777777777778,\"#fb9f3a\"],[0.8888888888888888,\"#fdca26\"],[1.0,\"#f0f921\"]]},\"colorway\":[\"#636efa\",\"#EF553B\",\"#00cc96\",\"#ab63fa\",\"#FFA15A\",\"#19d3f3\",\"#FF6692\",\"#B6E880\",\"#FF97FF\",\"#FECB52\"],\"font\":{\"color\":\"#2a3f5f\"},\"geo\":{\"bgcolor\":\"white\",\"lakecolor\":\"white\",\"landcolor\":\"#E5ECF6\",\"showlakes\":true,\"showland\":true,\"subunitcolor\":\"white\"},\"hoverlabel\":{\"align\":\"left\"},\"hovermode\":\"closest\",\"mapbox\":{\"style\":\"light\"},\"paper_bgcolor\":\"white\",\"plot_bgcolor\":\"#E5ECF6\",\"polar\":{\"angularaxis\":{\"gridcolor\":\"white\",\"linecolor\":\"white\",\"ticks\":\"\"},\"bgcolor\":\"#E5ECF6\",\"radialaxis\":{\"gridcolor\":\"white\",\"linecolor\":\"white\",\"ticks\":\"\"}},\"scene\":{\"xaxis\":{\"backgroundcolor\":\"#E5ECF6\",\"gridcolor\":\"white\",\"gridwidth\":2,\"linecolor\":\"white\",\"showbackground\":true,\"ticks\":\"\",\"zerolinecolor\":\"white\"},\"yaxis\":{\"backgroundcolor\":\"#E5ECF6\",\"gridcolor\":\"white\",\"gridwidth\":2,\"linecolor\":\"white\",\"showbackground\":true,\"ticks\":\"\",\"zerolinecolor\":\"white\"},\"zaxis\":{\"backgroundcolor\":\"#E5ECF6\",\"gridcolor\":\"white\",\"gridwidth\":2,\"linecolor\":\"white\",\"showbackground\":true,\"ticks\":\"\",\"zerolinecolor\":\"white\"}},\"shapedefaults\":{\"line\":{\"color\":\"#2a3f5f\"}},\"ternary\":{\"aaxis\":{\"gridcolor\":\"white\",\"linecolor\":\"white\",\"ticks\":\"\"},\"baxis\":{\"gridcolor\":\"white\",\"linecolor\":\"white\",\"ticks\":\"\"},\"bgcolor\":\"#E5ECF6\",\"caxis\":{\"gridcolor\":\"white\",\"linecolor\":\"white\",\"ticks\":\"\"}},\"title\":{\"x\":0.05},\"xaxis\":{\"automargin\":true,\"gridcolor\":\"white\",\"linecolor\":\"white\",\"ticks\":\"\",\"title\":{\"standoff\":15},\"zerolinecolor\":\"white\",\"zerolinewidth\":2},\"yaxis\":{\"automargin\":true,\"gridcolor\":\"white\",\"linecolor\":\"white\",\"ticks\":\"\",\"title\":{\"standoff\":15},\"zerolinecolor\":\"white\",\"zerolinewidth\":2}}}},                        {\"responsive\": true}                    ).then(function(){\n",
       "                            \n",
       "var gd = document.getElementById('7d76e7a0-8942-4633-a169-b01ce5060078');\n",
       "var x = new MutationObserver(function (mutations, observer) {{\n",
       "        var display = window.getComputedStyle(gd).display;\n",
       "        if (!display || display === 'none') {{\n",
       "            console.log([gd, 'removed!']);\n",
       "            Plotly.purge(gd);\n",
       "            observer.disconnect();\n",
       "        }}\n",
       "}});\n",
       "\n",
       "// Listen for the removal of the full notebook cells\n",
       "var notebookContainer = gd.closest('#notebook-container');\n",
       "if (notebookContainer) {{\n",
       "    x.observe(notebookContainer, {childList: true});\n",
       "}}\n",
       "\n",
       "// Listen for the clearing of the current output cell\n",
       "var outputEl = gd.closest('.output');\n",
       "if (outputEl) {{\n",
       "    x.observe(outputEl, {childList: true});\n",
       "}}\n",
       "\n",
       "                        })                };                });            </script>        </div>"
      ]
     },
     "metadata": {},
     "output_type": "display_data"
    }
   ],
   "source": [
    "fig = go.Figure([go.Bar(x=df_ethnicity['ethnicity'].tolist(), y=df_ethnicity['normalized'].tolist(), \n",
    "                        text=df_ethnicity['normalized'].tolist(), textposition='outside')])\n",
    "\n",
    "fig.show()"
   ]
  },
  {
   "cell_type": "code",
   "execution_count": null,
   "id": "84bb5399",
   "metadata": {
    "extensions": {
     "jupyter_dashboards": {
      "version": 1,
      "views": {
       "grid_default": {},
       "report_default": {
        "hidden": true
       }
      }
     }
    }
   },
   "outputs": [],
   "source": []
  }
 ],
 "metadata": {
  "extensions": {
   "jupyter_dashboards": {
    "activeView": "report_default",
    "version": 1,
    "views": {
     "grid_default": {
      "name": "grid",
      "type": "grid"
     },
     "report_default": {
      "name": "report",
      "type": "report"
     }
    }
   }
  },
  "kernelspec": {
   "display_name": "Python 3",
   "language": "python",
   "name": "python3"
  },
  "language_info": {
   "codemirror_mode": {
    "name": "ipython",
    "version": 3
   },
   "file_extension": ".py",
   "mimetype": "text/x-python",
   "name": "python",
   "nbconvert_exporter": "python",
   "pygments_lexer": "ipython3",
   "version": "3.8.8"
  }
 },
 "nbformat": 4,
 "nbformat_minor": 5
}
