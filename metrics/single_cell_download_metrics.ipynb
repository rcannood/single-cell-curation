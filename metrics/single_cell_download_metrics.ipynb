{
 "cells": [
  {
   "cell_type": "code",
   "execution_count": 177,
   "id": "505cf811",
   "metadata": {
    "extensions": {
     "jupyter_dashboards": {
      "version": 1,
      "views": {
       "grid_default": {},
       "report_default": {
        "hidden": true
       }
      }
     }
    }
   },
   "outputs": [],
   "source": [
    "import pandas as pd\n",
    "import requests\n",
    "import plotly.graph_objects as go\n",
    "from plotly.subplots import make_subplots\n",
    "import datetime\n",
    "import numpy as np"
   ]
  },
  {
   "cell_type": "code",
   "execution_count": 178,
   "id": "8b9e95e0",
   "metadata": {
    "extensions": {
     "jupyter_dashboards": {
      "version": 1,
      "views": {
       "grid_default": {},
       "report_default": {
        "hidden": true
       }
      }
     }
    }
   },
   "outputs": [],
   "source": [
    "def get_collection_info(collection_id):\n",
    "    collection_info_response = requests.get(f\"https://api.cellxgene.cziscience.com/dp/v1/collections/{collection_id}\")\n",
    "    collection_info = collection_info_response.json()\n",
    "    return collection_info"
   ]
  },
  {
   "cell_type": "code",
   "execution_count": 179,
   "id": "85ec2cc2",
   "metadata": {
    "extensions": {
     "jupyter_dashboards": {
      "version": 1,
      "views": {
       "grid_default": {},
       "report_default": {
        "hidden": true
       }
      }
     }
    }
   },
   "outputs": [],
   "source": [
    "# get data \n",
    "response = requests.get(\"https://api.cellxgene.cziscience.com/dp/v1/collections\")\n",
    "collections = response.json()[\"collections\"]\n",
    "\n",
    "data = [get_collection_info(c[\"id\"]) for c in collections]"
   ]
  },
  {
   "cell_type": "code",
   "execution_count": 180,
   "id": "83237772",
   "metadata": {
    "extensions": {
     "jupyter_dashboards": {
      "version": 1,
      "views": {
       "grid_default": {},
       "report_default": {
        "hidden": true
       }
      }
     }
    }
   },
   "outputs": [],
   "source": [
    "# create collection table \n",
    "collection_id = []\n",
    "collection_dt = []\n",
    "collection_name = []\n",
    "\n",
    "for collection in data:\n",
    "    collection_id.append(collection['id'])\n",
    "    collection_dt.append(collection['created_at'])\n",
    "    collection_name.append(collection['name'])\n",
    "\n",
    "collections_df = pd.DataFrame({'collection_id': collection_id, 'collection_dt': collection_dt, 'collection_name': collection_name})\n",
    "collections_df['collection_dt'] = pd.to_datetime(collections_df['collection_dt'] , unit='s')"
   ]
  },
  {
   "cell_type": "code",
   "execution_count": 181,
   "id": "8dbc73fa",
   "metadata": {
    "extensions": {
     "jupyter_dashboards": {
      "version": 1,
      "views": {
       "grid_default": {},
       "report_default": {
        "hidden": true
       }
      }
     }
    }
   },
   "outputs": [],
   "source": [
    "# create dataset table \n",
    "keys_w_label = ['assay', 'development_stage', 'disease', 'ethnicity', 'tissue']\n",
    "keys_wo_label = ['collection_id', 'id', 'name', 'sex', 'cell_count', 'created_at']\n",
    "dataset_data = []\n",
    "\n",
    "for c in data:\n",
    "    for d in c['datasets']:\n",
    "        keys = d.keys()\n",
    "        keys_wo_labels_new = list(set(keys) & set(keys_wo_label))\n",
    "        dict_updated = {key: d[key] for key in keys_wo_labels_new}\n",
    "        keys_w_labels_new = list(set(keys) & set(keys_w_label))\n",
    "        for key in keys_w_labels_new:\n",
    "            dict_temp = {key: [i['label'] for i in d[key]]}\n",
    "            dict_updated.update(dict_temp)\n",
    "        dict_updated.update({'organism': d['organism']['label']})\n",
    "        dataset_data.append(dict_updated)\n",
    "\n",
    "datasets_df = pd.DataFrame(dataset_data)\n",
    "datasets_df = datasets_df.rename(columns = {'id': 'dataset_id', 'name': 'dataset_name', 'created_at': 'dataset_dt'})\n",
    "datasets_df['dataset_dt'] = pd.to_datetime(datasets_df['dataset_dt'], unit='s')"
   ]
  },
  {
   "cell_type": "code",
   "execution_count": 182,
   "id": "39912e8c",
   "metadata": {},
   "outputs": [],
   "source": [
    "dataset_id_to_name = datasets_df[['dataset_name', 'dataset_id', 'dataset_dt']]"
   ]
  },
  {
   "cell_type": "code",
   "execution_count": 183,
   "id": "a4dcd4c9",
   "metadata": {},
   "outputs": [],
   "source": [
    "# create key to dataset_id translation table\n",
    "dataset_id = []\n",
    "s3_uri = []\n",
    "for c in data:\n",
    "    for d in c['datasets']:\n",
    "        for a in d['dataset_assets']:\n",
    "            dataset_id.append(a['dataset_id'])\n",
    "            s3_uri.append(a['s3_uri'])\n",
    "\n",
    "id_to_s3 = pd.DataFrame({'dataset_id': dataset_id, 'key': s3_uri})\n",
    "id_to_s3['key'] = id_to_s3['key'].str.replace('s3://corpora-data-prod/', '')\n",
    "id_to_s3['key'] = id_to_s3['key'].str.replace('s3://hosted-cellxgene-prod/', '')"
   ]
  },
  {
   "cell_type": "code",
   "execution_count": 184,
   "id": "c9d67a96",
   "metadata": {},
   "outputs": [],
   "source": [
    "# downloads data\n",
    "downloads_df = pd.read_csv('download_data.csv')\n",
    "\n",
    "# remove downloads with bytessent == 1 \n",
    "downloads_df = downloads_df[downloads_df['bytessent'] > 1].reset_index(drop = True)\n",
    "\n",
    "# remove downloads from myself(ip address = 71.200.124.31)\n",
    "downloads_df = downloads_df[downloads_df['remoteip'] != '71.200.124.31']\n",
    "\n",
    "# process datetime \n",
    "downloads_df['download_datetime'] = pd.to_datetime(downloads_df['download_datetime'], format='%d/%b/%Y:%H:%M:%S %z')\n",
    "downloads_df['download_dt'] = downloads_df['download_datetime'].dt.date\n",
    "\n",
    "# merge to dataset_id\n",
    "downloads_df = downloads_df.merge(id_to_s3, how = 'inner', on = 'key')\n",
    "\n",
    "downloads_df = downloads_df[['dataset_id', 'download_datetime', 'download_dt', 'filetype', 'remoteip', 'download_agent']].reset_index(drop = True)\n",
    "\n",
    "downloads_df['total_downloads'] = 1\n",
    "\n",
    "downloads_df = downloads_df.groupby(['dataset_id', 'download_dt', 'filetype', 'remoteip', 'download_agent']).sum().reset_index()"
   ]
  },
  {
   "cell_type": "code",
   "execution_count": 185,
   "id": "158fc390",
   "metadata": {
    "extensions": {
     "jupyter_dashboards": {
      "version": 1,
      "views": {
       "grid_default": {},
       "report_default": {
        "hidden": true
       }
      }
     }
    }
   },
   "outputs": [],
   "source": [
    "# limit to downloads of datasets on the platform \n",
    "combined = dataset_id_to_name.merge(downloads_df, how = 'inner', on = 'dataset_id')\n",
    "combined['count'] = 1"
   ]
  },
  {
   "cell_type": "code",
   "execution_count": 186,
   "id": "71a26a33",
   "metadata": {},
   "outputs": [
    {
     "data": {
      "text/html": [
       "<div>\n",
       "<style scoped>\n",
       "    .dataframe tbody tr th:only-of-type {\n",
       "        vertical-align: middle;\n",
       "    }\n",
       "\n",
       "    .dataframe tbody tr th {\n",
       "        vertical-align: top;\n",
       "    }\n",
       "\n",
       "    .dataframe thead th {\n",
       "        text-align: right;\n",
       "    }\n",
       "</style>\n",
       "<table border=\"1\" class=\"dataframe\">\n",
       "  <thead>\n",
       "    <tr style=\"text-align: right;\">\n",
       "      <th></th>\n",
       "      <th>dataset_name</th>\n",
       "      <th>dataset_id</th>\n",
       "      <th>dataset_dt</th>\n",
       "      <th>download_dt</th>\n",
       "      <th>filetype</th>\n",
       "      <th>remoteip</th>\n",
       "      <th>download_agent</th>\n",
       "      <th>total_downloads</th>\n",
       "      <th>count</th>\n",
       "    </tr>\n",
       "  </thead>\n",
       "  <tbody>\n",
       "    <tr>\n",
       "      <th>0</th>\n",
       "      <td>A Single-Cell Transcriptome Atlas of the Human...</td>\n",
       "      <td>b07e5164-baf6-43d2-bdba-5a249d0da879</td>\n",
       "      <td>2021-05-05 15:04:27.221111040</td>\n",
       "      <td>2021-05-05</td>\n",
       "      <td>h5ad</td>\n",
       "      <td>50.18.239.242</td>\n",
       "      <td>curl</td>\n",
       "      <td>1</td>\n",
       "      <td>1</td>\n",
       "    </tr>\n",
       "    <tr>\n",
       "      <th>1</th>\n",
       "      <td>A Single-Cell Transcriptome Atlas of the Human...</td>\n",
       "      <td>b07e5164-baf6-43d2-bdba-5a249d0da879</td>\n",
       "      <td>2021-05-05 15:04:27.221111040</td>\n",
       "      <td>2021-05-13</td>\n",
       "      <td>h5ad</td>\n",
       "      <td>193.62.202.235</td>\n",
       "      <td>curl</td>\n",
       "      <td>1</td>\n",
       "      <td>1</td>\n",
       "    </tr>\n",
       "    <tr>\n",
       "      <th>2</th>\n",
       "      <td>A Single-Cell Transcriptome Atlas of the Human...</td>\n",
       "      <td>b07e5164-baf6-43d2-bdba-5a249d0da879</td>\n",
       "      <td>2021-05-05 15:04:27.221111040</td>\n",
       "      <td>2021-05-20</td>\n",
       "      <td>h5ad</td>\n",
       "      <td>202.64.1.174</td>\n",
       "      <td>Win64</td>\n",
       "      <td>1</td>\n",
       "      <td>1</td>\n",
       "    </tr>\n",
       "    <tr>\n",
       "      <th>3</th>\n",
       "      <td>A Single-Cell Transcriptome Atlas of the Human...</td>\n",
       "      <td>b07e5164-baf6-43d2-bdba-5a249d0da879</td>\n",
       "      <td>2021-05-05 15:04:27.221111040</td>\n",
       "      <td>2021-05-24</td>\n",
       "      <td>h5ad</td>\n",
       "      <td>50.18.239.242</td>\n",
       "      <td>curl</td>\n",
       "      <td>2</td>\n",
       "      <td>1</td>\n",
       "    </tr>\n",
       "    <tr>\n",
       "      <th>4</th>\n",
       "      <td>A Single-Cell Transcriptome Atlas of the Human...</td>\n",
       "      <td>b07e5164-baf6-43d2-bdba-5a249d0da879</td>\n",
       "      <td>2021-05-05 15:04:27.221111040</td>\n",
       "      <td>2021-05-25</td>\n",
       "      <td>h5ad</td>\n",
       "      <td>146.107.103.119</td>\n",
       "      <td>curl</td>\n",
       "      <td>1</td>\n",
       "      <td>1</td>\n",
       "    </tr>\n",
       "    <tr>\n",
       "      <th>...</th>\n",
       "      <td>...</td>\n",
       "      <td>...</td>\n",
       "      <td>...</td>\n",
       "      <td>...</td>\n",
       "      <td>...</td>\n",
       "      <td>...</td>\n",
       "      <td>...</td>\n",
       "      <td>...</td>\n",
       "      <td>...</td>\n",
       "    </tr>\n",
       "    <tr>\n",
       "      <th>2335</th>\n",
       "      <td>Single cell analysis of mouse and human prosta...</td>\n",
       "      <td>574e9f9e-f8b4-41ef-bf19-89a9964fd9c7</td>\n",
       "      <td>2021-07-27 14:05:30.625396992</td>\n",
       "      <td>2021-08-19</td>\n",
       "      <td>h5ad</td>\n",
       "      <td>86.247.212.62</td>\n",
       "      <td>Ubuntu</td>\n",
       "      <td>2</td>\n",
       "      <td>1</td>\n",
       "    </tr>\n",
       "    <tr>\n",
       "      <th>2336</th>\n",
       "      <td>Single cell analysis of mouse and human prosta...</td>\n",
       "      <td>574e9f9e-f8b4-41ef-bf19-89a9964fd9c7</td>\n",
       "      <td>2021-07-27 14:05:30.625396992</td>\n",
       "      <td>2021-08-20</td>\n",
       "      <td>h5ad</td>\n",
       "      <td>86.247.212.62</td>\n",
       "      <td>Ubuntu</td>\n",
       "      <td>1</td>\n",
       "      <td>1</td>\n",
       "    </tr>\n",
       "    <tr>\n",
       "      <th>2337</th>\n",
       "      <td>Single cell analysis of mouse and human prosta...</td>\n",
       "      <td>574e9f9e-f8b4-41ef-bf19-89a9964fd9c7</td>\n",
       "      <td>2021-07-27 14:05:30.625396992</td>\n",
       "      <td>2021-08-21</td>\n",
       "      <td>h5ad</td>\n",
       "      <td>35.231.193.255</td>\n",
       "      <td>requests-python</td>\n",
       "      <td>1</td>\n",
       "      <td>1</td>\n",
       "    </tr>\n",
       "    <tr>\n",
       "      <th>2338</th>\n",
       "      <td>Single cell analysis of mouse and human prosta...</td>\n",
       "      <td>5ba85070-a41c-4184-9c18-cf34c3fd0f62</td>\n",
       "      <td>2021-07-27 14:06:02.273560064</td>\n",
       "      <td>2021-07-30</td>\n",
       "      <td>h5ad</td>\n",
       "      <td>149.165.234.129</td>\n",
       "      <td>requests-python</td>\n",
       "      <td>1</td>\n",
       "      <td>1</td>\n",
       "    </tr>\n",
       "    <tr>\n",
       "      <th>2339</th>\n",
       "      <td>Single cell analysis of mouse and human prosta...</td>\n",
       "      <td>5ba85070-a41c-4184-9c18-cf34c3fd0f62</td>\n",
       "      <td>2021-07-27 14:06:02.273560064</td>\n",
       "      <td>2021-08-03</td>\n",
       "      <td>h5ad</td>\n",
       "      <td>23.119.165.103</td>\n",
       "      <td>requests-python</td>\n",
       "      <td>1</td>\n",
       "      <td>1</td>\n",
       "    </tr>\n",
       "  </tbody>\n",
       "</table>\n",
       "<p>2340 rows × 9 columns</p>\n",
       "</div>"
      ],
      "text/plain": [
       "                                           dataset_name  \\\n",
       "0     A Single-Cell Transcriptome Atlas of the Human...   \n",
       "1     A Single-Cell Transcriptome Atlas of the Human...   \n",
       "2     A Single-Cell Transcriptome Atlas of the Human...   \n",
       "3     A Single-Cell Transcriptome Atlas of the Human...   \n",
       "4     A Single-Cell Transcriptome Atlas of the Human...   \n",
       "...                                                 ...   \n",
       "2335  Single cell analysis of mouse and human prosta...   \n",
       "2336  Single cell analysis of mouse and human prosta...   \n",
       "2337  Single cell analysis of mouse and human prosta...   \n",
       "2338  Single cell analysis of mouse and human prosta...   \n",
       "2339  Single cell analysis of mouse and human prosta...   \n",
       "\n",
       "                                dataset_id                    dataset_dt  \\\n",
       "0     b07e5164-baf6-43d2-bdba-5a249d0da879 2021-05-05 15:04:27.221111040   \n",
       "1     b07e5164-baf6-43d2-bdba-5a249d0da879 2021-05-05 15:04:27.221111040   \n",
       "2     b07e5164-baf6-43d2-bdba-5a249d0da879 2021-05-05 15:04:27.221111040   \n",
       "3     b07e5164-baf6-43d2-bdba-5a249d0da879 2021-05-05 15:04:27.221111040   \n",
       "4     b07e5164-baf6-43d2-bdba-5a249d0da879 2021-05-05 15:04:27.221111040   \n",
       "...                                    ...                           ...   \n",
       "2335  574e9f9e-f8b4-41ef-bf19-89a9964fd9c7 2021-07-27 14:05:30.625396992   \n",
       "2336  574e9f9e-f8b4-41ef-bf19-89a9964fd9c7 2021-07-27 14:05:30.625396992   \n",
       "2337  574e9f9e-f8b4-41ef-bf19-89a9964fd9c7 2021-07-27 14:05:30.625396992   \n",
       "2338  5ba85070-a41c-4184-9c18-cf34c3fd0f62 2021-07-27 14:06:02.273560064   \n",
       "2339  5ba85070-a41c-4184-9c18-cf34c3fd0f62 2021-07-27 14:06:02.273560064   \n",
       "\n",
       "     download_dt filetype         remoteip   download_agent  total_downloads  \\\n",
       "0     2021-05-05     h5ad    50.18.239.242             curl                1   \n",
       "1     2021-05-13     h5ad   193.62.202.235             curl                1   \n",
       "2     2021-05-20     h5ad     202.64.1.174            Win64                1   \n",
       "3     2021-05-24     h5ad    50.18.239.242             curl                2   \n",
       "4     2021-05-25     h5ad  146.107.103.119             curl                1   \n",
       "...          ...      ...              ...              ...              ...   \n",
       "2335  2021-08-19     h5ad    86.247.212.62           Ubuntu                2   \n",
       "2336  2021-08-20     h5ad    86.247.212.62           Ubuntu                1   \n",
       "2337  2021-08-21     h5ad   35.231.193.255  requests-python                1   \n",
       "2338  2021-07-30     h5ad  149.165.234.129  requests-python                1   \n",
       "2339  2021-08-03     h5ad   23.119.165.103  requests-python                1   \n",
       "\n",
       "      count  \n",
       "0         1  \n",
       "1         1  \n",
       "2         1  \n",
       "3         1  \n",
       "4         1  \n",
       "...     ...  \n",
       "2335      1  \n",
       "2336      1  \n",
       "2337      1  \n",
       "2338      1  \n",
       "2339      1  \n",
       "\n",
       "[2340 rows x 9 columns]"
      ]
     },
     "execution_count": 186,
     "metadata": {},
     "output_type": "execute_result"
    }
   ],
   "source": [
    "combined"
   ]
  },
  {
   "cell_type": "markdown",
   "id": "6fc87a59",
   "metadata": {
    "extensions": {
     "jupyter_dashboards": {
      "version": 1,
      "views": {
       "grid_default": {},
       "report_default": {
        "hidden": false
       }
      }
     }
    }
   },
   "source": [
    "# Single cell download metrics"
   ]
  },
  {
   "cell_type": "markdown",
   "id": "9cef52b5",
   "metadata": {
    "extensions": {
     "jupyter_dashboards": {
      "version": 1,
      "views": {
       "grid_default": {},
       "report_default": {
        "hidden": false
       }
      }
     }
    }
   },
   "source": [
    "## Downloads over time\n"
   ]
  },
  {
   "cell_type": "code",
   "execution_count": 187,
   "id": "ffed2ef2",
   "metadata": {
    "extensions": {
     "jupyter_dashboards": {
      "version": 1,
      "views": {
       "grid_default": {},
       "report_default": {
        "hidden": true
       }
      }
     }
    }
   },
   "outputs": [],
   "source": [
    "downloads = combined[['download_dt', 'remoteip', 'dataset_id']].drop_duplicates().reset_index(drop = True)\n",
    "downloads['count'] = 1\n",
    "downloads['download_dt'] = pd.to_datetime(downloads['download_dt'])"
   ]
  },
  {
   "cell_type": "markdown",
   "id": "ae2930de",
   "metadata": {
    "extensions": {
     "jupyter_dashboards": {
      "version": 1,
      "views": {
       "grid_default": {},
       "report_default": {
        "hidden": false
       }
      }
     }
    }
   },
   "source": [
    "##### Total number of downloads"
   ]
  },
  {
   "cell_type": "code",
   "execution_count": 188,
   "id": "9a77c4f4",
   "metadata": {
    "extensions": {
     "jupyter_dashboards": {
      "version": 1,
      "views": {
       "grid_default": {},
       "report_default": {
        "hidden": false
       }
      }
     }
    }
   },
   "outputs": [
    {
     "name": "stdout",
     "output_type": "stream",
     "text": [
      "2,207\n"
     ]
    }
   ],
   "source": [
    "total_downloads = downloads['count'].sum()\n",
    "print(\"{:,}\".format(total_downloads))"
   ]
  },
  {
   "cell_type": "markdown",
   "id": "1a373593",
   "metadata": {
    "extensions": {
     "jupyter_dashboards": {
      "version": 1,
      "views": {
       "grid_default": {},
       "report_default": {
        "hidden": false
       }
      }
     }
    }
   },
   "source": [
    "#####  Downloads by month"
   ]
  },
  {
   "cell_type": "code",
   "execution_count": 189,
   "id": "0ed9b614",
   "metadata": {
    "extensions": {
     "jupyter_dashboards": {
      "version": 1,
      "views": {
       "grid_default": {},
       "report_default": {
        "hidden": false
       }
      }
     }
    }
   },
   "outputs": [
    {
     "name": "stderr",
     "output_type": "stream",
     "text": [
      "<ipython-input-189-7cc28b1d1a11>:2: SettingWithCopyWarning:\n",
      "\n",
      "\n",
      "A value is trying to be set on a copy of a slice from a DataFrame.\n",
      "Try using .loc[row_indexer,col_indexer] = value instead\n",
      "\n",
      "See the caveats in the documentation: https://pandas.pydata.org/pandas-docs/stable/user_guide/indexing.html#returning-a-view-versus-a-copy\n",
      "\n"
     ]
    },
    {
     "data": {
      "text/html": [
       "<div>\n",
       "<style scoped>\n",
       "    .dataframe tbody tr th:only-of-type {\n",
       "        vertical-align: middle;\n",
       "    }\n",
       "\n",
       "    .dataframe tbody tr th {\n",
       "        vertical-align: top;\n",
       "    }\n",
       "\n",
       "    .dataframe thead th {\n",
       "        text-align: right;\n",
       "    }\n",
       "</style>\n",
       "<table border=\"1\" class=\"dataframe\">\n",
       "  <thead>\n",
       "    <tr style=\"text-align: right;\">\n",
       "      <th></th>\n",
       "      <th>month</th>\n",
       "      <th>year</th>\n",
       "      <th>count</th>\n",
       "    </tr>\n",
       "  </thead>\n",
       "  <tbody>\n",
       "    <tr>\n",
       "      <th>0</th>\n",
       "      <td>4</td>\n",
       "      <td>2021</td>\n",
       "      <td>59</td>\n",
       "    </tr>\n",
       "    <tr>\n",
       "      <th>1</th>\n",
       "      <td>5</td>\n",
       "      <td>2021</td>\n",
       "      <td>426</td>\n",
       "    </tr>\n",
       "    <tr>\n",
       "      <th>2</th>\n",
       "      <td>6</td>\n",
       "      <td>2021</td>\n",
       "      <td>730</td>\n",
       "    </tr>\n",
       "    <tr>\n",
       "      <th>3</th>\n",
       "      <td>7</td>\n",
       "      <td>2021</td>\n",
       "      <td>710</td>\n",
       "    </tr>\n",
       "    <tr>\n",
       "      <th>4</th>\n",
       "      <td>8</td>\n",
       "      <td>2021</td>\n",
       "      <td>282</td>\n",
       "    </tr>\n",
       "  </tbody>\n",
       "</table>\n",
       "</div>"
      ],
      "text/plain": [
       "   month  year  count\n",
       "0      4  2021     59\n",
       "1      5  2021    426\n",
       "2      6  2021    730\n",
       "3      7  2021    710\n",
       "4      8  2021    282"
      ]
     },
     "execution_count": 189,
     "metadata": {},
     "output_type": "execute_result"
    }
   ],
   "source": [
    "downloads_by_month = downloads[['download_dt', 'count']]\n",
    "downloads_by_month['month'] = downloads_by_month['download_dt'].dt.month\n",
    "downloads_by_month['year'] = downloads_by_month['download_dt'].dt.year\n",
    "downloads_by_month.groupby(['month', 'year']).sum().reset_index()"
   ]
  },
  {
   "cell_type": "code",
   "execution_count": 190,
   "id": "fa423a21",
   "metadata": {
    "extensions": {
     "jupyter_dashboards": {
      "version": 1,
      "views": {
       "grid_default": {},
       "report_default": {
        "hidden": false
       }
      }
     }
    }
   },
   "outputs": [
    {
     "data": {
      "application/vnd.plotly.v1+json": {
       "config": {
        "plotlyServerURL": "https://plot.ly"
       },
       "data": [
        {
         "mode": "lines+markers",
         "type": "scatter",
         "x": [
          "2021-04-23T00:00:00",
          "2021-04-24T00:00:00",
          "2021-04-26T00:00:00",
          "2021-04-27T00:00:00",
          "2021-04-28T00:00:00",
          "2021-04-29T00:00:00",
          "2021-04-30T00:00:00",
          "2021-05-01T00:00:00",
          "2021-05-02T00:00:00",
          "2021-05-03T00:00:00",
          "2021-05-04T00:00:00",
          "2021-05-05T00:00:00",
          "2021-05-06T00:00:00",
          "2021-05-10T00:00:00",
          "2021-05-11T00:00:00",
          "2021-05-12T00:00:00",
          "2021-05-13T00:00:00",
          "2021-05-14T00:00:00",
          "2021-05-15T00:00:00",
          "2021-05-18T00:00:00",
          "2021-05-19T00:00:00",
          "2021-05-20T00:00:00",
          "2021-05-21T00:00:00",
          "2021-05-22T00:00:00",
          "2021-05-23T00:00:00",
          "2021-05-24T00:00:00",
          "2021-05-25T00:00:00",
          "2021-05-26T00:00:00",
          "2021-05-27T00:00:00",
          "2021-05-28T00:00:00",
          "2021-05-29T00:00:00",
          "2021-05-30T00:00:00",
          "2021-05-31T00:00:00",
          "2021-06-01T00:00:00",
          "2021-06-02T00:00:00",
          "2021-06-03T00:00:00",
          "2021-06-04T00:00:00",
          "2021-06-05T00:00:00",
          "2021-06-06T00:00:00",
          "2021-06-07T00:00:00",
          "2021-06-08T00:00:00",
          "2021-06-09T00:00:00",
          "2021-06-10T00:00:00",
          "2021-06-11T00:00:00",
          "2021-06-12T00:00:00",
          "2021-06-14T00:00:00",
          "2021-06-15T00:00:00",
          "2021-06-16T00:00:00",
          "2021-06-17T00:00:00",
          "2021-06-18T00:00:00",
          "2021-06-19T00:00:00",
          "2021-06-20T00:00:00",
          "2021-06-21T00:00:00",
          "2021-06-22T00:00:00",
          "2021-06-23T00:00:00",
          "2021-06-24T00:00:00",
          "2021-06-25T00:00:00",
          "2021-06-26T00:00:00",
          "2021-06-27T00:00:00",
          "2021-06-28T00:00:00",
          "2021-06-29T00:00:00",
          "2021-06-30T00:00:00",
          "2021-07-01T00:00:00",
          "2021-07-02T00:00:00",
          "2021-07-03T00:00:00",
          "2021-07-05T00:00:00",
          "2021-07-06T00:00:00",
          "2021-07-07T00:00:00",
          "2021-07-08T00:00:00",
          "2021-07-09T00:00:00",
          "2021-07-11T00:00:00",
          "2021-07-12T00:00:00",
          "2021-07-13T00:00:00",
          "2021-07-14T00:00:00",
          "2021-07-15T00:00:00",
          "2021-07-16T00:00:00",
          "2021-07-17T00:00:00",
          "2021-07-18T00:00:00",
          "2021-07-19T00:00:00",
          "2021-07-20T00:00:00",
          "2021-07-21T00:00:00",
          "2021-07-22T00:00:00",
          "2021-07-23T00:00:00",
          "2021-07-24T00:00:00",
          "2021-07-26T00:00:00",
          "2021-07-27T00:00:00",
          "2021-07-28T00:00:00",
          "2021-07-29T00:00:00",
          "2021-07-30T00:00:00",
          "2021-07-31T00:00:00",
          "2021-08-01T00:00:00",
          "2021-08-02T00:00:00",
          "2021-08-03T00:00:00",
          "2021-08-04T00:00:00",
          "2021-08-05T00:00:00",
          "2021-08-06T00:00:00",
          "2021-08-07T00:00:00",
          "2021-08-08T00:00:00",
          "2021-08-09T00:00:00",
          "2021-08-10T00:00:00",
          "2021-08-11T00:00:00",
          "2021-08-12T00:00:00",
          "2021-08-13T00:00:00",
          "2021-08-15T00:00:00",
          "2021-08-16T00:00:00",
          "2021-08-17T00:00:00",
          "2021-08-18T00:00:00",
          "2021-08-19T00:00:00",
          "2021-08-20T00:00:00",
          "2021-08-21T00:00:00",
          "2021-08-22T00:00:00",
          "2021-08-23T00:00:00",
          "2021-08-24T00:00:00",
          "2021-08-25T00:00:00",
          "2021-08-26T00:00:00"
         ],
         "y": [
          5,
          16,
          20,
          30,
          45,
          52,
          59,
          60,
          63,
          66,
          72,
          87,
          88,
          98,
          103,
          106,
          116,
          127,
          129,
          137,
          188,
          199,
          266,
          268,
          272,
          285,
          291,
          308,
          318,
          469,
          478,
          482,
          485,
          494,
          497,
          516,
          565,
          707,
          741,
          743,
          752,
          805,
          886,
          887,
          889,
          900,
          1046,
          1050,
          1087,
          1124,
          1130,
          1135,
          1158,
          1161,
          1166,
          1174,
          1180,
          1181,
          1185,
          1201,
          1212,
          1215,
          1221,
          1238,
          1239,
          1244,
          1250,
          1269,
          1272,
          1397,
          1398,
          1408,
          1412,
          1495,
          1505,
          1510,
          1610,
          1651,
          1669,
          1687,
          1692,
          1703,
          1788,
          1789,
          1796,
          1803,
          1817,
          1830,
          1920,
          1925,
          1929,
          1939,
          1979,
          1996,
          2006,
          2013,
          2017,
          2018,
          2021,
          2029,
          2038,
          2046,
          2058,
          2060,
          2065,
          2069,
          2073,
          2082,
          2091,
          2121,
          2155,
          2183,
          2190,
          2200,
          2207
         ]
        }
       ],
       "layout": {
        "template": {
         "data": {
          "bar": [
           {
            "error_x": {
             "color": "#2a3f5f"
            },
            "error_y": {
             "color": "#2a3f5f"
            },
            "marker": {
             "line": {
              "color": "#E5ECF6",
              "width": 0.5
             },
             "pattern": {
              "fillmode": "overlay",
              "size": 10,
              "solidity": 0.2
             }
            },
            "type": "bar"
           }
          ],
          "barpolar": [
           {
            "marker": {
             "line": {
              "color": "#E5ECF6",
              "width": 0.5
             },
             "pattern": {
              "fillmode": "overlay",
              "size": 10,
              "solidity": 0.2
             }
            },
            "type": "barpolar"
           }
          ],
          "carpet": [
           {
            "aaxis": {
             "endlinecolor": "#2a3f5f",
             "gridcolor": "white",
             "linecolor": "white",
             "minorgridcolor": "white",
             "startlinecolor": "#2a3f5f"
            },
            "baxis": {
             "endlinecolor": "#2a3f5f",
             "gridcolor": "white",
             "linecolor": "white",
             "minorgridcolor": "white",
             "startlinecolor": "#2a3f5f"
            },
            "type": "carpet"
           }
          ],
          "choropleth": [
           {
            "colorbar": {
             "outlinewidth": 0,
             "ticks": ""
            },
            "type": "choropleth"
           }
          ],
          "contour": [
           {
            "colorbar": {
             "outlinewidth": 0,
             "ticks": ""
            },
            "colorscale": [
             [
              0,
              "#0d0887"
             ],
             [
              0.1111111111111111,
              "#46039f"
             ],
             [
              0.2222222222222222,
              "#7201a8"
             ],
             [
              0.3333333333333333,
              "#9c179e"
             ],
             [
              0.4444444444444444,
              "#bd3786"
             ],
             [
              0.5555555555555556,
              "#d8576b"
             ],
             [
              0.6666666666666666,
              "#ed7953"
             ],
             [
              0.7777777777777778,
              "#fb9f3a"
             ],
             [
              0.8888888888888888,
              "#fdca26"
             ],
             [
              1,
              "#f0f921"
             ]
            ],
            "type": "contour"
           }
          ],
          "contourcarpet": [
           {
            "colorbar": {
             "outlinewidth": 0,
             "ticks": ""
            },
            "type": "contourcarpet"
           }
          ],
          "heatmap": [
           {
            "colorbar": {
             "outlinewidth": 0,
             "ticks": ""
            },
            "colorscale": [
             [
              0,
              "#0d0887"
             ],
             [
              0.1111111111111111,
              "#46039f"
             ],
             [
              0.2222222222222222,
              "#7201a8"
             ],
             [
              0.3333333333333333,
              "#9c179e"
             ],
             [
              0.4444444444444444,
              "#bd3786"
             ],
             [
              0.5555555555555556,
              "#d8576b"
             ],
             [
              0.6666666666666666,
              "#ed7953"
             ],
             [
              0.7777777777777778,
              "#fb9f3a"
             ],
             [
              0.8888888888888888,
              "#fdca26"
             ],
             [
              1,
              "#f0f921"
             ]
            ],
            "type": "heatmap"
           }
          ],
          "heatmapgl": [
           {
            "colorbar": {
             "outlinewidth": 0,
             "ticks": ""
            },
            "colorscale": [
             [
              0,
              "#0d0887"
             ],
             [
              0.1111111111111111,
              "#46039f"
             ],
             [
              0.2222222222222222,
              "#7201a8"
             ],
             [
              0.3333333333333333,
              "#9c179e"
             ],
             [
              0.4444444444444444,
              "#bd3786"
             ],
             [
              0.5555555555555556,
              "#d8576b"
             ],
             [
              0.6666666666666666,
              "#ed7953"
             ],
             [
              0.7777777777777778,
              "#fb9f3a"
             ],
             [
              0.8888888888888888,
              "#fdca26"
             ],
             [
              1,
              "#f0f921"
             ]
            ],
            "type": "heatmapgl"
           }
          ],
          "histogram": [
           {
            "marker": {
             "pattern": {
              "fillmode": "overlay",
              "size": 10,
              "solidity": 0.2
             }
            },
            "type": "histogram"
           }
          ],
          "histogram2d": [
           {
            "colorbar": {
             "outlinewidth": 0,
             "ticks": ""
            },
            "colorscale": [
             [
              0,
              "#0d0887"
             ],
             [
              0.1111111111111111,
              "#46039f"
             ],
             [
              0.2222222222222222,
              "#7201a8"
             ],
             [
              0.3333333333333333,
              "#9c179e"
             ],
             [
              0.4444444444444444,
              "#bd3786"
             ],
             [
              0.5555555555555556,
              "#d8576b"
             ],
             [
              0.6666666666666666,
              "#ed7953"
             ],
             [
              0.7777777777777778,
              "#fb9f3a"
             ],
             [
              0.8888888888888888,
              "#fdca26"
             ],
             [
              1,
              "#f0f921"
             ]
            ],
            "type": "histogram2d"
           }
          ],
          "histogram2dcontour": [
           {
            "colorbar": {
             "outlinewidth": 0,
             "ticks": ""
            },
            "colorscale": [
             [
              0,
              "#0d0887"
             ],
             [
              0.1111111111111111,
              "#46039f"
             ],
             [
              0.2222222222222222,
              "#7201a8"
             ],
             [
              0.3333333333333333,
              "#9c179e"
             ],
             [
              0.4444444444444444,
              "#bd3786"
             ],
             [
              0.5555555555555556,
              "#d8576b"
             ],
             [
              0.6666666666666666,
              "#ed7953"
             ],
             [
              0.7777777777777778,
              "#fb9f3a"
             ],
             [
              0.8888888888888888,
              "#fdca26"
             ],
             [
              1,
              "#f0f921"
             ]
            ],
            "type": "histogram2dcontour"
           }
          ],
          "mesh3d": [
           {
            "colorbar": {
             "outlinewidth": 0,
             "ticks": ""
            },
            "type": "mesh3d"
           }
          ],
          "parcoords": [
           {
            "line": {
             "colorbar": {
              "outlinewidth": 0,
              "ticks": ""
             }
            },
            "type": "parcoords"
           }
          ],
          "pie": [
           {
            "automargin": true,
            "type": "pie"
           }
          ],
          "scatter": [
           {
            "marker": {
             "colorbar": {
              "outlinewidth": 0,
              "ticks": ""
             }
            },
            "type": "scatter"
           }
          ],
          "scatter3d": [
           {
            "line": {
             "colorbar": {
              "outlinewidth": 0,
              "ticks": ""
             }
            },
            "marker": {
             "colorbar": {
              "outlinewidth": 0,
              "ticks": ""
             }
            },
            "type": "scatter3d"
           }
          ],
          "scattercarpet": [
           {
            "marker": {
             "colorbar": {
              "outlinewidth": 0,
              "ticks": ""
             }
            },
            "type": "scattercarpet"
           }
          ],
          "scattergeo": [
           {
            "marker": {
             "colorbar": {
              "outlinewidth": 0,
              "ticks": ""
             }
            },
            "type": "scattergeo"
           }
          ],
          "scattergl": [
           {
            "marker": {
             "colorbar": {
              "outlinewidth": 0,
              "ticks": ""
             }
            },
            "type": "scattergl"
           }
          ],
          "scattermapbox": [
           {
            "marker": {
             "colorbar": {
              "outlinewidth": 0,
              "ticks": ""
             }
            },
            "type": "scattermapbox"
           }
          ],
          "scatterpolar": [
           {
            "marker": {
             "colorbar": {
              "outlinewidth": 0,
              "ticks": ""
             }
            },
            "type": "scatterpolar"
           }
          ],
          "scatterpolargl": [
           {
            "marker": {
             "colorbar": {
              "outlinewidth": 0,
              "ticks": ""
             }
            },
            "type": "scatterpolargl"
           }
          ],
          "scatterternary": [
           {
            "marker": {
             "colorbar": {
              "outlinewidth": 0,
              "ticks": ""
             }
            },
            "type": "scatterternary"
           }
          ],
          "surface": [
           {
            "colorbar": {
             "outlinewidth": 0,
             "ticks": ""
            },
            "colorscale": [
             [
              0,
              "#0d0887"
             ],
             [
              0.1111111111111111,
              "#46039f"
             ],
             [
              0.2222222222222222,
              "#7201a8"
             ],
             [
              0.3333333333333333,
              "#9c179e"
             ],
             [
              0.4444444444444444,
              "#bd3786"
             ],
             [
              0.5555555555555556,
              "#d8576b"
             ],
             [
              0.6666666666666666,
              "#ed7953"
             ],
             [
              0.7777777777777778,
              "#fb9f3a"
             ],
             [
              0.8888888888888888,
              "#fdca26"
             ],
             [
              1,
              "#f0f921"
             ]
            ],
            "type": "surface"
           }
          ],
          "table": [
           {
            "cells": {
             "fill": {
              "color": "#EBF0F8"
             },
             "line": {
              "color": "white"
             }
            },
            "header": {
             "fill": {
              "color": "#C8D4E3"
             },
             "line": {
              "color": "white"
             }
            },
            "type": "table"
           }
          ]
         },
         "layout": {
          "annotationdefaults": {
           "arrowcolor": "#2a3f5f",
           "arrowhead": 0,
           "arrowwidth": 1
          },
          "autotypenumbers": "strict",
          "coloraxis": {
           "colorbar": {
            "outlinewidth": 0,
            "ticks": ""
           }
          },
          "colorscale": {
           "diverging": [
            [
             0,
             "#8e0152"
            ],
            [
             0.1,
             "#c51b7d"
            ],
            [
             0.2,
             "#de77ae"
            ],
            [
             0.3,
             "#f1b6da"
            ],
            [
             0.4,
             "#fde0ef"
            ],
            [
             0.5,
             "#f7f7f7"
            ],
            [
             0.6,
             "#e6f5d0"
            ],
            [
             0.7,
             "#b8e186"
            ],
            [
             0.8,
             "#7fbc41"
            ],
            [
             0.9,
             "#4d9221"
            ],
            [
             1,
             "#276419"
            ]
           ],
           "sequential": [
            [
             0,
             "#0d0887"
            ],
            [
             0.1111111111111111,
             "#46039f"
            ],
            [
             0.2222222222222222,
             "#7201a8"
            ],
            [
             0.3333333333333333,
             "#9c179e"
            ],
            [
             0.4444444444444444,
             "#bd3786"
            ],
            [
             0.5555555555555556,
             "#d8576b"
            ],
            [
             0.6666666666666666,
             "#ed7953"
            ],
            [
             0.7777777777777778,
             "#fb9f3a"
            ],
            [
             0.8888888888888888,
             "#fdca26"
            ],
            [
             1,
             "#f0f921"
            ]
           ],
           "sequentialminus": [
            [
             0,
             "#0d0887"
            ],
            [
             0.1111111111111111,
             "#46039f"
            ],
            [
             0.2222222222222222,
             "#7201a8"
            ],
            [
             0.3333333333333333,
             "#9c179e"
            ],
            [
             0.4444444444444444,
             "#bd3786"
            ],
            [
             0.5555555555555556,
             "#d8576b"
            ],
            [
             0.6666666666666666,
             "#ed7953"
            ],
            [
             0.7777777777777778,
             "#fb9f3a"
            ],
            [
             0.8888888888888888,
             "#fdca26"
            ],
            [
             1,
             "#f0f921"
            ]
           ]
          },
          "colorway": [
           "#636efa",
           "#EF553B",
           "#00cc96",
           "#ab63fa",
           "#FFA15A",
           "#19d3f3",
           "#FF6692",
           "#B6E880",
           "#FF97FF",
           "#FECB52"
          ],
          "font": {
           "color": "#2a3f5f"
          },
          "geo": {
           "bgcolor": "white",
           "lakecolor": "white",
           "landcolor": "#E5ECF6",
           "showlakes": true,
           "showland": true,
           "subunitcolor": "white"
          },
          "hoverlabel": {
           "align": "left"
          },
          "hovermode": "closest",
          "mapbox": {
           "style": "light"
          },
          "paper_bgcolor": "white",
          "plot_bgcolor": "#E5ECF6",
          "polar": {
           "angularaxis": {
            "gridcolor": "white",
            "linecolor": "white",
            "ticks": ""
           },
           "bgcolor": "#E5ECF6",
           "radialaxis": {
            "gridcolor": "white",
            "linecolor": "white",
            "ticks": ""
           }
          },
          "scene": {
           "xaxis": {
            "backgroundcolor": "#E5ECF6",
            "gridcolor": "white",
            "gridwidth": 2,
            "linecolor": "white",
            "showbackground": true,
            "ticks": "",
            "zerolinecolor": "white"
           },
           "yaxis": {
            "backgroundcolor": "#E5ECF6",
            "gridcolor": "white",
            "gridwidth": 2,
            "linecolor": "white",
            "showbackground": true,
            "ticks": "",
            "zerolinecolor": "white"
           },
           "zaxis": {
            "backgroundcolor": "#E5ECF6",
            "gridcolor": "white",
            "gridwidth": 2,
            "linecolor": "white",
            "showbackground": true,
            "ticks": "",
            "zerolinecolor": "white"
           }
          },
          "shapedefaults": {
           "line": {
            "color": "#2a3f5f"
           }
          },
          "ternary": {
           "aaxis": {
            "gridcolor": "white",
            "linecolor": "white",
            "ticks": ""
           },
           "baxis": {
            "gridcolor": "white",
            "linecolor": "white",
            "ticks": ""
           },
           "bgcolor": "#E5ECF6",
           "caxis": {
            "gridcolor": "white",
            "linecolor": "white",
            "ticks": ""
           }
          },
          "title": {
           "x": 0.05
          },
          "xaxis": {
           "automargin": true,
           "gridcolor": "white",
           "linecolor": "white",
           "ticks": "",
           "title": {
            "standoff": 15
           },
           "zerolinecolor": "white",
           "zerolinewidth": 2
          },
          "yaxis": {
           "automargin": true,
           "gridcolor": "white",
           "linecolor": "white",
           "ticks": "",
           "title": {
            "standoff": 15
           },
           "zerolinecolor": "white",
           "zerolinewidth": 2
          }
         }
        },
        "title": {
         "text": "Number of dataset downloads over time"
        },
        "xaxis": {
         "title": {
          "text": "date"
         }
        },
        "yaxis": {
         "title": {
          "text": "number of downloads"
         }
        }
       }
      },
      "text/html": [
       "<div>                            <div id=\"775a336d-ee34-465c-8903-4515d5ed02c1\" class=\"plotly-graph-div\" style=\"height:525px; width:100%;\"></div>            <script type=\"text/javascript\">                require([\"plotly\"], function(Plotly) {                    window.PLOTLYENV=window.PLOTLYENV || {};                                    if (document.getElementById(\"775a336d-ee34-465c-8903-4515d5ed02c1\")) {                    Plotly.newPlot(                        \"775a336d-ee34-465c-8903-4515d5ed02c1\",                        [{\"mode\":\"lines+markers\",\"type\":\"scatter\",\"x\":[\"2021-04-23T00:00:00\",\"2021-04-24T00:00:00\",\"2021-04-26T00:00:00\",\"2021-04-27T00:00:00\",\"2021-04-28T00:00:00\",\"2021-04-29T00:00:00\",\"2021-04-30T00:00:00\",\"2021-05-01T00:00:00\",\"2021-05-02T00:00:00\",\"2021-05-03T00:00:00\",\"2021-05-04T00:00:00\",\"2021-05-05T00:00:00\",\"2021-05-06T00:00:00\",\"2021-05-10T00:00:00\",\"2021-05-11T00:00:00\",\"2021-05-12T00:00:00\",\"2021-05-13T00:00:00\",\"2021-05-14T00:00:00\",\"2021-05-15T00:00:00\",\"2021-05-18T00:00:00\",\"2021-05-19T00:00:00\",\"2021-05-20T00:00:00\",\"2021-05-21T00:00:00\",\"2021-05-22T00:00:00\",\"2021-05-23T00:00:00\",\"2021-05-24T00:00:00\",\"2021-05-25T00:00:00\",\"2021-05-26T00:00:00\",\"2021-05-27T00:00:00\",\"2021-05-28T00:00:00\",\"2021-05-29T00:00:00\",\"2021-05-30T00:00:00\",\"2021-05-31T00:00:00\",\"2021-06-01T00:00:00\",\"2021-06-02T00:00:00\",\"2021-06-03T00:00:00\",\"2021-06-04T00:00:00\",\"2021-06-05T00:00:00\",\"2021-06-06T00:00:00\",\"2021-06-07T00:00:00\",\"2021-06-08T00:00:00\",\"2021-06-09T00:00:00\",\"2021-06-10T00:00:00\",\"2021-06-11T00:00:00\",\"2021-06-12T00:00:00\",\"2021-06-14T00:00:00\",\"2021-06-15T00:00:00\",\"2021-06-16T00:00:00\",\"2021-06-17T00:00:00\",\"2021-06-18T00:00:00\",\"2021-06-19T00:00:00\",\"2021-06-20T00:00:00\",\"2021-06-21T00:00:00\",\"2021-06-22T00:00:00\",\"2021-06-23T00:00:00\",\"2021-06-24T00:00:00\",\"2021-06-25T00:00:00\",\"2021-06-26T00:00:00\",\"2021-06-27T00:00:00\",\"2021-06-28T00:00:00\",\"2021-06-29T00:00:00\",\"2021-06-30T00:00:00\",\"2021-07-01T00:00:00\",\"2021-07-02T00:00:00\",\"2021-07-03T00:00:00\",\"2021-07-05T00:00:00\",\"2021-07-06T00:00:00\",\"2021-07-07T00:00:00\",\"2021-07-08T00:00:00\",\"2021-07-09T00:00:00\",\"2021-07-11T00:00:00\",\"2021-07-12T00:00:00\",\"2021-07-13T00:00:00\",\"2021-07-14T00:00:00\",\"2021-07-15T00:00:00\",\"2021-07-16T00:00:00\",\"2021-07-17T00:00:00\",\"2021-07-18T00:00:00\",\"2021-07-19T00:00:00\",\"2021-07-20T00:00:00\",\"2021-07-21T00:00:00\",\"2021-07-22T00:00:00\",\"2021-07-23T00:00:00\",\"2021-07-24T00:00:00\",\"2021-07-26T00:00:00\",\"2021-07-27T00:00:00\",\"2021-07-28T00:00:00\",\"2021-07-29T00:00:00\",\"2021-07-30T00:00:00\",\"2021-07-31T00:00:00\",\"2021-08-01T00:00:00\",\"2021-08-02T00:00:00\",\"2021-08-03T00:00:00\",\"2021-08-04T00:00:00\",\"2021-08-05T00:00:00\",\"2021-08-06T00:00:00\",\"2021-08-07T00:00:00\",\"2021-08-08T00:00:00\",\"2021-08-09T00:00:00\",\"2021-08-10T00:00:00\",\"2021-08-11T00:00:00\",\"2021-08-12T00:00:00\",\"2021-08-13T00:00:00\",\"2021-08-15T00:00:00\",\"2021-08-16T00:00:00\",\"2021-08-17T00:00:00\",\"2021-08-18T00:00:00\",\"2021-08-19T00:00:00\",\"2021-08-20T00:00:00\",\"2021-08-21T00:00:00\",\"2021-08-22T00:00:00\",\"2021-08-23T00:00:00\",\"2021-08-24T00:00:00\",\"2021-08-25T00:00:00\",\"2021-08-26T00:00:00\"],\"y\":[5,16,20,30,45,52,59,60,63,66,72,87,88,98,103,106,116,127,129,137,188,199,266,268,272,285,291,308,318,469,478,482,485,494,497,516,565,707,741,743,752,805,886,887,889,900,1046,1050,1087,1124,1130,1135,1158,1161,1166,1174,1180,1181,1185,1201,1212,1215,1221,1238,1239,1244,1250,1269,1272,1397,1398,1408,1412,1495,1505,1510,1610,1651,1669,1687,1692,1703,1788,1789,1796,1803,1817,1830,1920,1925,1929,1939,1979,1996,2006,2013,2017,2018,2021,2029,2038,2046,2058,2060,2065,2069,2073,2082,2091,2121,2155,2183,2190,2200,2207]}],                        {\"template\":{\"data\":{\"bar\":[{\"error_x\":{\"color\":\"#2a3f5f\"},\"error_y\":{\"color\":\"#2a3f5f\"},\"marker\":{\"line\":{\"color\":\"#E5ECF6\",\"width\":0.5},\"pattern\":{\"fillmode\":\"overlay\",\"size\":10,\"solidity\":0.2}},\"type\":\"bar\"}],\"barpolar\":[{\"marker\":{\"line\":{\"color\":\"#E5ECF6\",\"width\":0.5},\"pattern\":{\"fillmode\":\"overlay\",\"size\":10,\"solidity\":0.2}},\"type\":\"barpolar\"}],\"carpet\":[{\"aaxis\":{\"endlinecolor\":\"#2a3f5f\",\"gridcolor\":\"white\",\"linecolor\":\"white\",\"minorgridcolor\":\"white\",\"startlinecolor\":\"#2a3f5f\"},\"baxis\":{\"endlinecolor\":\"#2a3f5f\",\"gridcolor\":\"white\",\"linecolor\":\"white\",\"minorgridcolor\":\"white\",\"startlinecolor\":\"#2a3f5f\"},\"type\":\"carpet\"}],\"choropleth\":[{\"colorbar\":{\"outlinewidth\":0,\"ticks\":\"\"},\"type\":\"choropleth\"}],\"contour\":[{\"colorbar\":{\"outlinewidth\":0,\"ticks\":\"\"},\"colorscale\":[[0.0,\"#0d0887\"],[0.1111111111111111,\"#46039f\"],[0.2222222222222222,\"#7201a8\"],[0.3333333333333333,\"#9c179e\"],[0.4444444444444444,\"#bd3786\"],[0.5555555555555556,\"#d8576b\"],[0.6666666666666666,\"#ed7953\"],[0.7777777777777778,\"#fb9f3a\"],[0.8888888888888888,\"#fdca26\"],[1.0,\"#f0f921\"]],\"type\":\"contour\"}],\"contourcarpet\":[{\"colorbar\":{\"outlinewidth\":0,\"ticks\":\"\"},\"type\":\"contourcarpet\"}],\"heatmap\":[{\"colorbar\":{\"outlinewidth\":0,\"ticks\":\"\"},\"colorscale\":[[0.0,\"#0d0887\"],[0.1111111111111111,\"#46039f\"],[0.2222222222222222,\"#7201a8\"],[0.3333333333333333,\"#9c179e\"],[0.4444444444444444,\"#bd3786\"],[0.5555555555555556,\"#d8576b\"],[0.6666666666666666,\"#ed7953\"],[0.7777777777777778,\"#fb9f3a\"],[0.8888888888888888,\"#fdca26\"],[1.0,\"#f0f921\"]],\"type\":\"heatmap\"}],\"heatmapgl\":[{\"colorbar\":{\"outlinewidth\":0,\"ticks\":\"\"},\"colorscale\":[[0.0,\"#0d0887\"],[0.1111111111111111,\"#46039f\"],[0.2222222222222222,\"#7201a8\"],[0.3333333333333333,\"#9c179e\"],[0.4444444444444444,\"#bd3786\"],[0.5555555555555556,\"#d8576b\"],[0.6666666666666666,\"#ed7953\"],[0.7777777777777778,\"#fb9f3a\"],[0.8888888888888888,\"#fdca26\"],[1.0,\"#f0f921\"]],\"type\":\"heatmapgl\"}],\"histogram\":[{\"marker\":{\"pattern\":{\"fillmode\":\"overlay\",\"size\":10,\"solidity\":0.2}},\"type\":\"histogram\"}],\"histogram2d\":[{\"colorbar\":{\"outlinewidth\":0,\"ticks\":\"\"},\"colorscale\":[[0.0,\"#0d0887\"],[0.1111111111111111,\"#46039f\"],[0.2222222222222222,\"#7201a8\"],[0.3333333333333333,\"#9c179e\"],[0.4444444444444444,\"#bd3786\"],[0.5555555555555556,\"#d8576b\"],[0.6666666666666666,\"#ed7953\"],[0.7777777777777778,\"#fb9f3a\"],[0.8888888888888888,\"#fdca26\"],[1.0,\"#f0f921\"]],\"type\":\"histogram2d\"}],\"histogram2dcontour\":[{\"colorbar\":{\"outlinewidth\":0,\"ticks\":\"\"},\"colorscale\":[[0.0,\"#0d0887\"],[0.1111111111111111,\"#46039f\"],[0.2222222222222222,\"#7201a8\"],[0.3333333333333333,\"#9c179e\"],[0.4444444444444444,\"#bd3786\"],[0.5555555555555556,\"#d8576b\"],[0.6666666666666666,\"#ed7953\"],[0.7777777777777778,\"#fb9f3a\"],[0.8888888888888888,\"#fdca26\"],[1.0,\"#f0f921\"]],\"type\":\"histogram2dcontour\"}],\"mesh3d\":[{\"colorbar\":{\"outlinewidth\":0,\"ticks\":\"\"},\"type\":\"mesh3d\"}],\"parcoords\":[{\"line\":{\"colorbar\":{\"outlinewidth\":0,\"ticks\":\"\"}},\"type\":\"parcoords\"}],\"pie\":[{\"automargin\":true,\"type\":\"pie\"}],\"scatter\":[{\"marker\":{\"colorbar\":{\"outlinewidth\":0,\"ticks\":\"\"}},\"type\":\"scatter\"}],\"scatter3d\":[{\"line\":{\"colorbar\":{\"outlinewidth\":0,\"ticks\":\"\"}},\"marker\":{\"colorbar\":{\"outlinewidth\":0,\"ticks\":\"\"}},\"type\":\"scatter3d\"}],\"scattercarpet\":[{\"marker\":{\"colorbar\":{\"outlinewidth\":0,\"ticks\":\"\"}},\"type\":\"scattercarpet\"}],\"scattergeo\":[{\"marker\":{\"colorbar\":{\"outlinewidth\":0,\"ticks\":\"\"}},\"type\":\"scattergeo\"}],\"scattergl\":[{\"marker\":{\"colorbar\":{\"outlinewidth\":0,\"ticks\":\"\"}},\"type\":\"scattergl\"}],\"scattermapbox\":[{\"marker\":{\"colorbar\":{\"outlinewidth\":0,\"ticks\":\"\"}},\"type\":\"scattermapbox\"}],\"scatterpolar\":[{\"marker\":{\"colorbar\":{\"outlinewidth\":0,\"ticks\":\"\"}},\"type\":\"scatterpolar\"}],\"scatterpolargl\":[{\"marker\":{\"colorbar\":{\"outlinewidth\":0,\"ticks\":\"\"}},\"type\":\"scatterpolargl\"}],\"scatterternary\":[{\"marker\":{\"colorbar\":{\"outlinewidth\":0,\"ticks\":\"\"}},\"type\":\"scatterternary\"}],\"surface\":[{\"colorbar\":{\"outlinewidth\":0,\"ticks\":\"\"},\"colorscale\":[[0.0,\"#0d0887\"],[0.1111111111111111,\"#46039f\"],[0.2222222222222222,\"#7201a8\"],[0.3333333333333333,\"#9c179e\"],[0.4444444444444444,\"#bd3786\"],[0.5555555555555556,\"#d8576b\"],[0.6666666666666666,\"#ed7953\"],[0.7777777777777778,\"#fb9f3a\"],[0.8888888888888888,\"#fdca26\"],[1.0,\"#f0f921\"]],\"type\":\"surface\"}],\"table\":[{\"cells\":{\"fill\":{\"color\":\"#EBF0F8\"},\"line\":{\"color\":\"white\"}},\"header\":{\"fill\":{\"color\":\"#C8D4E3\"},\"line\":{\"color\":\"white\"}},\"type\":\"table\"}]},\"layout\":{\"annotationdefaults\":{\"arrowcolor\":\"#2a3f5f\",\"arrowhead\":0,\"arrowwidth\":1},\"autotypenumbers\":\"strict\",\"coloraxis\":{\"colorbar\":{\"outlinewidth\":0,\"ticks\":\"\"}},\"colorscale\":{\"diverging\":[[0,\"#8e0152\"],[0.1,\"#c51b7d\"],[0.2,\"#de77ae\"],[0.3,\"#f1b6da\"],[0.4,\"#fde0ef\"],[0.5,\"#f7f7f7\"],[0.6,\"#e6f5d0\"],[0.7,\"#b8e186\"],[0.8,\"#7fbc41\"],[0.9,\"#4d9221\"],[1,\"#276419\"]],\"sequential\":[[0.0,\"#0d0887\"],[0.1111111111111111,\"#46039f\"],[0.2222222222222222,\"#7201a8\"],[0.3333333333333333,\"#9c179e\"],[0.4444444444444444,\"#bd3786\"],[0.5555555555555556,\"#d8576b\"],[0.6666666666666666,\"#ed7953\"],[0.7777777777777778,\"#fb9f3a\"],[0.8888888888888888,\"#fdca26\"],[1.0,\"#f0f921\"]],\"sequentialminus\":[[0.0,\"#0d0887\"],[0.1111111111111111,\"#46039f\"],[0.2222222222222222,\"#7201a8\"],[0.3333333333333333,\"#9c179e\"],[0.4444444444444444,\"#bd3786\"],[0.5555555555555556,\"#d8576b\"],[0.6666666666666666,\"#ed7953\"],[0.7777777777777778,\"#fb9f3a\"],[0.8888888888888888,\"#fdca26\"],[1.0,\"#f0f921\"]]},\"colorway\":[\"#636efa\",\"#EF553B\",\"#00cc96\",\"#ab63fa\",\"#FFA15A\",\"#19d3f3\",\"#FF6692\",\"#B6E880\",\"#FF97FF\",\"#FECB52\"],\"font\":{\"color\":\"#2a3f5f\"},\"geo\":{\"bgcolor\":\"white\",\"lakecolor\":\"white\",\"landcolor\":\"#E5ECF6\",\"showlakes\":true,\"showland\":true,\"subunitcolor\":\"white\"},\"hoverlabel\":{\"align\":\"left\"},\"hovermode\":\"closest\",\"mapbox\":{\"style\":\"light\"},\"paper_bgcolor\":\"white\",\"plot_bgcolor\":\"#E5ECF6\",\"polar\":{\"angularaxis\":{\"gridcolor\":\"white\",\"linecolor\":\"white\",\"ticks\":\"\"},\"bgcolor\":\"#E5ECF6\",\"radialaxis\":{\"gridcolor\":\"white\",\"linecolor\":\"white\",\"ticks\":\"\"}},\"scene\":{\"xaxis\":{\"backgroundcolor\":\"#E5ECF6\",\"gridcolor\":\"white\",\"gridwidth\":2,\"linecolor\":\"white\",\"showbackground\":true,\"ticks\":\"\",\"zerolinecolor\":\"white\"},\"yaxis\":{\"backgroundcolor\":\"#E5ECF6\",\"gridcolor\":\"white\",\"gridwidth\":2,\"linecolor\":\"white\",\"showbackground\":true,\"ticks\":\"\",\"zerolinecolor\":\"white\"},\"zaxis\":{\"backgroundcolor\":\"#E5ECF6\",\"gridcolor\":\"white\",\"gridwidth\":2,\"linecolor\":\"white\",\"showbackground\":true,\"ticks\":\"\",\"zerolinecolor\":\"white\"}},\"shapedefaults\":{\"line\":{\"color\":\"#2a3f5f\"}},\"ternary\":{\"aaxis\":{\"gridcolor\":\"white\",\"linecolor\":\"white\",\"ticks\":\"\"},\"baxis\":{\"gridcolor\":\"white\",\"linecolor\":\"white\",\"ticks\":\"\"},\"bgcolor\":\"#E5ECF6\",\"caxis\":{\"gridcolor\":\"white\",\"linecolor\":\"white\",\"ticks\":\"\"}},\"title\":{\"x\":0.05},\"xaxis\":{\"automargin\":true,\"gridcolor\":\"white\",\"linecolor\":\"white\",\"ticks\":\"\",\"title\":{\"standoff\":15},\"zerolinecolor\":\"white\",\"zerolinewidth\":2},\"yaxis\":{\"automargin\":true,\"gridcolor\":\"white\",\"linecolor\":\"white\",\"ticks\":\"\",\"title\":{\"standoff\":15},\"zerolinecolor\":\"white\",\"zerolinewidth\":2}}},\"title\":{\"text\":\"Number of dataset downloads over time\"},\"xaxis\":{\"title\":{\"text\":\"date\"}},\"yaxis\":{\"title\":{\"text\":\"number of downloads\"}}},                        {\"responsive\": true}                    ).then(function(){\n",
       "                            \n",
       "var gd = document.getElementById('775a336d-ee34-465c-8903-4515d5ed02c1');\n",
       "var x = new MutationObserver(function (mutations, observer) {{\n",
       "        var display = window.getComputedStyle(gd).display;\n",
       "        if (!display || display === 'none') {{\n",
       "            console.log([gd, 'removed!']);\n",
       "            Plotly.purge(gd);\n",
       "            observer.disconnect();\n",
       "        }}\n",
       "}});\n",
       "\n",
       "// Listen for the removal of the full notebook cells\n",
       "var notebookContainer = gd.closest('#notebook-container');\n",
       "if (notebookContainer) {{\n",
       "    x.observe(notebookContainer, {childList: true});\n",
       "}}\n",
       "\n",
       "// Listen for the clearing of the current output cell\n",
       "var outputEl = gd.closest('.output');\n",
       "if (outputEl) {{\n",
       "    x.observe(outputEl, {childList: true});\n",
       "}}\n",
       "\n",
       "                        })                };                });            </script>        </div>"
      ]
     },
     "metadata": {},
     "output_type": "display_data"
    }
   ],
   "source": [
    "downloads_over_time = downloads[['download_dt', 'count']].groupby(['download_dt']).sum().reset_index()\n",
    "downloads_over_time['cum_downloads'] = downloads_over_time['count'].cumsum()\n",
    "\n",
    "fig = go.Figure(go.Scatter(\n",
    "    mode = \"lines+markers\",\n",
    "    x = downloads_over_time['download_dt'].tolist(),\n",
    "    y = downloads_over_time['cum_downloads'].tolist()\n",
    "    ))\n",
    "\n",
    "fig.update_layout(\n",
    "    title=\"Number of dataset downloads over time\",\n",
    "    xaxis_title=\"date\",\n",
    "    yaxis_title=\"number of downloads\"\n",
    ")\n",
    "             \n",
    "fig.show()"
   ]
  },
  {
   "cell_type": "markdown",
   "id": "41134a9d",
   "metadata": {
    "extensions": {
     "jupyter_dashboards": {
      "version": 1,
      "views": {
       "grid_default": {},
       "report_default": {
        "hidden": false
       }
      }
     }
    }
   },
   "source": [
    "## Most downloaded datasets"
   ]
  },
  {
   "cell_type": "markdown",
   "id": "674998fd",
   "metadata": {
    "extensions": {
     "jupyter_dashboards": {
      "version": 1,
      "views": {
       "grid_default": {},
       "report_default": {
        "hidden": false
       }
      }
     }
    }
   },
   "source": [
    "### Raw downloads"
   ]
  },
  {
   "cell_type": "code",
   "execution_count": 191,
   "id": "ed0bf2b2",
   "metadata": {
    "extensions": {
     "jupyter_dashboards": {
      "version": 1,
      "views": {
       "grid_default": {},
       "report_default": {
        "hidden": false
       }
      }
     }
    }
   },
   "outputs": [
    {
     "data": {
      "text/html": [
       "<div>\n",
       "<style scoped>\n",
       "    .dataframe tbody tr th:only-of-type {\n",
       "        vertical-align: middle;\n",
       "    }\n",
       "\n",
       "    .dataframe tbody tr th {\n",
       "        vertical-align: top;\n",
       "    }\n",
       "\n",
       "    .dataframe thead th {\n",
       "        text-align: right;\n",
       "    }\n",
       "</style>\n",
       "<table border=\"1\" class=\"dataframe\">\n",
       "  <thead>\n",
       "    <tr style=\"text-align: right;\">\n",
       "      <th></th>\n",
       "      <th>dataset_id</th>\n",
       "      <th>dataset_name</th>\n",
       "      <th>raw downloads</th>\n",
       "    </tr>\n",
       "  </thead>\n",
       "  <tbody>\n",
       "    <tr>\n",
       "      <th>0</th>\n",
       "      <td>f72958f5-7f42-4ebb-98da-445b0c6de516</td>\n",
       "      <td>Azimuth meta-analysis of 10 datasets of health...</td>\n",
       "      <td>70</td>\n",
       "    </tr>\n",
       "    <tr>\n",
       "      <th>1</th>\n",
       "      <td>66d15835-5dc8-4e96-b0eb-f48971cb65e8</td>\n",
       "      <td>Single cell transcriptome analysis of human pa...</td>\n",
       "      <td>66</td>\n",
       "    </tr>\n",
       "    <tr>\n",
       "      <th>2</th>\n",
       "      <td>9df60c57-fdf3-4e93-828e-fe9303f20438</td>\n",
       "      <td>Single cell transcriptional and chromatin acce...</td>\n",
       "      <td>61</td>\n",
       "    </tr>\n",
       "    <tr>\n",
       "      <th>3</th>\n",
       "      <td>21d3e683-80a4-4d9b-bc89-ebb2df513dde</td>\n",
       "      <td>Time-resolved Systems Immunology Reveals a Lat...</td>\n",
       "      <td>56</td>\n",
       "    </tr>\n",
       "    <tr>\n",
       "      <th>4</th>\n",
       "      <td>8c42cfd0-0b0a-46d5-910c-fc833d83c45e</td>\n",
       "      <td>Krasnow Lab Human Lung Cell Atlas, 10X</td>\n",
       "      <td>53</td>\n",
       "    </tr>\n",
       "    <tr>\n",
       "      <th>5</th>\n",
       "      <td>13a027de-ea3e-432b-9a5e-6bc7048498fc</td>\n",
       "      <td>Single cell transcriptional and chromatin acce...</td>\n",
       "      <td>48</td>\n",
       "    </tr>\n",
       "    <tr>\n",
       "      <th>6</th>\n",
       "      <td>5a11f879-d1ef-458a-910c-9b0bdfca5ebf</td>\n",
       "      <td>Tabula Sapiens - Endothelial</td>\n",
       "      <td>42</td>\n",
       "    </tr>\n",
       "    <tr>\n",
       "      <th>7</th>\n",
       "      <td>b83559d1-156f-4ba9-9f6a-b165f83ef43f</td>\n",
       "      <td>Single-cell RNA-Seq Investigation of Foveal an...</td>\n",
       "      <td>37</td>\n",
       "    </tr>\n",
       "    <tr>\n",
       "      <th>8</th>\n",
       "      <td>53d208b0-2cfd-4366-9866-c3c6114081bc</td>\n",
       "      <td>Tabula Sapiens - All Cells</td>\n",
       "      <td>36</td>\n",
       "    </tr>\n",
       "    <tr>\n",
       "      <th>9</th>\n",
       "      <td>b07e5164-baf6-43d2-bdba-5a249d0da879</td>\n",
       "      <td>A Single-Cell Transcriptome Atlas of the Human...</td>\n",
       "      <td>35</td>\n",
       "    </tr>\n",
       "  </tbody>\n",
       "</table>\n",
       "</div>"
      ],
      "text/plain": [
       "                             dataset_id  \\\n",
       "0  f72958f5-7f42-4ebb-98da-445b0c6de516   \n",
       "1  66d15835-5dc8-4e96-b0eb-f48971cb65e8   \n",
       "2  9df60c57-fdf3-4e93-828e-fe9303f20438   \n",
       "3  21d3e683-80a4-4d9b-bc89-ebb2df513dde   \n",
       "4  8c42cfd0-0b0a-46d5-910c-fc833d83c45e   \n",
       "5  13a027de-ea3e-432b-9a5e-6bc7048498fc   \n",
       "6  5a11f879-d1ef-458a-910c-9b0bdfca5ebf   \n",
       "7  b83559d1-156f-4ba9-9f6a-b165f83ef43f   \n",
       "8  53d208b0-2cfd-4366-9866-c3c6114081bc   \n",
       "9  b07e5164-baf6-43d2-bdba-5a249d0da879   \n",
       "\n",
       "                                        dataset_name  raw downloads  \n",
       "0  Azimuth meta-analysis of 10 datasets of health...             70  \n",
       "1  Single cell transcriptome analysis of human pa...             66  \n",
       "2  Single cell transcriptional and chromatin acce...             61  \n",
       "3  Time-resolved Systems Immunology Reveals a Lat...             56  \n",
       "4             Krasnow Lab Human Lung Cell Atlas, 10X             53  \n",
       "5  Single cell transcriptional and chromatin acce...             48  \n",
       "6                       Tabula Sapiens - Endothelial             42  \n",
       "7  Single-cell RNA-Seq Investigation of Foveal an...             37  \n",
       "8                         Tabula Sapiens - All Cells             36  \n",
       "9  A Single-Cell Transcriptome Atlas of the Human...             35  "
      ]
     },
     "execution_count": 191,
     "metadata": {},
     "output_type": "execute_result"
    }
   ],
   "source": [
    "top_ds_raw = combined[['dataset_id', 'dataset_name','download_dt','remoteip']].drop_duplicates()\n",
    "top_ds_raw['raw downloads'] = 1\n",
    "top_ds_raw = top_ds_raw[['dataset_id', 'dataset_name', 'raw downloads']].groupby(['dataset_id', 'dataset_name']).sum().reset_index()\n",
    "top_ds_raw = top_ds_raw.sort_values(by=['raw downloads'], ascending = False).reset_index(drop = True)\n",
    "top_ds_raw[0:10]\n"
   ]
  },
  {
   "cell_type": "code",
   "execution_count": 192,
   "id": "010a4bec",
   "metadata": {},
   "outputs": [
    {
     "data": {
      "text/html": [
       "<div>\n",
       "<style scoped>\n",
       "    .dataframe tbody tr th:only-of-type {\n",
       "        vertical-align: middle;\n",
       "    }\n",
       "\n",
       "    .dataframe tbody tr th {\n",
       "        vertical-align: top;\n",
       "    }\n",
       "\n",
       "    .dataframe thead th {\n",
       "        text-align: right;\n",
       "    }\n",
       "</style>\n",
       "<table border=\"1\" class=\"dataframe\">\n",
       "  <thead>\n",
       "    <tr style=\"text-align: right;\">\n",
       "      <th></th>\n",
       "      <th>dataset_id</th>\n",
       "      <th>dataset_name</th>\n",
       "      <th>raw downloads</th>\n",
       "    </tr>\n",
       "  </thead>\n",
       "  <tbody>\n",
       "    <tr>\n",
       "      <th>0</th>\n",
       "      <td>f72958f5-7f42-4ebb-98da-445b0c6de516</td>\n",
       "      <td>Azimuth meta-analysis of 10 datasets of health...</td>\n",
       "      <td>59</td>\n",
       "    </tr>\n",
       "    <tr>\n",
       "      <th>1</th>\n",
       "      <td>21d3e683-80a4-4d9b-bc89-ebb2df513dde</td>\n",
       "      <td>Time-resolved Systems Immunology Reveals a Lat...</td>\n",
       "      <td>50</td>\n",
       "    </tr>\n",
       "    <tr>\n",
       "      <th>2</th>\n",
       "      <td>9df60c57-fdf3-4e93-828e-fe9303f20438</td>\n",
       "      <td>Single cell transcriptional and chromatin acce...</td>\n",
       "      <td>48</td>\n",
       "    </tr>\n",
       "    <tr>\n",
       "      <th>3</th>\n",
       "      <td>66d15835-5dc8-4e96-b0eb-f48971cb65e8</td>\n",
       "      <td>Single cell transcriptome analysis of human pa...</td>\n",
       "      <td>42</td>\n",
       "    </tr>\n",
       "    <tr>\n",
       "      <th>4</th>\n",
       "      <td>5a11f879-d1ef-458a-910c-9b0bdfca5ebf</td>\n",
       "      <td>Tabula Sapiens - Endothelial</td>\n",
       "      <td>40</td>\n",
       "    </tr>\n",
       "    <tr>\n",
       "      <th>5</th>\n",
       "      <td>13a027de-ea3e-432b-9a5e-6bc7048498fc</td>\n",
       "      <td>Single cell transcriptional and chromatin acce...</td>\n",
       "      <td>38</td>\n",
       "    </tr>\n",
       "    <tr>\n",
       "      <th>6</th>\n",
       "      <td>8c42cfd0-0b0a-46d5-910c-fc833d83c45e</td>\n",
       "      <td>Krasnow Lab Human Lung Cell Atlas, 10X</td>\n",
       "      <td>38</td>\n",
       "    </tr>\n",
       "    <tr>\n",
       "      <th>7</th>\n",
       "      <td>53d208b0-2cfd-4366-9866-c3c6114081bc</td>\n",
       "      <td>Tabula Sapiens - All Cells</td>\n",
       "      <td>34</td>\n",
       "    </tr>\n",
       "    <tr>\n",
       "      <th>8</th>\n",
       "      <td>30cd5311-6c09-46c9-94f1-71fe4b91813c</td>\n",
       "      <td>Time-resolved Systems Immunology Reveals a Lat...</td>\n",
       "      <td>29</td>\n",
       "    </tr>\n",
       "    <tr>\n",
       "      <th>9</th>\n",
       "      <td>b83559d1-156f-4ba9-9f6a-b165f83ef43f</td>\n",
       "      <td>Single-cell RNA-Seq Investigation of Foveal an...</td>\n",
       "      <td>27</td>\n",
       "    </tr>\n",
       "  </tbody>\n",
       "</table>\n",
       "</div>"
      ],
      "text/plain": [
       "                             dataset_id  \\\n",
       "0  f72958f5-7f42-4ebb-98da-445b0c6de516   \n",
       "1  21d3e683-80a4-4d9b-bc89-ebb2df513dde   \n",
       "2  9df60c57-fdf3-4e93-828e-fe9303f20438   \n",
       "3  66d15835-5dc8-4e96-b0eb-f48971cb65e8   \n",
       "4  5a11f879-d1ef-458a-910c-9b0bdfca5ebf   \n",
       "5  13a027de-ea3e-432b-9a5e-6bc7048498fc   \n",
       "6  8c42cfd0-0b0a-46d5-910c-fc833d83c45e   \n",
       "7  53d208b0-2cfd-4366-9866-c3c6114081bc   \n",
       "8  30cd5311-6c09-46c9-94f1-71fe4b91813c   \n",
       "9  b83559d1-156f-4ba9-9f6a-b165f83ef43f   \n",
       "\n",
       "                                        dataset_name  raw downloads  \n",
       "0  Azimuth meta-analysis of 10 datasets of health...             59  \n",
       "1  Time-resolved Systems Immunology Reveals a Lat...             50  \n",
       "2  Single cell transcriptional and chromatin acce...             48  \n",
       "3  Single cell transcriptome analysis of human pa...             42  \n",
       "4                       Tabula Sapiens - Endothelial             40  \n",
       "5  Single cell transcriptional and chromatin acce...             38  \n",
       "6             Krasnow Lab Human Lung Cell Atlas, 10X             38  \n",
       "7                         Tabula Sapiens - All Cells             34  \n",
       "8  Time-resolved Systems Immunology Reveals a Lat...             29  \n",
       "9  Single-cell RNA-Seq Investigation of Foveal an...             27  "
      ]
     },
     "execution_count": 192,
     "metadata": {},
     "output_type": "execute_result"
    }
   ],
   "source": [
    "first_ds_raw = combined[['dataset_id', 'dataset_name','download_dt','remoteip']].drop_duplicates()\n",
    "first_ds_raw = first_ds_raw.sort_values(['remoteip', 'dataset_id', 'download_dt']).drop_duplicates(subset=['remoteip', 'dataset_id'], keep = 'first').reset_index(drop = True)\n",
    "first_ds_raw['raw downloads'] = 1\n",
    "first_ds_raw = first_ds_raw.groupby(['dataset_id', 'dataset_name']).sum().reset_index()\n",
    "first_ds_raw = first_ds_raw.sort_values(by=['raw downloads'], ascending = False).reset_index(drop = True)\n",
    "first_ds_raw[0:10]"
   ]
  },
  {
   "cell_type": "markdown",
   "id": "10635346",
   "metadata": {
    "extensions": {
     "jupyter_dashboards": {
      "version": 1,
      "views": {
       "grid_default": {},
       "report_default": {
        "hidden": false
       }
      }
     }
    }
   },
   "source": [
    "### Normalized"
   ]
  },
  {
   "cell_type": "code",
   "execution_count": 193,
   "id": "d70c55ea",
   "metadata": {
    "extensions": {
     "jupyter_dashboards": {
      "version": 1,
      "views": {
       "grid_default": {},
       "report_default": {
        "hidden": false
       }
      }
     }
    }
   },
   "outputs": [
    {
     "data": {
      "text/html": [
       "<div>\n",
       "<style scoped>\n",
       "    .dataframe tbody tr th:only-of-type {\n",
       "        vertical-align: middle;\n",
       "    }\n",
       "\n",
       "    .dataframe tbody tr th {\n",
       "        vertical-align: top;\n",
       "    }\n",
       "\n",
       "    .dataframe thead th {\n",
       "        text-align: right;\n",
       "    }\n",
       "</style>\n",
       "<table border=\"1\" class=\"dataframe\">\n",
       "  <thead>\n",
       "    <tr style=\"text-align: right;\">\n",
       "      <th></th>\n",
       "      <th>dataset_id</th>\n",
       "      <th>dataset_name</th>\n",
       "      <th>raw downloads</th>\n",
       "      <th>value</th>\n",
       "    </tr>\n",
       "  </thead>\n",
       "  <tbody>\n",
       "    <tr>\n",
       "      <th>0</th>\n",
       "      <td>5a11f879-d1ef-458a-910c-9b0bdfca5ebf</td>\n",
       "      <td>Tabula Sapiens - Endothelial</td>\n",
       "      <td>42</td>\n",
       "      <td>107</td>\n",
       "    </tr>\n",
       "    <tr>\n",
       "      <th>1</th>\n",
       "      <td>53d208b0-2cfd-4366-9866-c3c6114081bc</td>\n",
       "      <td>Tabula Sapiens - All Cells</td>\n",
       "      <td>36</td>\n",
       "      <td>94</td>\n",
       "    </tr>\n",
       "    <tr>\n",
       "      <th>2</th>\n",
       "      <td>f72958f5-7f42-4ebb-98da-445b0c6de516</td>\n",
       "      <td>Azimuth meta-analysis of 10 datasets of health...</td>\n",
       "      <td>70</td>\n",
       "      <td>89</td>\n",
       "    </tr>\n",
       "    <tr>\n",
       "      <th>3</th>\n",
       "      <td>c5d88abe-f23a-45fa-a534-788985e93dad</td>\n",
       "      <td>Tabula Sapiens - Immune</td>\n",
       "      <td>30</td>\n",
       "      <td>76</td>\n",
       "    </tr>\n",
       "    <tr>\n",
       "      <th>4</th>\n",
       "      <td>66d15835-5dc8-4e96-b0eb-f48971cb65e8</td>\n",
       "      <td>Single cell transcriptome analysis of human pa...</td>\n",
       "      <td>66</td>\n",
       "      <td>66</td>\n",
       "    </tr>\n",
       "    <tr>\n",
       "      <th>5</th>\n",
       "      <td>9df60c57-fdf3-4e93-828e-fe9303f20438</td>\n",
       "      <td>Single cell transcriptional and chromatin acce...</td>\n",
       "      <td>61</td>\n",
       "      <td>50</td>\n",
       "    </tr>\n",
       "    <tr>\n",
       "      <th>6</th>\n",
       "      <td>21d3e683-80a4-4d9b-bc89-ebb2df513dde</td>\n",
       "      <td>Time-resolved Systems Immunology Reveals a Lat...</td>\n",
       "      <td>56</td>\n",
       "      <td>46</td>\n",
       "    </tr>\n",
       "    <tr>\n",
       "      <th>7</th>\n",
       "      <td>8c42cfd0-0b0a-46d5-910c-fc833d83c45e</td>\n",
       "      <td>Krasnow Lab Human Lung Cell Atlas, 10X</td>\n",
       "      <td>53</td>\n",
       "      <td>43</td>\n",
       "    </tr>\n",
       "    <tr>\n",
       "      <th>8</th>\n",
       "      <td>a1b9c51e-a408-4f7f-bccb-abefe20ae2a5</td>\n",
       "      <td>Olah et al (2020) Single-cell Human Microglia</td>\n",
       "      <td>15</td>\n",
       "      <td>41</td>\n",
       "    </tr>\n",
       "    <tr>\n",
       "      <th>9</th>\n",
       "      <td>13a027de-ea3e-432b-9a5e-6bc7048498fc</td>\n",
       "      <td>Single cell transcriptional and chromatin acce...</td>\n",
       "      <td>48</td>\n",
       "      <td>39</td>\n",
       "    </tr>\n",
       "  </tbody>\n",
       "</table>\n",
       "</div>"
      ],
      "text/plain": [
       "                             dataset_id  \\\n",
       "0  5a11f879-d1ef-458a-910c-9b0bdfca5ebf   \n",
       "1  53d208b0-2cfd-4366-9866-c3c6114081bc   \n",
       "2  f72958f5-7f42-4ebb-98da-445b0c6de516   \n",
       "3  c5d88abe-f23a-45fa-a534-788985e93dad   \n",
       "4  66d15835-5dc8-4e96-b0eb-f48971cb65e8   \n",
       "5  9df60c57-fdf3-4e93-828e-fe9303f20438   \n",
       "6  21d3e683-80a4-4d9b-bc89-ebb2df513dde   \n",
       "7  8c42cfd0-0b0a-46d5-910c-fc833d83c45e   \n",
       "8  a1b9c51e-a408-4f7f-bccb-abefe20ae2a5   \n",
       "9  13a027de-ea3e-432b-9a5e-6bc7048498fc   \n",
       "\n",
       "                                        dataset_name  raw downloads  value  \n",
       "0                       Tabula Sapiens - Endothelial             42    107  \n",
       "1                         Tabula Sapiens - All Cells             36     94  \n",
       "2  Azimuth meta-analysis of 10 datasets of health...             70     89  \n",
       "3                            Tabula Sapiens - Immune             30     76  \n",
       "4  Single cell transcriptome analysis of human pa...             66     66  \n",
       "5  Single cell transcriptional and chromatin acce...             61     50  \n",
       "6  Time-resolved Systems Immunology Reveals a Lat...             56     46  \n",
       "7             Krasnow Lab Human Lung Cell Atlas, 10X             53     43  \n",
       "8      Olah et al (2020) Single-cell Human Microglia             15     41  \n",
       "9  Single cell transcriptional and chromatin acce...             48     39  "
      ]
     },
     "execution_count": 193,
     "metadata": {},
     "output_type": "execute_result"
    }
   ],
   "source": [
    "top_ds_norm = combined[['dataset_id', 'dataset_name','download_dt','remoteip']].drop_duplicates()\n",
    "top_ds_norm['raw downloads'] = 1\n",
    "top_ds_norm = top_ds_norm.groupby(['dataset_id', 'dataset_name']).sum().reset_index()\n",
    "top_ds_norm = top_ds_norm.merge(datasets_df[['dataset_id', 'dataset_dt']], how = 'inner', on = 'dataset_id')\n",
    "\n",
    "top_ds_norm['date_since'] = top_ds_norm['dataset_dt']\n",
    "top_ds_norm.loc[top_ds_norm['dataset_dt'] < '2021-04-27', 'date_since'] = datetime.datetime(2021, 4, 27)\n",
    "top_ds_norm['date_since'] = top_ds_norm['date_since'].dt.date\n",
    "\n",
    "top_ds_norm['days_on_platform'] = datetime.date.today() - top_ds_norm['date_since']\n",
    "top_ds_norm['days_on_platform'] = top_ds_norm['days_on_platform'].dt.days\n",
    "top_ds_norm['value'] = ((top_ds_norm['raw downloads']/top_ds_norm['days_on_platform'])*100).astype(int)\n",
    "\n",
    "top_ds_norm = top_ds_norm[['dataset_id', 'dataset_name', 'raw downloads', 'value']].sort_values(by=['value'], ascending = False).reset_index(drop = True)\n",
    "top_ds_norm[0:10]"
   ]
  },
  {
   "cell_type": "markdown",
   "id": "29a09e24",
   "metadata": {
    "extensions": {
     "jupyter_dashboards": {
      "version": 1,
      "views": {
       "grid_default": {},
       "report_default": {
        "hidden": false
       }
      }
     }
    }
   },
   "source": [
    "## Download pattern of datasets"
   ]
  },
  {
   "cell_type": "code",
   "execution_count": 194,
   "id": "1024dc80",
   "metadata": {
    "extensions": {
     "jupyter_dashboards": {
      "version": 1,
      "views": {
       "grid_default": {},
       "report_default": {
        "hidden": true
       }
      }
     }
    }
   },
   "outputs": [],
   "source": [
    "def create_trace_cum_daily(dataset_id):\n",
    "    output = downloads_df[downloads_df['dataset_id'] == dataset_id]\n",
    "    output = output[['download_dt', 'remoteip']].drop_duplicates()\n",
    "    output['count'] = 1\n",
    "    output = output[['download_dt', 'count']].groupby(['download_dt']).sum().reset_index()\n",
    "    output['cum_downloads'] = output['count'].cumsum()\n",
    "    return (output['download_dt'].tolist(), output['cum_downloads'].tolist())\n",
    "\n",
    "def add_trace(fig, x_list, y_list, label):\n",
    "    fig.add_trace(go.Scatter(x=x_list, y=y_list,\n",
    "                    mode='lines+markers', \n",
    "                    hovertemplate = \n",
    "                            '<i>Date</i>: %{x}'+\n",
    "                            '<br>Downloads</i>: %{y}<br>'+\n",
    "                            '<br>%{text}</i>', text = [label for i in range(len(x_list))]))\n",
    "\n",
    "    \n",
    "def dataset_download_trends(d_ids, d_names, title):\n",
    "    x_lists = []\n",
    "    y_lists = []\n",
    "    for id in d_ids:\n",
    "        x, y = create_trace_cum_daily(id)\n",
    "\n",
    "        x_lists.append(x)\n",
    "        y_lists.append(y)\n",
    "    \n",
    "    fig = go.Figure()\n",
    "\n",
    "    for i in range(len(d_ids)):\n",
    "        add_trace(fig, x_lists[i], y_lists[i], d_names[i])\n",
    "\n",
    "    fig.update_layout(\n",
    "        title=title,\n",
    "        xaxis_title=\"date\",\n",
    "        yaxis_title=\"number of downloads\",\n",
    "        showlegend = False\n",
    "    )\n",
    "    \n",
    "    fig.show()"
   ]
  },
  {
   "cell_type": "markdown",
   "id": "01176a75",
   "metadata": {
    "extensions": {
     "jupyter_dashboards": {
      "version": 1,
      "views": {
       "grid_default": {},
       "report_default": {
        "hidden": false
       }
      }
     }
    }
   },
   "source": [
    "### Raw downloads\n",
    "* Version 1: daily unique dataset downloads by remoteip\n",
    "* Version 2: first download of each dataset by remoteip"
   ]
  },
  {
   "cell_type": "markdown",
   "id": "b1a0256e",
   "metadata": {},
   "source": [
    "#### Version 1\n",
    "* Actively downloaded: downloaded 25 times or more\n",
    "* Moderately downloaded: downloaded 10 to 25 times\n",
    "* Lightly downloaded: downloaded less than 10 times"
   ]
  },
  {
   "cell_type": "markdown",
   "id": "b9fc3aae",
   "metadata": {
    "extensions": {
     "jupyter_dashboards": {
      "version": 1,
      "views": {
       "grid_default": {},
       "report_default": {
        "hidden": false
       }
      }
     }
    }
   },
   "source": [
    "##### Evaluate download groups"
   ]
  },
  {
   "cell_type": "code",
   "execution_count": 195,
   "id": "69338f21",
   "metadata": {
    "extensions": {
     "jupyter_dashboards": {
      "version": 1,
      "views": {
       "grid_default": {},
       "report_default": {
        "hidden": false
       }
      }
     }
    }
   },
   "outputs": [
    {
     "data": {
      "application/vnd.plotly.v1+json": {
       "config": {
        "plotlyServerURL": "https://plot.ly"
       },
       "data": [
        {
         "type": "histogram",
         "x": [
          70,
          66,
          61,
          56,
          53,
          48,
          42,
          37,
          36,
          35,
          33,
          30,
          29,
          28,
          28,
          27,
          27,
          26,
          26,
          26,
          25,
          24,
          24,
          22,
          22,
          21,
          21,
          20,
          20,
          20,
          19,
          19,
          18,
          17,
          17,
          17,
          17,
          17,
          17,
          16,
          16,
          15,
          15,
          15,
          15,
          14,
          14,
          14,
          14,
          14,
          14,
          13,
          13,
          13,
          13,
          13,
          13,
          13,
          13,
          13,
          13,
          13,
          13,
          13,
          13,
          12,
          12,
          12,
          12,
          12,
          12,
          12,
          12,
          12,
          11,
          11,
          11,
          10,
          10,
          10,
          10,
          10,
          10,
          10,
          10,
          9,
          9,
          9,
          9,
          9,
          9,
          8,
          8,
          8,
          8,
          8,
          8,
          8,
          8,
          8,
          8,
          8,
          7,
          7,
          7,
          7,
          7,
          7,
          7,
          7,
          7,
          7,
          7,
          7,
          7,
          7,
          7,
          7,
          7,
          7,
          7,
          7,
          7,
          7,
          7,
          7,
          7,
          7,
          7,
          6,
          6,
          6,
          6,
          6,
          6,
          6,
          6,
          6,
          6,
          6,
          6,
          6,
          6,
          6,
          5,
          5,
          5,
          4,
          3,
          3,
          3,
          2,
          2,
          2,
          2,
          2,
          2,
          2,
          2,
          1,
          1
         ]
        }
       ],
       "layout": {
        "showlegend": false,
        "template": {
         "data": {
          "bar": [
           {
            "error_x": {
             "color": "#2a3f5f"
            },
            "error_y": {
             "color": "#2a3f5f"
            },
            "marker": {
             "line": {
              "color": "#E5ECF6",
              "width": 0.5
             },
             "pattern": {
              "fillmode": "overlay",
              "size": 10,
              "solidity": 0.2
             }
            },
            "type": "bar"
           }
          ],
          "barpolar": [
           {
            "marker": {
             "line": {
              "color": "#E5ECF6",
              "width": 0.5
             },
             "pattern": {
              "fillmode": "overlay",
              "size": 10,
              "solidity": 0.2
             }
            },
            "type": "barpolar"
           }
          ],
          "carpet": [
           {
            "aaxis": {
             "endlinecolor": "#2a3f5f",
             "gridcolor": "white",
             "linecolor": "white",
             "minorgridcolor": "white",
             "startlinecolor": "#2a3f5f"
            },
            "baxis": {
             "endlinecolor": "#2a3f5f",
             "gridcolor": "white",
             "linecolor": "white",
             "minorgridcolor": "white",
             "startlinecolor": "#2a3f5f"
            },
            "type": "carpet"
           }
          ],
          "choropleth": [
           {
            "colorbar": {
             "outlinewidth": 0,
             "ticks": ""
            },
            "type": "choropleth"
           }
          ],
          "contour": [
           {
            "colorbar": {
             "outlinewidth": 0,
             "ticks": ""
            },
            "colorscale": [
             [
              0,
              "#0d0887"
             ],
             [
              0.1111111111111111,
              "#46039f"
             ],
             [
              0.2222222222222222,
              "#7201a8"
             ],
             [
              0.3333333333333333,
              "#9c179e"
             ],
             [
              0.4444444444444444,
              "#bd3786"
             ],
             [
              0.5555555555555556,
              "#d8576b"
             ],
             [
              0.6666666666666666,
              "#ed7953"
             ],
             [
              0.7777777777777778,
              "#fb9f3a"
             ],
             [
              0.8888888888888888,
              "#fdca26"
             ],
             [
              1,
              "#f0f921"
             ]
            ],
            "type": "contour"
           }
          ],
          "contourcarpet": [
           {
            "colorbar": {
             "outlinewidth": 0,
             "ticks": ""
            },
            "type": "contourcarpet"
           }
          ],
          "heatmap": [
           {
            "colorbar": {
             "outlinewidth": 0,
             "ticks": ""
            },
            "colorscale": [
             [
              0,
              "#0d0887"
             ],
             [
              0.1111111111111111,
              "#46039f"
             ],
             [
              0.2222222222222222,
              "#7201a8"
             ],
             [
              0.3333333333333333,
              "#9c179e"
             ],
             [
              0.4444444444444444,
              "#bd3786"
             ],
             [
              0.5555555555555556,
              "#d8576b"
             ],
             [
              0.6666666666666666,
              "#ed7953"
             ],
             [
              0.7777777777777778,
              "#fb9f3a"
             ],
             [
              0.8888888888888888,
              "#fdca26"
             ],
             [
              1,
              "#f0f921"
             ]
            ],
            "type": "heatmap"
           }
          ],
          "heatmapgl": [
           {
            "colorbar": {
             "outlinewidth": 0,
             "ticks": ""
            },
            "colorscale": [
             [
              0,
              "#0d0887"
             ],
             [
              0.1111111111111111,
              "#46039f"
             ],
             [
              0.2222222222222222,
              "#7201a8"
             ],
             [
              0.3333333333333333,
              "#9c179e"
             ],
             [
              0.4444444444444444,
              "#bd3786"
             ],
             [
              0.5555555555555556,
              "#d8576b"
             ],
             [
              0.6666666666666666,
              "#ed7953"
             ],
             [
              0.7777777777777778,
              "#fb9f3a"
             ],
             [
              0.8888888888888888,
              "#fdca26"
             ],
             [
              1,
              "#f0f921"
             ]
            ],
            "type": "heatmapgl"
           }
          ],
          "histogram": [
           {
            "marker": {
             "pattern": {
              "fillmode": "overlay",
              "size": 10,
              "solidity": 0.2
             }
            },
            "type": "histogram"
           }
          ],
          "histogram2d": [
           {
            "colorbar": {
             "outlinewidth": 0,
             "ticks": ""
            },
            "colorscale": [
             [
              0,
              "#0d0887"
             ],
             [
              0.1111111111111111,
              "#46039f"
             ],
             [
              0.2222222222222222,
              "#7201a8"
             ],
             [
              0.3333333333333333,
              "#9c179e"
             ],
             [
              0.4444444444444444,
              "#bd3786"
             ],
             [
              0.5555555555555556,
              "#d8576b"
             ],
             [
              0.6666666666666666,
              "#ed7953"
             ],
             [
              0.7777777777777778,
              "#fb9f3a"
             ],
             [
              0.8888888888888888,
              "#fdca26"
             ],
             [
              1,
              "#f0f921"
             ]
            ],
            "type": "histogram2d"
           }
          ],
          "histogram2dcontour": [
           {
            "colorbar": {
             "outlinewidth": 0,
             "ticks": ""
            },
            "colorscale": [
             [
              0,
              "#0d0887"
             ],
             [
              0.1111111111111111,
              "#46039f"
             ],
             [
              0.2222222222222222,
              "#7201a8"
             ],
             [
              0.3333333333333333,
              "#9c179e"
             ],
             [
              0.4444444444444444,
              "#bd3786"
             ],
             [
              0.5555555555555556,
              "#d8576b"
             ],
             [
              0.6666666666666666,
              "#ed7953"
             ],
             [
              0.7777777777777778,
              "#fb9f3a"
             ],
             [
              0.8888888888888888,
              "#fdca26"
             ],
             [
              1,
              "#f0f921"
             ]
            ],
            "type": "histogram2dcontour"
           }
          ],
          "mesh3d": [
           {
            "colorbar": {
             "outlinewidth": 0,
             "ticks": ""
            },
            "type": "mesh3d"
           }
          ],
          "parcoords": [
           {
            "line": {
             "colorbar": {
              "outlinewidth": 0,
              "ticks": ""
             }
            },
            "type": "parcoords"
           }
          ],
          "pie": [
           {
            "automargin": true,
            "type": "pie"
           }
          ],
          "scatter": [
           {
            "marker": {
             "colorbar": {
              "outlinewidth": 0,
              "ticks": ""
             }
            },
            "type": "scatter"
           }
          ],
          "scatter3d": [
           {
            "line": {
             "colorbar": {
              "outlinewidth": 0,
              "ticks": ""
             }
            },
            "marker": {
             "colorbar": {
              "outlinewidth": 0,
              "ticks": ""
             }
            },
            "type": "scatter3d"
           }
          ],
          "scattercarpet": [
           {
            "marker": {
             "colorbar": {
              "outlinewidth": 0,
              "ticks": ""
             }
            },
            "type": "scattercarpet"
           }
          ],
          "scattergeo": [
           {
            "marker": {
             "colorbar": {
              "outlinewidth": 0,
              "ticks": ""
             }
            },
            "type": "scattergeo"
           }
          ],
          "scattergl": [
           {
            "marker": {
             "colorbar": {
              "outlinewidth": 0,
              "ticks": ""
             }
            },
            "type": "scattergl"
           }
          ],
          "scattermapbox": [
           {
            "marker": {
             "colorbar": {
              "outlinewidth": 0,
              "ticks": ""
             }
            },
            "type": "scattermapbox"
           }
          ],
          "scatterpolar": [
           {
            "marker": {
             "colorbar": {
              "outlinewidth": 0,
              "ticks": ""
             }
            },
            "type": "scatterpolar"
           }
          ],
          "scatterpolargl": [
           {
            "marker": {
             "colorbar": {
              "outlinewidth": 0,
              "ticks": ""
             }
            },
            "type": "scatterpolargl"
           }
          ],
          "scatterternary": [
           {
            "marker": {
             "colorbar": {
              "outlinewidth": 0,
              "ticks": ""
             }
            },
            "type": "scatterternary"
           }
          ],
          "surface": [
           {
            "colorbar": {
             "outlinewidth": 0,
             "ticks": ""
            },
            "colorscale": [
             [
              0,
              "#0d0887"
             ],
             [
              0.1111111111111111,
              "#46039f"
             ],
             [
              0.2222222222222222,
              "#7201a8"
             ],
             [
              0.3333333333333333,
              "#9c179e"
             ],
             [
              0.4444444444444444,
              "#bd3786"
             ],
             [
              0.5555555555555556,
              "#d8576b"
             ],
             [
              0.6666666666666666,
              "#ed7953"
             ],
             [
              0.7777777777777778,
              "#fb9f3a"
             ],
             [
              0.8888888888888888,
              "#fdca26"
             ],
             [
              1,
              "#f0f921"
             ]
            ],
            "type": "surface"
           }
          ],
          "table": [
           {
            "cells": {
             "fill": {
              "color": "#EBF0F8"
             },
             "line": {
              "color": "white"
             }
            },
            "header": {
             "fill": {
              "color": "#C8D4E3"
             },
             "line": {
              "color": "white"
             }
            },
            "type": "table"
           }
          ]
         },
         "layout": {
          "annotationdefaults": {
           "arrowcolor": "#2a3f5f",
           "arrowhead": 0,
           "arrowwidth": 1
          },
          "autotypenumbers": "strict",
          "coloraxis": {
           "colorbar": {
            "outlinewidth": 0,
            "ticks": ""
           }
          },
          "colorscale": {
           "diverging": [
            [
             0,
             "#8e0152"
            ],
            [
             0.1,
             "#c51b7d"
            ],
            [
             0.2,
             "#de77ae"
            ],
            [
             0.3,
             "#f1b6da"
            ],
            [
             0.4,
             "#fde0ef"
            ],
            [
             0.5,
             "#f7f7f7"
            ],
            [
             0.6,
             "#e6f5d0"
            ],
            [
             0.7,
             "#b8e186"
            ],
            [
             0.8,
             "#7fbc41"
            ],
            [
             0.9,
             "#4d9221"
            ],
            [
             1,
             "#276419"
            ]
           ],
           "sequential": [
            [
             0,
             "#0d0887"
            ],
            [
             0.1111111111111111,
             "#46039f"
            ],
            [
             0.2222222222222222,
             "#7201a8"
            ],
            [
             0.3333333333333333,
             "#9c179e"
            ],
            [
             0.4444444444444444,
             "#bd3786"
            ],
            [
             0.5555555555555556,
             "#d8576b"
            ],
            [
             0.6666666666666666,
             "#ed7953"
            ],
            [
             0.7777777777777778,
             "#fb9f3a"
            ],
            [
             0.8888888888888888,
             "#fdca26"
            ],
            [
             1,
             "#f0f921"
            ]
           ],
           "sequentialminus": [
            [
             0,
             "#0d0887"
            ],
            [
             0.1111111111111111,
             "#46039f"
            ],
            [
             0.2222222222222222,
             "#7201a8"
            ],
            [
             0.3333333333333333,
             "#9c179e"
            ],
            [
             0.4444444444444444,
             "#bd3786"
            ],
            [
             0.5555555555555556,
             "#d8576b"
            ],
            [
             0.6666666666666666,
             "#ed7953"
            ],
            [
             0.7777777777777778,
             "#fb9f3a"
            ],
            [
             0.8888888888888888,
             "#fdca26"
            ],
            [
             1,
             "#f0f921"
            ]
           ]
          },
          "colorway": [
           "#636efa",
           "#EF553B",
           "#00cc96",
           "#ab63fa",
           "#FFA15A",
           "#19d3f3",
           "#FF6692",
           "#B6E880",
           "#FF97FF",
           "#FECB52"
          ],
          "font": {
           "color": "#2a3f5f"
          },
          "geo": {
           "bgcolor": "white",
           "lakecolor": "white",
           "landcolor": "#E5ECF6",
           "showlakes": true,
           "showland": true,
           "subunitcolor": "white"
          },
          "hoverlabel": {
           "align": "left"
          },
          "hovermode": "closest",
          "mapbox": {
           "style": "light"
          },
          "paper_bgcolor": "white",
          "plot_bgcolor": "#E5ECF6",
          "polar": {
           "angularaxis": {
            "gridcolor": "white",
            "linecolor": "white",
            "ticks": ""
           },
           "bgcolor": "#E5ECF6",
           "radialaxis": {
            "gridcolor": "white",
            "linecolor": "white",
            "ticks": ""
           }
          },
          "scene": {
           "xaxis": {
            "backgroundcolor": "#E5ECF6",
            "gridcolor": "white",
            "gridwidth": 2,
            "linecolor": "white",
            "showbackground": true,
            "ticks": "",
            "zerolinecolor": "white"
           },
           "yaxis": {
            "backgroundcolor": "#E5ECF6",
            "gridcolor": "white",
            "gridwidth": 2,
            "linecolor": "white",
            "showbackground": true,
            "ticks": "",
            "zerolinecolor": "white"
           },
           "zaxis": {
            "backgroundcolor": "#E5ECF6",
            "gridcolor": "white",
            "gridwidth": 2,
            "linecolor": "white",
            "showbackground": true,
            "ticks": "",
            "zerolinecolor": "white"
           }
          },
          "shapedefaults": {
           "line": {
            "color": "#2a3f5f"
           }
          },
          "ternary": {
           "aaxis": {
            "gridcolor": "white",
            "linecolor": "white",
            "ticks": ""
           },
           "baxis": {
            "gridcolor": "white",
            "linecolor": "white",
            "ticks": ""
           },
           "bgcolor": "#E5ECF6",
           "caxis": {
            "gridcolor": "white",
            "linecolor": "white",
            "ticks": ""
           }
          },
          "title": {
           "x": 0.05
          },
          "xaxis": {
           "automargin": true,
           "gridcolor": "white",
           "linecolor": "white",
           "ticks": "",
           "title": {
            "standoff": 15
           },
           "zerolinecolor": "white",
           "zerolinewidth": 2
          },
          "yaxis": {
           "automargin": true,
           "gridcolor": "white",
           "linecolor": "white",
           "ticks": "",
           "title": {
            "standoff": 15
           },
           "zerolinecolor": "white",
           "zerolinewidth": 2
          }
         }
        },
        "xaxis": {
         "title": {
          "text": "number of downloads"
         }
        },
        "yaxis": {
         "title": {
          "text": "raw downloads"
         }
        }
       }
      },
      "text/html": [
       "<div>                            <div id=\"b45e3f48-04ee-4ebd-aaa8-791bb2fb1a54\" class=\"plotly-graph-div\" style=\"height:525px; width:100%;\"></div>            <script type=\"text/javascript\">                require([\"plotly\"], function(Plotly) {                    window.PLOTLYENV=window.PLOTLYENV || {};                                    if (document.getElementById(\"b45e3f48-04ee-4ebd-aaa8-791bb2fb1a54\")) {                    Plotly.newPlot(                        \"b45e3f48-04ee-4ebd-aaa8-791bb2fb1a54\",                        [{\"type\":\"histogram\",\"x\":[70,66,61,56,53,48,42,37,36,35,33,30,29,28,28,27,27,26,26,26,25,24,24,22,22,21,21,20,20,20,19,19,18,17,17,17,17,17,17,16,16,15,15,15,15,14,14,14,14,14,14,13,13,13,13,13,13,13,13,13,13,13,13,13,13,12,12,12,12,12,12,12,12,12,11,11,11,10,10,10,10,10,10,10,10,9,9,9,9,9,9,8,8,8,8,8,8,8,8,8,8,8,7,7,7,7,7,7,7,7,7,7,7,7,7,7,7,7,7,7,7,7,7,7,7,7,7,7,7,6,6,6,6,6,6,6,6,6,6,6,6,6,6,6,5,5,5,4,3,3,3,2,2,2,2,2,2,2,2,1,1]}],                        {\"showlegend\":false,\"template\":{\"data\":{\"bar\":[{\"error_x\":{\"color\":\"#2a3f5f\"},\"error_y\":{\"color\":\"#2a3f5f\"},\"marker\":{\"line\":{\"color\":\"#E5ECF6\",\"width\":0.5},\"pattern\":{\"fillmode\":\"overlay\",\"size\":10,\"solidity\":0.2}},\"type\":\"bar\"}],\"barpolar\":[{\"marker\":{\"line\":{\"color\":\"#E5ECF6\",\"width\":0.5},\"pattern\":{\"fillmode\":\"overlay\",\"size\":10,\"solidity\":0.2}},\"type\":\"barpolar\"}],\"carpet\":[{\"aaxis\":{\"endlinecolor\":\"#2a3f5f\",\"gridcolor\":\"white\",\"linecolor\":\"white\",\"minorgridcolor\":\"white\",\"startlinecolor\":\"#2a3f5f\"},\"baxis\":{\"endlinecolor\":\"#2a3f5f\",\"gridcolor\":\"white\",\"linecolor\":\"white\",\"minorgridcolor\":\"white\",\"startlinecolor\":\"#2a3f5f\"},\"type\":\"carpet\"}],\"choropleth\":[{\"colorbar\":{\"outlinewidth\":0,\"ticks\":\"\"},\"type\":\"choropleth\"}],\"contour\":[{\"colorbar\":{\"outlinewidth\":0,\"ticks\":\"\"},\"colorscale\":[[0.0,\"#0d0887\"],[0.1111111111111111,\"#46039f\"],[0.2222222222222222,\"#7201a8\"],[0.3333333333333333,\"#9c179e\"],[0.4444444444444444,\"#bd3786\"],[0.5555555555555556,\"#d8576b\"],[0.6666666666666666,\"#ed7953\"],[0.7777777777777778,\"#fb9f3a\"],[0.8888888888888888,\"#fdca26\"],[1.0,\"#f0f921\"]],\"type\":\"contour\"}],\"contourcarpet\":[{\"colorbar\":{\"outlinewidth\":0,\"ticks\":\"\"},\"type\":\"contourcarpet\"}],\"heatmap\":[{\"colorbar\":{\"outlinewidth\":0,\"ticks\":\"\"},\"colorscale\":[[0.0,\"#0d0887\"],[0.1111111111111111,\"#46039f\"],[0.2222222222222222,\"#7201a8\"],[0.3333333333333333,\"#9c179e\"],[0.4444444444444444,\"#bd3786\"],[0.5555555555555556,\"#d8576b\"],[0.6666666666666666,\"#ed7953\"],[0.7777777777777778,\"#fb9f3a\"],[0.8888888888888888,\"#fdca26\"],[1.0,\"#f0f921\"]],\"type\":\"heatmap\"}],\"heatmapgl\":[{\"colorbar\":{\"outlinewidth\":0,\"ticks\":\"\"},\"colorscale\":[[0.0,\"#0d0887\"],[0.1111111111111111,\"#46039f\"],[0.2222222222222222,\"#7201a8\"],[0.3333333333333333,\"#9c179e\"],[0.4444444444444444,\"#bd3786\"],[0.5555555555555556,\"#d8576b\"],[0.6666666666666666,\"#ed7953\"],[0.7777777777777778,\"#fb9f3a\"],[0.8888888888888888,\"#fdca26\"],[1.0,\"#f0f921\"]],\"type\":\"heatmapgl\"}],\"histogram\":[{\"marker\":{\"pattern\":{\"fillmode\":\"overlay\",\"size\":10,\"solidity\":0.2}},\"type\":\"histogram\"}],\"histogram2d\":[{\"colorbar\":{\"outlinewidth\":0,\"ticks\":\"\"},\"colorscale\":[[0.0,\"#0d0887\"],[0.1111111111111111,\"#46039f\"],[0.2222222222222222,\"#7201a8\"],[0.3333333333333333,\"#9c179e\"],[0.4444444444444444,\"#bd3786\"],[0.5555555555555556,\"#d8576b\"],[0.6666666666666666,\"#ed7953\"],[0.7777777777777778,\"#fb9f3a\"],[0.8888888888888888,\"#fdca26\"],[1.0,\"#f0f921\"]],\"type\":\"histogram2d\"}],\"histogram2dcontour\":[{\"colorbar\":{\"outlinewidth\":0,\"ticks\":\"\"},\"colorscale\":[[0.0,\"#0d0887\"],[0.1111111111111111,\"#46039f\"],[0.2222222222222222,\"#7201a8\"],[0.3333333333333333,\"#9c179e\"],[0.4444444444444444,\"#bd3786\"],[0.5555555555555556,\"#d8576b\"],[0.6666666666666666,\"#ed7953\"],[0.7777777777777778,\"#fb9f3a\"],[0.8888888888888888,\"#fdca26\"],[1.0,\"#f0f921\"]],\"type\":\"histogram2dcontour\"}],\"mesh3d\":[{\"colorbar\":{\"outlinewidth\":0,\"ticks\":\"\"},\"type\":\"mesh3d\"}],\"parcoords\":[{\"line\":{\"colorbar\":{\"outlinewidth\":0,\"ticks\":\"\"}},\"type\":\"parcoords\"}],\"pie\":[{\"automargin\":true,\"type\":\"pie\"}],\"scatter\":[{\"marker\":{\"colorbar\":{\"outlinewidth\":0,\"ticks\":\"\"}},\"type\":\"scatter\"}],\"scatter3d\":[{\"line\":{\"colorbar\":{\"outlinewidth\":0,\"ticks\":\"\"}},\"marker\":{\"colorbar\":{\"outlinewidth\":0,\"ticks\":\"\"}},\"type\":\"scatter3d\"}],\"scattercarpet\":[{\"marker\":{\"colorbar\":{\"outlinewidth\":0,\"ticks\":\"\"}},\"type\":\"scattercarpet\"}],\"scattergeo\":[{\"marker\":{\"colorbar\":{\"outlinewidth\":0,\"ticks\":\"\"}},\"type\":\"scattergeo\"}],\"scattergl\":[{\"marker\":{\"colorbar\":{\"outlinewidth\":0,\"ticks\":\"\"}},\"type\":\"scattergl\"}],\"scattermapbox\":[{\"marker\":{\"colorbar\":{\"outlinewidth\":0,\"ticks\":\"\"}},\"type\":\"scattermapbox\"}],\"scatterpolar\":[{\"marker\":{\"colorbar\":{\"outlinewidth\":0,\"ticks\":\"\"}},\"type\":\"scatterpolar\"}],\"scatterpolargl\":[{\"marker\":{\"colorbar\":{\"outlinewidth\":0,\"ticks\":\"\"}},\"type\":\"scatterpolargl\"}],\"scatterternary\":[{\"marker\":{\"colorbar\":{\"outlinewidth\":0,\"ticks\":\"\"}},\"type\":\"scatterternary\"}],\"surface\":[{\"colorbar\":{\"outlinewidth\":0,\"ticks\":\"\"},\"colorscale\":[[0.0,\"#0d0887\"],[0.1111111111111111,\"#46039f\"],[0.2222222222222222,\"#7201a8\"],[0.3333333333333333,\"#9c179e\"],[0.4444444444444444,\"#bd3786\"],[0.5555555555555556,\"#d8576b\"],[0.6666666666666666,\"#ed7953\"],[0.7777777777777778,\"#fb9f3a\"],[0.8888888888888888,\"#fdca26\"],[1.0,\"#f0f921\"]],\"type\":\"surface\"}],\"table\":[{\"cells\":{\"fill\":{\"color\":\"#EBF0F8\"},\"line\":{\"color\":\"white\"}},\"header\":{\"fill\":{\"color\":\"#C8D4E3\"},\"line\":{\"color\":\"white\"}},\"type\":\"table\"}]},\"layout\":{\"annotationdefaults\":{\"arrowcolor\":\"#2a3f5f\",\"arrowhead\":0,\"arrowwidth\":1},\"autotypenumbers\":\"strict\",\"coloraxis\":{\"colorbar\":{\"outlinewidth\":0,\"ticks\":\"\"}},\"colorscale\":{\"diverging\":[[0,\"#8e0152\"],[0.1,\"#c51b7d\"],[0.2,\"#de77ae\"],[0.3,\"#f1b6da\"],[0.4,\"#fde0ef\"],[0.5,\"#f7f7f7\"],[0.6,\"#e6f5d0\"],[0.7,\"#b8e186\"],[0.8,\"#7fbc41\"],[0.9,\"#4d9221\"],[1,\"#276419\"]],\"sequential\":[[0.0,\"#0d0887\"],[0.1111111111111111,\"#46039f\"],[0.2222222222222222,\"#7201a8\"],[0.3333333333333333,\"#9c179e\"],[0.4444444444444444,\"#bd3786\"],[0.5555555555555556,\"#d8576b\"],[0.6666666666666666,\"#ed7953\"],[0.7777777777777778,\"#fb9f3a\"],[0.8888888888888888,\"#fdca26\"],[1.0,\"#f0f921\"]],\"sequentialminus\":[[0.0,\"#0d0887\"],[0.1111111111111111,\"#46039f\"],[0.2222222222222222,\"#7201a8\"],[0.3333333333333333,\"#9c179e\"],[0.4444444444444444,\"#bd3786\"],[0.5555555555555556,\"#d8576b\"],[0.6666666666666666,\"#ed7953\"],[0.7777777777777778,\"#fb9f3a\"],[0.8888888888888888,\"#fdca26\"],[1.0,\"#f0f921\"]]},\"colorway\":[\"#636efa\",\"#EF553B\",\"#00cc96\",\"#ab63fa\",\"#FFA15A\",\"#19d3f3\",\"#FF6692\",\"#B6E880\",\"#FF97FF\",\"#FECB52\"],\"font\":{\"color\":\"#2a3f5f\"},\"geo\":{\"bgcolor\":\"white\",\"lakecolor\":\"white\",\"landcolor\":\"#E5ECF6\",\"showlakes\":true,\"showland\":true,\"subunitcolor\":\"white\"},\"hoverlabel\":{\"align\":\"left\"},\"hovermode\":\"closest\",\"mapbox\":{\"style\":\"light\"},\"paper_bgcolor\":\"white\",\"plot_bgcolor\":\"#E5ECF6\",\"polar\":{\"angularaxis\":{\"gridcolor\":\"white\",\"linecolor\":\"white\",\"ticks\":\"\"},\"bgcolor\":\"#E5ECF6\",\"radialaxis\":{\"gridcolor\":\"white\",\"linecolor\":\"white\",\"ticks\":\"\"}},\"scene\":{\"xaxis\":{\"backgroundcolor\":\"#E5ECF6\",\"gridcolor\":\"white\",\"gridwidth\":2,\"linecolor\":\"white\",\"showbackground\":true,\"ticks\":\"\",\"zerolinecolor\":\"white\"},\"yaxis\":{\"backgroundcolor\":\"#E5ECF6\",\"gridcolor\":\"white\",\"gridwidth\":2,\"linecolor\":\"white\",\"showbackground\":true,\"ticks\":\"\",\"zerolinecolor\":\"white\"},\"zaxis\":{\"backgroundcolor\":\"#E5ECF6\",\"gridcolor\":\"white\",\"gridwidth\":2,\"linecolor\":\"white\",\"showbackground\":true,\"ticks\":\"\",\"zerolinecolor\":\"white\"}},\"shapedefaults\":{\"line\":{\"color\":\"#2a3f5f\"}},\"ternary\":{\"aaxis\":{\"gridcolor\":\"white\",\"linecolor\":\"white\",\"ticks\":\"\"},\"baxis\":{\"gridcolor\":\"white\",\"linecolor\":\"white\",\"ticks\":\"\"},\"bgcolor\":\"#E5ECF6\",\"caxis\":{\"gridcolor\":\"white\",\"linecolor\":\"white\",\"ticks\":\"\"}},\"title\":{\"x\":0.05},\"xaxis\":{\"automargin\":true,\"gridcolor\":\"white\",\"linecolor\":\"white\",\"ticks\":\"\",\"title\":{\"standoff\":15},\"zerolinecolor\":\"white\",\"zerolinewidth\":2},\"yaxis\":{\"automargin\":true,\"gridcolor\":\"white\",\"linecolor\":\"white\",\"ticks\":\"\",\"title\":{\"standoff\":15},\"zerolinecolor\":\"white\",\"zerolinewidth\":2}}},\"xaxis\":{\"title\":{\"text\":\"number of downloads\"}},\"yaxis\":{\"title\":{\"text\":\"raw downloads\"}}},                        {\"responsive\": true}                    ).then(function(){\n",
       "                            \n",
       "var gd = document.getElementById('b45e3f48-04ee-4ebd-aaa8-791bb2fb1a54');\n",
       "var x = new MutationObserver(function (mutations, observer) {{\n",
       "        var display = window.getComputedStyle(gd).display;\n",
       "        if (!display || display === 'none') {{\n",
       "            console.log([gd, 'removed!']);\n",
       "            Plotly.purge(gd);\n",
       "            observer.disconnect();\n",
       "        }}\n",
       "}});\n",
       "\n",
       "// Listen for the removal of the full notebook cells\n",
       "var notebookContainer = gd.closest('#notebook-container');\n",
       "if (notebookContainer) {{\n",
       "    x.observe(notebookContainer, {childList: true});\n",
       "}}\n",
       "\n",
       "// Listen for the clearing of the current output cell\n",
       "var outputEl = gd.closest('.output');\n",
       "if (outputEl) {{\n",
       "    x.observe(outputEl, {childList: true});\n",
       "}}\n",
       "\n",
       "                        })                };                });            </script>        </div>"
      ]
     },
     "metadata": {},
     "output_type": "display_data"
    }
   ],
   "source": [
    "# evaluate how to define download groups \n",
    "x = top_ds_raw['raw downloads'].tolist()\n",
    "fig = go.Figure(data=[go.Histogram(x=x)])\n",
    "fig.update_layout(\n",
    "        xaxis_title=\"number of downloads\",\n",
    "        yaxis_title=\"raw downloads\",\n",
    "        showlegend = False\n",
    "    )\n",
    "fig.show()"
   ]
  },
  {
   "cell_type": "markdown",
   "id": "6db38799",
   "metadata": {
    "extensions": {
     "jupyter_dashboards": {
      "version": 1,
      "views": {
       "grid_default": {},
       "report_default": {
        "hidden": false
       }
      }
     }
    }
   },
   "source": [
    "##### Actively downloaded"
   ]
  },
  {
   "cell_type": "code",
   "execution_count": 196,
   "id": "26a1fe26",
   "metadata": {
    "extensions": {
     "jupyter_dashboards": {
      "version": 1,
      "views": {
       "grid_default": {},
       "report_default": {
        "hidden": false
       }
      }
     }
    }
   },
   "outputs": [
    {
     "data": {
      "application/vnd.plotly.v1+json": {
       "config": {
        "plotlyServerURL": "https://plot.ly"
       },
       "data": [
        {
         "hovertemplate": "<i>Date</i>: %{x}<br>Downloads</i>: %{y}<br><br>%{text}</i>",
         "mode": "lines+markers",
         "text": [
          "Azimuth meta-analysis of 10 datasets of healthy and diseased human lung",
          "Azimuth meta-analysis of 10 datasets of healthy and diseased human lung",
          "Azimuth meta-analysis of 10 datasets of healthy and diseased human lung",
          "Azimuth meta-analysis of 10 datasets of healthy and diseased human lung",
          "Azimuth meta-analysis of 10 datasets of healthy and diseased human lung",
          "Azimuth meta-analysis of 10 datasets of healthy and diseased human lung",
          "Azimuth meta-analysis of 10 datasets of healthy and diseased human lung",
          "Azimuth meta-analysis of 10 datasets of healthy and diseased human lung",
          "Azimuth meta-analysis of 10 datasets of healthy and diseased human lung",
          "Azimuth meta-analysis of 10 datasets of healthy and diseased human lung",
          "Azimuth meta-analysis of 10 datasets of healthy and diseased human lung",
          "Azimuth meta-analysis of 10 datasets of healthy and diseased human lung",
          "Azimuth meta-analysis of 10 datasets of healthy and diseased human lung",
          "Azimuth meta-analysis of 10 datasets of healthy and diseased human lung",
          "Azimuth meta-analysis of 10 datasets of healthy and diseased human lung",
          "Azimuth meta-analysis of 10 datasets of healthy and diseased human lung",
          "Azimuth meta-analysis of 10 datasets of healthy and diseased human lung",
          "Azimuth meta-analysis of 10 datasets of healthy and diseased human lung",
          "Azimuth meta-analysis of 10 datasets of healthy and diseased human lung",
          "Azimuth meta-analysis of 10 datasets of healthy and diseased human lung",
          "Azimuth meta-analysis of 10 datasets of healthy and diseased human lung",
          "Azimuth meta-analysis of 10 datasets of healthy and diseased human lung",
          "Azimuth meta-analysis of 10 datasets of healthy and diseased human lung",
          "Azimuth meta-analysis of 10 datasets of healthy and diseased human lung",
          "Azimuth meta-analysis of 10 datasets of healthy and diseased human lung",
          "Azimuth meta-analysis of 10 datasets of healthy and diseased human lung",
          "Azimuth meta-analysis of 10 datasets of healthy and diseased human lung",
          "Azimuth meta-analysis of 10 datasets of healthy and diseased human lung",
          "Azimuth meta-analysis of 10 datasets of healthy and diseased human lung",
          "Azimuth meta-analysis of 10 datasets of healthy and diseased human lung",
          "Azimuth meta-analysis of 10 datasets of healthy and diseased human lung",
          "Azimuth meta-analysis of 10 datasets of healthy and diseased human lung",
          "Azimuth meta-analysis of 10 datasets of healthy and diseased human lung",
          "Azimuth meta-analysis of 10 datasets of healthy and diseased human lung",
          "Azimuth meta-analysis of 10 datasets of healthy and diseased human lung",
          "Azimuth meta-analysis of 10 datasets of healthy and diseased human lung",
          "Azimuth meta-analysis of 10 datasets of healthy and diseased human lung"
         ],
         "type": "scatter",
         "x": [
          "2021-06-14",
          "2021-06-15",
          "2021-06-16",
          "2021-06-17",
          "2021-06-18",
          "2021-06-19",
          "2021-06-21",
          "2021-06-22",
          "2021-06-24",
          "2021-06-26",
          "2021-06-28",
          "2021-06-29",
          "2021-07-01",
          "2021-07-02",
          "2021-07-07",
          "2021-07-08",
          "2021-07-09",
          "2021-07-11",
          "2021-07-14",
          "2021-07-15",
          "2021-07-17",
          "2021-07-19",
          "2021-07-20",
          "2021-07-23",
          "2021-07-30",
          "2021-07-31",
          "2021-08-01",
          "2021-08-02",
          "2021-08-03",
          "2021-08-04",
          "2021-08-10",
          "2021-08-11",
          "2021-08-12",
          "2021-08-18",
          "2021-08-21",
          "2021-08-22",
          "2021-08-23"
         ],
         "y": [
          3,
          6,
          10,
          12,
          14,
          15,
          17,
          18,
          20,
          21,
          23,
          27,
          28,
          30,
          32,
          34,
          37,
          38,
          41,
          43,
          44,
          47,
          51,
          52,
          55,
          56,
          57,
          58,
          61,
          62,
          63,
          64,
          65,
          67,
          68,
          69,
          70
         ]
        },
        {
         "hovertemplate": "<i>Date</i>: %{x}<br>Downloads</i>: %{y}<br><br>%{text}</i>",
         "mode": "lines+markers",
         "text": [
          "Single cell transcriptome analysis of human pancreas reveals transcriptional signatures of aging and somatic mutation patterns",
          "Single cell transcriptome analysis of human pancreas reveals transcriptional signatures of aging and somatic mutation patterns",
          "Single cell transcriptome analysis of human pancreas reveals transcriptional signatures of aging and somatic mutation patterns",
          "Single cell transcriptome analysis of human pancreas reveals transcriptional signatures of aging and somatic mutation patterns",
          "Single cell transcriptome analysis of human pancreas reveals transcriptional signatures of aging and somatic mutation patterns",
          "Single cell transcriptome analysis of human pancreas reveals transcriptional signatures of aging and somatic mutation patterns",
          "Single cell transcriptome analysis of human pancreas reveals transcriptional signatures of aging and somatic mutation patterns",
          "Single cell transcriptome analysis of human pancreas reveals transcriptional signatures of aging and somatic mutation patterns",
          "Single cell transcriptome analysis of human pancreas reveals transcriptional signatures of aging and somatic mutation patterns",
          "Single cell transcriptome analysis of human pancreas reveals transcriptional signatures of aging and somatic mutation patterns",
          "Single cell transcriptome analysis of human pancreas reveals transcriptional signatures of aging and somatic mutation patterns",
          "Single cell transcriptome analysis of human pancreas reveals transcriptional signatures of aging and somatic mutation patterns",
          "Single cell transcriptome analysis of human pancreas reveals transcriptional signatures of aging and somatic mutation patterns",
          "Single cell transcriptome analysis of human pancreas reveals transcriptional signatures of aging and somatic mutation patterns",
          "Single cell transcriptome analysis of human pancreas reveals transcriptional signatures of aging and somatic mutation patterns",
          "Single cell transcriptome analysis of human pancreas reveals transcriptional signatures of aging and somatic mutation patterns",
          "Single cell transcriptome analysis of human pancreas reveals transcriptional signatures of aging and somatic mutation patterns",
          "Single cell transcriptome analysis of human pancreas reveals transcriptional signatures of aging and somatic mutation patterns",
          "Single cell transcriptome analysis of human pancreas reveals transcriptional signatures of aging and somatic mutation patterns",
          "Single cell transcriptome analysis of human pancreas reveals transcriptional signatures of aging and somatic mutation patterns",
          "Single cell transcriptome analysis of human pancreas reveals transcriptional signatures of aging and somatic mutation patterns",
          "Single cell transcriptome analysis of human pancreas reveals transcriptional signatures of aging and somatic mutation patterns",
          "Single cell transcriptome analysis of human pancreas reveals transcriptional signatures of aging and somatic mutation patterns",
          "Single cell transcriptome analysis of human pancreas reveals transcriptional signatures of aging and somatic mutation patterns",
          "Single cell transcriptome analysis of human pancreas reveals transcriptional signatures of aging and somatic mutation patterns",
          "Single cell transcriptome analysis of human pancreas reveals transcriptional signatures of aging and somatic mutation patterns",
          "Single cell transcriptome analysis of human pancreas reveals transcriptional signatures of aging and somatic mutation patterns",
          "Single cell transcriptome analysis of human pancreas reveals transcriptional signatures of aging and somatic mutation patterns",
          "Single cell transcriptome analysis of human pancreas reveals transcriptional signatures of aging and somatic mutation patterns",
          "Single cell transcriptome analysis of human pancreas reveals transcriptional signatures of aging and somatic mutation patterns",
          "Single cell transcriptome analysis of human pancreas reveals transcriptional signatures of aging and somatic mutation patterns",
          "Single cell transcriptome analysis of human pancreas reveals transcriptional signatures of aging and somatic mutation patterns",
          "Single cell transcriptome analysis of human pancreas reveals transcriptional signatures of aging and somatic mutation patterns",
          "Single cell transcriptome analysis of human pancreas reveals transcriptional signatures of aging and somatic mutation patterns",
          "Single cell transcriptome analysis of human pancreas reveals transcriptional signatures of aging and somatic mutation patterns",
          "Single cell transcriptome analysis of human pancreas reveals transcriptional signatures of aging and somatic mutation patterns",
          "Single cell transcriptome analysis of human pancreas reveals transcriptional signatures of aging and somatic mutation patterns",
          "Single cell transcriptome analysis of human pancreas reveals transcriptional signatures of aging and somatic mutation patterns",
          "Single cell transcriptome analysis of human pancreas reveals transcriptional signatures of aging and somatic mutation patterns",
          "Single cell transcriptome analysis of human pancreas reveals transcriptional signatures of aging and somatic mutation patterns"
         ],
         "type": "scatter",
         "x": [
          "2021-05-20",
          "2021-05-23",
          "2021-05-24",
          "2021-05-25",
          "2021-05-26",
          "2021-05-27",
          "2021-05-28",
          "2021-05-29",
          "2021-05-30",
          "2021-05-31",
          "2021-06-04",
          "2021-06-05",
          "2021-06-06",
          "2021-06-08",
          "2021-06-09",
          "2021-06-10",
          "2021-06-15",
          "2021-06-17",
          "2021-06-19",
          "2021-06-20",
          "2021-06-21",
          "2021-06-28",
          "2021-07-07",
          "2021-07-08",
          "2021-07-09",
          "2021-07-12",
          "2021-07-13",
          "2021-07-14",
          "2021-07-16",
          "2021-07-17",
          "2021-07-19",
          "2021-07-20",
          "2021-07-21",
          "2021-07-23",
          "2021-07-28",
          "2021-07-30",
          "2021-07-31",
          "2021-08-03",
          "2021-08-05",
          "2021-08-19"
         ],
         "y": [
          2,
          3,
          4,
          5,
          12,
          17,
          22,
          23,
          24,
          25,
          27,
          29,
          30,
          31,
          32,
          33,
          34,
          35,
          37,
          38,
          40,
          41,
          44,
          45,
          48,
          49,
          50,
          52,
          53,
          54,
          55,
          56,
          57,
          58,
          60,
          61,
          63,
          64,
          65,
          66
         ]
        },
        {
         "hovertemplate": "<i>Date</i>: %{x}<br>Downloads</i>: %{y}<br><br>%{text}</i>",
         "mode": "lines+markers",
         "text": [
          "Single cell transcriptional and chromatin accessibility profiling redefine cellular heterogeneity in the adult human kidney - RNAseq",
          "Single cell transcriptional and chromatin accessibility profiling redefine cellular heterogeneity in the adult human kidney - RNAseq",
          "Single cell transcriptional and chromatin accessibility profiling redefine cellular heterogeneity in the adult human kidney - RNAseq",
          "Single cell transcriptional and chromatin accessibility profiling redefine cellular heterogeneity in the adult human kidney - RNAseq",
          "Single cell transcriptional and chromatin accessibility profiling redefine cellular heterogeneity in the adult human kidney - RNAseq",
          "Single cell transcriptional and chromatin accessibility profiling redefine cellular heterogeneity in the adult human kidney - RNAseq",
          "Single cell transcriptional and chromatin accessibility profiling redefine cellular heterogeneity in the adult human kidney - RNAseq",
          "Single cell transcriptional and chromatin accessibility profiling redefine cellular heterogeneity in the adult human kidney - RNAseq",
          "Single cell transcriptional and chromatin accessibility profiling redefine cellular heterogeneity in the adult human kidney - RNAseq",
          "Single cell transcriptional and chromatin accessibility profiling redefine cellular heterogeneity in the adult human kidney - RNAseq",
          "Single cell transcriptional and chromatin accessibility profiling redefine cellular heterogeneity in the adult human kidney - RNAseq",
          "Single cell transcriptional and chromatin accessibility profiling redefine cellular heterogeneity in the adult human kidney - RNAseq",
          "Single cell transcriptional and chromatin accessibility profiling redefine cellular heterogeneity in the adult human kidney - RNAseq",
          "Single cell transcriptional and chromatin accessibility profiling redefine cellular heterogeneity in the adult human kidney - RNAseq",
          "Single cell transcriptional and chromatin accessibility profiling redefine cellular heterogeneity in the adult human kidney - RNAseq",
          "Single cell transcriptional and chromatin accessibility profiling redefine cellular heterogeneity in the adult human kidney - RNAseq",
          "Single cell transcriptional and chromatin accessibility profiling redefine cellular heterogeneity in the adult human kidney - RNAseq",
          "Single cell transcriptional and chromatin accessibility profiling redefine cellular heterogeneity in the adult human kidney - RNAseq",
          "Single cell transcriptional and chromatin accessibility profiling redefine cellular heterogeneity in the adult human kidney - RNAseq",
          "Single cell transcriptional and chromatin accessibility profiling redefine cellular heterogeneity in the adult human kidney - RNAseq",
          "Single cell transcriptional and chromatin accessibility profiling redefine cellular heterogeneity in the adult human kidney - RNAseq",
          "Single cell transcriptional and chromatin accessibility profiling redefine cellular heterogeneity in the adult human kidney - RNAseq",
          "Single cell transcriptional and chromatin accessibility profiling redefine cellular heterogeneity in the adult human kidney - RNAseq",
          "Single cell transcriptional and chromatin accessibility profiling redefine cellular heterogeneity in the adult human kidney - RNAseq",
          "Single cell transcriptional and chromatin accessibility profiling redefine cellular heterogeneity in the adult human kidney - RNAseq",
          "Single cell transcriptional and chromatin accessibility profiling redefine cellular heterogeneity in the adult human kidney - RNAseq",
          "Single cell transcriptional and chromatin accessibility profiling redefine cellular heterogeneity in the adult human kidney - RNAseq",
          "Single cell transcriptional and chromatin accessibility profiling redefine cellular heterogeneity in the adult human kidney - RNAseq",
          "Single cell transcriptional and chromatin accessibility profiling redefine cellular heterogeneity in the adult human kidney - RNAseq",
          "Single cell transcriptional and chromatin accessibility profiling redefine cellular heterogeneity in the adult human kidney - RNAseq",
          "Single cell transcriptional and chromatin accessibility profiling redefine cellular heterogeneity in the adult human kidney - RNAseq",
          "Single cell transcriptional and chromatin accessibility profiling redefine cellular heterogeneity in the adult human kidney - RNAseq",
          "Single cell transcriptional and chromatin accessibility profiling redefine cellular heterogeneity in the adult human kidney - RNAseq",
          "Single cell transcriptional and chromatin accessibility profiling redefine cellular heterogeneity in the adult human kidney - RNAseq",
          "Single cell transcriptional and chromatin accessibility profiling redefine cellular heterogeneity in the adult human kidney - RNAseq",
          "Single cell transcriptional and chromatin accessibility profiling redefine cellular heterogeneity in the adult human kidney - RNAseq",
          "Single cell transcriptional and chromatin accessibility profiling redefine cellular heterogeneity in the adult human kidney - RNAseq",
          "Single cell transcriptional and chromatin accessibility profiling redefine cellular heterogeneity in the adult human kidney - RNAseq",
          "Single cell transcriptional and chromatin accessibility profiling redefine cellular heterogeneity in the adult human kidney - RNAseq",
          "Single cell transcriptional and chromatin accessibility profiling redefine cellular heterogeneity in the adult human kidney - RNAseq",
          "Single cell transcriptional and chromatin accessibility profiling redefine cellular heterogeneity in the adult human kidney - RNAseq",
          "Single cell transcriptional and chromatin accessibility profiling redefine cellular heterogeneity in the adult human kidney - RNAseq",
          "Single cell transcriptional and chromatin accessibility profiling redefine cellular heterogeneity in the adult human kidney - RNAseq"
         ],
         "type": "scatter",
         "x": [
          "2021-04-26",
          "2021-04-28",
          "2021-04-29",
          "2021-05-03",
          "2021-05-04",
          "2021-05-05",
          "2021-05-10",
          "2021-05-11",
          "2021-05-14",
          "2021-05-18",
          "2021-05-19",
          "2021-05-21",
          "2021-05-26",
          "2021-05-27",
          "2021-05-28",
          "2021-06-04",
          "2021-06-05",
          "2021-06-09",
          "2021-06-15",
          "2021-06-18",
          "2021-06-21",
          "2021-06-25",
          "2021-06-29",
          "2021-07-05",
          "2021-07-06",
          "2021-07-07",
          "2021-07-09",
          "2021-07-14",
          "2021-07-15",
          "2021-07-17",
          "2021-07-19",
          "2021-07-23",
          "2021-07-24",
          "2021-07-28",
          "2021-07-29",
          "2021-07-30",
          "2021-07-31",
          "2021-08-11",
          "2021-08-12",
          "2021-08-13",
          "2021-08-16",
          "2021-08-17",
          "2021-08-24"
         ],
         "y": [
          1,
          3,
          4,
          5,
          6,
          7,
          8,
          9,
          10,
          11,
          12,
          13,
          15,
          16,
          20,
          21,
          23,
          24,
          25,
          26,
          28,
          29,
          31,
          32,
          34,
          35,
          37,
          38,
          40,
          42,
          44,
          45,
          46,
          49,
          52,
          53,
          54,
          56,
          57,
          58,
          59,
          60,
          61
         ]
        },
        {
         "hovertemplate": "<i>Date</i>: %{x}<br>Downloads</i>: %{y}<br><br>%{text}</i>",
         "mode": "lines+markers",
         "text": [
          "Time-resolved Systems Immunology Reveals a Late Juncture Linked to Fatal COVID-19: Adaptive Cells",
          "Time-resolved Systems Immunology Reveals a Late Juncture Linked to Fatal COVID-19: Adaptive Cells",
          "Time-resolved Systems Immunology Reveals a Late Juncture Linked to Fatal COVID-19: Adaptive Cells",
          "Time-resolved Systems Immunology Reveals a Late Juncture Linked to Fatal COVID-19: Adaptive Cells",
          "Time-resolved Systems Immunology Reveals a Late Juncture Linked to Fatal COVID-19: Adaptive Cells",
          "Time-resolved Systems Immunology Reveals a Late Juncture Linked to Fatal COVID-19: Adaptive Cells",
          "Time-resolved Systems Immunology Reveals a Late Juncture Linked to Fatal COVID-19: Adaptive Cells",
          "Time-resolved Systems Immunology Reveals a Late Juncture Linked to Fatal COVID-19: Adaptive Cells",
          "Time-resolved Systems Immunology Reveals a Late Juncture Linked to Fatal COVID-19: Adaptive Cells",
          "Time-resolved Systems Immunology Reveals a Late Juncture Linked to Fatal COVID-19: Adaptive Cells",
          "Time-resolved Systems Immunology Reveals a Late Juncture Linked to Fatal COVID-19: Adaptive Cells",
          "Time-resolved Systems Immunology Reveals a Late Juncture Linked to Fatal COVID-19: Adaptive Cells",
          "Time-resolved Systems Immunology Reveals a Late Juncture Linked to Fatal COVID-19: Adaptive Cells",
          "Time-resolved Systems Immunology Reveals a Late Juncture Linked to Fatal COVID-19: Adaptive Cells",
          "Time-resolved Systems Immunology Reveals a Late Juncture Linked to Fatal COVID-19: Adaptive Cells",
          "Time-resolved Systems Immunology Reveals a Late Juncture Linked to Fatal COVID-19: Adaptive Cells",
          "Time-resolved Systems Immunology Reveals a Late Juncture Linked to Fatal COVID-19: Adaptive Cells",
          "Time-resolved Systems Immunology Reveals a Late Juncture Linked to Fatal COVID-19: Adaptive Cells",
          "Time-resolved Systems Immunology Reveals a Late Juncture Linked to Fatal COVID-19: Adaptive Cells",
          "Time-resolved Systems Immunology Reveals a Late Juncture Linked to Fatal COVID-19: Adaptive Cells",
          "Time-resolved Systems Immunology Reveals a Late Juncture Linked to Fatal COVID-19: Adaptive Cells",
          "Time-resolved Systems Immunology Reveals a Late Juncture Linked to Fatal COVID-19: Adaptive Cells",
          "Time-resolved Systems Immunology Reveals a Late Juncture Linked to Fatal COVID-19: Adaptive Cells",
          "Time-resolved Systems Immunology Reveals a Late Juncture Linked to Fatal COVID-19: Adaptive Cells",
          "Time-resolved Systems Immunology Reveals a Late Juncture Linked to Fatal COVID-19: Adaptive Cells",
          "Time-resolved Systems Immunology Reveals a Late Juncture Linked to Fatal COVID-19: Adaptive Cells",
          "Time-resolved Systems Immunology Reveals a Late Juncture Linked to Fatal COVID-19: Adaptive Cells",
          "Time-resolved Systems Immunology Reveals a Late Juncture Linked to Fatal COVID-19: Adaptive Cells",
          "Time-resolved Systems Immunology Reveals a Late Juncture Linked to Fatal COVID-19: Adaptive Cells",
          "Time-resolved Systems Immunology Reveals a Late Juncture Linked to Fatal COVID-19: Adaptive Cells",
          "Time-resolved Systems Immunology Reveals a Late Juncture Linked to Fatal COVID-19: Adaptive Cells",
          "Time-resolved Systems Immunology Reveals a Late Juncture Linked to Fatal COVID-19: Adaptive Cells",
          "Time-resolved Systems Immunology Reveals a Late Juncture Linked to Fatal COVID-19: Adaptive Cells",
          "Time-resolved Systems Immunology Reveals a Late Juncture Linked to Fatal COVID-19: Adaptive Cells",
          "Time-resolved Systems Immunology Reveals a Late Juncture Linked to Fatal COVID-19: Adaptive Cells",
          "Time-resolved Systems Immunology Reveals a Late Juncture Linked to Fatal COVID-19: Adaptive Cells",
          "Time-resolved Systems Immunology Reveals a Late Juncture Linked to Fatal COVID-19: Adaptive Cells"
         ],
         "type": "scatter",
         "x": [
          "2021-04-23",
          "2021-04-24",
          "2021-04-27",
          "2021-04-28",
          "2021-05-05",
          "2021-05-13",
          "2021-05-19",
          "2021-05-22",
          "2021-05-23",
          "2021-05-28",
          "2021-06-01",
          "2021-06-04",
          "2021-06-05",
          "2021-06-08",
          "2021-06-10",
          "2021-06-11",
          "2021-06-15",
          "2021-06-18",
          "2021-06-21",
          "2021-06-23",
          "2021-06-24",
          "2021-06-30",
          "2021-07-01",
          "2021-07-07",
          "2021-07-09",
          "2021-07-12",
          "2021-07-13",
          "2021-07-14",
          "2021-07-18",
          "2021-07-23",
          "2021-07-29",
          "2021-07-30",
          "2021-08-07",
          "2021-08-13",
          "2021-08-19",
          "2021-08-21",
          "2021-08-25"
         ],
         "y": [
          1,
          2,
          4,
          6,
          7,
          8,
          9,
          10,
          11,
          12,
          15,
          16,
          17,
          18,
          23,
          24,
          26,
          27,
          32,
          33,
          34,
          35,
          38,
          40,
          42,
          43,
          45,
          47,
          48,
          49,
          50,
          51,
          52,
          53,
          54,
          55,
          56
         ]
        },
        {
         "hovertemplate": "<i>Date</i>: %{x}<br>Downloads</i>: %{y}<br><br>%{text}</i>",
         "mode": "lines+markers",
         "text": [
          "Krasnow Lab Human Lung Cell Atlas, 10X",
          "Krasnow Lab Human Lung Cell Atlas, 10X",
          "Krasnow Lab Human Lung Cell Atlas, 10X",
          "Krasnow Lab Human Lung Cell Atlas, 10X",
          "Krasnow Lab Human Lung Cell Atlas, 10X",
          "Krasnow Lab Human Lung Cell Atlas, 10X",
          "Krasnow Lab Human Lung Cell Atlas, 10X",
          "Krasnow Lab Human Lung Cell Atlas, 10X",
          "Krasnow Lab Human Lung Cell Atlas, 10X",
          "Krasnow Lab Human Lung Cell Atlas, 10X",
          "Krasnow Lab Human Lung Cell Atlas, 10X",
          "Krasnow Lab Human Lung Cell Atlas, 10X",
          "Krasnow Lab Human Lung Cell Atlas, 10X",
          "Krasnow Lab Human Lung Cell Atlas, 10X",
          "Krasnow Lab Human Lung Cell Atlas, 10X",
          "Krasnow Lab Human Lung Cell Atlas, 10X",
          "Krasnow Lab Human Lung Cell Atlas, 10X",
          "Krasnow Lab Human Lung Cell Atlas, 10X",
          "Krasnow Lab Human Lung Cell Atlas, 10X",
          "Krasnow Lab Human Lung Cell Atlas, 10X",
          "Krasnow Lab Human Lung Cell Atlas, 10X",
          "Krasnow Lab Human Lung Cell Atlas, 10X",
          "Krasnow Lab Human Lung Cell Atlas, 10X",
          "Krasnow Lab Human Lung Cell Atlas, 10X",
          "Krasnow Lab Human Lung Cell Atlas, 10X",
          "Krasnow Lab Human Lung Cell Atlas, 10X",
          "Krasnow Lab Human Lung Cell Atlas, 10X",
          "Krasnow Lab Human Lung Cell Atlas, 10X",
          "Krasnow Lab Human Lung Cell Atlas, 10X",
          "Krasnow Lab Human Lung Cell Atlas, 10X",
          "Krasnow Lab Human Lung Cell Atlas, 10X",
          "Krasnow Lab Human Lung Cell Atlas, 10X",
          "Krasnow Lab Human Lung Cell Atlas, 10X",
          "Krasnow Lab Human Lung Cell Atlas, 10X",
          "Krasnow Lab Human Lung Cell Atlas, 10X",
          "Krasnow Lab Human Lung Cell Atlas, 10X",
          "Krasnow Lab Human Lung Cell Atlas, 10X",
          "Krasnow Lab Human Lung Cell Atlas, 10X",
          "Krasnow Lab Human Lung Cell Atlas, 10X",
          "Krasnow Lab Human Lung Cell Atlas, 10X",
          "Krasnow Lab Human Lung Cell Atlas, 10X",
          "Krasnow Lab Human Lung Cell Atlas, 10X",
          "Krasnow Lab Human Lung Cell Atlas, 10X"
         ],
         "type": "scatter",
         "x": [
          "2021-04-23",
          "2021-04-30",
          "2021-05-04",
          "2021-05-11",
          "2021-05-14",
          "2021-05-15",
          "2021-05-18",
          "2021-05-21",
          "2021-05-25",
          "2021-05-27",
          "2021-05-28",
          "2021-05-29",
          "2021-06-03",
          "2021-06-04",
          "2021-06-05",
          "2021-06-09",
          "2021-06-14",
          "2021-06-15",
          "2021-06-17",
          "2021-06-21",
          "2021-06-27",
          "2021-06-29",
          "2021-07-09",
          "2021-07-12",
          "2021-07-14",
          "2021-07-15",
          "2021-07-17",
          "2021-07-19",
          "2021-07-22",
          "2021-07-23",
          "2021-07-26",
          "2021-07-28",
          "2021-07-30",
          "2021-08-02",
          "2021-08-03",
          "2021-08-05",
          "2021-08-06",
          "2021-08-10",
          "2021-08-11",
          "2021-08-21",
          "2021-08-22",
          "2021-08-25",
          "2021-08-26"
         ],
         "y": [
          1,
          2,
          3,
          4,
          5,
          6,
          7,
          8,
          9,
          10,
          13,
          14,
          15,
          16,
          18,
          19,
          20,
          22,
          23,
          24,
          25,
          28,
          30,
          31,
          34,
          35,
          36,
          37,
          38,
          39,
          40,
          41,
          42,
          43,
          44,
          45,
          46,
          48,
          49,
          50,
          51,
          52,
          53
         ]
        },
        {
         "hovertemplate": "<i>Date</i>: %{x}<br>Downloads</i>: %{y}<br><br>%{text}</i>",
         "mode": "lines+markers",
         "text": [
          "Single cell transcriptional and chromatin accessibility profiling redefine cellular heterogeneity in the adult human kidney - ATACseq",
          "Single cell transcriptional and chromatin accessibility profiling redefine cellular heterogeneity in the adult human kidney - ATACseq",
          "Single cell transcriptional and chromatin accessibility profiling redefine cellular heterogeneity in the adult human kidney - ATACseq",
          "Single cell transcriptional and chromatin accessibility profiling redefine cellular heterogeneity in the adult human kidney - ATACseq",
          "Single cell transcriptional and chromatin accessibility profiling redefine cellular heterogeneity in the adult human kidney - ATACseq",
          "Single cell transcriptional and chromatin accessibility profiling redefine cellular heterogeneity in the adult human kidney - ATACseq",
          "Single cell transcriptional and chromatin accessibility profiling redefine cellular heterogeneity in the adult human kidney - ATACseq",
          "Single cell transcriptional and chromatin accessibility profiling redefine cellular heterogeneity in the adult human kidney - ATACseq",
          "Single cell transcriptional and chromatin accessibility profiling redefine cellular heterogeneity in the adult human kidney - ATACseq",
          "Single cell transcriptional and chromatin accessibility profiling redefine cellular heterogeneity in the adult human kidney - ATACseq",
          "Single cell transcriptional and chromatin accessibility profiling redefine cellular heterogeneity in the adult human kidney - ATACseq",
          "Single cell transcriptional and chromatin accessibility profiling redefine cellular heterogeneity in the adult human kidney - ATACseq",
          "Single cell transcriptional and chromatin accessibility profiling redefine cellular heterogeneity in the adult human kidney - ATACseq",
          "Single cell transcriptional and chromatin accessibility profiling redefine cellular heterogeneity in the adult human kidney - ATACseq",
          "Single cell transcriptional and chromatin accessibility profiling redefine cellular heterogeneity in the adult human kidney - ATACseq",
          "Single cell transcriptional and chromatin accessibility profiling redefine cellular heterogeneity in the adult human kidney - ATACseq",
          "Single cell transcriptional and chromatin accessibility profiling redefine cellular heterogeneity in the adult human kidney - ATACseq",
          "Single cell transcriptional and chromatin accessibility profiling redefine cellular heterogeneity in the adult human kidney - ATACseq",
          "Single cell transcriptional and chromatin accessibility profiling redefine cellular heterogeneity in the adult human kidney - ATACseq",
          "Single cell transcriptional and chromatin accessibility profiling redefine cellular heterogeneity in the adult human kidney - ATACseq",
          "Single cell transcriptional and chromatin accessibility profiling redefine cellular heterogeneity in the adult human kidney - ATACseq",
          "Single cell transcriptional and chromatin accessibility profiling redefine cellular heterogeneity in the adult human kidney - ATACseq",
          "Single cell transcriptional and chromatin accessibility profiling redefine cellular heterogeneity in the adult human kidney - ATACseq",
          "Single cell transcriptional and chromatin accessibility profiling redefine cellular heterogeneity in the adult human kidney - ATACseq",
          "Single cell transcriptional and chromatin accessibility profiling redefine cellular heterogeneity in the adult human kidney - ATACseq",
          "Single cell transcriptional and chromatin accessibility profiling redefine cellular heterogeneity in the adult human kidney - ATACseq",
          "Single cell transcriptional and chromatin accessibility profiling redefine cellular heterogeneity in the adult human kidney - ATACseq",
          "Single cell transcriptional and chromatin accessibility profiling redefine cellular heterogeneity in the adult human kidney - ATACseq",
          "Single cell transcriptional and chromatin accessibility profiling redefine cellular heterogeneity in the adult human kidney - ATACseq",
          "Single cell transcriptional and chromatin accessibility profiling redefine cellular heterogeneity in the adult human kidney - ATACseq",
          "Single cell transcriptional and chromatin accessibility profiling redefine cellular heterogeneity in the adult human kidney - ATACseq",
          "Single cell transcriptional and chromatin accessibility profiling redefine cellular heterogeneity in the adult human kidney - ATACseq",
          "Single cell transcriptional and chromatin accessibility profiling redefine cellular heterogeneity in the adult human kidney - ATACseq",
          "Single cell transcriptional and chromatin accessibility profiling redefine cellular heterogeneity in the adult human kidney - ATACseq",
          "Single cell transcriptional and chromatin accessibility profiling redefine cellular heterogeneity in the adult human kidney - ATACseq",
          "Single cell transcriptional and chromatin accessibility profiling redefine cellular heterogeneity in the adult human kidney - ATACseq"
         ],
         "type": "scatter",
         "x": [
          "2021-04-29",
          "2021-05-03",
          "2021-05-04",
          "2021-05-06",
          "2021-05-14",
          "2021-05-18",
          "2021-05-19",
          "2021-05-24",
          "2021-05-26",
          "2021-05-27",
          "2021-05-28",
          "2021-06-04",
          "2021-06-05",
          "2021-06-07",
          "2021-06-09",
          "2021-06-12",
          "2021-06-15",
          "2021-06-18",
          "2021-06-25",
          "2021-07-05",
          "2021-07-06",
          "2021-07-09",
          "2021-07-14",
          "2021-07-15",
          "2021-07-16",
          "2021-07-17",
          "2021-07-19",
          "2021-07-23",
          "2021-07-26",
          "2021-07-28",
          "2021-07-30",
          "2021-08-09",
          "2021-08-11",
          "2021-08-12",
          "2021-08-13",
          "2021-08-24"
         ],
         "y": [
          1,
          2,
          4,
          5,
          6,
          7,
          8,
          10,
          11,
          12,
          15,
          16,
          18,
          19,
          20,
          22,
          23,
          24,
          25,
          26,
          28,
          30,
          31,
          33,
          34,
          36,
          38,
          39,
          40,
          41,
          42,
          43,
          44,
          46,
          47,
          48
         ]
        },
        {
         "hovertemplate": "<i>Date</i>: %{x}<br>Downloads</i>: %{y}<br><br>%{text}</i>",
         "mode": "lines+markers",
         "text": [
          "Tabula Sapiens - Endothelial",
          "Tabula Sapiens - Endothelial",
          "Tabula Sapiens - Endothelial",
          "Tabula Sapiens - Endothelial",
          "Tabula Sapiens - Endothelial",
          "Tabula Sapiens - Endothelial",
          "Tabula Sapiens - Endothelial",
          "Tabula Sapiens - Endothelial",
          "Tabula Sapiens - Endothelial",
          "Tabula Sapiens - Endothelial",
          "Tabula Sapiens - Endothelial",
          "Tabula Sapiens - Endothelial",
          "Tabula Sapiens - Endothelial",
          "Tabula Sapiens - Endothelial",
          "Tabula Sapiens - Endothelial"
         ],
         "type": "scatter",
         "x": [
          "2021-07-20",
          "2021-07-22",
          "2021-07-23",
          "2021-07-26",
          "2021-07-28",
          "2021-07-30",
          "2021-08-02",
          "2021-08-04",
          "2021-08-05",
          "2021-08-11",
          "2021-08-15",
          "2021-08-21",
          "2021-08-22",
          "2021-08-23",
          "2021-08-24"
         ],
         "y": [
          1,
          2,
          4,
          5,
          6,
          8,
          9,
          10,
          11,
          12,
          13,
          20,
          30,
          41,
          42
         ]
        },
        {
         "hovertemplate": "<i>Date</i>: %{x}<br>Downloads</i>: %{y}<br><br>%{text}</i>",
         "mode": "lines+markers",
         "text": [
          "Single-cell RNA-Seq Investigation of Foveal and Peripheral Expression in the Human Retina",
          "Single-cell RNA-Seq Investigation of Foveal and Peripheral Expression in the Human Retina",
          "Single-cell RNA-Seq Investigation of Foveal and Peripheral Expression in the Human Retina",
          "Single-cell RNA-Seq Investigation of Foveal and Peripheral Expression in the Human Retina",
          "Single-cell RNA-Seq Investigation of Foveal and Peripheral Expression in the Human Retina",
          "Single-cell RNA-Seq Investigation of Foveal and Peripheral Expression in the Human Retina",
          "Single-cell RNA-Seq Investigation of Foveal and Peripheral Expression in the Human Retina",
          "Single-cell RNA-Seq Investigation of Foveal and Peripheral Expression in the Human Retina",
          "Single-cell RNA-Seq Investigation of Foveal and Peripheral Expression in the Human Retina",
          "Single-cell RNA-Seq Investigation of Foveal and Peripheral Expression in the Human Retina",
          "Single-cell RNA-Seq Investigation of Foveal and Peripheral Expression in the Human Retina",
          "Single-cell RNA-Seq Investigation of Foveal and Peripheral Expression in the Human Retina",
          "Single-cell RNA-Seq Investigation of Foveal and Peripheral Expression in the Human Retina",
          "Single-cell RNA-Seq Investigation of Foveal and Peripheral Expression in the Human Retina",
          "Single-cell RNA-Seq Investigation of Foveal and Peripheral Expression in the Human Retina",
          "Single-cell RNA-Seq Investigation of Foveal and Peripheral Expression in the Human Retina",
          "Single-cell RNA-Seq Investigation of Foveal and Peripheral Expression in the Human Retina",
          "Single-cell RNA-Seq Investigation of Foveal and Peripheral Expression in the Human Retina",
          "Single-cell RNA-Seq Investigation of Foveal and Peripheral Expression in the Human Retina",
          "Single-cell RNA-Seq Investigation of Foveal and Peripheral Expression in the Human Retina",
          "Single-cell RNA-Seq Investigation of Foveal and Peripheral Expression in the Human Retina",
          "Single-cell RNA-Seq Investigation of Foveal and Peripheral Expression in the Human Retina",
          "Single-cell RNA-Seq Investigation of Foveal and Peripheral Expression in the Human Retina",
          "Single-cell RNA-Seq Investigation of Foveal and Peripheral Expression in the Human Retina",
          "Single-cell RNA-Seq Investigation of Foveal and Peripheral Expression in the Human Retina",
          "Single-cell RNA-Seq Investigation of Foveal and Peripheral Expression in the Human Retina",
          "Single-cell RNA-Seq Investigation of Foveal and Peripheral Expression in the Human Retina",
          "Single-cell RNA-Seq Investigation of Foveal and Peripheral Expression in the Human Retina"
         ],
         "type": "scatter",
         "x": [
          "2021-04-24",
          "2021-04-28",
          "2021-04-29",
          "2021-05-02",
          "2021-05-03",
          "2021-05-05",
          "2021-05-19",
          "2021-05-20",
          "2021-05-26",
          "2021-05-28",
          "2021-06-06",
          "2021-06-10",
          "2021-06-15",
          "2021-06-17",
          "2021-06-25",
          "2021-06-28",
          "2021-07-05",
          "2021-07-07",
          "2021-07-09",
          "2021-07-12",
          "2021-07-14",
          "2021-07-18",
          "2021-07-20",
          "2021-07-21",
          "2021-07-22",
          "2021-07-23",
          "2021-07-30",
          "2021-08-21"
         ],
         "y": [
          3,
          4,
          5,
          7,
          8,
          9,
          10,
          11,
          12,
          15,
          16,
          17,
          18,
          19,
          20,
          22,
          23,
          24,
          27,
          28,
          30,
          31,
          32,
          33,
          34,
          35,
          36,
          37
         ]
        },
        {
         "hovertemplate": "<i>Date</i>: %{x}<br>Downloads</i>: %{y}<br><br>%{text}</i>",
         "mode": "lines+markers",
         "text": [
          "Tabula Sapiens - All Cells",
          "Tabula Sapiens - All Cells",
          "Tabula Sapiens - All Cells",
          "Tabula Sapiens - All Cells",
          "Tabula Sapiens - All Cells",
          "Tabula Sapiens - All Cells",
          "Tabula Sapiens - All Cells",
          "Tabula Sapiens - All Cells",
          "Tabula Sapiens - All Cells",
          "Tabula Sapiens - All Cells",
          "Tabula Sapiens - All Cells",
          "Tabula Sapiens - All Cells",
          "Tabula Sapiens - All Cells",
          "Tabula Sapiens - All Cells",
          "Tabula Sapiens - All Cells",
          "Tabula Sapiens - All Cells",
          "Tabula Sapiens - All Cells"
         ],
         "type": "scatter",
         "x": [
          "2021-07-19",
          "2021-07-20",
          "2021-07-21",
          "2021-07-22",
          "2021-07-23",
          "2021-07-26",
          "2021-07-27",
          "2021-07-28",
          "2021-07-30",
          "2021-08-02",
          "2021-08-03",
          "2021-08-04",
          "2021-08-10",
          "2021-08-11",
          "2021-08-13",
          "2021-08-22",
          "2021-08-26"
         ],
         "y": [
          1,
          2,
          3,
          6,
          10,
          12,
          13,
          16,
          19,
          21,
          24,
          28,
          29,
          30,
          34,
          35,
          36
         ]
        },
        {
         "hovertemplate": "<i>Date</i>: %{x}<br>Downloads</i>: %{y}<br><br>%{text}</i>",
         "mode": "lines+markers",
         "text": [
          "A Single-Cell Transcriptome Atlas of the Human Pancreas",
          "A Single-Cell Transcriptome Atlas of the Human Pancreas",
          "A Single-Cell Transcriptome Atlas of the Human Pancreas",
          "A Single-Cell Transcriptome Atlas of the Human Pancreas",
          "A Single-Cell Transcriptome Atlas of the Human Pancreas",
          "A Single-Cell Transcriptome Atlas of the Human Pancreas",
          "A Single-Cell Transcriptome Atlas of the Human Pancreas",
          "A Single-Cell Transcriptome Atlas of the Human Pancreas",
          "A Single-Cell Transcriptome Atlas of the Human Pancreas",
          "A Single-Cell Transcriptome Atlas of the Human Pancreas",
          "A Single-Cell Transcriptome Atlas of the Human Pancreas",
          "A Single-Cell Transcriptome Atlas of the Human Pancreas",
          "A Single-Cell Transcriptome Atlas of the Human Pancreas",
          "A Single-Cell Transcriptome Atlas of the Human Pancreas",
          "A Single-Cell Transcriptome Atlas of the Human Pancreas",
          "A Single-Cell Transcriptome Atlas of the Human Pancreas",
          "A Single-Cell Transcriptome Atlas of the Human Pancreas",
          "A Single-Cell Transcriptome Atlas of the Human Pancreas",
          "A Single-Cell Transcriptome Atlas of the Human Pancreas",
          "A Single-Cell Transcriptome Atlas of the Human Pancreas",
          "A Single-Cell Transcriptome Atlas of the Human Pancreas",
          "A Single-Cell Transcriptome Atlas of the Human Pancreas",
          "A Single-Cell Transcriptome Atlas of the Human Pancreas",
          "A Single-Cell Transcriptome Atlas of the Human Pancreas"
         ],
         "type": "scatter",
         "x": [
          "2021-05-05",
          "2021-05-13",
          "2021-05-20",
          "2021-05-24",
          "2021-05-25",
          "2021-05-26",
          "2021-05-28",
          "2021-06-03",
          "2021-06-04",
          "2021-06-05",
          "2021-06-09",
          "2021-06-14",
          "2021-06-15",
          "2021-06-17",
          "2021-07-07",
          "2021-07-09",
          "2021-07-12",
          "2021-07-14",
          "2021-07-16",
          "2021-07-17",
          "2021-07-23",
          "2021-07-29",
          "2021-07-30",
          "2021-08-06"
         ],
         "y": [
          1,
          2,
          3,
          4,
          7,
          8,
          12,
          13,
          14,
          18,
          19,
          20,
          21,
          22,
          23,
          25,
          26,
          29,
          30,
          31,
          32,
          33,
          34,
          35
         ]
        }
       ],
       "layout": {
        "showlegend": false,
        "template": {
         "data": {
          "bar": [
           {
            "error_x": {
             "color": "#2a3f5f"
            },
            "error_y": {
             "color": "#2a3f5f"
            },
            "marker": {
             "line": {
              "color": "#E5ECF6",
              "width": 0.5
             },
             "pattern": {
              "fillmode": "overlay",
              "size": 10,
              "solidity": 0.2
             }
            },
            "type": "bar"
           }
          ],
          "barpolar": [
           {
            "marker": {
             "line": {
              "color": "#E5ECF6",
              "width": 0.5
             },
             "pattern": {
              "fillmode": "overlay",
              "size": 10,
              "solidity": 0.2
             }
            },
            "type": "barpolar"
           }
          ],
          "carpet": [
           {
            "aaxis": {
             "endlinecolor": "#2a3f5f",
             "gridcolor": "white",
             "linecolor": "white",
             "minorgridcolor": "white",
             "startlinecolor": "#2a3f5f"
            },
            "baxis": {
             "endlinecolor": "#2a3f5f",
             "gridcolor": "white",
             "linecolor": "white",
             "minorgridcolor": "white",
             "startlinecolor": "#2a3f5f"
            },
            "type": "carpet"
           }
          ],
          "choropleth": [
           {
            "colorbar": {
             "outlinewidth": 0,
             "ticks": ""
            },
            "type": "choropleth"
           }
          ],
          "contour": [
           {
            "colorbar": {
             "outlinewidth": 0,
             "ticks": ""
            },
            "colorscale": [
             [
              0,
              "#0d0887"
             ],
             [
              0.1111111111111111,
              "#46039f"
             ],
             [
              0.2222222222222222,
              "#7201a8"
             ],
             [
              0.3333333333333333,
              "#9c179e"
             ],
             [
              0.4444444444444444,
              "#bd3786"
             ],
             [
              0.5555555555555556,
              "#d8576b"
             ],
             [
              0.6666666666666666,
              "#ed7953"
             ],
             [
              0.7777777777777778,
              "#fb9f3a"
             ],
             [
              0.8888888888888888,
              "#fdca26"
             ],
             [
              1,
              "#f0f921"
             ]
            ],
            "type": "contour"
           }
          ],
          "contourcarpet": [
           {
            "colorbar": {
             "outlinewidth": 0,
             "ticks": ""
            },
            "type": "contourcarpet"
           }
          ],
          "heatmap": [
           {
            "colorbar": {
             "outlinewidth": 0,
             "ticks": ""
            },
            "colorscale": [
             [
              0,
              "#0d0887"
             ],
             [
              0.1111111111111111,
              "#46039f"
             ],
             [
              0.2222222222222222,
              "#7201a8"
             ],
             [
              0.3333333333333333,
              "#9c179e"
             ],
             [
              0.4444444444444444,
              "#bd3786"
             ],
             [
              0.5555555555555556,
              "#d8576b"
             ],
             [
              0.6666666666666666,
              "#ed7953"
             ],
             [
              0.7777777777777778,
              "#fb9f3a"
             ],
             [
              0.8888888888888888,
              "#fdca26"
             ],
             [
              1,
              "#f0f921"
             ]
            ],
            "type": "heatmap"
           }
          ],
          "heatmapgl": [
           {
            "colorbar": {
             "outlinewidth": 0,
             "ticks": ""
            },
            "colorscale": [
             [
              0,
              "#0d0887"
             ],
             [
              0.1111111111111111,
              "#46039f"
             ],
             [
              0.2222222222222222,
              "#7201a8"
             ],
             [
              0.3333333333333333,
              "#9c179e"
             ],
             [
              0.4444444444444444,
              "#bd3786"
             ],
             [
              0.5555555555555556,
              "#d8576b"
             ],
             [
              0.6666666666666666,
              "#ed7953"
             ],
             [
              0.7777777777777778,
              "#fb9f3a"
             ],
             [
              0.8888888888888888,
              "#fdca26"
             ],
             [
              1,
              "#f0f921"
             ]
            ],
            "type": "heatmapgl"
           }
          ],
          "histogram": [
           {
            "marker": {
             "pattern": {
              "fillmode": "overlay",
              "size": 10,
              "solidity": 0.2
             }
            },
            "type": "histogram"
           }
          ],
          "histogram2d": [
           {
            "colorbar": {
             "outlinewidth": 0,
             "ticks": ""
            },
            "colorscale": [
             [
              0,
              "#0d0887"
             ],
             [
              0.1111111111111111,
              "#46039f"
             ],
             [
              0.2222222222222222,
              "#7201a8"
             ],
             [
              0.3333333333333333,
              "#9c179e"
             ],
             [
              0.4444444444444444,
              "#bd3786"
             ],
             [
              0.5555555555555556,
              "#d8576b"
             ],
             [
              0.6666666666666666,
              "#ed7953"
             ],
             [
              0.7777777777777778,
              "#fb9f3a"
             ],
             [
              0.8888888888888888,
              "#fdca26"
             ],
             [
              1,
              "#f0f921"
             ]
            ],
            "type": "histogram2d"
           }
          ],
          "histogram2dcontour": [
           {
            "colorbar": {
             "outlinewidth": 0,
             "ticks": ""
            },
            "colorscale": [
             [
              0,
              "#0d0887"
             ],
             [
              0.1111111111111111,
              "#46039f"
             ],
             [
              0.2222222222222222,
              "#7201a8"
             ],
             [
              0.3333333333333333,
              "#9c179e"
             ],
             [
              0.4444444444444444,
              "#bd3786"
             ],
             [
              0.5555555555555556,
              "#d8576b"
             ],
             [
              0.6666666666666666,
              "#ed7953"
             ],
             [
              0.7777777777777778,
              "#fb9f3a"
             ],
             [
              0.8888888888888888,
              "#fdca26"
             ],
             [
              1,
              "#f0f921"
             ]
            ],
            "type": "histogram2dcontour"
           }
          ],
          "mesh3d": [
           {
            "colorbar": {
             "outlinewidth": 0,
             "ticks": ""
            },
            "type": "mesh3d"
           }
          ],
          "parcoords": [
           {
            "line": {
             "colorbar": {
              "outlinewidth": 0,
              "ticks": ""
             }
            },
            "type": "parcoords"
           }
          ],
          "pie": [
           {
            "automargin": true,
            "type": "pie"
           }
          ],
          "scatter": [
           {
            "marker": {
             "colorbar": {
              "outlinewidth": 0,
              "ticks": ""
             }
            },
            "type": "scatter"
           }
          ],
          "scatter3d": [
           {
            "line": {
             "colorbar": {
              "outlinewidth": 0,
              "ticks": ""
             }
            },
            "marker": {
             "colorbar": {
              "outlinewidth": 0,
              "ticks": ""
             }
            },
            "type": "scatter3d"
           }
          ],
          "scattercarpet": [
           {
            "marker": {
             "colorbar": {
              "outlinewidth": 0,
              "ticks": ""
             }
            },
            "type": "scattercarpet"
           }
          ],
          "scattergeo": [
           {
            "marker": {
             "colorbar": {
              "outlinewidth": 0,
              "ticks": ""
             }
            },
            "type": "scattergeo"
           }
          ],
          "scattergl": [
           {
            "marker": {
             "colorbar": {
              "outlinewidth": 0,
              "ticks": ""
             }
            },
            "type": "scattergl"
           }
          ],
          "scattermapbox": [
           {
            "marker": {
             "colorbar": {
              "outlinewidth": 0,
              "ticks": ""
             }
            },
            "type": "scattermapbox"
           }
          ],
          "scatterpolar": [
           {
            "marker": {
             "colorbar": {
              "outlinewidth": 0,
              "ticks": ""
             }
            },
            "type": "scatterpolar"
           }
          ],
          "scatterpolargl": [
           {
            "marker": {
             "colorbar": {
              "outlinewidth": 0,
              "ticks": ""
             }
            },
            "type": "scatterpolargl"
           }
          ],
          "scatterternary": [
           {
            "marker": {
             "colorbar": {
              "outlinewidth": 0,
              "ticks": ""
             }
            },
            "type": "scatterternary"
           }
          ],
          "surface": [
           {
            "colorbar": {
             "outlinewidth": 0,
             "ticks": ""
            },
            "colorscale": [
             [
              0,
              "#0d0887"
             ],
             [
              0.1111111111111111,
              "#46039f"
             ],
             [
              0.2222222222222222,
              "#7201a8"
             ],
             [
              0.3333333333333333,
              "#9c179e"
             ],
             [
              0.4444444444444444,
              "#bd3786"
             ],
             [
              0.5555555555555556,
              "#d8576b"
             ],
             [
              0.6666666666666666,
              "#ed7953"
             ],
             [
              0.7777777777777778,
              "#fb9f3a"
             ],
             [
              0.8888888888888888,
              "#fdca26"
             ],
             [
              1,
              "#f0f921"
             ]
            ],
            "type": "surface"
           }
          ],
          "table": [
           {
            "cells": {
             "fill": {
              "color": "#EBF0F8"
             },
             "line": {
              "color": "white"
             }
            },
            "header": {
             "fill": {
              "color": "#C8D4E3"
             },
             "line": {
              "color": "white"
             }
            },
            "type": "table"
           }
          ]
         },
         "layout": {
          "annotationdefaults": {
           "arrowcolor": "#2a3f5f",
           "arrowhead": 0,
           "arrowwidth": 1
          },
          "autotypenumbers": "strict",
          "coloraxis": {
           "colorbar": {
            "outlinewidth": 0,
            "ticks": ""
           }
          },
          "colorscale": {
           "diverging": [
            [
             0,
             "#8e0152"
            ],
            [
             0.1,
             "#c51b7d"
            ],
            [
             0.2,
             "#de77ae"
            ],
            [
             0.3,
             "#f1b6da"
            ],
            [
             0.4,
             "#fde0ef"
            ],
            [
             0.5,
             "#f7f7f7"
            ],
            [
             0.6,
             "#e6f5d0"
            ],
            [
             0.7,
             "#b8e186"
            ],
            [
             0.8,
             "#7fbc41"
            ],
            [
             0.9,
             "#4d9221"
            ],
            [
             1,
             "#276419"
            ]
           ],
           "sequential": [
            [
             0,
             "#0d0887"
            ],
            [
             0.1111111111111111,
             "#46039f"
            ],
            [
             0.2222222222222222,
             "#7201a8"
            ],
            [
             0.3333333333333333,
             "#9c179e"
            ],
            [
             0.4444444444444444,
             "#bd3786"
            ],
            [
             0.5555555555555556,
             "#d8576b"
            ],
            [
             0.6666666666666666,
             "#ed7953"
            ],
            [
             0.7777777777777778,
             "#fb9f3a"
            ],
            [
             0.8888888888888888,
             "#fdca26"
            ],
            [
             1,
             "#f0f921"
            ]
           ],
           "sequentialminus": [
            [
             0,
             "#0d0887"
            ],
            [
             0.1111111111111111,
             "#46039f"
            ],
            [
             0.2222222222222222,
             "#7201a8"
            ],
            [
             0.3333333333333333,
             "#9c179e"
            ],
            [
             0.4444444444444444,
             "#bd3786"
            ],
            [
             0.5555555555555556,
             "#d8576b"
            ],
            [
             0.6666666666666666,
             "#ed7953"
            ],
            [
             0.7777777777777778,
             "#fb9f3a"
            ],
            [
             0.8888888888888888,
             "#fdca26"
            ],
            [
             1,
             "#f0f921"
            ]
           ]
          },
          "colorway": [
           "#636efa",
           "#EF553B",
           "#00cc96",
           "#ab63fa",
           "#FFA15A",
           "#19d3f3",
           "#FF6692",
           "#B6E880",
           "#FF97FF",
           "#FECB52"
          ],
          "font": {
           "color": "#2a3f5f"
          },
          "geo": {
           "bgcolor": "white",
           "lakecolor": "white",
           "landcolor": "#E5ECF6",
           "showlakes": true,
           "showland": true,
           "subunitcolor": "white"
          },
          "hoverlabel": {
           "align": "left"
          },
          "hovermode": "closest",
          "mapbox": {
           "style": "light"
          },
          "paper_bgcolor": "white",
          "plot_bgcolor": "#E5ECF6",
          "polar": {
           "angularaxis": {
            "gridcolor": "white",
            "linecolor": "white",
            "ticks": ""
           },
           "bgcolor": "#E5ECF6",
           "radialaxis": {
            "gridcolor": "white",
            "linecolor": "white",
            "ticks": ""
           }
          },
          "scene": {
           "xaxis": {
            "backgroundcolor": "#E5ECF6",
            "gridcolor": "white",
            "gridwidth": 2,
            "linecolor": "white",
            "showbackground": true,
            "ticks": "",
            "zerolinecolor": "white"
           },
           "yaxis": {
            "backgroundcolor": "#E5ECF6",
            "gridcolor": "white",
            "gridwidth": 2,
            "linecolor": "white",
            "showbackground": true,
            "ticks": "",
            "zerolinecolor": "white"
           },
           "zaxis": {
            "backgroundcolor": "#E5ECF6",
            "gridcolor": "white",
            "gridwidth": 2,
            "linecolor": "white",
            "showbackground": true,
            "ticks": "",
            "zerolinecolor": "white"
           }
          },
          "shapedefaults": {
           "line": {
            "color": "#2a3f5f"
           }
          },
          "ternary": {
           "aaxis": {
            "gridcolor": "white",
            "linecolor": "white",
            "ticks": ""
           },
           "baxis": {
            "gridcolor": "white",
            "linecolor": "white",
            "ticks": ""
           },
           "bgcolor": "#E5ECF6",
           "caxis": {
            "gridcolor": "white",
            "linecolor": "white",
            "ticks": ""
           }
          },
          "title": {
           "x": 0.05
          },
          "xaxis": {
           "automargin": true,
           "gridcolor": "white",
           "linecolor": "white",
           "ticks": "",
           "title": {
            "standoff": 15
           },
           "zerolinecolor": "white",
           "zerolinewidth": 2
          },
          "yaxis": {
           "automargin": true,
           "gridcolor": "white",
           "linecolor": "white",
           "ticks": "",
           "title": {
            "standoff": 15
           },
           "zerolinecolor": "white",
           "zerolinewidth": 2
          }
         }
        },
        "title": {
         "text": "Trends of top 10 actively downloaded datasets (cumulative) - raw downloads"
        },
        "xaxis": {
         "title": {
          "text": "date"
         }
        },
        "yaxis": {
         "title": {
          "text": "number of downloads"
         }
        }
       }
      },
      "text/html": [
       "<div>                            <div id=\"e57b60a3-39be-48e7-bc36-cb25b99f38a6\" class=\"plotly-graph-div\" style=\"height:525px; width:100%;\"></div>            <script type=\"text/javascript\">                require([\"plotly\"], function(Plotly) {                    window.PLOTLYENV=window.PLOTLYENV || {};                                    if (document.getElementById(\"e57b60a3-39be-48e7-bc36-cb25b99f38a6\")) {                    Plotly.newPlot(                        \"e57b60a3-39be-48e7-bc36-cb25b99f38a6\",                        [{\"hovertemplate\":\"<i>Date</i>: %{x}<br>Downloads</i>: %{y}<br><br>%{text}</i>\",\"mode\":\"lines+markers\",\"text\":[\"Azimuth meta-analysis of 10 datasets of healthy and diseased human lung\",\"Azimuth meta-analysis of 10 datasets of healthy and diseased human lung\",\"Azimuth meta-analysis of 10 datasets of healthy and diseased human lung\",\"Azimuth meta-analysis of 10 datasets of healthy and diseased human lung\",\"Azimuth meta-analysis of 10 datasets of healthy and diseased human lung\",\"Azimuth meta-analysis of 10 datasets of healthy and diseased human lung\",\"Azimuth meta-analysis of 10 datasets of healthy and diseased human lung\",\"Azimuth meta-analysis of 10 datasets of healthy and diseased human lung\",\"Azimuth meta-analysis of 10 datasets of healthy and diseased human lung\",\"Azimuth meta-analysis of 10 datasets of healthy and diseased human lung\",\"Azimuth meta-analysis of 10 datasets of healthy and diseased human lung\",\"Azimuth meta-analysis of 10 datasets of healthy and diseased human lung\",\"Azimuth meta-analysis of 10 datasets of healthy and diseased human lung\",\"Azimuth meta-analysis of 10 datasets of healthy and diseased human lung\",\"Azimuth meta-analysis of 10 datasets of healthy and diseased human lung\",\"Azimuth meta-analysis of 10 datasets of healthy and diseased human lung\",\"Azimuth meta-analysis of 10 datasets of healthy and diseased human lung\",\"Azimuth meta-analysis of 10 datasets of healthy and diseased human lung\",\"Azimuth meta-analysis of 10 datasets of healthy and diseased human lung\",\"Azimuth meta-analysis of 10 datasets of healthy and diseased human lung\",\"Azimuth meta-analysis of 10 datasets of healthy and diseased human lung\",\"Azimuth meta-analysis of 10 datasets of healthy and diseased human lung\",\"Azimuth meta-analysis of 10 datasets of healthy and diseased human lung\",\"Azimuth meta-analysis of 10 datasets of healthy and diseased human lung\",\"Azimuth meta-analysis of 10 datasets of healthy and diseased human lung\",\"Azimuth meta-analysis of 10 datasets of healthy and diseased human lung\",\"Azimuth meta-analysis of 10 datasets of healthy and diseased human lung\",\"Azimuth meta-analysis of 10 datasets of healthy and diseased human lung\",\"Azimuth meta-analysis of 10 datasets of healthy and diseased human lung\",\"Azimuth meta-analysis of 10 datasets of healthy and diseased human lung\",\"Azimuth meta-analysis of 10 datasets of healthy and diseased human lung\",\"Azimuth meta-analysis of 10 datasets of healthy and diseased human lung\",\"Azimuth meta-analysis of 10 datasets of healthy and diseased human lung\",\"Azimuth meta-analysis of 10 datasets of healthy and diseased human lung\",\"Azimuth meta-analysis of 10 datasets of healthy and diseased human lung\",\"Azimuth meta-analysis of 10 datasets of healthy and diseased human lung\",\"Azimuth meta-analysis of 10 datasets of healthy and diseased human lung\"],\"type\":\"scatter\",\"x\":[\"2021-06-14\",\"2021-06-15\",\"2021-06-16\",\"2021-06-17\",\"2021-06-18\",\"2021-06-19\",\"2021-06-21\",\"2021-06-22\",\"2021-06-24\",\"2021-06-26\",\"2021-06-28\",\"2021-06-29\",\"2021-07-01\",\"2021-07-02\",\"2021-07-07\",\"2021-07-08\",\"2021-07-09\",\"2021-07-11\",\"2021-07-14\",\"2021-07-15\",\"2021-07-17\",\"2021-07-19\",\"2021-07-20\",\"2021-07-23\",\"2021-07-30\",\"2021-07-31\",\"2021-08-01\",\"2021-08-02\",\"2021-08-03\",\"2021-08-04\",\"2021-08-10\",\"2021-08-11\",\"2021-08-12\",\"2021-08-18\",\"2021-08-21\",\"2021-08-22\",\"2021-08-23\"],\"y\":[3,6,10,12,14,15,17,18,20,21,23,27,28,30,32,34,37,38,41,43,44,47,51,52,55,56,57,58,61,62,63,64,65,67,68,69,70]},{\"hovertemplate\":\"<i>Date</i>: %{x}<br>Downloads</i>: %{y}<br><br>%{text}</i>\",\"mode\":\"lines+markers\",\"text\":[\"Single cell transcriptome analysis of human pancreas reveals transcriptional signatures of aging and somatic mutation patterns\",\"Single cell transcriptome analysis of human pancreas reveals transcriptional signatures of aging and somatic mutation patterns\",\"Single cell transcriptome analysis of human pancreas reveals transcriptional signatures of aging and somatic mutation patterns\",\"Single cell transcriptome analysis of human pancreas reveals transcriptional signatures of aging and somatic mutation patterns\",\"Single cell transcriptome analysis of human pancreas reveals transcriptional signatures of aging and somatic mutation patterns\",\"Single cell transcriptome analysis of human pancreas reveals transcriptional signatures of aging and somatic mutation patterns\",\"Single cell transcriptome analysis of human pancreas reveals transcriptional signatures of aging and somatic mutation patterns\",\"Single cell transcriptome analysis of human pancreas reveals transcriptional signatures of aging and somatic mutation patterns\",\"Single cell transcriptome analysis of human pancreas reveals transcriptional signatures of aging and somatic mutation patterns\",\"Single cell transcriptome analysis of human pancreas reveals transcriptional signatures of aging and somatic mutation patterns\",\"Single cell transcriptome analysis of human pancreas reveals transcriptional signatures of aging and somatic mutation patterns\",\"Single cell transcriptome analysis of human pancreas reveals transcriptional signatures of aging and somatic mutation patterns\",\"Single cell transcriptome analysis of human pancreas reveals transcriptional signatures of aging and somatic mutation patterns\",\"Single cell transcriptome analysis of human pancreas reveals transcriptional signatures of aging and somatic mutation patterns\",\"Single cell transcriptome analysis of human pancreas reveals transcriptional signatures of aging and somatic mutation patterns\",\"Single cell transcriptome analysis of human pancreas reveals transcriptional signatures of aging and somatic mutation patterns\",\"Single cell transcriptome analysis of human pancreas reveals transcriptional signatures of aging and somatic mutation patterns\",\"Single cell transcriptome analysis of human pancreas reveals transcriptional signatures of aging and somatic mutation patterns\",\"Single cell transcriptome analysis of human pancreas reveals transcriptional signatures of aging and somatic mutation patterns\",\"Single cell transcriptome analysis of human pancreas reveals transcriptional signatures of aging and somatic mutation patterns\",\"Single cell transcriptome analysis of human pancreas reveals transcriptional signatures of aging and somatic mutation patterns\",\"Single cell transcriptome analysis of human pancreas reveals transcriptional signatures of aging and somatic mutation patterns\",\"Single cell transcriptome analysis of human pancreas reveals transcriptional signatures of aging and somatic mutation patterns\",\"Single cell transcriptome analysis of human pancreas reveals transcriptional signatures of aging and somatic mutation patterns\",\"Single cell transcriptome analysis of human pancreas reveals transcriptional signatures of aging and somatic mutation patterns\",\"Single cell transcriptome analysis of human pancreas reveals transcriptional signatures of aging and somatic mutation patterns\",\"Single cell transcriptome analysis of human pancreas reveals transcriptional signatures of aging and somatic mutation patterns\",\"Single cell transcriptome analysis of human pancreas reveals transcriptional signatures of aging and somatic mutation patterns\",\"Single cell transcriptome analysis of human pancreas reveals transcriptional signatures of aging and somatic mutation patterns\",\"Single cell transcriptome analysis of human pancreas reveals transcriptional signatures of aging and somatic mutation patterns\",\"Single cell transcriptome analysis of human pancreas reveals transcriptional signatures of aging and somatic mutation patterns\",\"Single cell transcriptome analysis of human pancreas reveals transcriptional signatures of aging and somatic mutation patterns\",\"Single cell transcriptome analysis of human pancreas reveals transcriptional signatures of aging and somatic mutation patterns\",\"Single cell transcriptome analysis of human pancreas reveals transcriptional signatures of aging and somatic mutation patterns\",\"Single cell transcriptome analysis of human pancreas reveals transcriptional signatures of aging and somatic mutation patterns\",\"Single cell transcriptome analysis of human pancreas reveals transcriptional signatures of aging and somatic mutation patterns\",\"Single cell transcriptome analysis of human pancreas reveals transcriptional signatures of aging and somatic mutation patterns\",\"Single cell transcriptome analysis of human pancreas reveals transcriptional signatures of aging and somatic mutation patterns\",\"Single cell transcriptome analysis of human pancreas reveals transcriptional signatures of aging and somatic mutation patterns\",\"Single cell transcriptome analysis of human pancreas reveals transcriptional signatures of aging and somatic mutation patterns\"],\"type\":\"scatter\",\"x\":[\"2021-05-20\",\"2021-05-23\",\"2021-05-24\",\"2021-05-25\",\"2021-05-26\",\"2021-05-27\",\"2021-05-28\",\"2021-05-29\",\"2021-05-30\",\"2021-05-31\",\"2021-06-04\",\"2021-06-05\",\"2021-06-06\",\"2021-06-08\",\"2021-06-09\",\"2021-06-10\",\"2021-06-15\",\"2021-06-17\",\"2021-06-19\",\"2021-06-20\",\"2021-06-21\",\"2021-06-28\",\"2021-07-07\",\"2021-07-08\",\"2021-07-09\",\"2021-07-12\",\"2021-07-13\",\"2021-07-14\",\"2021-07-16\",\"2021-07-17\",\"2021-07-19\",\"2021-07-20\",\"2021-07-21\",\"2021-07-23\",\"2021-07-28\",\"2021-07-30\",\"2021-07-31\",\"2021-08-03\",\"2021-08-05\",\"2021-08-19\"],\"y\":[2,3,4,5,12,17,22,23,24,25,27,29,30,31,32,33,34,35,37,38,40,41,44,45,48,49,50,52,53,54,55,56,57,58,60,61,63,64,65,66]},{\"hovertemplate\":\"<i>Date</i>: %{x}<br>Downloads</i>: %{y}<br><br>%{text}</i>\",\"mode\":\"lines+markers\",\"text\":[\"Single cell transcriptional and chromatin accessibility profiling redefine cellular heterogeneity in the adult human kidney - RNAseq\",\"Single cell transcriptional and chromatin accessibility profiling redefine cellular heterogeneity in the adult human kidney - RNAseq\",\"Single cell transcriptional and chromatin accessibility profiling redefine cellular heterogeneity in the adult human kidney - RNAseq\",\"Single cell transcriptional and chromatin accessibility profiling redefine cellular heterogeneity in the adult human kidney - RNAseq\",\"Single cell transcriptional and chromatin accessibility profiling redefine cellular heterogeneity in the adult human kidney - RNAseq\",\"Single cell transcriptional and chromatin accessibility profiling redefine cellular heterogeneity in the adult human kidney - RNAseq\",\"Single cell transcriptional and chromatin accessibility profiling redefine cellular heterogeneity in the adult human kidney - RNAseq\",\"Single cell transcriptional and chromatin accessibility profiling redefine cellular heterogeneity in the adult human kidney - RNAseq\",\"Single cell transcriptional and chromatin accessibility profiling redefine cellular heterogeneity in the adult human kidney - RNAseq\",\"Single cell transcriptional and chromatin accessibility profiling redefine cellular heterogeneity in the adult human kidney - RNAseq\",\"Single cell transcriptional and chromatin accessibility profiling redefine cellular heterogeneity in the adult human kidney - RNAseq\",\"Single cell transcriptional and chromatin accessibility profiling redefine cellular heterogeneity in the adult human kidney - RNAseq\",\"Single cell transcriptional and chromatin accessibility profiling redefine cellular heterogeneity in the adult human kidney - RNAseq\",\"Single cell transcriptional and chromatin accessibility profiling redefine cellular heterogeneity in the adult human kidney - RNAseq\",\"Single cell transcriptional and chromatin accessibility profiling redefine cellular heterogeneity in the adult human kidney - RNAseq\",\"Single cell transcriptional and chromatin accessibility profiling redefine cellular heterogeneity in the adult human kidney - RNAseq\",\"Single cell transcriptional and chromatin accessibility profiling redefine cellular heterogeneity in the adult human kidney - RNAseq\",\"Single cell transcriptional and chromatin accessibility profiling redefine cellular heterogeneity in the adult human kidney - RNAseq\",\"Single cell transcriptional and chromatin accessibility profiling redefine cellular heterogeneity in the adult human kidney - RNAseq\",\"Single cell transcriptional and chromatin accessibility profiling redefine cellular heterogeneity in the adult human kidney - RNAseq\",\"Single cell transcriptional and chromatin accessibility profiling redefine cellular heterogeneity in the adult human kidney - RNAseq\",\"Single cell transcriptional and chromatin accessibility profiling redefine cellular heterogeneity in the adult human kidney - RNAseq\",\"Single cell transcriptional and chromatin accessibility profiling redefine cellular heterogeneity in the adult human kidney - RNAseq\",\"Single cell transcriptional and chromatin accessibility profiling redefine cellular heterogeneity in the adult human kidney - RNAseq\",\"Single cell transcriptional and chromatin accessibility profiling redefine cellular heterogeneity in the adult human kidney - RNAseq\",\"Single cell transcriptional and chromatin accessibility profiling redefine cellular heterogeneity in the adult human kidney - RNAseq\",\"Single cell transcriptional and chromatin accessibility profiling redefine cellular heterogeneity in the adult human kidney - RNAseq\",\"Single cell transcriptional and chromatin accessibility profiling redefine cellular heterogeneity in the adult human kidney - RNAseq\",\"Single cell transcriptional and chromatin accessibility profiling redefine cellular heterogeneity in the adult human kidney - RNAseq\",\"Single cell transcriptional and chromatin accessibility profiling redefine cellular heterogeneity in the adult human kidney - RNAseq\",\"Single cell transcriptional and chromatin accessibility profiling redefine cellular heterogeneity in the adult human kidney - RNAseq\",\"Single cell transcriptional and chromatin accessibility profiling redefine cellular heterogeneity in the adult human kidney - RNAseq\",\"Single cell transcriptional and chromatin accessibility profiling redefine cellular heterogeneity in the adult human kidney - RNAseq\",\"Single cell transcriptional and chromatin accessibility profiling redefine cellular heterogeneity in the adult human kidney - RNAseq\",\"Single cell transcriptional and chromatin accessibility profiling redefine cellular heterogeneity in the adult human kidney - RNAseq\",\"Single cell transcriptional and chromatin accessibility profiling redefine cellular heterogeneity in the adult human kidney - RNAseq\",\"Single cell transcriptional and chromatin accessibility profiling redefine cellular heterogeneity in the adult human kidney - RNAseq\",\"Single cell transcriptional and chromatin accessibility profiling redefine cellular heterogeneity in the adult human kidney - RNAseq\",\"Single cell transcriptional and chromatin accessibility profiling redefine cellular heterogeneity in the adult human kidney - RNAseq\",\"Single cell transcriptional and chromatin accessibility profiling redefine cellular heterogeneity in the adult human kidney - RNAseq\",\"Single cell transcriptional and chromatin accessibility profiling redefine cellular heterogeneity in the adult human kidney - RNAseq\",\"Single cell transcriptional and chromatin accessibility profiling redefine cellular heterogeneity in the adult human kidney - RNAseq\",\"Single cell transcriptional and chromatin accessibility profiling redefine cellular heterogeneity in the adult human kidney - RNAseq\"],\"type\":\"scatter\",\"x\":[\"2021-04-26\",\"2021-04-28\",\"2021-04-29\",\"2021-05-03\",\"2021-05-04\",\"2021-05-05\",\"2021-05-10\",\"2021-05-11\",\"2021-05-14\",\"2021-05-18\",\"2021-05-19\",\"2021-05-21\",\"2021-05-26\",\"2021-05-27\",\"2021-05-28\",\"2021-06-04\",\"2021-06-05\",\"2021-06-09\",\"2021-06-15\",\"2021-06-18\",\"2021-06-21\",\"2021-06-25\",\"2021-06-29\",\"2021-07-05\",\"2021-07-06\",\"2021-07-07\",\"2021-07-09\",\"2021-07-14\",\"2021-07-15\",\"2021-07-17\",\"2021-07-19\",\"2021-07-23\",\"2021-07-24\",\"2021-07-28\",\"2021-07-29\",\"2021-07-30\",\"2021-07-31\",\"2021-08-11\",\"2021-08-12\",\"2021-08-13\",\"2021-08-16\",\"2021-08-17\",\"2021-08-24\"],\"y\":[1,3,4,5,6,7,8,9,10,11,12,13,15,16,20,21,23,24,25,26,28,29,31,32,34,35,37,38,40,42,44,45,46,49,52,53,54,56,57,58,59,60,61]},{\"hovertemplate\":\"<i>Date</i>: %{x}<br>Downloads</i>: %{y}<br><br>%{text}</i>\",\"mode\":\"lines+markers\",\"text\":[\"Time-resolved Systems Immunology Reveals a Late Juncture Linked to Fatal COVID-19: Adaptive Cells\",\"Time-resolved Systems Immunology Reveals a Late Juncture Linked to Fatal COVID-19: Adaptive Cells\",\"Time-resolved Systems Immunology Reveals a Late Juncture Linked to Fatal COVID-19: Adaptive Cells\",\"Time-resolved Systems Immunology Reveals a Late Juncture Linked to Fatal COVID-19: Adaptive Cells\",\"Time-resolved Systems Immunology Reveals a Late Juncture Linked to Fatal COVID-19: Adaptive Cells\",\"Time-resolved Systems Immunology Reveals a Late Juncture Linked to Fatal COVID-19: Adaptive Cells\",\"Time-resolved Systems Immunology Reveals a Late Juncture Linked to Fatal COVID-19: Adaptive Cells\",\"Time-resolved Systems Immunology Reveals a Late Juncture Linked to Fatal COVID-19: Adaptive Cells\",\"Time-resolved Systems Immunology Reveals a Late Juncture Linked to Fatal COVID-19: Adaptive Cells\",\"Time-resolved Systems Immunology Reveals a Late Juncture Linked to Fatal COVID-19: Adaptive Cells\",\"Time-resolved Systems Immunology Reveals a Late Juncture Linked to Fatal COVID-19: Adaptive Cells\",\"Time-resolved Systems Immunology Reveals a Late Juncture Linked to Fatal COVID-19: Adaptive Cells\",\"Time-resolved Systems Immunology Reveals a Late Juncture Linked to Fatal COVID-19: Adaptive Cells\",\"Time-resolved Systems Immunology Reveals a Late Juncture Linked to Fatal COVID-19: Adaptive Cells\",\"Time-resolved Systems Immunology Reveals a Late Juncture Linked to Fatal COVID-19: Adaptive Cells\",\"Time-resolved Systems Immunology Reveals a Late Juncture Linked to Fatal COVID-19: Adaptive Cells\",\"Time-resolved Systems Immunology Reveals a Late Juncture Linked to Fatal COVID-19: Adaptive Cells\",\"Time-resolved Systems Immunology Reveals a Late Juncture Linked to Fatal COVID-19: Adaptive Cells\",\"Time-resolved Systems Immunology Reveals a Late Juncture Linked to Fatal COVID-19: Adaptive Cells\",\"Time-resolved Systems Immunology Reveals a Late Juncture Linked to Fatal COVID-19: Adaptive Cells\",\"Time-resolved Systems Immunology Reveals a Late Juncture Linked to Fatal COVID-19: Adaptive Cells\",\"Time-resolved Systems Immunology Reveals a Late Juncture Linked to Fatal COVID-19: Adaptive Cells\",\"Time-resolved Systems Immunology Reveals a Late Juncture Linked to Fatal COVID-19: Adaptive Cells\",\"Time-resolved Systems Immunology Reveals a Late Juncture Linked to Fatal COVID-19: Adaptive Cells\",\"Time-resolved Systems Immunology Reveals a Late Juncture Linked to Fatal COVID-19: Adaptive Cells\",\"Time-resolved Systems Immunology Reveals a Late Juncture Linked to Fatal COVID-19: Adaptive Cells\",\"Time-resolved Systems Immunology Reveals a Late Juncture Linked to Fatal COVID-19: Adaptive Cells\",\"Time-resolved Systems Immunology Reveals a Late Juncture Linked to Fatal COVID-19: Adaptive Cells\",\"Time-resolved Systems Immunology Reveals a Late Juncture Linked to Fatal COVID-19: Adaptive Cells\",\"Time-resolved Systems Immunology Reveals a Late Juncture Linked to Fatal COVID-19: Adaptive Cells\",\"Time-resolved Systems Immunology Reveals a Late Juncture Linked to Fatal COVID-19: Adaptive Cells\",\"Time-resolved Systems Immunology Reveals a Late Juncture Linked to Fatal COVID-19: Adaptive Cells\",\"Time-resolved Systems Immunology Reveals a Late Juncture Linked to Fatal COVID-19: Adaptive Cells\",\"Time-resolved Systems Immunology Reveals a Late Juncture Linked to Fatal COVID-19: Adaptive Cells\",\"Time-resolved Systems Immunology Reveals a Late Juncture Linked to Fatal COVID-19: Adaptive Cells\",\"Time-resolved Systems Immunology Reveals a Late Juncture Linked to Fatal COVID-19: Adaptive Cells\",\"Time-resolved Systems Immunology Reveals a Late Juncture Linked to Fatal COVID-19: Adaptive Cells\"],\"type\":\"scatter\",\"x\":[\"2021-04-23\",\"2021-04-24\",\"2021-04-27\",\"2021-04-28\",\"2021-05-05\",\"2021-05-13\",\"2021-05-19\",\"2021-05-22\",\"2021-05-23\",\"2021-05-28\",\"2021-06-01\",\"2021-06-04\",\"2021-06-05\",\"2021-06-08\",\"2021-06-10\",\"2021-06-11\",\"2021-06-15\",\"2021-06-18\",\"2021-06-21\",\"2021-06-23\",\"2021-06-24\",\"2021-06-30\",\"2021-07-01\",\"2021-07-07\",\"2021-07-09\",\"2021-07-12\",\"2021-07-13\",\"2021-07-14\",\"2021-07-18\",\"2021-07-23\",\"2021-07-29\",\"2021-07-30\",\"2021-08-07\",\"2021-08-13\",\"2021-08-19\",\"2021-08-21\",\"2021-08-25\"],\"y\":[1,2,4,6,7,8,9,10,11,12,15,16,17,18,23,24,26,27,32,33,34,35,38,40,42,43,45,47,48,49,50,51,52,53,54,55,56]},{\"hovertemplate\":\"<i>Date</i>: %{x}<br>Downloads</i>: %{y}<br><br>%{text}</i>\",\"mode\":\"lines+markers\",\"text\":[\"Krasnow Lab Human Lung Cell Atlas, 10X\",\"Krasnow Lab Human Lung Cell Atlas, 10X\",\"Krasnow Lab Human Lung Cell Atlas, 10X\",\"Krasnow Lab Human Lung Cell Atlas, 10X\",\"Krasnow Lab Human Lung Cell Atlas, 10X\",\"Krasnow Lab Human Lung Cell Atlas, 10X\",\"Krasnow Lab Human Lung Cell Atlas, 10X\",\"Krasnow Lab Human Lung Cell Atlas, 10X\",\"Krasnow Lab Human Lung Cell Atlas, 10X\",\"Krasnow Lab Human Lung Cell Atlas, 10X\",\"Krasnow Lab Human Lung Cell Atlas, 10X\",\"Krasnow Lab Human Lung Cell Atlas, 10X\",\"Krasnow Lab Human Lung Cell Atlas, 10X\",\"Krasnow Lab Human Lung Cell Atlas, 10X\",\"Krasnow Lab Human Lung Cell Atlas, 10X\",\"Krasnow Lab Human Lung Cell Atlas, 10X\",\"Krasnow Lab Human Lung Cell Atlas, 10X\",\"Krasnow Lab Human Lung Cell Atlas, 10X\",\"Krasnow Lab Human Lung Cell Atlas, 10X\",\"Krasnow Lab Human Lung Cell Atlas, 10X\",\"Krasnow Lab Human Lung Cell Atlas, 10X\",\"Krasnow Lab Human Lung Cell Atlas, 10X\",\"Krasnow Lab Human Lung Cell Atlas, 10X\",\"Krasnow Lab Human Lung Cell Atlas, 10X\",\"Krasnow Lab Human Lung Cell Atlas, 10X\",\"Krasnow Lab Human Lung Cell Atlas, 10X\",\"Krasnow Lab Human Lung Cell Atlas, 10X\",\"Krasnow Lab Human Lung Cell Atlas, 10X\",\"Krasnow Lab Human Lung Cell Atlas, 10X\",\"Krasnow Lab Human Lung Cell Atlas, 10X\",\"Krasnow Lab Human Lung Cell Atlas, 10X\",\"Krasnow Lab Human Lung Cell Atlas, 10X\",\"Krasnow Lab Human Lung Cell Atlas, 10X\",\"Krasnow Lab Human Lung Cell Atlas, 10X\",\"Krasnow Lab Human Lung Cell Atlas, 10X\",\"Krasnow Lab Human Lung Cell Atlas, 10X\",\"Krasnow Lab Human Lung Cell Atlas, 10X\",\"Krasnow Lab Human Lung Cell Atlas, 10X\",\"Krasnow Lab Human Lung Cell Atlas, 10X\",\"Krasnow Lab Human Lung Cell Atlas, 10X\",\"Krasnow Lab Human Lung Cell Atlas, 10X\",\"Krasnow Lab Human Lung Cell Atlas, 10X\",\"Krasnow Lab Human Lung Cell Atlas, 10X\"],\"type\":\"scatter\",\"x\":[\"2021-04-23\",\"2021-04-30\",\"2021-05-04\",\"2021-05-11\",\"2021-05-14\",\"2021-05-15\",\"2021-05-18\",\"2021-05-21\",\"2021-05-25\",\"2021-05-27\",\"2021-05-28\",\"2021-05-29\",\"2021-06-03\",\"2021-06-04\",\"2021-06-05\",\"2021-06-09\",\"2021-06-14\",\"2021-06-15\",\"2021-06-17\",\"2021-06-21\",\"2021-06-27\",\"2021-06-29\",\"2021-07-09\",\"2021-07-12\",\"2021-07-14\",\"2021-07-15\",\"2021-07-17\",\"2021-07-19\",\"2021-07-22\",\"2021-07-23\",\"2021-07-26\",\"2021-07-28\",\"2021-07-30\",\"2021-08-02\",\"2021-08-03\",\"2021-08-05\",\"2021-08-06\",\"2021-08-10\",\"2021-08-11\",\"2021-08-21\",\"2021-08-22\",\"2021-08-25\",\"2021-08-26\"],\"y\":[1,2,3,4,5,6,7,8,9,10,13,14,15,16,18,19,20,22,23,24,25,28,30,31,34,35,36,37,38,39,40,41,42,43,44,45,46,48,49,50,51,52,53]},{\"hovertemplate\":\"<i>Date</i>: %{x}<br>Downloads</i>: %{y}<br><br>%{text}</i>\",\"mode\":\"lines+markers\",\"text\":[\"Single cell transcriptional and chromatin accessibility profiling redefine cellular heterogeneity in the adult human kidney - ATACseq\",\"Single cell transcriptional and chromatin accessibility profiling redefine cellular heterogeneity in the adult human kidney - ATACseq\",\"Single cell transcriptional and chromatin accessibility profiling redefine cellular heterogeneity in the adult human kidney - ATACseq\",\"Single cell transcriptional and chromatin accessibility profiling redefine cellular heterogeneity in the adult human kidney - ATACseq\",\"Single cell transcriptional and chromatin accessibility profiling redefine cellular heterogeneity in the adult human kidney - ATACseq\",\"Single cell transcriptional and chromatin accessibility profiling redefine cellular heterogeneity in the adult human kidney - ATACseq\",\"Single cell transcriptional and chromatin accessibility profiling redefine cellular heterogeneity in the adult human kidney - ATACseq\",\"Single cell transcriptional and chromatin accessibility profiling redefine cellular heterogeneity in the adult human kidney - ATACseq\",\"Single cell transcriptional and chromatin accessibility profiling redefine cellular heterogeneity in the adult human kidney - ATACseq\",\"Single cell transcriptional and chromatin accessibility profiling redefine cellular heterogeneity in the adult human kidney - ATACseq\",\"Single cell transcriptional and chromatin accessibility profiling redefine cellular heterogeneity in the adult human kidney - ATACseq\",\"Single cell transcriptional and chromatin accessibility profiling redefine cellular heterogeneity in the adult human kidney - ATACseq\",\"Single cell transcriptional and chromatin accessibility profiling redefine cellular heterogeneity in the adult human kidney - ATACseq\",\"Single cell transcriptional and chromatin accessibility profiling redefine cellular heterogeneity in the adult human kidney - ATACseq\",\"Single cell transcriptional and chromatin accessibility profiling redefine cellular heterogeneity in the adult human kidney - ATACseq\",\"Single cell transcriptional and chromatin accessibility profiling redefine cellular heterogeneity in the adult human kidney - ATACseq\",\"Single cell transcriptional and chromatin accessibility profiling redefine cellular heterogeneity in the adult human kidney - ATACseq\",\"Single cell transcriptional and chromatin accessibility profiling redefine cellular heterogeneity in the adult human kidney - ATACseq\",\"Single cell transcriptional and chromatin accessibility profiling redefine cellular heterogeneity in the adult human kidney - ATACseq\",\"Single cell transcriptional and chromatin accessibility profiling redefine cellular heterogeneity in the adult human kidney - ATACseq\",\"Single cell transcriptional and chromatin accessibility profiling redefine cellular heterogeneity in the adult human kidney - ATACseq\",\"Single cell transcriptional and chromatin accessibility profiling redefine cellular heterogeneity in the adult human kidney - ATACseq\",\"Single cell transcriptional and chromatin accessibility profiling redefine cellular heterogeneity in the adult human kidney - ATACseq\",\"Single cell transcriptional and chromatin accessibility profiling redefine cellular heterogeneity in the adult human kidney - ATACseq\",\"Single cell transcriptional and chromatin accessibility profiling redefine cellular heterogeneity in the adult human kidney - ATACseq\",\"Single cell transcriptional and chromatin accessibility profiling redefine cellular heterogeneity in the adult human kidney - ATACseq\",\"Single cell transcriptional and chromatin accessibility profiling redefine cellular heterogeneity in the adult human kidney - ATACseq\",\"Single cell transcriptional and chromatin accessibility profiling redefine cellular heterogeneity in the adult human kidney - ATACseq\",\"Single cell transcriptional and chromatin accessibility profiling redefine cellular heterogeneity in the adult human kidney - ATACseq\",\"Single cell transcriptional and chromatin accessibility profiling redefine cellular heterogeneity in the adult human kidney - ATACseq\",\"Single cell transcriptional and chromatin accessibility profiling redefine cellular heterogeneity in the adult human kidney - ATACseq\",\"Single cell transcriptional and chromatin accessibility profiling redefine cellular heterogeneity in the adult human kidney - ATACseq\",\"Single cell transcriptional and chromatin accessibility profiling redefine cellular heterogeneity in the adult human kidney - ATACseq\",\"Single cell transcriptional and chromatin accessibility profiling redefine cellular heterogeneity in the adult human kidney - ATACseq\",\"Single cell transcriptional and chromatin accessibility profiling redefine cellular heterogeneity in the adult human kidney - ATACseq\",\"Single cell transcriptional and chromatin accessibility profiling redefine cellular heterogeneity in the adult human kidney - ATACseq\"],\"type\":\"scatter\",\"x\":[\"2021-04-29\",\"2021-05-03\",\"2021-05-04\",\"2021-05-06\",\"2021-05-14\",\"2021-05-18\",\"2021-05-19\",\"2021-05-24\",\"2021-05-26\",\"2021-05-27\",\"2021-05-28\",\"2021-06-04\",\"2021-06-05\",\"2021-06-07\",\"2021-06-09\",\"2021-06-12\",\"2021-06-15\",\"2021-06-18\",\"2021-06-25\",\"2021-07-05\",\"2021-07-06\",\"2021-07-09\",\"2021-07-14\",\"2021-07-15\",\"2021-07-16\",\"2021-07-17\",\"2021-07-19\",\"2021-07-23\",\"2021-07-26\",\"2021-07-28\",\"2021-07-30\",\"2021-08-09\",\"2021-08-11\",\"2021-08-12\",\"2021-08-13\",\"2021-08-24\"],\"y\":[1,2,4,5,6,7,8,10,11,12,15,16,18,19,20,22,23,24,25,26,28,30,31,33,34,36,38,39,40,41,42,43,44,46,47,48]},{\"hovertemplate\":\"<i>Date</i>: %{x}<br>Downloads</i>: %{y}<br><br>%{text}</i>\",\"mode\":\"lines+markers\",\"text\":[\"Tabula Sapiens - Endothelial\",\"Tabula Sapiens - Endothelial\",\"Tabula Sapiens - Endothelial\",\"Tabula Sapiens - Endothelial\",\"Tabula Sapiens - Endothelial\",\"Tabula Sapiens - Endothelial\",\"Tabula Sapiens - Endothelial\",\"Tabula Sapiens - Endothelial\",\"Tabula Sapiens - Endothelial\",\"Tabula Sapiens - Endothelial\",\"Tabula Sapiens - Endothelial\",\"Tabula Sapiens - Endothelial\",\"Tabula Sapiens - Endothelial\",\"Tabula Sapiens - Endothelial\",\"Tabula Sapiens - Endothelial\"],\"type\":\"scatter\",\"x\":[\"2021-07-20\",\"2021-07-22\",\"2021-07-23\",\"2021-07-26\",\"2021-07-28\",\"2021-07-30\",\"2021-08-02\",\"2021-08-04\",\"2021-08-05\",\"2021-08-11\",\"2021-08-15\",\"2021-08-21\",\"2021-08-22\",\"2021-08-23\",\"2021-08-24\"],\"y\":[1,2,4,5,6,8,9,10,11,12,13,20,30,41,42]},{\"hovertemplate\":\"<i>Date</i>: %{x}<br>Downloads</i>: %{y}<br><br>%{text}</i>\",\"mode\":\"lines+markers\",\"text\":[\"Single-cell RNA-Seq Investigation of Foveal and Peripheral Expression in the Human Retina\",\"Single-cell RNA-Seq Investigation of Foveal and Peripheral Expression in the Human Retina\",\"Single-cell RNA-Seq Investigation of Foveal and Peripheral Expression in the Human Retina\",\"Single-cell RNA-Seq Investigation of Foveal and Peripheral Expression in the Human Retina\",\"Single-cell RNA-Seq Investigation of Foveal and Peripheral Expression in the Human Retina\",\"Single-cell RNA-Seq Investigation of Foveal and Peripheral Expression in the Human Retina\",\"Single-cell RNA-Seq Investigation of Foveal and Peripheral Expression in the Human Retina\",\"Single-cell RNA-Seq Investigation of Foveal and Peripheral Expression in the Human Retina\",\"Single-cell RNA-Seq Investigation of Foveal and Peripheral Expression in the Human Retina\",\"Single-cell RNA-Seq Investigation of Foveal and Peripheral Expression in the Human Retina\",\"Single-cell RNA-Seq Investigation of Foveal and Peripheral Expression in the Human Retina\",\"Single-cell RNA-Seq Investigation of Foveal and Peripheral Expression in the Human Retina\",\"Single-cell RNA-Seq Investigation of Foveal and Peripheral Expression in the Human Retina\",\"Single-cell RNA-Seq Investigation of Foveal and Peripheral Expression in the Human Retina\",\"Single-cell RNA-Seq Investigation of Foveal and Peripheral Expression in the Human Retina\",\"Single-cell RNA-Seq Investigation of Foveal and Peripheral Expression in the Human Retina\",\"Single-cell RNA-Seq Investigation of Foveal and Peripheral Expression in the Human Retina\",\"Single-cell RNA-Seq Investigation of Foveal and Peripheral Expression in the Human Retina\",\"Single-cell RNA-Seq Investigation of Foveal and Peripheral Expression in the Human Retina\",\"Single-cell RNA-Seq Investigation of Foveal and Peripheral Expression in the Human Retina\",\"Single-cell RNA-Seq Investigation of Foveal and Peripheral Expression in the Human Retina\",\"Single-cell RNA-Seq Investigation of Foveal and Peripheral Expression in the Human Retina\",\"Single-cell RNA-Seq Investigation of Foveal and Peripheral Expression in the Human Retina\",\"Single-cell RNA-Seq Investigation of Foveal and Peripheral Expression in the Human Retina\",\"Single-cell RNA-Seq Investigation of Foveal and Peripheral Expression in the Human Retina\",\"Single-cell RNA-Seq Investigation of Foveal and Peripheral Expression in the Human Retina\",\"Single-cell RNA-Seq Investigation of Foveal and Peripheral Expression in the Human Retina\",\"Single-cell RNA-Seq Investigation of Foveal and Peripheral Expression in the Human Retina\"],\"type\":\"scatter\",\"x\":[\"2021-04-24\",\"2021-04-28\",\"2021-04-29\",\"2021-05-02\",\"2021-05-03\",\"2021-05-05\",\"2021-05-19\",\"2021-05-20\",\"2021-05-26\",\"2021-05-28\",\"2021-06-06\",\"2021-06-10\",\"2021-06-15\",\"2021-06-17\",\"2021-06-25\",\"2021-06-28\",\"2021-07-05\",\"2021-07-07\",\"2021-07-09\",\"2021-07-12\",\"2021-07-14\",\"2021-07-18\",\"2021-07-20\",\"2021-07-21\",\"2021-07-22\",\"2021-07-23\",\"2021-07-30\",\"2021-08-21\"],\"y\":[3,4,5,7,8,9,10,11,12,15,16,17,18,19,20,22,23,24,27,28,30,31,32,33,34,35,36,37]},{\"hovertemplate\":\"<i>Date</i>: %{x}<br>Downloads</i>: %{y}<br><br>%{text}</i>\",\"mode\":\"lines+markers\",\"text\":[\"Tabula Sapiens - All Cells\",\"Tabula Sapiens - All Cells\",\"Tabula Sapiens - All Cells\",\"Tabula Sapiens - All Cells\",\"Tabula Sapiens - All Cells\",\"Tabula Sapiens - All Cells\",\"Tabula Sapiens - All Cells\",\"Tabula Sapiens - All Cells\",\"Tabula Sapiens - All Cells\",\"Tabula Sapiens - All Cells\",\"Tabula Sapiens - All Cells\",\"Tabula Sapiens - All Cells\",\"Tabula Sapiens - All Cells\",\"Tabula Sapiens - All Cells\",\"Tabula Sapiens - All Cells\",\"Tabula Sapiens - All Cells\",\"Tabula Sapiens - All Cells\"],\"type\":\"scatter\",\"x\":[\"2021-07-19\",\"2021-07-20\",\"2021-07-21\",\"2021-07-22\",\"2021-07-23\",\"2021-07-26\",\"2021-07-27\",\"2021-07-28\",\"2021-07-30\",\"2021-08-02\",\"2021-08-03\",\"2021-08-04\",\"2021-08-10\",\"2021-08-11\",\"2021-08-13\",\"2021-08-22\",\"2021-08-26\"],\"y\":[1,2,3,6,10,12,13,16,19,21,24,28,29,30,34,35,36]},{\"hovertemplate\":\"<i>Date</i>: %{x}<br>Downloads</i>: %{y}<br><br>%{text}</i>\",\"mode\":\"lines+markers\",\"text\":[\"A Single-Cell Transcriptome Atlas of the Human Pancreas\",\"A Single-Cell Transcriptome Atlas of the Human Pancreas\",\"A Single-Cell Transcriptome Atlas of the Human Pancreas\",\"A Single-Cell Transcriptome Atlas of the Human Pancreas\",\"A Single-Cell Transcriptome Atlas of the Human Pancreas\",\"A Single-Cell Transcriptome Atlas of the Human Pancreas\",\"A Single-Cell Transcriptome Atlas of the Human Pancreas\",\"A Single-Cell Transcriptome Atlas of the Human Pancreas\",\"A Single-Cell Transcriptome Atlas of the Human Pancreas\",\"A Single-Cell Transcriptome Atlas of the Human Pancreas\",\"A Single-Cell Transcriptome Atlas of the Human Pancreas\",\"A Single-Cell Transcriptome Atlas of the Human Pancreas\",\"A Single-Cell Transcriptome Atlas of the Human Pancreas\",\"A Single-Cell Transcriptome Atlas of the Human Pancreas\",\"A Single-Cell Transcriptome Atlas of the Human Pancreas\",\"A Single-Cell Transcriptome Atlas of the Human Pancreas\",\"A Single-Cell Transcriptome Atlas of the Human Pancreas\",\"A Single-Cell Transcriptome Atlas of the Human Pancreas\",\"A Single-Cell Transcriptome Atlas of the Human Pancreas\",\"A Single-Cell Transcriptome Atlas of the Human Pancreas\",\"A Single-Cell Transcriptome Atlas of the Human Pancreas\",\"A Single-Cell Transcriptome Atlas of the Human Pancreas\",\"A Single-Cell Transcriptome Atlas of the Human Pancreas\",\"A Single-Cell Transcriptome Atlas of the Human Pancreas\"],\"type\":\"scatter\",\"x\":[\"2021-05-05\",\"2021-05-13\",\"2021-05-20\",\"2021-05-24\",\"2021-05-25\",\"2021-05-26\",\"2021-05-28\",\"2021-06-03\",\"2021-06-04\",\"2021-06-05\",\"2021-06-09\",\"2021-06-14\",\"2021-06-15\",\"2021-06-17\",\"2021-07-07\",\"2021-07-09\",\"2021-07-12\",\"2021-07-14\",\"2021-07-16\",\"2021-07-17\",\"2021-07-23\",\"2021-07-29\",\"2021-07-30\",\"2021-08-06\"],\"y\":[1,2,3,4,7,8,12,13,14,18,19,20,21,22,23,25,26,29,30,31,32,33,34,35]}],                        {\"showlegend\":false,\"template\":{\"data\":{\"bar\":[{\"error_x\":{\"color\":\"#2a3f5f\"},\"error_y\":{\"color\":\"#2a3f5f\"},\"marker\":{\"line\":{\"color\":\"#E5ECF6\",\"width\":0.5},\"pattern\":{\"fillmode\":\"overlay\",\"size\":10,\"solidity\":0.2}},\"type\":\"bar\"}],\"barpolar\":[{\"marker\":{\"line\":{\"color\":\"#E5ECF6\",\"width\":0.5},\"pattern\":{\"fillmode\":\"overlay\",\"size\":10,\"solidity\":0.2}},\"type\":\"barpolar\"}],\"carpet\":[{\"aaxis\":{\"endlinecolor\":\"#2a3f5f\",\"gridcolor\":\"white\",\"linecolor\":\"white\",\"minorgridcolor\":\"white\",\"startlinecolor\":\"#2a3f5f\"},\"baxis\":{\"endlinecolor\":\"#2a3f5f\",\"gridcolor\":\"white\",\"linecolor\":\"white\",\"minorgridcolor\":\"white\",\"startlinecolor\":\"#2a3f5f\"},\"type\":\"carpet\"}],\"choropleth\":[{\"colorbar\":{\"outlinewidth\":0,\"ticks\":\"\"},\"type\":\"choropleth\"}],\"contour\":[{\"colorbar\":{\"outlinewidth\":0,\"ticks\":\"\"},\"colorscale\":[[0.0,\"#0d0887\"],[0.1111111111111111,\"#46039f\"],[0.2222222222222222,\"#7201a8\"],[0.3333333333333333,\"#9c179e\"],[0.4444444444444444,\"#bd3786\"],[0.5555555555555556,\"#d8576b\"],[0.6666666666666666,\"#ed7953\"],[0.7777777777777778,\"#fb9f3a\"],[0.8888888888888888,\"#fdca26\"],[1.0,\"#f0f921\"]],\"type\":\"contour\"}],\"contourcarpet\":[{\"colorbar\":{\"outlinewidth\":0,\"ticks\":\"\"},\"type\":\"contourcarpet\"}],\"heatmap\":[{\"colorbar\":{\"outlinewidth\":0,\"ticks\":\"\"},\"colorscale\":[[0.0,\"#0d0887\"],[0.1111111111111111,\"#46039f\"],[0.2222222222222222,\"#7201a8\"],[0.3333333333333333,\"#9c179e\"],[0.4444444444444444,\"#bd3786\"],[0.5555555555555556,\"#d8576b\"],[0.6666666666666666,\"#ed7953\"],[0.7777777777777778,\"#fb9f3a\"],[0.8888888888888888,\"#fdca26\"],[1.0,\"#f0f921\"]],\"type\":\"heatmap\"}],\"heatmapgl\":[{\"colorbar\":{\"outlinewidth\":0,\"ticks\":\"\"},\"colorscale\":[[0.0,\"#0d0887\"],[0.1111111111111111,\"#46039f\"],[0.2222222222222222,\"#7201a8\"],[0.3333333333333333,\"#9c179e\"],[0.4444444444444444,\"#bd3786\"],[0.5555555555555556,\"#d8576b\"],[0.6666666666666666,\"#ed7953\"],[0.7777777777777778,\"#fb9f3a\"],[0.8888888888888888,\"#fdca26\"],[1.0,\"#f0f921\"]],\"type\":\"heatmapgl\"}],\"histogram\":[{\"marker\":{\"pattern\":{\"fillmode\":\"overlay\",\"size\":10,\"solidity\":0.2}},\"type\":\"histogram\"}],\"histogram2d\":[{\"colorbar\":{\"outlinewidth\":0,\"ticks\":\"\"},\"colorscale\":[[0.0,\"#0d0887\"],[0.1111111111111111,\"#46039f\"],[0.2222222222222222,\"#7201a8\"],[0.3333333333333333,\"#9c179e\"],[0.4444444444444444,\"#bd3786\"],[0.5555555555555556,\"#d8576b\"],[0.6666666666666666,\"#ed7953\"],[0.7777777777777778,\"#fb9f3a\"],[0.8888888888888888,\"#fdca26\"],[1.0,\"#f0f921\"]],\"type\":\"histogram2d\"}],\"histogram2dcontour\":[{\"colorbar\":{\"outlinewidth\":0,\"ticks\":\"\"},\"colorscale\":[[0.0,\"#0d0887\"],[0.1111111111111111,\"#46039f\"],[0.2222222222222222,\"#7201a8\"],[0.3333333333333333,\"#9c179e\"],[0.4444444444444444,\"#bd3786\"],[0.5555555555555556,\"#d8576b\"],[0.6666666666666666,\"#ed7953\"],[0.7777777777777778,\"#fb9f3a\"],[0.8888888888888888,\"#fdca26\"],[1.0,\"#f0f921\"]],\"type\":\"histogram2dcontour\"}],\"mesh3d\":[{\"colorbar\":{\"outlinewidth\":0,\"ticks\":\"\"},\"type\":\"mesh3d\"}],\"parcoords\":[{\"line\":{\"colorbar\":{\"outlinewidth\":0,\"ticks\":\"\"}},\"type\":\"parcoords\"}],\"pie\":[{\"automargin\":true,\"type\":\"pie\"}],\"scatter\":[{\"marker\":{\"colorbar\":{\"outlinewidth\":0,\"ticks\":\"\"}},\"type\":\"scatter\"}],\"scatter3d\":[{\"line\":{\"colorbar\":{\"outlinewidth\":0,\"ticks\":\"\"}},\"marker\":{\"colorbar\":{\"outlinewidth\":0,\"ticks\":\"\"}},\"type\":\"scatter3d\"}],\"scattercarpet\":[{\"marker\":{\"colorbar\":{\"outlinewidth\":0,\"ticks\":\"\"}},\"type\":\"scattercarpet\"}],\"scattergeo\":[{\"marker\":{\"colorbar\":{\"outlinewidth\":0,\"ticks\":\"\"}},\"type\":\"scattergeo\"}],\"scattergl\":[{\"marker\":{\"colorbar\":{\"outlinewidth\":0,\"ticks\":\"\"}},\"type\":\"scattergl\"}],\"scattermapbox\":[{\"marker\":{\"colorbar\":{\"outlinewidth\":0,\"ticks\":\"\"}},\"type\":\"scattermapbox\"}],\"scatterpolar\":[{\"marker\":{\"colorbar\":{\"outlinewidth\":0,\"ticks\":\"\"}},\"type\":\"scatterpolar\"}],\"scatterpolargl\":[{\"marker\":{\"colorbar\":{\"outlinewidth\":0,\"ticks\":\"\"}},\"type\":\"scatterpolargl\"}],\"scatterternary\":[{\"marker\":{\"colorbar\":{\"outlinewidth\":0,\"ticks\":\"\"}},\"type\":\"scatterternary\"}],\"surface\":[{\"colorbar\":{\"outlinewidth\":0,\"ticks\":\"\"},\"colorscale\":[[0.0,\"#0d0887\"],[0.1111111111111111,\"#46039f\"],[0.2222222222222222,\"#7201a8\"],[0.3333333333333333,\"#9c179e\"],[0.4444444444444444,\"#bd3786\"],[0.5555555555555556,\"#d8576b\"],[0.6666666666666666,\"#ed7953\"],[0.7777777777777778,\"#fb9f3a\"],[0.8888888888888888,\"#fdca26\"],[1.0,\"#f0f921\"]],\"type\":\"surface\"}],\"table\":[{\"cells\":{\"fill\":{\"color\":\"#EBF0F8\"},\"line\":{\"color\":\"white\"}},\"header\":{\"fill\":{\"color\":\"#C8D4E3\"},\"line\":{\"color\":\"white\"}},\"type\":\"table\"}]},\"layout\":{\"annotationdefaults\":{\"arrowcolor\":\"#2a3f5f\",\"arrowhead\":0,\"arrowwidth\":1},\"autotypenumbers\":\"strict\",\"coloraxis\":{\"colorbar\":{\"outlinewidth\":0,\"ticks\":\"\"}},\"colorscale\":{\"diverging\":[[0,\"#8e0152\"],[0.1,\"#c51b7d\"],[0.2,\"#de77ae\"],[0.3,\"#f1b6da\"],[0.4,\"#fde0ef\"],[0.5,\"#f7f7f7\"],[0.6,\"#e6f5d0\"],[0.7,\"#b8e186\"],[0.8,\"#7fbc41\"],[0.9,\"#4d9221\"],[1,\"#276419\"]],\"sequential\":[[0.0,\"#0d0887\"],[0.1111111111111111,\"#46039f\"],[0.2222222222222222,\"#7201a8\"],[0.3333333333333333,\"#9c179e\"],[0.4444444444444444,\"#bd3786\"],[0.5555555555555556,\"#d8576b\"],[0.6666666666666666,\"#ed7953\"],[0.7777777777777778,\"#fb9f3a\"],[0.8888888888888888,\"#fdca26\"],[1.0,\"#f0f921\"]],\"sequentialminus\":[[0.0,\"#0d0887\"],[0.1111111111111111,\"#46039f\"],[0.2222222222222222,\"#7201a8\"],[0.3333333333333333,\"#9c179e\"],[0.4444444444444444,\"#bd3786\"],[0.5555555555555556,\"#d8576b\"],[0.6666666666666666,\"#ed7953\"],[0.7777777777777778,\"#fb9f3a\"],[0.8888888888888888,\"#fdca26\"],[1.0,\"#f0f921\"]]},\"colorway\":[\"#636efa\",\"#EF553B\",\"#00cc96\",\"#ab63fa\",\"#FFA15A\",\"#19d3f3\",\"#FF6692\",\"#B6E880\",\"#FF97FF\",\"#FECB52\"],\"font\":{\"color\":\"#2a3f5f\"},\"geo\":{\"bgcolor\":\"white\",\"lakecolor\":\"white\",\"landcolor\":\"#E5ECF6\",\"showlakes\":true,\"showland\":true,\"subunitcolor\":\"white\"},\"hoverlabel\":{\"align\":\"left\"},\"hovermode\":\"closest\",\"mapbox\":{\"style\":\"light\"},\"paper_bgcolor\":\"white\",\"plot_bgcolor\":\"#E5ECF6\",\"polar\":{\"angularaxis\":{\"gridcolor\":\"white\",\"linecolor\":\"white\",\"ticks\":\"\"},\"bgcolor\":\"#E5ECF6\",\"radialaxis\":{\"gridcolor\":\"white\",\"linecolor\":\"white\",\"ticks\":\"\"}},\"scene\":{\"xaxis\":{\"backgroundcolor\":\"#E5ECF6\",\"gridcolor\":\"white\",\"gridwidth\":2,\"linecolor\":\"white\",\"showbackground\":true,\"ticks\":\"\",\"zerolinecolor\":\"white\"},\"yaxis\":{\"backgroundcolor\":\"#E5ECF6\",\"gridcolor\":\"white\",\"gridwidth\":2,\"linecolor\":\"white\",\"showbackground\":true,\"ticks\":\"\",\"zerolinecolor\":\"white\"},\"zaxis\":{\"backgroundcolor\":\"#E5ECF6\",\"gridcolor\":\"white\",\"gridwidth\":2,\"linecolor\":\"white\",\"showbackground\":true,\"ticks\":\"\",\"zerolinecolor\":\"white\"}},\"shapedefaults\":{\"line\":{\"color\":\"#2a3f5f\"}},\"ternary\":{\"aaxis\":{\"gridcolor\":\"white\",\"linecolor\":\"white\",\"ticks\":\"\"},\"baxis\":{\"gridcolor\":\"white\",\"linecolor\":\"white\",\"ticks\":\"\"},\"bgcolor\":\"#E5ECF6\",\"caxis\":{\"gridcolor\":\"white\",\"linecolor\":\"white\",\"ticks\":\"\"}},\"title\":{\"x\":0.05},\"xaxis\":{\"automargin\":true,\"gridcolor\":\"white\",\"linecolor\":\"white\",\"ticks\":\"\",\"title\":{\"standoff\":15},\"zerolinecolor\":\"white\",\"zerolinewidth\":2},\"yaxis\":{\"automargin\":true,\"gridcolor\":\"white\",\"linecolor\":\"white\",\"ticks\":\"\",\"title\":{\"standoff\":15},\"zerolinecolor\":\"white\",\"zerolinewidth\":2}}},\"title\":{\"text\":\"Trends of top 10 actively downloaded datasets (cumulative) - raw downloads\"},\"xaxis\":{\"title\":{\"text\":\"date\"}},\"yaxis\":{\"title\":{\"text\":\"number of downloads\"}}},                        {\"responsive\": true}                    ).then(function(){\n",
       "                            \n",
       "var gd = document.getElementById('e57b60a3-39be-48e7-bc36-cb25b99f38a6');\n",
       "var x = new MutationObserver(function (mutations, observer) {{\n",
       "        var display = window.getComputedStyle(gd).display;\n",
       "        if (!display || display === 'none') {{\n",
       "            console.log([gd, 'removed!']);\n",
       "            Plotly.purge(gd);\n",
       "            observer.disconnect();\n",
       "        }}\n",
       "}});\n",
       "\n",
       "// Listen for the removal of the full notebook cells\n",
       "var notebookContainer = gd.closest('#notebook-container');\n",
       "if (notebookContainer) {{\n",
       "    x.observe(notebookContainer, {childList: true});\n",
       "}}\n",
       "\n",
       "// Listen for the clearing of the current output cell\n",
       "var outputEl = gd.closest('.output');\n",
       "if (outputEl) {{\n",
       "    x.observe(outputEl, {childList: true});\n",
       "}}\n",
       "\n",
       "                        })                };                });            </script>        </div>"
      ]
     },
     "metadata": {},
     "output_type": "display_data"
    }
   ],
   "source": [
    "top10_raw = top_ds_raw[0:10]\n",
    "active_raw_ids = top10_raw['dataset_id'].tolist()\n",
    "active_raw_names = top10_raw['dataset_name'].tolist()\n",
    "\n",
    "dataset_download_trends(active_raw_ids, active_raw_names, 'Trends of top 10 actively downloaded datasets (cumulative) - raw downloads')\n"
   ]
  },
  {
   "cell_type": "markdown",
   "id": "b42ba38d",
   "metadata": {
    "extensions": {
     "jupyter_dashboards": {
      "version": 1,
      "views": {
       "grid_default": {},
       "report_default": {
        "hidden": false
       }
      }
     }
    }
   },
   "source": [
    "##### Moderately downloaded"
   ]
  },
  {
   "cell_type": "code",
   "execution_count": 197,
   "id": "6f5d2762",
   "metadata": {
    "extensions": {
     "jupyter_dashboards": {
      "version": 1,
      "views": {
       "grid_default": {},
       "report_default": {
        "hidden": false
       }
      }
     }
    }
   },
   "outputs": [
    {
     "data": {
      "application/vnd.plotly.v1+json": {
       "config": {
        "plotlyServerURL": "https://plot.ly"
       },
       "data": [
        {
         "hovertemplate": "<i>Date</i>: %{x}<br>Downloads</i>: %{y}<br><br>%{text}</i>",
         "mode": "lines+markers",
         "text": [
          "Infiltrating Neoplastic Cells Human Glioblastoma",
          "Infiltrating Neoplastic Cells Human Glioblastoma",
          "Infiltrating Neoplastic Cells Human Glioblastoma",
          "Infiltrating Neoplastic Cells Human Glioblastoma",
          "Infiltrating Neoplastic Cells Human Glioblastoma",
          "Infiltrating Neoplastic Cells Human Glioblastoma",
          "Infiltrating Neoplastic Cells Human Glioblastoma",
          "Infiltrating Neoplastic Cells Human Glioblastoma",
          "Infiltrating Neoplastic Cells Human Glioblastoma",
          "Infiltrating Neoplastic Cells Human Glioblastoma",
          "Infiltrating Neoplastic Cells Human Glioblastoma",
          "Infiltrating Neoplastic Cells Human Glioblastoma",
          "Infiltrating Neoplastic Cells Human Glioblastoma",
          "Infiltrating Neoplastic Cells Human Glioblastoma",
          "Infiltrating Neoplastic Cells Human Glioblastoma",
          "Infiltrating Neoplastic Cells Human Glioblastoma",
          "Infiltrating Neoplastic Cells Human Glioblastoma",
          "Infiltrating Neoplastic Cells Human Glioblastoma",
          "Infiltrating Neoplastic Cells Human Glioblastoma",
          "Infiltrating Neoplastic Cells Human Glioblastoma",
          "Infiltrating Neoplastic Cells Human Glioblastoma",
          "Infiltrating Neoplastic Cells Human Glioblastoma"
         ],
         "type": "scatter",
         "x": [
          "2021-04-28",
          "2021-04-30",
          "2021-05-05",
          "2021-05-28",
          "2021-06-03",
          "2021-06-05",
          "2021-06-10",
          "2021-06-15",
          "2021-06-18",
          "2021-06-21",
          "2021-06-25",
          "2021-06-28",
          "2021-07-18",
          "2021-08-02",
          "2021-08-03",
          "2021-08-05",
          "2021-08-07",
          "2021-08-16",
          "2021-08-17",
          "2021-08-18",
          "2021-08-19",
          "2021-08-26"
         ],
         "y": [
          1,
          2,
          3,
          4,
          5,
          6,
          7,
          8,
          9,
          10,
          11,
          12,
          13,
          15,
          16,
          17,
          18,
          19,
          20,
          21,
          23,
          24
         ]
        },
        {
         "hovertemplate": "<i>Date</i>: %{x}<br>Downloads</i>: %{y}<br><br>%{text}</i>",
         "mode": "lines+markers",
         "text": [
          "Single-cell transcriptomics of human T cells reveals tissue and activation signatures in health and disease",
          "Single-cell transcriptomics of human T cells reveals tissue and activation signatures in health and disease",
          "Single-cell transcriptomics of human T cells reveals tissue and activation signatures in health and disease",
          "Single-cell transcriptomics of human T cells reveals tissue and activation signatures in health and disease",
          "Single-cell transcriptomics of human T cells reveals tissue and activation signatures in health and disease",
          "Single-cell transcriptomics of human T cells reveals tissue and activation signatures in health and disease",
          "Single-cell transcriptomics of human T cells reveals tissue and activation signatures in health and disease",
          "Single-cell transcriptomics of human T cells reveals tissue and activation signatures in health and disease",
          "Single-cell transcriptomics of human T cells reveals tissue and activation signatures in health and disease",
          "Single-cell transcriptomics of human T cells reveals tissue and activation signatures in health and disease",
          "Single-cell transcriptomics of human T cells reveals tissue and activation signatures in health and disease",
          "Single-cell transcriptomics of human T cells reveals tissue and activation signatures in health and disease",
          "Single-cell transcriptomics of human T cells reveals tissue and activation signatures in health and disease",
          "Single-cell transcriptomics of human T cells reveals tissue and activation signatures in health and disease",
          "Single-cell transcriptomics of human T cells reveals tissue and activation signatures in health and disease",
          "Single-cell transcriptomics of human T cells reveals tissue and activation signatures in health and disease",
          "Single-cell transcriptomics of human T cells reveals tissue and activation signatures in health and disease",
          "Single-cell transcriptomics of human T cells reveals tissue and activation signatures in health and disease"
         ],
         "type": "scatter",
         "x": [
          "2021-05-01",
          "2021-05-05",
          "2021-05-13",
          "2021-05-18",
          "2021-05-28",
          "2021-06-04",
          "2021-06-05",
          "2021-06-09",
          "2021-06-15",
          "2021-06-17",
          "2021-06-25",
          "2021-06-28",
          "2021-06-29",
          "2021-07-09",
          "2021-07-14",
          "2021-07-17",
          "2021-07-23",
          "2021-07-30"
         ],
         "y": [
          1,
          2,
          3,
          4,
          7,
          8,
          10,
          11,
          13,
          14,
          16,
          17,
          18,
          20,
          21,
          22,
          23,
          24
         ]
        },
        {
         "hovertemplate": "<i>Date</i>: %{x}<br>Downloads</i>: %{y}<br><br>%{text}</i>",
         "mode": "lines+markers",
         "text": [
          "A Single-Cell Transcriptional Roadmap of the Mouse and Human Lymph Node Lymphatic Vasculature",
          "A Single-Cell Transcriptional Roadmap of the Mouse and Human Lymph Node Lymphatic Vasculature",
          "A Single-Cell Transcriptional Roadmap of the Mouse and Human Lymph Node Lymphatic Vasculature",
          "A Single-Cell Transcriptional Roadmap of the Mouse and Human Lymph Node Lymphatic Vasculature",
          "A Single-Cell Transcriptional Roadmap of the Mouse and Human Lymph Node Lymphatic Vasculature",
          "A Single-Cell Transcriptional Roadmap of the Mouse and Human Lymph Node Lymphatic Vasculature",
          "A Single-Cell Transcriptional Roadmap of the Mouse and Human Lymph Node Lymphatic Vasculature",
          "A Single-Cell Transcriptional Roadmap of the Mouse and Human Lymph Node Lymphatic Vasculature",
          "A Single-Cell Transcriptional Roadmap of the Mouse and Human Lymph Node Lymphatic Vasculature",
          "A Single-Cell Transcriptional Roadmap of the Mouse and Human Lymph Node Lymphatic Vasculature",
          "A Single-Cell Transcriptional Roadmap of the Mouse and Human Lymph Node Lymphatic Vasculature",
          "A Single-Cell Transcriptional Roadmap of the Mouse and Human Lymph Node Lymphatic Vasculature",
          "A Single-Cell Transcriptional Roadmap of the Mouse and Human Lymph Node Lymphatic Vasculature",
          "A Single-Cell Transcriptional Roadmap of the Mouse and Human Lymph Node Lymphatic Vasculature",
          "A Single-Cell Transcriptional Roadmap of the Mouse and Human Lymph Node Lymphatic Vasculature",
          "A Single-Cell Transcriptional Roadmap of the Mouse and Human Lymph Node Lymphatic Vasculature",
          "A Single-Cell Transcriptional Roadmap of the Mouse and Human Lymph Node Lymphatic Vasculature",
          "A Single-Cell Transcriptional Roadmap of the Mouse and Human Lymph Node Lymphatic Vasculature",
          "A Single-Cell Transcriptional Roadmap of the Mouse and Human Lymph Node Lymphatic Vasculature"
         ],
         "type": "scatter",
         "x": [
          "2021-04-28",
          "2021-05-05",
          "2021-05-10",
          "2021-05-28",
          "2021-06-03",
          "2021-06-05",
          "2021-06-10",
          "2021-06-15",
          "2021-06-17",
          "2021-06-28",
          "2021-07-01",
          "2021-07-07",
          "2021-07-09",
          "2021-07-14",
          "2021-07-18",
          "2021-07-19",
          "2021-07-23",
          "2021-07-30",
          "2021-08-09"
         ],
         "y": [
          1,
          2,
          3,
          6,
          7,
          8,
          9,
          10,
          11,
          12,
          13,
          14,
          16,
          17,
          18,
          19,
          20,
          21,
          22
         ]
        },
        {
         "hovertemplate": "<i>Date</i>: %{x}<br>Downloads</i>: %{y}<br><br>%{text}</i>",
         "mode": "lines+markers",
         "text": [
          "Multiomics single-cell analysis of human pancreatic islets reveals novel cellular states in health and type 1 diabetes",
          "Multiomics single-cell analysis of human pancreatic islets reveals novel cellular states in health and type 1 diabetes",
          "Multiomics single-cell analysis of human pancreatic islets reveals novel cellular states in health and type 1 diabetes",
          "Multiomics single-cell analysis of human pancreatic islets reveals novel cellular states in health and type 1 diabetes",
          "Multiomics single-cell analysis of human pancreatic islets reveals novel cellular states in health and type 1 diabetes",
          "Multiomics single-cell analysis of human pancreatic islets reveals novel cellular states in health and type 1 diabetes",
          "Multiomics single-cell analysis of human pancreatic islets reveals novel cellular states in health and type 1 diabetes",
          "Multiomics single-cell analysis of human pancreatic islets reveals novel cellular states in health and type 1 diabetes",
          "Multiomics single-cell analysis of human pancreatic islets reveals novel cellular states in health and type 1 diabetes",
          "Multiomics single-cell analysis of human pancreatic islets reveals novel cellular states in health and type 1 diabetes",
          "Multiomics single-cell analysis of human pancreatic islets reveals novel cellular states in health and type 1 diabetes",
          "Multiomics single-cell analysis of human pancreatic islets reveals novel cellular states in health and type 1 diabetes",
          "Multiomics single-cell analysis of human pancreatic islets reveals novel cellular states in health and type 1 diabetes",
          "Multiomics single-cell analysis of human pancreatic islets reveals novel cellular states in health and type 1 diabetes",
          "Multiomics single-cell analysis of human pancreatic islets reveals novel cellular states in health and type 1 diabetes",
          "Multiomics single-cell analysis of human pancreatic islets reveals novel cellular states in health and type 1 diabetes"
         ],
         "type": "scatter",
         "x": [
          "2021-05-05",
          "2021-05-26",
          "2021-05-28",
          "2021-06-05",
          "2021-06-08",
          "2021-06-10",
          "2021-06-15",
          "2021-06-17",
          "2021-07-09",
          "2021-07-14",
          "2021-07-16",
          "2021-07-18",
          "2021-07-23",
          "2021-07-26",
          "2021-07-30",
          "2021-08-20"
         ],
         "y": [
          2,
          3,
          7,
          8,
          10,
          11,
          12,
          13,
          15,
          16,
          17,
          18,
          19,
          20,
          21,
          22
         ]
        },
        {
         "hovertemplate": "<i>Date</i>: %{x}<br>Downloads</i>: %{y}<br><br>%{text}</i>",
         "mode": "lines+markers",
         "text": [
          "Survey of human embryonic development",
          "Survey of human embryonic development",
          "Survey of human embryonic development",
          "Survey of human embryonic development",
          "Survey of human embryonic development",
          "Survey of human embryonic development",
          "Survey of human embryonic development",
          "Survey of human embryonic development",
          "Survey of human embryonic development",
          "Survey of human embryonic development",
          "Survey of human embryonic development",
          "Survey of human embryonic development",
          "Survey of human embryonic development",
          "Survey of human embryonic development",
          "Survey of human embryonic development",
          "Survey of human embryonic development",
          "Survey of human embryonic development"
         ],
         "type": "scatter",
         "x": [
          "2021-06-14",
          "2021-06-15",
          "2021-06-20",
          "2021-06-21",
          "2021-06-23",
          "2021-07-02",
          "2021-07-09",
          "2021-07-14",
          "2021-07-18",
          "2021-07-19",
          "2021-07-23",
          "2021-07-30",
          "2021-08-03",
          "2021-08-04",
          "2021-08-13",
          "2021-08-22",
          "2021-08-23"
         ],
         "y": [
          1,
          2,
          3,
          4,
          5,
          6,
          8,
          9,
          10,
          11,
          12,
          13,
          16,
          18,
          19,
          20,
          21
         ]
        },
        {
         "hovertemplate": "<i>Date</i>: %{x}<br>Downloads</i>: %{y}<br><br>%{text}</i>",
         "mode": "lines+markers",
         "text": [
          "scRNA-seq data analysis of endothelium-enriched mesenteric arterial tissues from human donors",
          "scRNA-seq data analysis of endothelium-enriched mesenteric arterial tissues from human donors",
          "scRNA-seq data analysis of endothelium-enriched mesenteric arterial tissues from human donors",
          "scRNA-seq data analysis of endothelium-enriched mesenteric arterial tissues from human donors",
          "scRNA-seq data analysis of endothelium-enriched mesenteric arterial tissues from human donors",
          "scRNA-seq data analysis of endothelium-enriched mesenteric arterial tissues from human donors",
          "scRNA-seq data analysis of endothelium-enriched mesenteric arterial tissues from human donors",
          "scRNA-seq data analysis of endothelium-enriched mesenteric arterial tissues from human donors",
          "scRNA-seq data analysis of endothelium-enriched mesenteric arterial tissues from human donors",
          "scRNA-seq data analysis of endothelium-enriched mesenteric arterial tissues from human donors",
          "scRNA-seq data analysis of endothelium-enriched mesenteric arterial tissues from human donors",
          "scRNA-seq data analysis of endothelium-enriched mesenteric arterial tissues from human donors",
          "scRNA-seq data analysis of endothelium-enriched mesenteric arterial tissues from human donors",
          "scRNA-seq data analysis of endothelium-enriched mesenteric arterial tissues from human donors",
          "scRNA-seq data analysis of endothelium-enriched mesenteric arterial tissues from human donors",
          "scRNA-seq data analysis of endothelium-enriched mesenteric arterial tissues from human donors"
         ],
         "type": "scatter",
         "x": [
          "2021-05-28",
          "2021-05-29",
          "2021-06-04",
          "2021-06-05",
          "2021-06-09",
          "2021-06-15",
          "2021-06-18",
          "2021-06-28",
          "2021-07-07",
          "2021-07-09",
          "2021-07-14",
          "2021-07-15",
          "2021-07-17",
          "2021-07-23",
          "2021-07-30",
          "2021-08-16"
         ],
         "y": [
          2,
          3,
          4,
          6,
          8,
          9,
          10,
          11,
          12,
          14,
          16,
          17,
          18,
          19,
          20,
          21
         ]
        },
        {
         "hovertemplate": "<i>Date</i>: %{x}<br>Downloads</i>: %{y}<br><br>%{text}</i>",
         "mode": "lines+markers",
         "text": [
          "Construction of a human cell landscape at single-cell level",
          "Construction of a human cell landscape at single-cell level",
          "Construction of a human cell landscape at single-cell level",
          "Construction of a human cell landscape at single-cell level",
          "Construction of a human cell landscape at single-cell level",
          "Construction of a human cell landscape at single-cell level",
          "Construction of a human cell landscape at single-cell level",
          "Construction of a human cell landscape at single-cell level",
          "Construction of a human cell landscape at single-cell level",
          "Construction of a human cell landscape at single-cell level",
          "Construction of a human cell landscape at single-cell level",
          "Construction of a human cell landscape at single-cell level",
          "Construction of a human cell landscape at single-cell level",
          "Construction of a human cell landscape at single-cell level",
          "Construction of a human cell landscape at single-cell level",
          "Construction of a human cell landscape at single-cell level",
          "Construction of a human cell landscape at single-cell level"
         ],
         "type": "scatter",
         "x": [
          "2021-05-10",
          "2021-05-13",
          "2021-05-19",
          "2021-05-28",
          "2021-06-04",
          "2021-06-05",
          "2021-06-09",
          "2021-06-15",
          "2021-06-18",
          "2021-07-09",
          "2021-07-14",
          "2021-07-17",
          "2021-07-23",
          "2021-07-30",
          "2021-08-13",
          "2021-08-18",
          "2021-08-19"
         ],
         "y": [
          1,
          2,
          3,
          6,
          7,
          9,
          10,
          11,
          12,
          13,
          14,
          15,
          16,
          17,
          18,
          19,
          20
         ]
        },
        {
         "hovertemplate": "<i>Date</i>: %{x}<br>Downloads</i>: %{y}<br><br>%{text}</i>",
         "mode": "lines+markers",
         "text": [
          "Spatiotemporal analysis of human intestinal development at single-cell resolution: Adult A1",
          "Spatiotemporal analysis of human intestinal development at single-cell resolution: Adult A1",
          "Spatiotemporal analysis of human intestinal development at single-cell resolution: Adult A1",
          "Spatiotemporal analysis of human intestinal development at single-cell resolution: Adult A1",
          "Spatiotemporal analysis of human intestinal development at single-cell resolution: Adult A1",
          "Spatiotemporal analysis of human intestinal development at single-cell resolution: Adult A1",
          "Spatiotemporal analysis of human intestinal development at single-cell resolution: Adult A1",
          "Spatiotemporal analysis of human intestinal development at single-cell resolution: Adult A1",
          "Spatiotemporal analysis of human intestinal development at single-cell resolution: Adult A1",
          "Spatiotemporal analysis of human intestinal development at single-cell resolution: Adult A1",
          "Spatiotemporal analysis of human intestinal development at single-cell resolution: Adult A1",
          "Spatiotemporal analysis of human intestinal development at single-cell resolution: Adult A1",
          "Spatiotemporal analysis of human intestinal development at single-cell resolution: Adult A1",
          "Spatiotemporal analysis of human intestinal development at single-cell resolution: Adult A1",
          "Spatiotemporal analysis of human intestinal development at single-cell resolution: Adult A1",
          "Spatiotemporal analysis of human intestinal development at single-cell resolution: Adult A1",
          "Spatiotemporal analysis of human intestinal development at single-cell resolution: Adult A1"
         ],
         "type": "scatter",
         "x": [
          "2021-04-24",
          "2021-05-12",
          "2021-05-13",
          "2021-05-19",
          "2021-05-26",
          "2021-05-28",
          "2021-06-04",
          "2021-06-06",
          "2021-06-10",
          "2021-06-15",
          "2021-06-18",
          "2021-07-09",
          "2021-07-14",
          "2021-07-18",
          "2021-07-23",
          "2021-07-29",
          "2021-07-30"
         ],
         "y": [
          1,
          2,
          3,
          4,
          5,
          8,
          9,
          10,
          11,
          12,
          13,
          15,
          16,
          17,
          18,
          19,
          20
         ]
        },
        {
         "hovertemplate": "<i>Date</i>: %{x}<br>Downloads</i>: %{y}<br><br>%{text}</i>",
         "mode": "lines+markers",
         "text": [
          "Massively multiplex chemical transcriptomics at single-cell resolution - MCF7",
          "Massively multiplex chemical transcriptomics at single-cell resolution - MCF7",
          "Massively multiplex chemical transcriptomics at single-cell resolution - MCF7",
          "Massively multiplex chemical transcriptomics at single-cell resolution - MCF7",
          "Massively multiplex chemical transcriptomics at single-cell resolution - MCF7",
          "Massively multiplex chemical transcriptomics at single-cell resolution - MCF7",
          "Massively multiplex chemical transcriptomics at single-cell resolution - MCF7",
          "Massively multiplex chemical transcriptomics at single-cell resolution - MCF7",
          "Massively multiplex chemical transcriptomics at single-cell resolution - MCF7",
          "Massively multiplex chemical transcriptomics at single-cell resolution - MCF7",
          "Massively multiplex chemical transcriptomics at single-cell resolution - MCF7",
          "Massively multiplex chemical transcriptomics at single-cell resolution - MCF7",
          "Massively multiplex chemical transcriptomics at single-cell resolution - MCF7",
          "Massively multiplex chemical transcriptomics at single-cell resolution - MCF7"
         ],
         "type": "scatter",
         "x": [
          "2021-05-24",
          "2021-05-28",
          "2021-06-04",
          "2021-06-05",
          "2021-06-09",
          "2021-06-15",
          "2021-06-18",
          "2021-06-30",
          "2021-07-09",
          "2021-07-14",
          "2021-07-17",
          "2021-07-23",
          "2021-07-30",
          "2021-08-21"
         ],
         "y": [
          1,
          4,
          5,
          9,
          10,
          11,
          12,
          14,
          15,
          16,
          17,
          18,
          19,
          20
         ]
        },
        {
         "hovertemplate": "<i>Date</i>: %{x}<br>Downloads</i>: %{y}<br><br>%{text}</i>",
         "mode": "lines+markers",
         "text": [
          "Spatiotemporal analysis of human intestinal development at single-cell resolution: Fetal A6",
          "Spatiotemporal analysis of human intestinal development at single-cell resolution: Fetal A6",
          "Spatiotemporal analysis of human intestinal development at single-cell resolution: Fetal A6",
          "Spatiotemporal analysis of human intestinal development at single-cell resolution: Fetal A6",
          "Spatiotemporal analysis of human intestinal development at single-cell resolution: Fetal A6",
          "Spatiotemporal analysis of human intestinal development at single-cell resolution: Fetal A6",
          "Spatiotemporal analysis of human intestinal development at single-cell resolution: Fetal A6",
          "Spatiotemporal analysis of human intestinal development at single-cell resolution: Fetal A6",
          "Spatiotemporal analysis of human intestinal development at single-cell resolution: Fetal A6",
          "Spatiotemporal analysis of human intestinal development at single-cell resolution: Fetal A6",
          "Spatiotemporal analysis of human intestinal development at single-cell resolution: Fetal A6",
          "Spatiotemporal analysis of human intestinal development at single-cell resolution: Fetal A6",
          "Spatiotemporal analysis of human intestinal development at single-cell resolution: Fetal A6"
         ],
         "type": "scatter",
         "x": [
          "2021-05-28",
          "2021-06-06",
          "2021-06-10",
          "2021-06-15",
          "2021-06-18",
          "2021-07-09",
          "2021-07-14",
          "2021-07-18",
          "2021-07-23",
          "2021-07-30",
          "2021-08-21",
          "2021-08-22",
          "2021-08-23"
         ],
         "y": [
          2,
          3,
          4,
          5,
          6,
          8,
          9,
          10,
          11,
          12,
          15,
          18,
          19
         ]
        }
       ],
       "layout": {
        "showlegend": false,
        "template": {
         "data": {
          "bar": [
           {
            "error_x": {
             "color": "#2a3f5f"
            },
            "error_y": {
             "color": "#2a3f5f"
            },
            "marker": {
             "line": {
              "color": "#E5ECF6",
              "width": 0.5
             },
             "pattern": {
              "fillmode": "overlay",
              "size": 10,
              "solidity": 0.2
             }
            },
            "type": "bar"
           }
          ],
          "barpolar": [
           {
            "marker": {
             "line": {
              "color": "#E5ECF6",
              "width": 0.5
             },
             "pattern": {
              "fillmode": "overlay",
              "size": 10,
              "solidity": 0.2
             }
            },
            "type": "barpolar"
           }
          ],
          "carpet": [
           {
            "aaxis": {
             "endlinecolor": "#2a3f5f",
             "gridcolor": "white",
             "linecolor": "white",
             "minorgridcolor": "white",
             "startlinecolor": "#2a3f5f"
            },
            "baxis": {
             "endlinecolor": "#2a3f5f",
             "gridcolor": "white",
             "linecolor": "white",
             "minorgridcolor": "white",
             "startlinecolor": "#2a3f5f"
            },
            "type": "carpet"
           }
          ],
          "choropleth": [
           {
            "colorbar": {
             "outlinewidth": 0,
             "ticks": ""
            },
            "type": "choropleth"
           }
          ],
          "contour": [
           {
            "colorbar": {
             "outlinewidth": 0,
             "ticks": ""
            },
            "colorscale": [
             [
              0,
              "#0d0887"
             ],
             [
              0.1111111111111111,
              "#46039f"
             ],
             [
              0.2222222222222222,
              "#7201a8"
             ],
             [
              0.3333333333333333,
              "#9c179e"
             ],
             [
              0.4444444444444444,
              "#bd3786"
             ],
             [
              0.5555555555555556,
              "#d8576b"
             ],
             [
              0.6666666666666666,
              "#ed7953"
             ],
             [
              0.7777777777777778,
              "#fb9f3a"
             ],
             [
              0.8888888888888888,
              "#fdca26"
             ],
             [
              1,
              "#f0f921"
             ]
            ],
            "type": "contour"
           }
          ],
          "contourcarpet": [
           {
            "colorbar": {
             "outlinewidth": 0,
             "ticks": ""
            },
            "type": "contourcarpet"
           }
          ],
          "heatmap": [
           {
            "colorbar": {
             "outlinewidth": 0,
             "ticks": ""
            },
            "colorscale": [
             [
              0,
              "#0d0887"
             ],
             [
              0.1111111111111111,
              "#46039f"
             ],
             [
              0.2222222222222222,
              "#7201a8"
             ],
             [
              0.3333333333333333,
              "#9c179e"
             ],
             [
              0.4444444444444444,
              "#bd3786"
             ],
             [
              0.5555555555555556,
              "#d8576b"
             ],
             [
              0.6666666666666666,
              "#ed7953"
             ],
             [
              0.7777777777777778,
              "#fb9f3a"
             ],
             [
              0.8888888888888888,
              "#fdca26"
             ],
             [
              1,
              "#f0f921"
             ]
            ],
            "type": "heatmap"
           }
          ],
          "heatmapgl": [
           {
            "colorbar": {
             "outlinewidth": 0,
             "ticks": ""
            },
            "colorscale": [
             [
              0,
              "#0d0887"
             ],
             [
              0.1111111111111111,
              "#46039f"
             ],
             [
              0.2222222222222222,
              "#7201a8"
             ],
             [
              0.3333333333333333,
              "#9c179e"
             ],
             [
              0.4444444444444444,
              "#bd3786"
             ],
             [
              0.5555555555555556,
              "#d8576b"
             ],
             [
              0.6666666666666666,
              "#ed7953"
             ],
             [
              0.7777777777777778,
              "#fb9f3a"
             ],
             [
              0.8888888888888888,
              "#fdca26"
             ],
             [
              1,
              "#f0f921"
             ]
            ],
            "type": "heatmapgl"
           }
          ],
          "histogram": [
           {
            "marker": {
             "pattern": {
              "fillmode": "overlay",
              "size": 10,
              "solidity": 0.2
             }
            },
            "type": "histogram"
           }
          ],
          "histogram2d": [
           {
            "colorbar": {
             "outlinewidth": 0,
             "ticks": ""
            },
            "colorscale": [
             [
              0,
              "#0d0887"
             ],
             [
              0.1111111111111111,
              "#46039f"
             ],
             [
              0.2222222222222222,
              "#7201a8"
             ],
             [
              0.3333333333333333,
              "#9c179e"
             ],
             [
              0.4444444444444444,
              "#bd3786"
             ],
             [
              0.5555555555555556,
              "#d8576b"
             ],
             [
              0.6666666666666666,
              "#ed7953"
             ],
             [
              0.7777777777777778,
              "#fb9f3a"
             ],
             [
              0.8888888888888888,
              "#fdca26"
             ],
             [
              1,
              "#f0f921"
             ]
            ],
            "type": "histogram2d"
           }
          ],
          "histogram2dcontour": [
           {
            "colorbar": {
             "outlinewidth": 0,
             "ticks": ""
            },
            "colorscale": [
             [
              0,
              "#0d0887"
             ],
             [
              0.1111111111111111,
              "#46039f"
             ],
             [
              0.2222222222222222,
              "#7201a8"
             ],
             [
              0.3333333333333333,
              "#9c179e"
             ],
             [
              0.4444444444444444,
              "#bd3786"
             ],
             [
              0.5555555555555556,
              "#d8576b"
             ],
             [
              0.6666666666666666,
              "#ed7953"
             ],
             [
              0.7777777777777778,
              "#fb9f3a"
             ],
             [
              0.8888888888888888,
              "#fdca26"
             ],
             [
              1,
              "#f0f921"
             ]
            ],
            "type": "histogram2dcontour"
           }
          ],
          "mesh3d": [
           {
            "colorbar": {
             "outlinewidth": 0,
             "ticks": ""
            },
            "type": "mesh3d"
           }
          ],
          "parcoords": [
           {
            "line": {
             "colorbar": {
              "outlinewidth": 0,
              "ticks": ""
             }
            },
            "type": "parcoords"
           }
          ],
          "pie": [
           {
            "automargin": true,
            "type": "pie"
           }
          ],
          "scatter": [
           {
            "marker": {
             "colorbar": {
              "outlinewidth": 0,
              "ticks": ""
             }
            },
            "type": "scatter"
           }
          ],
          "scatter3d": [
           {
            "line": {
             "colorbar": {
              "outlinewidth": 0,
              "ticks": ""
             }
            },
            "marker": {
             "colorbar": {
              "outlinewidth": 0,
              "ticks": ""
             }
            },
            "type": "scatter3d"
           }
          ],
          "scattercarpet": [
           {
            "marker": {
             "colorbar": {
              "outlinewidth": 0,
              "ticks": ""
             }
            },
            "type": "scattercarpet"
           }
          ],
          "scattergeo": [
           {
            "marker": {
             "colorbar": {
              "outlinewidth": 0,
              "ticks": ""
             }
            },
            "type": "scattergeo"
           }
          ],
          "scattergl": [
           {
            "marker": {
             "colorbar": {
              "outlinewidth": 0,
              "ticks": ""
             }
            },
            "type": "scattergl"
           }
          ],
          "scattermapbox": [
           {
            "marker": {
             "colorbar": {
              "outlinewidth": 0,
              "ticks": ""
             }
            },
            "type": "scattermapbox"
           }
          ],
          "scatterpolar": [
           {
            "marker": {
             "colorbar": {
              "outlinewidth": 0,
              "ticks": ""
             }
            },
            "type": "scatterpolar"
           }
          ],
          "scatterpolargl": [
           {
            "marker": {
             "colorbar": {
              "outlinewidth": 0,
              "ticks": ""
             }
            },
            "type": "scatterpolargl"
           }
          ],
          "scatterternary": [
           {
            "marker": {
             "colorbar": {
              "outlinewidth": 0,
              "ticks": ""
             }
            },
            "type": "scatterternary"
           }
          ],
          "surface": [
           {
            "colorbar": {
             "outlinewidth": 0,
             "ticks": ""
            },
            "colorscale": [
             [
              0,
              "#0d0887"
             ],
             [
              0.1111111111111111,
              "#46039f"
             ],
             [
              0.2222222222222222,
              "#7201a8"
             ],
             [
              0.3333333333333333,
              "#9c179e"
             ],
             [
              0.4444444444444444,
              "#bd3786"
             ],
             [
              0.5555555555555556,
              "#d8576b"
             ],
             [
              0.6666666666666666,
              "#ed7953"
             ],
             [
              0.7777777777777778,
              "#fb9f3a"
             ],
             [
              0.8888888888888888,
              "#fdca26"
             ],
             [
              1,
              "#f0f921"
             ]
            ],
            "type": "surface"
           }
          ],
          "table": [
           {
            "cells": {
             "fill": {
              "color": "#EBF0F8"
             },
             "line": {
              "color": "white"
             }
            },
            "header": {
             "fill": {
              "color": "#C8D4E3"
             },
             "line": {
              "color": "white"
             }
            },
            "type": "table"
           }
          ]
         },
         "layout": {
          "annotationdefaults": {
           "arrowcolor": "#2a3f5f",
           "arrowhead": 0,
           "arrowwidth": 1
          },
          "autotypenumbers": "strict",
          "coloraxis": {
           "colorbar": {
            "outlinewidth": 0,
            "ticks": ""
           }
          },
          "colorscale": {
           "diverging": [
            [
             0,
             "#8e0152"
            ],
            [
             0.1,
             "#c51b7d"
            ],
            [
             0.2,
             "#de77ae"
            ],
            [
             0.3,
             "#f1b6da"
            ],
            [
             0.4,
             "#fde0ef"
            ],
            [
             0.5,
             "#f7f7f7"
            ],
            [
             0.6,
             "#e6f5d0"
            ],
            [
             0.7,
             "#b8e186"
            ],
            [
             0.8,
             "#7fbc41"
            ],
            [
             0.9,
             "#4d9221"
            ],
            [
             1,
             "#276419"
            ]
           ],
           "sequential": [
            [
             0,
             "#0d0887"
            ],
            [
             0.1111111111111111,
             "#46039f"
            ],
            [
             0.2222222222222222,
             "#7201a8"
            ],
            [
             0.3333333333333333,
             "#9c179e"
            ],
            [
             0.4444444444444444,
             "#bd3786"
            ],
            [
             0.5555555555555556,
             "#d8576b"
            ],
            [
             0.6666666666666666,
             "#ed7953"
            ],
            [
             0.7777777777777778,
             "#fb9f3a"
            ],
            [
             0.8888888888888888,
             "#fdca26"
            ],
            [
             1,
             "#f0f921"
            ]
           ],
           "sequentialminus": [
            [
             0,
             "#0d0887"
            ],
            [
             0.1111111111111111,
             "#46039f"
            ],
            [
             0.2222222222222222,
             "#7201a8"
            ],
            [
             0.3333333333333333,
             "#9c179e"
            ],
            [
             0.4444444444444444,
             "#bd3786"
            ],
            [
             0.5555555555555556,
             "#d8576b"
            ],
            [
             0.6666666666666666,
             "#ed7953"
            ],
            [
             0.7777777777777778,
             "#fb9f3a"
            ],
            [
             0.8888888888888888,
             "#fdca26"
            ],
            [
             1,
             "#f0f921"
            ]
           ]
          },
          "colorway": [
           "#636efa",
           "#EF553B",
           "#00cc96",
           "#ab63fa",
           "#FFA15A",
           "#19d3f3",
           "#FF6692",
           "#B6E880",
           "#FF97FF",
           "#FECB52"
          ],
          "font": {
           "color": "#2a3f5f"
          },
          "geo": {
           "bgcolor": "white",
           "lakecolor": "white",
           "landcolor": "#E5ECF6",
           "showlakes": true,
           "showland": true,
           "subunitcolor": "white"
          },
          "hoverlabel": {
           "align": "left"
          },
          "hovermode": "closest",
          "mapbox": {
           "style": "light"
          },
          "paper_bgcolor": "white",
          "plot_bgcolor": "#E5ECF6",
          "polar": {
           "angularaxis": {
            "gridcolor": "white",
            "linecolor": "white",
            "ticks": ""
           },
           "bgcolor": "#E5ECF6",
           "radialaxis": {
            "gridcolor": "white",
            "linecolor": "white",
            "ticks": ""
           }
          },
          "scene": {
           "xaxis": {
            "backgroundcolor": "#E5ECF6",
            "gridcolor": "white",
            "gridwidth": 2,
            "linecolor": "white",
            "showbackground": true,
            "ticks": "",
            "zerolinecolor": "white"
           },
           "yaxis": {
            "backgroundcolor": "#E5ECF6",
            "gridcolor": "white",
            "gridwidth": 2,
            "linecolor": "white",
            "showbackground": true,
            "ticks": "",
            "zerolinecolor": "white"
           },
           "zaxis": {
            "backgroundcolor": "#E5ECF6",
            "gridcolor": "white",
            "gridwidth": 2,
            "linecolor": "white",
            "showbackground": true,
            "ticks": "",
            "zerolinecolor": "white"
           }
          },
          "shapedefaults": {
           "line": {
            "color": "#2a3f5f"
           }
          },
          "ternary": {
           "aaxis": {
            "gridcolor": "white",
            "linecolor": "white",
            "ticks": ""
           },
           "baxis": {
            "gridcolor": "white",
            "linecolor": "white",
            "ticks": ""
           },
           "bgcolor": "#E5ECF6",
           "caxis": {
            "gridcolor": "white",
            "linecolor": "white",
            "ticks": ""
           }
          },
          "title": {
           "x": 0.05
          },
          "xaxis": {
           "automargin": true,
           "gridcolor": "white",
           "linecolor": "white",
           "ticks": "",
           "title": {
            "standoff": 15
           },
           "zerolinecolor": "white",
           "zerolinewidth": 2
          },
          "yaxis": {
           "automargin": true,
           "gridcolor": "white",
           "linecolor": "white",
           "ticks": "",
           "title": {
            "standoff": 15
           },
           "zerolinecolor": "white",
           "zerolinewidth": 2
          }
         }
        },
        "title": {
         "text": "Trends of top 10 moderately downloaded datasets (cumulative) - raw downloads"
        },
        "xaxis": {
         "title": {
          "text": "date"
         }
        },
        "yaxis": {
         "title": {
          "text": "number of downloads"
         }
        }
       }
      },
      "text/html": [
       "<div>                            <div id=\"4cd6d9f8-ef2d-42f1-bd2b-5391d99d7bd4\" class=\"plotly-graph-div\" style=\"height:525px; width:100%;\"></div>            <script type=\"text/javascript\">                require([\"plotly\"], function(Plotly) {                    window.PLOTLYENV=window.PLOTLYENV || {};                                    if (document.getElementById(\"4cd6d9f8-ef2d-42f1-bd2b-5391d99d7bd4\")) {                    Plotly.newPlot(                        \"4cd6d9f8-ef2d-42f1-bd2b-5391d99d7bd4\",                        [{\"hovertemplate\":\"<i>Date</i>: %{x}<br>Downloads</i>: %{y}<br><br>%{text}</i>\",\"mode\":\"lines+markers\",\"text\":[\"Infiltrating Neoplastic Cells Human Glioblastoma\",\"Infiltrating Neoplastic Cells Human Glioblastoma\",\"Infiltrating Neoplastic Cells Human Glioblastoma\",\"Infiltrating Neoplastic Cells Human Glioblastoma\",\"Infiltrating Neoplastic Cells Human Glioblastoma\",\"Infiltrating Neoplastic Cells Human Glioblastoma\",\"Infiltrating Neoplastic Cells Human Glioblastoma\",\"Infiltrating Neoplastic Cells Human Glioblastoma\",\"Infiltrating Neoplastic Cells Human Glioblastoma\",\"Infiltrating Neoplastic Cells Human Glioblastoma\",\"Infiltrating Neoplastic Cells Human Glioblastoma\",\"Infiltrating Neoplastic Cells Human Glioblastoma\",\"Infiltrating Neoplastic Cells Human Glioblastoma\",\"Infiltrating Neoplastic Cells Human Glioblastoma\",\"Infiltrating Neoplastic Cells Human Glioblastoma\",\"Infiltrating Neoplastic Cells Human Glioblastoma\",\"Infiltrating Neoplastic Cells Human Glioblastoma\",\"Infiltrating Neoplastic Cells Human Glioblastoma\",\"Infiltrating Neoplastic Cells Human Glioblastoma\",\"Infiltrating Neoplastic Cells Human Glioblastoma\",\"Infiltrating Neoplastic Cells Human Glioblastoma\",\"Infiltrating Neoplastic Cells Human Glioblastoma\"],\"type\":\"scatter\",\"x\":[\"2021-04-28\",\"2021-04-30\",\"2021-05-05\",\"2021-05-28\",\"2021-06-03\",\"2021-06-05\",\"2021-06-10\",\"2021-06-15\",\"2021-06-18\",\"2021-06-21\",\"2021-06-25\",\"2021-06-28\",\"2021-07-18\",\"2021-08-02\",\"2021-08-03\",\"2021-08-05\",\"2021-08-07\",\"2021-08-16\",\"2021-08-17\",\"2021-08-18\",\"2021-08-19\",\"2021-08-26\"],\"y\":[1,2,3,4,5,6,7,8,9,10,11,12,13,15,16,17,18,19,20,21,23,24]},{\"hovertemplate\":\"<i>Date</i>: %{x}<br>Downloads</i>: %{y}<br><br>%{text}</i>\",\"mode\":\"lines+markers\",\"text\":[\"Single-cell transcriptomics of human T cells reveals tissue and activation signatures in health and disease\",\"Single-cell transcriptomics of human T cells reveals tissue and activation signatures in health and disease\",\"Single-cell transcriptomics of human T cells reveals tissue and activation signatures in health and disease\",\"Single-cell transcriptomics of human T cells reveals tissue and activation signatures in health and disease\",\"Single-cell transcriptomics of human T cells reveals tissue and activation signatures in health and disease\",\"Single-cell transcriptomics of human T cells reveals tissue and activation signatures in health and disease\",\"Single-cell transcriptomics of human T cells reveals tissue and activation signatures in health and disease\",\"Single-cell transcriptomics of human T cells reveals tissue and activation signatures in health and disease\",\"Single-cell transcriptomics of human T cells reveals tissue and activation signatures in health and disease\",\"Single-cell transcriptomics of human T cells reveals tissue and activation signatures in health and disease\",\"Single-cell transcriptomics of human T cells reveals tissue and activation signatures in health and disease\",\"Single-cell transcriptomics of human T cells reveals tissue and activation signatures in health and disease\",\"Single-cell transcriptomics of human T cells reveals tissue and activation signatures in health and disease\",\"Single-cell transcriptomics of human T cells reveals tissue and activation signatures in health and disease\",\"Single-cell transcriptomics of human T cells reveals tissue and activation signatures in health and disease\",\"Single-cell transcriptomics of human T cells reveals tissue and activation signatures in health and disease\",\"Single-cell transcriptomics of human T cells reveals tissue and activation signatures in health and disease\",\"Single-cell transcriptomics of human T cells reveals tissue and activation signatures in health and disease\"],\"type\":\"scatter\",\"x\":[\"2021-05-01\",\"2021-05-05\",\"2021-05-13\",\"2021-05-18\",\"2021-05-28\",\"2021-06-04\",\"2021-06-05\",\"2021-06-09\",\"2021-06-15\",\"2021-06-17\",\"2021-06-25\",\"2021-06-28\",\"2021-06-29\",\"2021-07-09\",\"2021-07-14\",\"2021-07-17\",\"2021-07-23\",\"2021-07-30\"],\"y\":[1,2,3,4,7,8,10,11,13,14,16,17,18,20,21,22,23,24]},{\"hovertemplate\":\"<i>Date</i>: %{x}<br>Downloads</i>: %{y}<br><br>%{text}</i>\",\"mode\":\"lines+markers\",\"text\":[\"A Single-Cell Transcriptional Roadmap of the Mouse and Human Lymph Node Lymphatic Vasculature\",\"A Single-Cell Transcriptional Roadmap of the Mouse and Human Lymph Node Lymphatic Vasculature\",\"A Single-Cell Transcriptional Roadmap of the Mouse and Human Lymph Node Lymphatic Vasculature\",\"A Single-Cell Transcriptional Roadmap of the Mouse and Human Lymph Node Lymphatic Vasculature\",\"A Single-Cell Transcriptional Roadmap of the Mouse and Human Lymph Node Lymphatic Vasculature\",\"A Single-Cell Transcriptional Roadmap of the Mouse and Human Lymph Node Lymphatic Vasculature\",\"A Single-Cell Transcriptional Roadmap of the Mouse and Human Lymph Node Lymphatic Vasculature\",\"A Single-Cell Transcriptional Roadmap of the Mouse and Human Lymph Node Lymphatic Vasculature\",\"A Single-Cell Transcriptional Roadmap of the Mouse and Human Lymph Node Lymphatic Vasculature\",\"A Single-Cell Transcriptional Roadmap of the Mouse and Human Lymph Node Lymphatic Vasculature\",\"A Single-Cell Transcriptional Roadmap of the Mouse and Human Lymph Node Lymphatic Vasculature\",\"A Single-Cell Transcriptional Roadmap of the Mouse and Human Lymph Node Lymphatic Vasculature\",\"A Single-Cell Transcriptional Roadmap of the Mouse and Human Lymph Node Lymphatic Vasculature\",\"A Single-Cell Transcriptional Roadmap of the Mouse and Human Lymph Node Lymphatic Vasculature\",\"A Single-Cell Transcriptional Roadmap of the Mouse and Human Lymph Node Lymphatic Vasculature\",\"A Single-Cell Transcriptional Roadmap of the Mouse and Human Lymph Node Lymphatic Vasculature\",\"A Single-Cell Transcriptional Roadmap of the Mouse and Human Lymph Node Lymphatic Vasculature\",\"A Single-Cell Transcriptional Roadmap of the Mouse and Human Lymph Node Lymphatic Vasculature\",\"A Single-Cell Transcriptional Roadmap of the Mouse and Human Lymph Node Lymphatic Vasculature\"],\"type\":\"scatter\",\"x\":[\"2021-04-28\",\"2021-05-05\",\"2021-05-10\",\"2021-05-28\",\"2021-06-03\",\"2021-06-05\",\"2021-06-10\",\"2021-06-15\",\"2021-06-17\",\"2021-06-28\",\"2021-07-01\",\"2021-07-07\",\"2021-07-09\",\"2021-07-14\",\"2021-07-18\",\"2021-07-19\",\"2021-07-23\",\"2021-07-30\",\"2021-08-09\"],\"y\":[1,2,3,6,7,8,9,10,11,12,13,14,16,17,18,19,20,21,22]},{\"hovertemplate\":\"<i>Date</i>: %{x}<br>Downloads</i>: %{y}<br><br>%{text}</i>\",\"mode\":\"lines+markers\",\"text\":[\"Multiomics single-cell analysis of human pancreatic islets reveals novel cellular states in health and type 1 diabetes\",\"Multiomics single-cell analysis of human pancreatic islets reveals novel cellular states in health and type 1 diabetes\",\"Multiomics single-cell analysis of human pancreatic islets reveals novel cellular states in health and type 1 diabetes\",\"Multiomics single-cell analysis of human pancreatic islets reveals novel cellular states in health and type 1 diabetes\",\"Multiomics single-cell analysis of human pancreatic islets reveals novel cellular states in health and type 1 diabetes\",\"Multiomics single-cell analysis of human pancreatic islets reveals novel cellular states in health and type 1 diabetes\",\"Multiomics single-cell analysis of human pancreatic islets reveals novel cellular states in health and type 1 diabetes\",\"Multiomics single-cell analysis of human pancreatic islets reveals novel cellular states in health and type 1 diabetes\",\"Multiomics single-cell analysis of human pancreatic islets reveals novel cellular states in health and type 1 diabetes\",\"Multiomics single-cell analysis of human pancreatic islets reveals novel cellular states in health and type 1 diabetes\",\"Multiomics single-cell analysis of human pancreatic islets reveals novel cellular states in health and type 1 diabetes\",\"Multiomics single-cell analysis of human pancreatic islets reveals novel cellular states in health and type 1 diabetes\",\"Multiomics single-cell analysis of human pancreatic islets reveals novel cellular states in health and type 1 diabetes\",\"Multiomics single-cell analysis of human pancreatic islets reveals novel cellular states in health and type 1 diabetes\",\"Multiomics single-cell analysis of human pancreatic islets reveals novel cellular states in health and type 1 diabetes\",\"Multiomics single-cell analysis of human pancreatic islets reveals novel cellular states in health and type 1 diabetes\"],\"type\":\"scatter\",\"x\":[\"2021-05-05\",\"2021-05-26\",\"2021-05-28\",\"2021-06-05\",\"2021-06-08\",\"2021-06-10\",\"2021-06-15\",\"2021-06-17\",\"2021-07-09\",\"2021-07-14\",\"2021-07-16\",\"2021-07-18\",\"2021-07-23\",\"2021-07-26\",\"2021-07-30\",\"2021-08-20\"],\"y\":[2,3,7,8,10,11,12,13,15,16,17,18,19,20,21,22]},{\"hovertemplate\":\"<i>Date</i>: %{x}<br>Downloads</i>: %{y}<br><br>%{text}</i>\",\"mode\":\"lines+markers\",\"text\":[\"Survey of human embryonic development\",\"Survey of human embryonic development\",\"Survey of human embryonic development\",\"Survey of human embryonic development\",\"Survey of human embryonic development\",\"Survey of human embryonic development\",\"Survey of human embryonic development\",\"Survey of human embryonic development\",\"Survey of human embryonic development\",\"Survey of human embryonic development\",\"Survey of human embryonic development\",\"Survey of human embryonic development\",\"Survey of human embryonic development\",\"Survey of human embryonic development\",\"Survey of human embryonic development\",\"Survey of human embryonic development\",\"Survey of human embryonic development\"],\"type\":\"scatter\",\"x\":[\"2021-06-14\",\"2021-06-15\",\"2021-06-20\",\"2021-06-21\",\"2021-06-23\",\"2021-07-02\",\"2021-07-09\",\"2021-07-14\",\"2021-07-18\",\"2021-07-19\",\"2021-07-23\",\"2021-07-30\",\"2021-08-03\",\"2021-08-04\",\"2021-08-13\",\"2021-08-22\",\"2021-08-23\"],\"y\":[1,2,3,4,5,6,8,9,10,11,12,13,16,18,19,20,21]},{\"hovertemplate\":\"<i>Date</i>: %{x}<br>Downloads</i>: %{y}<br><br>%{text}</i>\",\"mode\":\"lines+markers\",\"text\":[\"scRNA-seq data analysis of endothelium-enriched mesenteric arterial tissues from human donors\",\"scRNA-seq data analysis of endothelium-enriched mesenteric arterial tissues from human donors\",\"scRNA-seq data analysis of endothelium-enriched mesenteric arterial tissues from human donors\",\"scRNA-seq data analysis of endothelium-enriched mesenteric arterial tissues from human donors\",\"scRNA-seq data analysis of endothelium-enriched mesenteric arterial tissues from human donors\",\"scRNA-seq data analysis of endothelium-enriched mesenteric arterial tissues from human donors\",\"scRNA-seq data analysis of endothelium-enriched mesenteric arterial tissues from human donors\",\"scRNA-seq data analysis of endothelium-enriched mesenteric arterial tissues from human donors\",\"scRNA-seq data analysis of endothelium-enriched mesenteric arterial tissues from human donors\",\"scRNA-seq data analysis of endothelium-enriched mesenteric arterial tissues from human donors\",\"scRNA-seq data analysis of endothelium-enriched mesenteric arterial tissues from human donors\",\"scRNA-seq data analysis of endothelium-enriched mesenteric arterial tissues from human donors\",\"scRNA-seq data analysis of endothelium-enriched mesenteric arterial tissues from human donors\",\"scRNA-seq data analysis of endothelium-enriched mesenteric arterial tissues from human donors\",\"scRNA-seq data analysis of endothelium-enriched mesenteric arterial tissues from human donors\",\"scRNA-seq data analysis of endothelium-enriched mesenteric arterial tissues from human donors\"],\"type\":\"scatter\",\"x\":[\"2021-05-28\",\"2021-05-29\",\"2021-06-04\",\"2021-06-05\",\"2021-06-09\",\"2021-06-15\",\"2021-06-18\",\"2021-06-28\",\"2021-07-07\",\"2021-07-09\",\"2021-07-14\",\"2021-07-15\",\"2021-07-17\",\"2021-07-23\",\"2021-07-30\",\"2021-08-16\"],\"y\":[2,3,4,6,8,9,10,11,12,14,16,17,18,19,20,21]},{\"hovertemplate\":\"<i>Date</i>: %{x}<br>Downloads</i>: %{y}<br><br>%{text}</i>\",\"mode\":\"lines+markers\",\"text\":[\"Construction of a human cell landscape at single-cell level\",\"Construction of a human cell landscape at single-cell level\",\"Construction of a human cell landscape at single-cell level\",\"Construction of a human cell landscape at single-cell level\",\"Construction of a human cell landscape at single-cell level\",\"Construction of a human cell landscape at single-cell level\",\"Construction of a human cell landscape at single-cell level\",\"Construction of a human cell landscape at single-cell level\",\"Construction of a human cell landscape at single-cell level\",\"Construction of a human cell landscape at single-cell level\",\"Construction of a human cell landscape at single-cell level\",\"Construction of a human cell landscape at single-cell level\",\"Construction of a human cell landscape at single-cell level\",\"Construction of a human cell landscape at single-cell level\",\"Construction of a human cell landscape at single-cell level\",\"Construction of a human cell landscape at single-cell level\",\"Construction of a human cell landscape at single-cell level\"],\"type\":\"scatter\",\"x\":[\"2021-05-10\",\"2021-05-13\",\"2021-05-19\",\"2021-05-28\",\"2021-06-04\",\"2021-06-05\",\"2021-06-09\",\"2021-06-15\",\"2021-06-18\",\"2021-07-09\",\"2021-07-14\",\"2021-07-17\",\"2021-07-23\",\"2021-07-30\",\"2021-08-13\",\"2021-08-18\",\"2021-08-19\"],\"y\":[1,2,3,6,7,9,10,11,12,13,14,15,16,17,18,19,20]},{\"hovertemplate\":\"<i>Date</i>: %{x}<br>Downloads</i>: %{y}<br><br>%{text}</i>\",\"mode\":\"lines+markers\",\"text\":[\"Spatiotemporal analysis of human intestinal development at single-cell resolution: Adult A1\",\"Spatiotemporal analysis of human intestinal development at single-cell resolution: Adult A1\",\"Spatiotemporal analysis of human intestinal development at single-cell resolution: Adult A1\",\"Spatiotemporal analysis of human intestinal development at single-cell resolution: Adult A1\",\"Spatiotemporal analysis of human intestinal development at single-cell resolution: Adult A1\",\"Spatiotemporal analysis of human intestinal development at single-cell resolution: Adult A1\",\"Spatiotemporal analysis of human intestinal development at single-cell resolution: Adult A1\",\"Spatiotemporal analysis of human intestinal development at single-cell resolution: Adult A1\",\"Spatiotemporal analysis of human intestinal development at single-cell resolution: Adult A1\",\"Spatiotemporal analysis of human intestinal development at single-cell resolution: Adult A1\",\"Spatiotemporal analysis of human intestinal development at single-cell resolution: Adult A1\",\"Spatiotemporal analysis of human intestinal development at single-cell resolution: Adult A1\",\"Spatiotemporal analysis of human intestinal development at single-cell resolution: Adult A1\",\"Spatiotemporal analysis of human intestinal development at single-cell resolution: Adult A1\",\"Spatiotemporal analysis of human intestinal development at single-cell resolution: Adult A1\",\"Spatiotemporal analysis of human intestinal development at single-cell resolution: Adult A1\",\"Spatiotemporal analysis of human intestinal development at single-cell resolution: Adult A1\"],\"type\":\"scatter\",\"x\":[\"2021-04-24\",\"2021-05-12\",\"2021-05-13\",\"2021-05-19\",\"2021-05-26\",\"2021-05-28\",\"2021-06-04\",\"2021-06-06\",\"2021-06-10\",\"2021-06-15\",\"2021-06-18\",\"2021-07-09\",\"2021-07-14\",\"2021-07-18\",\"2021-07-23\",\"2021-07-29\",\"2021-07-30\"],\"y\":[1,2,3,4,5,8,9,10,11,12,13,15,16,17,18,19,20]},{\"hovertemplate\":\"<i>Date</i>: %{x}<br>Downloads</i>: %{y}<br><br>%{text}</i>\",\"mode\":\"lines+markers\",\"text\":[\"Massively multiplex chemical transcriptomics at single-cell resolution - MCF7\",\"Massively multiplex chemical transcriptomics at single-cell resolution - MCF7\",\"Massively multiplex chemical transcriptomics at single-cell resolution - MCF7\",\"Massively multiplex chemical transcriptomics at single-cell resolution - MCF7\",\"Massively multiplex chemical transcriptomics at single-cell resolution - MCF7\",\"Massively multiplex chemical transcriptomics at single-cell resolution - MCF7\",\"Massively multiplex chemical transcriptomics at single-cell resolution - MCF7\",\"Massively multiplex chemical transcriptomics at single-cell resolution - MCF7\",\"Massively multiplex chemical transcriptomics at single-cell resolution - MCF7\",\"Massively multiplex chemical transcriptomics at single-cell resolution - MCF7\",\"Massively multiplex chemical transcriptomics at single-cell resolution - MCF7\",\"Massively multiplex chemical transcriptomics at single-cell resolution - MCF7\",\"Massively multiplex chemical transcriptomics at single-cell resolution - MCF7\",\"Massively multiplex chemical transcriptomics at single-cell resolution - MCF7\"],\"type\":\"scatter\",\"x\":[\"2021-05-24\",\"2021-05-28\",\"2021-06-04\",\"2021-06-05\",\"2021-06-09\",\"2021-06-15\",\"2021-06-18\",\"2021-06-30\",\"2021-07-09\",\"2021-07-14\",\"2021-07-17\",\"2021-07-23\",\"2021-07-30\",\"2021-08-21\"],\"y\":[1,4,5,9,10,11,12,14,15,16,17,18,19,20]},{\"hovertemplate\":\"<i>Date</i>: %{x}<br>Downloads</i>: %{y}<br><br>%{text}</i>\",\"mode\":\"lines+markers\",\"text\":[\"Spatiotemporal analysis of human intestinal development at single-cell resolution: Fetal A6\",\"Spatiotemporal analysis of human intestinal development at single-cell resolution: Fetal A6\",\"Spatiotemporal analysis of human intestinal development at single-cell resolution: Fetal A6\",\"Spatiotemporal analysis of human intestinal development at single-cell resolution: Fetal A6\",\"Spatiotemporal analysis of human intestinal development at single-cell resolution: Fetal A6\",\"Spatiotemporal analysis of human intestinal development at single-cell resolution: Fetal A6\",\"Spatiotemporal analysis of human intestinal development at single-cell resolution: Fetal A6\",\"Spatiotemporal analysis of human intestinal development at single-cell resolution: Fetal A6\",\"Spatiotemporal analysis of human intestinal development at single-cell resolution: Fetal A6\",\"Spatiotemporal analysis of human intestinal development at single-cell resolution: Fetal A6\",\"Spatiotemporal analysis of human intestinal development at single-cell resolution: Fetal A6\",\"Spatiotemporal analysis of human intestinal development at single-cell resolution: Fetal A6\",\"Spatiotemporal analysis of human intestinal development at single-cell resolution: Fetal A6\"],\"type\":\"scatter\",\"x\":[\"2021-05-28\",\"2021-06-06\",\"2021-06-10\",\"2021-06-15\",\"2021-06-18\",\"2021-07-09\",\"2021-07-14\",\"2021-07-18\",\"2021-07-23\",\"2021-07-30\",\"2021-08-21\",\"2021-08-22\",\"2021-08-23\"],\"y\":[2,3,4,5,6,8,9,10,11,12,15,18,19]}],                        {\"showlegend\":false,\"template\":{\"data\":{\"bar\":[{\"error_x\":{\"color\":\"#2a3f5f\"},\"error_y\":{\"color\":\"#2a3f5f\"},\"marker\":{\"line\":{\"color\":\"#E5ECF6\",\"width\":0.5},\"pattern\":{\"fillmode\":\"overlay\",\"size\":10,\"solidity\":0.2}},\"type\":\"bar\"}],\"barpolar\":[{\"marker\":{\"line\":{\"color\":\"#E5ECF6\",\"width\":0.5},\"pattern\":{\"fillmode\":\"overlay\",\"size\":10,\"solidity\":0.2}},\"type\":\"barpolar\"}],\"carpet\":[{\"aaxis\":{\"endlinecolor\":\"#2a3f5f\",\"gridcolor\":\"white\",\"linecolor\":\"white\",\"minorgridcolor\":\"white\",\"startlinecolor\":\"#2a3f5f\"},\"baxis\":{\"endlinecolor\":\"#2a3f5f\",\"gridcolor\":\"white\",\"linecolor\":\"white\",\"minorgridcolor\":\"white\",\"startlinecolor\":\"#2a3f5f\"},\"type\":\"carpet\"}],\"choropleth\":[{\"colorbar\":{\"outlinewidth\":0,\"ticks\":\"\"},\"type\":\"choropleth\"}],\"contour\":[{\"colorbar\":{\"outlinewidth\":0,\"ticks\":\"\"},\"colorscale\":[[0.0,\"#0d0887\"],[0.1111111111111111,\"#46039f\"],[0.2222222222222222,\"#7201a8\"],[0.3333333333333333,\"#9c179e\"],[0.4444444444444444,\"#bd3786\"],[0.5555555555555556,\"#d8576b\"],[0.6666666666666666,\"#ed7953\"],[0.7777777777777778,\"#fb9f3a\"],[0.8888888888888888,\"#fdca26\"],[1.0,\"#f0f921\"]],\"type\":\"contour\"}],\"contourcarpet\":[{\"colorbar\":{\"outlinewidth\":0,\"ticks\":\"\"},\"type\":\"contourcarpet\"}],\"heatmap\":[{\"colorbar\":{\"outlinewidth\":0,\"ticks\":\"\"},\"colorscale\":[[0.0,\"#0d0887\"],[0.1111111111111111,\"#46039f\"],[0.2222222222222222,\"#7201a8\"],[0.3333333333333333,\"#9c179e\"],[0.4444444444444444,\"#bd3786\"],[0.5555555555555556,\"#d8576b\"],[0.6666666666666666,\"#ed7953\"],[0.7777777777777778,\"#fb9f3a\"],[0.8888888888888888,\"#fdca26\"],[1.0,\"#f0f921\"]],\"type\":\"heatmap\"}],\"heatmapgl\":[{\"colorbar\":{\"outlinewidth\":0,\"ticks\":\"\"},\"colorscale\":[[0.0,\"#0d0887\"],[0.1111111111111111,\"#46039f\"],[0.2222222222222222,\"#7201a8\"],[0.3333333333333333,\"#9c179e\"],[0.4444444444444444,\"#bd3786\"],[0.5555555555555556,\"#d8576b\"],[0.6666666666666666,\"#ed7953\"],[0.7777777777777778,\"#fb9f3a\"],[0.8888888888888888,\"#fdca26\"],[1.0,\"#f0f921\"]],\"type\":\"heatmapgl\"}],\"histogram\":[{\"marker\":{\"pattern\":{\"fillmode\":\"overlay\",\"size\":10,\"solidity\":0.2}},\"type\":\"histogram\"}],\"histogram2d\":[{\"colorbar\":{\"outlinewidth\":0,\"ticks\":\"\"},\"colorscale\":[[0.0,\"#0d0887\"],[0.1111111111111111,\"#46039f\"],[0.2222222222222222,\"#7201a8\"],[0.3333333333333333,\"#9c179e\"],[0.4444444444444444,\"#bd3786\"],[0.5555555555555556,\"#d8576b\"],[0.6666666666666666,\"#ed7953\"],[0.7777777777777778,\"#fb9f3a\"],[0.8888888888888888,\"#fdca26\"],[1.0,\"#f0f921\"]],\"type\":\"histogram2d\"}],\"histogram2dcontour\":[{\"colorbar\":{\"outlinewidth\":0,\"ticks\":\"\"},\"colorscale\":[[0.0,\"#0d0887\"],[0.1111111111111111,\"#46039f\"],[0.2222222222222222,\"#7201a8\"],[0.3333333333333333,\"#9c179e\"],[0.4444444444444444,\"#bd3786\"],[0.5555555555555556,\"#d8576b\"],[0.6666666666666666,\"#ed7953\"],[0.7777777777777778,\"#fb9f3a\"],[0.8888888888888888,\"#fdca26\"],[1.0,\"#f0f921\"]],\"type\":\"histogram2dcontour\"}],\"mesh3d\":[{\"colorbar\":{\"outlinewidth\":0,\"ticks\":\"\"},\"type\":\"mesh3d\"}],\"parcoords\":[{\"line\":{\"colorbar\":{\"outlinewidth\":0,\"ticks\":\"\"}},\"type\":\"parcoords\"}],\"pie\":[{\"automargin\":true,\"type\":\"pie\"}],\"scatter\":[{\"marker\":{\"colorbar\":{\"outlinewidth\":0,\"ticks\":\"\"}},\"type\":\"scatter\"}],\"scatter3d\":[{\"line\":{\"colorbar\":{\"outlinewidth\":0,\"ticks\":\"\"}},\"marker\":{\"colorbar\":{\"outlinewidth\":0,\"ticks\":\"\"}},\"type\":\"scatter3d\"}],\"scattercarpet\":[{\"marker\":{\"colorbar\":{\"outlinewidth\":0,\"ticks\":\"\"}},\"type\":\"scattercarpet\"}],\"scattergeo\":[{\"marker\":{\"colorbar\":{\"outlinewidth\":0,\"ticks\":\"\"}},\"type\":\"scattergeo\"}],\"scattergl\":[{\"marker\":{\"colorbar\":{\"outlinewidth\":0,\"ticks\":\"\"}},\"type\":\"scattergl\"}],\"scattermapbox\":[{\"marker\":{\"colorbar\":{\"outlinewidth\":0,\"ticks\":\"\"}},\"type\":\"scattermapbox\"}],\"scatterpolar\":[{\"marker\":{\"colorbar\":{\"outlinewidth\":0,\"ticks\":\"\"}},\"type\":\"scatterpolar\"}],\"scatterpolargl\":[{\"marker\":{\"colorbar\":{\"outlinewidth\":0,\"ticks\":\"\"}},\"type\":\"scatterpolargl\"}],\"scatterternary\":[{\"marker\":{\"colorbar\":{\"outlinewidth\":0,\"ticks\":\"\"}},\"type\":\"scatterternary\"}],\"surface\":[{\"colorbar\":{\"outlinewidth\":0,\"ticks\":\"\"},\"colorscale\":[[0.0,\"#0d0887\"],[0.1111111111111111,\"#46039f\"],[0.2222222222222222,\"#7201a8\"],[0.3333333333333333,\"#9c179e\"],[0.4444444444444444,\"#bd3786\"],[0.5555555555555556,\"#d8576b\"],[0.6666666666666666,\"#ed7953\"],[0.7777777777777778,\"#fb9f3a\"],[0.8888888888888888,\"#fdca26\"],[1.0,\"#f0f921\"]],\"type\":\"surface\"}],\"table\":[{\"cells\":{\"fill\":{\"color\":\"#EBF0F8\"},\"line\":{\"color\":\"white\"}},\"header\":{\"fill\":{\"color\":\"#C8D4E3\"},\"line\":{\"color\":\"white\"}},\"type\":\"table\"}]},\"layout\":{\"annotationdefaults\":{\"arrowcolor\":\"#2a3f5f\",\"arrowhead\":0,\"arrowwidth\":1},\"autotypenumbers\":\"strict\",\"coloraxis\":{\"colorbar\":{\"outlinewidth\":0,\"ticks\":\"\"}},\"colorscale\":{\"diverging\":[[0,\"#8e0152\"],[0.1,\"#c51b7d\"],[0.2,\"#de77ae\"],[0.3,\"#f1b6da\"],[0.4,\"#fde0ef\"],[0.5,\"#f7f7f7\"],[0.6,\"#e6f5d0\"],[0.7,\"#b8e186\"],[0.8,\"#7fbc41\"],[0.9,\"#4d9221\"],[1,\"#276419\"]],\"sequential\":[[0.0,\"#0d0887\"],[0.1111111111111111,\"#46039f\"],[0.2222222222222222,\"#7201a8\"],[0.3333333333333333,\"#9c179e\"],[0.4444444444444444,\"#bd3786\"],[0.5555555555555556,\"#d8576b\"],[0.6666666666666666,\"#ed7953\"],[0.7777777777777778,\"#fb9f3a\"],[0.8888888888888888,\"#fdca26\"],[1.0,\"#f0f921\"]],\"sequentialminus\":[[0.0,\"#0d0887\"],[0.1111111111111111,\"#46039f\"],[0.2222222222222222,\"#7201a8\"],[0.3333333333333333,\"#9c179e\"],[0.4444444444444444,\"#bd3786\"],[0.5555555555555556,\"#d8576b\"],[0.6666666666666666,\"#ed7953\"],[0.7777777777777778,\"#fb9f3a\"],[0.8888888888888888,\"#fdca26\"],[1.0,\"#f0f921\"]]},\"colorway\":[\"#636efa\",\"#EF553B\",\"#00cc96\",\"#ab63fa\",\"#FFA15A\",\"#19d3f3\",\"#FF6692\",\"#B6E880\",\"#FF97FF\",\"#FECB52\"],\"font\":{\"color\":\"#2a3f5f\"},\"geo\":{\"bgcolor\":\"white\",\"lakecolor\":\"white\",\"landcolor\":\"#E5ECF6\",\"showlakes\":true,\"showland\":true,\"subunitcolor\":\"white\"},\"hoverlabel\":{\"align\":\"left\"},\"hovermode\":\"closest\",\"mapbox\":{\"style\":\"light\"},\"paper_bgcolor\":\"white\",\"plot_bgcolor\":\"#E5ECF6\",\"polar\":{\"angularaxis\":{\"gridcolor\":\"white\",\"linecolor\":\"white\",\"ticks\":\"\"},\"bgcolor\":\"#E5ECF6\",\"radialaxis\":{\"gridcolor\":\"white\",\"linecolor\":\"white\",\"ticks\":\"\"}},\"scene\":{\"xaxis\":{\"backgroundcolor\":\"#E5ECF6\",\"gridcolor\":\"white\",\"gridwidth\":2,\"linecolor\":\"white\",\"showbackground\":true,\"ticks\":\"\",\"zerolinecolor\":\"white\"},\"yaxis\":{\"backgroundcolor\":\"#E5ECF6\",\"gridcolor\":\"white\",\"gridwidth\":2,\"linecolor\":\"white\",\"showbackground\":true,\"ticks\":\"\",\"zerolinecolor\":\"white\"},\"zaxis\":{\"backgroundcolor\":\"#E5ECF6\",\"gridcolor\":\"white\",\"gridwidth\":2,\"linecolor\":\"white\",\"showbackground\":true,\"ticks\":\"\",\"zerolinecolor\":\"white\"}},\"shapedefaults\":{\"line\":{\"color\":\"#2a3f5f\"}},\"ternary\":{\"aaxis\":{\"gridcolor\":\"white\",\"linecolor\":\"white\",\"ticks\":\"\"},\"baxis\":{\"gridcolor\":\"white\",\"linecolor\":\"white\",\"ticks\":\"\"},\"bgcolor\":\"#E5ECF6\",\"caxis\":{\"gridcolor\":\"white\",\"linecolor\":\"white\",\"ticks\":\"\"}},\"title\":{\"x\":0.05},\"xaxis\":{\"automargin\":true,\"gridcolor\":\"white\",\"linecolor\":\"white\",\"ticks\":\"\",\"title\":{\"standoff\":15},\"zerolinecolor\":\"white\",\"zerolinewidth\":2},\"yaxis\":{\"automargin\":true,\"gridcolor\":\"white\",\"linecolor\":\"white\",\"ticks\":\"\",\"title\":{\"standoff\":15},\"zerolinecolor\":\"white\",\"zerolinewidth\":2}}},\"title\":{\"text\":\"Trends of top 10 moderately downloaded datasets (cumulative) - raw downloads\"},\"xaxis\":{\"title\":{\"text\":\"date\"}},\"yaxis\":{\"title\":{\"text\":\"number of downloads\"}}},                        {\"responsive\": true}                    ).then(function(){\n",
       "                            \n",
       "var gd = document.getElementById('4cd6d9f8-ef2d-42f1-bd2b-5391d99d7bd4');\n",
       "var x = new MutationObserver(function (mutations, observer) {{\n",
       "        var display = window.getComputedStyle(gd).display;\n",
       "        if (!display || display === 'none') {{\n",
       "            console.log([gd, 'removed!']);\n",
       "            Plotly.purge(gd);\n",
       "            observer.disconnect();\n",
       "        }}\n",
       "}});\n",
       "\n",
       "// Listen for the removal of the full notebook cells\n",
       "var notebookContainer = gd.closest('#notebook-container');\n",
       "if (notebookContainer) {{\n",
       "    x.observe(notebookContainer, {childList: true});\n",
       "}}\n",
       "\n",
       "// Listen for the clearing of the current output cell\n",
       "var outputEl = gd.closest('.output');\n",
       "if (outputEl) {{\n",
       "    x.observe(outputEl, {childList: true});\n",
       "}}\n",
       "\n",
       "                        })                };                });            </script>        </div>"
      ]
     },
     "metadata": {},
     "output_type": "display_data"
    }
   ],
   "source": [
    "top10_raw = top_ds_raw[top_ds_raw['raw downloads'] <25][0:10]\n",
    "active_raw_ids = top10_raw['dataset_id'].tolist()\n",
    "active_raw_names = top10_raw['dataset_name'].tolist()\n",
    "\n",
    "dataset_download_trends(active_raw_ids, active_raw_names, 'Trends of top 10 moderately downloaded datasets (cumulative) - raw downloads')\n"
   ]
  },
  {
   "cell_type": "markdown",
   "id": "89a45767",
   "metadata": {
    "extensions": {
     "jupyter_dashboards": {
      "version": 1,
      "views": {
       "grid_default": {},
       "report_default": {
        "hidden": false
       }
      }
     }
    }
   },
   "source": [
    "##### Lightly downloaded"
   ]
  },
  {
   "cell_type": "code",
   "execution_count": 198,
   "id": "e7d73ed8",
   "metadata": {
    "extensions": {
     "jupyter_dashboards": {
      "version": 1,
      "views": {
       "grid_default": {},
       "report_default": {
        "hidden": false
       }
      }
     }
    }
   },
   "outputs": [
    {
     "data": {
      "application/vnd.plotly.v1+json": {
       "config": {
        "plotlyServerURL": "https://plot.ly"
       },
       "data": [
        {
         "hovertemplate": "<i>Date</i>: %{x}<br>Downloads</i>: %{y}<br><br>%{text}</i>",
         "mode": "lines+markers",
         "text": [
          "Limb muscle — A single-cell transcriptomic atlas characterizes ageing tissues in the mouse",
          "Limb muscle — A single-cell transcriptomic atlas characterizes ageing tissues in the mouse",
          "Limb muscle — A single-cell transcriptomic atlas characterizes ageing tissues in the mouse",
          "Limb muscle — A single-cell transcriptomic atlas characterizes ageing tissues in the mouse",
          "Limb muscle — A single-cell transcriptomic atlas characterizes ageing tissues in the mouse",
          "Limb muscle — A single-cell transcriptomic atlas characterizes ageing tissues in the mouse",
          "Limb muscle — A single-cell transcriptomic atlas characterizes ageing tissues in the mouse",
          "Limb muscle — A single-cell transcriptomic atlas characterizes ageing tissues in the mouse"
         ],
         "type": "scatter",
         "x": [
          "2021-05-10",
          "2021-05-19",
          "2021-05-21",
          "2021-05-23",
          "2021-06-05",
          "2021-06-10",
          "2021-06-15",
          "2021-07-17"
         ],
         "y": [
          1,
          3,
          4,
          5,
          6,
          7,
          8,
          9
         ]
        },
        {
         "hovertemplate": "<i>Date</i>: %{x}<br>Downloads</i>: %{y}<br><br>%{text}</i>",
         "mode": "lines+markers",
         "text": [
          "An integrated transcriptomic and epigenomic atlas of mouse primary motor cortex cell types",
          "An integrated transcriptomic and epigenomic atlas of mouse primary motor cortex cell types",
          "An integrated transcriptomic and epigenomic atlas of mouse primary motor cortex cell types",
          "An integrated transcriptomic and epigenomic atlas of mouse primary motor cortex cell types",
          "An integrated transcriptomic and epigenomic atlas of mouse primary motor cortex cell types",
          "An integrated transcriptomic and epigenomic atlas of mouse primary motor cortex cell types"
         ],
         "type": "scatter",
         "x": [
          "2021-05-21",
          "2021-05-24",
          "2021-06-05",
          "2021-06-09",
          "2021-06-15",
          "2021-07-17"
         ],
         "y": [
          2,
          3,
          5,
          7,
          8,
          9
         ]
        },
        {
         "hovertemplate": "<i>Date</i>: %{x}<br>Downloads</i>: %{y}<br><br>%{text}</i>",
         "mode": "lines+markers",
         "text": [
          "Molecular characterization of selectively vulnerable neurons in Alzheimer's Disease: caudal entorhinal cortex",
          "Molecular characterization of selectively vulnerable neurons in Alzheimer's Disease: caudal entorhinal cortex",
          "Molecular characterization of selectively vulnerable neurons in Alzheimer's Disease: caudal entorhinal cortex",
          "Molecular characterization of selectively vulnerable neurons in Alzheimer's Disease: caudal entorhinal cortex",
          "Molecular characterization of selectively vulnerable neurons in Alzheimer's Disease: caudal entorhinal cortex",
          "Molecular characterization of selectively vulnerable neurons in Alzheimer's Disease: caudal entorhinal cortex",
          "Molecular characterization of selectively vulnerable neurons in Alzheimer's Disease: caudal entorhinal cortex",
          "Molecular characterization of selectively vulnerable neurons in Alzheimer's Disease: caudal entorhinal cortex"
         ],
         "type": "scatter",
         "x": [
          "2021-04-30",
          "2021-06-04",
          "2021-06-05",
          "2021-06-08",
          "2021-06-09",
          "2021-06-15",
          "2021-06-17",
          "2021-07-17"
         ],
         "y": [
          1,
          2,
          4,
          5,
          6,
          7,
          8,
          9
         ]
        },
        {
         "hovertemplate": "<i>Date</i>: %{x}<br>Downloads</i>: %{y}<br><br>%{text}</i>",
         "mode": "lines+markers",
         "text": [
          "Molecular characterization of selectively vulnerable neurons in Alzheimer's Disease: SFG excitatory neurons",
          "Molecular characterization of selectively vulnerable neurons in Alzheimer's Disease: SFG excitatory neurons",
          "Molecular characterization of selectively vulnerable neurons in Alzheimer's Disease: SFG excitatory neurons",
          "Molecular characterization of selectively vulnerable neurons in Alzheimer's Disease: SFG excitatory neurons",
          "Molecular characterization of selectively vulnerable neurons in Alzheimer's Disease: SFG excitatory neurons",
          "Molecular characterization of selectively vulnerable neurons in Alzheimer's Disease: SFG excitatory neurons",
          "Molecular characterization of selectively vulnerable neurons in Alzheimer's Disease: SFG excitatory neurons",
          "Molecular characterization of selectively vulnerable neurons in Alzheimer's Disease: SFG excitatory neurons"
         ],
         "type": "scatter",
         "x": [
          "2021-06-03",
          "2021-06-04",
          "2021-06-05",
          "2021-06-06",
          "2021-06-09",
          "2021-06-15",
          "2021-06-17",
          "2021-07-17"
         ],
         "y": [
          1,
          2,
          4,
          5,
          6,
          7,
          8,
          9
         ]
        },
        {
         "hovertemplate": "<i>Date</i>: %{x}<br>Downloads</i>: %{y}<br><br>%{text}</i>",
         "mode": "lines+markers",
         "text": [
          "Platelet sub_clusters of COVID-19 Immune Altas: Integration of 5 public COVID-19 PBMC single-cell datasets",
          "Platelet sub_clusters of COVID-19 Immune Altas: Integration of 5 public COVID-19 PBMC single-cell datasets",
          "Platelet sub_clusters of COVID-19 Immune Altas: Integration of 5 public COVID-19 PBMC single-cell datasets",
          "Platelet sub_clusters of COVID-19 Immune Altas: Integration of 5 public COVID-19 PBMC single-cell datasets",
          "Platelet sub_clusters of COVID-19 Immune Altas: Integration of 5 public COVID-19 PBMC single-cell datasets",
          "Platelet sub_clusters of COVID-19 Immune Altas: Integration of 5 public COVID-19 PBMC single-cell datasets",
          "Platelet sub_clusters of COVID-19 Immune Altas: Integration of 5 public COVID-19 PBMC single-cell datasets",
          "Platelet sub_clusters of COVID-19 Immune Altas: Integration of 5 public COVID-19 PBMC single-cell datasets"
         ],
         "type": "scatter",
         "x": [
          "2021-06-15",
          "2021-07-02",
          "2021-07-03",
          "2021-07-09",
          "2021-07-14",
          "2021-07-17",
          "2021-07-23",
          "2021-07-30"
         ],
         "y": [
          1,
          2,
          3,
          5,
          6,
          7,
          8,
          9
         ]
        },
        {
         "hovertemplate": "<i>Date</i>: %{x}<br>Downloads</i>: %{y}<br><br>%{text}</i>",
         "mode": "lines+markers",
         "text": [
          "Heart — A single-cell transcriptomic atlas characterizes ageing tissues in the mouse",
          "Heart — A single-cell transcriptomic atlas characterizes ageing tissues in the mouse",
          "Heart — A single-cell transcriptomic atlas characterizes ageing tissues in the mouse",
          "Heart — A single-cell transcriptomic atlas characterizes ageing tissues in the mouse",
          "Heart — A single-cell transcriptomic atlas characterizes ageing tissues in the mouse",
          "Heart — A single-cell transcriptomic atlas characterizes ageing tissues in the mouse",
          "Heart — A single-cell transcriptomic atlas characterizes ageing tissues in the mouse",
          "Heart — A single-cell transcriptomic atlas characterizes ageing tissues in the mouse",
          "Heart — A single-cell transcriptomic atlas characterizes ageing tissues in the mouse"
         ],
         "type": "scatter",
         "x": [
          "2021-05-10",
          "2021-05-19",
          "2021-05-21",
          "2021-06-05",
          "2021-06-10",
          "2021-06-15",
          "2021-06-28",
          "2021-07-17",
          "2021-08-06"
         ],
         "y": [
          1,
          2,
          3,
          4,
          5,
          6,
          7,
          8,
          9
         ]
        },
        {
         "hovertemplate": "<i>Date</i>: %{x}<br>Downloads</i>: %{y}<br><br>%{text}</i>",
         "mode": "lines+markers",
         "text": [
          "Heart — A single-cell transcriptomic atlas characterizes ageing tissues in the mouse",
          "Heart — A single-cell transcriptomic atlas characterizes ageing tissues in the mouse",
          "Heart — A single-cell transcriptomic atlas characterizes ageing tissues in the mouse",
          "Heart — A single-cell transcriptomic atlas characterizes ageing tissues in the mouse",
          "Heart — A single-cell transcriptomic atlas characterizes ageing tissues in the mouse",
          "Heart — A single-cell transcriptomic atlas characterizes ageing tissues in the mouse",
          "Heart — A single-cell transcriptomic atlas characterizes ageing tissues in the mouse",
          "Heart — A single-cell transcriptomic atlas characterizes ageing tissues in the mouse"
         ],
         "type": "scatter",
         "x": [
          "2021-05-10",
          "2021-05-19",
          "2021-05-21",
          "2021-06-05",
          "2021-06-10",
          "2021-06-15",
          "2021-07-17",
          "2021-08-03"
         ],
         "y": [
          1,
          2,
          3,
          4,
          5,
          6,
          7,
          8
         ]
        },
        {
         "hovertemplate": "<i>Date</i>: %{x}<br>Downloads</i>: %{y}<br><br>%{text}</i>",
         "mode": "lines+markers",
         "text": [
          "Individual Single-Cell RNA-seq PBMC Data from Lee et al.",
          "Individual Single-Cell RNA-seq PBMC Data from Lee et al.",
          "Individual Single-Cell RNA-seq PBMC Data from Lee et al.",
          "Individual Single-Cell RNA-seq PBMC Data from Lee et al.",
          "Individual Single-Cell RNA-seq PBMC Data from Lee et al.",
          "Individual Single-Cell RNA-seq PBMC Data from Lee et al.",
          "Individual Single-Cell RNA-seq PBMC Data from Lee et al.",
          "Individual Single-Cell RNA-seq PBMC Data from Lee et al."
         ],
         "type": "scatter",
         "x": [
          "2021-06-15",
          "2021-07-02",
          "2021-07-09",
          "2021-07-14",
          "2021-07-17",
          "2021-07-23",
          "2021-07-30",
          "2021-08-23"
         ],
         "y": [
          1,
          2,
          3,
          4,
          5,
          6,
          7,
          8
         ]
        },
        {
         "hovertemplate": "<i>Date</i>: %{x}<br>Downloads</i>: %{y}<br><br>%{text}</i>",
         "mode": "lines+markers",
         "text": [
          "Large intestine — A single-cell transcriptomic atlas characterizes ageing tissues in the mouse",
          "Large intestine — A single-cell transcriptomic atlas characterizes ageing tissues in the mouse",
          "Large intestine — A single-cell transcriptomic atlas characterizes ageing tissues in the mouse",
          "Large intestine — A single-cell transcriptomic atlas characterizes ageing tissues in the mouse",
          "Large intestine — A single-cell transcriptomic atlas characterizes ageing tissues in the mouse",
          "Large intestine — A single-cell transcriptomic atlas characterizes ageing tissues in the mouse",
          "Large intestine — A single-cell transcriptomic atlas characterizes ageing tissues in the mouse",
          "Large intestine — A single-cell transcriptomic atlas characterizes ageing tissues in the mouse"
         ],
         "type": "scatter",
         "x": [
          "2021-05-19",
          "2021-05-21",
          "2021-06-05",
          "2021-06-10",
          "2021-06-15",
          "2021-06-28",
          "2021-07-17",
          "2021-08-01"
         ],
         "y": [
          1,
          2,
          3,
          4,
          5,
          6,
          7,
          8
         ]
        },
        {
         "hovertemplate": "<i>Date</i>: %{x}<br>Downloads</i>: %{y}<br><br>%{text}</i>",
         "mode": "lines+markers",
         "text": [
          "Individual Single-Cell RNA-seq PBMC Data from Arunachalam et al.",
          "Individual Single-Cell RNA-seq PBMC Data from Arunachalam et al.",
          "Individual Single-Cell RNA-seq PBMC Data from Arunachalam et al.",
          "Individual Single-Cell RNA-seq PBMC Data from Arunachalam et al.",
          "Individual Single-Cell RNA-seq PBMC Data from Arunachalam et al.",
          "Individual Single-Cell RNA-seq PBMC Data from Arunachalam et al.",
          "Individual Single-Cell RNA-seq PBMC Data from Arunachalam et al.",
          "Individual Single-Cell RNA-seq PBMC Data from Arunachalam et al."
         ],
         "type": "scatter",
         "x": [
          "2021-06-15",
          "2021-07-02",
          "2021-07-09",
          "2021-07-14",
          "2021-07-17",
          "2021-07-23",
          "2021-07-30",
          "2021-08-23"
         ],
         "y": [
          1,
          2,
          3,
          4,
          5,
          6,
          7,
          8
         ]
        }
       ],
       "layout": {
        "showlegend": false,
        "template": {
         "data": {
          "bar": [
           {
            "error_x": {
             "color": "#2a3f5f"
            },
            "error_y": {
             "color": "#2a3f5f"
            },
            "marker": {
             "line": {
              "color": "#E5ECF6",
              "width": 0.5
             },
             "pattern": {
              "fillmode": "overlay",
              "size": 10,
              "solidity": 0.2
             }
            },
            "type": "bar"
           }
          ],
          "barpolar": [
           {
            "marker": {
             "line": {
              "color": "#E5ECF6",
              "width": 0.5
             },
             "pattern": {
              "fillmode": "overlay",
              "size": 10,
              "solidity": 0.2
             }
            },
            "type": "barpolar"
           }
          ],
          "carpet": [
           {
            "aaxis": {
             "endlinecolor": "#2a3f5f",
             "gridcolor": "white",
             "linecolor": "white",
             "minorgridcolor": "white",
             "startlinecolor": "#2a3f5f"
            },
            "baxis": {
             "endlinecolor": "#2a3f5f",
             "gridcolor": "white",
             "linecolor": "white",
             "minorgridcolor": "white",
             "startlinecolor": "#2a3f5f"
            },
            "type": "carpet"
           }
          ],
          "choropleth": [
           {
            "colorbar": {
             "outlinewidth": 0,
             "ticks": ""
            },
            "type": "choropleth"
           }
          ],
          "contour": [
           {
            "colorbar": {
             "outlinewidth": 0,
             "ticks": ""
            },
            "colorscale": [
             [
              0,
              "#0d0887"
             ],
             [
              0.1111111111111111,
              "#46039f"
             ],
             [
              0.2222222222222222,
              "#7201a8"
             ],
             [
              0.3333333333333333,
              "#9c179e"
             ],
             [
              0.4444444444444444,
              "#bd3786"
             ],
             [
              0.5555555555555556,
              "#d8576b"
             ],
             [
              0.6666666666666666,
              "#ed7953"
             ],
             [
              0.7777777777777778,
              "#fb9f3a"
             ],
             [
              0.8888888888888888,
              "#fdca26"
             ],
             [
              1,
              "#f0f921"
             ]
            ],
            "type": "contour"
           }
          ],
          "contourcarpet": [
           {
            "colorbar": {
             "outlinewidth": 0,
             "ticks": ""
            },
            "type": "contourcarpet"
           }
          ],
          "heatmap": [
           {
            "colorbar": {
             "outlinewidth": 0,
             "ticks": ""
            },
            "colorscale": [
             [
              0,
              "#0d0887"
             ],
             [
              0.1111111111111111,
              "#46039f"
             ],
             [
              0.2222222222222222,
              "#7201a8"
             ],
             [
              0.3333333333333333,
              "#9c179e"
             ],
             [
              0.4444444444444444,
              "#bd3786"
             ],
             [
              0.5555555555555556,
              "#d8576b"
             ],
             [
              0.6666666666666666,
              "#ed7953"
             ],
             [
              0.7777777777777778,
              "#fb9f3a"
             ],
             [
              0.8888888888888888,
              "#fdca26"
             ],
             [
              1,
              "#f0f921"
             ]
            ],
            "type": "heatmap"
           }
          ],
          "heatmapgl": [
           {
            "colorbar": {
             "outlinewidth": 0,
             "ticks": ""
            },
            "colorscale": [
             [
              0,
              "#0d0887"
             ],
             [
              0.1111111111111111,
              "#46039f"
             ],
             [
              0.2222222222222222,
              "#7201a8"
             ],
             [
              0.3333333333333333,
              "#9c179e"
             ],
             [
              0.4444444444444444,
              "#bd3786"
             ],
             [
              0.5555555555555556,
              "#d8576b"
             ],
             [
              0.6666666666666666,
              "#ed7953"
             ],
             [
              0.7777777777777778,
              "#fb9f3a"
             ],
             [
              0.8888888888888888,
              "#fdca26"
             ],
             [
              1,
              "#f0f921"
             ]
            ],
            "type": "heatmapgl"
           }
          ],
          "histogram": [
           {
            "marker": {
             "pattern": {
              "fillmode": "overlay",
              "size": 10,
              "solidity": 0.2
             }
            },
            "type": "histogram"
           }
          ],
          "histogram2d": [
           {
            "colorbar": {
             "outlinewidth": 0,
             "ticks": ""
            },
            "colorscale": [
             [
              0,
              "#0d0887"
             ],
             [
              0.1111111111111111,
              "#46039f"
             ],
             [
              0.2222222222222222,
              "#7201a8"
             ],
             [
              0.3333333333333333,
              "#9c179e"
             ],
             [
              0.4444444444444444,
              "#bd3786"
             ],
             [
              0.5555555555555556,
              "#d8576b"
             ],
             [
              0.6666666666666666,
              "#ed7953"
             ],
             [
              0.7777777777777778,
              "#fb9f3a"
             ],
             [
              0.8888888888888888,
              "#fdca26"
             ],
             [
              1,
              "#f0f921"
             ]
            ],
            "type": "histogram2d"
           }
          ],
          "histogram2dcontour": [
           {
            "colorbar": {
             "outlinewidth": 0,
             "ticks": ""
            },
            "colorscale": [
             [
              0,
              "#0d0887"
             ],
             [
              0.1111111111111111,
              "#46039f"
             ],
             [
              0.2222222222222222,
              "#7201a8"
             ],
             [
              0.3333333333333333,
              "#9c179e"
             ],
             [
              0.4444444444444444,
              "#bd3786"
             ],
             [
              0.5555555555555556,
              "#d8576b"
             ],
             [
              0.6666666666666666,
              "#ed7953"
             ],
             [
              0.7777777777777778,
              "#fb9f3a"
             ],
             [
              0.8888888888888888,
              "#fdca26"
             ],
             [
              1,
              "#f0f921"
             ]
            ],
            "type": "histogram2dcontour"
           }
          ],
          "mesh3d": [
           {
            "colorbar": {
             "outlinewidth": 0,
             "ticks": ""
            },
            "type": "mesh3d"
           }
          ],
          "parcoords": [
           {
            "line": {
             "colorbar": {
              "outlinewidth": 0,
              "ticks": ""
             }
            },
            "type": "parcoords"
           }
          ],
          "pie": [
           {
            "automargin": true,
            "type": "pie"
           }
          ],
          "scatter": [
           {
            "marker": {
             "colorbar": {
              "outlinewidth": 0,
              "ticks": ""
             }
            },
            "type": "scatter"
           }
          ],
          "scatter3d": [
           {
            "line": {
             "colorbar": {
              "outlinewidth": 0,
              "ticks": ""
             }
            },
            "marker": {
             "colorbar": {
              "outlinewidth": 0,
              "ticks": ""
             }
            },
            "type": "scatter3d"
           }
          ],
          "scattercarpet": [
           {
            "marker": {
             "colorbar": {
              "outlinewidth": 0,
              "ticks": ""
             }
            },
            "type": "scattercarpet"
           }
          ],
          "scattergeo": [
           {
            "marker": {
             "colorbar": {
              "outlinewidth": 0,
              "ticks": ""
             }
            },
            "type": "scattergeo"
           }
          ],
          "scattergl": [
           {
            "marker": {
             "colorbar": {
              "outlinewidth": 0,
              "ticks": ""
             }
            },
            "type": "scattergl"
           }
          ],
          "scattermapbox": [
           {
            "marker": {
             "colorbar": {
              "outlinewidth": 0,
              "ticks": ""
             }
            },
            "type": "scattermapbox"
           }
          ],
          "scatterpolar": [
           {
            "marker": {
             "colorbar": {
              "outlinewidth": 0,
              "ticks": ""
             }
            },
            "type": "scatterpolar"
           }
          ],
          "scatterpolargl": [
           {
            "marker": {
             "colorbar": {
              "outlinewidth": 0,
              "ticks": ""
             }
            },
            "type": "scatterpolargl"
           }
          ],
          "scatterternary": [
           {
            "marker": {
             "colorbar": {
              "outlinewidth": 0,
              "ticks": ""
             }
            },
            "type": "scatterternary"
           }
          ],
          "surface": [
           {
            "colorbar": {
             "outlinewidth": 0,
             "ticks": ""
            },
            "colorscale": [
             [
              0,
              "#0d0887"
             ],
             [
              0.1111111111111111,
              "#46039f"
             ],
             [
              0.2222222222222222,
              "#7201a8"
             ],
             [
              0.3333333333333333,
              "#9c179e"
             ],
             [
              0.4444444444444444,
              "#bd3786"
             ],
             [
              0.5555555555555556,
              "#d8576b"
             ],
             [
              0.6666666666666666,
              "#ed7953"
             ],
             [
              0.7777777777777778,
              "#fb9f3a"
             ],
             [
              0.8888888888888888,
              "#fdca26"
             ],
             [
              1,
              "#f0f921"
             ]
            ],
            "type": "surface"
           }
          ],
          "table": [
           {
            "cells": {
             "fill": {
              "color": "#EBF0F8"
             },
             "line": {
              "color": "white"
             }
            },
            "header": {
             "fill": {
              "color": "#C8D4E3"
             },
             "line": {
              "color": "white"
             }
            },
            "type": "table"
           }
          ]
         },
         "layout": {
          "annotationdefaults": {
           "arrowcolor": "#2a3f5f",
           "arrowhead": 0,
           "arrowwidth": 1
          },
          "autotypenumbers": "strict",
          "coloraxis": {
           "colorbar": {
            "outlinewidth": 0,
            "ticks": ""
           }
          },
          "colorscale": {
           "diverging": [
            [
             0,
             "#8e0152"
            ],
            [
             0.1,
             "#c51b7d"
            ],
            [
             0.2,
             "#de77ae"
            ],
            [
             0.3,
             "#f1b6da"
            ],
            [
             0.4,
             "#fde0ef"
            ],
            [
             0.5,
             "#f7f7f7"
            ],
            [
             0.6,
             "#e6f5d0"
            ],
            [
             0.7,
             "#b8e186"
            ],
            [
             0.8,
             "#7fbc41"
            ],
            [
             0.9,
             "#4d9221"
            ],
            [
             1,
             "#276419"
            ]
           ],
           "sequential": [
            [
             0,
             "#0d0887"
            ],
            [
             0.1111111111111111,
             "#46039f"
            ],
            [
             0.2222222222222222,
             "#7201a8"
            ],
            [
             0.3333333333333333,
             "#9c179e"
            ],
            [
             0.4444444444444444,
             "#bd3786"
            ],
            [
             0.5555555555555556,
             "#d8576b"
            ],
            [
             0.6666666666666666,
             "#ed7953"
            ],
            [
             0.7777777777777778,
             "#fb9f3a"
            ],
            [
             0.8888888888888888,
             "#fdca26"
            ],
            [
             1,
             "#f0f921"
            ]
           ],
           "sequentialminus": [
            [
             0,
             "#0d0887"
            ],
            [
             0.1111111111111111,
             "#46039f"
            ],
            [
             0.2222222222222222,
             "#7201a8"
            ],
            [
             0.3333333333333333,
             "#9c179e"
            ],
            [
             0.4444444444444444,
             "#bd3786"
            ],
            [
             0.5555555555555556,
             "#d8576b"
            ],
            [
             0.6666666666666666,
             "#ed7953"
            ],
            [
             0.7777777777777778,
             "#fb9f3a"
            ],
            [
             0.8888888888888888,
             "#fdca26"
            ],
            [
             1,
             "#f0f921"
            ]
           ]
          },
          "colorway": [
           "#636efa",
           "#EF553B",
           "#00cc96",
           "#ab63fa",
           "#FFA15A",
           "#19d3f3",
           "#FF6692",
           "#B6E880",
           "#FF97FF",
           "#FECB52"
          ],
          "font": {
           "color": "#2a3f5f"
          },
          "geo": {
           "bgcolor": "white",
           "lakecolor": "white",
           "landcolor": "#E5ECF6",
           "showlakes": true,
           "showland": true,
           "subunitcolor": "white"
          },
          "hoverlabel": {
           "align": "left"
          },
          "hovermode": "closest",
          "mapbox": {
           "style": "light"
          },
          "paper_bgcolor": "white",
          "plot_bgcolor": "#E5ECF6",
          "polar": {
           "angularaxis": {
            "gridcolor": "white",
            "linecolor": "white",
            "ticks": ""
           },
           "bgcolor": "#E5ECF6",
           "radialaxis": {
            "gridcolor": "white",
            "linecolor": "white",
            "ticks": ""
           }
          },
          "scene": {
           "xaxis": {
            "backgroundcolor": "#E5ECF6",
            "gridcolor": "white",
            "gridwidth": 2,
            "linecolor": "white",
            "showbackground": true,
            "ticks": "",
            "zerolinecolor": "white"
           },
           "yaxis": {
            "backgroundcolor": "#E5ECF6",
            "gridcolor": "white",
            "gridwidth": 2,
            "linecolor": "white",
            "showbackground": true,
            "ticks": "",
            "zerolinecolor": "white"
           },
           "zaxis": {
            "backgroundcolor": "#E5ECF6",
            "gridcolor": "white",
            "gridwidth": 2,
            "linecolor": "white",
            "showbackground": true,
            "ticks": "",
            "zerolinecolor": "white"
           }
          },
          "shapedefaults": {
           "line": {
            "color": "#2a3f5f"
           }
          },
          "ternary": {
           "aaxis": {
            "gridcolor": "white",
            "linecolor": "white",
            "ticks": ""
           },
           "baxis": {
            "gridcolor": "white",
            "linecolor": "white",
            "ticks": ""
           },
           "bgcolor": "#E5ECF6",
           "caxis": {
            "gridcolor": "white",
            "linecolor": "white",
            "ticks": ""
           }
          },
          "title": {
           "x": 0.05
          },
          "xaxis": {
           "automargin": true,
           "gridcolor": "white",
           "linecolor": "white",
           "ticks": "",
           "title": {
            "standoff": 15
           },
           "zerolinecolor": "white",
           "zerolinewidth": 2
          },
          "yaxis": {
           "automargin": true,
           "gridcolor": "white",
           "linecolor": "white",
           "ticks": "",
           "title": {
            "standoff": 15
           },
           "zerolinecolor": "white",
           "zerolinewidth": 2
          }
         }
        },
        "title": {
         "text": "Trends of top 10 lightly downloaded datasets (cumulative) - raw downloads"
        },
        "xaxis": {
         "title": {
          "text": "date"
         }
        },
        "yaxis": {
         "title": {
          "text": "number of downloads"
         }
        }
       }
      },
      "text/html": [
       "<div>                            <div id=\"e00042cb-3137-49dc-8af1-891cc606fa13\" class=\"plotly-graph-div\" style=\"height:525px; width:100%;\"></div>            <script type=\"text/javascript\">                require([\"plotly\"], function(Plotly) {                    window.PLOTLYENV=window.PLOTLYENV || {};                                    if (document.getElementById(\"e00042cb-3137-49dc-8af1-891cc606fa13\")) {                    Plotly.newPlot(                        \"e00042cb-3137-49dc-8af1-891cc606fa13\",                        [{\"hovertemplate\":\"<i>Date</i>: %{x}<br>Downloads</i>: %{y}<br><br>%{text}</i>\",\"mode\":\"lines+markers\",\"text\":[\"Limb muscle \\u2014 A single-cell transcriptomic atlas characterizes ageing tissues in the mouse\",\"Limb muscle \\u2014 A single-cell transcriptomic atlas characterizes ageing tissues in the mouse\",\"Limb muscle \\u2014 A single-cell transcriptomic atlas characterizes ageing tissues in the mouse\",\"Limb muscle \\u2014 A single-cell transcriptomic atlas characterizes ageing tissues in the mouse\",\"Limb muscle \\u2014 A single-cell transcriptomic atlas characterizes ageing tissues in the mouse\",\"Limb muscle \\u2014 A single-cell transcriptomic atlas characterizes ageing tissues in the mouse\",\"Limb muscle \\u2014 A single-cell transcriptomic atlas characterizes ageing tissues in the mouse\",\"Limb muscle \\u2014 A single-cell transcriptomic atlas characterizes ageing tissues in the mouse\"],\"type\":\"scatter\",\"x\":[\"2021-05-10\",\"2021-05-19\",\"2021-05-21\",\"2021-05-23\",\"2021-06-05\",\"2021-06-10\",\"2021-06-15\",\"2021-07-17\"],\"y\":[1,3,4,5,6,7,8,9]},{\"hovertemplate\":\"<i>Date</i>: %{x}<br>Downloads</i>: %{y}<br><br>%{text}</i>\",\"mode\":\"lines+markers\",\"text\":[\"An integrated transcriptomic and epigenomic atlas of mouse primary motor cortex cell types\",\"An integrated transcriptomic and epigenomic atlas of mouse primary motor cortex cell types\",\"An integrated transcriptomic and epigenomic atlas of mouse primary motor cortex cell types\",\"An integrated transcriptomic and epigenomic atlas of mouse primary motor cortex cell types\",\"An integrated transcriptomic and epigenomic atlas of mouse primary motor cortex cell types\",\"An integrated transcriptomic and epigenomic atlas of mouse primary motor cortex cell types\"],\"type\":\"scatter\",\"x\":[\"2021-05-21\",\"2021-05-24\",\"2021-06-05\",\"2021-06-09\",\"2021-06-15\",\"2021-07-17\"],\"y\":[2,3,5,7,8,9]},{\"hovertemplate\":\"<i>Date</i>: %{x}<br>Downloads</i>: %{y}<br><br>%{text}</i>\",\"mode\":\"lines+markers\",\"text\":[\"Molecular characterization of selectively vulnerable neurons in Alzheimer's Disease: caudal entorhinal cortex\",\"Molecular characterization of selectively vulnerable neurons in Alzheimer's Disease: caudal entorhinal cortex\",\"Molecular characterization of selectively vulnerable neurons in Alzheimer's Disease: caudal entorhinal cortex\",\"Molecular characterization of selectively vulnerable neurons in Alzheimer's Disease: caudal entorhinal cortex\",\"Molecular characterization of selectively vulnerable neurons in Alzheimer's Disease: caudal entorhinal cortex\",\"Molecular characterization of selectively vulnerable neurons in Alzheimer's Disease: caudal entorhinal cortex\",\"Molecular characterization of selectively vulnerable neurons in Alzheimer's Disease: caudal entorhinal cortex\",\"Molecular characterization of selectively vulnerable neurons in Alzheimer's Disease: caudal entorhinal cortex\"],\"type\":\"scatter\",\"x\":[\"2021-04-30\",\"2021-06-04\",\"2021-06-05\",\"2021-06-08\",\"2021-06-09\",\"2021-06-15\",\"2021-06-17\",\"2021-07-17\"],\"y\":[1,2,4,5,6,7,8,9]},{\"hovertemplate\":\"<i>Date</i>: %{x}<br>Downloads</i>: %{y}<br><br>%{text}</i>\",\"mode\":\"lines+markers\",\"text\":[\"Molecular characterization of selectively vulnerable neurons in Alzheimer's Disease: SFG excitatory neurons\",\"Molecular characterization of selectively vulnerable neurons in Alzheimer's Disease: SFG excitatory neurons\",\"Molecular characterization of selectively vulnerable neurons in Alzheimer's Disease: SFG excitatory neurons\",\"Molecular characterization of selectively vulnerable neurons in Alzheimer's Disease: SFG excitatory neurons\",\"Molecular characterization of selectively vulnerable neurons in Alzheimer's Disease: SFG excitatory neurons\",\"Molecular characterization of selectively vulnerable neurons in Alzheimer's Disease: SFG excitatory neurons\",\"Molecular characterization of selectively vulnerable neurons in Alzheimer's Disease: SFG excitatory neurons\",\"Molecular characterization of selectively vulnerable neurons in Alzheimer's Disease: SFG excitatory neurons\"],\"type\":\"scatter\",\"x\":[\"2021-06-03\",\"2021-06-04\",\"2021-06-05\",\"2021-06-06\",\"2021-06-09\",\"2021-06-15\",\"2021-06-17\",\"2021-07-17\"],\"y\":[1,2,4,5,6,7,8,9]},{\"hovertemplate\":\"<i>Date</i>: %{x}<br>Downloads</i>: %{y}<br><br>%{text}</i>\",\"mode\":\"lines+markers\",\"text\":[\"Platelet sub_clusters of COVID-19 Immune Altas: Integration of 5 public COVID-19 PBMC single-cell datasets\",\"Platelet sub_clusters of COVID-19 Immune Altas: Integration of 5 public COVID-19 PBMC single-cell datasets\",\"Platelet sub_clusters of COVID-19 Immune Altas: Integration of 5 public COVID-19 PBMC single-cell datasets\",\"Platelet sub_clusters of COVID-19 Immune Altas: Integration of 5 public COVID-19 PBMC single-cell datasets\",\"Platelet sub_clusters of COVID-19 Immune Altas: Integration of 5 public COVID-19 PBMC single-cell datasets\",\"Platelet sub_clusters of COVID-19 Immune Altas: Integration of 5 public COVID-19 PBMC single-cell datasets\",\"Platelet sub_clusters of COVID-19 Immune Altas: Integration of 5 public COVID-19 PBMC single-cell datasets\",\"Platelet sub_clusters of COVID-19 Immune Altas: Integration of 5 public COVID-19 PBMC single-cell datasets\"],\"type\":\"scatter\",\"x\":[\"2021-06-15\",\"2021-07-02\",\"2021-07-03\",\"2021-07-09\",\"2021-07-14\",\"2021-07-17\",\"2021-07-23\",\"2021-07-30\"],\"y\":[1,2,3,5,6,7,8,9]},{\"hovertemplate\":\"<i>Date</i>: %{x}<br>Downloads</i>: %{y}<br><br>%{text}</i>\",\"mode\":\"lines+markers\",\"text\":[\"Heart \\u2014 A single-cell transcriptomic atlas characterizes ageing tissues in the mouse\",\"Heart \\u2014 A single-cell transcriptomic atlas characterizes ageing tissues in the mouse\",\"Heart \\u2014 A single-cell transcriptomic atlas characterizes ageing tissues in the mouse\",\"Heart \\u2014 A single-cell transcriptomic atlas characterizes ageing tissues in the mouse\",\"Heart \\u2014 A single-cell transcriptomic atlas characterizes ageing tissues in the mouse\",\"Heart \\u2014 A single-cell transcriptomic atlas characterizes ageing tissues in the mouse\",\"Heart \\u2014 A single-cell transcriptomic atlas characterizes ageing tissues in the mouse\",\"Heart \\u2014 A single-cell transcriptomic atlas characterizes ageing tissues in the mouse\",\"Heart \\u2014 A single-cell transcriptomic atlas characterizes ageing tissues in the mouse\"],\"type\":\"scatter\",\"x\":[\"2021-05-10\",\"2021-05-19\",\"2021-05-21\",\"2021-06-05\",\"2021-06-10\",\"2021-06-15\",\"2021-06-28\",\"2021-07-17\",\"2021-08-06\"],\"y\":[1,2,3,4,5,6,7,8,9]},{\"hovertemplate\":\"<i>Date</i>: %{x}<br>Downloads</i>: %{y}<br><br>%{text}</i>\",\"mode\":\"lines+markers\",\"text\":[\"Heart \\u2014 A single-cell transcriptomic atlas characterizes ageing tissues in the mouse\",\"Heart \\u2014 A single-cell transcriptomic atlas characterizes ageing tissues in the mouse\",\"Heart \\u2014 A single-cell transcriptomic atlas characterizes ageing tissues in the mouse\",\"Heart \\u2014 A single-cell transcriptomic atlas characterizes ageing tissues in the mouse\",\"Heart \\u2014 A single-cell transcriptomic atlas characterizes ageing tissues in the mouse\",\"Heart \\u2014 A single-cell transcriptomic atlas characterizes ageing tissues in the mouse\",\"Heart \\u2014 A single-cell transcriptomic atlas characterizes ageing tissues in the mouse\",\"Heart \\u2014 A single-cell transcriptomic atlas characterizes ageing tissues in the mouse\"],\"type\":\"scatter\",\"x\":[\"2021-05-10\",\"2021-05-19\",\"2021-05-21\",\"2021-06-05\",\"2021-06-10\",\"2021-06-15\",\"2021-07-17\",\"2021-08-03\"],\"y\":[1,2,3,4,5,6,7,8]},{\"hovertemplate\":\"<i>Date</i>: %{x}<br>Downloads</i>: %{y}<br><br>%{text}</i>\",\"mode\":\"lines+markers\",\"text\":[\"Individual Single-Cell RNA-seq PBMC Data from Lee et al.\",\"Individual Single-Cell RNA-seq PBMC Data from Lee et al.\",\"Individual Single-Cell RNA-seq PBMC Data from Lee et al.\",\"Individual Single-Cell RNA-seq PBMC Data from Lee et al.\",\"Individual Single-Cell RNA-seq PBMC Data from Lee et al.\",\"Individual Single-Cell RNA-seq PBMC Data from Lee et al.\",\"Individual Single-Cell RNA-seq PBMC Data from Lee et al.\",\"Individual Single-Cell RNA-seq PBMC Data from Lee et al.\"],\"type\":\"scatter\",\"x\":[\"2021-06-15\",\"2021-07-02\",\"2021-07-09\",\"2021-07-14\",\"2021-07-17\",\"2021-07-23\",\"2021-07-30\",\"2021-08-23\"],\"y\":[1,2,3,4,5,6,7,8]},{\"hovertemplate\":\"<i>Date</i>: %{x}<br>Downloads</i>: %{y}<br><br>%{text}</i>\",\"mode\":\"lines+markers\",\"text\":[\"Large intestine \\u2014 A single-cell transcriptomic atlas characterizes ageing tissues in the mouse\",\"Large intestine \\u2014 A single-cell transcriptomic atlas characterizes ageing tissues in the mouse\",\"Large intestine \\u2014 A single-cell transcriptomic atlas characterizes ageing tissues in the mouse\",\"Large intestine \\u2014 A single-cell transcriptomic atlas characterizes ageing tissues in the mouse\",\"Large intestine \\u2014 A single-cell transcriptomic atlas characterizes ageing tissues in the mouse\",\"Large intestine \\u2014 A single-cell transcriptomic atlas characterizes ageing tissues in the mouse\",\"Large intestine \\u2014 A single-cell transcriptomic atlas characterizes ageing tissues in the mouse\",\"Large intestine \\u2014 A single-cell transcriptomic atlas characterizes ageing tissues in the mouse\"],\"type\":\"scatter\",\"x\":[\"2021-05-19\",\"2021-05-21\",\"2021-06-05\",\"2021-06-10\",\"2021-06-15\",\"2021-06-28\",\"2021-07-17\",\"2021-08-01\"],\"y\":[1,2,3,4,5,6,7,8]},{\"hovertemplate\":\"<i>Date</i>: %{x}<br>Downloads</i>: %{y}<br><br>%{text}</i>\",\"mode\":\"lines+markers\",\"text\":[\"Individual Single-Cell RNA-seq PBMC Data from Arunachalam et al.\",\"Individual Single-Cell RNA-seq PBMC Data from Arunachalam et al.\",\"Individual Single-Cell RNA-seq PBMC Data from Arunachalam et al.\",\"Individual Single-Cell RNA-seq PBMC Data from Arunachalam et al.\",\"Individual Single-Cell RNA-seq PBMC Data from Arunachalam et al.\",\"Individual Single-Cell RNA-seq PBMC Data from Arunachalam et al.\",\"Individual Single-Cell RNA-seq PBMC Data from Arunachalam et al.\",\"Individual Single-Cell RNA-seq PBMC Data from Arunachalam et al.\"],\"type\":\"scatter\",\"x\":[\"2021-06-15\",\"2021-07-02\",\"2021-07-09\",\"2021-07-14\",\"2021-07-17\",\"2021-07-23\",\"2021-07-30\",\"2021-08-23\"],\"y\":[1,2,3,4,5,6,7,8]}],                        {\"showlegend\":false,\"template\":{\"data\":{\"bar\":[{\"error_x\":{\"color\":\"#2a3f5f\"},\"error_y\":{\"color\":\"#2a3f5f\"},\"marker\":{\"line\":{\"color\":\"#E5ECF6\",\"width\":0.5},\"pattern\":{\"fillmode\":\"overlay\",\"size\":10,\"solidity\":0.2}},\"type\":\"bar\"}],\"barpolar\":[{\"marker\":{\"line\":{\"color\":\"#E5ECF6\",\"width\":0.5},\"pattern\":{\"fillmode\":\"overlay\",\"size\":10,\"solidity\":0.2}},\"type\":\"barpolar\"}],\"carpet\":[{\"aaxis\":{\"endlinecolor\":\"#2a3f5f\",\"gridcolor\":\"white\",\"linecolor\":\"white\",\"minorgridcolor\":\"white\",\"startlinecolor\":\"#2a3f5f\"},\"baxis\":{\"endlinecolor\":\"#2a3f5f\",\"gridcolor\":\"white\",\"linecolor\":\"white\",\"minorgridcolor\":\"white\",\"startlinecolor\":\"#2a3f5f\"},\"type\":\"carpet\"}],\"choropleth\":[{\"colorbar\":{\"outlinewidth\":0,\"ticks\":\"\"},\"type\":\"choropleth\"}],\"contour\":[{\"colorbar\":{\"outlinewidth\":0,\"ticks\":\"\"},\"colorscale\":[[0.0,\"#0d0887\"],[0.1111111111111111,\"#46039f\"],[0.2222222222222222,\"#7201a8\"],[0.3333333333333333,\"#9c179e\"],[0.4444444444444444,\"#bd3786\"],[0.5555555555555556,\"#d8576b\"],[0.6666666666666666,\"#ed7953\"],[0.7777777777777778,\"#fb9f3a\"],[0.8888888888888888,\"#fdca26\"],[1.0,\"#f0f921\"]],\"type\":\"contour\"}],\"contourcarpet\":[{\"colorbar\":{\"outlinewidth\":0,\"ticks\":\"\"},\"type\":\"contourcarpet\"}],\"heatmap\":[{\"colorbar\":{\"outlinewidth\":0,\"ticks\":\"\"},\"colorscale\":[[0.0,\"#0d0887\"],[0.1111111111111111,\"#46039f\"],[0.2222222222222222,\"#7201a8\"],[0.3333333333333333,\"#9c179e\"],[0.4444444444444444,\"#bd3786\"],[0.5555555555555556,\"#d8576b\"],[0.6666666666666666,\"#ed7953\"],[0.7777777777777778,\"#fb9f3a\"],[0.8888888888888888,\"#fdca26\"],[1.0,\"#f0f921\"]],\"type\":\"heatmap\"}],\"heatmapgl\":[{\"colorbar\":{\"outlinewidth\":0,\"ticks\":\"\"},\"colorscale\":[[0.0,\"#0d0887\"],[0.1111111111111111,\"#46039f\"],[0.2222222222222222,\"#7201a8\"],[0.3333333333333333,\"#9c179e\"],[0.4444444444444444,\"#bd3786\"],[0.5555555555555556,\"#d8576b\"],[0.6666666666666666,\"#ed7953\"],[0.7777777777777778,\"#fb9f3a\"],[0.8888888888888888,\"#fdca26\"],[1.0,\"#f0f921\"]],\"type\":\"heatmapgl\"}],\"histogram\":[{\"marker\":{\"pattern\":{\"fillmode\":\"overlay\",\"size\":10,\"solidity\":0.2}},\"type\":\"histogram\"}],\"histogram2d\":[{\"colorbar\":{\"outlinewidth\":0,\"ticks\":\"\"},\"colorscale\":[[0.0,\"#0d0887\"],[0.1111111111111111,\"#46039f\"],[0.2222222222222222,\"#7201a8\"],[0.3333333333333333,\"#9c179e\"],[0.4444444444444444,\"#bd3786\"],[0.5555555555555556,\"#d8576b\"],[0.6666666666666666,\"#ed7953\"],[0.7777777777777778,\"#fb9f3a\"],[0.8888888888888888,\"#fdca26\"],[1.0,\"#f0f921\"]],\"type\":\"histogram2d\"}],\"histogram2dcontour\":[{\"colorbar\":{\"outlinewidth\":0,\"ticks\":\"\"},\"colorscale\":[[0.0,\"#0d0887\"],[0.1111111111111111,\"#46039f\"],[0.2222222222222222,\"#7201a8\"],[0.3333333333333333,\"#9c179e\"],[0.4444444444444444,\"#bd3786\"],[0.5555555555555556,\"#d8576b\"],[0.6666666666666666,\"#ed7953\"],[0.7777777777777778,\"#fb9f3a\"],[0.8888888888888888,\"#fdca26\"],[1.0,\"#f0f921\"]],\"type\":\"histogram2dcontour\"}],\"mesh3d\":[{\"colorbar\":{\"outlinewidth\":0,\"ticks\":\"\"},\"type\":\"mesh3d\"}],\"parcoords\":[{\"line\":{\"colorbar\":{\"outlinewidth\":0,\"ticks\":\"\"}},\"type\":\"parcoords\"}],\"pie\":[{\"automargin\":true,\"type\":\"pie\"}],\"scatter\":[{\"marker\":{\"colorbar\":{\"outlinewidth\":0,\"ticks\":\"\"}},\"type\":\"scatter\"}],\"scatter3d\":[{\"line\":{\"colorbar\":{\"outlinewidth\":0,\"ticks\":\"\"}},\"marker\":{\"colorbar\":{\"outlinewidth\":0,\"ticks\":\"\"}},\"type\":\"scatter3d\"}],\"scattercarpet\":[{\"marker\":{\"colorbar\":{\"outlinewidth\":0,\"ticks\":\"\"}},\"type\":\"scattercarpet\"}],\"scattergeo\":[{\"marker\":{\"colorbar\":{\"outlinewidth\":0,\"ticks\":\"\"}},\"type\":\"scattergeo\"}],\"scattergl\":[{\"marker\":{\"colorbar\":{\"outlinewidth\":0,\"ticks\":\"\"}},\"type\":\"scattergl\"}],\"scattermapbox\":[{\"marker\":{\"colorbar\":{\"outlinewidth\":0,\"ticks\":\"\"}},\"type\":\"scattermapbox\"}],\"scatterpolar\":[{\"marker\":{\"colorbar\":{\"outlinewidth\":0,\"ticks\":\"\"}},\"type\":\"scatterpolar\"}],\"scatterpolargl\":[{\"marker\":{\"colorbar\":{\"outlinewidth\":0,\"ticks\":\"\"}},\"type\":\"scatterpolargl\"}],\"scatterternary\":[{\"marker\":{\"colorbar\":{\"outlinewidth\":0,\"ticks\":\"\"}},\"type\":\"scatterternary\"}],\"surface\":[{\"colorbar\":{\"outlinewidth\":0,\"ticks\":\"\"},\"colorscale\":[[0.0,\"#0d0887\"],[0.1111111111111111,\"#46039f\"],[0.2222222222222222,\"#7201a8\"],[0.3333333333333333,\"#9c179e\"],[0.4444444444444444,\"#bd3786\"],[0.5555555555555556,\"#d8576b\"],[0.6666666666666666,\"#ed7953\"],[0.7777777777777778,\"#fb9f3a\"],[0.8888888888888888,\"#fdca26\"],[1.0,\"#f0f921\"]],\"type\":\"surface\"}],\"table\":[{\"cells\":{\"fill\":{\"color\":\"#EBF0F8\"},\"line\":{\"color\":\"white\"}},\"header\":{\"fill\":{\"color\":\"#C8D4E3\"},\"line\":{\"color\":\"white\"}},\"type\":\"table\"}]},\"layout\":{\"annotationdefaults\":{\"arrowcolor\":\"#2a3f5f\",\"arrowhead\":0,\"arrowwidth\":1},\"autotypenumbers\":\"strict\",\"coloraxis\":{\"colorbar\":{\"outlinewidth\":0,\"ticks\":\"\"}},\"colorscale\":{\"diverging\":[[0,\"#8e0152\"],[0.1,\"#c51b7d\"],[0.2,\"#de77ae\"],[0.3,\"#f1b6da\"],[0.4,\"#fde0ef\"],[0.5,\"#f7f7f7\"],[0.6,\"#e6f5d0\"],[0.7,\"#b8e186\"],[0.8,\"#7fbc41\"],[0.9,\"#4d9221\"],[1,\"#276419\"]],\"sequential\":[[0.0,\"#0d0887\"],[0.1111111111111111,\"#46039f\"],[0.2222222222222222,\"#7201a8\"],[0.3333333333333333,\"#9c179e\"],[0.4444444444444444,\"#bd3786\"],[0.5555555555555556,\"#d8576b\"],[0.6666666666666666,\"#ed7953\"],[0.7777777777777778,\"#fb9f3a\"],[0.8888888888888888,\"#fdca26\"],[1.0,\"#f0f921\"]],\"sequentialminus\":[[0.0,\"#0d0887\"],[0.1111111111111111,\"#46039f\"],[0.2222222222222222,\"#7201a8\"],[0.3333333333333333,\"#9c179e\"],[0.4444444444444444,\"#bd3786\"],[0.5555555555555556,\"#d8576b\"],[0.6666666666666666,\"#ed7953\"],[0.7777777777777778,\"#fb9f3a\"],[0.8888888888888888,\"#fdca26\"],[1.0,\"#f0f921\"]]},\"colorway\":[\"#636efa\",\"#EF553B\",\"#00cc96\",\"#ab63fa\",\"#FFA15A\",\"#19d3f3\",\"#FF6692\",\"#B6E880\",\"#FF97FF\",\"#FECB52\"],\"font\":{\"color\":\"#2a3f5f\"},\"geo\":{\"bgcolor\":\"white\",\"lakecolor\":\"white\",\"landcolor\":\"#E5ECF6\",\"showlakes\":true,\"showland\":true,\"subunitcolor\":\"white\"},\"hoverlabel\":{\"align\":\"left\"},\"hovermode\":\"closest\",\"mapbox\":{\"style\":\"light\"},\"paper_bgcolor\":\"white\",\"plot_bgcolor\":\"#E5ECF6\",\"polar\":{\"angularaxis\":{\"gridcolor\":\"white\",\"linecolor\":\"white\",\"ticks\":\"\"},\"bgcolor\":\"#E5ECF6\",\"radialaxis\":{\"gridcolor\":\"white\",\"linecolor\":\"white\",\"ticks\":\"\"}},\"scene\":{\"xaxis\":{\"backgroundcolor\":\"#E5ECF6\",\"gridcolor\":\"white\",\"gridwidth\":2,\"linecolor\":\"white\",\"showbackground\":true,\"ticks\":\"\",\"zerolinecolor\":\"white\"},\"yaxis\":{\"backgroundcolor\":\"#E5ECF6\",\"gridcolor\":\"white\",\"gridwidth\":2,\"linecolor\":\"white\",\"showbackground\":true,\"ticks\":\"\",\"zerolinecolor\":\"white\"},\"zaxis\":{\"backgroundcolor\":\"#E5ECF6\",\"gridcolor\":\"white\",\"gridwidth\":2,\"linecolor\":\"white\",\"showbackground\":true,\"ticks\":\"\",\"zerolinecolor\":\"white\"}},\"shapedefaults\":{\"line\":{\"color\":\"#2a3f5f\"}},\"ternary\":{\"aaxis\":{\"gridcolor\":\"white\",\"linecolor\":\"white\",\"ticks\":\"\"},\"baxis\":{\"gridcolor\":\"white\",\"linecolor\":\"white\",\"ticks\":\"\"},\"bgcolor\":\"#E5ECF6\",\"caxis\":{\"gridcolor\":\"white\",\"linecolor\":\"white\",\"ticks\":\"\"}},\"title\":{\"x\":0.05},\"xaxis\":{\"automargin\":true,\"gridcolor\":\"white\",\"linecolor\":\"white\",\"ticks\":\"\",\"title\":{\"standoff\":15},\"zerolinecolor\":\"white\",\"zerolinewidth\":2},\"yaxis\":{\"automargin\":true,\"gridcolor\":\"white\",\"linecolor\":\"white\",\"ticks\":\"\",\"title\":{\"standoff\":15},\"zerolinecolor\":\"white\",\"zerolinewidth\":2}}},\"title\":{\"text\":\"Trends of top 10 lightly downloaded datasets (cumulative) - raw downloads\"},\"xaxis\":{\"title\":{\"text\":\"date\"}},\"yaxis\":{\"title\":{\"text\":\"number of downloads\"}}},                        {\"responsive\": true}                    ).then(function(){\n",
       "                            \n",
       "var gd = document.getElementById('e00042cb-3137-49dc-8af1-891cc606fa13');\n",
       "var x = new MutationObserver(function (mutations, observer) {{\n",
       "        var display = window.getComputedStyle(gd).display;\n",
       "        if (!display || display === 'none') {{\n",
       "            console.log([gd, 'removed!']);\n",
       "            Plotly.purge(gd);\n",
       "            observer.disconnect();\n",
       "        }}\n",
       "}});\n",
       "\n",
       "// Listen for the removal of the full notebook cells\n",
       "var notebookContainer = gd.closest('#notebook-container');\n",
       "if (notebookContainer) {{\n",
       "    x.observe(notebookContainer, {childList: true});\n",
       "}}\n",
       "\n",
       "// Listen for the clearing of the current output cell\n",
       "var outputEl = gd.closest('.output');\n",
       "if (outputEl) {{\n",
       "    x.observe(outputEl, {childList: true});\n",
       "}}\n",
       "\n",
       "                        })                };                });            </script>        </div>"
      ]
     },
     "metadata": {},
     "output_type": "display_data"
    }
   ],
   "source": [
    "top10_raw = top_ds_raw[top_ds_raw['raw downloads'] <10][0:10]\n",
    "active_raw_ids = top10_raw['dataset_id'].tolist()\n",
    "active_raw_names = top10_raw['dataset_name'].tolist()\n",
    "\n",
    "dataset_download_trends(active_raw_ids, active_raw_names, 'Trends of top 10 lightly downloaded datasets (cumulative) - raw downloads')\n"
   ]
  },
  {
   "cell_type": "markdown",
   "id": "6217d9e7",
   "metadata": {},
   "source": [
    "#### Version 2\n",
    "* Actively downloaded: downloaded 9 times or more\n",
    "* Moderately downloaded: downloaded 5 to 8 times\n",
    "* Lightly downloaded: downloaded less than 5 times"
   ]
  },
  {
   "cell_type": "code",
   "execution_count": 199,
   "id": "c5bd2c05",
   "metadata": {},
   "outputs": [
    {
     "ename": "TypeError",
     "evalue": "'int' object is not callable",
     "output_type": "error",
     "traceback": [
      "\u001b[0;31m---------------------------------------------------------------------------\u001b[0m",
      "\u001b[0;31mTypeError\u001b[0m                                 Traceback (most recent call last)",
      "\u001b[0;32m<ipython-input-199-28d0660a930c>\u001b[0m in \u001b[0;36m<module>\u001b[0;34m\u001b[0m\n\u001b[1;32m      1\u001b[0m \u001b[0;31m#len(top_ds_norm[(top_ds_norm['value'] > 4) & (top_ds_norm['value'] < 9)]['dataset_id']) (52)\u001b[0m\u001b[0;34m\u001b[0m\u001b[0;34m\u001b[0m\u001b[0;34m\u001b[0m\u001b[0m\n\u001b[1;32m      2\u001b[0m \u001b[0;31m#len(first_ds_raw[(first_ds_raw['raw downloads'] < 5)]['dataset_id']) (56)\u001b[0m\u001b[0;34m\u001b[0m\u001b[0;34m\u001b[0m\u001b[0;34m\u001b[0m\u001b[0m\n\u001b[0;32m----> 3\u001b[0;31m \u001b[0mlen\u001b[0m\u001b[0;34m(\u001b[0m\u001b[0mfirst_ds_raw\u001b[0m\u001b[0;34m[\u001b[0m\u001b[0;34m(\u001b[0m\u001b[0mfirst_ds_raw\u001b[0m\u001b[0;34m[\u001b[0m\u001b[0;34m'raw downloads'\u001b[0m\u001b[0;34m]\u001b[0m \u001b[0;34m>\u001b[0m \u001b[0;36m8\u001b[0m\u001b[0;34m)\u001b[0m\u001b[0;34m]\u001b[0m\u001b[0;34m[\u001b[0m\u001b[0;34m'dataset_id'\u001b[0m\u001b[0;34m]\u001b[0m\u001b[0;34m)\u001b[0m \u001b[0;34m(\u001b[0m\u001b[0;36m49\u001b[0m\u001b[0;34m)\u001b[0m\u001b[0;34m\u001b[0m\u001b[0;34m\u001b[0m\u001b[0m\n\u001b[0m",
      "\u001b[0;31mTypeError\u001b[0m: 'int' object is not callable"
     ]
    }
   ],
   "source": [
    "#len(top_ds_norm[(top_ds_norm['value'] > 4) & (top_ds_norm['value'] < 9)]['dataset_id']) (52)\n",
    "#len(first_ds_raw[(first_ds_raw['raw downloads'] < 5)]['dataset_id']) (56)\n",
    "len(first_ds_raw[(first_ds_raw['raw downloads'] > 8)]['dataset_id']) (49)"
   ]
  },
  {
   "cell_type": "markdown",
   "id": "39f3301b",
   "metadata": {},
   "source": [
    "##### Evaluate download groups"
   ]
  },
  {
   "cell_type": "code",
   "execution_count": null,
   "id": "81e81ab7",
   "metadata": {},
   "outputs": [],
   "source": [
    "# evaluate how to define download groups \n",
    "x = first_ds_raw['raw downloads'].tolist()\n",
    "fig = go.Figure(data=[go.Histogram(x=x)])\n",
    "fig.update_layout(\n",
    "        xaxis_title=\"number of downloads\",\n",
    "        yaxis_title=\"raw downloads\",\n",
    "        showlegend = False\n",
    "    )\n",
    "fig.show()"
   ]
  },
  {
   "cell_type": "markdown",
   "id": "560d8528",
   "metadata": {},
   "source": [
    "##### Actively downloaded"
   ]
  },
  {
   "cell_type": "code",
   "execution_count": null,
   "id": "cfb4b624",
   "metadata": {},
   "outputs": [],
   "source": [
    "top_10_first_raw = first_ds_raw[0:10]\n",
    "active_raw_ids = top_10_first_raw['dataset_id'].tolist()\n",
    "active_raw_names = top_10_first_raw['dataset_name'].tolist()\n",
    "\n",
    "dataset_download_trends(active_raw_ids, active_raw_names, 'Trends of top 10 actively downloaded datasets (cumulative) - raw first downloads')\n"
   ]
  },
  {
   "cell_type": "markdown",
   "id": "a5572154",
   "metadata": {},
   "source": [
    "##### Moderately downloaded"
   ]
  },
  {
   "cell_type": "markdown",
   "id": "dd2b65db",
   "metadata": {},
   "source": [
    "##### Lightly downloaded"
   ]
  },
  {
   "cell_type": "markdown",
   "id": "a53f2716",
   "metadata": {
    "extensions": {
     "jupyter_dashboards": {
      "version": 1,
      "views": {
       "grid_default": {},
       "report_default": {
        "hidden": false
       }
      }
     }
    }
   },
   "source": [
    "### Normalized downloads\n",
    "* Actively downloaded: downloaded more than 10 times\n",
    "* Moderately downloaded: downloaded 6 to 10 times\n",
    "* Lightly downloaded: downloaded 5 or less than times"
   ]
  },
  {
   "cell_type": "markdown",
   "id": "6eac5faa",
   "metadata": {
    "extensions": {
     "jupyter_dashboards": {
      "version": 1,
      "views": {
       "grid_default": {},
       "report_default": {
        "hidden": false
       }
      }
     }
    }
   },
   "source": [
    "#### Evaluate download groups"
   ]
  },
  {
   "cell_type": "code",
   "execution_count": null,
   "id": "58878e62",
   "metadata": {
    "extensions": {
     "jupyter_dashboards": {
      "version": 1,
      "views": {
       "grid_default": {},
       "report_default": {
        "hidden": false
       }
      }
     }
    }
   },
   "outputs": [],
   "source": [
    "# evaluate how to define download groups \n",
    "x = top_ds_norm['value'].tolist()\n",
    "fig = go.Figure(data=[go.Histogram(x=x)])\n",
    "fig.update_layout(\n",
    "        xaxis_title=\"normalized value\",\n",
    "        yaxis_title=\"count\",\n",
    "        showlegend = False\n",
    "    )\n",
    "fig.show()"
   ]
  },
  {
   "cell_type": "markdown",
   "id": "0c7e435c",
   "metadata": {
    "extensions": {
     "jupyter_dashboards": {
      "version": 1,
      "views": {
       "grid_default": {},
       "report_default": {
        "hidden": false
       }
      }
     }
    }
   },
   "source": [
    "##### Actively downloaded"
   ]
  },
  {
   "cell_type": "code",
   "execution_count": null,
   "id": "5430307d",
   "metadata": {
    "extensions": {
     "jupyter_dashboards": {
      "version": 1,
      "views": {
       "grid_default": {},
       "report_default": {
        "hidden": false
       }
      }
     }
    }
   },
   "outputs": [],
   "source": [
    "top10_norm = top_ds_norm[0:10]\n",
    "active_norm_ids = top10_norm['dataset_id'].tolist()\n",
    "active_norm_names = top10_norm['dataset_name'].tolist()\n",
    "\n",
    "dataset_download_trends(active_norm_ids, active_norm_names, 'Trends of top 10 actively downloaded datasets (cumulative) - normalized')\n"
   ]
  },
  {
   "cell_type": "markdown",
   "id": "5d5bc64d",
   "metadata": {
    "extensions": {
     "jupyter_dashboards": {
      "version": 1,
      "views": {
       "grid_default": {},
       "report_default": {
        "hidden": false
       }
      }
     }
    }
   },
   "source": [
    "##### Moderately downloaded"
   ]
  },
  {
   "cell_type": "code",
   "execution_count": null,
   "id": "5abdeba3",
   "metadata": {
    "extensions": {
     "jupyter_dashboards": {
      "version": 1,
      "views": {
       "grid_default": {},
       "report_default": {
        "hidden": false
       }
      }
     }
    }
   },
   "outputs": [],
   "source": [
    "top10_norm = top_ds_norm[top_ds_norm['value'] < 11][0:10]\n",
    "active_norm_ids = top10_norm['dataset_id'].tolist()\n",
    "active_norm_names = top10_norm['dataset_name'].tolist()\n",
    "\n",
    "dataset_download_trends(active_norm_ids, active_norm_names, 'Trends of top 10 moderately downloaded datasets (cumulative) - normalized')\n"
   ]
  },
  {
   "cell_type": "markdown",
   "id": "83cd2ae4",
   "metadata": {
    "extensions": {
     "jupyter_dashboards": {
      "version": 1,
      "views": {
       "grid_default": {},
       "report_default": {
        "hidden": false
       }
      }
     }
    }
   },
   "source": [
    "##### Lightly downloaded"
   ]
  },
  {
   "cell_type": "code",
   "execution_count": null,
   "id": "207e2c2e",
   "metadata": {
    "extensions": {
     "jupyter_dashboards": {
      "version": 1,
      "views": {
       "grid_default": {},
       "report_default": {
        "hidden": false
       }
      }
     }
    }
   },
   "outputs": [],
   "source": [
    "top10_norm = top_ds_norm[top_ds_norm['value'] < 6][0:10]\n",
    "active_norm_ids = top10_norm['dataset_id'].tolist()\n",
    "active_norm_names = top10_norm['dataset_name'].tolist()\n",
    "\n",
    "dataset_download_trends(active_norm_ids, active_norm_names, 'Trends of top 10 moderately downloaded datasets (cumulative) - normalized')\n"
   ]
  },
  {
   "cell_type": "markdown",
   "id": "0d47e489",
   "metadata": {
    "extensions": {
     "jupyter_dashboards": {
      "version": 1,
      "views": {
       "grid_default": {},
       "report_default": {
        "hidden": false
       }
      }
     }
    }
   },
   "source": [
    "## Most active users"
   ]
  },
  {
   "cell_type": "markdown",
   "id": "8a1c97a5",
   "metadata": {
    "extensions": {
     "jupyter_dashboards": {
      "version": 1,
      "views": {
       "grid_default": {},
       "report_default": {
        "hidden": false
       }
      }
     }
    }
   },
   "source": [
    "#### Number of unique users"
   ]
  },
  {
   "cell_type": "code",
   "execution_count": null,
   "id": "58b531ef",
   "metadata": {
    "extensions": {
     "jupyter_dashboards": {
      "version": 1,
      "views": {
       "grid_default": {},
       "report_default": {
        "hidden": false
       }
      }
     }
    }
   },
   "outputs": [],
   "source": [
    "len(combined['remoteip'].drop_duplicates().tolist())"
   ]
  },
  {
   "cell_type": "code",
   "execution_count": null,
   "id": "89374d98",
   "metadata": {
    "extensions": {
     "jupyter_dashboards": {
      "version": 1,
      "views": {
       "grid_default": {},
       "report_default": {
        "hidden": false
       }
      }
     }
    }
   },
   "outputs": [],
   "source": [
    "users = combined[['dataset_id', 'dataset_name','download_dt','remoteip']].drop_duplicates()\n",
    "users['count'] = 1\n",
    "users = users[['remoteip', 'count']].groupby(['remoteip']).sum().reset_index()\n",
    "users= users.sort_values(by=['count'], ascending = False).reset_index(drop = True)\n",
    "users['total'] = users['count'].sum()\n",
    "users['perc'] = round(users['count']/users['total'], 2)\n",
    "users[['remoteip', 'count', 'perc']][:10]"
   ]
  },
  {
   "cell_type": "markdown",
   "id": "ac1b5306",
   "metadata": {
    "extensions": {
     "jupyter_dashboards": {
      "version": 1,
      "views": {
       "grid_default": {},
       "report_default": {
        "hidden": false
       }
      }
     }
    }
   },
   "source": [
    "## Downloads by dataset characteristic (WIP)"
   ]
  },
  {
   "cell_type": "code",
   "execution_count": null,
   "id": "9c0868d2",
   "metadata": {
    "extensions": {
     "jupyter_dashboards": {
      "version": 1,
      "views": {
       "grid_default": {},
       "report_default": {
        "hidden": true
       }
      }
     }
    }
   },
   "outputs": [],
   "source": [
    "def calc_normalized(df, col):\n",
    "    df['total'] = 1\n",
    "    df = df.groupby([col]).sum().reset_index()\n",
    "    df['normalized'] = (df['value']/df['total']).astype(int)\n",
    "    df = df.rename(columns={'count': 'raw downloads'})\n",
    "    df['raw downloads'] = df['raw downloads'].astype(int)\n",
    "    return df\n",
    "\n",
    "def multi_bar_plots(df, col, title):\n",
    "    fig = make_subplots(rows=1, cols=2)\n",
    "\n",
    "    # add traces\n",
    "    fig.add_trace(\n",
    "        go.Bar(name = 'normalized', x=df[col].tolist(), y=df['normalized'].tolist(), \n",
    "                       text=df['normalized'].tolist(), textposition='outside', \n",
    "                       hovertemplate = \n",
    "                            'Category: %{x}'+\n",
    "                            '<br>Value: %{y}<br>'),\n",
    "        row = 1, col = 1\n",
    "        )\n",
    "\n",
    "    fig.add_trace(\n",
    "        go.Bar(name = 'raw downloads', x=df[col].tolist(), y=df['raw downloads'].tolist(), \n",
    "                      text=df['raw downloads'].tolist(), textposition='outside',\n",
    "                      hovertemplate = \n",
    "                            'Category: %{x}'+\n",
    "                            '<br>Downloads: %{y}<br>'),\n",
    "        row = 1, col = 2\n",
    "        )\n",
    "\n",
    "    # update xaxis properties\n",
    "    fig.update_xaxes(title_text=col, row = 1, col = 1, tickangle = 35)\n",
    "    fig.update_xaxes(title_text=col, row = 1, col = 2, tickangle = 35)\n",
    "\n",
    "    # update yaxis properties\n",
    "    fig.update_yaxes(title_text='value', row = 1, col = 1)\n",
    "    fig.update_yaxes(title_text='raw downloads', row = 1, col = 2)\n",
    "\n",
    "\n",
    "    fig.update_layout(\n",
    "        title=title,\n",
    "        legend=dict(\n",
    "            x = 0.35, y = -0.4,\n",
    "            orientation = 'h'\n",
    "        ),\n",
    "        autosize=False,\n",
    "        width=1000,\n",
    "        height=750\n",
    "    )\n",
    "    fig.show()\n",
    "\n",
    "def create_multi_barplots(df, col):\n",
    "    output = calc_normalized(df, col)\n",
    "    \n",
    "    output = output.sort_values(by=['raw downloads'], ascending = False)\n",
    "    title = 'Downloads by ' + col\n",
    "    \n",
    "    multi_bar_plots(output, col, title)"
   ]
  },
  {
   "cell_type": "code",
   "execution_count": null,
   "id": "30023163",
   "metadata": {
    "extensions": {
     "jupyter_dashboards": {
      "version": 1,
      "views": {
       "grid_default": {},
       "report_default": {
        "hidden": true
       }
      }
     }
    }
   },
   "outputs": [],
   "source": [
    "df_char = downloads.groupby(['dataset_id']).sum().reset_index()\n",
    "df_char = datasets_df.merge(df_char, how = 'left', on = 'dataset_id')\n",
    "\n",
    "df_char['date_since'] = df_char['dataset_dt']\n",
    "df_char.loc[df_char['dataset_dt'] < '2021-04-22', 'date_since'] = datetime.datetime(2021, 4, 27)\n",
    "df_char['date_since'] = df_char['date_since'].dt.date\n",
    "\n",
    "df_char['days_on_platform'] = datetime.date.today() - df_char['date_since']\n",
    "df_char['days_on_platform'] = df_char['days_on_platform'].dt.days\n",
    "df_char['value'] = (df_char['count']/df_char['days_on_platform'])*100\n"
   ]
  },
  {
   "cell_type": "code",
   "execution_count": null,
   "id": "0d8ed589",
   "metadata": {
    "extensions": {
     "jupyter_dashboards": {
      "version": 1,
      "views": {
       "grid_default": {},
       "report_default": {
        "hidden": false
       }
      }
     }
    }
   },
   "outputs": [],
   "source": [
    "# assay\n",
    "df_assay = df_char[['assay', 'count', 'value']].explode('assay').reset_index(drop = True) \n",
    "df_assay['assay'] = df_assay['assay'].str.replace(' sequencing', '')\n",
    "df_assay['assay'] = df_assay['assay'].str.replace('X', 'x')\n",
    "df_assay['assay'] = df_assay['assay'].str.replace('Seq', 'seq')\n",
    "df_assay['assay'] = df_assay['assay'].str.replace(' Genomics', '')\n",
    "df_assay['assay'] = df_assay['assay'].str.replace(' Technology', '')\n",
    "df_assay['assay'] = df_assay['assay'].str.replace(' technology', '')\n",
    "\n",
    "df_assay['assay_grouped'] = None\n",
    "df_assay.loc[df_assay['assay'].isin(['10x', '10x 3\\' v2', '10x 3\\' v3', '10x 5\\' v1', '10x 5\\' v3', '10x v2', '10x v3']), 'assay_grouped'] = '10x RNA-seq'\n",
    "df_assay.loc[df_assay['assay'].isin(['Smart-seq', 'Smart-seq2', 'Smart-seq2 protocol']), 'assay_grouped'] = 'SS2'\n",
    "df_assay.loc[df_assay['assay'].isin(['Drop-seq', 'microwell-seq', 'scRNA-seq', 'sci-RNA-seq', 'sci-plex', 'seq-Well']), 'assay_grouped'] = 'Other RNA-seq'\n",
    "df_assay.loc[df_assay['assay'].isin(['ATAC 10x v1', 'scATAC-seq']), 'assay_grouped'] = 'ATAC-seq'\n",
    "df_assay.loc[df_assay['assay'].isin(['CITE-seq']), 'assay_grouped'] = 'CITE-seq'\n",
    "df_assay.loc[df_assay['assay'].isin(['MERFISH', 'Visium Spatial Gene Expression']), 'assay_grouped'] = 'Spatial gene expression'\n",
    "\n",
    "df_assay['assay'] = df_assay['assay_grouped']\n",
    "create_multi_barplots(df_assay, 'assay')"
   ]
  },
  {
   "cell_type": "code",
   "execution_count": null,
   "id": "3f5333e4",
   "metadata": {
    "extensions": {
     "jupyter_dashboards": {
      "version": 1,
      "views": {
       "grid_default": {},
       "report_default": {
        "hidden": false
       }
      }
     }
    }
   },
   "outputs": [],
   "source": [
    "# disease\n",
    "df_disease = df_char[['disease', 'count', 'value']].explode('disease').reset_index(drop = True) \n",
    "df_disease['disease'] = df_disease['disease'].str.replace('Normal', 'normal')\n",
    "\n",
    "create_multi_barplots(df_disease, 'disease')"
   ]
  },
  {
   "cell_type": "code",
   "execution_count": null,
   "id": "b63c0481",
   "metadata": {
    "extensions": {
     "jupyter_dashboards": {
      "version": 1,
      "views": {
       "grid_default": {},
       "report_default": {
        "hidden": false
       }
      }
     }
    }
   },
   "outputs": [],
   "source": [
    "# ethnicity\n",
    "df_ethnicity = df_char[['ethnicity', 'count', 'value']].explode('ethnicity').reset_index(drop = True) \n",
    "to_change = ['East Asian', 'Chinese', 'Han Asian']\n",
    "for label in to_change:\n",
    "    df_ethnicity['ethnicity'] = df_ethnicity['ethnicity'].str.replace(label, 'Asian')\n",
    "    df_ethnicity['ethnicity'] = df_ethnicity['ethnicity'].str.replace('Finnish', 'European')\n",
    "    df_ethnicity.loc[df_ethnicity['ethnicity']=='male', 'ethnicity'] = 'unknown'\n",
    "    df_ethnicity.loc[df_ethnicity['ethnicity']=='na', 'ethnicity'] = 'non-human'\n",
    "\n",
    "create_multi_barplots(df_ethnicity, 'ethnicity')"
   ]
  },
  {
   "cell_type": "code",
   "execution_count": null,
   "id": "29bcdc27",
   "metadata": {
    "extensions": {
     "jupyter_dashboards": {
      "version": 1,
      "views": {
       "grid_default": {},
       "report_default": {
        "hidden": true
       }
      }
     }
    }
   },
   "outputs": [],
   "source": [
    "# development stage\n",
    "df_development_stage = df_char[['development_stage', 'count', 'value']].explode('development_stage').reset_index(drop = True)\n",
    "\n",
    "df_development_stage['development_stage'] = df_development_stage['development_stage'].str.replace('human adult stage', 'adult')\n",
    "df_development_stage['development_stage'] = df_development_stage['development_stage'].str.replace('developmental stage', 'unknown')\n",
    "df_development_stage.loc[df_development_stage['development_stage'].str.contains('post-fertilization'), 'development_stage'] = 'fetal stage'\n",
    "df_development_stage.loc[df_development_stage['development_stage'].str.match(r'[0-9]-year-old human stage'), 'development_stage'] = '<10 human stage'\n",
    "df_development_stage.loc[df_development_stage['development_stage'].str.match(r'1[0-9]-year-old human stage'), 'development_stage'] = '10s human stage'\n",
    "df_development_stage.loc[df_development_stage['development_stage'].str.match(r'2[0-9]-year-old human stage'), 'development_stage'] = '20s human stage'\n",
    "df_development_stage.loc[df_development_stage['development_stage'].str.match(r'3[0-9]-year-old human stage'), 'development_stage'] = '30s human stage'\n",
    "df_development_stage.loc[df_development_stage['development_stage'].str.match(r'4[0-9]-year-old human stage'), 'development_stage'] = '40s human stage'\n",
    "df_development_stage.loc[df_development_stage['development_stage'].str.match(r'5[0-9]-year-old human stage'), 'development_stage'] = '50s human stage'\n",
    "df_development_stage.loc[df_development_stage['development_stage'].str.match(r'6[0-9]-year-old human stage'), 'development_stage'] = '60s human stage'\n",
    "df_development_stage.loc[df_development_stage['development_stage'].str.match(r'7[0-9]-year-old human stage'), 'development_stage'] = '70s human stage'\n",
    "df_development_stage.loc[df_development_stage['development_stage'].str.match(r'8[0-9]-year-old human stage'), 'development_stage'] = '80s human stage'\n",
    "df_development_stage.loc[df_development_stage['development_stage'].str.match(r'9[0-9]-year-old human stage'), 'development_stage'] = '90s human stage'\n",
    "\n",
    "df_development_stage.loc[df_development_stage['development_stage']=='embryonic human stage', 'order'] = 'ranka'\n",
    "df_development_stage.loc[df_development_stage['development_stage']=='fetal stage', 'order'] = 'rankb'\n",
    "df_development_stage.loc[df_development_stage['development_stage']=='newborn human stage', 'order'] = 'rankc'\n",
    "df_development_stage.loc[df_development_stage['development_stage']=='infant stage', 'order'] = 'rankd'\n",
    "df_development_stage.loc[df_development_stage['development_stage']=='child stage', 'order'] = 'ranke'\n",
    "df_development_stage.loc[df_development_stage['development_stage']=='<10 human stage', 'order'] = 'rankf'\n",
    "df_development_stage.loc[df_development_stage['development_stage']=='10s human stage', 'order'] = 'rankg'\n",
    "df_development_stage.loc[df_development_stage['development_stage']=='20s human stage', 'order'] = 'rankh'\n",
    "df_development_stage.loc[df_development_stage['development_stage']=='30s human stage', 'order'] = 'rankj'\n",
    "df_development_stage.loc[df_development_stage['development_stage']=='40s human stage', 'order'] = 'rankk'\n",
    "df_development_stage.loc[df_development_stage['development_stage']=='50s human stage', 'order'] = 'rankl'\n",
    "df_development_stage.loc[df_development_stage['development_stage']=='60s human stage', 'order'] = 'rankm'\n",
    "df_development_stage.loc[df_development_stage['development_stage']=='70s human stage', 'order'] = 'rankn'\n",
    "df_development_stage.loc[df_development_stage['development_stage']=='80s human stage', 'order'] = 'ranko'\n",
    "df_development_stage.loc[df_development_stage['development_stage']=='90s human stage', 'order'] = 'rankp'\n",
    "df_development_stage.loc[df_development_stage['development_stage']=='human early adulthood stage', 'order'] = 'rankq'\n",
    "df_development_stage.loc[df_development_stage['development_stage']=='human late adulthood stage', 'order'] = 'rankr'\n",
    "df_development_stage.loc[df_development_stage['development_stage']=='adult', 'order'] = 'ranks'\n",
    "df_development_stage.loc[df_development_stage['development_stage']=='unknown', 'order'] = 'rankt'\n",
    "\n",
    "df_development_stage['total'] = 1\n",
    "df_development_stage = df_development_stage.groupby(['development_stage', 'order']).sum().reset_index()\n",
    "df_development_stage['normalized'] = (df_development_stage['value']/df_development_stage['total']).astype(int)\n",
    "df_development_stage = df_development_stage.rename(columns={'count': 'raw downloads'})\n",
    "df_development_stage['raw downloads'] = df_development_stage['raw downloads'].astype(int)"
   ]
  },
  {
   "cell_type": "code",
   "execution_count": null,
   "id": "3c1e7fba",
   "metadata": {
    "extensions": {
     "jupyter_dashboards": {
      "version": 1,
      "views": {
       "grid_default": {},
       "report_default": {
        "hidden": false
       }
      }
     }
    }
   },
   "outputs": [],
   "source": [
    "df_ds_nums = df_development_stage[df_development_stage['development_stage'].str.match(r'[<]*[0-9]{2}[s]* human stage')]\n",
    "df_ds_nums = df_ds_nums.sort_values(by=['order'], ascending = True)\n",
    "\n",
    "multi_bar_plots(df_ds_nums, 'development_stage', 'Downloads by development stage (age)')"
   ]
  },
  {
   "cell_type": "code",
   "execution_count": null,
   "id": "17647908",
   "metadata": {
    "extensions": {
     "jupyter_dashboards": {
      "version": 1,
      "views": {
       "grid_default": {},
       "report_default": {
        "hidden": false
       }
      }
     }
    }
   },
   "outputs": [],
   "source": [
    "df_ds_group = df_development_stage[~df_development_stage['development_stage'].str.match(r'[<]*[0-9]{2}[s]* human stage')]\n",
    "df_ds_group = df_ds_group.sort_values(by=['order'], ascending = True)\n",
    "\n",
    "multi_bar_plots(df_ds_group, 'development_stage', 'Downloads by development stage (group)')"
   ]
  },
  {
   "cell_type": "code",
   "execution_count": null,
   "id": "7e02c2e7",
   "metadata": {
    "extensions": {
     "jupyter_dashboards": {
      "version": 1,
      "views": {
       "grid_default": {},
       "report_default": {
        "hidden": true
       }
      }
     }
    }
   },
   "outputs": [],
   "source": [
    "# tissue\n",
    "df_tissue = df_char[['tissue', 'count', 'value']].explode('tissue').reset_index(drop = True) \n",
    "\n",
    "df_tissue['tissue'] = df_tissue['tissue'].str.replace(' \\(cell culture\\)', '')\n",
    "df_tissue['tissue'] = df_tissue['tissue'].str.replace('Blood', 'blood')\n",
    "\n",
    "tissue_output = calc_normalized(df_tissue, 'tissue')\n",
    "\n"
   ]
  },
  {
   "cell_type": "code",
   "execution_count": null,
   "id": "5b49eb2a",
   "metadata": {
    "extensions": {
     "jupyter_dashboards": {
      "version": 1,
      "views": {
       "grid_default": {},
       "report_default": {
        "hidden": false
       }
      }
     }
    }
   },
   "outputs": [],
   "source": [
    "tissue_output = tissue_output.sort_values(by=['raw downloads'], ascending = False)\n",
    "fig = go.Figure([go.Bar(name = 'normalized', x=tissue_output['tissue'].tolist(), \n",
    "                        y=tissue_output['normalized'].tolist(),\n",
    "                        hovertemplate = \n",
    "                            'Category: %{x}'+\n",
    "                            '<br>Value: %{y}<br>')])\n",
    "\n",
    "fig.update_xaxes(title_text='tissue', tickangle = 60)\n",
    "\n",
    "fig.update_yaxes(title_text='value')\n",
    "\n",
    "fig.update_layout(\n",
    "    title='Downloads by tissue',\n",
    "    legend=dict(\n",
    "        x = 0.35, y = -0.4,\n",
    "        orientation = 'h'\n",
    "    ),\n",
    "    autosize=False,\n",
    "    width=1000,\n",
    "    height=750,\n",
    "    showlegend = True\n",
    ")\n",
    "fig.show()\n"
   ]
  },
  {
   "cell_type": "code",
   "execution_count": null,
   "id": "1a839cde",
   "metadata": {
    "extensions": {
     "jupyter_dashboards": {
      "version": 1,
      "views": {
       "grid_default": {},
       "report_default": {
        "hidden": false
       }
      }
     }
    }
   },
   "outputs": [],
   "source": [
    "tissue_output = tissue_output.sort_values(by=['raw downloads'], ascending = False)\n",
    "fig = go.Figure([go.Bar(name = 'raw downloads', x=tissue_output['tissue'].tolist(), \n",
    "                        y=tissue_output['raw downloads'].tolist(), \n",
    "                        hovertemplate = \n",
    "                            'Category: %{x}'+\n",
    "                            '<br>Downloads: %{y}<br>',\n",
    "                        marker_color='rgb(239, 50, 50)')])\n",
    "\n",
    "fig.update_xaxes(title_text='tissue', tickangle = 60)\n",
    "\n",
    "fig.update_yaxes(title_text='raw downloads')\n",
    "\n",
    "fig.update_layout(\n",
    "    title='Downloads by tissue',\n",
    "    legend=dict(\n",
    "        x = 0.35, y = -0.4,\n",
    "        orientation = 'h'\n",
    "    ),\n",
    "    autosize=False,\n",
    "    width=1000,\n",
    "    height=750,\n",
    "    showlegend = True\n",
    ")\n",
    "fig.show()"
   ]
  },
  {
   "cell_type": "code",
   "execution_count": null,
   "id": "5be2a3a3",
   "metadata": {
    "extensions": {
     "jupyter_dashboards": {
      "version": 1,
      "views": {
       "grid_default": {},
       "report_default": {
        "hidden": false
       }
      }
     }
    }
   },
   "outputs": [],
   "source": [
    "# organism\n",
    "df_organism = df_char[['organism', 'count', 'value']].explode('organism').reset_index(drop = True) \n",
    "\n",
    "create_multi_barplots(df_organism, 'organism')"
   ]
  },
  {
   "cell_type": "code",
   "execution_count": null,
   "id": "765706c4",
   "metadata": {
    "extensions": {
     "jupyter_dashboards": {
      "version": 1,
      "views": {
       "grid_default": {},
       "report_default": {
        "hidden": false
       }
      }
     }
    }
   },
   "outputs": [],
   "source": [
    "# sex\n",
    "df_sex = df_char[['sex', 'count', 'value']].explode('sex').reset_index(drop = True) \n",
    "\n",
    "create_multi_barplots(df_sex, 'sex')"
   ]
  },
  {
   "cell_type": "code",
   "execution_count": null,
   "id": "430cafe6",
   "metadata": {
    "extensions": {
     "jupyter_dashboards": {
      "version": 1,
      "views": {
       "grid_default": {},
       "report_default": {
        "hidden": true
       }
      }
     }
    }
   },
   "outputs": [],
   "source": []
  }
 ],
 "metadata": {
  "extensions": {
   "jupyter_dashboards": {
    "activeView": "report_default",
    "version": 1,
    "views": {
     "grid_default": {
      "name": "grid",
      "type": "grid"
     },
     "report_default": {
      "name": "report",
      "type": "report"
     }
    }
   }
  },
  "kernelspec": {
   "display_name": "Python 3",
   "language": "python",
   "name": "python3"
  },
  "language_info": {
   "codemirror_mode": {
    "name": "ipython",
    "version": 3
   },
   "file_extension": ".py",
   "mimetype": "text/x-python",
   "name": "python",
   "nbconvert_exporter": "python",
   "pygments_lexer": "ipython3",
   "version": "3.8.8"
  }
 },
 "nbformat": 4,
 "nbformat_minor": 5
}
